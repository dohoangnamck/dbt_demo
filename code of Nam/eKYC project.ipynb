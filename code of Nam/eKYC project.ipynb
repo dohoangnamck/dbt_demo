{
 "cells": [
  {
   "cell_type": "markdown",
   "id": "1ef283ad",
   "metadata": {},
   "source": [
    "## 1. Import library"
   ]
  },
  {
   "cell_type": "code",
   "execution_count": 365,
   "id": "d07f2906",
   "metadata": {},
   "outputs": [],
   "source": [
    "import pandas as pd\n",
    "from datetime import datetime\n",
    "import matplotlib.pyplot as plt\n",
    "import seaborn as sns\n",
    "import numpy as np"
   ]
  },
  {
   "cell_type": "code",
   "execution_count": 393,
   "id": "7a791a71",
   "metadata": {},
   "outputs": [],
   "source": [
    "data = pd.read_excel('dataset_nam.xlsx') # index_col=0"
   ]
  },
  {
   "cell_type": "code",
   "execution_count": 456,
   "id": "3c6868c5",
   "metadata": {},
   "outputs": [],
   "source": [
    "df1 = data.loc[0:47115]"
   ]
  },
  {
   "cell_type": "code",
   "execution_count": 457,
   "id": "796f6bbd",
   "metadata": {},
   "outputs": [],
   "source": [
    "df = df1"
   ]
  },
  {
   "cell_type": "code",
   "execution_count": 458,
   "id": "ca80bf94",
   "metadata": {
    "scrolled": true
   },
   "outputs": [
    {
     "data": {
      "text/html": [
       "<div>\n",
       "<style scoped>\n",
       "    .dataframe tbody tr th:only-of-type {\n",
       "        vertical-align: middle;\n",
       "    }\n",
       "\n",
       "    .dataframe tbody tr th {\n",
       "        vertical-align: top;\n",
       "    }\n",
       "\n",
       "    .dataframe thead th {\n",
       "        text-align: right;\n",
       "    }\n",
       "</style>\n",
       "<table border=\"1\" class=\"dataframe\">\n",
       "  <thead>\n",
       "    <tr style=\"text-align: right;\">\n",
       "      <th></th>\n",
       "      <th>customer_id</th>\n",
       "      <th>fraud_type</th>\n",
       "      <th>crm_source</th>\n",
       "      <th>crm_channel</th>\n",
       "      <th>install_app_dt</th>\n",
       "      <th>account_created_dt</th>\n",
       "      <th>first_trans</th>\n",
       "      <th>trans_cnt</th>\n",
       "      <th>trans_amt</th>\n",
       "      <th>ocr_dob</th>\n",
       "      <th>...</th>\n",
       "      <th>score_sanity</th>\n",
       "      <th>score_tampering</th>\n",
       "      <th>score_liveness</th>\n",
       "      <th>score_matching</th>\n",
       "      <th>first_trans_amt</th>\n",
       "      <th>click_to_install</th>\n",
       "      <th>install_to_ekyc</th>\n",
       "      <th>ekyc_to_account</th>\n",
       "      <th>account_to_trans</th>\n",
       "      <th>age</th>\n",
       "    </tr>\n",
       "  </thead>\n",
       "  <tbody>\n",
       "    <tr>\n",
       "      <th>0</th>\n",
       "      <td>366593</td>\n",
       "      <td>RISK</td>\n",
       "      <td>Telesale</td>\n",
       "      <td>Telesale</td>\n",
       "      <td>2022-12-05 20:33:20</td>\n",
       "      <td>2022-12-20 08:00:40</td>\n",
       "      <td>NaT</td>\n",
       "      <td>NaN</td>\n",
       "      <td>NaN</td>\n",
       "      <td>2000-12-29</td>\n",
       "      <td>...</td>\n",
       "      <td>0.93</td>\n",
       "      <td>0.92</td>\n",
       "      <td>0.90</td>\n",
       "      <td>0.99</td>\n",
       "      <td>NaN</td>\n",
       "      <td>161</td>\n",
       "      <td>7</td>\n",
       "      <td>8.0</td>\n",
       "      <td>NaN</td>\n",
       "      <td>23</td>\n",
       "    </tr>\n",
       "    <tr>\n",
       "      <th>1</th>\n",
       "      <td>364223</td>\n",
       "      <td>NaN</td>\n",
       "      <td>AccessTrade</td>\n",
       "      <td>Digital Direct Sale</td>\n",
       "      <td>2022-12-13 04:08:36</td>\n",
       "      <td>2022-12-31 01:37:53</td>\n",
       "      <td>NaT</td>\n",
       "      <td>NaN</td>\n",
       "      <td>NaN</td>\n",
       "      <td>2001-12-16</td>\n",
       "      <td>...</td>\n",
       "      <td>0.86</td>\n",
       "      <td>0.88</td>\n",
       "      <td>0.85</td>\n",
       "      <td>0.94</td>\n",
       "      <td>NaN</td>\n",
       "      <td>44</td>\n",
       "      <td>10</td>\n",
       "      <td>8.0</td>\n",
       "      <td>NaN</td>\n",
       "      <td>22</td>\n",
       "    </tr>\n",
       "    <tr>\n",
       "      <th>2</th>\n",
       "      <td>764522</td>\n",
       "      <td>NaN</td>\n",
       "      <td>RB</td>\n",
       "      <td>RB</td>\n",
       "      <td>2022-09-14 14:59:44</td>\n",
       "      <td>NaT</td>\n",
       "      <td>NaT</td>\n",
       "      <td>NaN</td>\n",
       "      <td>NaN</td>\n",
       "      <td>2005-02-01</td>\n",
       "      <td>...</td>\n",
       "      <td>0.99</td>\n",
       "      <td>0.97</td>\n",
       "      <td>0.98</td>\n",
       "      <td>0.88</td>\n",
       "      <td>NaN</td>\n",
       "      <td>64</td>\n",
       "      <td>9</td>\n",
       "      <td>NaN</td>\n",
       "      <td>NaN</td>\n",
       "      <td>18</td>\n",
       "    </tr>\n",
       "    <tr>\n",
       "      <th>3</th>\n",
       "      <td>750091</td>\n",
       "      <td>NaN</td>\n",
       "      <td>Telesale</td>\n",
       "      <td>Telesale</td>\n",
       "      <td>2022-09-07 21:34:16</td>\n",
       "      <td>2022-12-27 03:21:13</td>\n",
       "      <td>NaT</td>\n",
       "      <td>NaN</td>\n",
       "      <td>NaN</td>\n",
       "      <td>2003-01-03</td>\n",
       "      <td>...</td>\n",
       "      <td>0.90</td>\n",
       "      <td>0.86</td>\n",
       "      <td>0.88</td>\n",
       "      <td>0.96</td>\n",
       "      <td>NaN</td>\n",
       "      <td>12</td>\n",
       "      <td>105</td>\n",
       "      <td>6.0</td>\n",
       "      <td>NaN</td>\n",
       "      <td>20</td>\n",
       "    </tr>\n",
       "    <tr>\n",
       "      <th>4</th>\n",
       "      <td>301806</td>\n",
       "      <td>NaN</td>\n",
       "      <td>VNDIRECT</td>\n",
       "      <td>Ecosystem</td>\n",
       "      <td>2022-08-18 21:31:44</td>\n",
       "      <td>2022-12-12 00:35:37</td>\n",
       "      <td>NaT</td>\n",
       "      <td>NaN</td>\n",
       "      <td>NaN</td>\n",
       "      <td>1990-01-06</td>\n",
       "      <td>...</td>\n",
       "      <td>0.90</td>\n",
       "      <td>0.95</td>\n",
       "      <td>0.87</td>\n",
       "      <td>0.92</td>\n",
       "      <td>NaN</td>\n",
       "      <td>30</td>\n",
       "      <td>59</td>\n",
       "      <td>57.0</td>\n",
       "      <td>NaN</td>\n",
       "      <td>33</td>\n",
       "    </tr>\n",
       "    <tr>\n",
       "      <th>...</th>\n",
       "      <td>...</td>\n",
       "      <td>...</td>\n",
       "      <td>...</td>\n",
       "      <td>...</td>\n",
       "      <td>...</td>\n",
       "      <td>...</td>\n",
       "      <td>...</td>\n",
       "      <td>...</td>\n",
       "      <td>...</td>\n",
       "      <td>...</td>\n",
       "      <td>...</td>\n",
       "      <td>...</td>\n",
       "      <td>...</td>\n",
       "      <td>...</td>\n",
       "      <td>...</td>\n",
       "      <td>...</td>\n",
       "      <td>...</td>\n",
       "      <td>...</td>\n",
       "      <td>...</td>\n",
       "      <td>...</td>\n",
       "      <td>...</td>\n",
       "    </tr>\n",
       "    <tr>\n",
       "      <th>47111</th>\n",
       "      <td>478569</td>\n",
       "      <td>FRAUD</td>\n",
       "      <td>FPT_PLAY</td>\n",
       "      <td>Partnership</td>\n",
       "      <td>2022-11-15 17:04:05</td>\n",
       "      <td>2022-12-15 06:22:17</td>\n",
       "      <td>2023-01-09 15:52:50.733</td>\n",
       "      <td>1.0</td>\n",
       "      <td>114330509.0</td>\n",
       "      <td>1996-01-15</td>\n",
       "      <td>...</td>\n",
       "      <td>0.91</td>\n",
       "      <td>0.96</td>\n",
       "      <td>0.96</td>\n",
       "      <td>0.98</td>\n",
       "      <td>114330509.0</td>\n",
       "      <td>222</td>\n",
       "      <td>3</td>\n",
       "      <td>27.0</td>\n",
       "      <td>25.0</td>\n",
       "      <td>27</td>\n",
       "    </tr>\n",
       "    <tr>\n",
       "      <th>47112</th>\n",
       "      <td>560671</td>\n",
       "      <td>NaN</td>\n",
       "      <td>Facebook</td>\n",
       "      <td>Digital Direct Sale</td>\n",
       "      <td>2022-11-06 22:34:42</td>\n",
       "      <td>2022-11-30 16:01:04</td>\n",
       "      <td>NaT</td>\n",
       "      <td>NaN</td>\n",
       "      <td>NaN</td>\n",
       "      <td>2003-04-10</td>\n",
       "      <td>...</td>\n",
       "      <td>1.00</td>\n",
       "      <td>0.91</td>\n",
       "      <td>0.99</td>\n",
       "      <td>0.99</td>\n",
       "      <td>NaN</td>\n",
       "      <td>112</td>\n",
       "      <td>1</td>\n",
       "      <td>23.0</td>\n",
       "      <td>NaN</td>\n",
       "      <td>20</td>\n",
       "    </tr>\n",
       "    <tr>\n",
       "      <th>47113</th>\n",
       "      <td>620729</td>\n",
       "      <td>NaN</td>\n",
       "      <td>Telesale</td>\n",
       "      <td>Telesale</td>\n",
       "      <td>2022-06-18 16:22:47</td>\n",
       "      <td>2022-12-22 02:56:33</td>\n",
       "      <td>2022-12-27 20:14:12.000</td>\n",
       "      <td>1.0</td>\n",
       "      <td>22984874.0</td>\n",
       "      <td>1998-07-12</td>\n",
       "      <td>...</td>\n",
       "      <td>0.95</td>\n",
       "      <td>0.94</td>\n",
       "      <td>1.00</td>\n",
       "      <td>0.90</td>\n",
       "      <td>22984874.0</td>\n",
       "      <td>55</td>\n",
       "      <td>85</td>\n",
       "      <td>102.0</td>\n",
       "      <td>5.0</td>\n",
       "      <td>25</td>\n",
       "    </tr>\n",
       "    <tr>\n",
       "      <th>47114</th>\n",
       "      <td>174853</td>\n",
       "      <td>NaN</td>\n",
       "      <td>RB</td>\n",
       "      <td>RB</td>\n",
       "      <td>2022-07-12 00:02:11</td>\n",
       "      <td>2022-12-23 05:11:14</td>\n",
       "      <td>2022-12-25 07:45:35.000</td>\n",
       "      <td>2.0</td>\n",
       "      <td>453289690.0</td>\n",
       "      <td>1990-10-08</td>\n",
       "      <td>...</td>\n",
       "      <td>0.94</td>\n",
       "      <td>0.91</td>\n",
       "      <td>0.86</td>\n",
       "      <td>0.91</td>\n",
       "      <td>453289690.0</td>\n",
       "      <td>139</td>\n",
       "      <td>162</td>\n",
       "      <td>2.0</td>\n",
       "      <td>2.0</td>\n",
       "      <td>33</td>\n",
       "    </tr>\n",
       "    <tr>\n",
       "      <th>47115</th>\n",
       "      <td>241327</td>\n",
       "      <td>NaN</td>\n",
       "      <td>FPT_PLAY</td>\n",
       "      <td>Partnership</td>\n",
       "      <td>2022-01-25 17:00:23</td>\n",
       "      <td>2022-12-31 21:35:04</td>\n",
       "      <td>NaT</td>\n",
       "      <td>NaN</td>\n",
       "      <td>NaN</td>\n",
       "      <td>1995-02-26</td>\n",
       "      <td>...</td>\n",
       "      <td>0.94</td>\n",
       "      <td>0.91</td>\n",
       "      <td>0.87</td>\n",
       "      <td>0.90</td>\n",
       "      <td>NaN</td>\n",
       "      <td>23</td>\n",
       "      <td>219</td>\n",
       "      <td>121.0</td>\n",
       "      <td>NaN</td>\n",
       "      <td>28</td>\n",
       "    </tr>\n",
       "  </tbody>\n",
       "</table>\n",
       "<p>47116 rows × 25 columns</p>\n",
       "</div>"
      ],
      "text/plain": [
       "       customer_id fraud_type   crm_source          crm_channel  \\\n",
       "0           366593       RISK     Telesale             Telesale   \n",
       "1           364223        NaN  AccessTrade  Digital Direct Sale   \n",
       "2           764522        NaN           RB                   RB   \n",
       "3           750091        NaN     Telesale             Telesale   \n",
       "4           301806        NaN     VNDIRECT            Ecosystem   \n",
       "...            ...        ...          ...                  ...   \n",
       "47111       478569      FRAUD     FPT_PLAY          Partnership   \n",
       "47112       560671        NaN     Facebook  Digital Direct Sale   \n",
       "47113       620729        NaN     Telesale             Telesale   \n",
       "47114       174853        NaN           RB                   RB   \n",
       "47115       241327        NaN     FPT_PLAY          Partnership   \n",
       "\n",
       "           install_app_dt  account_created_dt             first_trans  \\\n",
       "0     2022-12-05 20:33:20 2022-12-20 08:00:40                     NaT   \n",
       "1     2022-12-13 04:08:36 2022-12-31 01:37:53                     NaT   \n",
       "2     2022-09-14 14:59:44                 NaT                     NaT   \n",
       "3     2022-09-07 21:34:16 2022-12-27 03:21:13                     NaT   \n",
       "4     2022-08-18 21:31:44 2022-12-12 00:35:37                     NaT   \n",
       "...                   ...                 ...                     ...   \n",
       "47111 2022-11-15 17:04:05 2022-12-15 06:22:17 2023-01-09 15:52:50.733   \n",
       "47112 2022-11-06 22:34:42 2022-11-30 16:01:04                     NaT   \n",
       "47113 2022-06-18 16:22:47 2022-12-22 02:56:33 2022-12-27 20:14:12.000   \n",
       "47114 2022-07-12 00:02:11 2022-12-23 05:11:14 2022-12-25 07:45:35.000   \n",
       "47115 2022-01-25 17:00:23 2022-12-31 21:35:04                     NaT   \n",
       "\n",
       "       trans_cnt    trans_amt    ocr_dob  ... score_sanity score_tampering  \\\n",
       "0            NaN          NaN 2000-12-29  ...         0.93            0.92   \n",
       "1            NaN          NaN 2001-12-16  ...         0.86            0.88   \n",
       "2            NaN          NaN 2005-02-01  ...         0.99            0.97   \n",
       "3            NaN          NaN 2003-01-03  ...         0.90            0.86   \n",
       "4            NaN          NaN 1990-01-06  ...         0.90            0.95   \n",
       "...          ...          ...        ...  ...          ...             ...   \n",
       "47111        1.0  114330509.0 1996-01-15  ...         0.91            0.96   \n",
       "47112        NaN          NaN 2003-04-10  ...         1.00            0.91   \n",
       "47113        1.0   22984874.0 1998-07-12  ...         0.95            0.94   \n",
       "47114        2.0  453289690.0 1990-10-08  ...         0.94            0.91   \n",
       "47115        NaN          NaN 1995-02-26  ...         0.94            0.91   \n",
       "\n",
       "      score_liveness score_matching first_trans_amt  click_to_install  \\\n",
       "0               0.90           0.99             NaN               161   \n",
       "1               0.85           0.94             NaN                44   \n",
       "2               0.98           0.88             NaN                64   \n",
       "3               0.88           0.96             NaN                12   \n",
       "4               0.87           0.92             NaN                30   \n",
       "...              ...            ...             ...               ...   \n",
       "47111           0.96           0.98     114330509.0               222   \n",
       "47112           0.99           0.99             NaN               112   \n",
       "47113           1.00           0.90      22984874.0                55   \n",
       "47114           0.86           0.91     453289690.0               139   \n",
       "47115           0.87           0.90             NaN                23   \n",
       "\n",
       "       install_to_ekyc  ekyc_to_account  account_to_trans  age  \n",
       "0                    7              8.0               NaN   23  \n",
       "1                   10              8.0               NaN   22  \n",
       "2                    9              NaN               NaN   18  \n",
       "3                  105              6.0               NaN   20  \n",
       "4                   59             57.0               NaN   33  \n",
       "...                ...              ...               ...  ...  \n",
       "47111                3             27.0              25.0   27  \n",
       "47112                1             23.0               NaN   20  \n",
       "47113               85            102.0               5.0   25  \n",
       "47114              162              2.0               2.0   33  \n",
       "47115              219            121.0               NaN   28  \n",
       "\n",
       "[47116 rows x 25 columns]"
      ]
     },
     "execution_count": 458,
     "metadata": {},
     "output_type": "execute_result"
    }
   ],
   "source": [
    "df"
   ]
  },
  {
   "cell_type": "code",
   "execution_count": 459,
   "id": "87ad9317",
   "metadata": {},
   "outputs": [
    {
     "data": {
      "text/html": [
       "<div>\n",
       "<style scoped>\n",
       "    .dataframe tbody tr th:only-of-type {\n",
       "        vertical-align: middle;\n",
       "    }\n",
       "\n",
       "    .dataframe tbody tr th {\n",
       "        vertical-align: top;\n",
       "    }\n",
       "\n",
       "    .dataframe thead th {\n",
       "        text-align: right;\n",
       "    }\n",
       "</style>\n",
       "<table border=\"1\" class=\"dataframe\">\n",
       "  <thead>\n",
       "    <tr style=\"text-align: right;\">\n",
       "      <th></th>\n",
       "      <th>customer_id</th>\n",
       "      <th>fraud_type</th>\n",
       "      <th>crm_source</th>\n",
       "      <th>crm_channel</th>\n",
       "      <th>install_app_dt</th>\n",
       "      <th>account_created_dt</th>\n",
       "      <th>first_trans</th>\n",
       "      <th>trans_cnt</th>\n",
       "      <th>trans_amt</th>\n",
       "      <th>ocr_dob</th>\n",
       "      <th>...</th>\n",
       "      <th>score_sanity</th>\n",
       "      <th>score_tampering</th>\n",
       "      <th>score_liveness</th>\n",
       "      <th>score_matching</th>\n",
       "      <th>first_trans_amt</th>\n",
       "      <th>click_to_install</th>\n",
       "      <th>install_to_ekyc</th>\n",
       "      <th>ekyc_to_account</th>\n",
       "      <th>account_to_trans</th>\n",
       "      <th>age</th>\n",
       "    </tr>\n",
       "  </thead>\n",
       "  <tbody>\n",
       "    <tr>\n",
       "      <th>0</th>\n",
       "      <td>366593</td>\n",
       "      <td>RISK</td>\n",
       "      <td>Telesale</td>\n",
       "      <td>Telesale</td>\n",
       "      <td>2022-12-05 20:33:20</td>\n",
       "      <td>2022-12-20 08:00:40</td>\n",
       "      <td>NaT</td>\n",
       "      <td>NaN</td>\n",
       "      <td>NaN</td>\n",
       "      <td>2000-12-29</td>\n",
       "      <td>...</td>\n",
       "      <td>0.93</td>\n",
       "      <td>0.92</td>\n",
       "      <td>0.90</td>\n",
       "      <td>0.99</td>\n",
       "      <td>NaN</td>\n",
       "      <td>161</td>\n",
       "      <td>7</td>\n",
       "      <td>8.0</td>\n",
       "      <td>NaN</td>\n",
       "      <td>23</td>\n",
       "    </tr>\n",
       "    <tr>\n",
       "      <th>1</th>\n",
       "      <td>364223</td>\n",
       "      <td>NaN</td>\n",
       "      <td>AccessTrade</td>\n",
       "      <td>Digital Direct Sale</td>\n",
       "      <td>2022-12-13 04:08:36</td>\n",
       "      <td>2022-12-31 01:37:53</td>\n",
       "      <td>NaT</td>\n",
       "      <td>NaN</td>\n",
       "      <td>NaN</td>\n",
       "      <td>2001-12-16</td>\n",
       "      <td>...</td>\n",
       "      <td>0.86</td>\n",
       "      <td>0.88</td>\n",
       "      <td>0.85</td>\n",
       "      <td>0.94</td>\n",
       "      <td>NaN</td>\n",
       "      <td>44</td>\n",
       "      <td>10</td>\n",
       "      <td>8.0</td>\n",
       "      <td>NaN</td>\n",
       "      <td>22</td>\n",
       "    </tr>\n",
       "    <tr>\n",
       "      <th>2</th>\n",
       "      <td>764522</td>\n",
       "      <td>NaN</td>\n",
       "      <td>RB</td>\n",
       "      <td>RB</td>\n",
       "      <td>2022-09-14 14:59:44</td>\n",
       "      <td>NaT</td>\n",
       "      <td>NaT</td>\n",
       "      <td>NaN</td>\n",
       "      <td>NaN</td>\n",
       "      <td>2005-02-01</td>\n",
       "      <td>...</td>\n",
       "      <td>0.99</td>\n",
       "      <td>0.97</td>\n",
       "      <td>0.98</td>\n",
       "      <td>0.88</td>\n",
       "      <td>NaN</td>\n",
       "      <td>64</td>\n",
       "      <td>9</td>\n",
       "      <td>NaN</td>\n",
       "      <td>NaN</td>\n",
       "      <td>18</td>\n",
       "    </tr>\n",
       "    <tr>\n",
       "      <th>3</th>\n",
       "      <td>750091</td>\n",
       "      <td>NaN</td>\n",
       "      <td>Telesale</td>\n",
       "      <td>Telesale</td>\n",
       "      <td>2022-09-07 21:34:16</td>\n",
       "      <td>2022-12-27 03:21:13</td>\n",
       "      <td>NaT</td>\n",
       "      <td>NaN</td>\n",
       "      <td>NaN</td>\n",
       "      <td>2003-01-03</td>\n",
       "      <td>...</td>\n",
       "      <td>0.90</td>\n",
       "      <td>0.86</td>\n",
       "      <td>0.88</td>\n",
       "      <td>0.96</td>\n",
       "      <td>NaN</td>\n",
       "      <td>12</td>\n",
       "      <td>105</td>\n",
       "      <td>6.0</td>\n",
       "      <td>NaN</td>\n",
       "      <td>20</td>\n",
       "    </tr>\n",
       "    <tr>\n",
       "      <th>4</th>\n",
       "      <td>301806</td>\n",
       "      <td>NaN</td>\n",
       "      <td>VNDIRECT</td>\n",
       "      <td>Ecosystem</td>\n",
       "      <td>2022-08-18 21:31:44</td>\n",
       "      <td>2022-12-12 00:35:37</td>\n",
       "      <td>NaT</td>\n",
       "      <td>NaN</td>\n",
       "      <td>NaN</td>\n",
       "      <td>1990-01-06</td>\n",
       "      <td>...</td>\n",
       "      <td>0.90</td>\n",
       "      <td>0.95</td>\n",
       "      <td>0.87</td>\n",
       "      <td>0.92</td>\n",
       "      <td>NaN</td>\n",
       "      <td>30</td>\n",
       "      <td>59</td>\n",
       "      <td>57.0</td>\n",
       "      <td>NaN</td>\n",
       "      <td>33</td>\n",
       "    </tr>\n",
       "  </tbody>\n",
       "</table>\n",
       "<p>5 rows × 25 columns</p>\n",
       "</div>"
      ],
      "text/plain": [
       "   customer_id fraud_type   crm_source          crm_channel  \\\n",
       "0       366593       RISK     Telesale             Telesale   \n",
       "1       364223        NaN  AccessTrade  Digital Direct Sale   \n",
       "2       764522        NaN           RB                   RB   \n",
       "3       750091        NaN     Telesale             Telesale   \n",
       "4       301806        NaN     VNDIRECT            Ecosystem   \n",
       "\n",
       "       install_app_dt  account_created_dt first_trans  trans_cnt  trans_amt  \\\n",
       "0 2022-12-05 20:33:20 2022-12-20 08:00:40         NaT        NaN        NaN   \n",
       "1 2022-12-13 04:08:36 2022-12-31 01:37:53         NaT        NaN        NaN   \n",
       "2 2022-09-14 14:59:44                 NaT         NaT        NaN        NaN   \n",
       "3 2022-09-07 21:34:16 2022-12-27 03:21:13         NaT        NaN        NaN   \n",
       "4 2022-08-18 21:31:44 2022-12-12 00:35:37         NaT        NaN        NaN   \n",
       "\n",
       "     ocr_dob  ... score_sanity score_tampering score_liveness score_matching  \\\n",
       "0 2000-12-29  ...         0.93            0.92           0.90           0.99   \n",
       "1 2001-12-16  ...         0.86            0.88           0.85           0.94   \n",
       "2 2005-02-01  ...         0.99            0.97           0.98           0.88   \n",
       "3 2003-01-03  ...         0.90            0.86           0.88           0.96   \n",
       "4 1990-01-06  ...         0.90            0.95           0.87           0.92   \n",
       "\n",
       "  first_trans_amt  click_to_install  install_to_ekyc  ekyc_to_account  \\\n",
       "0             NaN               161                7              8.0   \n",
       "1             NaN                44               10              8.0   \n",
       "2             NaN                64                9              NaN   \n",
       "3             NaN                12              105              6.0   \n",
       "4             NaN                30               59             57.0   \n",
       "\n",
       "   account_to_trans  age  \n",
       "0               NaN   23  \n",
       "1               NaN   22  \n",
       "2               NaN   18  \n",
       "3               NaN   20  \n",
       "4               NaN   33  \n",
       "\n",
       "[5 rows x 25 columns]"
      ]
     },
     "execution_count": 459,
     "metadata": {},
     "output_type": "execute_result"
    }
   ],
   "source": [
    "cols = df.columns\n",
    "df.columns = cols.str.strip().str.lower() #.str.replace(\" \",\"_\")\n",
    "df.head()"
   ]
  },
  {
   "cell_type": "code",
   "execution_count": 460,
   "id": "1fd77558",
   "metadata": {
    "scrolled": false
   },
   "outputs": [
    {
     "data": {
      "text/html": [
       "<div>\n",
       "<style scoped>\n",
       "    .dataframe tbody tr th:only-of-type {\n",
       "        vertical-align: middle;\n",
       "    }\n",
       "\n",
       "    .dataframe tbody tr th {\n",
       "        vertical-align: top;\n",
       "    }\n",
       "\n",
       "    .dataframe thead th {\n",
       "        text-align: right;\n",
       "    }\n",
       "</style>\n",
       "<table border=\"1\" class=\"dataframe\">\n",
       "  <thead>\n",
       "    <tr style=\"text-align: right;\">\n",
       "      <th></th>\n",
       "      <th>customer_id</th>\n",
       "      <th>fraud_type</th>\n",
       "      <th>crm_source</th>\n",
       "      <th>crm_channel</th>\n",
       "      <th>install_app_dt</th>\n",
       "      <th>account_created_dt</th>\n",
       "      <th>first_trans</th>\n",
       "      <th>trans_cnt</th>\n",
       "      <th>trans_amt</th>\n",
       "      <th>ocr_dob</th>\n",
       "      <th>...</th>\n",
       "      <th>score_sanity</th>\n",
       "      <th>score_tampering</th>\n",
       "      <th>score_liveness</th>\n",
       "      <th>score_matching</th>\n",
       "      <th>first_trans_amt</th>\n",
       "      <th>click_to_install</th>\n",
       "      <th>install_to_ekyc</th>\n",
       "      <th>ekyc_to_account</th>\n",
       "      <th>account_to_trans</th>\n",
       "      <th>age</th>\n",
       "    </tr>\n",
       "  </thead>\n",
       "  <tbody>\n",
       "    <tr>\n",
       "      <th>34793</th>\n",
       "      <td>401361</td>\n",
       "      <td>NaN</td>\n",
       "      <td>Google</td>\n",
       "      <td>Digital Direct Sale</td>\n",
       "      <td>2022-12-12 07:04:58</td>\n",
       "      <td>2022-12-31 20:42:53</td>\n",
       "      <td>2022-12-31 22:05:14</td>\n",
       "      <td>2.0</td>\n",
       "      <td>876083131.0</td>\n",
       "      <td>1998-04-05</td>\n",
       "      <td>...</td>\n",
       "      <td>0.97</td>\n",
       "      <td>0.95</td>\n",
       "      <td>0.94</td>\n",
       "      <td>0.89</td>\n",
       "      <td>876083131.0</td>\n",
       "      <td>81</td>\n",
       "      <td>18</td>\n",
       "      <td>1.0</td>\n",
       "      <td>0.0</td>\n",
       "      <td>25</td>\n",
       "    </tr>\n",
       "  </tbody>\n",
       "</table>\n",
       "<p>1 rows × 25 columns</p>\n",
       "</div>"
      ],
      "text/plain": [
       "       customer_id fraud_type crm_source          crm_channel  \\\n",
       "34793       401361        NaN     Google  Digital Direct Sale   \n",
       "\n",
       "           install_app_dt  account_created_dt         first_trans  trans_cnt  \\\n",
       "34793 2022-12-12 07:04:58 2022-12-31 20:42:53 2022-12-31 22:05:14        2.0   \n",
       "\n",
       "         trans_amt    ocr_dob  ... score_sanity score_tampering  \\\n",
       "34793  876083131.0 1998-04-05  ...         0.97            0.95   \n",
       "\n",
       "      score_liveness score_matching first_trans_amt  click_to_install  \\\n",
       "34793           0.94           0.89     876083131.0                81   \n",
       "\n",
       "       install_to_ekyc  ekyc_to_account  account_to_trans  age  \n",
       "34793               18              1.0               0.0   25  \n",
       "\n",
       "[1 rows x 25 columns]"
      ]
     },
     "execution_count": 460,
     "metadata": {},
     "output_type": "execute_result"
    }
   ],
   "source": [
    "df1 = df[df['customer_id']==401361]\n",
    "df1"
   ]
  },
  {
   "cell_type": "code",
   "execution_count": 461,
   "id": "60bd331d",
   "metadata": {},
   "outputs": [],
   "source": [
    "dups = df.duplicated()"
   ]
  },
  {
   "cell_type": "code",
   "execution_count": 462,
   "id": "c3bec0b3",
   "metadata": {},
   "outputs": [
    {
     "data": {
      "text/html": [
       "<div>\n",
       "<style scoped>\n",
       "    .dataframe tbody tr th:only-of-type {\n",
       "        vertical-align: middle;\n",
       "    }\n",
       "\n",
       "    .dataframe tbody tr th {\n",
       "        vertical-align: top;\n",
       "    }\n",
       "\n",
       "    .dataframe thead th {\n",
       "        text-align: right;\n",
       "    }\n",
       "</style>\n",
       "<table border=\"1\" class=\"dataframe\">\n",
       "  <thead>\n",
       "    <tr style=\"text-align: right;\">\n",
       "      <th></th>\n",
       "      <th>customer_id</th>\n",
       "      <th>fraud_type</th>\n",
       "      <th>crm_source</th>\n",
       "      <th>crm_channel</th>\n",
       "      <th>install_app_dt</th>\n",
       "      <th>account_created_dt</th>\n",
       "      <th>first_trans</th>\n",
       "      <th>trans_cnt</th>\n",
       "      <th>trans_amt</th>\n",
       "      <th>ocr_dob</th>\n",
       "      <th>...</th>\n",
       "      <th>score_sanity</th>\n",
       "      <th>score_tampering</th>\n",
       "      <th>score_liveness</th>\n",
       "      <th>score_matching</th>\n",
       "      <th>first_trans_amt</th>\n",
       "      <th>click_to_install</th>\n",
       "      <th>install_to_ekyc</th>\n",
       "      <th>ekyc_to_account</th>\n",
       "      <th>account_to_trans</th>\n",
       "      <th>age</th>\n",
       "    </tr>\n",
       "  </thead>\n",
       "  <tbody>\n",
       "  </tbody>\n",
       "</table>\n",
       "<p>0 rows × 25 columns</p>\n",
       "</div>"
      ],
      "text/plain": [
       "Empty DataFrame\n",
       "Columns: [customer_id, fraud_type, crm_source, crm_channel, install_app_dt, account_created_dt, first_trans, trans_cnt, trans_amt, ocr_dob, ocr_gender, ocr_nationality, input_dob, input_gender, input_nationality, score_sanity, score_tampering, score_liveness, score_matching, first_trans_amt, click_to_install, install_to_ekyc, ekyc_to_account, account_to_trans, age]\n",
       "Index: []\n",
       "\n",
       "[0 rows x 25 columns]"
      ]
     },
     "execution_count": 462,
     "metadata": {},
     "output_type": "execute_result"
    }
   ],
   "source": [
    "df[dups]"
   ]
  },
  {
   "cell_type": "code",
   "execution_count": 463,
   "id": "0cca424f",
   "metadata": {},
   "outputs": [
    {
     "data": {
      "text/plain": [
       "(47116, 25)"
      ]
     },
     "execution_count": 463,
     "metadata": {},
     "output_type": "execute_result"
    }
   ],
   "source": [
    "df.shape"
   ]
  },
  {
   "cell_type": "markdown",
   "id": "469f0849",
   "metadata": {},
   "source": [
    "##  2. Dataset information"
   ]
  },
  {
   "cell_type": "code",
   "execution_count": 464,
   "id": "e97a8760",
   "metadata": {
    "scrolled": true
   },
   "outputs": [
    {
     "name": "stdout",
     "output_type": "stream",
     "text": [
      "<class 'pandas.core.frame.DataFrame'>\n",
      "RangeIndex: 47116 entries, 0 to 47115\n",
      "Data columns (total 25 columns):\n",
      " #   Column              Non-Null Count  Dtype         \n",
      "---  ------              --------------  -----         \n",
      " 0   customer_id         47116 non-null  int64         \n",
      " 1   fraud_type          11336 non-null  object        \n",
      " 2   crm_source          47116 non-null  object        \n",
      " 3   crm_channel         47116 non-null  object        \n",
      " 4   install_app_dt      47116 non-null  datetime64[ns]\n",
      " 5   account_created_dt  32196 non-null  datetime64[ns]\n",
      " 6   first_trans         12239 non-null  datetime64[ns]\n",
      " 7   trans_cnt           12239 non-null  float64       \n",
      " 8   trans_amt           12239 non-null  float64       \n",
      " 9   ocr_dob             47116 non-null  datetime64[ns]\n",
      " 10  ocr_gender          47116 non-null  object        \n",
      " 11  ocr_nationality     47116 non-null  object        \n",
      " 12  input_dob           47116 non-null  datetime64[ns]\n",
      " 13  input_gender        47116 non-null  object        \n",
      " 14  input_nationality   47116 non-null  object        \n",
      " 15  score_sanity        47116 non-null  float64       \n",
      " 16  score_tampering     47116 non-null  float64       \n",
      " 17  score_liveness      47116 non-null  float64       \n",
      " 18  score_matching      47116 non-null  float64       \n",
      " 19  first_trans_amt     12239 non-null  float64       \n",
      " 20  click_to_install    47116 non-null  int64         \n",
      " 21  install_to_ekyc     47116 non-null  int64         \n",
      " 22  ekyc_to_account     32196 non-null  float64       \n",
      " 23  account_to_trans    12239 non-null  float64       \n",
      " 24  age                 47116 non-null  int64         \n",
      "dtypes: datetime64[ns](5), float64(9), int64(4), object(7)\n",
      "memory usage: 9.0+ MB\n"
     ]
    }
   ],
   "source": [
    "df.info()"
   ]
  },
  {
   "cell_type": "code",
   "execution_count": 465,
   "id": "cb1f301d",
   "metadata": {},
   "outputs": [
    {
     "data": {
      "text/plain": [
       "customer_id           47116\n",
       "fraud_type                3\n",
       "crm_source               13\n",
       "crm_channel               5\n",
       "install_app_dt        47045\n",
       "account_created_dt    31846\n",
       "first_trans           12208\n",
       "trans_cnt                 4\n",
       "trans_amt             12239\n",
       "ocr_dob                5998\n",
       "ocr_gender                2\n",
       "ocr_nationality          65\n",
       "input_dob              5998\n",
       "input_gender              2\n",
       "input_nationality        65\n",
       "score_sanity            101\n",
       "score_tampering         101\n",
       "score_liveness          101\n",
       "score_matching          101\n",
       "first_trans_amt       12239\n",
       "click_to_install        363\n",
       "install_to_ekyc         328\n",
       "ekyc_to_account         262\n",
       "account_to_trans        317\n",
       "age                      17\n",
       "dtype: int64"
      ]
     },
     "execution_count": 465,
     "metadata": {},
     "output_type": "execute_result"
    }
   ],
   "source": [
    "# Đếm số lượng số lượng giá trị khác nhau trong mỗi cột\n",
    "df.nunique()"
   ]
  },
  {
   "cell_type": "code",
   "execution_count": 466,
   "id": "39ceefc5",
   "metadata": {},
   "outputs": [
    {
     "data": {
      "text/html": [
       "<div>\n",
       "<style scoped>\n",
       "    .dataframe tbody tr th:only-of-type {\n",
       "        vertical-align: middle;\n",
       "    }\n",
       "\n",
       "    .dataframe tbody tr th {\n",
       "        vertical-align: top;\n",
       "    }\n",
       "\n",
       "    .dataframe thead th {\n",
       "        text-align: right;\n",
       "    }\n",
       "</style>\n",
       "<table border=\"1\" class=\"dataframe\">\n",
       "  <thead>\n",
       "    <tr style=\"text-align: right;\">\n",
       "      <th></th>\n",
       "      <th>customer_id</th>\n",
       "      <th>trans_cnt</th>\n",
       "      <th>trans_amt</th>\n",
       "      <th>score_sanity</th>\n",
       "      <th>score_tampering</th>\n",
       "      <th>score_liveness</th>\n",
       "      <th>score_matching</th>\n",
       "      <th>first_trans_amt</th>\n",
       "      <th>click_to_install</th>\n",
       "      <th>install_to_ekyc</th>\n",
       "      <th>ekyc_to_account</th>\n",
       "      <th>account_to_trans</th>\n",
       "      <th>age</th>\n",
       "    </tr>\n",
       "  </thead>\n",
       "  <tbody>\n",
       "    <tr>\n",
       "      <th>count</th>\n",
       "      <td>47116.000000</td>\n",
       "      <td>12239.000000</td>\n",
       "      <td>1.223900e+04</td>\n",
       "      <td>47116.000000</td>\n",
       "      <td>47116.000000</td>\n",
       "      <td>47116.000000</td>\n",
       "      <td>47116.000000</td>\n",
       "      <td>1.223900e+04</td>\n",
       "      <td>47116.000000</td>\n",
       "      <td>47116.000000</td>\n",
       "      <td>32196.000000</td>\n",
       "      <td>12239.000000</td>\n",
       "      <td>47116.000000</td>\n",
       "    </tr>\n",
       "    <tr>\n",
       "      <th>mean</th>\n",
       "      <td>550737.021245</td>\n",
       "      <td>1.140943</td>\n",
       "      <td>2.915501e+08</td>\n",
       "      <td>0.903352</td>\n",
       "      <td>0.903834</td>\n",
       "      <td>0.903591</td>\n",
       "      <td>0.904463</td>\n",
       "      <td>2.685309e+08</td>\n",
       "      <td>91.391905</td>\n",
       "      <td>45.694032</td>\n",
       "      <td>22.698876</td>\n",
       "      <td>17.146989</td>\n",
       "      <td>26.078848</td>\n",
       "    </tr>\n",
       "    <tr>\n",
       "      <th>std</th>\n",
       "      <td>259879.913479</td>\n",
       "      <td>0.376837</td>\n",
       "      <td>2.569233e+08</td>\n",
       "      <td>0.121311</td>\n",
       "      <td>0.119827</td>\n",
       "      <td>0.120775</td>\n",
       "      <td>0.119321</td>\n",
       "      <td>2.374090e+08</td>\n",
       "      <td>80.479074</td>\n",
       "      <td>53.287211</td>\n",
       "      <td>33.790785</td>\n",
       "      <td>30.953054</td>\n",
       "      <td>4.750232</td>\n",
       "    </tr>\n",
       "    <tr>\n",
       "      <th>min</th>\n",
       "      <td>100068.000000</td>\n",
       "      <td>1.000000</td>\n",
       "      <td>3.030700e+04</td>\n",
       "      <td>0.000000</td>\n",
       "      <td>0.000000</td>\n",
       "      <td>0.000000</td>\n",
       "      <td>0.000000</td>\n",
       "      <td>3.030700e+04</td>\n",
       "      <td>0.000000</td>\n",
       "      <td>0.000000</td>\n",
       "      <td>0.000000</td>\n",
       "      <td>-257.000000</td>\n",
       "      <td>18.000000</td>\n",
       "    </tr>\n",
       "    <tr>\n",
       "      <th>25%</th>\n",
       "      <td>325578.250000</td>\n",
       "      <td>1.000000</td>\n",
       "      <td>1.027509e+08</td>\n",
       "      <td>0.880000</td>\n",
       "      <td>0.880000</td>\n",
       "      <td>0.880000</td>\n",
       "      <td>0.880000</td>\n",
       "      <td>9.504172e+07</td>\n",
       "      <td>25.000000</td>\n",
       "      <td>7.000000</td>\n",
       "      <td>2.000000</td>\n",
       "      <td>2.000000</td>\n",
       "      <td>22.000000</td>\n",
       "    </tr>\n",
       "    <tr>\n",
       "      <th>50%</th>\n",
       "      <td>552029.000000</td>\n",
       "      <td>1.000000</td>\n",
       "      <td>2.000074e+08</td>\n",
       "      <td>0.920000</td>\n",
       "      <td>0.920000</td>\n",
       "      <td>0.920000</td>\n",
       "      <td>0.920000</td>\n",
       "      <td>1.866714e+08</td>\n",
       "      <td>69.000000</td>\n",
       "      <td>25.000000</td>\n",
       "      <td>9.000000</td>\n",
       "      <td>11.000000</td>\n",
       "      <td>26.000000</td>\n",
       "    </tr>\n",
       "    <tr>\n",
       "      <th>75%</th>\n",
       "      <td>774655.750000</td>\n",
       "      <td>1.000000</td>\n",
       "      <td>4.153871e+08</td>\n",
       "      <td>0.960000</td>\n",
       "      <td>0.960000</td>\n",
       "      <td>0.960000</td>\n",
       "      <td>0.960000</td>\n",
       "      <td>3.878166e+08</td>\n",
       "      <td>139.000000</td>\n",
       "      <td>65.000000</td>\n",
       "      <td>28.000000</td>\n",
       "      <td>26.000000</td>\n",
       "      <td>30.000000</td>\n",
       "    </tr>\n",
       "    <tr>\n",
       "      <th>max</th>\n",
       "      <td>999993.000000</td>\n",
       "      <td>4.000000</td>\n",
       "      <td>2.246315e+09</td>\n",
       "      <td>1.000000</td>\n",
       "      <td>1.000000</td>\n",
       "      <td>1.000000</td>\n",
       "      <td>1.000000</td>\n",
       "      <td>1.817747e+09</td>\n",
       "      <td>362.000000</td>\n",
       "      <td>351.000000</td>\n",
       "      <td>319.000000</td>\n",
       "      <td>276.000000</td>\n",
       "      <td>34.000000</td>\n",
       "    </tr>\n",
       "  </tbody>\n",
       "</table>\n",
       "</div>"
      ],
      "text/plain": [
       "         customer_id     trans_cnt     trans_amt  score_sanity  \\\n",
       "count   47116.000000  12239.000000  1.223900e+04  47116.000000   \n",
       "mean   550737.021245      1.140943  2.915501e+08      0.903352   \n",
       "std    259879.913479      0.376837  2.569233e+08      0.121311   \n",
       "min    100068.000000      1.000000  3.030700e+04      0.000000   \n",
       "25%    325578.250000      1.000000  1.027509e+08      0.880000   \n",
       "50%    552029.000000      1.000000  2.000074e+08      0.920000   \n",
       "75%    774655.750000      1.000000  4.153871e+08      0.960000   \n",
       "max    999993.000000      4.000000  2.246315e+09      1.000000   \n",
       "\n",
       "       score_tampering  score_liveness  score_matching  first_trans_amt  \\\n",
       "count     47116.000000    47116.000000    47116.000000     1.223900e+04   \n",
       "mean          0.903834        0.903591        0.904463     2.685309e+08   \n",
       "std           0.119827        0.120775        0.119321     2.374090e+08   \n",
       "min           0.000000        0.000000        0.000000     3.030700e+04   \n",
       "25%           0.880000        0.880000        0.880000     9.504172e+07   \n",
       "50%           0.920000        0.920000        0.920000     1.866714e+08   \n",
       "75%           0.960000        0.960000        0.960000     3.878166e+08   \n",
       "max           1.000000        1.000000        1.000000     1.817747e+09   \n",
       "\n",
       "       click_to_install  install_to_ekyc  ekyc_to_account  account_to_trans  \\\n",
       "count      47116.000000     47116.000000     32196.000000      12239.000000   \n",
       "mean          91.391905        45.694032        22.698876         17.146989   \n",
       "std           80.479074        53.287211        33.790785         30.953054   \n",
       "min            0.000000         0.000000         0.000000       -257.000000   \n",
       "25%           25.000000         7.000000         2.000000          2.000000   \n",
       "50%           69.000000        25.000000         9.000000         11.000000   \n",
       "75%          139.000000        65.000000        28.000000         26.000000   \n",
       "max          362.000000       351.000000       319.000000        276.000000   \n",
       "\n",
       "                age  \n",
       "count  47116.000000  \n",
       "mean      26.078848  \n",
       "std        4.750232  \n",
       "min       18.000000  \n",
       "25%       22.000000  \n",
       "50%       26.000000  \n",
       "75%       30.000000  \n",
       "max       34.000000  "
      ]
     },
     "execution_count": 466,
     "metadata": {},
     "output_type": "execute_result"
    }
   ],
   "source": [
    "df.describe()"
   ]
  },
  {
   "cell_type": "markdown",
   "id": "73693963",
   "metadata": {},
   "source": [
    "### a. CRM_Source\n",
    "\n",
    "Đầu tiên xem tổng số lượng giá trị của CRM_Source có 13 giá trị"
   ]
  },
  {
   "cell_type": "code",
   "execution_count": 467,
   "id": "d9b3f7ac",
   "metadata": {
    "scrolled": true
   },
   "outputs": [
    {
     "data": {
      "text/plain": [
       "array(['Telesale', 'AccessTrade', 'RB', 'VNDIRECT', 'Universities',\n",
       "       'MOMO', 'CASHBAG', 'Google', 'Facebook', 'GOTADI', 'BAMBOO',\n",
       "       'FPT_PLAY', 'ZaloAdtima'], dtype=object)"
      ]
     },
     "execution_count": 467,
     "metadata": {},
     "output_type": "execute_result"
    }
   ],
   "source": [
    "df['crm_source'].unique()"
   ]
  },
  {
   "cell_type": "markdown",
   "id": "189f88f3",
   "metadata": {},
   "source": [
    "Ta sẽ plot nó lên:"
   ]
  },
  {
   "cell_type": "code",
   "execution_count": 468,
   "id": "3cf14895",
   "metadata": {},
   "outputs": [
    {
     "data": {
      "image/png": "[encoded data removed]",
      "text/plain": [
       "<Figure size 1000x500 with 1 Axes>"
      ]
     },
     "metadata": {},
     "output_type": "display_data"
    }
   ],
   "source": [
    "fig, ax = plt.subplots(1,1, figsize=(10,5))\n",
    "df['crm_source'].value_counts().plot(kind='pie', ax=ax, autopct='%1.0f%%',)\n",
    "plt.show()"
   ]
  },
  {
   "cell_type": "code",
   "execution_count": 469,
   "id": "5180e15a",
   "metadata": {},
   "outputs": [
    {
     "data": {
      "text/html": [
       "<div>\n",
       "<style scoped>\n",
       "    .dataframe tbody tr th:only-of-type {\n",
       "        vertical-align: middle;\n",
       "    }\n",
       "\n",
       "    .dataframe tbody tr th {\n",
       "        vertical-align: top;\n",
       "    }\n",
       "\n",
       "    .dataframe thead th {\n",
       "        text-align: right;\n",
       "    }\n",
       "</style>\n",
       "<table border=\"1\" class=\"dataframe\">\n",
       "  <thead>\n",
       "    <tr style=\"text-align: right;\">\n",
       "      <th></th>\n",
       "      <th>crm_source</th>\n",
       "      <th>crm_channel</th>\n",
       "      <th>customer_id</th>\n",
       "    </tr>\n",
       "  </thead>\n",
       "  <tbody>\n",
       "    <tr>\n",
       "      <th>0</th>\n",
       "      <td>AccessTrade</td>\n",
       "      <td>Digital Direct Sale</td>\n",
       "      <td>2460</td>\n",
       "    </tr>\n",
       "    <tr>\n",
       "      <th>1</th>\n",
       "      <td>BAMBOO</td>\n",
       "      <td>Ecosystem</td>\n",
       "      <td>3176</td>\n",
       "    </tr>\n",
       "    <tr>\n",
       "      <th>2</th>\n",
       "      <td>CASHBAG</td>\n",
       "      <td>Partnership</td>\n",
       "      <td>2301</td>\n",
       "    </tr>\n",
       "    <tr>\n",
       "      <th>3</th>\n",
       "      <td>FPT_PLAY</td>\n",
       "      <td>Partnership</td>\n",
       "      <td>2399</td>\n",
       "    </tr>\n",
       "    <tr>\n",
       "      <th>4</th>\n",
       "      <td>Facebook</td>\n",
       "      <td>Digital Direct Sale</td>\n",
       "      <td>2368</td>\n",
       "    </tr>\n",
       "    <tr>\n",
       "      <th>5</th>\n",
       "      <td>GOTADI</td>\n",
       "      <td>Ecosystem</td>\n",
       "      <td>3125</td>\n",
       "    </tr>\n",
       "    <tr>\n",
       "      <th>6</th>\n",
       "      <td>Google</td>\n",
       "      <td>Digital Direct Sale</td>\n",
       "      <td>2312</td>\n",
       "    </tr>\n",
       "    <tr>\n",
       "      <th>7</th>\n",
       "      <td>MOMO</td>\n",
       "      <td>Partnership</td>\n",
       "      <td>2353</td>\n",
       "    </tr>\n",
       "    <tr>\n",
       "      <th>8</th>\n",
       "      <td>RB</td>\n",
       "      <td>RB</td>\n",
       "      <td>9480</td>\n",
       "    </tr>\n",
       "    <tr>\n",
       "      <th>9</th>\n",
       "      <td>Telesale</td>\n",
       "      <td>Telesale</td>\n",
       "      <td>9297</td>\n",
       "    </tr>\n",
       "    <tr>\n",
       "      <th>10</th>\n",
       "      <td>Universities</td>\n",
       "      <td>Partnership</td>\n",
       "      <td>2368</td>\n",
       "    </tr>\n",
       "    <tr>\n",
       "      <th>11</th>\n",
       "      <td>VNDIRECT</td>\n",
       "      <td>Ecosystem</td>\n",
       "      <td>3074</td>\n",
       "    </tr>\n",
       "    <tr>\n",
       "      <th>12</th>\n",
       "      <td>ZaloAdtima</td>\n",
       "      <td>Digital Direct Sale</td>\n",
       "      <td>2403</td>\n",
       "    </tr>\n",
       "  </tbody>\n",
       "</table>\n",
       "</div>"
      ],
      "text/plain": [
       "      crm_source          crm_channel  customer_id\n",
       "0    AccessTrade  Digital Direct Sale         2460\n",
       "1         BAMBOO            Ecosystem         3176\n",
       "2        CASHBAG          Partnership         2301\n",
       "3       FPT_PLAY          Partnership         2399\n",
       "4       Facebook  Digital Direct Sale         2368\n",
       "5         GOTADI            Ecosystem         3125\n",
       "6         Google  Digital Direct Sale         2312\n",
       "7           MOMO          Partnership         2353\n",
       "8             RB                   RB         9480\n",
       "9       Telesale             Telesale         9297\n",
       "10  Universities          Partnership         2368\n",
       "11      VNDIRECT            Ecosystem         3074\n",
       "12    ZaloAdtima  Digital Direct Sale         2403"
      ]
     },
     "execution_count": 469,
     "metadata": {},
     "output_type": "execute_result"
    }
   ],
   "source": [
    "x = df.groupby(['crm_source', 'crm_channel'])['customer_id'].nunique().reset_index()\n",
    "x"
   ]
  },
  {
   "cell_type": "markdown",
   "id": "1600b65a",
   "metadata": {},
   "source": [
    "Ta sẽ check xem trước số lượng **input_dob** trước để ước tính, tổng số lượng giá trị là 5998 khác nhau"
   ]
  },
  {
   "cell_type": "code",
   "execution_count": 470,
   "id": "a89d4a4c",
   "metadata": {},
   "outputs": [],
   "source": [
    "df['input_dob'] = pd.to_datetime(df['input_dob'], format=\"%Y-%m-%d\")"
   ]
  },
  {
   "cell_type": "code",
   "execution_count": 471,
   "id": "4de2e8cd",
   "metadata": {
    "scrolled": true
   },
   "outputs": [
    {
     "data": {
      "text/plain": [
       "array(['2000-12-29T00:00:00.000000000', '2001-12-16T00:00:00.000000000',\n",
       "       '2005-02-01T00:00:00.000000000', ...,\n",
       "       '1995-05-03T00:00:00.000000000', '1993-06-13T00:00:00.000000000',\n",
       "       '2004-12-29T00:00:00.000000000'], dtype='datetime64[ns]')"
      ]
     },
     "execution_count": 471,
     "metadata": {},
     "output_type": "execute_result"
    }
   ],
   "source": [
    "df['input_dob'].unique()"
   ]
  },
  {
   "cell_type": "code",
   "execution_count": 472,
   "id": "ab156827",
   "metadata": {
    "scrolled": true
   },
   "outputs": [
    {
     "name": "stderr",
     "output_type": "stream",
     "text": [
      "C:\\Users\\Admin\\AppData\\Local\\Temp\\ipykernel_3612\\655224450.py:2: FutureWarning: Treating datetime data as categorical rather than numeric in `.describe` is deprecated and will be removed in a future version of pandas. Specify `datetime_is_numeric=True` to silence this warning and adopt the future behavior now.\n",
      "  df['input_dob'].describe()\n"
     ]
    },
    {
     "data": {
      "text/plain": [
       "count                   47116\n",
       "unique                   5998\n",
       "top       1994-04-17 00:00:00\n",
       "freq                       20\n",
       "first     1989-03-16 00:00:00\n",
       "last      2005-08-18 00:00:00\n",
       "Name: input_dob, dtype: object"
      ]
     },
     "execution_count": 472,
     "metadata": {},
     "output_type": "execute_result"
    }
   ],
   "source": [
    "# KH lớn tuổi nhất sinh năm 1989, và trẻ tuổi nhất sinh năm 2005\n",
    "df['input_dob'].describe()"
   ]
  },
  {
   "cell_type": "code",
   "execution_count": 473,
   "id": "17c63f0e",
   "metadata": {},
   "outputs": [
    {
     "data": {
      "text/plain": [
       "input_dob\n",
       "1989-12-31     2205\n",
       "1994-12-31    14466\n",
       "1999-12-31    14322\n",
       "2004-12-31    14290\n",
       "2009-12-31     1833\n",
       "Freq: 5A-DEC, Name: customer_id, dtype: int64"
      ]
     },
     "execution_count": 473,
     "metadata": {},
     "output_type": "execute_result"
    }
   ],
   "source": [
    "# Hàm resample() để gom lại theo mốc thời gian với quy luật mỗi 5 years (5Y), bạn có thể thay đổi 1Y\n",
    "# Hàm nunique() là phép tổng hợp lại là count unique customer_id\n",
    "\n",
    "df1 = df.set_index('input_dob')['customer_id'].resample('5Y').nunique()\n",
    "df1"
   ]
  },
  {
   "cell_type": "code",
   "execution_count": 474,
   "id": "d8b769c0",
   "metadata": {},
   "outputs": [
    {
     "data": {
      "text/plain": [
       "<Axes: xlabel='input_dob'>"
      ]
     },
     "execution_count": 474,
     "metadata": {},
     "output_type": "execute_result"
    },
    {
     "data": {
      "image/png": "[encoded data removed]",
      "text/plain": [
       "<Figure size 640x480 with 1 Axes>"
      ]
     },
     "metadata": {},
     "output_type": "display_data"
    }
   ],
   "source": [
    "df1.plot(kind='bar', rot=40)"
   ]
  },
  {
   "cell_type": "code",
   "execution_count": 475,
   "id": "c579214e",
   "metadata": {},
   "outputs": [
    {
     "data": {
      "text/plain": [
       "0        22\n",
       "1        21\n",
       "2        18\n",
       "3        20\n",
       "4        33\n",
       "         ..\n",
       "47111    27\n",
       "47112    19\n",
       "47113    24\n",
       "47114    32\n",
       "47115    27\n",
       "Name: age2, Length: 47116, dtype: int64"
      ]
     },
     "execution_count": 475,
     "metadata": {},
     "output_type": "execute_result"
    }
   ],
   "source": [
    "df['age2'] = ((datetime(2023,1,31) - df['input_dob']) / pd.Timedelta('365 days')).apply(int)\n",
    "df['age2']"
   ]
  },
  {
   "cell_type": "code",
   "execution_count": 476,
   "id": "f9e995d4",
   "metadata": {},
   "outputs": [
    {
     "data": {
      "text/plain": [
       "<Axes: xlabel='age2', ylabel='Count'>"
      ]
     },
     "execution_count": 476,
     "metadata": {},
     "output_type": "execute_result"
    },
    {
     "data": {
      "image/png": "[encoded data removed]",
      "text/plain": [
       "<Figure size 640x480 with 1 Axes>"
      ]
     },
     "metadata": {},
     "output_type": "display_data"
    }
   ],
   "source": [
    "# x là dữ liệu tuổi của KH, plot histogram của x\n",
    "sns.histplot(data=df['age2'], kde=True)"
   ]
  },
  {
   "cell_type": "code",
   "execution_count": 477,
   "id": "65531930",
   "metadata": {},
   "outputs": [
    {
     "data": {
      "text/plain": [
       "count    47116.000000\n",
       "mean        26.078848\n",
       "std          4.750232\n",
       "min         18.000000\n",
       "25%         22.000000\n",
       "50%         26.000000\n",
       "75%         30.000000\n",
       "max         34.000000\n",
       "Name: age, dtype: float64"
      ]
     },
     "execution_count": 477,
     "metadata": {},
     "output_type": "execute_result"
    }
   ],
   "source": [
    "df['age'].describe()"
   ]
  },
  {
   "cell_type": "code",
   "execution_count": 478,
   "id": "8feba301",
   "metadata": {},
   "outputs": [
    {
     "data": {
      "image/png": "[encoded data removed]",
      "text/plain": [
       "<Figure size 640x480 with 1 Axes>"
      ]
     },
     "metadata": {},
     "output_type": "display_data"
    }
   ],
   "source": [
    "sns.histplot(data=df['age'], kde=True);"
   ]
  },
  {
   "cell_type": "code",
   "execution_count": 479,
   "id": "ef76784b",
   "metadata": {},
   "outputs": [
    {
     "data": {
      "image/png": "[encoded data removed]",
      "text/plain": [
       "<Figure size 1000x500 with 1 Axes>"
      ]
     },
     "metadata": {},
     "output_type": "display_data"
    }
   ],
   "source": [
    "fig, ax = plt.subplots(1,1, figsize=(10,5))\n",
    "df['input_gender'].value_counts().plot(kind='pie', ax=ax, autopct='%1.0f%%',)\n",
    "plt.show()"
   ]
  },
  {
   "cell_type": "code",
   "execution_count": 480,
   "id": "7c22bb77",
   "metadata": {
    "scrolled": true
   },
   "outputs": [
    {
     "data": {
      "image/png": "[encoded data removed]",
      "text/plain": [
       "<Figure size 640x480 with 1 Axes>"
      ]
     },
     "metadata": {},
     "output_type": "display_data"
    }
   ],
   "source": [
    "df['input_nationality'].value_counts(normalize=True)[:10].plot(kind='pie', autopct='%1.0f%%')\n",
    "plt.show()"
   ]
  },
  {
   "cell_type": "code",
   "execution_count": 481,
   "id": "9d40eb73",
   "metadata": {},
   "outputs": [],
   "source": [
    "# thay thế tất cả giá trị ngoại trừ 'VIETNAMESE' bằng 'OTHERS'\n",
    "df['input_nationality'] = df['input_nationality'].apply(lambda x: x if x == 'VIETNAMESE' else 'OTHERS')"
   ]
  },
  {
   "cell_type": "code",
   "execution_count": 482,
   "id": "360d886c",
   "metadata": {},
   "outputs": [
    {
     "data": {
      "text/plain": [
       "array(['VIETNAMESE', 'OTHERS'], dtype=object)"
      ]
     },
     "execution_count": 482,
     "metadata": {},
     "output_type": "execute_result"
    }
   ],
   "source": [
    "df['input_nationality'].unique()"
   ]
  },
  {
   "cell_type": "markdown",
   "id": "e81b398b",
   "metadata": {},
   "source": [
    "### Explore Data Analysis\n"
   ]
  },
  {
   "cell_type": "code",
   "execution_count": 485,
   "id": "0d7ee98e",
   "metadata": {},
   "outputs": [],
   "source": [
    "feature_cols = [\n",
    "    \"fraud_type\",\n",
    "    \"crm_source\",\n",
    "    \"crm_channel\",\n",
    "    \"trans_cnt\",\n",
    "    \"trans_amt\",\n",
    "    \"age\",\n",
    "    \"input_gender\",\n",
    "    \"input_nationality\",\n",
    "    \"score_sanity\",\n",
    "    \"score_tampering\",\n",
    "    \"score_liveness\",\n",
    "    \"score_matching\",\n",
    "    \"click_to_install\",\n",
    "    \"install_to_ekyc\",\n",
    "    \"ekyc_to_account\",\n",
    "    \"account_to_trans\",\n",
    "]"
   ]
  },
  {
   "cell_type": "code",
   "execution_count": 491,
   "id": "fe3fc3f1",
   "metadata": {},
   "outputs": [
    {
     "data": {
      "text/html": [
       "<div>\n",
       "<style scoped>\n",
       "    .dataframe tbody tr th:only-of-type {\n",
       "        vertical-align: middle;\n",
       "    }\n",
       "\n",
       "    .dataframe tbody tr th {\n",
       "        vertical-align: top;\n",
       "    }\n",
       "\n",
       "    .dataframe thead th {\n",
       "        text-align: right;\n",
       "    }\n",
       "</style>\n",
       "<table border=\"1\" class=\"dataframe\">\n",
       "  <thead>\n",
       "    <tr style=\"text-align: right;\">\n",
       "      <th></th>\n",
       "      <th>fraud_type</th>\n",
       "      <th>crm_source</th>\n",
       "      <th>crm_channel</th>\n",
       "      <th>trans_cnt</th>\n",
       "      <th>trans_amt</th>\n",
       "      <th>age</th>\n",
       "      <th>input_gender</th>\n",
       "      <th>input_nationality</th>\n",
       "      <th>score_sanity</th>\n",
       "      <th>score_tampering</th>\n",
       "      <th>score_liveness</th>\n",
       "      <th>score_matching</th>\n",
       "      <th>click_to_install</th>\n",
       "      <th>install_to_ekyc</th>\n",
       "      <th>ekyc_to_account</th>\n",
       "      <th>account_to_trans</th>\n",
       "    </tr>\n",
       "  </thead>\n",
       "  <tbody>\n",
       "    <tr>\n",
       "      <th>0</th>\n",
       "      <td>RISK</td>\n",
       "      <td>Telesale</td>\n",
       "      <td>Telesale</td>\n",
       "      <td>NaN</td>\n",
       "      <td>NaN</td>\n",
       "      <td>23</td>\n",
       "      <td>M</td>\n",
       "      <td>VIETNAMESE</td>\n",
       "      <td>0.93</td>\n",
       "      <td>0.92</td>\n",
       "      <td>0.90</td>\n",
       "      <td>0.99</td>\n",
       "      <td>161</td>\n",
       "      <td>7</td>\n",
       "      <td>8.0</td>\n",
       "      <td>NaN</td>\n",
       "    </tr>\n",
       "    <tr>\n",
       "      <th>1</th>\n",
       "      <td>NaN</td>\n",
       "      <td>AccessTrade</td>\n",
       "      <td>Digital Direct Sale</td>\n",
       "      <td>NaN</td>\n",
       "      <td>NaN</td>\n",
       "      <td>22</td>\n",
       "      <td>M</td>\n",
       "      <td>VIETNAMESE</td>\n",
       "      <td>0.86</td>\n",
       "      <td>0.88</td>\n",
       "      <td>0.85</td>\n",
       "      <td>0.94</td>\n",
       "      <td>44</td>\n",
       "      <td>10</td>\n",
       "      <td>8.0</td>\n",
       "      <td>NaN</td>\n",
       "    </tr>\n",
       "    <tr>\n",
       "      <th>2</th>\n",
       "      <td>NaN</td>\n",
       "      <td>RB</td>\n",
       "      <td>RB</td>\n",
       "      <td>NaN</td>\n",
       "      <td>NaN</td>\n",
       "      <td>18</td>\n",
       "      <td>F</td>\n",
       "      <td>VIETNAMESE</td>\n",
       "      <td>0.99</td>\n",
       "      <td>0.97</td>\n",
       "      <td>0.98</td>\n",
       "      <td>0.88</td>\n",
       "      <td>64</td>\n",
       "      <td>9</td>\n",
       "      <td>NaN</td>\n",
       "      <td>NaN</td>\n",
       "    </tr>\n",
       "    <tr>\n",
       "      <th>3</th>\n",
       "      <td>NaN</td>\n",
       "      <td>Telesale</td>\n",
       "      <td>Telesale</td>\n",
       "      <td>NaN</td>\n",
       "      <td>NaN</td>\n",
       "      <td>20</td>\n",
       "      <td>F</td>\n",
       "      <td>VIETNAMESE</td>\n",
       "      <td>0.90</td>\n",
       "      <td>0.86</td>\n",
       "      <td>0.88</td>\n",
       "      <td>0.96</td>\n",
       "      <td>12</td>\n",
       "      <td>105</td>\n",
       "      <td>6.0</td>\n",
       "      <td>NaN</td>\n",
       "    </tr>\n",
       "    <tr>\n",
       "      <th>4</th>\n",
       "      <td>NaN</td>\n",
       "      <td>VNDIRECT</td>\n",
       "      <td>Ecosystem</td>\n",
       "      <td>NaN</td>\n",
       "      <td>NaN</td>\n",
       "      <td>33</td>\n",
       "      <td>M</td>\n",
       "      <td>VIETNAMESE</td>\n",
       "      <td>0.90</td>\n",
       "      <td>0.95</td>\n",
       "      <td>0.87</td>\n",
       "      <td>0.92</td>\n",
       "      <td>30</td>\n",
       "      <td>59</td>\n",
       "      <td>57.0</td>\n",
       "      <td>NaN</td>\n",
       "    </tr>\n",
       "    <tr>\n",
       "      <th>...</th>\n",
       "      <td>...</td>\n",
       "      <td>...</td>\n",
       "      <td>...</td>\n",
       "      <td>...</td>\n",
       "      <td>...</td>\n",
       "      <td>...</td>\n",
       "      <td>...</td>\n",
       "      <td>...</td>\n",
       "      <td>...</td>\n",
       "      <td>...</td>\n",
       "      <td>...</td>\n",
       "      <td>...</td>\n",
       "      <td>...</td>\n",
       "      <td>...</td>\n",
       "      <td>...</td>\n",
       "      <td>...</td>\n",
       "    </tr>\n",
       "    <tr>\n",
       "      <th>47111</th>\n",
       "      <td>FRAUD</td>\n",
       "      <td>FPT_PLAY</td>\n",
       "      <td>Partnership</td>\n",
       "      <td>1.0</td>\n",
       "      <td>114330509.0</td>\n",
       "      <td>27</td>\n",
       "      <td>M</td>\n",
       "      <td>VIETNAMESE</td>\n",
       "      <td>0.91</td>\n",
       "      <td>0.96</td>\n",
       "      <td>0.96</td>\n",
       "      <td>0.98</td>\n",
       "      <td>222</td>\n",
       "      <td>3</td>\n",
       "      <td>27.0</td>\n",
       "      <td>25.0</td>\n",
       "    </tr>\n",
       "    <tr>\n",
       "      <th>47112</th>\n",
       "      <td>NaN</td>\n",
       "      <td>Facebook</td>\n",
       "      <td>Digital Direct Sale</td>\n",
       "      <td>NaN</td>\n",
       "      <td>NaN</td>\n",
       "      <td>20</td>\n",
       "      <td>M</td>\n",
       "      <td>VIETNAMESE</td>\n",
       "      <td>1.00</td>\n",
       "      <td>0.91</td>\n",
       "      <td>0.99</td>\n",
       "      <td>0.99</td>\n",
       "      <td>112</td>\n",
       "      <td>1</td>\n",
       "      <td>23.0</td>\n",
       "      <td>NaN</td>\n",
       "    </tr>\n",
       "    <tr>\n",
       "      <th>47113</th>\n",
       "      <td>NaN</td>\n",
       "      <td>Telesale</td>\n",
       "      <td>Telesale</td>\n",
       "      <td>1.0</td>\n",
       "      <td>22984874.0</td>\n",
       "      <td>25</td>\n",
       "      <td>M</td>\n",
       "      <td>VIETNAMESE</td>\n",
       "      <td>0.95</td>\n",
       "      <td>0.94</td>\n",
       "      <td>1.00</td>\n",
       "      <td>0.90</td>\n",
       "      <td>55</td>\n",
       "      <td>85</td>\n",
       "      <td>102.0</td>\n",
       "      <td>5.0</td>\n",
       "    </tr>\n",
       "    <tr>\n",
       "      <th>47114</th>\n",
       "      <td>NaN</td>\n",
       "      <td>RB</td>\n",
       "      <td>RB</td>\n",
       "      <td>2.0</td>\n",
       "      <td>453289690.0</td>\n",
       "      <td>33</td>\n",
       "      <td>F</td>\n",
       "      <td>VIETNAMESE</td>\n",
       "      <td>0.94</td>\n",
       "      <td>0.91</td>\n",
       "      <td>0.86</td>\n",
       "      <td>0.91</td>\n",
       "      <td>139</td>\n",
       "      <td>162</td>\n",
       "      <td>2.0</td>\n",
       "      <td>2.0</td>\n",
       "    </tr>\n",
       "    <tr>\n",
       "      <th>47115</th>\n",
       "      <td>NaN</td>\n",
       "      <td>FPT_PLAY</td>\n",
       "      <td>Partnership</td>\n",
       "      <td>NaN</td>\n",
       "      <td>NaN</td>\n",
       "      <td>28</td>\n",
       "      <td>M</td>\n",
       "      <td>VIETNAMESE</td>\n",
       "      <td>0.94</td>\n",
       "      <td>0.91</td>\n",
       "      <td>0.87</td>\n",
       "      <td>0.90</td>\n",
       "      <td>23</td>\n",
       "      <td>219</td>\n",
       "      <td>121.0</td>\n",
       "      <td>NaN</td>\n",
       "    </tr>\n",
       "  </tbody>\n",
       "</table>\n",
       "<p>47116 rows × 16 columns</p>\n",
       "</div>"
      ],
      "text/plain": [
       "      fraud_type   crm_source          crm_channel  trans_cnt    trans_amt  \\\n",
       "0           RISK     Telesale             Telesale        NaN          NaN   \n",
       "1            NaN  AccessTrade  Digital Direct Sale        NaN          NaN   \n",
       "2            NaN           RB                   RB        NaN          NaN   \n",
       "3            NaN     Telesale             Telesale        NaN          NaN   \n",
       "4            NaN     VNDIRECT            Ecosystem        NaN          NaN   \n",
       "...          ...          ...                  ...        ...          ...   \n",
       "47111      FRAUD     FPT_PLAY          Partnership        1.0  114330509.0   \n",
       "47112        NaN     Facebook  Digital Direct Sale        NaN          NaN   \n",
       "47113        NaN     Telesale             Telesale        1.0   22984874.0   \n",
       "47114        NaN           RB                   RB        2.0  453289690.0   \n",
       "47115        NaN     FPT_PLAY          Partnership        NaN          NaN   \n",
       "\n",
       "       age input_gender input_nationality  score_sanity  score_tampering  \\\n",
       "0       23            M        VIETNAMESE          0.93             0.92   \n",
       "1       22            M        VIETNAMESE          0.86             0.88   \n",
       "2       18            F        VIETNAMESE          0.99             0.97   \n",
       "3       20            F        VIETNAMESE          0.90             0.86   \n",
       "4       33            M        VIETNAMESE          0.90             0.95   \n",
       "...    ...          ...               ...           ...              ...   \n",
       "47111   27            M        VIETNAMESE          0.91             0.96   \n",
       "47112   20            M        VIETNAMESE          1.00             0.91   \n",
       "47113   25            M        VIETNAMESE          0.95             0.94   \n",
       "47114   33            F        VIETNAMESE          0.94             0.91   \n",
       "47115   28            M        VIETNAMESE          0.94             0.91   \n",
       "\n",
       "       score_liveness  score_matching  click_to_install  install_to_ekyc  \\\n",
       "0                0.90            0.99               161                7   \n",
       "1                0.85            0.94                44               10   \n",
       "2                0.98            0.88                64                9   \n",
       "3                0.88            0.96                12              105   \n",
       "4                0.87            0.92                30               59   \n",
       "...               ...             ...               ...              ...   \n",
       "47111            0.96            0.98               222                3   \n",
       "47112            0.99            0.99               112                1   \n",
       "47113            1.00            0.90                55               85   \n",
       "47114            0.86            0.91               139              162   \n",
       "47115            0.87            0.90                23              219   \n",
       "\n",
       "       ekyc_to_account  account_to_trans  \n",
       "0                  8.0               NaN  \n",
       "1                  8.0               NaN  \n",
       "2                  NaN               NaN  \n",
       "3                  6.0               NaN  \n",
       "4                 57.0               NaN  \n",
       "...                ...               ...  \n",
       "47111             27.0              25.0  \n",
       "47112             23.0               NaN  \n",
       "47113            102.0               5.0  \n",
       "47114              2.0               2.0  \n",
       "47115            121.0               NaN  \n",
       "\n",
       "[47116 rows x 16 columns]"
      ]
     },
     "execution_count": 491,
     "metadata": {},
     "output_type": "execute_result"
    }
   ],
   "source": [
    "df = df[feature_cols]\n",
    "df"
   ]
  },
  {
   "cell_type": "code",
   "execution_count": 492,
   "id": "d8cdedbc",
   "metadata": {},
   "outputs": [
    {
     "data": {
      "text/plain": [
       "fraud_type           35780\n",
       "crm_source               0\n",
       "crm_channel              0\n",
       "trans_cnt            34877\n",
       "trans_amt            34877\n",
       "age                      0\n",
       "input_gender             0\n",
       "input_nationality        0\n",
       "score_sanity             0\n",
       "score_tampering          0\n",
       "score_liveness           0\n",
       "score_matching           0\n",
       "click_to_install         0\n",
       "install_to_ekyc          0\n",
       "ekyc_to_account      14920\n",
       "account_to_trans     34877\n",
       "dtype: int64"
      ]
     },
     "execution_count": 492,
     "metadata": {},
     "output_type": "execute_result"
    }
   ],
   "source": [
    "df.isna().sum()"
   ]
  },
  {
   "cell_type": "code",
   "execution_count": 493,
   "id": "fbad8716",
   "metadata": {},
   "outputs": [
    {
     "data": {
      "text/plain": [
       "fraud_type           75.940\n",
       "crm_source            0.000\n",
       "crm_channel           0.000\n",
       "trans_cnt            74.024\n",
       "trans_amt            74.024\n",
       "age                   0.000\n",
       "input_gender          0.000\n",
       "input_nationality     0.000\n",
       "score_sanity          0.000\n",
       "score_tampering       0.000\n",
       "score_liveness        0.000\n",
       "score_matching        0.000\n",
       "click_to_install      0.000\n",
       "install_to_ekyc       0.000\n",
       "ekyc_to_account      31.667\n",
       "account_to_trans     74.024\n",
       "dtype: float64"
      ]
     },
     "execution_count": 493,
     "metadata": {},
     "output_type": "execute_result"
    }
   ],
   "source": [
    "np.round(df.isna().sum()* 100 / df.shape[0], 3)  #3 số sau dấu phẩy"
   ]
  },
  {
   "cell_type": "markdown",
   "id": "98c768d9",
   "metadata": {},
   "source": [
    "Trước đó ta xử lý dữ liệu label: **Fraud_Type**."
   ]
  },
  {
   "cell_type": "code",
   "execution_count": 494,
   "id": "189d5ff4",
   "metadata": {},
   "outputs": [
    {
     "data": {
      "text/plain": [
       "array(['RISK', nan, 'CHECKED', 'FRAUD'], dtype=object)"
      ]
     },
     "execution_count": 494,
     "metadata": {},
     "output_type": "execute_result"
    }
   ],
   "source": [
    "df['fraud_type'].unique()"
   ]
  },
  {
   "cell_type": "code",
   "execution_count": 495,
   "id": "78988777",
   "metadata": {
    "collapsed": true
   },
   "outputs": [
    {
     "name": "stderr",
     "output_type": "stream",
     "text": [
      "C:\\Users\\Admin\\AppData\\Local\\Temp\\ipykernel_3612\\2340287566.py:1: SettingWithCopyWarning: \n",
      "A value is trying to be set on a copy of a slice from a DataFrame.\n",
      "Try using .loc[row_indexer,col_indexer] = value instead\n",
      "\n",
      "See the caveats in the documentation: https://pandas.pydata.org/pandas-docs/stable/user_guide/indexing.html#returning-a-view-versus-a-copy\n",
      "  df['fraud_type'] = df['fraud_type'].replace(['FRAUD','RISK'],[1,1])\n",
      "C:\\Users\\Admin\\AppData\\Local\\Temp\\ipykernel_3612\\2340287566.py:2: SettingWithCopyWarning: \n",
      "A value is trying to be set on a copy of a slice from a DataFrame.\n",
      "Try using .loc[row_indexer,col_indexer] = value instead\n",
      "\n",
      "See the caveats in the documentation: https://pandas.pydata.org/pandas-docs/stable/user_guide/indexing.html#returning-a-view-versus-a-copy\n",
      "  df['fraud_type'] = df['fraud_type'].replace(['CHECKED'],[0])\n",
      "C:\\Users\\Admin\\AppData\\Local\\Temp\\ipykernel_3612\\2340287566.py:3: SettingWithCopyWarning: \n",
      "A value is trying to be set on a copy of a slice from a DataFrame\n",
      "\n",
      "See the caveats in the documentation: https://pandas.pydata.org/pandas-docs/stable/user_guide/indexing.html#returning-a-view-versus-a-copy\n",
      "  df['fraud_type'].fillna(0, inplace=True)\n"
     ]
    }
   ],
   "source": [
    "df['fraud_type'] = df['fraud_type'].replace(['FRAUD','RISK'],[1,1])\n",
    "df['fraud_type'] = df['fraud_type'].replace(['CHECKED'],[0])\n",
    "df['fraud_type'].fillna(0, inplace=True)"
   ]
  },
  {
   "cell_type": "code",
   "execution_count": 496,
   "id": "2e8d8367",
   "metadata": {},
   "outputs": [
    {
     "data": {
      "text/plain": [
       "0.0    39333\n",
       "1.0     7783\n",
       "Name: fraud_type, dtype: int64"
      ]
     },
     "execution_count": 496,
     "metadata": {},
     "output_type": "execute_result"
    }
   ],
   "source": [
    "df.fraud_type.value_counts()"
   ]
  },
  {
   "cell_type": "markdown",
   "id": "06e9fa42",
   "metadata": {},
   "source": [
    "các trường còn lại null do khách hàng chưa có giao dịch, ta thay là 0"
   ]
  },
  {
   "cell_type": "code",
   "execution_count": 498,
   "id": "09443735",
   "metadata": {},
   "outputs": [
    {
     "name": "stderr",
     "output_type": "stream",
     "text": [
      "C:\\Users\\Admin\\AppData\\Local\\Temp\\ipykernel_3612\\1146408449.py:1: SettingWithCopyWarning: \n",
      "A value is trying to be set on a copy of a slice from a DataFrame\n",
      "\n",
      "See the caveats in the documentation: https://pandas.pydata.org/pandas-docs/stable/user_guide/indexing.html#returning-a-view-versus-a-copy\n",
      "  df.trans_cnt.fillna(0, inplace=True)\n",
      "C:\\Users\\Admin\\AppData\\Local\\Temp\\ipykernel_3612\\1146408449.py:2: SettingWithCopyWarning: \n",
      "A value is trying to be set on a copy of a slice from a DataFrame\n",
      "\n",
      "See the caveats in the documentation: https://pandas.pydata.org/pandas-docs/stable/user_guide/indexing.html#returning-a-view-versus-a-copy\n",
      "  df.trans_amt.fillna(0, inplace=True)\n",
      "C:\\Users\\Admin\\AppData\\Local\\Temp\\ipykernel_3612\\1146408449.py:3: SettingWithCopyWarning: \n",
      "A value is trying to be set on a copy of a slice from a DataFrame\n",
      "\n",
      "See the caveats in the documentation: https://pandas.pydata.org/pandas-docs/stable/user_guide/indexing.html#returning-a-view-versus-a-copy\n",
      "  df.ekyc_to_account.fillna(0, inplace=True)\n",
      "C:\\Users\\Admin\\AppData\\Local\\Temp\\ipykernel_3612\\1146408449.py:4: SettingWithCopyWarning: \n",
      "A value is trying to be set on a copy of a slice from a DataFrame\n",
      "\n",
      "See the caveats in the documentation: https://pandas.pydata.org/pandas-docs/stable/user_guide/indexing.html#returning-a-view-versus-a-copy\n",
      "  df.account_to_trans.fillna(0, inplace=True)\n"
     ]
    }
   ],
   "source": [
    "df.trans_cnt.fillna(0, inplace=True)\n",
    "df.trans_amt.fillna(0, inplace=True)\n",
    "df.ekyc_to_account.fillna(0, inplace=True) \n",
    "df.account_to_trans.fillna(0, inplace=True)"
   ]
  },
  {
   "cell_type": "code",
   "execution_count": 499,
   "id": "f7491d23",
   "metadata": {},
   "outputs": [
    {
     "data": {
      "text/plain": [
       "fraud_type           0\n",
       "crm_source           0\n",
       "crm_channel          0\n",
       "trans_cnt            0\n",
       "trans_amt            0\n",
       "age                  0\n",
       "input_gender         0\n",
       "input_nationality    0\n",
       "score_sanity         0\n",
       "score_tampering      0\n",
       "score_liveness       0\n",
       "score_matching       0\n",
       "click_to_install     0\n",
       "install_to_ekyc      0\n",
       "ekyc_to_account      0\n",
       "account_to_trans     0\n",
       "dtype: int64"
      ]
     },
     "execution_count": 499,
     "metadata": {},
     "output_type": "execute_result"
    }
   ],
   "source": [
    "df.isnull().sum()"
   ]
  },
  {
   "cell_type": "code",
   "execution_count": 527,
   "id": "5c63652f",
   "metadata": {
    "scrolled": true
   },
   "outputs": [
    {
     "name": "stdout",
     "output_type": "stream",
     "text": [
      "<class 'pandas.core.frame.DataFrame'>\n",
      "RangeIndex: 47116 entries, 0 to 47115\n",
      "Data columns (total 34 columns):\n",
      " #   Column                           Non-Null Count  Dtype  \n",
      "---  ------                           --------------  -----  \n",
      " 0   fraud_type                       47116 non-null  float64\n",
      " 1   trans_cnt                        47116 non-null  float64\n",
      " 2   trans_amt                        47116 non-null  float64\n",
      " 3   age                              47116 non-null  int64  \n",
      " 4   score_sanity                     47116 non-null  float64\n",
      " 5   score_tampering                  47116 non-null  float64\n",
      " 6   score_liveness                   47116 non-null  float64\n",
      " 7   score_matching                   47116 non-null  float64\n",
      " 8   click_to_install                 47116 non-null  int64  \n",
      " 9   install_to_ekyc                  47116 non-null  int64  \n",
      " 10  ekyc_to_account                  47116 non-null  float64\n",
      " 11  account_to_trans                 47116 non-null  float64\n",
      " 12  crm_source_AccessTrade           47116 non-null  uint8  \n",
      " 13  crm_source_BAMBOO                47116 non-null  uint8  \n",
      " 14  crm_source_CASHBAG               47116 non-null  uint8  \n",
      " 15  crm_source_FPT_PLAY              47116 non-null  uint8  \n",
      " 16  crm_source_Facebook              47116 non-null  uint8  \n",
      " 17  crm_source_GOTADI                47116 non-null  uint8  \n",
      " 18  crm_source_Google                47116 non-null  uint8  \n",
      " 19  crm_source_MOMO                  47116 non-null  uint8  \n",
      " 20  crm_source_RB                    47116 non-null  uint8  \n",
      " 21  crm_source_Telesale              47116 non-null  uint8  \n",
      " 22  crm_source_Universities          47116 non-null  uint8  \n",
      " 23  crm_source_VNDIRECT              47116 non-null  uint8  \n",
      " 24  crm_source_ZaloAdtima            47116 non-null  uint8  \n",
      " 25  crm_channel_Digital Direct Sale  47116 non-null  uint8  \n",
      " 26  crm_channel_Ecosystem            47116 non-null  uint8  \n",
      " 27  crm_channel_Partnership          47116 non-null  uint8  \n",
      " 28  crm_channel_RB                   47116 non-null  uint8  \n",
      " 29  crm_channel_Telesale             47116 non-null  uint8  \n",
      " 30  input_gender_F                   47116 non-null  uint8  \n",
      " 31  input_gender_M                   47116 non-null  uint8  \n",
      " 32  input_nationality_OTHERS         47116 non-null  uint8  \n",
      " 33  input_nationality_VIETNAMESE     47116 non-null  uint8  \n",
      "dtypes: float64(9), int64(3), uint8(22)\n",
      "memory usage: 5.3 MB\n"
     ]
    }
   ],
   "source": [
    "df.info()"
   ]
  },
  {
   "cell_type": "code",
   "execution_count": 529,
   "id": "66471dbd",
   "metadata": {},
   "outputs": [],
   "source": [
    "df['fraud_type'] = df['fraud_type'].astype('int64')"
   ]
  },
  {
   "cell_type": "markdown",
   "id": "e90edad9",
   "metadata": {},
   "source": [
    "Convert categorical variable to numeric type"
   ]
  },
  {
   "cell_type": "code",
   "execution_count": 510,
   "id": "0bfbe807",
   "metadata": {},
   "outputs": [],
   "source": [
    "df = pd.get_dummies(df)"
   ]
  },
  {
   "cell_type": "code",
   "execution_count": 530,
   "id": "5fff9b77",
   "metadata": {
    "scrolled": false
   },
   "outputs": [
    {
     "data": {
      "text/html": [
       "<div>\n",
       "<style scoped>\n",
       "    .dataframe tbody tr th:only-of-type {\n",
       "        vertical-align: middle;\n",
       "    }\n",
       "\n",
       "    .dataframe tbody tr th {\n",
       "        vertical-align: top;\n",
       "    }\n",
       "\n",
       "    .dataframe thead th {\n",
       "        text-align: right;\n",
       "    }\n",
       "</style>\n",
       "<table border=\"1\" class=\"dataframe\">\n",
       "  <thead>\n",
       "    <tr style=\"text-align: right;\">\n",
       "      <th></th>\n",
       "      <th>fraud_type</th>\n",
       "      <th>trans_cnt</th>\n",
       "      <th>trans_amt</th>\n",
       "      <th>age</th>\n",
       "      <th>score_sanity</th>\n",
       "      <th>score_tampering</th>\n",
       "      <th>score_liveness</th>\n",
       "      <th>score_matching</th>\n",
       "      <th>click_to_install</th>\n",
       "      <th>install_to_ekyc</th>\n",
       "      <th>...</th>\n",
       "      <th>crm_source_ZaloAdtima</th>\n",
       "      <th>crm_channel_Digital Direct Sale</th>\n",
       "      <th>crm_channel_Ecosystem</th>\n",
       "      <th>crm_channel_Partnership</th>\n",
       "      <th>crm_channel_RB</th>\n",
       "      <th>crm_channel_Telesale</th>\n",
       "      <th>input_gender_F</th>\n",
       "      <th>input_gender_M</th>\n",
       "      <th>input_nationality_OTHERS</th>\n",
       "      <th>input_nationality_VIETNAMESE</th>\n",
       "    </tr>\n",
       "  </thead>\n",
       "  <tbody>\n",
       "    <tr>\n",
       "      <th>0</th>\n",
       "      <td>1</td>\n",
       "      <td>0.0</td>\n",
       "      <td>0.0</td>\n",
       "      <td>23</td>\n",
       "      <td>0.93</td>\n",
       "      <td>0.92</td>\n",
       "      <td>0.90</td>\n",
       "      <td>0.99</td>\n",
       "      <td>161</td>\n",
       "      <td>7</td>\n",
       "      <td>...</td>\n",
       "      <td>0</td>\n",
       "      <td>0</td>\n",
       "      <td>0</td>\n",
       "      <td>0</td>\n",
       "      <td>0</td>\n",
       "      <td>1</td>\n",
       "      <td>0</td>\n",
       "      <td>1</td>\n",
       "      <td>0</td>\n",
       "      <td>1</td>\n",
       "    </tr>\n",
       "    <tr>\n",
       "      <th>1</th>\n",
       "      <td>0</td>\n",
       "      <td>0.0</td>\n",
       "      <td>0.0</td>\n",
       "      <td>22</td>\n",
       "      <td>0.86</td>\n",
       "      <td>0.88</td>\n",
       "      <td>0.85</td>\n",
       "      <td>0.94</td>\n",
       "      <td>44</td>\n",
       "      <td>10</td>\n",
       "      <td>...</td>\n",
       "      <td>0</td>\n",
       "      <td>1</td>\n",
       "      <td>0</td>\n",
       "      <td>0</td>\n",
       "      <td>0</td>\n",
       "      <td>0</td>\n",
       "      <td>0</td>\n",
       "      <td>1</td>\n",
       "      <td>0</td>\n",
       "      <td>1</td>\n",
       "    </tr>\n",
       "    <tr>\n",
       "      <th>2</th>\n",
       "      <td>0</td>\n",
       "      <td>0.0</td>\n",
       "      <td>0.0</td>\n",
       "      <td>18</td>\n",
       "      <td>0.99</td>\n",
       "      <td>0.97</td>\n",
       "      <td>0.98</td>\n",
       "      <td>0.88</td>\n",
       "      <td>64</td>\n",
       "      <td>9</td>\n",
       "      <td>...</td>\n",
       "      <td>0</td>\n",
       "      <td>0</td>\n",
       "      <td>0</td>\n",
       "      <td>0</td>\n",
       "      <td>1</td>\n",
       "      <td>0</td>\n",
       "      <td>1</td>\n",
       "      <td>0</td>\n",
       "      <td>0</td>\n",
       "      <td>1</td>\n",
       "    </tr>\n",
       "    <tr>\n",
       "      <th>3</th>\n",
       "      <td>0</td>\n",
       "      <td>0.0</td>\n",
       "      <td>0.0</td>\n",
       "      <td>20</td>\n",
       "      <td>0.90</td>\n",
       "      <td>0.86</td>\n",
       "      <td>0.88</td>\n",
       "      <td>0.96</td>\n",
       "      <td>12</td>\n",
       "      <td>105</td>\n",
       "      <td>...</td>\n",
       "      <td>0</td>\n",
       "      <td>0</td>\n",
       "      <td>0</td>\n",
       "      <td>0</td>\n",
       "      <td>0</td>\n",
       "      <td>1</td>\n",
       "      <td>1</td>\n",
       "      <td>0</td>\n",
       "      <td>0</td>\n",
       "      <td>1</td>\n",
       "    </tr>\n",
       "    <tr>\n",
       "      <th>4</th>\n",
       "      <td>0</td>\n",
       "      <td>0.0</td>\n",
       "      <td>0.0</td>\n",
       "      <td>33</td>\n",
       "      <td>0.90</td>\n",
       "      <td>0.95</td>\n",
       "      <td>0.87</td>\n",
       "      <td>0.92</td>\n",
       "      <td>30</td>\n",
       "      <td>59</td>\n",
       "      <td>...</td>\n",
       "      <td>0</td>\n",
       "      <td>0</td>\n",
       "      <td>1</td>\n",
       "      <td>0</td>\n",
       "      <td>0</td>\n",
       "      <td>0</td>\n",
       "      <td>0</td>\n",
       "      <td>1</td>\n",
       "      <td>0</td>\n",
       "      <td>1</td>\n",
       "    </tr>\n",
       "    <tr>\n",
       "      <th>...</th>\n",
       "      <td>...</td>\n",
       "      <td>...</td>\n",
       "      <td>...</td>\n",
       "      <td>...</td>\n",
       "      <td>...</td>\n",
       "      <td>...</td>\n",
       "      <td>...</td>\n",
       "      <td>...</td>\n",
       "      <td>...</td>\n",
       "      <td>...</td>\n",
       "      <td>...</td>\n",
       "      <td>...</td>\n",
       "      <td>...</td>\n",
       "      <td>...</td>\n",
       "      <td>...</td>\n",
       "      <td>...</td>\n",
       "      <td>...</td>\n",
       "      <td>...</td>\n",
       "      <td>...</td>\n",
       "      <td>...</td>\n",
       "      <td>...</td>\n",
       "    </tr>\n",
       "    <tr>\n",
       "      <th>47111</th>\n",
       "      <td>1</td>\n",
       "      <td>1.0</td>\n",
       "      <td>114330509.0</td>\n",
       "      <td>27</td>\n",
       "      <td>0.91</td>\n",
       "      <td>0.96</td>\n",
       "      <td>0.96</td>\n",
       "      <td>0.98</td>\n",
       "      <td>222</td>\n",
       "      <td>3</td>\n",
       "      <td>...</td>\n",
       "      <td>0</td>\n",
       "      <td>0</td>\n",
       "      <td>0</td>\n",
       "      <td>1</td>\n",
       "      <td>0</td>\n",
       "      <td>0</td>\n",
       "      <td>0</td>\n",
       "      <td>1</td>\n",
       "      <td>0</td>\n",
       "      <td>1</td>\n",
       "    </tr>\n",
       "    <tr>\n",
       "      <th>47112</th>\n",
       "      <td>0</td>\n",
       "      <td>0.0</td>\n",
       "      <td>0.0</td>\n",
       "      <td>20</td>\n",
       "      <td>1.00</td>\n",
       "      <td>0.91</td>\n",
       "      <td>0.99</td>\n",
       "      <td>0.99</td>\n",
       "      <td>112</td>\n",
       "      <td>1</td>\n",
       "      <td>...</td>\n",
       "      <td>0</td>\n",
       "      <td>1</td>\n",
       "      <td>0</td>\n",
       "      <td>0</td>\n",
       "      <td>0</td>\n",
       "      <td>0</td>\n",
       "      <td>0</td>\n",
       "      <td>1</td>\n",
       "      <td>0</td>\n",
       "      <td>1</td>\n",
       "    </tr>\n",
       "    <tr>\n",
       "      <th>47113</th>\n",
       "      <td>0</td>\n",
       "      <td>1.0</td>\n",
       "      <td>22984874.0</td>\n",
       "      <td>25</td>\n",
       "      <td>0.95</td>\n",
       "      <td>0.94</td>\n",
       "      <td>1.00</td>\n",
       "      <td>0.90</td>\n",
       "      <td>55</td>\n",
       "      <td>85</td>\n",
       "      <td>...</td>\n",
       "      <td>0</td>\n",
       "      <td>0</td>\n",
       "      <td>0</td>\n",
       "      <td>0</td>\n",
       "      <td>0</td>\n",
       "      <td>1</td>\n",
       "      <td>0</td>\n",
       "      <td>1</td>\n",
       "      <td>0</td>\n",
       "      <td>1</td>\n",
       "    </tr>\n",
       "    <tr>\n",
       "      <th>47114</th>\n",
       "      <td>0</td>\n",
       "      <td>2.0</td>\n",
       "      <td>453289690.0</td>\n",
       "      <td>33</td>\n",
       "      <td>0.94</td>\n",
       "      <td>0.91</td>\n",
       "      <td>0.86</td>\n",
       "      <td>0.91</td>\n",
       "      <td>139</td>\n",
       "      <td>162</td>\n",
       "      <td>...</td>\n",
       "      <td>0</td>\n",
       "      <td>0</td>\n",
       "      <td>0</td>\n",
       "      <td>0</td>\n",
       "      <td>1</td>\n",
       "      <td>0</td>\n",
       "      <td>1</td>\n",
       "      <td>0</td>\n",
       "      <td>0</td>\n",
       "      <td>1</td>\n",
       "    </tr>\n",
       "    <tr>\n",
       "      <th>47115</th>\n",
       "      <td>0</td>\n",
       "      <td>0.0</td>\n",
       "      <td>0.0</td>\n",
       "      <td>28</td>\n",
       "      <td>0.94</td>\n",
       "      <td>0.91</td>\n",
       "      <td>0.87</td>\n",
       "      <td>0.90</td>\n",
       "      <td>23</td>\n",
       "      <td>219</td>\n",
       "      <td>...</td>\n",
       "      <td>0</td>\n",
       "      <td>0</td>\n",
       "      <td>0</td>\n",
       "      <td>1</td>\n",
       "      <td>0</td>\n",
       "      <td>0</td>\n",
       "      <td>0</td>\n",
       "      <td>1</td>\n",
       "      <td>0</td>\n",
       "      <td>1</td>\n",
       "    </tr>\n",
       "  </tbody>\n",
       "</table>\n",
       "<p>47116 rows × 34 columns</p>\n",
       "</div>"
      ],
      "text/plain": [
       "       fraud_type  trans_cnt    trans_amt  age  score_sanity  score_tampering  \\\n",
       "0               1        0.0          0.0   23          0.93             0.92   \n",
       "1               0        0.0          0.0   22          0.86             0.88   \n",
       "2               0        0.0          0.0   18          0.99             0.97   \n",
       "3               0        0.0          0.0   20          0.90             0.86   \n",
       "4               0        0.0          0.0   33          0.90             0.95   \n",
       "...           ...        ...          ...  ...           ...              ...   \n",
       "47111           1        1.0  114330509.0   27          0.91             0.96   \n",
       "47112           0        0.0          0.0   20          1.00             0.91   \n",
       "47113           0        1.0   22984874.0   25          0.95             0.94   \n",
       "47114           0        2.0  453289690.0   33          0.94             0.91   \n",
       "47115           0        0.0          0.0   28          0.94             0.91   \n",
       "\n",
       "       score_liveness  score_matching  click_to_install  install_to_ekyc  ...  \\\n",
       "0                0.90            0.99               161                7  ...   \n",
       "1                0.85            0.94                44               10  ...   \n",
       "2                0.98            0.88                64                9  ...   \n",
       "3                0.88            0.96                12              105  ...   \n",
       "4                0.87            0.92                30               59  ...   \n",
       "...               ...             ...               ...              ...  ...   \n",
       "47111            0.96            0.98               222                3  ...   \n",
       "47112            0.99            0.99               112                1  ...   \n",
       "47113            1.00            0.90                55               85  ...   \n",
       "47114            0.86            0.91               139              162  ...   \n",
       "47115            0.87            0.90                23              219  ...   \n",
       "\n",
       "       crm_source_ZaloAdtima  crm_channel_Digital Direct Sale  \\\n",
       "0                          0                                0   \n",
       "1                          0                                1   \n",
       "2                          0                                0   \n",
       "3                          0                                0   \n",
       "4                          0                                0   \n",
       "...                      ...                              ...   \n",
       "47111                      0                                0   \n",
       "47112                      0                                1   \n",
       "47113                      0                                0   \n",
       "47114                      0                                0   \n",
       "47115                      0                                0   \n",
       "\n",
       "       crm_channel_Ecosystem  crm_channel_Partnership  crm_channel_RB  \\\n",
       "0                          0                        0               0   \n",
       "1                          0                        0               0   \n",
       "2                          0                        0               1   \n",
       "3                          0                        0               0   \n",
       "4                          1                        0               0   \n",
       "...                      ...                      ...             ...   \n",
       "47111                      0                        1               0   \n",
       "47112                      0                        0               0   \n",
       "47113                      0                        0               0   \n",
       "47114                      0                        0               1   \n",
       "47115                      0                        1               0   \n",
       "\n",
       "       crm_channel_Telesale  input_gender_F  input_gender_M  \\\n",
       "0                         1               0               1   \n",
       "1                         0               0               1   \n",
       "2                         0               1               0   \n",
       "3                         1               1               0   \n",
       "4                         0               0               1   \n",
       "...                     ...             ...             ...   \n",
       "47111                     0               0               1   \n",
       "47112                     0               0               1   \n",
       "47113                     1               0               1   \n",
       "47114                     0               1               0   \n",
       "47115                     0               0               1   \n",
       "\n",
       "       input_nationality_OTHERS  input_nationality_VIETNAMESE  \n",
       "0                             0                             1  \n",
       "1                             0                             1  \n",
       "2                             0                             1  \n",
       "3                             0                             1  \n",
       "4                             0                             1  \n",
       "...                         ...                           ...  \n",
       "47111                         0                             1  \n",
       "47112                         0                             1  \n",
       "47113                         0                             1  \n",
       "47114                         0                             1  \n",
       "47115                         0                             1  \n",
       "\n",
       "[47116 rows x 34 columns]"
      ]
     },
     "execution_count": 530,
     "metadata": {},
     "output_type": "execute_result"
    }
   ],
   "source": [
    "df"
   ]
  },
  {
   "cell_type": "code",
   "execution_count": 558,
   "id": "b834daa9",
   "metadata": {},
   "outputs": [
    {
     "data": {
      "text/plain": [
       "(46284, 34)"
      ]
     },
     "execution_count": 558,
     "metadata": {},
     "output_type": "execute_result"
    }
   ],
   "source": [
    "df = df[df['account_to_trans'] >=0]\n",
    "df.shape"
   ]
  },
  {
   "cell_type": "markdown",
   "id": "d53e4480",
   "metadata": {},
   "source": [
    "### 4. Modelling"
   ]
  },
  {
   "cell_type": "code",
   "execution_count": 559,
   "id": "2e2612a2",
   "metadata": {},
   "outputs": [
    {
     "data": {
      "text/plain": [
       "((46284, 33), (46284,))"
      ]
     },
     "execution_count": 559,
     "metadata": {},
     "output_type": "execute_result"
    }
   ],
   "source": [
    "X = df.drop('fraud_type', axis=1).copy()\n",
    "y = df['fraud_type']\n",
    "#y = y[X.index]\n",
    "X.shape, y.shape"
   ]
  },
  {
   "cell_type": "code",
   "execution_count": 561,
   "id": "6ff3ab94",
   "metadata": {},
   "outputs": [],
   "source": [
    "from sklearn.model_selection import train_test_split, learning_curve, RandomizedSearchCV\n",
    "\n",
    "X_train, X_test, y_train, y_test = train_test_split(X, y, random_state=0,  test_size=0.3, \n",
    "                                                    stratify=df['fraud_type'], shuffle=True)"
   ]
  },
  {
   "cell_type": "code",
   "execution_count": 562,
   "id": "7197e217",
   "metadata": {},
   "outputs": [],
   "source": [
    "from sklearn.preprocessing import StandardScaler\n",
    "sc = StandardScaler()\n",
    "X_train = sc.fit_transform(X_train)\n",
    "X_test = sc.transform(X_test)"
   ]
  },
  {
   "cell_type": "code",
   "execution_count": 563,
   "id": "d91e72cd",
   "metadata": {},
   "outputs": [
    {
     "data": {
      "text/plain": [
       "0    0.835662\n",
       "1    0.164338\n",
       "Name: fraud_type, dtype: float64"
      ]
     },
     "execution_count": 563,
     "metadata": {},
     "output_type": "execute_result"
    }
   ],
   "source": [
    "y_test.value_counts(normalize=True)"
   ]
  },
  {
   "cell_type": "markdown",
   "id": "2727e26b",
   "metadata": {},
   "source": [
    "### 4.1. Logistic Regression"
   ]
  },
  {
   "cell_type": "code",
   "execution_count": 564,
   "id": "2bc7e020",
   "metadata": {},
   "outputs": [],
   "source": [
    "from sklearn.linear_model import LogisticRegression\n",
    "logreg = LogisticRegression(random_state= 0).fit(X_train, y_train)"
   ]
  },
  {
   "cell_type": "code",
   "execution_count": 565,
   "id": "80c6689c",
   "metadata": {},
   "outputs": [
    {
     "data": {
      "text/plain": [
       "0.8349280819803692"
      ]
     },
     "execution_count": 565,
     "metadata": {},
     "output_type": "execute_result"
    }
   ],
   "source": [
    "# the accuracy of the model\n",
    "logreg.score(X_train, y_train)"
   ]
  },
  {
   "cell_type": "code",
   "execution_count": 566,
   "id": "6f8c5026",
   "metadata": {},
   "outputs": [
    {
     "data": {
      "text/plain": [
       "0.8352297277833789"
      ]
     },
     "execution_count": 566,
     "metadata": {},
     "output_type": "execute_result"
    }
   ],
   "source": [
    "logreg.score(X_test, y_test)"
   ]
  },
  {
   "cell_type": "code",
   "execution_count": 567,
   "id": "f4efda66",
   "metadata": {},
   "outputs": [
    {
     "data": {
      "text/plain": [
       "array([0, 0, 0, 0, 0, 0, 0, 0, 0, 0, 0, 0, 0, 0, 0, 0, 0, 0, 0, 0],\n",
       "      dtype=int64)"
      ]
     },
     "execution_count": 567,
     "metadata": {},
     "output_type": "execute_result"
    }
   ],
   "source": [
    "# let's check the model to predict\n",
    "logreg.predict(X_train[:20])"
   ]
  },
  {
   "cell_type": "code",
   "execution_count": 568,
   "id": "066c88fa",
   "metadata": {},
   "outputs": [],
   "source": [
    "y_pred = logreg.predict(X_test)"
   ]
  },
  {
   "cell_type": "code",
   "execution_count": 569,
   "id": "37491338",
   "metadata": {},
   "outputs": [],
   "source": [
    "from sklearn import metrics\n",
    "cm = metrics.confusion_matrix(y_test, y_pred)"
   ]
  },
  {
   "cell_type": "code",
   "execution_count": 570,
   "id": "31823351",
   "metadata": {},
   "outputs": [
    {
     "data": {
      "image/png": "[encoded data removed]",
      "text/plain": [
       "<Figure size 640x480 with 1 Axes>"
      ]
     },
     "metadata": {},
     "output_type": "display_data"
    }
   ],
   "source": [
    "sns.heatmap(cm, annot= True, fmt = '0.3f', linewidth = 0.5,\n",
    "           square = True, cbar = False)\n",
    "plt.ylabel('Actual Values')\n",
    "plt.xlabel('Predicted Values')\n",
    "plt.show()"
   ]
  },
  {
   "cell_type": "code",
   "execution_count": 571,
   "id": "bf402122",
   "metadata": {},
   "outputs": [
    {
     "name": "stdout",
     "output_type": "stream",
     "text": [
      "              precision    recall  f1-score   support\n",
      "\n",
      "           0       0.84      1.00      0.91     11604\n",
      "           1       0.36      0.00      0.01      2282\n",
      "\n",
      "    accuracy                           0.84     13886\n",
      "   macro avg       0.60      0.50      0.46     13886\n",
      "weighted avg       0.76      0.84      0.76     13886\n",
      "\n"
     ]
    }
   ],
   "source": [
    "print(metrics.classification_report(y_test, y_pred))"
   ]
  },
  {
   "cell_type": "markdown",
   "id": "4fd98932",
   "metadata": {},
   "source": [
    "### 4.2. Decision Tree Classifier and GridSearchCV"
   ]
  },
  {
   "cell_type": "code",
   "execution_count": 572,
   "id": "eee6dd80",
   "metadata": {},
   "outputs": [
    {
     "data": {
      "text/html": [
       "<style>#sk-container-id-5 {color: black;}#sk-container-id-5 pre{padding: 0;}#sk-container-id-5 div.sk-toggleable {background-color: white;}#sk-container-id-5 label.sk-toggleable__label {cursor: pointer;display: block;width: 100%;margin-bottom: 0;padding: 0.3em;box-sizing: border-box;text-align: center;}#sk-container-id-5 label.sk-toggleable__label-arrow:before {content: \"▸\";float: left;margin-right: 0.25em;color: #696969;}#sk-container-id-5 label.sk-toggleable__label-arrow:hover:before {color: black;}#sk-container-id-5 div.sk-estimator:hover label.sk-toggleable__label-arrow:before {color: black;}#sk-container-id-5 div.sk-toggleable__content {max-height: 0;max-width: 0;overflow: hidden;text-align: left;background-color: #f0f8ff;}#sk-container-id-5 div.sk-toggleable__content pre {margin: 0.2em;color: black;border-radius: 0.25em;background-color: #f0f8ff;}#sk-container-id-5 input.sk-toggleable__control:checked~div.sk-toggleable__content {max-height: 200px;max-width: 100%;overflow: auto;}#sk-container-id-5 input.sk-toggleable__control:checked~label.sk-toggleable__label-arrow:before {content: \"▾\";}#sk-container-id-5 div.sk-estimator input.sk-toggleable__control:checked~label.sk-toggleable__label {background-color: #d4ebff;}#sk-container-id-5 div.sk-label input.sk-toggleable__control:checked~label.sk-toggleable__label {background-color: #d4ebff;}#sk-container-id-5 input.sk-hidden--visually {border: 0;clip: rect(1px 1px 1px 1px);clip: rect(1px, 1px, 1px, 1px);height: 1px;margin: -1px;overflow: hidden;padding: 0;position: absolute;width: 1px;}#sk-container-id-5 div.sk-estimator {font-family: monospace;background-color: #f0f8ff;border: 1px dotted black;border-radius: 0.25em;box-sizing: border-box;margin-bottom: 0.5em;}#sk-container-id-5 div.sk-estimator:hover {background-color: #d4ebff;}#sk-container-id-5 div.sk-parallel-item::after {content: \"\";width: 100%;border-bottom: 1px solid gray;flex-grow: 1;}#sk-container-id-5 div.sk-label:hover label.sk-toggleable__label {background-color: #d4ebff;}#sk-container-id-5 div.sk-serial::before {content: \"\";position: absolute;border-left: 1px solid gray;box-sizing: border-box;top: 0;bottom: 0;left: 50%;z-index: 0;}#sk-container-id-5 div.sk-serial {display: flex;flex-direction: column;align-items: center;background-color: white;padding-right: 0.2em;padding-left: 0.2em;position: relative;}#sk-container-id-5 div.sk-item {position: relative;z-index: 1;}#sk-container-id-5 div.sk-parallel {display: flex;align-items: stretch;justify-content: center;background-color: white;position: relative;}#sk-container-id-5 div.sk-item::before, #sk-container-id-5 div.sk-parallel-item::before {content: \"\";position: absolute;border-left: 1px solid gray;box-sizing: border-box;top: 0;bottom: 0;left: 50%;z-index: -1;}#sk-container-id-5 div.sk-parallel-item {display: flex;flex-direction: column;z-index: 1;position: relative;background-color: white;}#sk-container-id-5 div.sk-parallel-item:first-child::after {align-self: flex-end;width: 50%;}#sk-container-id-5 div.sk-parallel-item:last-child::after {align-self: flex-start;width: 50%;}#sk-container-id-5 div.sk-parallel-item:only-child::after {width: 0;}#sk-container-id-5 div.sk-dashed-wrapped {border: 1px dashed gray;margin: 0 0.4em 0.5em 0.4em;box-sizing: border-box;padding-bottom: 0.4em;background-color: white;}#sk-container-id-5 div.sk-label label {font-family: monospace;font-weight: bold;display: inline-block;line-height: 1.2em;}#sk-container-id-5 div.sk-label-container {text-align: center;}#sk-container-id-5 div.sk-container {/* jupyter's `normalize.less` sets `[hidden] { display: none; }` but bootstrap.min.css set `[hidden] { display: none !important; }` so we also need the `!important` here to be able to override the default hidden behavior on the sphinx rendered scikit-learn.org. See: https://github.com/scikit-learn/scikit-learn/issues/21755 */display: inline-block !important;position: relative;}#sk-container-id-5 div.sk-text-repr-fallback {display: none;}</style><div id=\"sk-container-id-5\" class=\"sk-top-container\"><div class=\"sk-text-repr-fallback\"><pre>DecisionTreeClassifier()</pre><b>In a Jupyter environment, please rerun this cell to show the HTML representation or trust the notebook. <br />On GitHub, the HTML representation is unable to render, please try loading this page with nbviewer.org.</b></div><div class=\"sk-container\" hidden><div class=\"sk-item\"><div class=\"sk-estimator sk-toggleable\"><input class=\"sk-toggleable__control sk-hidden--visually\" id=\"sk-estimator-id-7\" type=\"checkbox\" checked><label for=\"sk-estimator-id-7\" class=\"sk-toggleable__label sk-toggleable__label-arrow\">DecisionTreeClassifier</label><div class=\"sk-toggleable__content\"><pre>DecisionTreeClassifier()</pre></div></div></div></div></div>"
      ],
      "text/plain": [
       "DecisionTreeClassifier()"
      ]
     },
     "execution_count": 572,
     "metadata": {},
     "output_type": "execute_result"
    }
   ],
   "source": [
    "from sklearn.tree import DecisionTreeClassifier \n",
    "\n",
    "dt = DecisionTreeClassifier()\n",
    "dt.fit(X_train, y_train)"
   ]
  },
  {
   "cell_type": "code",
   "execution_count": 573,
   "id": "9653108f",
   "metadata": {},
   "outputs": [
    {
     "data": {
      "text/plain": [
       "1.0"
      ]
     },
     "execution_count": 573,
     "metadata": {},
     "output_type": "execute_result"
    }
   ],
   "source": [
    "dt.score(X_train, y_train)"
   ]
  },
  {
   "cell_type": "code",
   "execution_count": 574,
   "id": "4ef7223e",
   "metadata": {},
   "outputs": [
    {
     "data": {
      "text/plain": [
       "0.7364251764366988"
      ]
     },
     "execution_count": 574,
     "metadata": {},
     "output_type": "execute_result"
    }
   ],
   "source": [
    "dt.score(X_test, y_test)"
   ]
  },
  {
   "cell_type": "markdown",
   "id": "7af59a1d",
   "metadata": {},
   "source": [
    "dùng tham số max_depth =8"
   ]
  },
  {
   "cell_type": "code",
   "execution_count": 575,
   "id": "60e8a26c",
   "metadata": {},
   "outputs": [
    {
     "data": {
      "text/html": [
       "<style>#sk-container-id-6 {color: black;}#sk-container-id-6 pre{padding: 0;}#sk-container-id-6 div.sk-toggleable {background-color: white;}#sk-container-id-6 label.sk-toggleable__label {cursor: pointer;display: block;width: 100%;margin-bottom: 0;padding: 0.3em;box-sizing: border-box;text-align: center;}#sk-container-id-6 label.sk-toggleable__label-arrow:before {content: \"▸\";float: left;margin-right: 0.25em;color: #696969;}#sk-container-id-6 label.sk-toggleable__label-arrow:hover:before {color: black;}#sk-container-id-6 div.sk-estimator:hover label.sk-toggleable__label-arrow:before {color: black;}#sk-container-id-6 div.sk-toggleable__content {max-height: 0;max-width: 0;overflow: hidden;text-align: left;background-color: #f0f8ff;}#sk-container-id-6 div.sk-toggleable__content pre {margin: 0.2em;color: black;border-radius: 0.25em;background-color: #f0f8ff;}#sk-container-id-6 input.sk-toggleable__control:checked~div.sk-toggleable__content {max-height: 200px;max-width: 100%;overflow: auto;}#sk-container-id-6 input.sk-toggleable__control:checked~label.sk-toggleable__label-arrow:before {content: \"▾\";}#sk-container-id-6 div.sk-estimator input.sk-toggleable__control:checked~label.sk-toggleable__label {background-color: #d4ebff;}#sk-container-id-6 div.sk-label input.sk-toggleable__control:checked~label.sk-toggleable__label {background-color: #d4ebff;}#sk-container-id-6 input.sk-hidden--visually {border: 0;clip: rect(1px 1px 1px 1px);clip: rect(1px, 1px, 1px, 1px);height: 1px;margin: -1px;overflow: hidden;padding: 0;position: absolute;width: 1px;}#sk-container-id-6 div.sk-estimator {font-family: monospace;background-color: #f0f8ff;border: 1px dotted black;border-radius: 0.25em;box-sizing: border-box;margin-bottom: 0.5em;}#sk-container-id-6 div.sk-estimator:hover {background-color: #d4ebff;}#sk-container-id-6 div.sk-parallel-item::after {content: \"\";width: 100%;border-bottom: 1px solid gray;flex-grow: 1;}#sk-container-id-6 div.sk-label:hover label.sk-toggleable__label {background-color: #d4ebff;}#sk-container-id-6 div.sk-serial::before {content: \"\";position: absolute;border-left: 1px solid gray;box-sizing: border-box;top: 0;bottom: 0;left: 50%;z-index: 0;}#sk-container-id-6 div.sk-serial {display: flex;flex-direction: column;align-items: center;background-color: white;padding-right: 0.2em;padding-left: 0.2em;position: relative;}#sk-container-id-6 div.sk-item {position: relative;z-index: 1;}#sk-container-id-6 div.sk-parallel {display: flex;align-items: stretch;justify-content: center;background-color: white;position: relative;}#sk-container-id-6 div.sk-item::before, #sk-container-id-6 div.sk-parallel-item::before {content: \"\";position: absolute;border-left: 1px solid gray;box-sizing: border-box;top: 0;bottom: 0;left: 50%;z-index: -1;}#sk-container-id-6 div.sk-parallel-item {display: flex;flex-direction: column;z-index: 1;position: relative;background-color: white;}#sk-container-id-6 div.sk-parallel-item:first-child::after {align-self: flex-end;width: 50%;}#sk-container-id-6 div.sk-parallel-item:last-child::after {align-self: flex-start;width: 50%;}#sk-container-id-6 div.sk-parallel-item:only-child::after {width: 0;}#sk-container-id-6 div.sk-dashed-wrapped {border: 1px dashed gray;margin: 0 0.4em 0.5em 0.4em;box-sizing: border-box;padding-bottom: 0.4em;background-color: white;}#sk-container-id-6 div.sk-label label {font-family: monospace;font-weight: bold;display: inline-block;line-height: 1.2em;}#sk-container-id-6 div.sk-label-container {text-align: center;}#sk-container-id-6 div.sk-container {/* jupyter's `normalize.less` sets `[hidden] { display: none; }` but bootstrap.min.css set `[hidden] { display: none !important; }` so we also need the `!important` here to be able to override the default hidden behavior on the sphinx rendered scikit-learn.org. See: https://github.com/scikit-learn/scikit-learn/issues/21755 */display: inline-block !important;position: relative;}#sk-container-id-6 div.sk-text-repr-fallback {display: none;}</style><div id=\"sk-container-id-6\" class=\"sk-top-container\"><div class=\"sk-text-repr-fallback\"><pre>DecisionTreeClassifier(max_depth=8)</pre><b>In a Jupyter environment, please rerun this cell to show the HTML representation or trust the notebook. <br />On GitHub, the HTML representation is unable to render, please try loading this page with nbviewer.org.</b></div><div class=\"sk-container\" hidden><div class=\"sk-item\"><div class=\"sk-estimator sk-toggleable\"><input class=\"sk-toggleable__control sk-hidden--visually\" id=\"sk-estimator-id-8\" type=\"checkbox\" checked><label for=\"sk-estimator-id-8\" class=\"sk-toggleable__label sk-toggleable__label-arrow\">DecisionTreeClassifier</label><div class=\"sk-toggleable__content\"><pre>DecisionTreeClassifier(max_depth=8)</pre></div></div></div></div></div>"
      ],
      "text/plain": [
       "DecisionTreeClassifier(max_depth=8)"
      ]
     },
     "execution_count": 575,
     "metadata": {},
     "output_type": "execute_result"
    }
   ],
   "source": [
    "dt1 = DecisionTreeClassifier(max_depth=8)\n",
    "dt1.fit(X_train, y_train)"
   ]
  },
  {
   "cell_type": "code",
   "execution_count": 576,
   "id": "6e0e4a7f",
   "metadata": {},
   "outputs": [
    {
     "name": "stdout",
     "output_type": "stream",
     "text": [
      "training data score: 0.839218470275943\n",
      "test data score 0.8326371885352153\n"
     ]
    }
   ],
   "source": [
    "print(\"training data score: \" + str(dt1.score(X_train, y_train)))\n",
    "print('test data score ' + str(dt1.score(X_test, y_test)))"
   ]
  },
  {
   "cell_type": "markdown",
   "id": "3e8a94f1",
   "metadata": {},
   "source": [
    "Using DecisionTree model with GridSearchCV"
   ]
  },
  {
   "cell_type": "code",
   "execution_count": 577,
   "id": "abd84b72",
   "metadata": {},
   "outputs": [],
   "source": [
    "from sklearn.model_selection import GridSearchCV \n",
    "parameters = {'max_depth': [3, 4, 5, 6, 7], 'max_leaf_nodes': [2, 3, 4, 5, 6]}\n",
    "dt2 = DecisionTreeClassifier()\n",
    "dt2 = GridSearchCV(dt2, parameters)"
   ]
  },
  {
   "cell_type": "code",
   "execution_count": 578,
   "id": "84eb50ae",
   "metadata": {},
   "outputs": [
    {
     "data": {
      "text/html": [
       "<style>#sk-container-id-7 {color: black;}#sk-container-id-7 pre{padding: 0;}#sk-container-id-7 div.sk-toggleable {background-color: white;}#sk-container-id-7 label.sk-toggleable__label {cursor: pointer;display: block;width: 100%;margin-bottom: 0;padding: 0.3em;box-sizing: border-box;text-align: center;}#sk-container-id-7 label.sk-toggleable__label-arrow:before {content: \"▸\";float: left;margin-right: 0.25em;color: #696969;}#sk-container-id-7 label.sk-toggleable__label-arrow:hover:before {color: black;}#sk-container-id-7 div.sk-estimator:hover label.sk-toggleable__label-arrow:before {color: black;}#sk-container-id-7 div.sk-toggleable__content {max-height: 0;max-width: 0;overflow: hidden;text-align: left;background-color: #f0f8ff;}#sk-container-id-7 div.sk-toggleable__content pre {margin: 0.2em;color: black;border-radius: 0.25em;background-color: #f0f8ff;}#sk-container-id-7 input.sk-toggleable__control:checked~div.sk-toggleable__content {max-height: 200px;max-width: 100%;overflow: auto;}#sk-container-id-7 input.sk-toggleable__control:checked~label.sk-toggleable__label-arrow:before {content: \"▾\";}#sk-container-id-7 div.sk-estimator input.sk-toggleable__control:checked~label.sk-toggleable__label {background-color: #d4ebff;}#sk-container-id-7 div.sk-label input.sk-toggleable__control:checked~label.sk-toggleable__label {background-color: #d4ebff;}#sk-container-id-7 input.sk-hidden--visually {border: 0;clip: rect(1px 1px 1px 1px);clip: rect(1px, 1px, 1px, 1px);height: 1px;margin: -1px;overflow: hidden;padding: 0;position: absolute;width: 1px;}#sk-container-id-7 div.sk-estimator {font-family: monospace;background-color: #f0f8ff;border: 1px dotted black;border-radius: 0.25em;box-sizing: border-box;margin-bottom: 0.5em;}#sk-container-id-7 div.sk-estimator:hover {background-color: #d4ebff;}#sk-container-id-7 div.sk-parallel-item::after {content: \"\";width: 100%;border-bottom: 1px solid gray;flex-grow: 1;}#sk-container-id-7 div.sk-label:hover label.sk-toggleable__label {background-color: #d4ebff;}#sk-container-id-7 div.sk-serial::before {content: \"\";position: absolute;border-left: 1px solid gray;box-sizing: border-box;top: 0;bottom: 0;left: 50%;z-index: 0;}#sk-container-id-7 div.sk-serial {display: flex;flex-direction: column;align-items: center;background-color: white;padding-right: 0.2em;padding-left: 0.2em;position: relative;}#sk-container-id-7 div.sk-item {position: relative;z-index: 1;}#sk-container-id-7 div.sk-parallel {display: flex;align-items: stretch;justify-content: center;background-color: white;position: relative;}#sk-container-id-7 div.sk-item::before, #sk-container-id-7 div.sk-parallel-item::before {content: \"\";position: absolute;border-left: 1px solid gray;box-sizing: border-box;top: 0;bottom: 0;left: 50%;z-index: -1;}#sk-container-id-7 div.sk-parallel-item {display: flex;flex-direction: column;z-index: 1;position: relative;background-color: white;}#sk-container-id-7 div.sk-parallel-item:first-child::after {align-self: flex-end;width: 50%;}#sk-container-id-7 div.sk-parallel-item:last-child::after {align-self: flex-start;width: 50%;}#sk-container-id-7 div.sk-parallel-item:only-child::after {width: 0;}#sk-container-id-7 div.sk-dashed-wrapped {border: 1px dashed gray;margin: 0 0.4em 0.5em 0.4em;box-sizing: border-box;padding-bottom: 0.4em;background-color: white;}#sk-container-id-7 div.sk-label label {font-family: monospace;font-weight: bold;display: inline-block;line-height: 1.2em;}#sk-container-id-7 div.sk-label-container {text-align: center;}#sk-container-id-7 div.sk-container {/* jupyter's `normalize.less` sets `[hidden] { display: none; }` but bootstrap.min.css set `[hidden] { display: none !important; }` so we also need the `!important` here to be able to override the default hidden behavior on the sphinx rendered scikit-learn.org. See: https://github.com/scikit-learn/scikit-learn/issues/21755 */display: inline-block !important;position: relative;}#sk-container-id-7 div.sk-text-repr-fallback {display: none;}</style><div id=\"sk-container-id-7\" class=\"sk-top-container\"><div class=\"sk-text-repr-fallback\"><pre>GridSearchCV(estimator=DecisionTreeClassifier(),\n",
       "             param_grid={&#x27;max_depth&#x27;: [3, 4, 5, 6, 7],\n",
       "                         &#x27;max_leaf_nodes&#x27;: [2, 3, 4, 5, 6]})</pre><b>In a Jupyter environment, please rerun this cell to show the HTML representation or trust the notebook. <br />On GitHub, the HTML representation is unable to render, please try loading this page with nbviewer.org.</b></div><div class=\"sk-container\" hidden><div class=\"sk-item sk-dashed-wrapped\"><div class=\"sk-label-container\"><div class=\"sk-label sk-toggleable\"><input class=\"sk-toggleable__control sk-hidden--visually\" id=\"sk-estimator-id-9\" type=\"checkbox\" ><label for=\"sk-estimator-id-9\" class=\"sk-toggleable__label sk-toggleable__label-arrow\">GridSearchCV</label><div class=\"sk-toggleable__content\"><pre>GridSearchCV(estimator=DecisionTreeClassifier(),\n",
       "             param_grid={&#x27;max_depth&#x27;: [3, 4, 5, 6, 7],\n",
       "                         &#x27;max_leaf_nodes&#x27;: [2, 3, 4, 5, 6]})</pre></div></div></div><div class=\"sk-parallel\"><div class=\"sk-parallel-item\"><div class=\"sk-item\"><div class=\"sk-label-container\"><div class=\"sk-label sk-toggleable\"><input class=\"sk-toggleable__control sk-hidden--visually\" id=\"sk-estimator-id-10\" type=\"checkbox\" ><label for=\"sk-estimator-id-10\" class=\"sk-toggleable__label sk-toggleable__label-arrow\">estimator: DecisionTreeClassifier</label><div class=\"sk-toggleable__content\"><pre>DecisionTreeClassifier()</pre></div></div></div><div class=\"sk-serial\"><div class=\"sk-item\"><div class=\"sk-estimator sk-toggleable\"><input class=\"sk-toggleable__control sk-hidden--visually\" id=\"sk-estimator-id-11\" type=\"checkbox\" ><label for=\"sk-estimator-id-11\" class=\"sk-toggleable__label sk-toggleable__label-arrow\">DecisionTreeClassifier</label><div class=\"sk-toggleable__content\"><pre>DecisionTreeClassifier()</pre></div></div></div></div></div></div></div></div></div></div>"
      ],
      "text/plain": [
       "GridSearchCV(estimator=DecisionTreeClassifier(),\n",
       "             param_grid={'max_depth': [3, 4, 5, 6, 7],\n",
       "                         'max_leaf_nodes': [2, 3, 4, 5, 6]})"
      ]
     },
     "execution_count": 578,
     "metadata": {},
     "output_type": "execute_result"
    }
   ],
   "source": [
    "dt2.fit(X_train, y_train)"
   ]
  },
  {
   "cell_type": "code",
   "execution_count": 579,
   "id": "e001e2d5",
   "metadata": {},
   "outputs": [
    {
     "name": "stdout",
     "output_type": "stream",
     "text": [
      "training data score: 0.8356997345515155\n",
      "test data score 0.8356618176580729\n"
     ]
    }
   ],
   "source": [
    "print(\"training data score: \" + str(dt2.score(X_train, y_train)))\n",
    "print('test data score ' + str(dt2.score(X_test, y_test)))"
   ]
  },
  {
   "cell_type": "code",
   "execution_count": 580,
   "id": "7dd7aa93",
   "metadata": {},
   "outputs": [
    {
     "data": {
      "text/plain": [
       "{'max_depth': 3, 'max_leaf_nodes': 2}"
      ]
     },
     "execution_count": 580,
     "metadata": {},
     "output_type": "execute_result"
    }
   ],
   "source": [
    "dt2.best_params_"
   ]
  },
  {
   "cell_type": "code",
   "execution_count": 581,
   "id": "4ede3f31",
   "metadata": {},
   "outputs": [
    {
     "data": {
      "text/html": [
       "<style>#sk-container-id-8 {color: black;}#sk-container-id-8 pre{padding: 0;}#sk-container-id-8 div.sk-toggleable {background-color: white;}#sk-container-id-8 label.sk-toggleable__label {cursor: pointer;display: block;width: 100%;margin-bottom: 0;padding: 0.3em;box-sizing: border-box;text-align: center;}#sk-container-id-8 label.sk-toggleable__label-arrow:before {content: \"▸\";float: left;margin-right: 0.25em;color: #696969;}#sk-container-id-8 label.sk-toggleable__label-arrow:hover:before {color: black;}#sk-container-id-8 div.sk-estimator:hover label.sk-toggleable__label-arrow:before {color: black;}#sk-container-id-8 div.sk-toggleable__content {max-height: 0;max-width: 0;overflow: hidden;text-align: left;background-color: #f0f8ff;}#sk-container-id-8 div.sk-toggleable__content pre {margin: 0.2em;color: black;border-radius: 0.25em;background-color: #f0f8ff;}#sk-container-id-8 input.sk-toggleable__control:checked~div.sk-toggleable__content {max-height: 200px;max-width: 100%;overflow: auto;}#sk-container-id-8 input.sk-toggleable__control:checked~label.sk-toggleable__label-arrow:before {content: \"▾\";}#sk-container-id-8 div.sk-estimator input.sk-toggleable__control:checked~label.sk-toggleable__label {background-color: #d4ebff;}#sk-container-id-8 div.sk-label input.sk-toggleable__control:checked~label.sk-toggleable__label {background-color: #d4ebff;}#sk-container-id-8 input.sk-hidden--visually {border: 0;clip: rect(1px 1px 1px 1px);clip: rect(1px, 1px, 1px, 1px);height: 1px;margin: -1px;overflow: hidden;padding: 0;position: absolute;width: 1px;}#sk-container-id-8 div.sk-estimator {font-family: monospace;background-color: #f0f8ff;border: 1px dotted black;border-radius: 0.25em;box-sizing: border-box;margin-bottom: 0.5em;}#sk-container-id-8 div.sk-estimator:hover {background-color: #d4ebff;}#sk-container-id-8 div.sk-parallel-item::after {content: \"\";width: 100%;border-bottom: 1px solid gray;flex-grow: 1;}#sk-container-id-8 div.sk-label:hover label.sk-toggleable__label {background-color: #d4ebff;}#sk-container-id-8 div.sk-serial::before {content: \"\";position: absolute;border-left: 1px solid gray;box-sizing: border-box;top: 0;bottom: 0;left: 50%;z-index: 0;}#sk-container-id-8 div.sk-serial {display: flex;flex-direction: column;align-items: center;background-color: white;padding-right: 0.2em;padding-left: 0.2em;position: relative;}#sk-container-id-8 div.sk-item {position: relative;z-index: 1;}#sk-container-id-8 div.sk-parallel {display: flex;align-items: stretch;justify-content: center;background-color: white;position: relative;}#sk-container-id-8 div.sk-item::before, #sk-container-id-8 div.sk-parallel-item::before {content: \"\";position: absolute;border-left: 1px solid gray;box-sizing: border-box;top: 0;bottom: 0;left: 50%;z-index: -1;}#sk-container-id-8 div.sk-parallel-item {display: flex;flex-direction: column;z-index: 1;position: relative;background-color: white;}#sk-container-id-8 div.sk-parallel-item:first-child::after {align-self: flex-end;width: 50%;}#sk-container-id-8 div.sk-parallel-item:last-child::after {align-self: flex-start;width: 50%;}#sk-container-id-8 div.sk-parallel-item:only-child::after {width: 0;}#sk-container-id-8 div.sk-dashed-wrapped {border: 1px dashed gray;margin: 0 0.4em 0.5em 0.4em;box-sizing: border-box;padding-bottom: 0.4em;background-color: white;}#sk-container-id-8 div.sk-label label {font-family: monospace;font-weight: bold;display: inline-block;line-height: 1.2em;}#sk-container-id-8 div.sk-label-container {text-align: center;}#sk-container-id-8 div.sk-container {/* jupyter's `normalize.less` sets `[hidden] { display: none; }` but bootstrap.min.css set `[hidden] { display: none !important; }` so we also need the `!important` here to be able to override the default hidden behavior on the sphinx rendered scikit-learn.org. See: https://github.com/scikit-learn/scikit-learn/issues/21755 */display: inline-block !important;position: relative;}#sk-container-id-8 div.sk-text-repr-fallback {display: none;}</style><div id=\"sk-container-id-8\" class=\"sk-top-container\"><div class=\"sk-text-repr-fallback\"><pre>DecisionTreeClassifier(max_depth=3, max_leaf_nodes=2)</pre><b>In a Jupyter environment, please rerun this cell to show the HTML representation or trust the notebook. <br />On GitHub, the HTML representation is unable to render, please try loading this page with nbviewer.org.</b></div><div class=\"sk-container\" hidden><div class=\"sk-item\"><div class=\"sk-estimator sk-toggleable\"><input class=\"sk-toggleable__control sk-hidden--visually\" id=\"sk-estimator-id-12\" type=\"checkbox\" checked><label for=\"sk-estimator-id-12\" class=\"sk-toggleable__label sk-toggleable__label-arrow\">DecisionTreeClassifier</label><div class=\"sk-toggleable__content\"><pre>DecisionTreeClassifier(max_depth=3, max_leaf_nodes=2)</pre></div></div></div></div></div>"
      ],
      "text/plain": [
       "DecisionTreeClassifier(max_depth=3, max_leaf_nodes=2)"
      ]
     },
     "execution_count": 581,
     "metadata": {},
     "output_type": "execute_result"
    }
   ],
   "source": [
    "dt3 = DecisionTreeClassifier(max_depth=3, max_leaf_nodes=2)\n",
    "dt3.fit(X_train, y_train)"
   ]
  },
  {
   "cell_type": "code",
   "execution_count": 582,
   "id": "fe47eac9",
   "metadata": {
    "scrolled": true
   },
   "outputs": [
    {
     "name": "stdout",
     "output_type": "stream",
     "text": [
      "training data score: 0.8356997345515155\n",
      "test data score 0.8356618176580729\n"
     ]
    }
   ],
   "source": [
    "print(\"training data score: \" + str(dt3.score(X_train, y_train)))\n",
    "print('test data score ' + str(dt3.score(X_test, y_test)))"
   ]
  },
  {
   "cell_type": "markdown",
   "id": "aa227b11",
   "metadata": {},
   "source": [
    "Using GridSearchCV makes our model a little better (score go up from 83.2% to 83.6%)"
   ]
  },
  {
   "cell_type": "code",
   "execution_count": 583,
   "id": "ea468287",
   "metadata": {},
   "outputs": [
    {
     "data": {
      "text/plain": [
       "array([[11604,     0],\n",
       "       [ 2282,     0]], dtype=int64)"
      ]
     },
     "execution_count": 583,
     "metadata": {},
     "output_type": "execute_result"
    }
   ],
   "source": [
    "from sklearn.metrics import confusion_matrix\n",
    "y_pred = dt3.predict(X_test)\n",
    "confusion_matrix(y_test, y_pred)"
   ]
  },
  {
   "cell_type": "code",
   "execution_count": 584,
   "id": "3c472e62",
   "metadata": {},
   "outputs": [
    {
     "data": {
      "text/plain": [
       "(11604, 0, 2282, 0)"
      ]
     },
     "execution_count": 584,
     "metadata": {},
     "output_type": "execute_result"
    }
   ],
   "source": [
    "tn, fp, fn, tp = confusion_matrix(y_test, y_pred).ravel()\n",
    "tn, fp, fn, tp"
   ]
  },
  {
   "cell_type": "code",
   "execution_count": 585,
   "id": "edbff86d",
   "metadata": {},
   "outputs": [],
   "source": [
    "cm = metrics.confusion_matrix(y_test, y_pred)"
   ]
  },
  {
   "cell_type": "code",
   "execution_count": 586,
   "id": "9278add2",
   "metadata": {},
   "outputs": [
    {
     "data": {
      "image/png": "[encoded data removed]",
      "text/plain": [
       "<Figure size 640x480 with 1 Axes>"
      ]
     },
     "metadata": {},
     "output_type": "display_data"
    }
   ],
   "source": [
    "sns.heatmap(cm, annot= True, fmt = '0.3f', linewidth = 0.5,\n",
    "           square = True, cbar = False)\n",
    "plt.ylabel('Actual Values')\n",
    "plt.xlabel('Predicted Values')\n",
    "plt.show()"
   ]
  },
  {
   "cell_type": "code",
   "execution_count": 588,
   "id": "7cb24ce2",
   "metadata": {},
   "outputs": [
    {
     "name": "stdout",
     "output_type": "stream",
     "text": [
      "              precision    recall  f1-score   support\n",
      "\n",
      "           0       0.84      1.00      0.91     11604\n",
      "           1       0.00      0.00      0.00      2282\n",
      "\n",
      "    accuracy                           0.84     13886\n",
      "   macro avg       0.42      0.50      0.46     13886\n",
      "weighted avg       0.70      0.84      0.76     13886\n",
      "\n"
     ]
    },
    {
     "name": "stderr",
     "output_type": "stream",
     "text": [
      "C:\\ProgramData\\anaconda3\\Lib\\site-packages\\sklearn\\metrics\\_classification.py:1469: UndefinedMetricWarning: Precision and F-score are ill-defined and being set to 0.0 in labels with no predicted samples. Use `zero_division` parameter to control this behavior.\n",
      "  _warn_prf(average, modifier, msg_start, len(result))\n",
      "C:\\ProgramData\\anaconda3\\Lib\\site-packages\\sklearn\\metrics\\_classification.py:1469: UndefinedMetricWarning: Precision and F-score are ill-defined and being set to 0.0 in labels with no predicted samples. Use `zero_division` parameter to control this behavior.\n",
      "  _warn_prf(average, modifier, msg_start, len(result))\n",
      "C:\\ProgramData\\anaconda3\\Lib\\site-packages\\sklearn\\metrics\\_classification.py:1469: UndefinedMetricWarning: Precision and F-score are ill-defined and being set to 0.0 in labels with no predicted samples. Use `zero_division` parameter to control this behavior.\n",
      "  _warn_prf(average, modifier, msg_start, len(result))\n"
     ]
    }
   ],
   "source": [
    "print(metrics.classification_report(y_test, y_pred))"
   ]
  },
  {
   "cell_type": "markdown",
   "id": "e2ccd11a",
   "metadata": {},
   "source": [
    "### 4.4. XGBoost algorithm"
   ]
  },
  {
   "cell_type": "code",
   "execution_count": 589,
   "id": "87cd7fc3",
   "metadata": {},
   "outputs": [],
   "source": [
    "# import libraries for ML \n",
    "import xgboost as xgb \n",
    "from sklearn.model_selection import KFold, cross_val_score, train_test_split \n",
    "from sklearn.metrics import classification_report, confusion_matrix "
   ]
  },
  {
   "cell_type": "code",
   "execution_count": 590,
   "id": "64ed52cb",
   "metadata": {},
   "outputs": [
    {
     "name": "stdout",
     "output_type": "stream",
     "text": [
      "Accuracy of XGB classifier on training set: 0.85339\n",
      "Accuracy of XGB classifier on test set: 0.83422\n"
     ]
    }
   ],
   "source": [
    "#XGBoost Multiclassification Model \n",
    "#max_depth is depth of decision tree,learning_rate: tỷ lệ học \n",
    "\n",
    "import xgboost as xgb \n",
    "default_xgb_model = xgb.XGBClassifier(max_depth=8, learning_rate=0.1 ,n_jobs=-1).fit(X_train, y_train)\n",
    "\n",
    "print('Accuracy of XGB classifier on training set: {:.5f}' \n",
    "      .format(default_xgb_model.score(X_train, y_train))) \n",
    "\n",
    "print('Accuracy of XGB classifier on test set: {:.5f}'\n",
    "      .format(default_xgb_model.score(X_test, y_test)))"
   ]
  },
  {
   "cell_type": "code",
   "execution_count": 591,
   "id": "c61bfe2b",
   "metadata": {},
   "outputs": [],
   "source": [
    "from sklearn import metrics\n",
    "y_pred = default_xgb_model.predict(X_test)\n",
    "cm = metrics.confusion_matrix(y_test, y_pred)"
   ]
  },
  {
   "cell_type": "code",
   "execution_count": 592,
   "id": "145fca3f",
   "metadata": {},
   "outputs": [
    {
     "data": {
      "text/plain": [
       "(11570, 34, 2268, 14)"
      ]
     },
     "execution_count": 592,
     "metadata": {},
     "output_type": "execute_result"
    }
   ],
   "source": [
    "tn, fp, fn, tp = confusion_matrix(y_test, y_pred).ravel()\n",
    "tn, fp, fn, tp"
   ]
  },
  {
   "cell_type": "code",
   "execution_count": 593,
   "id": "a38b8760",
   "metadata": {},
   "outputs": [
    {
     "data": {
      "image/png": "[encoded data removed]",
      "text/plain": [
       "<Figure size 640x480 with 1 Axes>"
      ]
     },
     "metadata": {},
     "output_type": "display_data"
    }
   ],
   "source": [
    "sns.heatmap(cm, annot= True, fmt = '0.3f', linewidth = 0.5,\n",
    "           square = True, cbar = False)\n",
    "plt.ylabel('Actual Values')\n",
    "plt.xlabel('Predicted Values')\n",
    "plt.show()"
   ]
  },
  {
   "cell_type": "code",
   "execution_count": 594,
   "id": "3156d087",
   "metadata": {},
   "outputs": [
    {
     "name": "stdout",
     "output_type": "stream",
     "text": [
      "              precision    recall  f1-score   support\n",
      "\n",
      "           0       0.84      1.00      0.91     11604\n",
      "           1       0.29      0.01      0.01      2282\n",
      "\n",
      "    accuracy                           0.83     13886\n",
      "   macro avg       0.56      0.50      0.46     13886\n",
      "weighted avg       0.75      0.83      0.76     13886\n",
      "\n"
     ]
    }
   ],
   "source": [
    "print(classification_report(y_test, y_pred))"
   ]
  },
  {
   "cell_type": "markdown",
   "id": "6d3574b7",
   "metadata": {},
   "source": [
    "Finally, after training three models: Logistic, Decision Tree & XGBoost with GridSearch, we decide to choose Decision Tree with the accuracy score of train 85% and 84% with test."
   ]
  },
  {
   "cell_type": "markdown",
   "id": "c08deff8",
   "metadata": {},
   "source": [
    "### using threshold\n"
   ]
  },
  {
   "cell_type": "code",
   "execution_count": 2,
   "id": "074e1186",
   "metadata": {},
   "outputs": [
    {
     "ename": "NameError",
     "evalue": "name 'X_train' is not defined",
     "output_type": "error",
     "traceback": [
      "\u001b[1;31m---------------------------------------------------------------------------\u001b[0m",
      "\u001b[1;31mNameError\u001b[0m                                 Traceback (most recent call last)",
      "Cell \u001b[1;32mIn[2], line 6\u001b[0m\n\u001b[0;32m      3\u001b[0m \u001b[38;5;28;01mfrom\u001b[39;00m \u001b[38;5;21;01msklearn\u001b[39;00m\u001b[38;5;21;01m.\u001b[39;00m\u001b[38;5;21;01mmodel_selection\u001b[39;00m \u001b[38;5;28;01mimport\u001b[39;00m KFold, cross_val_score, train_test_split \n\u001b[0;32m      4\u001b[0m \u001b[38;5;28;01mfrom\u001b[39;00m \u001b[38;5;21;01msklearn\u001b[39;00m\u001b[38;5;21;01m.\u001b[39;00m\u001b[38;5;21;01mmetrics\u001b[39;00m \u001b[38;5;28;01mimport\u001b[39;00m classification_report, confusion_matrix \n\u001b[1;32m----> 6\u001b[0m default_xgb_model \u001b[38;5;241m=\u001b[39m xgb\u001b[38;5;241m.\u001b[39mXGBClassifier(max_depth\u001b[38;5;241m=\u001b[39m\u001b[38;5;241m8\u001b[39m, learning_rate\u001b[38;5;241m=\u001b[39m\u001b[38;5;241m0.1\u001b[39m ,n_jobs\u001b[38;5;241m=\u001b[39m\u001b[38;5;241m-\u001b[39m\u001b[38;5;241m1\u001b[39m)\u001b[38;5;241m.\u001b[39mfit(X_train, y_train)\n",
      "\u001b[1;31mNameError\u001b[0m: name 'X_train' is not defined"
     ]
    }
   ],
   "source": [
    "# import libraries for ML \n",
    "import xgboost as xgb \n",
    "from sklearn.model_selection import KFold, cross_val_score, train_test_split \n",
    "from sklearn.metrics import classification_report, confusion_matrix \n",
    "\n",
    "default_xgb_model = xgb.XGBClassifier(max_depth=8, learning_rate=0.1 ,n_jobs=-1).fit(X_train, y_train)"
   ]
  },
  {
   "cell_type": "code",
   "execution_count": null,
   "id": "b6a5c3ef",
   "metadata": {
    "scrolled": true
   },
   "outputs": [],
   "source": [
    "# Đánh giá mô hình sử dụng presicion, recall, accuracy, f1_score\n",
    "\n",
    "y_pred = default_xgb_model.predict(X_test)\n",
    "score_default = default_xgb_model.score(X_test, y_test)\n",
    "\n",
    "# Áp dụng threshold\n",
    "threshold = 0.65\n",
    "y_pred_adjusted = (default_xgb_model.predict_proba(X_test)[:,1] >= threshold).astype(int)\n",
    "\n",
    "p1 = metrics.precision_score(y_test, y_pred_adjusted)\n",
    "r1 = metrics.recall_score(y_test, y_pred_adjusted)\n",
    "a1 = metrics.accuracy_score(y_test, y_pred_adjusted)\n",
    "f1_1 = metrics.f1_score(y_test, y_pred_adjusted)\n",
    "\n",
    "# In kết quả\n",
    "print(\"score_default with threshold = 0.5:\", score_default)\n",
    "\n",
    "print(\"presicion:\", p1)\n",
    "print(\"recall:\", r1)\n",
    "print(\"accuracy:\", a1)\n",
    "print(\"f1_score:\", f1_1)\n"
   ]
  },
  {
   "cell_type": "code",
   "execution_count": null,
   "id": "992269d1",
   "metadata": {},
   "outputs": [],
   "source": [
    "cm = metrics.confusion_matrix(y_test, y_pred_adjusted)\n",
    "sns.heatmap(cm, annot= True, fmt = '0.0f', linewidth = 0.5,\n",
    "           square = True, cbar = False)\n",
    "plt.ylabel('Actual Values')\n",
    "plt.xlabel('Predicted Values')\n",
    "plt.show()"
   ]
  },
  {
   "cell_type": "code",
   "execution_count": null,
   "id": "ea67373f",
   "metadata": {},
   "outputs": [],
   "source": [
    "print(classification_report(y_test, y_pred_adjusted))"
   ]
  },
  {
   "cell_type": "markdown",
   "id": "6d8a48cc",
   "metadata": {},
   "source": [
    "### using threshold = 0.1"
   ]
  },
  {
   "cell_type": "code",
   "execution_count": 703,
   "id": "652f9ab6",
   "metadata": {},
   "outputs": [
    {
     "name": "stdout",
     "output_type": "stream",
     "text": [
      "presicion: 0.2257763007581265\n",
      "recall: 0.9526730937773883\n",
      "accuracy: 0.45535071294829327\n",
      "f1_score: 0.36504071866342036\n"
     ]
    }
   ],
   "source": [
    "threshold = 0.05\n",
    "y_pred_adjusted = (default_xgb_model.predict_proba(X_test)[:,1] >= threshold).astype(int)\n",
    "\n",
    "p2 = metrics.precision_score(y_test, y_pred_adjusted)\n",
    "r2 = metrics.recall_score(y_test, y_pred_adjusted)\n",
    "a2 = metrics.accuracy_score(y_test, y_pred_adjusted)\n",
    "f1_2 = metrics.f1_score(y_test, y_pred_adjusted)\n",
    "\n",
    "# In kết quả\n",
    "print(\"presicion:\", p2)\n",
    "print(\"recall:\", r2)\n",
    "print(\"accuracy:\", a2)\n",
    "print(\"f1_score:\", f1_2)"
   ]
  },
  {
   "cell_type": "code",
   "execution_count": 704,
   "id": "311da294",
   "metadata": {},
   "outputs": [
    {
     "name": "stdout",
     "output_type": "stream",
     "text": [
      "              precision    recall  f1-score   support\n",
      "\n",
      "           0       0.97      0.36      0.52     11604\n",
      "           1       0.23      0.95      0.37      2282\n",
      "\n",
      "    accuracy                           0.46     13886\n",
      "   macro avg       0.60      0.66      0.44     13886\n",
      "weighted avg       0.85      0.46      0.50     13886\n",
      "\n"
     ]
    }
   ],
   "source": [
    "print(classification_report(y_test, y_pred_adjusted))"
   ]
  },
  {
   "cell_type": "code",
   "execution_count": 705,
   "id": "14f8dd8e",
   "metadata": {},
   "outputs": [
    {
     "data": {
      "image/png": "[encoded data removed]",
      "text/plain": [
       "<Figure size 640x480 with 1 Axes>"
      ]
     },
     "metadata": {},
     "output_type": "display_data"
    }
   ],
   "source": [
    "cm = metrics.confusion_matrix(y_test, y_pred_adjusted)\n",
    "sns.heatmap(cm, annot= True, fmt = '0.0f', linewidth = 0.5,\n",
    "           square = True, cbar = False)\n",
    "plt.ylabel('Actual Values')\n",
    "plt.xlabel('Predicted Values')\n",
    "plt.show()"
   ]
  },
  {
   "cell_type": "code",
   "execution_count": null,
   "id": "7db1a79f",
   "metadata": {},
   "outputs": [],
   "source": []
  },
  {
   "cell_type": "code",
   "execution_count": null,
   "id": "6f38df4a",
   "metadata": {},
   "outputs": [],
   "source": []
  }
 ],
 "metadata": {
  "kernelspec": {
   "display_name": "Python 3 (ipykernel)",
   "language": "python",
   "name": "python3"
  },
  "language_info": {
   "codemirror_mode": {
    "name": "ipython",
    "version": 3
   },
   "file_extension": ".py",
   "mimetype": "text/x-python",
   "name": "python",
   "nbconvert_exporter": "python",
   "pygments_lexer": "ipython3",
   "version": "3.11.5"
  }
 },
 "nbformat": 4,
 "nbformat_minor": 5
}
