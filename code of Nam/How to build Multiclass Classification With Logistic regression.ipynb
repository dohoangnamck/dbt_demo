{
 "cells": [
  {
   "cell_type": "markdown",
   "id": "bd5da768",
   "metadata": {},
   "source": [
    "We are going to work on a image classification using the famous fashion brand Zalando, which is a publicly traded German online retailer of shoes, fashion and beauty active across Europe. The company was founded in 2008 by David Schneider and Robert Gentz and has more than 50 million active users in 25 European markets.\n",
    "![](https://s.id/zalando)\n",
    "\n",
    "## Bối cảnh\n",
    "Fashion-MNIST là tập dữ liệu gồm các hình ảnh bài viết của Zalando—bao gồm tập huấn luyện gồm 60.000 ví dụ và tập kiểm tra gồm 10.000 ví dụ. Mỗi ví dụ là một hình ảnh thang độ xám 28x28, được liên kết với nhãn từ 10 lớp. Zalando dự định Fashion-MNIST sẽ đóng vai trò thay thế trực tiếp cho bộ dữ liệu MNIST ban đầu để đo điểm chuẩn cho các thuật toán máy học. Nó chia sẻ cùng kích thước hình ảnh và cấu trúc phân tách đào tạo và thử nghiệm.\n",
    "\n",
    "Bộ dữ liệu MNIST ban đầu chứa rất nhiều chữ số viết tay. Các thành viên của cộng đồng AI/ML/Khoa học dữ liệu yêu thích bộ dữ liệu này và sử dụng nó làm điểm chuẩn để xác thực các thuật toán của họ. Trên thực tế, MNIST thường là tập dữ liệu đầu tiên mà các nhà nghiên cứu thử. Họ nói: \"Nếu nó không hoạt động trên MNIST, nó sẽ không hoạt động\". \"Chà, nếu nó hoạt động trên MNIST, nó vẫn có thể thất bại với những người khác.\"\n",
    "\n",
    "Zalando tìm cách thay thế bộ dữ liệu gốc MNIST\n",
    "\n",
    "## Nội dung\n",
    "Mỗi hình ảnh có chiều cao 28 pixel và chiều rộng 28 pixel, tổng cộng là `784 pixel`. Mỗi pixel có một giá trị pixel duy nhất được liên kết với nó, cho biết độ sáng hoặc độ tối của pixel đó, với các số cao hơn có nghĩa là tối hơn. `Giá trị pixel này là một số nguyên từ 0 đến 255`. \n",
    "\n",
    "Tập dữ liệu huấn luyện và kiểm tra có 785 cột. Cột đầu tiên bao gồm các `labels` và đại diện cho mặt hàng quần áo. Các cột còn lại chứa giá trị pixel của hình ảnh được liên kết.\n",
    "\n",
    "Để định vị một pixel trên ảnh, giả sử rằng chúng ta đã phân tách x thành `x = i * 28 + j`, trong đó i và j là các số nguyên trong khoảng từ 0 đến 27. Pixel nằm trên hàng i và cột j của ma trận 28 x 28 .\n",
    "Ví dụ: pixel31 cho biết pixel nằm ở cột thứ tư từ bên trái (3) và hàng thứ hai (1) từ trên xuống."
   ]
  },
  {
   "cell_type": "markdown",
   "id": "6bf115b8",
   "metadata": {},
   "source": [
    "![](https://datasets.activeloop.ai/wp-content/uploads/2022/09/Fashion-MNIST-dataset-Activeloop-Platform-visualization-image.webp)"
   ]
  },
  {
   "cell_type": "markdown",
   "id": "9588c6f1",
   "metadata": {},
   "source": [
    "### Labels\n",
    "\n",
    "The first column, label ranges from 0 to 9  and they represent these fashion items. Each training and test example is assigned to one of the following labels:\n",
    "\n",
    "* 0 T-shirt/top\n",
    "* 1 Trouser\n",
    "* 2 Pullover\n",
    "* 3 Dress\n",
    "* 4 Coat\n",
    "* 5 Sandal\n",
    "* 6 Shirt\n",
    "* 7 Sneaker\n",
    "* 8 Bag\n",
    "* 9 Ankle boot"
   ]
  },
  {
   "cell_type": "markdown",
   "id": "9d997e5a",
   "metadata": {},
   "source": [
    "Labels: áo thun/áo, \n",
    "   ,quần dài\n",
    "   ,áo len\n",
    "   ,Đầm\n",
    "   ,Áo choàng\n",
    "   ,dép\n",
    "   ,Áo sơ mi\n",
    "   ,giày thể thao\n",
    "   ,Cái túi\n",
    "   ,bốt đến mắt cá chân\n",
    "   \n",
    "Ta có thể thấy phần còn lại của các cột là giá trị pixel, hãy nhìn vào hàng đầu tiên, chúng tôi có nhãn 2 có nghĩa là đó có nghĩa là áo chui đầu và các pixel này có nghĩa là giá trị pixel của hình ảnh áo chui đầu sau khi bạn đào tạo mô hình này nếu bạn nhập hình ảnh của bất kỳ mục nào trong số này, mô hình sẽ có thể phát hiện ra nó và chắc chắn trước khi bạn nhập ảnh vào mô hình máy học, bạn phải chuyển đổi nó thành giá trị pixel nhưng may mắn thay cho tập dữ liệu này, chúng tôi đã có ảnh trong pixel vì vậy tôi sẽ chỉ cho bạn cách các dạng pixel này có thể tạo thành một bức tranh.\n",
    "\n",
    "we are going to use `fashion_mnist_train` for training the model and `fashion_mnist_test` for testing or evaluating the model"
   ]
  },
  {
   "cell_type": "code",
   "execution_count": 25,
   "id": "13a8826d",
   "metadata": {},
   "outputs": [],
   "source": [
    "import pandas as pd"
   ]
  },
  {
   "cell_type": "code",
   "execution_count": 27,
   "id": "ac446e82",
   "metadata": {},
   "outputs": [],
   "source": [
    "train = pd.read_csv('fashion_mnist_train.csv')\n",
    "train = train[:900]"
   ]
  },
  {
   "cell_type": "code",
   "execution_count": 29,
   "id": "4ac6a7ab",
   "metadata": {},
   "outputs": [],
   "source": [
    "test = pd.read_csv('fashion_mnist_test.csv')\n",
    "test = test[:100]"
   ]
  },
  {
   "cell_type": "code",
   "execution_count": 30,
   "id": "a8937ad8",
   "metadata": {},
   "outputs": [],
   "source": [
    "X_train = train.drop(columns ='label') \n",
    "y_train = train['label'] \n",
    "\n",
    "X_test = test.drop(columns = 'label') \n",
    "y_test = test['label']"
   ]
  },
  {
   "cell_type": "code",
   "execution_count": 31,
   "id": "d516b0be",
   "metadata": {},
   "outputs": [
    {
     "data": {
      "text/html": [
       "<div>\n",
       "<style scoped>\n",
       "    .dataframe tbody tr th:only-of-type {\n",
       "        vertical-align: middle;\n",
       "    }\n",
       "\n",
       "    .dataframe tbody tr th {\n",
       "        vertical-align: top;\n",
       "    }\n",
       "\n",
       "    .dataframe thead th {\n",
       "        text-align: right;\n",
       "    }\n",
       "</style>\n",
       "<table border=\"1\" class=\"dataframe\">\n",
       "  <thead>\n",
       "    <tr style=\"text-align: right;\">\n",
       "      <th></th>\n",
       "      <th>pixel1</th>\n",
       "      <th>pixel2</th>\n",
       "      <th>pixel3</th>\n",
       "      <th>pixel4</th>\n",
       "      <th>pixel5</th>\n",
       "      <th>pixel6</th>\n",
       "      <th>pixel7</th>\n",
       "      <th>pixel8</th>\n",
       "      <th>pixel9</th>\n",
       "      <th>pixel10</th>\n",
       "      <th>...</th>\n",
       "      <th>pixel775</th>\n",
       "      <th>pixel776</th>\n",
       "      <th>pixel777</th>\n",
       "      <th>pixel778</th>\n",
       "      <th>pixel779</th>\n",
       "      <th>pixel780</th>\n",
       "      <th>pixel781</th>\n",
       "      <th>pixel782</th>\n",
       "      <th>pixel783</th>\n",
       "      <th>pixel784</th>\n",
       "    </tr>\n",
       "  </thead>\n",
       "  <tbody>\n",
       "    <tr>\n",
       "      <th>0</th>\n",
       "      <td>0</td>\n",
       "      <td>0</td>\n",
       "      <td>0</td>\n",
       "      <td>0</td>\n",
       "      <td>0</td>\n",
       "      <td>0</td>\n",
       "      <td>0</td>\n",
       "      <td>0</td>\n",
       "      <td>0</td>\n",
       "      <td>0</td>\n",
       "      <td>...</td>\n",
       "      <td>0</td>\n",
       "      <td>0</td>\n",
       "      <td>0</td>\n",
       "      <td>0</td>\n",
       "      <td>0</td>\n",
       "      <td>0</td>\n",
       "      <td>0</td>\n",
       "      <td>0</td>\n",
       "      <td>0</td>\n",
       "      <td>0</td>\n",
       "    </tr>\n",
       "    <tr>\n",
       "      <th>1</th>\n",
       "      <td>0</td>\n",
       "      <td>0</td>\n",
       "      <td>0</td>\n",
       "      <td>0</td>\n",
       "      <td>0</td>\n",
       "      <td>0</td>\n",
       "      <td>0</td>\n",
       "      <td>0</td>\n",
       "      <td>0</td>\n",
       "      <td>0</td>\n",
       "      <td>...</td>\n",
       "      <td>0</td>\n",
       "      <td>0</td>\n",
       "      <td>0</td>\n",
       "      <td>0</td>\n",
       "      <td>0</td>\n",
       "      <td>0</td>\n",
       "      <td>0</td>\n",
       "      <td>0</td>\n",
       "      <td>0</td>\n",
       "      <td>0</td>\n",
       "    </tr>\n",
       "    <tr>\n",
       "      <th>2</th>\n",
       "      <td>0</td>\n",
       "      <td>0</td>\n",
       "      <td>0</td>\n",
       "      <td>0</td>\n",
       "      <td>0</td>\n",
       "      <td>0</td>\n",
       "      <td>0</td>\n",
       "      <td>5</td>\n",
       "      <td>0</td>\n",
       "      <td>0</td>\n",
       "      <td>...</td>\n",
       "      <td>0</td>\n",
       "      <td>0</td>\n",
       "      <td>0</td>\n",
       "      <td>30</td>\n",
       "      <td>43</td>\n",
       "      <td>0</td>\n",
       "      <td>0</td>\n",
       "      <td>0</td>\n",
       "      <td>0</td>\n",
       "      <td>0</td>\n",
       "    </tr>\n",
       "    <tr>\n",
       "      <th>3</th>\n",
       "      <td>0</td>\n",
       "      <td>0</td>\n",
       "      <td>0</td>\n",
       "      <td>1</td>\n",
       "      <td>2</td>\n",
       "      <td>0</td>\n",
       "      <td>0</td>\n",
       "      <td>0</td>\n",
       "      <td>0</td>\n",
       "      <td>0</td>\n",
       "      <td>...</td>\n",
       "      <td>3</td>\n",
       "      <td>0</td>\n",
       "      <td>0</td>\n",
       "      <td>0</td>\n",
       "      <td>0</td>\n",
       "      <td>1</td>\n",
       "      <td>0</td>\n",
       "      <td>0</td>\n",
       "      <td>0</td>\n",
       "      <td>0</td>\n",
       "    </tr>\n",
       "    <tr>\n",
       "      <th>4</th>\n",
       "      <td>0</td>\n",
       "      <td>0</td>\n",
       "      <td>0</td>\n",
       "      <td>0</td>\n",
       "      <td>0</td>\n",
       "      <td>0</td>\n",
       "      <td>0</td>\n",
       "      <td>0</td>\n",
       "      <td>0</td>\n",
       "      <td>0</td>\n",
       "      <td>...</td>\n",
       "      <td>0</td>\n",
       "      <td>0</td>\n",
       "      <td>0</td>\n",
       "      <td>0</td>\n",
       "      <td>0</td>\n",
       "      <td>0</td>\n",
       "      <td>0</td>\n",
       "      <td>0</td>\n",
       "      <td>0</td>\n",
       "      <td>0</td>\n",
       "    </tr>\n",
       "    <tr>\n",
       "      <th>...</th>\n",
       "      <td>...</td>\n",
       "      <td>...</td>\n",
       "      <td>...</td>\n",
       "      <td>...</td>\n",
       "      <td>...</td>\n",
       "      <td>...</td>\n",
       "      <td>...</td>\n",
       "      <td>...</td>\n",
       "      <td>...</td>\n",
       "      <td>...</td>\n",
       "      <td>...</td>\n",
       "      <td>...</td>\n",
       "      <td>...</td>\n",
       "      <td>...</td>\n",
       "      <td>...</td>\n",
       "      <td>...</td>\n",
       "      <td>...</td>\n",
       "      <td>...</td>\n",
       "      <td>...</td>\n",
       "      <td>...</td>\n",
       "      <td>...</td>\n",
       "    </tr>\n",
       "    <tr>\n",
       "      <th>895</th>\n",
       "      <td>0</td>\n",
       "      <td>0</td>\n",
       "      <td>0</td>\n",
       "      <td>0</td>\n",
       "      <td>0</td>\n",
       "      <td>0</td>\n",
       "      <td>0</td>\n",
       "      <td>0</td>\n",
       "      <td>0</td>\n",
       "      <td>0</td>\n",
       "      <td>...</td>\n",
       "      <td>109</td>\n",
       "      <td>130</td>\n",
       "      <td>69</td>\n",
       "      <td>77</td>\n",
       "      <td>83</td>\n",
       "      <td>96</td>\n",
       "      <td>62</td>\n",
       "      <td>18</td>\n",
       "      <td>8</td>\n",
       "      <td>0</td>\n",
       "    </tr>\n",
       "    <tr>\n",
       "      <th>896</th>\n",
       "      <td>0</td>\n",
       "      <td>0</td>\n",
       "      <td>0</td>\n",
       "      <td>0</td>\n",
       "      <td>0</td>\n",
       "      <td>0</td>\n",
       "      <td>0</td>\n",
       "      <td>0</td>\n",
       "      <td>0</td>\n",
       "      <td>0</td>\n",
       "      <td>...</td>\n",
       "      <td>172</td>\n",
       "      <td>74</td>\n",
       "      <td>0</td>\n",
       "      <td>0</td>\n",
       "      <td>0</td>\n",
       "      <td>0</td>\n",
       "      <td>0</td>\n",
       "      <td>0</td>\n",
       "      <td>0</td>\n",
       "      <td>0</td>\n",
       "    </tr>\n",
       "    <tr>\n",
       "      <th>897</th>\n",
       "      <td>0</td>\n",
       "      <td>0</td>\n",
       "      <td>0</td>\n",
       "      <td>0</td>\n",
       "      <td>0</td>\n",
       "      <td>0</td>\n",
       "      <td>0</td>\n",
       "      <td>0</td>\n",
       "      <td>0</td>\n",
       "      <td>0</td>\n",
       "      <td>...</td>\n",
       "      <td>0</td>\n",
       "      <td>0</td>\n",
       "      <td>0</td>\n",
       "      <td>0</td>\n",
       "      <td>41</td>\n",
       "      <td>55</td>\n",
       "      <td>43</td>\n",
       "      <td>1</td>\n",
       "      <td>0</td>\n",
       "      <td>0</td>\n",
       "    </tr>\n",
       "    <tr>\n",
       "      <th>898</th>\n",
       "      <td>0</td>\n",
       "      <td>0</td>\n",
       "      <td>0</td>\n",
       "      <td>0</td>\n",
       "      <td>0</td>\n",
       "      <td>0</td>\n",
       "      <td>0</td>\n",
       "      <td>0</td>\n",
       "      <td>0</td>\n",
       "      <td>0</td>\n",
       "      <td>...</td>\n",
       "      <td>0</td>\n",
       "      <td>0</td>\n",
       "      <td>0</td>\n",
       "      <td>0</td>\n",
       "      <td>0</td>\n",
       "      <td>0</td>\n",
       "      <td>0</td>\n",
       "      <td>0</td>\n",
       "      <td>0</td>\n",
       "      <td>0</td>\n",
       "    </tr>\n",
       "    <tr>\n",
       "      <th>899</th>\n",
       "      <td>0</td>\n",
       "      <td>0</td>\n",
       "      <td>0</td>\n",
       "      <td>0</td>\n",
       "      <td>0</td>\n",
       "      <td>1</td>\n",
       "      <td>0</td>\n",
       "      <td>18</td>\n",
       "      <td>70</td>\n",
       "      <td>0</td>\n",
       "      <td>...</td>\n",
       "      <td>86</td>\n",
       "      <td>49</td>\n",
       "      <td>57</td>\n",
       "      <td>27</td>\n",
       "      <td>14</td>\n",
       "      <td>0</td>\n",
       "      <td>0</td>\n",
       "      <td>0</td>\n",
       "      <td>0</td>\n",
       "      <td>0</td>\n",
       "    </tr>\n",
       "  </tbody>\n",
       "</table>\n",
       "<p>900 rows × 784 columns</p>\n",
       "</div>"
      ],
      "text/plain": [
       "     pixel1  pixel2  pixel3  pixel4  pixel5  pixel6  pixel7  pixel8  pixel9  \\\n",
       "0         0       0       0       0       0       0       0       0       0   \n",
       "1         0       0       0       0       0       0       0       0       0   \n",
       "2         0       0       0       0       0       0       0       5       0   \n",
       "3         0       0       0       1       2       0       0       0       0   \n",
       "4         0       0       0       0       0       0       0       0       0   \n",
       "..      ...     ...     ...     ...     ...     ...     ...     ...     ...   \n",
       "895       0       0       0       0       0       0       0       0       0   \n",
       "896       0       0       0       0       0       0       0       0       0   \n",
       "897       0       0       0       0       0       0       0       0       0   \n",
       "898       0       0       0       0       0       0       0       0       0   \n",
       "899       0       0       0       0       0       1       0      18      70   \n",
       "\n",
       "     pixel10  ...  pixel775  pixel776  pixel777  pixel778  pixel779  pixel780  \\\n",
       "0          0  ...         0         0         0         0         0         0   \n",
       "1          0  ...         0         0         0         0         0         0   \n",
       "2          0  ...         0         0         0        30        43         0   \n",
       "3          0  ...         3         0         0         0         0         1   \n",
       "4          0  ...         0         0         0         0         0         0   \n",
       "..       ...  ...       ...       ...       ...       ...       ...       ...   \n",
       "895        0  ...       109       130        69        77        83        96   \n",
       "896        0  ...       172        74         0         0         0         0   \n",
       "897        0  ...         0         0         0         0        41        55   \n",
       "898        0  ...         0         0         0         0         0         0   \n",
       "899        0  ...        86        49        57        27        14         0   \n",
       "\n",
       "     pixel781  pixel782  pixel783  pixel784  \n",
       "0           0         0         0         0  \n",
       "1           0         0         0         0  \n",
       "2           0         0         0         0  \n",
       "3           0         0         0         0  \n",
       "4           0         0         0         0  \n",
       "..        ...       ...       ...       ...  \n",
       "895        62        18         8         0  \n",
       "896         0         0         0         0  \n",
       "897        43         1         0         0  \n",
       "898         0         0         0         0  \n",
       "899         0         0         0         0  \n",
       "\n",
       "[900 rows x 784 columns]"
      ]
     },
     "execution_count": 31,
     "metadata": {},
     "output_type": "execute_result"
    }
   ],
   "source": [
    "X_train"
   ]
  },
  {
   "cell_type": "code",
   "execution_count": 32,
   "id": "ab88625c",
   "metadata": {
    "scrolled": false
   },
   "outputs": [
    {
     "name": "stdout",
     "output_type": "stream",
     "text": [
      "[[0, 0, 0, 0, 0, 0, 0, 0, 0, 0, 0, 0, 0, 0, 0, 0, 0, 0, 0, 0, 0, 0, 0, 0, 0, 0, 0, 0, 0, 0, 0, 0, 0, 0, 0, 0, 0, 0, 0, 0, 0, 0, 0, 0, 0, 0, 0, 0, 0, 0, 0, 0, 0, 0, 0, 0, 0, 0, 0, 0, 0, 0, 0, 0, 0, 0, 0, 0, 0, 0, 0, 0, 0, 0, 0, 0, 0, 0, 0, 0, 0, 0, 0, 0, 0, 0, 0, 0, 4, 0, 0, 0, 0, 0, 62, 61, 21, 29, 23, 51, 136, 61, 0, 0, 0, 0, 0, 0, 0, 0, 0, 0, 0, 0, 0, 0, 0, 0, 0, 88, 201, 228, 225, 255, 115, 62, 137, 255, 235, 222, 255, 135, 0, 0, 0, 0, 0, 0, 0, 0, 0, 0, 0, 0, 0, 47, 252, 234, 238, 224, 215, 215, 229, 108, 180, 207, 214, 224, 231, 249, 254, 45, 0, 0, 0, 0, 0, 0, 0, 0, 1, 0, 0, 214, 222, 210, 213, 224, 225, 217, 220, 254, 233, 219, 221, 217, 223, 221, 240, 254, 0, 0, 1, 0, 0, 0, 1, 0, 0, 0, 128, 237, 207, 224, 224, 207, 216, 214, 210, 208, 211, 221, 208, 219, 213, 226, 211, 237, 150, 0, 0, 0, 0, 0, 0, 2, 0, 0, 237, 222, 215, 207, 210, 212, 213, 206, 214, 213, 214, 213, 210, 215, 214, 206, 199, 218, 255, 13, 0, 2, 0, 0, 0, 4, 0, 85, 228, 210, 218, 200, 211, 208, 203, 215, 210, 209, 209, 210, 213, 211, 210, 217, 206, 213, 231, 175, 0, 0, 0, 0, 0, 0, 0, 217, 224, 215, 206, 205, 204, 217, 230, 222, 215, 224, 233, 228, 232, 228, 224, 207, 212, 215, 213, 229, 31, 0, 4, 0, 1, 0, 21, 225, 212, 212, 203, 211, 225, 193, 139, 136, 195, 147, 156, 139, 128, 162, 197, 223, 207, 220, 213, 232, 177, 0, 0, 0, 0, 0, 123, 226, 207, 211, 209, 205, 228, 158, 90, 103, 186, 138, 100, 121, 147, 158, 183, 226, 208, 214, 209, 216, 255, 13, 0, 1, 0, 0, 226, 219, 202, 208, 206, 205, 216, 184, 156, 150, 193, 170, 164, 168, 188, 186, 200, 219, 216, 213, 213, 211, 233, 148, 0, 0, 0, 45, 227, 204, 214, 211, 218, 222, 221, 230, 229, 221, 213, 224, 233, 226, 220, 219, 221, 224, 223, 217, 210, 218, 213, 254, 0, 0, 0, 157, 226, 203, 207, 211, 209, 215, 205, 198, 207, 208, 201, 201, 197, 203, 205, 210, 207, 213, 214, 214, 214, 213, 208, 234, 107, 0, 0, 235, 213, 204, 211, 210, 209, 213, 202, 197, 204, 215, 217, 213, 212, 210, 206, 212, 203, 211, 218, 215, 214, 208, 209, 222, 230, 0, 52, 255, 207, 200, 208, 213, 210, 210, 208, 207, 202, 201, 209, 216, 216, 216, 216, 214, 212, 205, 215, 201, 228, 208, 214, 212, 218, 25, 118, 217, 201, 206, 208, 213, 208, 205, 206, 210, 211, 202, 199, 207, 208, 209, 210, 207, 210, 210, 245, 139, 119, 255, 202, 203, 236, 114, 171, 238, 212, 203, 220, 216, 217, 209, 207, 205, 210, 211, 206, 204, 206, 209, 211, 215, 210, 206, 221, 242, 0, 224, 234, 230, 181, 26, 39, 145, 201, 255, 157, 115, 250, 200, 207, 206, 207, 213, 216, 206, 205, 206, 207, 206, 215, 207, 221, 238, 0, 0, 188, 85, 0, 0, 0, 0, 0, 31, 0, 129, 253, 190, 207, 208, 208, 208, 209, 211, 211, 209, 209, 209, 212, 201, 226, 165, 0, 0, 0, 0, 0, 0, 2, 0, 0, 0, 0, 89, 254, 199, 199, 192, 196, 198, 199, 201, 202, 203, 204, 203, 203, 200, 222, 155, 0, 3, 3, 3, 2, 0, 0, 0, 1, 5, 0, 0, 255, 218, 226, 232, 228, 224, 222, 220, 219, 219, 217, 221, 220, 212, 236, 95, 0, 2, 0, 0, 0, 0, 0, 0, 0, 0, 0, 0, 155, 194, 168, 170, 171, 173, 173, 179, 177, 175, 172, 171, 167, 161, 180, 0, 0, 1, 0, 1, 0, 0, 0, 0, 0, 0, 0, 0, 0, 0, 0, 0, 0, 0, 0, 0, 0, 0, 0, 0, 0, 0, 0, 0, 0, 0, 0, 0, 0, 0, 0, 0, 0, 0, 0, 0, 0, 0, 0, 0, 0, 0, 0, 0, 0, 0, 0, 0, 0, 0, 0, 0, 0, 0, 0, 0, 0, 0, 0, 0, 0, 0, 0, 0, 0, 0, 0, 0, 0, 0, 0, 0, 0, 0, 0, 0, 0, 0, 0, 0, 0, 0, 0, 0, 0, 0], [0, 0, 0, 0, 0, 0, 0, 0, 0, 0, 0, 0, 0, 0, 0, 0, 0, 0, 0, 0, 0, 0, 0, 0, 0, 0, 0, 0, 0, 0, 0, 0, 0, 0, 0, 0, 0, 0, 0, 0, 0, 0, 0, 0, 0, 0, 0, 0, 0, 0, 0, 0, 0, 0, 0, 0, 0, 0, 0, 0, 0, 0, 0, 0, 0, 0, 0, 0, 0, 0, 0, 0, 0, 0, 0, 0, 0, 0, 0, 0, 0, 0, 0, 0, 0, 0, 0, 0, 0, 0, 0, 0, 0, 0, 0, 0, 0, 0, 0, 0, 0, 0, 0, 0, 0, 0, 0, 0, 0, 0, 0, 0, 0, 0, 0, 0, 0, 0, 0, 0, 0, 0, 0, 0, 0, 0, 0, 0, 0, 0, 0, 0, 0, 0, 0, 0, 0, 0, 0, 0, 0, 0, 0, 0, 0, 0, 0, 0, 0, 0, 0, 0, 1, 1, 0, 0, 0, 0, 81, 21, 0, 1, 0, 1, 0, 0, 0, 0, 0, 0, 0, 0, 0, 0, 0, 0, 0, 0, 0, 1, 0, 0, 0, 0, 0, 14, 200, 49, 0, 0, 0, 0, 0, 0, 0, 0, 0, 0, 0, 0, 0, 0, 0, 0, 2, 1, 1, 1, 0, 1, 0, 0, 0, 162, 184, 165, 20, 0, 1, 1, 3, 4, 1, 0, 0, 0, 0, 0, 0, 0, 0, 0, 0, 0, 0, 1, 2, 0, 2, 0, 120, 183, 154, 206, 32, 0, 5, 5, 0, 0, 0, 0, 0, 0, 0, 0, 0, 0, 0, 0, 0, 0, 0, 2, 0, 3, 0, 76, 227, 151, 139, 158, 0, 0, 0, 0, 0, 66, 23, 0, 0, 0, 0, 0, 0, 0, 0, 0, 1, 0, 1, 0, 0, 0, 55, 224, 162, 143, 121, 204, 236, 144, 21, 74, 90, 190, 8, 0, 0, 0, 0, 0, 0, 0, 0, 0, 0, 1, 0, 0, 0, 42, 228, 160, 148, 125, 165, 223, 208, 221, 246, 211, 174, 151, 0, 0, 0, 0, 0, 1, 3, 0, 1, 0, 3, 0, 9, 0, 23, 230, 168, 147, 119, 163, 227, 206, 200, 190, 206, 186, 139, 171, 41, 0, 0, 0, 0, 0, 0, 0, 0, 0, 3, 4, 0, 16, 209, 185, 139, 118, 181, 227, 209, 204, 210, 199, 225, 157, 127, 190, 111, 0, 1, 3, 2, 1, 3, 2, 3, 0, 0, 0, 67, 214, 187, 139, 111, 191, 229, 203, 208, 208, 196, 223, 188, 100, 128, 155, 112, 0, 0, 0, 0, 0, 0, 0, 0, 0, 48, 161, 218, 171, 147, 116, 185, 235, 201, 209, 203, 204, 220, 208, 126, 133, 162, 164, 187, 0, 0, 12, 16, 9, 4, 19, 73, 170, 211, 188, 145, 149, 148, 136, 222, 218, 207, 208, 215, 224, 193, 140, 146, 162, 156, 118, 203, 37, 47, 255, 188, 187, 182, 203, 206, 182, 147, 140, 148, 148, 148, 134, 180, 218, 221, 225, 204, 156, 134, 139, 144, 140, 123, 97, 206, 30, 88, 203, 164, 167, 170, 161, 147, 147, 156, 159, 153, 152, 155, 150, 134, 136, 153, 145, 136, 151, 164, 168, 170, 166, 153, 130, 200, 10, 131, 195, 150, 133, 132, 142, 160, 166, 162, 153, 152, 153, 151, 154, 163, 147, 152, 163, 205, 208, 174, 175, 178, 181, 168, 150, 196, 1, 155, 228, 197, 172, 138, 123, 121, 122, 126, 129, 135, 139, 144, 158, 177, 192, 239, 244, 178, 176, 183, 179, 185, 177, 147, 148, 192, 0, 0, 80, 196, 199, 212, 209, 190, 176, 170, 178, 183, 192, 204, 204, 202, 144, 59, 3, 0, 67, 217, 184, 188, 178, 166, 160, 188, 13, 0, 0, 0, 3, 51, 105, 179, 217, 235, 227, 208, 201, 133, 58, 0, 0, 0, 0, 0, 16, 187, 194, 184, 185, 175, 181, 131, 0, 0, 3, 0, 0, 0, 0, 0, 0, 0, 0, 0, 0, 0, 0, 0, 5, 5, 5, 0, 0, 0, 0, 0, 0, 0, 0, 0, 0, 0, 0, 0, 0, 0, 0, 0, 0, 0, 0, 0, 0, 0, 0, 0, 0, 0, 0, 0, 0, 0, 0, 0, 0, 0, 0, 0, 0, 0, 0, 0, 0, 0, 0, 0, 0, 0, 0, 0, 0, 0, 0, 0, 0, 0, 0, 0, 0, 0, 0, 0, 0, 0, 0, 0, 0, 0, 0, 0, 0, 0, 0, 0, 0, 0, 0, 0, 0, 0, 0, 0, 0, 0, 0, 0, 0, 0, 0, 0, 0, 0, 0, 0, 0, 0, 0, 0, 0, 0, 0, 0, 0, 0, 0, 0, 0, 0, 0, 0, 0, 0, 0, 0, 0, 0, 0, 0, 0, 0, 0, 0, 0]]\n"
     ]
    }
   ],
   "source": [
    "X_train_list = X_train.values.tolist()\n",
    "print(X_train_list[0:2])"
   ]
  },
  {
   "cell_type": "markdown",
   "id": "096bdff7",
   "metadata": {},
   "source": [
    "You can see it is converted to a two dimensional list. Each of the images pixel values are  just one dimensional we're going to reshape them as `three-dimensional` before we will be able to use and make it the image. "
   ]
  },
  {
   "cell_type": "code",
   "execution_count": 33,
   "id": "5ea0a628",
   "metadata": {},
   "outputs": [],
   "source": [
    "import numpy as np\n",
    "import matplotlib.pyplot as plt"
   ]
  },
  {
   "cell_type": "code",
   "execution_count": 34,
   "id": "89584875",
   "metadata": {
    "scrolled": false
   },
   "outputs": [
    {
     "data": {
      "image/png": "[encoded data removed]",
      "text/plain": [
       "<Figure size 640x480 with 1 Axes>"
      ]
     },
     "metadata": {},
     "output_type": "display_data"
    }
   ],
   "source": [
    "#reshape to 28  by 28  by 1,\n",
    "plt.imshow(np.reshape(X_train_list[0], (28, 28, 1)));"
   ]
  },
  {
   "cell_type": "markdown",
   "id": "238c9cf3",
   "metadata": {},
   "source": [
    "let's see the first label, which is a 2, a pullover. Similarly, we can see the second label, which is a 9, an ankle boot; the last label is 7, a sneaker. "
   ]
  },
  {
   "cell_type": "code",
   "execution_count": 9,
   "id": "061c2ba2",
   "metadata": {},
   "outputs": [
    {
     "data": {
      "image/png": "[encoded data removed]",
      "text/plain": [
       "<Figure size 640x480 with 1 Axes>"
      ]
     },
     "metadata": {},
     "output_type": "display_data"
    }
   ],
   "source": [
    "plt.imshow(np.reshape(X_train_list[1], (28, 28, 1)));"
   ]
  },
  {
   "cell_type": "code",
   "execution_count": 12,
   "id": "9fe5bb64",
   "metadata": {},
   "outputs": [
    {
     "data": {
      "image/png": "[encoded data removed]",
      "text/plain": [
       "<Figure size 640x480 with 1 Axes>"
      ]
     },
     "metadata": {},
     "output_type": "display_data"
    }
   ],
   "source": [
    "plt.imshow(np.reshape(X_train_list[59999], (28, 28, 1)));"
   ]
  },
  {
   "cell_type": "markdown",
   "id": "323271fc",
   "metadata": {},
   "source": [
    "### let's dive into the logistic regression  problem "
   ]
  },
  {
   "cell_type": "code",
   "execution_count": 10,
   "id": "ec64c3ff",
   "metadata": {},
   "outputs": [],
   "source": [
    "from sklearn.linear_model import LogisticRegression"
   ]
  },
  {
   "cell_type": "code",
   "execution_count": 15,
   "id": "dd0725cd",
   "metadata": {},
   "outputs": [
    {
     "name": "stderr",
     "output_type": "stream",
     "text": [
      "C:\\Users\\Admin\\AppData\\Local\\Programs\\Python\\Python311\\Lib\\site-packages\\sklearn\\linear_model\\_logistic.py:460: ConvergenceWarning: lbfgs failed to converge (status=1):\n",
      "STOP: TOTAL NO. of ITERATIONS REACHED LIMIT.\n",
      "\n",
      "Increase the number of iterations (max_iter) or scale the data as shown in:\n",
      "    https://scikit-learn.org/stable/modules/preprocessing.html\n",
      "Please also refer to the documentation for alternative solver options:\n",
      "    https://scikit-learn.org/stable/modules/linear_model.html#logistic-regression\n",
      "  n_iter_i = _check_optimize_result(\n"
     ]
    }
   ],
   "source": [
    "logreg = LogisticRegression(random_state= 12).fit(X_train, y_train)"
   ]
  },
  {
   "cell_type": "code",
   "execution_count": 12,
   "id": "8c10b2fa",
   "metadata": {
    "scrolled": true
   },
   "outputs": [
    {
     "data": {
      "text/plain": [
       "0.8621166666666666"
      ]
     },
     "execution_count": 12,
     "metadata": {},
     "output_type": "execute_result"
    }
   ],
   "source": [
    "# the accuracy of the model\n",
    "logreg.score(X_train, y_train)"
   ]
  },
  {
   "cell_type": "markdown",
   "id": "27cd5ff3",
   "metadata": {},
   "source": [
    "86% of the time this model can detect any of these images correctly. Let's check actually how well it works on the test: "
   ]
  },
  {
   "cell_type": "code",
   "execution_count": 13,
   "id": "739fc80f",
   "metadata": {},
   "outputs": [
    {
     "data": {
      "text/plain": [
       "0.8544"
      ]
     },
     "execution_count": 13,
     "metadata": {},
     "output_type": "execute_result"
    }
   ],
   "source": [
    "logreg.score(X_test, y_test)"
   ]
  },
  {
   "cell_type": "code",
   "execution_count": 14,
   "id": "456545a1",
   "metadata": {
    "scrolled": false
   },
   "outputs": [
    {
     "name": "stderr",
     "output_type": "stream",
     "text": [
      "C:\\Users\\Admin\\AppData\\Local\\Programs\\Python\\Python311\\Lib\\site-packages\\sklearn\\base.py:464: UserWarning: X does not have valid feature names, but LogisticRegression was fitted with feature names\n",
      "  warnings.warn(\n"
     ]
    },
    {
     "data": {
      "text/plain": [
       "array([0], dtype=int64)"
      ]
     },
     "execution_count": 14,
     "metadata": {},
     "output_type": "execute_result"
    }
   ],
   "source": [
    "# let's check the model to predict\n",
    "logreg.predict([X_train_list[3]])"
   ]
  },
  {
   "cell_type": "markdown",
   "id": "92e7c096",
   "metadata": {},
   "source": [
    "The fourth label is 0"
   ]
  },
  {
   "cell_type": "code",
   "execution_count": 83,
   "id": "3fcb29f1",
   "metadata": {},
   "outputs": [
    {
     "name": "stderr",
     "output_type": "stream",
     "text": [
      "C:\\Users\\Admin\\AppData\\Local\\Programs\\Python\\Python311\\Lib\\site-packages\\sklearn\\base.py:464: UserWarning: X does not have valid feature names, but LogisticRegression was fitted with feature names\n",
      "  warnings.warn(\n"
     ]
    }
   ],
   "source": [
    "#biểu diễn predict và actual của label, do phạm vị của label rất hẹp 0-9, nên ta không thể quan sát rõ sự khác biệt nếu chọn mẫu lớn\n",
    "X_20 = X_train_list[0:20]\n",
    "y_pred_train_20 = logreg.predict(X_20)"
   ]
  },
  {
   "cell_type": "code",
   "execution_count": 85,
   "id": "6debb602",
   "metadata": {},
   "outputs": [
    {
     "data": {
      "image/png": "[encoded data removed]",
      "text/plain": [
       "<Figure size 640x480 with 1 Axes>"
      ]
     },
     "metadata": {},
     "output_type": "display_data"
    }
   ],
   "source": [
    "plt.scatter(y_train[0:20], y_pred_train_20)\n",
    "plt.xlabel('Actual Labels')\n",
    "plt.ylabel('Predicted Labels')\n",
    "plt.show()"
   ]
  },
  {
   "cell_type": "markdown",
   "id": "aff18bcf",
   "metadata": {},
   "source": [
    "### biểu diễn predict và actual của label với mẫu lớn ~ 1000"
   ]
  },
  {
   "cell_type": "code",
   "execution_count": 87,
   "id": "8ac98349",
   "metadata": {
    "scrolled": true
   },
   "outputs": [
    {
     "name": "stdout",
     "output_type": "stream",
     "text": [
      "<class 'numpy.ndarray'>\n"
     ]
    }
   ],
   "source": [
    "X_1000 = X_train_list[0:1000]\n",
    "X_1000 = np.array(X_1000)\n",
    "print(type(X_1000))"
   ]
  },
  {
   "cell_type": "code",
   "execution_count": 88,
   "id": "010757c0",
   "metadata": {
    "scrolled": false
   },
   "outputs": [
    {
     "name": "stdout",
     "output_type": "stream",
     "text": [
      "<class 'numpy.ndarray'>\n"
     ]
    },
    {
     "name": "stderr",
     "output_type": "stream",
     "text": [
      "C:\\Users\\Admin\\AppData\\Local\\Programs\\Python\\Python311\\Lib\\site-packages\\sklearn\\base.py:464: UserWarning: X does not have valid feature names, but LogisticRegression was fitted with feature names\n",
      "  warnings.warn(\n"
     ]
    }
   ],
   "source": [
    "y_pred_train_1000 = logreg.predict(X_1000)\n",
    "print(type(y_pred_train_1000))"
   ]
  },
  {
   "cell_type": "code",
   "execution_count": 89,
   "id": "a354a3d7",
   "metadata": {
    "scrolled": false
   },
   "outputs": [
    {
     "data": {
      "image/png": "[encoded data removed]",
      "text/plain": [
       "<Figure size 640x480 with 1 Axes>"
      ]
     },
     "metadata": {},
     "output_type": "display_data"
    }
   ],
   "source": [
    "plt.scatter(y_train[0:1000], y_pred_train_1000)\n",
    "plt.xlabel('Actual Labels')\n",
    "plt.ylabel('Predicted Labels')\n",
    "plt.show()"
   ]
  },
  {
   "cell_type": "markdown",
   "id": "24e1078f",
   "metadata": {},
   "source": [
    "Do mẫu quá lớn, chỉ 1 outlier có thể biểu diễn sai. Cần dùng Heatmap với filter size (in Tableau, Power BI, Python)"
   ]
  },
  {
   "cell_type": "code",
   "execution_count": null,
   "id": "be049bec",
   "metadata": {},
   "outputs": [],
   "source": [
    "# Dù định dạng là array, list hay series đều biểu diễn được\n",
    "covert to series:  pd.Series(list/array)\n",
    "covert to list:    array.tolist()\n",
    "covert to array:   np.array(list/series)\n",
    "covert to DataFrame: pd.DataFrame(array/list)\n",
    "chỉ series và dataframe có thể save to csv"
   ]
  },
  {
   "cell_type": "code",
   "execution_count": 73,
   "id": "f514c7c7",
   "metadata": {
    "scrolled": true
   },
   "outputs": [
    {
     "name": "stdout",
     "output_type": "stream",
     "text": [
      "<class 'pandas.core.frame.DataFrame'>\n"
     ]
    }
   ],
   "source": [
    "# ghép series/dataframe bằng pd.concat, axis =1 ghép theo cột, axis =0 ghép theo hàng\n",
    "y_train_1000_df = pd.concat([y_train_1000, y_pred_train_1000], axis = 1)  \n",
    "print(type(y_train_1000_df))"
   ]
  },
  {
   "cell_type": "code",
   "execution_count": 78,
   "id": "4eb32b11",
   "metadata": {
    "scrolled": true
   },
   "outputs": [
    {
     "data": {
      "text/html": [
       "<div>\n",
       "<style scoped>\n",
       "    .dataframe tbody tr th:only-of-type {\n",
       "        vertical-align: middle;\n",
       "    }\n",
       "\n",
       "    .dataframe tbody tr th {\n",
       "        vertical-align: top;\n",
       "    }\n",
       "\n",
       "    .dataframe thead th {\n",
       "        text-align: right;\n",
       "    }\n",
       "</style>\n",
       "<table border=\"1\" class=\"dataframe\">\n",
       "  <thead>\n",
       "    <tr style=\"text-align: right;\">\n",
       "      <th></th>\n",
       "      <th>0</th>\n",
       "      <th>1</th>\n",
       "    </tr>\n",
       "  </thead>\n",
       "  <tbody>\n",
       "    <tr>\n",
       "      <th>0</th>\n",
       "      <td>2</td>\n",
       "      <td>8</td>\n",
       "    </tr>\n",
       "    <tr>\n",
       "      <th>1</th>\n",
       "      <td>9</td>\n",
       "      <td>9</td>\n",
       "    </tr>\n",
       "    <tr>\n",
       "      <th>2</th>\n",
       "      <td>6</td>\n",
       "      <td>6</td>\n",
       "    </tr>\n",
       "    <tr>\n",
       "      <th>3</th>\n",
       "      <td>0</td>\n",
       "      <td>0</td>\n",
       "    </tr>\n",
       "    <tr>\n",
       "      <th>4</th>\n",
       "      <td>3</td>\n",
       "      <td>3</td>\n",
       "    </tr>\n",
       "    <tr>\n",
       "      <th>...</th>\n",
       "      <td>...</td>\n",
       "      <td>...</td>\n",
       "    </tr>\n",
       "    <tr>\n",
       "      <th>995</th>\n",
       "      <td>8</td>\n",
       "      <td>8</td>\n",
       "    </tr>\n",
       "    <tr>\n",
       "      <th>996</th>\n",
       "      <td>1</td>\n",
       "      <td>1</td>\n",
       "    </tr>\n",
       "    <tr>\n",
       "      <th>997</th>\n",
       "      <td>4</td>\n",
       "      <td>4</td>\n",
       "    </tr>\n",
       "    <tr>\n",
       "      <th>998</th>\n",
       "      <td>7</td>\n",
       "      <td>5</td>\n",
       "    </tr>\n",
       "    <tr>\n",
       "      <th>999</th>\n",
       "      <td>1</td>\n",
       "      <td>1</td>\n",
       "    </tr>\n",
       "  </tbody>\n",
       "</table>\n",
       "<p>1000 rows × 2 columns</p>\n",
       "</div>"
      ],
      "text/plain": [
       "     0  1\n",
       "0    2  8\n",
       "1    9  9\n",
       "2    6  6\n",
       "3    0  0\n",
       "4    3  3\n",
       "..  .. ..\n",
       "995  8  8\n",
       "996  1  1\n",
       "997  4  4\n",
       "998  7  5\n",
       "999  1  1\n",
       "\n",
       "[1000 rows x 2 columns]"
      ]
     },
     "execution_count": 78,
     "metadata": {},
     "output_type": "execute_result"
    }
   ],
   "source": [
    "y_train_1000_df"
   ]
  },
  {
   "cell_type": "code",
   "execution_count": 79,
   "id": "fc205c38",
   "metadata": {},
   "outputs": [],
   "source": [
    "# Save to csv\n",
    "y_train_1000_df.to_csv('y_pred_train_1000.csv')"
   ]
  },
  {
   "cell_type": "markdown",
   "id": "4a05f88b",
   "metadata": {},
   "source": [
    "## Precision, Recall and F1 Score for Multiclass Classification - sklearn\n",
    "\n",
    "sau bước này:\n",
    "* #let's check the model to predict\n",
    "* logreg.predict([X_train_list[3]])"
   ]
  },
  {
   "cell_type": "code",
   "execution_count": 16,
   "id": "e341ab79",
   "metadata": {},
   "outputs": [],
   "source": [
    "y_pred = logreg.predict(X_test)"
   ]
  },
  {
   "cell_type": "code",
   "execution_count": 17,
   "id": "04f6b2ae",
   "metadata": {},
   "outputs": [],
   "source": [
    "from sklearn import metrics"
   ]
  },
  {
   "cell_type": "code",
   "execution_count": 18,
   "id": "ab8b8051",
   "metadata": {},
   "outputs": [],
   "source": [
    "cm = metrics.confusion_matrix(y_test, y_pred)"
   ]
  },
  {
   "cell_type": "code",
   "execution_count": 19,
   "id": "d9757752",
   "metadata": {},
   "outputs": [
    {
     "data": {
      "text/plain": [
       "array([[817,  11,  18,  31,   7,   0,  96,   0,  19,   1],\n",
       "       [  1, 976,   4,  13,   0,   2,   4,   0,   0,   0],\n",
       "       [ 15,   2, 762,  13, 122,   0,  74,   0,  12,   0],\n",
       "       [ 30,  28,  16, 871,  29,   0,  23,   0,   3,   0],\n",
       "       [  1,   2,  72,  34, 822,   1,  65,   0,   3,   0],\n",
       "       [  2,   2,   0,   0,   0, 883,   1,  64,  10,  38],\n",
       "       [148,   7, 105,  31, 109,   0, 584,   0,  16,   0],\n",
       "       [  0,   0,   0,   0,   0,  27,   0, 932,   1,  40],\n",
       "       [  2,   2,   9,   2,   5,   7,  17,   4, 950,   2],\n",
       "       [  0,   0,   0,   0,   0,  14,   0,  36,   3, 947]], dtype=int64)"
      ]
     },
     "execution_count": 19,
     "metadata": {},
     "output_type": "execute_result"
    }
   ],
   "source": [
    "cm"
   ]
  },
  {
   "cell_type": "code",
   "execution_count": 20,
   "id": "e7727864",
   "metadata": {},
   "outputs": [],
   "source": [
    "import matplotlib.pyplot as plt\n",
    "import seaborn as sns"
   ]
  },
  {
   "cell_type": "code",
   "execution_count": 21,
   "id": "579cd6ac",
   "metadata": {},
   "outputs": [
    {
     "data": {
      "image/png": "[encoded data removed]",
      "text/plain": [
       "<Figure size 900x900 with 1 Axes>"
      ]
     },
     "metadata": {},
     "output_type": "display_data"
    }
   ],
   "source": [
    "plt.figure(figsize=(9,9))\n",
    "sns.heatmap(cm, annot= True, fmt = '0.3f', linewidth = 0.5,\n",
    "           square = True, cbar = False)\n",
    "plt.ylabel('Actual Values')\n",
    "plt.xlabel('Predicted Values')\n",
    "plt.show()"
   ]
  },
  {
   "cell_type": "markdown",
   "id": "741ef73d",
   "metadata": {},
   "source": [
    "### Precision:\n",
    "![](https://i.imgur.com/aJBj0Pc.jpg)\n",
    "\n",
    "### Recall:\n",
    "![](https://i.imgur.com/5rwjy2n.jpg)\n",
    "\n",
    "### F1 Score:\n",
    "![](https://i.imgur.com/KOQR8qt.jpg)\n",
    "\n",
    "![](https://i.imgur.com/cPzAomk.jpg)"
   ]
  },
  {
   "cell_type": "code",
   "execution_count": 22,
   "id": "6c96fef0",
   "metadata": {},
   "outputs": [
    {
     "name": "stdout",
     "output_type": "stream",
     "text": [
      "              precision    recall  f1-score   support\n",
      "\n",
      "           0       0.80      0.82      0.81      1000\n",
      "           1       0.95      0.98      0.96      1000\n",
      "           2       0.77      0.76      0.77      1000\n",
      "           3       0.88      0.87      0.87      1000\n",
      "           4       0.75      0.82      0.79      1000\n",
      "           5       0.95      0.88      0.91      1000\n",
      "           6       0.68      0.58      0.63      1000\n",
      "           7       0.90      0.93      0.92      1000\n",
      "           8       0.93      0.95      0.94      1000\n",
      "           9       0.92      0.95      0.93      1000\n",
      "\n",
      "    accuracy                           0.85     10000\n",
      "   macro avg       0.85      0.85      0.85     10000\n",
      "weighted avg       0.85      0.85      0.85     10000\n",
      "\n"
     ]
    }
   ],
   "source": [
    "print(metrics.classification_report(y_test, y_pred))"
   ]
  },
  {
   "cell_type": "code",
   "execution_count": null,
   "id": "d9d2cd5b",
   "metadata": {},
   "outputs": [],
   "source": [
    "from sklearn.metrics import accuracy_score\n",
    "accuracy_score(y_test, y_pred)"
   ]
  },
  {
   "cell_type": "markdown",
   "id": "561e6d08",
   "metadata": {},
   "source": [
    "### Predict bằng XGBoost algorithm"
   ]
  },
  {
   "cell_type": "code",
   "execution_count": 35,
   "id": "112792bd",
   "metadata": {},
   "outputs": [],
   "source": [
    "# import libraries for ML \n",
    "import xgboost as xgb \n",
    "from sklearn.model_selection import KFold, cross_val_score, train_test_split \n",
    "from sklearn.metrics import classification_report, confusion_matrix "
   ]
  },
  {
   "cell_type": "code",
   "execution_count": 41,
   "id": "77f7014b",
   "metadata": {},
   "outputs": [
    {
     "name": "stdout",
     "output_type": "stream",
     "text": [
      "Accuracy of XGB classifier on training set: 1.00\n",
      "Accuracy of XGB classifier on test set: 0.81\n"
     ]
    }
   ],
   "source": [
    "#XGBoost Multiclassification Model \n",
    "#max_depth is depth of decision tree,learning_rate: tỷ lệ học \n",
    "label_xgb_model = xgb.XGBClassifier(max_depth=5, learning_rate=0.1, objective ='multi:softprob',n_jobs=-1).fit(X_train, y_train)\n",
    "\n",
    "print('Accuracy of XGB classifier on training set: {:.2f}' \n",
    "      .format(label_xgb_model.score(X_train, y_train))) \n",
    "\n",
    "print('Accuracy of XGB classifier on test set: {:.2f}'\n",
    "      .format(label_xgb_model.score(X_test[X_train.columns], y_test)))"
   ]
  },
  {
   "cell_type": "code",
   "execution_count": 36,
   "id": "9f1b666a",
   "metadata": {},
   "outputs": [],
   "source": [
    "label_xgb_model = xgb.XGBClassifier(max_depth=5, learning_rate=0.1, objective ='multi:softprob',n_jobs=-1).fit(X_train, y_train)"
   ]
  },
  {
   "cell_type": "code",
   "execution_count": 37,
   "id": "56c6fb62",
   "metadata": {},
   "outputs": [
    {
     "data": {
      "text/plain": [
       "1.0"
      ]
     },
     "execution_count": 37,
     "metadata": {},
     "output_type": "execute_result"
    }
   ],
   "source": [
    "label_xgb_model.score(X_train, y_train)"
   ]
  },
  {
   "cell_type": "code",
   "execution_count": 38,
   "id": "bdb46bc7",
   "metadata": {
    "scrolled": true
   },
   "outputs": [
    {
     "data": {
      "text/plain": [
       "0.81"
      ]
     },
     "execution_count": 38,
     "metadata": {},
     "output_type": "execute_result"
    }
   ],
   "source": [
    "label_xgb_model.score(X_test, y_test)"
   ]
  },
  {
   "cell_type": "markdown",
   "id": "0b7d9898",
   "metadata": {},
   "source": [
    "Because size of sample in this XGBoost Multiclassification Model  is only 100 samples."
   ]
  },
  {
   "cell_type": "code",
   "execution_count": 40,
   "id": "36244c2b",
   "metadata": {},
   "outputs": [
    {
     "name": "stdout",
     "output_type": "stream",
     "text": [
      "              precision    recall  f1-score   support\n",
      "\n",
      "           0       1.00      0.56      0.71         9\n",
      "           1       0.91      1.00      0.95        10\n",
      "           2       0.75      0.64      0.69        14\n",
      "           3       0.82      0.90      0.86        10\n",
      "           4       0.76      0.76      0.76        17\n",
      "           5       1.00      0.86      0.92         7\n",
      "           6       0.53      0.73      0.62        11\n",
      "           7       0.86      0.86      0.86         7\n",
      "           8       1.00      1.00      1.00         8\n",
      "           9       0.88      1.00      0.93         7\n",
      "\n",
      "    accuracy                           0.81       100\n",
      "   macro avg       0.85      0.83      0.83       100\n",
      "weighted avg       0.83      0.81      0.81       100\n",
      "\n"
     ]
    }
   ],
   "source": [
    "y_pred = label_xgb_model.predict(X_test)\n",
    "print(classification_report(y_test, y_pred))"
   ]
  },
  {
   "cell_type": "code",
   "execution_count": null,
   "id": "c93c48c6",
   "metadata": {},
   "outputs": [],
   "source": []
  },
  {
   "cell_type": "code",
   "execution_count": null,
   "id": "2493ea2f",
   "metadata": {},
   "outputs": [],
   "source": []
  }
 ],
 "metadata": {
  "kernelspec": {
   "display_name": "Python 3 (ipykernel)",
   "language": "python",
   "name": "python3"
  },
  "language_info": {
   "codemirror_mode": {
    "name": "ipython",
    "version": 3
   },
   "file_extension": ".py",
   "mimetype": "text/x-python",
   "name": "python",
   "nbconvert_exporter": "python",
   "pygments_lexer": "ipython3",
   "version": "3.11.4"
  }
 },
 "nbformat": 4,
 "nbformat_minor": 5
}
