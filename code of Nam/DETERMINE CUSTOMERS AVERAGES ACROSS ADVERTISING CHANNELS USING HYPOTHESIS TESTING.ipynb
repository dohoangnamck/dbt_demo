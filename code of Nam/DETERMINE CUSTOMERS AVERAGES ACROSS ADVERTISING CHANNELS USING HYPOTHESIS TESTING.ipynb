{
 "cells": [
  {
   "cell_type": "markdown",
   "id": "67b8d2ee",
   "metadata": {},
   "source": [
    "### Hypothesis Testing\n",
    "\n",
    "Why do we have to test hypothesis? In normal studies we study on the population: since we cannot get all the data information about the population, usually we will sample the data from the population and after we have sampled and performed the analytics for the sample and we will infer the population.\n",
    "\n",
    "However, these inferences need to be tested. Statistical Hypothesis is an assumption about a population parameter that we do not know, which needs to be tested.\n",
    "\n",
    "Statistical hypothesis testing is the process of steps by which we can reject or retain a given hypothesis."
   ]
  },
  {
   "cell_type": "code",
   "execution_count": 1,
   "id": "101bcc9b",
   "metadata": {},
   "outputs": [],
   "source": [
    "import numpy as np\n",
    "import pandas as pd\n",
    "from scipy import stats\n",
    "import seaborn as sns\n",
    "import scikit_posthocs as sp\n",
    "pd.options.display.float_format = '{:,.4f}'.format   # to display all data"
   ]
  },
  {
   "cell_type": "code",
   "execution_count": null,
   "id": "6ea7f61e",
   "metadata": {},
   "outputs": [],
   "source": [
    "STEP 1: State the hypotheses. (Population) \n",
    "STEP 2: Set the level of Significance: α (Criterion) \n",
    "STEP 3: Compute test Statistics (Sample) \n",
    "STEP 4: Make a decision based on p value"
   ]
  },
  {
   "cell_type": "markdown",
   "id": "26cf6c56",
   "metadata": {},
   "source": [
    "## Creat function\n",
    "### Check whether or not a sample comes from a normal distribution\n",
    "The Shapiro-Wilk test is a test of normality. It is used to determine whether or not a sample comes from a normal distribution. "
   ]
  },
  {
   "cell_type": "code",
   "execution_count": null,
   "id": "a7782106",
   "metadata": {},
   "outputs": [],
   "source": [
    "H0: The data is normally distributed.\n",
    "H1: The data is not normally distributed."
   ]
  },
  {
   "cell_type": "code",
   "execution_count": 2,
   "id": "59a87e69",
   "metadata": {},
   "outputs": [],
   "source": [
    "def check_normality(data):\n",
    "    test_stat_normality, p_value_normality=stats.shapiro(data)\n",
    "    print(\"p value:%.4f\" % p_value_normality)\n",
    "    if p_value_normality <0.05:\n",
    "        print(\"Reject null hypothesis (H0) => The data is not normally distributed\")\n",
    "    else:\n",
    "        print(\"Fail to reject null hypothesis (H0) => The data is normally distributed\")"
   ]
  },
  {
   "cell_type": "markdown",
   "id": "31fc4633",
   "metadata": {},
   "source": [
    "Levene's Test is used to determine whether two or more groups have equal variances.\n"
   ]
  },
  {
   "cell_type": "code",
   "execution_count": null,
   "id": "be972b9a",
   "metadata": {},
   "outputs": [],
   "source": [
    "H0: The variances of the samples are same.\n",
    "H1: The variances of the samples are different."
   ]
  },
  {
   "cell_type": "code",
   "execution_count": 3,
   "id": "99f2df76",
   "metadata": {},
   "outputs": [],
   "source": [
    "def check_variance_homogeneity(group1, group2): \n",
    "    test_stat_var, p_value_var= stats.levene(group1, group2)\n",
    "    print(\"p value:%.4f\" % p_value_var) \n",
    "    if p_value_var <0.05:\n",
    "        print(\"Reject null hypothesis (H0) => The variances of the samples are different.\") \n",
    "    else:\n",
    "        print(\"Fail to reject null hypothesis (H0) => The variances of the samples are same.\")\n"
   ]
  },
  {
   "cell_type": "markdown",
   "id": "8ccc829a",
   "metadata": {},
   "source": [
    "## CASE \n",
    "An e-commerce company makes advertising on 3 platforms YouTube, Instagram, Facebook. However, does the director care about the average number of users obtained through different channels? So, the number of users interacting through the channels recorded over 15 days is as follows:\n",
    "\n",
    "Based on the data collected, determine whether there is a difference in customers averages across advertising channels using hypothesis testing? with significance alpha=5%"
   ]
  },
  {
   "cell_type": "markdown",
   "id": "1c2dd62f",
   "metadata": {},
   "source": [
    "To determine if there is a difference in average customers across advertising channels using a hypothesis test, follow these steps:\n",
    "\n",
    "* Validate the normality assumption: Conduct a Shapiro-Wilk test to evaluate whether the data for each ad channel follows normal delivery. If the data is not normally distributed, consider applying a transformation or using a non-parametric test instead.\n",
    "\n",
    "* True equality of variances: Use Levene's Test to determine if the variance of the average customer across the advertising channels is equal. If the assumption of equal variances is violated, consider using alternative tests such as Welch's ANOVA or the Kruskal-Wallis test.\n",
    "\n",
    "* Perform ANOVA: Apply the F-test within the ANOVA framework to assess whether the average customer medium across advertising channels is significantly different. If the p-value associated with the F-test is lower than the predefined level of significance, conclude that there is a significant difference in the average of the customers across the advertising channels.\n",
    "\n",
    "* Analyze which group is really different with posthoc_mannwhitney"
   ]
  },
  {
   "cell_type": "code",
   "execution_count": 4,
   "id": "b329de33",
   "metadata": {},
   "outputs": [],
   "source": [
    "youtube=np.array([1913, 1879, 1939, 2146, 2040, 2127, 2122, 2156, 2036, 1974, 1956, \n",
    "                  2146, 2151, 1943, 2125])\n",
    "\n",
    "instagram = np.array([2305., 2355., 2203., 2231., 2185., 2420., 2386., 2410., 2340., \n",
    "                      2349., 2241., 2396., 2244., 2267., 2281.])\n",
    "\n",
    "facebook = np.array([2133., 2522., 2124., 2551., 2293., 2367., 2460., 2311., 2178., \n",
    "                     2113., 2048., 2443., 2265., 2095., 2528.])"
   ]
  },
  {
   "cell_type": "markdown",
   "id": "7047bc83",
   "metadata": {},
   "source": [
    "### Check whether or not a sample comes from a normal distribution"
   ]
  },
  {
   "cell_type": "code",
   "execution_count": null,
   "id": "17afbd6f",
   "metadata": {},
   "outputs": [],
   "source": [
    "H0: The data is normally distributed.\n",
    "H1: The data is not normally distributed."
   ]
  },
  {
   "cell_type": "code",
   "execution_count": 5,
   "id": "e188fdbe",
   "metadata": {},
   "outputs": [
    {
     "name": "stdout",
     "output_type": "stream",
     "text": [
      "p value:0.0285\n",
      "Reject null hypothesis (H0) => The data is not normally distributed\n",
      "p value:0.4156\n",
      "Fail to reject null hypothesis (H0) => The data is normally distributed\n",
      "p value:0.1716\n",
      "Fail to reject null hypothesis (H0) => The data is normally distributed\n"
     ]
    }
   ],
   "source": [
    "check_normality(youtube) \n",
    "check_normality(instagram) \n",
    "check_normality(facebook)"
   ]
  },
  {
   "cell_type": "markdown",
   "id": "d7efc072",
   "metadata": {},
   "source": [
    "### Check whether or not the variances of two or more groups are the same"
   ]
  },
  {
   "cell_type": "markdown",
   "id": "2a86adb0",
   "metadata": {},
   "source": [
    "H0: The variances of the samples are the same.\n",
    "H1: The variances of the samples are different."
   ]
  },
  {
   "cell_type": "code",
   "execution_count": 6,
   "id": "80b1b57d",
   "metadata": {},
   "outputs": [
    {
     "name": "stdout",
     "output_type": "stream",
     "text": [
      "p value:0.0012\n",
      "Reject null hypothesis >> The variances of the samples are different.\n"
     ]
    }
   ],
   "source": [
    "stat, pvalue_levene= stats.levene(youtube, instagram, facebook) \n",
    "\n",
    "print(\"p value:%.4f\" % pvalue_levene)\n",
    "if pvalue_levene <0.05:\n",
    "    print(\"Reject null hypothesis >> The variances of the samples are different.\") \n",
    "else:\n",
    "    print(\"Fail to reject null hypothesis >> The variances of the samples are same.\")\n"
   ]
  },
  {
   "cell_type": "markdown",
   "id": "aa7692c4",
   "metadata": {},
   "source": [
    "### Check whether or not the means of three channels are equal?"
   ]
  },
  {
   "cell_type": "markdown",
   "id": "26537024",
   "metadata": {},
   "source": [
    "H0: Mean.youtube = Mean.facekook = Mean.instagram or The mean of the samples are the same. \n",
    "H1: At least one of them is different."
   ]
  },
  {
   "cell_type": "code",
   "execution_count": 7,
   "id": "53000364",
   "metadata": {},
   "outputs": [
    {
     "name": "stdout",
     "output_type": "stream",
     "text": [
      "p value:0.000015\n",
      "Reject null hypothesis, at least one of means is different\n"
     ]
    }
   ],
   "source": [
    "F, p_value = stats.kruskal(youtube, instagram, facebook) #more than 2 variables, use kruskal or f_oneway\n",
    "print(\"p value:%.6f\" % p_value) \n",
    "if p_value <0.05:\n",
    "    print(\"Reject null hypothesis, at least one of means is different\")\n",
    "else:\n",
    "    print(\"Fail to reject null hypothesis\")"
   ]
  },
  {
   "cell_type": "markdown",
   "id": "643cc33e",
   "metadata": {},
   "source": [
    "At this significance level, at least one of the average customer acquisition numbers is different. Note: Since, the data is not normal, nonparametric version of posthoc test is used."
   ]
  },
  {
   "cell_type": "markdown",
   "id": "be6767dd",
   "metadata": {},
   "source": [
    "### Analyze which customers average is really different from others using posthoc_mannwhitney test"
   ]
  },
  {
   "cell_type": "code",
   "execution_count": 9,
   "id": "71c4d7ea",
   "metadata": {
    "scrolled": true
   },
   "outputs": [
    {
     "data": {
      "text/html": [
       "<style type=\"text/css\">\n",
       "#T_04355_row0_col0, #T_04355_row1_col1, #T_04355_row1_col2, #T_04355_row2_col1, #T_04355_row2_col2 {\n",
       "  background-color: white;\n",
       "}\n",
       "#T_04355_row0_col1, #T_04355_row0_col2, #T_04355_row1_col0, #T_04355_row2_col0 {\n",
       "  background-color: violet;\n",
       "}\n",
       "</style>\n",
       "<table id=\"T_04355\">\n",
       "  <thead>\n",
       "    <tr>\n",
       "      <th class=\"blank level0\" >&nbsp;</th>\n",
       "      <th id=\"T_04355_level0_col0\" class=\"col_heading level0 col0\" >youtube</th>\n",
       "      <th id=\"T_04355_level0_col1\" class=\"col_heading level0 col1\" >instagram</th>\n",
       "      <th id=\"T_04355_level0_col2\" class=\"col_heading level0 col2\" >facebook</th>\n",
       "    </tr>\n",
       "  </thead>\n",
       "  <tbody>\n",
       "    <tr>\n",
       "      <th id=\"T_04355_level0_row0\" class=\"row_heading level0 row0\" >youtube</th>\n",
       "      <td id=\"T_04355_row0_col0\" class=\"data row0 col0\" >1.000000</td>\n",
       "      <td id=\"T_04355_row0_col1\" class=\"data row0 col1\" >0.000010</td>\n",
       "      <td id=\"T_04355_row0_col2\" class=\"data row0 col2\" >0.002337</td>\n",
       "    </tr>\n",
       "    <tr>\n",
       "      <th id=\"T_04355_level0_row1\" class=\"row_heading level0 row1\" >instagram</th>\n",
       "      <td id=\"T_04355_row1_col0\" class=\"data row1 col0\" >0.000010</td>\n",
       "      <td id=\"T_04355_row1_col1\" class=\"data row1 col1\" >1.000000</td>\n",
       "      <td id=\"T_04355_row1_col2\" class=\"data row1 col2\" >1.000000</td>\n",
       "    </tr>\n",
       "    <tr>\n",
       "      <th id=\"T_04355_level0_row2\" class=\"row_heading level0 row2\" >facebook</th>\n",
       "      <td id=\"T_04355_row2_col0\" class=\"data row2 col0\" >0.002337</td>\n",
       "      <td id=\"T_04355_row2_col1\" class=\"data row2 col1\" >1.000000</td>\n",
       "      <td id=\"T_04355_row2_col2\" class=\"data row2 col2\" >1.000000</td>\n",
       "    </tr>\n",
       "  </tbody>\n",
       "</table>\n"
      ],
      "text/plain": [
       "<pandas.io.formats.style.Styler at 0x263ddbb4690>"
      ]
     },
     "execution_count": 9,
     "metadata": {},
     "output_type": "execute_result"
    }
   ],
   "source": [
    "posthoc_df = sp.posthoc_mannwhitney([youtube,instagram, facebook], p_adjust = 'bonferroni') \n",
    "\n",
    "group_names= [\"youtube\", \"instagram\",\"facebook\"] \n",
    "posthoc_df.columns= group_names \n",
    "posthoc_df.index= group_names\n",
    "posthoc_df.style.applymap(lambda x: \"background-color:violet\" if x<0.05 else \"background-color: white\")"
   ]
  },
  {
   "cell_type": "markdown",
   "id": "28255b0a",
   "metadata": {},
   "source": [
    "The average number of customers coming from YouTube is different than the other (actually smaller than the others)."
   ]
  }
 ],
 "metadata": {
  "kernelspec": {
   "display_name": "Python 3 (ipykernel)",
   "language": "python",
   "name": "python3"
  },
  "language_info": {
   "codemirror_mode": {
    "name": "ipython",
    "version": 3
   },
   "file_extension": ".py",
   "mimetype": "text/x-python",
   "name": "python",
   "nbconvert_exporter": "python",
   "pygments_lexer": "ipython3",
   "version": "3.11.4"
  }
 },
 "nbformat": 4,
 "nbformat_minor": 5
}
