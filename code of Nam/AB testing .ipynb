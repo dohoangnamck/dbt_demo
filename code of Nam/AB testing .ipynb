{
 "cells": [
  {
   "cell_type": "markdown",
   "id": "0f48d1b0",
   "metadata": {},
   "source": [
    "### A/B testing tutorial:\n",
    "A/B testing tutorial In this tutorial includes: Introduction to A/B testing How to deploy A/B testing step by step in Python \n",
    "\n",
    "Problem: Bạn thiết kế website bán hàng cho một doanh nghiệp thương mại điện tử. Để nâng cao tỷ lệ chuyển đổi, bạn thiết kế phiên bản mới cho các trang sản phẩm. Quân lý bán hàng cho bạn biết tỷ lệ chuyển đổi hiện tại khoảng 13%, và sẽ hài lòng nếu tăng thêm 2%, có nghĩa là thiết kế mới sẽ được xem là thành công nếu nó nâng tỷ lệ chuyển đổi lên 15%.\n"
   ]
  },
  {
   "cell_type": "code",
   "execution_count": 3,
   "id": "fcf7fe27",
   "metadata": {},
   "outputs": [],
   "source": [
    "# Packages imports \n",
    "import numpy as np \n",
    "import pandas as pd \n",
    "import scipy.stats as stats \n",
    "import statsmodels.stats.api as sms #package thống kê\n",
    "import matplotlib as mpl \n",
    "import matplotlib.pyplot as plt \n",
    "import seaborn as sns \n",
    "from math import ceil \n",
    "import os\n",
    "#os.chdir('D:/Python_Pro')"
   ]
  },
  {
   "cell_type": "markdown",
   "id": "4a6941dc",
   "metadata": {},
   "source": [
    "Với ngữ cảnh: tỷ lệ chuyển đổi là 13%, lên 2% là 15%. Tính kích thước mẫu tối thiểu cho mỗi nhóm: required_n"
   ]
  },
  {
   "cell_type": "code",
   "execution_count": 4,
   "id": "81ca46d3",
   "metadata": {},
   "outputs": [
    {
     "name": "stdout",
     "output_type": "stream",
     "text": [
      "4720\n"
     ]
    }
   ],
   "source": [
    "#Choosing a sample size. How many people should we have in each group? \n",
    "effect_size = sms.proportion_effectsize(0.13, 0.15) #Calculating effect size \n",
    "\n",
    "required_n = sms.NormalIndPower().solve_power( \n",
    "    effect_size, \n",
    "    power=0.8, \n",
    "    alpha=0.05, \n",
    "    ratio=1 \n",
    ")                                               #Calculating sample size \n",
    "\n",
    "required_n = ceil(required_n)                    #Rounding up to next who \n",
    "\n",
    "print(required_n)"
   ]
  },
  {
   "cell_type": "code",
   "execution_count": 5,
   "id": "641473d7",
   "metadata": {
    "scrolled": true
   },
   "outputs": [
    {
     "data": {
      "text/html": [
       "<div>\n",
       "<style scoped>\n",
       "    .dataframe tbody tr th:only-of-type {\n",
       "        vertical-align: middle;\n",
       "    }\n",
       "\n",
       "    .dataframe tbody tr th {\n",
       "        vertical-align: top;\n",
       "    }\n",
       "\n",
       "    .dataframe thead th {\n",
       "        text-align: right;\n",
       "    }\n",
       "</style>\n",
       "<table border=\"1\" class=\"dataframe\">\n",
       "  <thead>\n",
       "    <tr style=\"text-align: right;\">\n",
       "      <th></th>\n",
       "      <th>user_id</th>\n",
       "      <th>timestamp</th>\n",
       "      <th>group</th>\n",
       "      <th>landing_page</th>\n",
       "      <th>converted</th>\n",
       "    </tr>\n",
       "  </thead>\n",
       "  <tbody>\n",
       "    <tr>\n",
       "      <th>0</th>\n",
       "      <td>851104</td>\n",
       "      <td>2017-01-21 22:11:48.556739</td>\n",
       "      <td>control</td>\n",
       "      <td>old_page</td>\n",
       "      <td>0</td>\n",
       "    </tr>\n",
       "    <tr>\n",
       "      <th>1</th>\n",
       "      <td>804228</td>\n",
       "      <td>2017-01-12 08:01:45.159739</td>\n",
       "      <td>control</td>\n",
       "      <td>old_page</td>\n",
       "      <td>0</td>\n",
       "    </tr>\n",
       "    <tr>\n",
       "      <th>2</th>\n",
       "      <td>661590</td>\n",
       "      <td>2017-01-11 16:55:06.154213</td>\n",
       "      <td>treatment</td>\n",
       "      <td>new_page</td>\n",
       "      <td>0</td>\n",
       "    </tr>\n",
       "    <tr>\n",
       "      <th>3</th>\n",
       "      <td>853541</td>\n",
       "      <td>2017-01-08 18:28:03.143765</td>\n",
       "      <td>treatment</td>\n",
       "      <td>new_page</td>\n",
       "      <td>0</td>\n",
       "    </tr>\n",
       "    <tr>\n",
       "      <th>4</th>\n",
       "      <td>864975</td>\n",
       "      <td>2017-01-21 01:52:26.210827</td>\n",
       "      <td>control</td>\n",
       "      <td>old_page</td>\n",
       "      <td>1</td>\n",
       "    </tr>\n",
       "  </tbody>\n",
       "</table>\n",
       "</div>"
      ],
      "text/plain": [
       "   user_id                   timestamp      group landing_page  converted\n",
       "0   851104  2017-01-21 22:11:48.556739    control     old_page          0\n",
       "1   804228  2017-01-12 08:01:45.159739    control     old_page          0\n",
       "2   661590  2017-01-11 16:55:06.154213  treatment     new_page          0\n",
       "3   853541  2017-01-08 18:28:03.143765  treatment     new_page          0\n",
       "4   864975  2017-01-21 01:52:26.210827    control     old_page          1"
      ]
     },
     "execution_count": 5,
     "metadata": {},
     "output_type": "execute_result"
    }
   ],
   "source": [
    "df = pd.read_csv('ab_data.csv')\n",
    "df.head()"
   ]
  },
  {
   "cell_type": "code",
   "execution_count": 6,
   "id": "2550f748",
   "metadata": {},
   "outputs": [
    {
     "ename": "SyntaxError",
     "evalue": "invalid syntax (1176333422.py, line 1)",
     "output_type": "error",
     "traceback": [
      "\u001b[1;36m  Cell \u001b[1;32mIn[6], line 1\u001b[1;36m\u001b[0m\n\u001b[1;33m    Nhóm control cho xem old_page, Nhóm treatment cho xem new_page\u001b[0m\n\u001b[1;37m         ^\u001b[0m\n\u001b[1;31mSyntaxError\u001b[0m\u001b[1;31m:\u001b[0m invalid syntax\n"
     ]
    }
   ],
   "source": [
    "Nhóm control cho xem old_page, Nhóm treatment cho xem new_page\n",
    "0: Không mua hàng, 1: mua hàng => Tỷ lệ chuyển đổi thành công"
   ]
  },
  {
   "cell_type": "code",
   "execution_count": 7,
   "id": "37f20052",
   "metadata": {
    "scrolled": true
   },
   "outputs": [
    {
     "name": "stdout",
     "output_type": "stream",
     "text": [
      "<class 'pandas.core.frame.DataFrame'>\n",
      "RangeIndex: 294478 entries, 0 to 294477\n",
      "Data columns (total 5 columns):\n",
      " #   Column        Non-Null Count   Dtype \n",
      "---  ------        --------------   ----- \n",
      " 0   user_id       294478 non-null  int64 \n",
      " 1   timestamp     294478 non-null  object\n",
      " 2   group         294478 non-null  object\n",
      " 3   landing_page  294478 non-null  object\n",
      " 4   converted     294478 non-null  int64 \n",
      "dtypes: int64(2), object(3)\n",
      "memory usage: 11.2+ MB\n"
     ]
    }
   ],
   "source": [
    "df.info()"
   ]
  },
  {
   "cell_type": "markdown",
   "id": "07fcfaff",
   "metadata": {},
   "source": [
    "user_id - The user ID of each session \n",
    "timestamp - Timestamp for the session \n",
    "group Which group the user was assigned to for that session (control, treatment} \n",
    "landing_page -  Which design each user saw on that session (old_page, new_page} \n",
    "converted - Whether the session ended in a conversion or not (binary, e=not converted, 1-converted) \n",
    "converted: \n",
    "0 - The user did not buy the product during this user session \n",
    "1 - The user bought the product during this user session"
   ]
  },
  {
   "cell_type": "markdown",
   "id": "dbd42e7c",
   "metadata": {},
   "source": [
    "### Ta đánh giá xem new_page có tốt hơn old_page hay không?"
   ]
  },
  {
   "cell_type": "code",
   "execution_count": 8,
   "id": "160cce59",
   "metadata": {},
   "outputs": [
    {
     "data": {
      "text/html": [
       "<div>\n",
       "<style scoped>\n",
       "    .dataframe tbody tr th:only-of-type {\n",
       "        vertical-align: middle;\n",
       "    }\n",
       "\n",
       "    .dataframe tbody tr th {\n",
       "        vertical-align: top;\n",
       "    }\n",
       "\n",
       "    .dataframe thead th {\n",
       "        text-align: right;\n",
       "    }\n",
       "</style>\n",
       "<table border=\"1\" class=\"dataframe\">\n",
       "  <thead>\n",
       "    <tr style=\"text-align: right;\">\n",
       "      <th>landing_page</th>\n",
       "      <th>new_page</th>\n",
       "      <th>old_page</th>\n",
       "    </tr>\n",
       "    <tr>\n",
       "      <th>group</th>\n",
       "      <th></th>\n",
       "      <th></th>\n",
       "    </tr>\n",
       "  </thead>\n",
       "  <tbody>\n",
       "    <tr>\n",
       "      <th>control</th>\n",
       "      <td>1928</td>\n",
       "      <td>145274</td>\n",
       "    </tr>\n",
       "    <tr>\n",
       "      <th>treatment</th>\n",
       "      <td>145311</td>\n",
       "      <td>1965</td>\n",
       "    </tr>\n",
       "  </tbody>\n",
       "</table>\n",
       "</div>"
      ],
      "text/plain": [
       "landing_page  new_page  old_page\n",
       "group                           \n",
       "control           1928    145274\n",
       "treatment       145311      1965"
      ]
     },
     "execution_count": 8,
     "metadata": {},
     "output_type": "execute_result"
    }
   ],
   "source": [
    "# Cross-tabutation \n",
    "pd.crosstab(df['group'], df['landing_page'])"
   ]
  },
  {
   "cell_type": "code",
   "execution_count": 9,
   "id": "ef743f5e",
   "metadata": {
    "scrolled": true
   },
   "outputs": [
    {
     "data": {
      "text/plain": [
       "user_id         290584\n",
       "timestamp       294478\n",
       "group                2\n",
       "landing_page         2\n",
       "converted            2\n",
       "dtype: int64"
      ]
     },
     "execution_count": 9,
     "metadata": {},
     "output_type": "execute_result"
    }
   ],
   "source": [
    "#number of unique values\n",
    "df.nunique()"
   ]
  },
  {
   "cell_type": "code",
   "execution_count": 10,
   "id": "26ac6914",
   "metadata": {
    "scrolled": true
   },
   "outputs": [
    {
     "name": "stdout",
     "output_type": "stream",
     "text": [
      "There are 3894 users that appear multiple times in the dataset\n"
     ]
    }
   ],
   "source": [
    "session_counts=df['user_id'].value_counts(ascending=False) \n",
    "multi_users = session_counts[session_counts > 1].count() \n",
    "print(f'There are {multi_users} users that appear multiple times in the dataset')"
   ]
  },
  {
   "cell_type": "markdown",
   "id": "dac70490",
   "metadata": {},
   "source": [
    "And 3894  = 294478 - 290584"
   ]
  },
  {
   "cell_type": "code",
   "execution_count": 11,
   "id": "f40b24b4",
   "metadata": {
    "scrolled": true
   },
   "outputs": [
    {
     "name": "stdout",
     "output_type": "stream",
     "text": [
      "The updated dataset now has 286690 entries\n"
     ]
    }
   ],
   "source": [
    "# remove users with a session count greater than 1 from the df \n",
    "users_to_drop = session_counts [session_counts > 1].index \n",
    "df = df[~df['user_id'].isin(users_to_drop)] \n",
    "print(f'The updated dataset now has {df.shape[0]} entries')"
   ]
  },
  {
   "cell_type": "markdown",
   "id": "ae6048c8",
   "metadata": {},
   "source": [
    "And 286690   = 290584 - 3894"
   ]
  },
  {
   "cell_type": "code",
   "execution_count": 12,
   "id": "b34c9162",
   "metadata": {},
   "outputs": [],
   "source": [
    "#sample n=4720 entries for each of the groups \n",
    "control_sample=df[df['group']=='control'].sample(n=required_n, random_state= 22)\n",
    "treatment_sample= df[df['group']=='treatment'].sample(n=required_n, random_state = 22) \n",
    "\n",
    "ab_test = pd.concat([control_sample, treatment_sample], axis = 0) \n",
    "ab_test.reset_index(drop=True, inplace=True)"
   ]
  },
  {
   "cell_type": "code",
   "execution_count": 13,
   "id": "46cdd03b",
   "metadata": {},
   "outputs": [
    {
     "data": {
      "text/html": [
       "<div>\n",
       "<style scoped>\n",
       "    .dataframe tbody tr th:only-of-type {\n",
       "        vertical-align: middle;\n",
       "    }\n",
       "\n",
       "    .dataframe tbody tr th {\n",
       "        vertical-align: top;\n",
       "    }\n",
       "\n",
       "    .dataframe thead th {\n",
       "        text-align: right;\n",
       "    }\n",
       "</style>\n",
       "<table border=\"1\" class=\"dataframe\">\n",
       "  <thead>\n",
       "    <tr style=\"text-align: right;\">\n",
       "      <th></th>\n",
       "      <th>user_id</th>\n",
       "      <th>timestamp</th>\n",
       "      <th>group</th>\n",
       "      <th>landing_page</th>\n",
       "      <th>converted</th>\n",
       "    </tr>\n",
       "  </thead>\n",
       "  <tbody>\n",
       "    <tr>\n",
       "      <th>0</th>\n",
       "      <td>763854</td>\n",
       "      <td>2017-01-21 03:43:17.188315</td>\n",
       "      <td>control</td>\n",
       "      <td>old_page</td>\n",
       "      <td>0</td>\n",
       "    </tr>\n",
       "    <tr>\n",
       "      <th>1</th>\n",
       "      <td>690555</td>\n",
       "      <td>2017-01-18 06:38:13.079449</td>\n",
       "      <td>control</td>\n",
       "      <td>old_page</td>\n",
       "      <td>0</td>\n",
       "    </tr>\n",
       "    <tr>\n",
       "      <th>2</th>\n",
       "      <td>861520</td>\n",
       "      <td>2017-01-06 21:13:40.044766</td>\n",
       "      <td>control</td>\n",
       "      <td>old_page</td>\n",
       "      <td>0</td>\n",
       "    </tr>\n",
       "    <tr>\n",
       "      <th>3</th>\n",
       "      <td>630778</td>\n",
       "      <td>2017-01-05 16:42:36.995204</td>\n",
       "      <td>control</td>\n",
       "      <td>old_page</td>\n",
       "      <td>0</td>\n",
       "    </tr>\n",
       "    <tr>\n",
       "      <th>4</th>\n",
       "      <td>656634</td>\n",
       "      <td>2017-01-04 15:31:21.676130</td>\n",
       "      <td>control</td>\n",
       "      <td>old_page</td>\n",
       "      <td>0</td>\n",
       "    </tr>\n",
       "    <tr>\n",
       "      <th>...</th>\n",
       "      <td>...</td>\n",
       "      <td>...</td>\n",
       "      <td>...</td>\n",
       "      <td>...</td>\n",
       "      <td>...</td>\n",
       "    </tr>\n",
       "    <tr>\n",
       "      <th>9435</th>\n",
       "      <td>908512</td>\n",
       "      <td>2017-01-14 22:02:29.922674</td>\n",
       "      <td>treatment</td>\n",
       "      <td>new_page</td>\n",
       "      <td>0</td>\n",
       "    </tr>\n",
       "    <tr>\n",
       "      <th>9436</th>\n",
       "      <td>873211</td>\n",
       "      <td>2017-01-05 00:57:16.167151</td>\n",
       "      <td>treatment</td>\n",
       "      <td>new_page</td>\n",
       "      <td>0</td>\n",
       "    </tr>\n",
       "    <tr>\n",
       "      <th>9437</th>\n",
       "      <td>631276</td>\n",
       "      <td>2017-01-20 18:56:58.167809</td>\n",
       "      <td>treatment</td>\n",
       "      <td>new_page</td>\n",
       "      <td>0</td>\n",
       "    </tr>\n",
       "    <tr>\n",
       "      <th>9438</th>\n",
       "      <td>662301</td>\n",
       "      <td>2017-01-03 08:10:57.768806</td>\n",
       "      <td>treatment</td>\n",
       "      <td>new_page</td>\n",
       "      <td>0</td>\n",
       "    </tr>\n",
       "    <tr>\n",
       "      <th>9439</th>\n",
       "      <td>944623</td>\n",
       "      <td>2017-01-19 10:56:01.648653</td>\n",
       "      <td>treatment</td>\n",
       "      <td>new_page</td>\n",
       "      <td>1</td>\n",
       "    </tr>\n",
       "  </tbody>\n",
       "</table>\n",
       "<p>9440 rows × 5 columns</p>\n",
       "</div>"
      ],
      "text/plain": [
       "      user_id                   timestamp      group landing_page  converted\n",
       "0      763854  2017-01-21 03:43:17.188315    control     old_page          0\n",
       "1      690555  2017-01-18 06:38:13.079449    control     old_page          0\n",
       "2      861520  2017-01-06 21:13:40.044766    control     old_page          0\n",
       "3      630778  2017-01-05 16:42:36.995204    control     old_page          0\n",
       "4      656634  2017-01-04 15:31:21.676130    control     old_page          0\n",
       "...       ...                         ...        ...          ...        ...\n",
       "9435   908512  2017-01-14 22:02:29.922674  treatment     new_page          0\n",
       "9436   873211  2017-01-05 00:57:16.167151  treatment     new_page          0\n",
       "9437   631276  2017-01-20 18:56:58.167809  treatment     new_page          0\n",
       "9438   662301  2017-01-03 08:10:57.768806  treatment     new_page          0\n",
       "9439   944623  2017-01-19 10:56:01.648653  treatment     new_page          1\n",
       "\n",
       "[9440 rows x 5 columns]"
      ]
     },
     "execution_count": 13,
     "metadata": {},
     "output_type": "execute_result"
    }
   ],
   "source": [
    "ab_test"
   ]
  },
  {
   "cell_type": "code",
   "execution_count": 14,
   "id": "fcd74149",
   "metadata": {},
   "outputs": [
    {
     "name": "stdout",
     "output_type": "stream",
     "text": [
      "<class 'pandas.core.frame.DataFrame'>\n",
      "RangeIndex: 9440 entries, 0 to 9439\n",
      "Data columns (total 5 columns):\n",
      " #   Column        Non-Null Count  Dtype \n",
      "---  ------        --------------  ----- \n",
      " 0   user_id       9440 non-null   int64 \n",
      " 1   timestamp     9440 non-null   object\n",
      " 2   group         9440 non-null   object\n",
      " 3   landing_page  9440 non-null   object\n",
      " 4   converted     9440 non-null   int64 \n",
      "dtypes: int64(2), object(3)\n",
      "memory usage: 368.9+ KB\n"
     ]
    }
   ],
   "source": [
    "ab_test.info()"
   ]
  },
  {
   "cell_type": "code",
   "execution_count": 15,
   "id": "f7c1e1e3",
   "metadata": {},
   "outputs": [
    {
     "data": {
      "text/plain": [
       "group\n",
       "control      4720\n",
       "treatment    4720\n",
       "Name: count, dtype: int64"
      ]
     },
     "execution_count": 15,
     "metadata": {},
     "output_type": "execute_result"
    }
   ],
   "source": [
    "ab_test['group'].value_counts()"
   ]
  },
  {
   "cell_type": "code",
   "execution_count": 16,
   "id": "c5d52f57",
   "metadata": {
    "scrolled": true
   },
   "outputs": [
    {
     "data": {
      "text/html": [
       "<style type=\"text/css\">\n",
       "</style>\n",
       "<table id=\"T_085f4\">\n",
       "  <thead>\n",
       "    <tr>\n",
       "      <th class=\"blank level0\" >&nbsp;</th>\n",
       "      <th id=\"T_085f4_level0_col0\" class=\"col_heading level0 col0\" >conversion_rate</th>\n",
       "      <th id=\"T_085f4_level0_col1\" class=\"col_heading level0 col1\" >std_deviation</th>\n",
       "      <th id=\"T_085f4_level0_col2\" class=\"col_heading level0 col2\" >std_error</th>\n",
       "    </tr>\n",
       "    <tr>\n",
       "      <th class=\"index_name level0\" >group</th>\n",
       "      <th class=\"blank col0\" >&nbsp;</th>\n",
       "      <th class=\"blank col1\" >&nbsp;</th>\n",
       "      <th class=\"blank col2\" >&nbsp;</th>\n",
       "    </tr>\n",
       "  </thead>\n",
       "  <tbody>\n",
       "    <tr>\n",
       "      <th id=\"T_085f4_level0_row0\" class=\"row_heading level0 row0\" >control</th>\n",
       "      <td id=\"T_085f4_row0_col0\" class=\"data row0 col0\" >0.123</td>\n",
       "      <td id=\"T_085f4_row0_col1\" class=\"data row0 col1\" >0.329</td>\n",
       "      <td id=\"T_085f4_row0_col2\" class=\"data row0 col2\" >0.005</td>\n",
       "    </tr>\n",
       "    <tr>\n",
       "      <th id=\"T_085f4_level0_row1\" class=\"row_heading level0 row1\" >treatment</th>\n",
       "      <td id=\"T_085f4_row1_col0\" class=\"data row1 col0\" >0.126</td>\n",
       "      <td id=\"T_085f4_row1_col1\" class=\"data row1 col1\" >0.331</td>\n",
       "      <td id=\"T_085f4_row1_col2\" class=\"data row1 col2\" >0.005</td>\n",
       "    </tr>\n",
       "  </tbody>\n",
       "</table>\n"
      ],
      "text/plain": [
       "<pandas.io.formats.style.Styler at 0x1acd6b4b1d0>"
      ]
     },
     "execution_count": 16,
     "metadata": {},
     "output_type": "execute_result"
    }
   ],
   "source": [
    "conversion_rates = ab_test.groupby('group') ['converted' ] \n",
    "\n",
    "#Std. deviation of the proportion \n",
    "#Std. error of the proportion (std / sqrt (n) ) \n",
    "\n",
    "std_p = lambda x: np.std(x, ddof=0) \n",
    "se_p = lambda x: stats.sem(x, ddof=0) \n",
    "\n",
    "conversion_rates = conversion_rates.agg([np.mean, std_p, se_p])\n",
    "conversion_rates.columns = ['conversion_rate', 'std_deviation','std_error']\n",
    "\n",
    "conversion_rates.style.format ('{:.3f}')\n",
    "#Biểu diễn tỷ lệ chuyển đổi, độ lệch chuẩn, sai số chuẩn"
   ]
  },
  {
   "cell_type": "code",
   "execution_count": 17,
   "id": "8f939920",
   "metadata": {},
   "outputs": [
    {
     "data": {
      "image/png": "[encoded data removed]",
      "text/plain": [
       "<Figure size 800x600 with 1 Axes>"
      ]
     },
     "metadata": {},
     "output_type": "display_data"
    }
   ],
   "source": [
    "plt.figure(figsize=(8,6)) \n",
    "sns.barplot(x=ab_test['group'], y=ab_test['converted'], errorbar=('ci', False)) \n",
    "plt.ylim(0, 0.17) \n",
    "plt.title('Conversion rate by group', pad=20) \n",
    "plt.xlabel('Group', labelpad=15) \n",
    "plt.ylabel('Converted (proportion)', labelpad=15);"
   ]
  },
  {
   "cell_type": "markdown",
   "id": "2d57a8b0",
   "metadata": {},
   "source": [
    "Vấn đề đặt ra hiện tại là có sự khác biệt nào đáng kể giữa `control` và `treatment` hay không?\n"
   ]
  },
  {
   "cell_type": "markdown",
   "id": "2b8ea9d5",
   "metadata": {},
   "source": [
    "Testing the hypothesis: z-test, two-tailed test (do có std_deviation nên dùng z-test)\n",
    "significance level (alpha): 5%, confidence level: 95% \n",
    "p,p0 stand for conversion rate of the new and old design, respectively. \n",
    "H0: p=p0 \n",
    "H1: p<>pe"
   ]
  },
  {
   "cell_type": "code",
   "execution_count": 18,
   "id": "7f174802",
   "metadata": {},
   "outputs": [],
   "source": [
    "from statsmodels.stats.proportion import proportions_ztest, proportion_confint "
   ]
  },
  {
   "cell_type": "code",
   "execution_count": 19,
   "id": "d84e3816",
   "metadata": {},
   "outputs": [
    {
     "data": {
      "text/plain": [
       "0       0\n",
       "1       0\n",
       "2       0\n",
       "3       0\n",
       "4       0\n",
       "       ..\n",
       "4715    0\n",
       "4716    0\n",
       "4717    0\n",
       "4718    0\n",
       "4719    0\n",
       "Name: converted, Length: 4720, dtype: int64"
      ]
     },
     "execution_count": 19,
     "metadata": {},
     "output_type": "execute_result"
    }
   ],
   "source": [
    "control_results= ab_test[ab_test['group'] == 'control']['converted'] \n",
    "treatment_results = ab_test[ab_test['group'] == 'treatment']['converted']\n",
    "control_results"
   ]
  },
  {
   "cell_type": "code",
   "execution_count": null,
   "id": "6cea0d08",
   "metadata": {},
   "outputs": [],
   "source": [
    "Key point: Mấu chốt vấn đề: \n",
    "successes= [control_results.sum(), treatment_results.sum()] \n",
    "z_stat, pval = proportions_ztest(successes, nobs=nobs) \n",
    "\n",
    "Dùng ztest one-sample để AB test:\n",
    "Một thử nghiệm Z tỷ lệ : One Proportion Z test, được sử dụng để so sánh tỷ lệ quan sát được với tỷ lệ lý thuyết.\n",
    "z statistic/ z score là giá trị tra bảng theo công thức: z-score = (x – μ) /  σ\n",
    "Link: https://www.statology.org/z-table/\n",
    "Link: https://www.statology.org/how-to-use-z-table/"
   ]
  },
  {
   "cell_type": "code",
   "execution_count": null,
   "id": "455fbc17",
   "metadata": {},
   "outputs": [],
   "source": [
    "Nguyên lý One Proportion Z test:\n",
    "Count: The number of successes\n",
    "Nobs: Số lượng thử nghiệmThe number of trials\n",
    "value: Tỷ lệ dân số được đưa ra giả thuyếtThe hypothesized population proportion\n",
    "#proportions_ztest(count=60, nobs=100, value=0.64)"
   ]
  },
  {
   "cell_type": "code",
   "execution_count": 20,
   "id": "6fe4e0c4",
   "metadata": {},
   "outputs": [],
   "source": [
    "n_con= control_results.count() \n",
    "n_treat= treatment_results.count() \n",
    "successes= [control_results.sum(), treatment_results.sum()] \n",
    "nobs= [n_con, n_treat]"
   ]
  },
  {
   "cell_type": "code",
   "execution_count": 21,
   "id": "3529cb94",
   "metadata": {
    "scrolled": true
   },
   "outputs": [
    {
     "data": {
      "text/plain": [
       "[582, 593]"
      ]
     },
     "execution_count": 21,
     "metadata": {},
     "output_type": "execute_result"
    }
   ],
   "source": [
    "successes"
   ]
  },
  {
   "cell_type": "code",
   "execution_count": 27,
   "id": "c42df04c",
   "metadata": {},
   "outputs": [
    {
     "data": {
      "text/plain": [
       "[4720, 4720]"
      ]
     },
     "execution_count": 27,
     "metadata": {},
     "output_type": "execute_result"
    }
   ],
   "source": [
    "nobs"
   ]
  },
  {
   "cell_type": "code",
   "execution_count": 28,
   "id": "7bcef7d8",
   "metadata": {},
   "outputs": [
    {
     "data": {
      "text/plain": [
       "(-0.342955932739339, 0.7316316123467367)"
      ]
     },
     "execution_count": 28,
     "metadata": {},
     "output_type": "execute_result"
    }
   ],
   "source": [
    "z_stat, pval = proportions_ztest(successes, nobs=nobs) \n",
    "z_stat, pval"
   ]
  },
  {
   "cell_type": "code",
   "execution_count": 29,
   "id": "53d114bf",
   "metadata": {},
   "outputs": [
    {
     "name": "stdout",
     "output_type": "stream",
     "text": [
      "z statistic: -0.34\n",
      "p-value: 0.732\n",
      "ci 95% for control group: [ 0.114, 0.133]\n",
      "ci 95% for treatment group: [0.116, 0.135]\n"
     ]
    }
   ],
   "source": [
    "n_con= control_results.count() \n",
    "n_treat= treatment_results.count() \n",
    "successes= [control_results.sum(), treatment_results.sum()] \n",
    "nobs= [n_con, n_treat] \n",
    "\n",
    "z_stat, pval = proportions_ztest(successes, nobs=nobs) \n",
    "(lower_con, lower_treat), (upper_con, upper_treat) = proportion_confint(successes, nobs=nobs, alpha =0.05)\n",
    "\n",
    "print (f'z statistic: {z_stat:.2f}')\n",
    "print(f'p-value: {pval:.3f}') \n",
    "print(f'ci 95% for control group: [{lower_con: .3f}, {upper_con:.3f}]') \n",
    "print(f'ci 95% for treatment group: [{lower_treat:.3f}, {upper_treat:.3f}]')"
   ]
  },
  {
   "cell_type": "markdown",
   "id": "dbb44949",
   "metadata": {},
   "source": [
    "ci: Confidence Intervals khoảng tin cậy, được thực hiện dựa trên giả thiết rằng dữ liệu được quan sát là các mẫu ngẫu nhiên từ một quần thể đích. Do vậy khoảng tin cậy nhận được từ việc tính toán dữ liệu, cũng là con số mang tính ngẫu nhiên. \n",
    "\n",
    "Confidence level: Độ tin cậy là con số ước lượng nhất định, được đưa ra trước khi tiến hành khảo sát dữ liệu (vd: 90%, 95%, 99% )\n",
    "\n"
   ]
  },
  {
   "cell_type": "markdown",
   "id": "b6dc36f0",
   "metadata": {},
   "source": [
    "p-value= 0.732 > alpha =0.05 chúng ta không có cơ sở bác bỏ giả thuyết H0. Tức là tỷ lệ chuyển đổi của thiết kế mới không có khác biệt đáng kể so với thiết kế cũ. \n",
    "\n",
    "Ngoài ra, khoảng tin cậy 95% cho nhóm treatment ([0,116, 0,135), tức là [11,6%-13,5%]):\n",
    "\n",
    "Bao gồm giá trị tỷ lệ chuyển đổi ban đầu là 13% \n",
    "Không bao gồm giá trị mục tiêu là 15% \n",
    "Điều này có nghĩa là khả năng cao tỷ lệ chuyển đổi thực sự của thiết kế mới tương tự như tỷ lệ chuyển đổi của phiên bản cũ, chứ không phải đạt 15% như mục tiêu đặt ra. Điều này là bằng chứng khác cho thấy thiết kế mới của chúng ta không có khả năng cải thiện so với thiết kế cũ."
   ]
  },
  {
   "cell_type": "code",
   "execution_count": null,
   "id": "b794721e",
   "metadata": {},
   "outputs": [],
   "source": []
  }
 ],
 "metadata": {
  "kernelspec": {
   "display_name": "Python 3 (ipykernel)",
   "language": "python",
   "name": "python3"
  },
  "language_info": {
   "codemirror_mode": {
    "name": "ipython",
    "version": 3
   },
   "file_extension": ".py",
   "mimetype": "text/x-python",
   "name": "python",
   "nbconvert_exporter": "python",
   "pygments_lexer": "ipython3",
   "version": "3.11.4"
  }
 },
 "nbformat": 4,
 "nbformat_minor": 5
}
