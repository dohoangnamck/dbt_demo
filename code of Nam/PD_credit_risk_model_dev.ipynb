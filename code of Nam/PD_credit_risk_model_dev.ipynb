{
 "cells": [
  {
   "cell_type": "code",
   "execution_count": 2,
   "id": "d6e2358a",
   "metadata": {},
   "outputs": [],
   "source": [
    "#!/usr/bin/env python\n",
    "# coding: utf-8\n",
    "import pandas as pd\n",
    "import numpy as np\n",
    "import seaborn as sns\n",
    "import matplotlib.pyplot as plt"
   ]
  },
  {
   "cell_type": "code",
   "execution_count": 3,
   "id": "825ebeda",
   "metadata": {},
   "outputs": [],
   "source": [
    "train = pd.read_csv(r'GiveMeSomeCredit\\cs-training.csv').drop(['Unnamed: 0'],axis=1)\n",
    "test = pd.read_csv(r'GiveMeSomeCredit\\cs-test.csv').drop(['Unnamed: 0'],axis=1)\n",
    "#GiveMeSomeCredit"
   ]
  },
  {
   "cell_type": "code",
   "execution_count": 4,
   "id": "1c5a2376",
   "metadata": {},
   "outputs": [
    {
     "data": {
      "text/html": [
       "<div>\n",
       "<style scoped>\n",
       "    .dataframe tbody tr th:only-of-type {\n",
       "        vertical-align: middle;\n",
       "    }\n",
       "\n",
       "    .dataframe tbody tr th {\n",
       "        vertical-align: top;\n",
       "    }\n",
       "\n",
       "    .dataframe thead th {\n",
       "        text-align: right;\n",
       "    }\n",
       "</style>\n",
       "<table border=\"1\" class=\"dataframe\">\n",
       "  <thead>\n",
       "    <tr style=\"text-align: right;\">\n",
       "      <th></th>\n",
       "      <th>SeriousDlqin2yrs</th>\n",
       "      <th>RevolvingUtilizationOfUnsecuredLines</th>\n",
       "      <th>age</th>\n",
       "      <th>NumberOfTime30-59DaysPastDueNotWorse</th>\n",
       "      <th>DebtRatio</th>\n",
       "      <th>MonthlyIncome</th>\n",
       "      <th>NumberOfOpenCreditLinesAndLoans</th>\n",
       "      <th>NumberOfTimes90DaysLate</th>\n",
       "      <th>NumberRealEstateLoansOrLines</th>\n",
       "      <th>NumberOfTime60-89DaysPastDueNotWorse</th>\n",
       "      <th>NumberOfDependents</th>\n",
       "    </tr>\n",
       "  </thead>\n",
       "  <tbody>\n",
       "    <tr>\n",
       "      <th>0</th>\n",
       "      <td>1</td>\n",
       "      <td>0.766127</td>\n",
       "      <td>45</td>\n",
       "      <td>2</td>\n",
       "      <td>0.802982</td>\n",
       "      <td>9120.0</td>\n",
       "      <td>13</td>\n",
       "      <td>0</td>\n",
       "      <td>6</td>\n",
       "      <td>0</td>\n",
       "      <td>2.0</td>\n",
       "    </tr>\n",
       "    <tr>\n",
       "      <th>1</th>\n",
       "      <td>0</td>\n",
       "      <td>0.957151</td>\n",
       "      <td>40</td>\n",
       "      <td>0</td>\n",
       "      <td>0.121876</td>\n",
       "      <td>2600.0</td>\n",
       "      <td>4</td>\n",
       "      <td>0</td>\n",
       "      <td>0</td>\n",
       "      <td>0</td>\n",
       "      <td>1.0</td>\n",
       "    </tr>\n",
       "    <tr>\n",
       "      <th>2</th>\n",
       "      <td>0</td>\n",
       "      <td>0.658180</td>\n",
       "      <td>38</td>\n",
       "      <td>1</td>\n",
       "      <td>0.085113</td>\n",
       "      <td>3042.0</td>\n",
       "      <td>2</td>\n",
       "      <td>1</td>\n",
       "      <td>0</td>\n",
       "      <td>0</td>\n",
       "      <td>0.0</td>\n",
       "    </tr>\n",
       "    <tr>\n",
       "      <th>3</th>\n",
       "      <td>0</td>\n",
       "      <td>0.233810</td>\n",
       "      <td>30</td>\n",
       "      <td>0</td>\n",
       "      <td>0.036050</td>\n",
       "      <td>3300.0</td>\n",
       "      <td>5</td>\n",
       "      <td>0</td>\n",
       "      <td>0</td>\n",
       "      <td>0</td>\n",
       "      <td>0.0</td>\n",
       "    </tr>\n",
       "    <tr>\n",
       "      <th>4</th>\n",
       "      <td>0</td>\n",
       "      <td>0.907239</td>\n",
       "      <td>49</td>\n",
       "      <td>1</td>\n",
       "      <td>0.024926</td>\n",
       "      <td>63588.0</td>\n",
       "      <td>7</td>\n",
       "      <td>0</td>\n",
       "      <td>1</td>\n",
       "      <td>0</td>\n",
       "      <td>0.0</td>\n",
       "    </tr>\n",
       "    <tr>\n",
       "      <th>...</th>\n",
       "      <td>...</td>\n",
       "      <td>...</td>\n",
       "      <td>...</td>\n",
       "      <td>...</td>\n",
       "      <td>...</td>\n",
       "      <td>...</td>\n",
       "      <td>...</td>\n",
       "      <td>...</td>\n",
       "      <td>...</td>\n",
       "      <td>...</td>\n",
       "      <td>...</td>\n",
       "    </tr>\n",
       "    <tr>\n",
       "      <th>149995</th>\n",
       "      <td>0</td>\n",
       "      <td>0.040674</td>\n",
       "      <td>74</td>\n",
       "      <td>0</td>\n",
       "      <td>0.225131</td>\n",
       "      <td>2100.0</td>\n",
       "      <td>4</td>\n",
       "      <td>0</td>\n",
       "      <td>1</td>\n",
       "      <td>0</td>\n",
       "      <td>0.0</td>\n",
       "    </tr>\n",
       "    <tr>\n",
       "      <th>149996</th>\n",
       "      <td>0</td>\n",
       "      <td>0.299745</td>\n",
       "      <td>44</td>\n",
       "      <td>0</td>\n",
       "      <td>0.716562</td>\n",
       "      <td>5584.0</td>\n",
       "      <td>4</td>\n",
       "      <td>0</td>\n",
       "      <td>1</td>\n",
       "      <td>0</td>\n",
       "      <td>2.0</td>\n",
       "    </tr>\n",
       "    <tr>\n",
       "      <th>149997</th>\n",
       "      <td>0</td>\n",
       "      <td>0.246044</td>\n",
       "      <td>58</td>\n",
       "      <td>0</td>\n",
       "      <td>3870.000000</td>\n",
       "      <td>NaN</td>\n",
       "      <td>18</td>\n",
       "      <td>0</td>\n",
       "      <td>1</td>\n",
       "      <td>0</td>\n",
       "      <td>0.0</td>\n",
       "    </tr>\n",
       "    <tr>\n",
       "      <th>149998</th>\n",
       "      <td>0</td>\n",
       "      <td>0.000000</td>\n",
       "      <td>30</td>\n",
       "      <td>0</td>\n",
       "      <td>0.000000</td>\n",
       "      <td>5716.0</td>\n",
       "      <td>4</td>\n",
       "      <td>0</td>\n",
       "      <td>0</td>\n",
       "      <td>0</td>\n",
       "      <td>0.0</td>\n",
       "    </tr>\n",
       "    <tr>\n",
       "      <th>149999</th>\n",
       "      <td>0</td>\n",
       "      <td>0.850283</td>\n",
       "      <td>64</td>\n",
       "      <td>0</td>\n",
       "      <td>0.249908</td>\n",
       "      <td>8158.0</td>\n",
       "      <td>8</td>\n",
       "      <td>0</td>\n",
       "      <td>2</td>\n",
       "      <td>0</td>\n",
       "      <td>0.0</td>\n",
       "    </tr>\n",
       "  </tbody>\n",
       "</table>\n",
       "<p>150000 rows × 11 columns</p>\n",
       "</div>"
      ],
      "text/plain": [
       "        SeriousDlqin2yrs  RevolvingUtilizationOfUnsecuredLines  age  \\\n",
       "0                      1                              0.766127   45   \n",
       "1                      0                              0.957151   40   \n",
       "2                      0                              0.658180   38   \n",
       "3                      0                              0.233810   30   \n",
       "4                      0                              0.907239   49   \n",
       "...                  ...                                   ...  ...   \n",
       "149995                 0                              0.040674   74   \n",
       "149996                 0                              0.299745   44   \n",
       "149997                 0                              0.246044   58   \n",
       "149998                 0                              0.000000   30   \n",
       "149999                 0                              0.850283   64   \n",
       "\n",
       "        NumberOfTime30-59DaysPastDueNotWorse    DebtRatio  MonthlyIncome  \\\n",
       "0                                          2     0.802982         9120.0   \n",
       "1                                          0     0.121876         2600.0   \n",
       "2                                          1     0.085113         3042.0   \n",
       "3                                          0     0.036050         3300.0   \n",
       "4                                          1     0.024926        63588.0   \n",
       "...                                      ...          ...            ...   \n",
       "149995                                     0     0.225131         2100.0   \n",
       "149996                                     0     0.716562         5584.0   \n",
       "149997                                     0  3870.000000            NaN   \n",
       "149998                                     0     0.000000         5716.0   \n",
       "149999                                     0     0.249908         8158.0   \n",
       "\n",
       "        NumberOfOpenCreditLinesAndLoans  NumberOfTimes90DaysLate  \\\n",
       "0                                    13                        0   \n",
       "1                                     4                        0   \n",
       "2                                     2                        1   \n",
       "3                                     5                        0   \n",
       "4                                     7                        0   \n",
       "...                                 ...                      ...   \n",
       "149995                                4                        0   \n",
       "149996                                4                        0   \n",
       "149997                               18                        0   \n",
       "149998                                4                        0   \n",
       "149999                                8                        0   \n",
       "\n",
       "        NumberRealEstateLoansOrLines  NumberOfTime60-89DaysPastDueNotWorse  \\\n",
       "0                                  6                                     0   \n",
       "1                                  0                                     0   \n",
       "2                                  0                                     0   \n",
       "3                                  0                                     0   \n",
       "4                                  1                                     0   \n",
       "...                              ...                                   ...   \n",
       "149995                             1                                     0   \n",
       "149996                             1                                     0   \n",
       "149997                             1                                     0   \n",
       "149998                             0                                     0   \n",
       "149999                             2                                     0   \n",
       "\n",
       "        NumberOfDependents  \n",
       "0                      2.0  \n",
       "1                      1.0  \n",
       "2                      0.0  \n",
       "3                      0.0  \n",
       "4                      0.0  \n",
       "...                    ...  \n",
       "149995                 0.0  \n",
       "149996                 2.0  \n",
       "149997                 0.0  \n",
       "149998                 0.0  \n",
       "149999                 0.0  \n",
       "\n",
       "[150000 rows x 11 columns]"
      ]
     },
     "execution_count": 4,
     "metadata": {},
     "output_type": "execute_result"
    }
   ],
   "source": [
    "train"
   ]
  },
  {
   "cell_type": "code",
   "execution_count": 5,
   "id": "b8fc01ae",
   "metadata": {},
   "outputs": [
    {
     "data": {
      "text/html": [
       "<div>\n",
       "<style scoped>\n",
       "    .dataframe tbody tr th:only-of-type {\n",
       "        vertical-align: middle;\n",
       "    }\n",
       "\n",
       "    .dataframe tbody tr th {\n",
       "        vertical-align: top;\n",
       "    }\n",
       "\n",
       "    .dataframe thead th {\n",
       "        text-align: right;\n",
       "    }\n",
       "</style>\n",
       "<table border=\"1\" class=\"dataframe\">\n",
       "  <thead>\n",
       "    <tr style=\"text-align: right;\">\n",
       "      <th></th>\n",
       "      <th>SeriousDlqin2yrs</th>\n",
       "      <th>RevolvingUtilizationOfUnsecuredLines</th>\n",
       "      <th>age</th>\n",
       "      <th>NumberOfTime30-59DaysPastDueNotWorse</th>\n",
       "      <th>DebtRatio</th>\n",
       "      <th>MonthlyIncome</th>\n",
       "      <th>NumberOfOpenCreditLinesAndLoans</th>\n",
       "      <th>NumberOfTimes90DaysLate</th>\n",
       "      <th>NumberRealEstateLoansOrLines</th>\n",
       "      <th>NumberOfTime60-89DaysPastDueNotWorse</th>\n",
       "      <th>NumberOfDependents</th>\n",
       "    </tr>\n",
       "  </thead>\n",
       "  <tbody>\n",
       "    <tr>\n",
       "      <th>0</th>\n",
       "      <td>NaN</td>\n",
       "      <td>0.885519</td>\n",
       "      <td>43</td>\n",
       "      <td>0</td>\n",
       "      <td>0.177513</td>\n",
       "      <td>5700.0</td>\n",
       "      <td>4</td>\n",
       "      <td>0</td>\n",
       "      <td>0</td>\n",
       "      <td>0</td>\n",
       "      <td>0.0</td>\n",
       "    </tr>\n",
       "    <tr>\n",
       "      <th>1</th>\n",
       "      <td>NaN</td>\n",
       "      <td>0.463295</td>\n",
       "      <td>57</td>\n",
       "      <td>0</td>\n",
       "      <td>0.527237</td>\n",
       "      <td>9141.0</td>\n",
       "      <td>15</td>\n",
       "      <td>0</td>\n",
       "      <td>4</td>\n",
       "      <td>0</td>\n",
       "      <td>2.0</td>\n",
       "    </tr>\n",
       "    <tr>\n",
       "      <th>2</th>\n",
       "      <td>NaN</td>\n",
       "      <td>0.043275</td>\n",
       "      <td>59</td>\n",
       "      <td>0</td>\n",
       "      <td>0.687648</td>\n",
       "      <td>5083.0</td>\n",
       "      <td>12</td>\n",
       "      <td>0</td>\n",
       "      <td>1</td>\n",
       "      <td>0</td>\n",
       "      <td>2.0</td>\n",
       "    </tr>\n",
       "    <tr>\n",
       "      <th>3</th>\n",
       "      <td>NaN</td>\n",
       "      <td>0.280308</td>\n",
       "      <td>38</td>\n",
       "      <td>1</td>\n",
       "      <td>0.925961</td>\n",
       "      <td>3200.0</td>\n",
       "      <td>7</td>\n",
       "      <td>0</td>\n",
       "      <td>2</td>\n",
       "      <td>0</td>\n",
       "      <td>0.0</td>\n",
       "    </tr>\n",
       "    <tr>\n",
       "      <th>4</th>\n",
       "      <td>NaN</td>\n",
       "      <td>1.000000</td>\n",
       "      <td>27</td>\n",
       "      <td>0</td>\n",
       "      <td>0.019917</td>\n",
       "      <td>3865.0</td>\n",
       "      <td>4</td>\n",
       "      <td>0</td>\n",
       "      <td>0</td>\n",
       "      <td>0</td>\n",
       "      <td>1.0</td>\n",
       "    </tr>\n",
       "    <tr>\n",
       "      <th>...</th>\n",
       "      <td>...</td>\n",
       "      <td>...</td>\n",
       "      <td>...</td>\n",
       "      <td>...</td>\n",
       "      <td>...</td>\n",
       "      <td>...</td>\n",
       "      <td>...</td>\n",
       "      <td>...</td>\n",
       "      <td>...</td>\n",
       "      <td>...</td>\n",
       "      <td>...</td>\n",
       "    </tr>\n",
       "    <tr>\n",
       "      <th>101498</th>\n",
       "      <td>NaN</td>\n",
       "      <td>0.282653</td>\n",
       "      <td>24</td>\n",
       "      <td>0</td>\n",
       "      <td>0.068522</td>\n",
       "      <td>1400.0</td>\n",
       "      <td>5</td>\n",
       "      <td>0</td>\n",
       "      <td>0</td>\n",
       "      <td>0</td>\n",
       "      <td>0.0</td>\n",
       "    </tr>\n",
       "    <tr>\n",
       "      <th>101499</th>\n",
       "      <td>NaN</td>\n",
       "      <td>0.922156</td>\n",
       "      <td>36</td>\n",
       "      <td>3</td>\n",
       "      <td>0.934217</td>\n",
       "      <td>7615.0</td>\n",
       "      <td>8</td>\n",
       "      <td>0</td>\n",
       "      <td>2</td>\n",
       "      <td>0</td>\n",
       "      <td>4.0</td>\n",
       "    </tr>\n",
       "    <tr>\n",
       "      <th>101500</th>\n",
       "      <td>NaN</td>\n",
       "      <td>0.081596</td>\n",
       "      <td>70</td>\n",
       "      <td>0</td>\n",
       "      <td>836.000000</td>\n",
       "      <td>NaN</td>\n",
       "      <td>3</td>\n",
       "      <td>0</td>\n",
       "      <td>0</td>\n",
       "      <td>0</td>\n",
       "      <td>NaN</td>\n",
       "    </tr>\n",
       "    <tr>\n",
       "      <th>101501</th>\n",
       "      <td>NaN</td>\n",
       "      <td>0.335457</td>\n",
       "      <td>56</td>\n",
       "      <td>0</td>\n",
       "      <td>3568.000000</td>\n",
       "      <td>NaN</td>\n",
       "      <td>8</td>\n",
       "      <td>0</td>\n",
       "      <td>2</td>\n",
       "      <td>1</td>\n",
       "      <td>3.0</td>\n",
       "    </tr>\n",
       "    <tr>\n",
       "      <th>101502</th>\n",
       "      <td>NaN</td>\n",
       "      <td>0.441842</td>\n",
       "      <td>29</td>\n",
       "      <td>0</td>\n",
       "      <td>0.198918</td>\n",
       "      <td>5916.0</td>\n",
       "      <td>12</td>\n",
       "      <td>0</td>\n",
       "      <td>0</td>\n",
       "      <td>0</td>\n",
       "      <td>0.0</td>\n",
       "    </tr>\n",
       "  </tbody>\n",
       "</table>\n",
       "<p>101503 rows × 11 columns</p>\n",
       "</div>"
      ],
      "text/plain": [
       "        SeriousDlqin2yrs  RevolvingUtilizationOfUnsecuredLines  age  \\\n",
       "0                    NaN                              0.885519   43   \n",
       "1                    NaN                              0.463295   57   \n",
       "2                    NaN                              0.043275   59   \n",
       "3                    NaN                              0.280308   38   \n",
       "4                    NaN                              1.000000   27   \n",
       "...                  ...                                   ...  ...   \n",
       "101498               NaN                              0.282653   24   \n",
       "101499               NaN                              0.922156   36   \n",
       "101500               NaN                              0.081596   70   \n",
       "101501               NaN                              0.335457   56   \n",
       "101502               NaN                              0.441842   29   \n",
       "\n",
       "        NumberOfTime30-59DaysPastDueNotWorse    DebtRatio  MonthlyIncome  \\\n",
       "0                                          0     0.177513         5700.0   \n",
       "1                                          0     0.527237         9141.0   \n",
       "2                                          0     0.687648         5083.0   \n",
       "3                                          1     0.925961         3200.0   \n",
       "4                                          0     0.019917         3865.0   \n",
       "...                                      ...          ...            ...   \n",
       "101498                                     0     0.068522         1400.0   \n",
       "101499                                     3     0.934217         7615.0   \n",
       "101500                                     0   836.000000            NaN   \n",
       "101501                                     0  3568.000000            NaN   \n",
       "101502                                     0     0.198918         5916.0   \n",
       "\n",
       "        NumberOfOpenCreditLinesAndLoans  NumberOfTimes90DaysLate  \\\n",
       "0                                     4                        0   \n",
       "1                                    15                        0   \n",
       "2                                    12                        0   \n",
       "3                                     7                        0   \n",
       "4                                     4                        0   \n",
       "...                                 ...                      ...   \n",
       "101498                                5                        0   \n",
       "101499                                8                        0   \n",
       "101500                                3                        0   \n",
       "101501                                8                        0   \n",
       "101502                               12                        0   \n",
       "\n",
       "        NumberRealEstateLoansOrLines  NumberOfTime60-89DaysPastDueNotWorse  \\\n",
       "0                                  0                                     0   \n",
       "1                                  4                                     0   \n",
       "2                                  1                                     0   \n",
       "3                                  2                                     0   \n",
       "4                                  0                                     0   \n",
       "...                              ...                                   ...   \n",
       "101498                             0                                     0   \n",
       "101499                             2                                     0   \n",
       "101500                             0                                     0   \n",
       "101501                             2                                     1   \n",
       "101502                             0                                     0   \n",
       "\n",
       "        NumberOfDependents  \n",
       "0                      0.0  \n",
       "1                      2.0  \n",
       "2                      2.0  \n",
       "3                      0.0  \n",
       "4                      1.0  \n",
       "...                    ...  \n",
       "101498                 0.0  \n",
       "101499                 4.0  \n",
       "101500                 NaN  \n",
       "101501                 3.0  \n",
       "101502                 0.0  \n",
       "\n",
       "[101503 rows x 11 columns]"
      ]
     },
     "execution_count": 5,
     "metadata": {},
     "output_type": "execute_result"
    }
   ],
   "source": [
    "test"
   ]
  },
  {
   "cell_type": "code",
   "execution_count": 6,
   "id": "28b56ce0",
   "metadata": {},
   "outputs": [
    {
     "data": {
      "text/plain": [
       "(150000, 11)"
      ]
     },
     "execution_count": 6,
     "metadata": {},
     "output_type": "execute_result"
    }
   ],
   "source": [
    "train.shape"
   ]
  },
  {
   "cell_type": "code",
   "execution_count": 7,
   "id": "e9633844",
   "metadata": {},
   "outputs": [
    {
     "data": {
      "text/plain": [
       "(101503, 11)"
      ]
     },
     "execution_count": 7,
     "metadata": {},
     "output_type": "execute_result"
    }
   ],
   "source": [
    "test.shape"
   ]
  },
  {
   "cell_type": "code",
   "execution_count": 8,
   "id": "7e14a6d7",
   "metadata": {},
   "outputs": [],
   "source": [
    "train_redup = train.drop_duplicates()"
   ]
  },
  {
   "cell_type": "code",
   "execution_count": 9,
   "id": "e94d5ba1",
   "metadata": {},
   "outputs": [],
   "source": [
    "def findMiss(df):\n",
    "    return round(df.isnull().sum()/df.shape[0]*100,2)"
   ]
  },
  {
   "cell_type": "code",
   "execution_count": 10,
   "id": "b5173abb",
   "metadata": {},
   "outputs": [
    {
     "data": {
      "text/plain": [
       "(149391, 11)"
      ]
     },
     "execution_count": 10,
     "metadata": {},
     "output_type": "execute_result"
    }
   ],
   "source": [
    "train_redup.shape"
   ]
  },
  {
   "cell_type": "code",
   "execution_count": 11,
   "id": "e232f841",
   "metadata": {},
   "outputs": [
    {
     "data": {
      "text/plain": [
       "SeriousDlqin2yrs                         0.00\n",
       "RevolvingUtilizationOfUnsecuredLines     0.00\n",
       "age                                      0.00\n",
       "NumberOfTime30-59DaysPastDueNotWorse     0.00\n",
       "DebtRatio                                0.00\n",
       "MonthlyIncome                           19.56\n",
       "NumberOfOpenCreditLinesAndLoans          0.00\n",
       "NumberOfTimes90DaysLate                  0.00\n",
       "NumberRealEstateLoansOrLines             0.00\n",
       "NumberOfTime60-89DaysPastDueNotWorse     0.00\n",
       "NumberOfDependents                       2.56\n",
       "dtype: float64"
      ]
     },
     "execution_count": 11,
     "metadata": {},
     "output_type": "execute_result"
    }
   ],
   "source": [
    "\n",
    "findMiss(train_redup)"
   ]
  },
  {
   "cell_type": "code",
   "execution_count": 12,
   "id": "ec0f0116",
   "metadata": {},
   "outputs": [
    {
     "data": {
      "text/html": [
       "<div>\n",
       "<style scoped>\n",
       "    .dataframe tbody tr th:only-of-type {\n",
       "        vertical-align: middle;\n",
       "    }\n",
       "\n",
       "    .dataframe tbody tr th {\n",
       "        vertical-align: top;\n",
       "    }\n",
       "\n",
       "    .dataframe thead th {\n",
       "        text-align: right;\n",
       "    }\n",
       "</style>\n",
       "<table border=\"1\" class=\"dataframe\">\n",
       "  <thead>\n",
       "    <tr style=\"text-align: right;\">\n",
       "      <th></th>\n",
       "      <th>SeriousDlqin2yrs</th>\n",
       "      <th>RevolvingUtilizationOfUnsecuredLines</th>\n",
       "      <th>age</th>\n",
       "      <th>NumberOfTime30-59DaysPastDueNotWorse</th>\n",
       "      <th>DebtRatio</th>\n",
       "      <th>MonthlyIncome</th>\n",
       "      <th>NumberOfOpenCreditLinesAndLoans</th>\n",
       "      <th>NumberOfTimes90DaysLate</th>\n",
       "      <th>NumberRealEstateLoansOrLines</th>\n",
       "      <th>NumberOfTime60-89DaysPastDueNotWorse</th>\n",
       "      <th>NumberOfDependents</th>\n",
       "    </tr>\n",
       "  </thead>\n",
       "  <tbody>\n",
       "    <tr>\n",
       "      <th>count</th>\n",
       "      <td>29221.000000</td>\n",
       "      <td>29221.000000</td>\n",
       "      <td>29221.000000</td>\n",
       "      <td>29221.000000</td>\n",
       "      <td>29221.000000</td>\n",
       "      <td>0.0</td>\n",
       "      <td>29221.000000</td>\n",
       "      <td>29221.000000</td>\n",
       "      <td>29221.000000</td>\n",
       "      <td>29221.000000</td>\n",
       "      <td>25393.000000</td>\n",
       "    </tr>\n",
       "    <tr>\n",
       "      <th>mean</th>\n",
       "      <td>0.056603</td>\n",
       "      <td>6.757056</td>\n",
       "      <td>56.395127</td>\n",
       "      <td>0.452483</td>\n",
       "      <td>1702.565005</td>\n",
       "      <td>NaN</td>\n",
       "      <td>7.314192</td>\n",
       "      <td>0.355224</td>\n",
       "      <td>0.886691</td>\n",
       "      <td>0.323398</td>\n",
       "      <td>0.321309</td>\n",
       "    </tr>\n",
       "    <tr>\n",
       "      <th>std</th>\n",
       "      <td>0.231087</td>\n",
       "      <td>219.705933</td>\n",
       "      <td>15.293975</td>\n",
       "      <td>5.145292</td>\n",
       "      <td>4279.494336</td>\n",
       "      <td>NaN</td>\n",
       "      <td>4.821894</td>\n",
       "      <td>5.136737</td>\n",
       "      <td>1.036795</td>\n",
       "      <td>5.125615</td>\n",
       "      <td>0.815421</td>\n",
       "    </tr>\n",
       "    <tr>\n",
       "      <th>min</th>\n",
       "      <td>0.000000</td>\n",
       "      <td>0.000000</td>\n",
       "      <td>21.000000</td>\n",
       "      <td>0.000000</td>\n",
       "      <td>0.000000</td>\n",
       "      <td>NaN</td>\n",
       "      <td>0.000000</td>\n",
       "      <td>0.000000</td>\n",
       "      <td>0.000000</td>\n",
       "      <td>0.000000</td>\n",
       "      <td>0.000000</td>\n",
       "    </tr>\n",
       "    <tr>\n",
       "      <th>25%</th>\n",
       "      <td>0.000000</td>\n",
       "      <td>0.016851</td>\n",
       "      <td>46.000000</td>\n",
       "      <td>0.000000</td>\n",
       "      <td>155.000000</td>\n",
       "      <td>NaN</td>\n",
       "      <td>4.000000</td>\n",
       "      <td>0.000000</td>\n",
       "      <td>0.000000</td>\n",
       "      <td>0.000000</td>\n",
       "      <td>0.000000</td>\n",
       "    </tr>\n",
       "    <tr>\n",
       "      <th>50%</th>\n",
       "      <td>0.000000</td>\n",
       "      <td>0.081840</td>\n",
       "      <td>57.000000</td>\n",
       "      <td>0.000000</td>\n",
       "      <td>1198.000000</td>\n",
       "      <td>NaN</td>\n",
       "      <td>6.000000</td>\n",
       "      <td>0.000000</td>\n",
       "      <td>1.000000</td>\n",
       "      <td>0.000000</td>\n",
       "      <td>0.000000</td>\n",
       "    </tr>\n",
       "    <tr>\n",
       "      <th>75%</th>\n",
       "      <td>0.000000</td>\n",
       "      <td>0.428256</td>\n",
       "      <td>67.000000</td>\n",
       "      <td>0.000000</td>\n",
       "      <td>2407.000000</td>\n",
       "      <td>NaN</td>\n",
       "      <td>10.000000</td>\n",
       "      <td>0.000000</td>\n",
       "      <td>1.000000</td>\n",
       "      <td>0.000000</td>\n",
       "      <td>0.000000</td>\n",
       "    </tr>\n",
       "    <tr>\n",
       "      <th>max</th>\n",
       "      <td>1.000000</td>\n",
       "      <td>22198.000000</td>\n",
       "      <td>109.000000</td>\n",
       "      <td>98.000000</td>\n",
       "      <td>329664.000000</td>\n",
       "      <td>NaN</td>\n",
       "      <td>45.000000</td>\n",
       "      <td>98.000000</td>\n",
       "      <td>23.000000</td>\n",
       "      <td>98.000000</td>\n",
       "      <td>9.000000</td>\n",
       "    </tr>\n",
       "  </tbody>\n",
       "</table>\n",
       "</div>"
      ],
      "text/plain": [
       "       SeriousDlqin2yrs  RevolvingUtilizationOfUnsecuredLines           age  \\\n",
       "count      29221.000000                          29221.000000  29221.000000   \n",
       "mean           0.056603                              6.757056     56.395127   \n",
       "std            0.231087                            219.705933     15.293975   \n",
       "min            0.000000                              0.000000     21.000000   \n",
       "25%            0.000000                              0.016851     46.000000   \n",
       "50%            0.000000                              0.081840     57.000000   \n",
       "75%            0.000000                              0.428256     67.000000   \n",
       "max            1.000000                          22198.000000    109.000000   \n",
       "\n",
       "       NumberOfTime30-59DaysPastDueNotWorse      DebtRatio  MonthlyIncome  \\\n",
       "count                          29221.000000   29221.000000            0.0   \n",
       "mean                               0.452483    1702.565005            NaN   \n",
       "std                                5.145292    4279.494336            NaN   \n",
       "min                                0.000000       0.000000            NaN   \n",
       "25%                                0.000000     155.000000            NaN   \n",
       "50%                                0.000000    1198.000000            NaN   \n",
       "75%                                0.000000    2407.000000            NaN   \n",
       "max                               98.000000  329664.000000            NaN   \n",
       "\n",
       "       NumberOfOpenCreditLinesAndLoans  NumberOfTimes90DaysLate  \\\n",
       "count                     29221.000000             29221.000000   \n",
       "mean                          7.314192                 0.355224   \n",
       "std                           4.821894                 5.136737   \n",
       "min                           0.000000                 0.000000   \n",
       "25%                           4.000000                 0.000000   \n",
       "50%                           6.000000                 0.000000   \n",
       "75%                          10.000000                 0.000000   \n",
       "max                          45.000000                98.000000   \n",
       "\n",
       "       NumberRealEstateLoansOrLines  NumberOfTime60-89DaysPastDueNotWorse  \\\n",
       "count                  29221.000000                          29221.000000   \n",
       "mean                       0.886691                              0.323398   \n",
       "std                        1.036795                              5.125615   \n",
       "min                        0.000000                              0.000000   \n",
       "25%                        0.000000                              0.000000   \n",
       "50%                        1.000000                              0.000000   \n",
       "75%                        1.000000                              0.000000   \n",
       "max                       23.000000                             98.000000   \n",
       "\n",
       "       NumberOfDependents  \n",
       "count        25393.000000  \n",
       "mean             0.321309  \n",
       "std              0.815421  \n",
       "min              0.000000  \n",
       "25%              0.000000  \n",
       "50%              0.000000  \n",
       "75%              0.000000  \n",
       "max              9.000000  "
      ]
     },
     "execution_count": 12,
     "metadata": {},
     "output_type": "execute_result"
    }
   ],
   "source": [
    "\n",
    "train_redup[train_redup.MonthlyIncome.isnull()].describe()"
   ]
  },
  {
   "cell_type": "code",
   "execution_count": 13,
   "id": "6b592d18",
   "metadata": {},
   "outputs": [
    {
     "data": {
      "text/html": [
       "<div>\n",
       "<style scoped>\n",
       "    .dataframe tbody tr th:only-of-type {\n",
       "        vertical-align: middle;\n",
       "    }\n",
       "\n",
       "    .dataframe tbody tr th {\n",
       "        vertical-align: top;\n",
       "    }\n",
       "\n",
       "    .dataframe thead th {\n",
       "        text-align: right;\n",
       "    }\n",
       "</style>\n",
       "<table border=\"1\" class=\"dataframe\">\n",
       "  <thead>\n",
       "    <tr style=\"text-align: right;\">\n",
       "      <th></th>\n",
       "      <th>mode</th>\n",
       "    </tr>\n",
       "  </thead>\n",
       "  <tbody>\n",
       "    <tr>\n",
       "      <th>0</th>\n",
       "      <td>0.0</td>\n",
       "    </tr>\n",
       "  </tbody>\n",
       "</table>\n",
       "</div>"
      ],
      "text/plain": [
       "   mode\n",
       "0   0.0"
      ]
     },
     "execution_count": 13,
     "metadata": {},
     "output_type": "execute_result"
    }
   ],
   "source": [
    "train_redup['NumberOfDependents'].agg(['mode'])"
   ]
  },
  {
   "cell_type": "code",
   "execution_count": 14,
   "id": "5c15aec8",
   "metadata": {},
   "outputs": [],
   "source": [
    "fam_miss = train_redup[train_redup.NumberOfDependents.isnull()]\n",
    "fam_nmiss = train_redup[train_redup.NumberOfDependents.notnull()]"
   ]
  },
  {
   "cell_type": "code",
   "execution_count": 15,
   "id": "728ba404",
   "metadata": {},
   "outputs": [
    {
     "name": "stderr",
     "output_type": "stream",
     "text": [
      "C:\\Users\\Admin\\AppData\\Local\\Temp\\ipykernel_12720\\693308875.py:1: SettingWithCopyWarning: \n",
      "A value is trying to be set on a copy of a slice from a DataFrame.\n",
      "Try using .loc[row_indexer,col_indexer] = value instead\n",
      "\n",
      "See the caveats in the documentation: https://pandas.pydata.org/pandas-docs/stable/user_guide/indexing.html#returning-a-view-versus-a-copy\n",
      "  fam_miss['NumberOfDependents'] = fam_miss['NumberOfDependents'].fillna(0)\n",
      "C:\\Users\\Admin\\AppData\\Local\\Temp\\ipykernel_12720\\693308875.py:2: SettingWithCopyWarning: \n",
      "A value is trying to be set on a copy of a slice from a DataFrame.\n",
      "Try using .loc[row_indexer,col_indexer] = value instead\n",
      "\n",
      "See the caveats in the documentation: https://pandas.pydata.org/pandas-docs/stable/user_guide/indexing.html#returning-a-view-versus-a-copy\n",
      "  fam_miss['MonthlyIncome'] = fam_miss['MonthlyIncome'].fillna(0)\n"
     ]
    }
   ],
   "source": [
    "fam_miss['NumberOfDependents'] = fam_miss['NumberOfDependents'].fillna(0)\n",
    "fam_miss['MonthlyIncome'] = fam_miss['MonthlyIncome'].fillna(0)"
   ]
  },
  {
   "cell_type": "code",
   "execution_count": 16,
   "id": "e515ce07",
   "metadata": {},
   "outputs": [
    {
     "data": {
      "text/plain": [
       "SeriousDlqin2yrs                        0.0\n",
       "RevolvingUtilizationOfUnsecuredLines    0.0\n",
       "age                                     0.0\n",
       "NumberOfTime30-59DaysPastDueNotWorse    0.0\n",
       "DebtRatio                               0.0\n",
       "MonthlyIncome                           0.0\n",
       "NumberOfOpenCreditLinesAndLoans         0.0\n",
       "NumberOfTimes90DaysLate                 0.0\n",
       "NumberRealEstateLoansOrLines            0.0\n",
       "NumberOfTime60-89DaysPastDueNotWorse    0.0\n",
       "NumberOfDependents                      0.0\n",
       "dtype: float64"
      ]
     },
     "execution_count": 16,
     "metadata": {},
     "output_type": "execute_result"
    }
   ],
   "source": [
    "findMiss(fam_miss)"
   ]
  },
  {
   "cell_type": "code",
   "execution_count": 17,
   "id": "471c4215",
   "metadata": {},
   "outputs": [
    {
     "data": {
      "text/plain": [
       "SeriousDlqin2yrs                         0.00\n",
       "RevolvingUtilizationOfUnsecuredLines     0.00\n",
       "age                                      0.00\n",
       "NumberOfTime30-59DaysPastDueNotWorse     0.00\n",
       "DebtRatio                                0.00\n",
       "MonthlyIncome                           17.44\n",
       "NumberOfOpenCreditLinesAndLoans          0.00\n",
       "NumberOfTimes90DaysLate                  0.00\n",
       "NumberRealEstateLoansOrLines             0.00\n",
       "NumberOfTime60-89DaysPastDueNotWorse     0.00\n",
       "NumberOfDependents                       0.00\n",
       "dtype: float64"
      ]
     },
     "execution_count": 17,
     "metadata": {},
     "output_type": "execute_result"
    }
   ],
   "source": [
    "findMiss(fam_nmiss)"
   ]
  },
  {
   "cell_type": "code",
   "execution_count": 18,
   "id": "991f12b3",
   "metadata": {},
   "outputs": [
    {
     "data": {
      "text/plain": [
       "mean      6675.098269\n",
       "median    5400.000000\n",
       "min          0.000000\n",
       "Name: MonthlyIncome, dtype: float64"
      ]
     },
     "execution_count": 18,
     "metadata": {},
     "output_type": "execute_result"
    }
   ],
   "source": [
    "fam_nmiss['MonthlyIncome'].agg(['mean','median','min'])"
   ]
  },
  {
   "cell_type": "code",
   "execution_count": 19,
   "id": "cdb37d2d",
   "metadata": {},
   "outputs": [
    {
     "name": "stderr",
     "output_type": "stream",
     "text": [
      "C:\\Users\\Admin\\AppData\\Local\\Temp\\ipykernel_12720\\100680096.py:1: SettingWithCopyWarning: \n",
      "A value is trying to be set on a copy of a slice from a DataFrame.\n",
      "Try using .loc[row_indexer,col_indexer] = value instead\n",
      "\n",
      "See the caveats in the documentation: https://pandas.pydata.org/pandas-docs/stable/user_guide/indexing.html#returning-a-view-versus-a-copy\n",
      "  fam_nmiss['MonthlyIncome'] = fam_nmiss['MonthlyIncome'].fillna(fam_nmiss['MonthlyIncome'].median())\n"
     ]
    }
   ],
   "source": [
    "fam_nmiss['MonthlyIncome'] = fam_nmiss['MonthlyIncome'].fillna(fam_nmiss['MonthlyIncome'].median())"
   ]
  },
  {
   "cell_type": "code",
   "execution_count": 20,
   "id": "d91d5313",
   "metadata": {},
   "outputs": [
    {
     "data": {
      "text/plain": [
       "SeriousDlqin2yrs                        0.0\n",
       "RevolvingUtilizationOfUnsecuredLines    0.0\n",
       "age                                     0.0\n",
       "NumberOfTime30-59DaysPastDueNotWorse    0.0\n",
       "DebtRatio                               0.0\n",
       "MonthlyIncome                           0.0\n",
       "NumberOfOpenCreditLinesAndLoans         0.0\n",
       "NumberOfTimes90DaysLate                 0.0\n",
       "NumberRealEstateLoansOrLines            0.0\n",
       "NumberOfTime60-89DaysPastDueNotWorse    0.0\n",
       "NumberOfDependents                      0.0\n",
       "dtype: float64"
      ]
     },
     "execution_count": 20,
     "metadata": {},
     "output_type": "execute_result"
    }
   ],
   "source": [
    "findMiss(fam_nmiss)"
   ]
  },
  {
   "cell_type": "code",
   "execution_count": 21,
   "id": "6fbd59b1",
   "metadata": {},
   "outputs": [
    {
     "name": "stderr",
     "output_type": "stream",
     "text": [
      "C:\\Users\\Admin\\AppData\\Local\\Temp\\ipykernel_12720\\3665105726.py:1: FutureWarning: The frame.append method is deprecated and will be removed from pandas in a future version. Use pandas.concat instead.\n",
      "  filled_train = fam_nmiss.append(fam_miss)\n"
     ]
    }
   ],
   "source": [
    "filled_train = fam_nmiss.append(fam_miss)"
   ]
  },
  {
   "cell_type": "code",
   "execution_count": 22,
   "id": "e101d4df",
   "metadata": {},
   "outputs": [
    {
     "data": {
      "text/plain": [
       "SeriousDlqin2yrs                        0.0\n",
       "RevolvingUtilizationOfUnsecuredLines    0.0\n",
       "age                                     0.0\n",
       "NumberOfTime30-59DaysPastDueNotWorse    0.0\n",
       "DebtRatio                               0.0\n",
       "MonthlyIncome                           0.0\n",
       "NumberOfOpenCreditLinesAndLoans         0.0\n",
       "NumberOfTimes90DaysLate                 0.0\n",
       "NumberRealEstateLoansOrLines            0.0\n",
       "NumberOfTime60-89DaysPastDueNotWorse    0.0\n",
       "NumberOfDependents                      0.0\n",
       "dtype: float64"
      ]
     },
     "execution_count": 22,
     "metadata": {},
     "output_type": "execute_result"
    }
   ],
   "source": [
    "findMiss(filled_train)"
   ]
  },
  {
   "cell_type": "code",
   "execution_count": 23,
   "id": "799d9773",
   "metadata": {},
   "outputs": [
    {
     "data": {
      "text/html": [
       "<div>\n",
       "<style scoped>\n",
       "    .dataframe tbody tr th:only-of-type {\n",
       "        vertical-align: middle;\n",
       "    }\n",
       "\n",
       "    .dataframe tbody tr th {\n",
       "        vertical-align: top;\n",
       "    }\n",
       "\n",
       "    .dataframe thead th {\n",
       "        text-align: right;\n",
       "    }\n",
       "</style>\n",
       "<table border=\"1\" class=\"dataframe\">\n",
       "  <thead>\n",
       "    <tr style=\"text-align: right;\">\n",
       "      <th></th>\n",
       "      <th>SeriousDlqin2yrs</th>\n",
       "      <th>RevolvingUtilizationOfUnsecuredLines</th>\n",
       "      <th>age</th>\n",
       "      <th>NumberOfTime30-59DaysPastDueNotWorse</th>\n",
       "      <th>DebtRatio</th>\n",
       "      <th>MonthlyIncome</th>\n",
       "      <th>NumberOfOpenCreditLinesAndLoans</th>\n",
       "      <th>NumberOfTimes90DaysLate</th>\n",
       "      <th>NumberRealEstateLoansOrLines</th>\n",
       "      <th>NumberOfTime60-89DaysPastDueNotWorse</th>\n",
       "      <th>NumberOfDependents</th>\n",
       "    </tr>\n",
       "  </thead>\n",
       "  <tbody>\n",
       "    <tr>\n",
       "      <th>0</th>\n",
       "      <td>1</td>\n",
       "      <td>0.766127</td>\n",
       "      <td>45</td>\n",
       "      <td>2</td>\n",
       "      <td>0.802982</td>\n",
       "      <td>9120.0</td>\n",
       "      <td>13</td>\n",
       "      <td>0</td>\n",
       "      <td>6</td>\n",
       "      <td>0</td>\n",
       "      <td>2.0</td>\n",
       "    </tr>\n",
       "    <tr>\n",
       "      <th>1</th>\n",
       "      <td>0</td>\n",
       "      <td>0.957151</td>\n",
       "      <td>40</td>\n",
       "      <td>0</td>\n",
       "      <td>0.121876</td>\n",
       "      <td>2600.0</td>\n",
       "      <td>4</td>\n",
       "      <td>0</td>\n",
       "      <td>0</td>\n",
       "      <td>0</td>\n",
       "      <td>1.0</td>\n",
       "    </tr>\n",
       "    <tr>\n",
       "      <th>2</th>\n",
       "      <td>0</td>\n",
       "      <td>0.658180</td>\n",
       "      <td>38</td>\n",
       "      <td>1</td>\n",
       "      <td>0.085113</td>\n",
       "      <td>3042.0</td>\n",
       "      <td>2</td>\n",
       "      <td>1</td>\n",
       "      <td>0</td>\n",
       "      <td>0</td>\n",
       "      <td>0.0</td>\n",
       "    </tr>\n",
       "    <tr>\n",
       "      <th>3</th>\n",
       "      <td>0</td>\n",
       "      <td>0.233810</td>\n",
       "      <td>30</td>\n",
       "      <td>0</td>\n",
       "      <td>0.036050</td>\n",
       "      <td>3300.0</td>\n",
       "      <td>5</td>\n",
       "      <td>0</td>\n",
       "      <td>0</td>\n",
       "      <td>0</td>\n",
       "      <td>0.0</td>\n",
       "    </tr>\n",
       "    <tr>\n",
       "      <th>4</th>\n",
       "      <td>0</td>\n",
       "      <td>0.907239</td>\n",
       "      <td>49</td>\n",
       "      <td>1</td>\n",
       "      <td>0.024926</td>\n",
       "      <td>63588.0</td>\n",
       "      <td>7</td>\n",
       "      <td>0</td>\n",
       "      <td>1</td>\n",
       "      <td>0</td>\n",
       "      <td>0.0</td>\n",
       "    </tr>\n",
       "  </tbody>\n",
       "</table>\n",
       "</div>"
      ],
      "text/plain": [
       "   SeriousDlqin2yrs  RevolvingUtilizationOfUnsecuredLines  age  \\\n",
       "0                 1                              0.766127   45   \n",
       "1                 0                              0.957151   40   \n",
       "2                 0                              0.658180   38   \n",
       "3                 0                              0.233810   30   \n",
       "4                 0                              0.907239   49   \n",
       "\n",
       "   NumberOfTime30-59DaysPastDueNotWorse  DebtRatio  MonthlyIncome  \\\n",
       "0                                     2   0.802982         9120.0   \n",
       "1                                     0   0.121876         2600.0   \n",
       "2                                     1   0.085113         3042.0   \n",
       "3                                     0   0.036050         3300.0   \n",
       "4                                     1   0.024926        63588.0   \n",
       "\n",
       "   NumberOfOpenCreditLinesAndLoans  NumberOfTimes90DaysLate  \\\n",
       "0                               13                        0   \n",
       "1                                4                        0   \n",
       "2                                2                        1   \n",
       "3                                5                        0   \n",
       "4                                7                        0   \n",
       "\n",
       "   NumberRealEstateLoansOrLines  NumberOfTime60-89DaysPastDueNotWorse  \\\n",
       "0                             6                                     0   \n",
       "1                             0                                     0   \n",
       "2                             0                                     0   \n",
       "3                             0                                     0   \n",
       "4                             1                                     0   \n",
       "\n",
       "   NumberOfDependents  \n",
       "0                 2.0  \n",
       "1                 1.0  \n",
       "2                 0.0  \n",
       "3                 0.0  \n",
       "4                 0.0  "
      ]
     },
     "execution_count": 23,
     "metadata": {},
     "output_type": "execute_result"
    }
   ],
   "source": [
    "filled_train.head()"
   ]
  },
  {
   "cell_type": "code",
   "execution_count": 24,
   "id": "a5f850c7",
   "metadata": {},
   "outputs": [
    {
     "data": {
      "text/plain": [
       "SeriousDlqin2yrs\n",
       "0    0.933001\n",
       "1    0.066999\n",
       "dtype: float64"
      ]
     },
     "execution_count": 24,
     "metadata": {},
     "output_type": "execute_result"
    }
   ],
   "source": [
    "filled_train.groupby(['SeriousDlqin2yrs']).size()/filled_train.shape[0]"
   ]
  },
  {
   "cell_type": "code",
   "execution_count": 25,
   "id": "46282866",
   "metadata": {},
   "outputs": [
    {
     "data": {
      "text/plain": [
       "count    149391.000000\n",
       "mean          6.071087\n",
       "std         250.263672\n",
       "min           0.000000\n",
       "25%           0.030132\n",
       "50%           0.154235\n",
       "75%           0.556494\n",
       "max       50708.000000\n",
       "Name: RevolvingUtilizationOfUnsecuredLines, dtype: float64"
      ]
     },
     "execution_count": 25,
     "metadata": {},
     "output_type": "execute_result"
    }
   ],
   "source": [
    "filled_train.RevolvingUtilizationOfUnsecuredLines.describe()"
   ]
  },
  {
   "cell_type": "code",
   "execution_count": 26,
   "id": "ad11a0f0",
   "metadata": {},
   "outputs": [
    {
     "data": {
      "text/plain": [
       "0.99    1.093922\n",
       "Name: RevolvingUtilizationOfUnsecuredLines, dtype: float64"
      ]
     },
     "execution_count": 26,
     "metadata": {},
     "output_type": "execute_result"
    }
   ],
   "source": [
    "filled_train['RevolvingUtilizationOfUnsecuredLines'].quantile([.99])"
   ]
  },
  {
   "cell_type": "code",
   "execution_count": 27,
   "id": "5bf9822c",
   "metadata": {},
   "outputs": [
    {
     "data": {
      "text/html": [
       "<div>\n",
       "<style scoped>\n",
       "    .dataframe tbody tr th:only-of-type {\n",
       "        vertical-align: middle;\n",
       "    }\n",
       "\n",
       "    .dataframe tbody tr th {\n",
       "        vertical-align: top;\n",
       "    }\n",
       "\n",
       "    .dataframe thead th {\n",
       "        text-align: right;\n",
       "    }\n",
       "</style>\n",
       "<table border=\"1\" class=\"dataframe\">\n",
       "  <thead>\n",
       "    <tr style=\"text-align: right;\">\n",
       "      <th></th>\n",
       "      <th>SeriousDlqin2yrs</th>\n",
       "      <th>RevolvingUtilizationOfUnsecuredLines</th>\n",
       "      <th>age</th>\n",
       "      <th>NumberOfTime30-59DaysPastDueNotWorse</th>\n",
       "      <th>DebtRatio</th>\n",
       "      <th>MonthlyIncome</th>\n",
       "      <th>NumberOfOpenCreditLinesAndLoans</th>\n",
       "      <th>NumberOfTimes90DaysLate</th>\n",
       "      <th>NumberRealEstateLoansOrLines</th>\n",
       "      <th>NumberOfTime60-89DaysPastDueNotWorse</th>\n",
       "      <th>NumberOfDependents</th>\n",
       "    </tr>\n",
       "  </thead>\n",
       "  <tbody>\n",
       "    <tr>\n",
       "      <th>count</th>\n",
       "      <td>241.000000</td>\n",
       "      <td>241.000000</td>\n",
       "      <td>241.000000</td>\n",
       "      <td>241.000000</td>\n",
       "      <td>241.000000</td>\n",
       "      <td>241.000000</td>\n",
       "      <td>241.000000</td>\n",
       "      <td>241.000000</td>\n",
       "      <td>241.000000</td>\n",
       "      <td>241.000000</td>\n",
       "      <td>241.000000</td>\n",
       "    </tr>\n",
       "    <tr>\n",
       "      <th>mean</th>\n",
       "      <td>0.070539</td>\n",
       "      <td>3564.023932</td>\n",
       "      <td>50.630705</td>\n",
       "      <td>0.186722</td>\n",
       "      <td>571.918644</td>\n",
       "      <td>7310.817427</td>\n",
       "      <td>5.763485</td>\n",
       "      <td>0.074689</td>\n",
       "      <td>1.186722</td>\n",
       "      <td>0.087137</td>\n",
       "      <td>0.651452</td>\n",
       "    </tr>\n",
       "    <tr>\n",
       "      <th>std</th>\n",
       "      <td>0.256587</td>\n",
       "      <td>5123.802683</td>\n",
       "      <td>14.565389</td>\n",
       "      <td>0.579502</td>\n",
       "      <td>1772.948412</td>\n",
       "      <td>5964.524303</td>\n",
       "      <td>3.114160</td>\n",
       "      <td>0.579711</td>\n",
       "      <td>1.065750</td>\n",
       "      <td>0.559651</td>\n",
       "      <td>1.022093</td>\n",
       "    </tr>\n",
       "    <tr>\n",
       "      <th>min</th>\n",
       "      <td>0.000000</td>\n",
       "      <td>11.385230</td>\n",
       "      <td>24.000000</td>\n",
       "      <td>0.000000</td>\n",
       "      <td>0.000800</td>\n",
       "      <td>0.000000</td>\n",
       "      <td>1.000000</td>\n",
       "      <td>0.000000</td>\n",
       "      <td>0.000000</td>\n",
       "      <td>0.000000</td>\n",
       "      <td>0.000000</td>\n",
       "    </tr>\n",
       "    <tr>\n",
       "      <th>25%</th>\n",
       "      <td>0.000000</td>\n",
       "      <td>941.000000</td>\n",
       "      <td>39.000000</td>\n",
       "      <td>0.000000</td>\n",
       "      <td>0.217813</td>\n",
       "      <td>5000.000000</td>\n",
       "      <td>4.000000</td>\n",
       "      <td>0.000000</td>\n",
       "      <td>0.000000</td>\n",
       "      <td>0.000000</td>\n",
       "      <td>0.000000</td>\n",
       "    </tr>\n",
       "    <tr>\n",
       "      <th>50%</th>\n",
       "      <td>0.000000</td>\n",
       "      <td>2012.000000</td>\n",
       "      <td>48.000000</td>\n",
       "      <td>0.000000</td>\n",
       "      <td>0.402560</td>\n",
       "      <td>5400.000000</td>\n",
       "      <td>5.000000</td>\n",
       "      <td>0.000000</td>\n",
       "      <td>1.000000</td>\n",
       "      <td>0.000000</td>\n",
       "      <td>0.000000</td>\n",
       "    </tr>\n",
       "    <tr>\n",
       "      <th>75%</th>\n",
       "      <td>0.000000</td>\n",
       "      <td>4116.000000</td>\n",
       "      <td>62.000000</td>\n",
       "      <td>0.000000</td>\n",
       "      <td>59.000000</td>\n",
       "      <td>8607.000000</td>\n",
       "      <td>7.000000</td>\n",
       "      <td>0.000000</td>\n",
       "      <td>2.000000</td>\n",
       "      <td>0.000000</td>\n",
       "      <td>1.000000</td>\n",
       "    </tr>\n",
       "    <tr>\n",
       "      <th>max</th>\n",
       "      <td>1.000000</td>\n",
       "      <td>50708.000000</td>\n",
       "      <td>87.000000</td>\n",
       "      <td>3.000000</td>\n",
       "      <td>21395.000000</td>\n",
       "      <td>44472.000000</td>\n",
       "      <td>21.000000</td>\n",
       "      <td>8.000000</td>\n",
       "      <td>9.000000</td>\n",
       "      <td>7.000000</td>\n",
       "      <td>4.000000</td>\n",
       "    </tr>\n",
       "  </tbody>\n",
       "</table>\n",
       "</div>"
      ],
      "text/plain": [
       "       SeriousDlqin2yrs  RevolvingUtilizationOfUnsecuredLines         age  \\\n",
       "count        241.000000                            241.000000  241.000000   \n",
       "mean           0.070539                           3564.023932   50.630705   \n",
       "std            0.256587                           5123.802683   14.565389   \n",
       "min            0.000000                             11.385230   24.000000   \n",
       "25%            0.000000                            941.000000   39.000000   \n",
       "50%            0.000000                           2012.000000   48.000000   \n",
       "75%            0.000000                           4116.000000   62.000000   \n",
       "max            1.000000                          50708.000000   87.000000   \n",
       "\n",
       "       NumberOfTime30-59DaysPastDueNotWorse     DebtRatio  MonthlyIncome  \\\n",
       "count                            241.000000    241.000000     241.000000   \n",
       "mean                               0.186722    571.918644    7310.817427   \n",
       "std                                0.579502   1772.948412    5964.524303   \n",
       "min                                0.000000      0.000800       0.000000   \n",
       "25%                                0.000000      0.217813    5000.000000   \n",
       "50%                                0.000000      0.402560    5400.000000   \n",
       "75%                                0.000000     59.000000    8607.000000   \n",
       "max                                3.000000  21395.000000   44472.000000   \n",
       "\n",
       "       NumberOfOpenCreditLinesAndLoans  NumberOfTimes90DaysLate  \\\n",
       "count                       241.000000               241.000000   \n",
       "mean                          5.763485                 0.074689   \n",
       "std                           3.114160                 0.579711   \n",
       "min                           1.000000                 0.000000   \n",
       "25%                           4.000000                 0.000000   \n",
       "50%                           5.000000                 0.000000   \n",
       "75%                           7.000000                 0.000000   \n",
       "max                          21.000000                 8.000000   \n",
       "\n",
       "       NumberRealEstateLoansOrLines  NumberOfTime60-89DaysPastDueNotWorse  \\\n",
       "count                    241.000000                            241.000000   \n",
       "mean                       1.186722                              0.087137   \n",
       "std                        1.065750                              0.559651   \n",
       "min                        0.000000                              0.000000   \n",
       "25%                        0.000000                              0.000000   \n",
       "50%                        1.000000                              0.000000   \n",
       "75%                        2.000000                              0.000000   \n",
       "max                        9.000000                              7.000000   \n",
       "\n",
       "       NumberOfDependents  \n",
       "count          241.000000  \n",
       "mean             0.651452  \n",
       "std              1.022093  \n",
       "min              0.000000  \n",
       "25%              0.000000  \n",
       "50%              0.000000  \n",
       "75%              1.000000  \n",
       "max              4.000000  "
      ]
     },
     "execution_count": 27,
     "metadata": {},
     "output_type": "execute_result"
    }
   ],
   "source": [
    "(filled_train[filled_train['RevolvingUtilizationOfUnsecuredLines'] > 10]).describe()"
   ]
  },
  {
   "cell_type": "code",
   "execution_count": 28,
   "id": "1d83ea82",
   "metadata": {},
   "outputs": [],
   "source": [
    "util_droped = filled_train.drop(filled_train[filled_train['RevolvingUtilizationOfUnsecuredLines'] > 10].index)"
   ]
  },
  {
   "cell_type": "code",
   "execution_count": 29,
   "id": "574d297e",
   "metadata": {},
   "outputs": [
    {
     "data": {
      "text/plain": [
       "<Axes: >"
      ]
     },
     "execution_count": 29,
     "metadata": {},
     "output_type": "execute_result"
    },
    {
     "data": {
      "image/png": "[encoded data removed]",
      "text/plain": [
       "<Figure size 640x480 with 1 Axes>"
      ]
     },
     "metadata": {},
     "output_type": "display_data"
    }
   ],
   "source": [
    "sns.boxplot(util_droped['age'])"
   ]
  },
  {
   "cell_type": "code",
   "execution_count": 30,
   "id": "b61b1dfa",
   "metadata": {},
   "outputs": [
    {
     "data": {
      "text/plain": [
       "NumberOfTime30-59DaysPastDueNotWorse\n",
       "0     125239\n",
       "1      16020\n",
       "2       4588\n",
       "3       1750\n",
       "4        747\n",
       "5        342\n",
       "6        140\n",
       "7         54\n",
       "8         25\n",
       "9         12\n",
       "10         4\n",
       "11         1\n",
       "12         2\n",
       "13         1\n",
       "96         5\n",
       "98       220\n",
       "dtype: int64"
      ]
     },
     "execution_count": 30,
     "metadata": {},
     "output_type": "execute_result"
    }
   ],
   "source": [
    "util_droped.groupby(['NumberOfTime30-59DaysPastDueNotWorse']).size()"
   ]
  },
  {
   "cell_type": "code",
   "execution_count": 31,
   "id": "0906c2d6",
   "metadata": {},
   "outputs": [
    {
     "data": {
      "text/plain": [
       "NumberOfTime60-89DaysPastDueNotWorse\n",
       "0     141601\n",
       "1       5723\n",
       "2       1117\n",
       "3        318\n",
       "4        104\n",
       "5         34\n",
       "6         16\n",
       "7          8\n",
       "8          2\n",
       "9          1\n",
       "11         1\n",
       "96         5\n",
       "98       220\n",
       "dtype: int64"
      ]
     },
     "execution_count": 31,
     "metadata": {},
     "output_type": "execute_result"
    }
   ],
   "source": [
    "util_droped.groupby(['NumberOfTime60-89DaysPastDueNotWorse']).size()"
   ]
  },
  {
   "cell_type": "code",
   "execution_count": 32,
   "id": "050391f5",
   "metadata": {},
   "outputs": [
    {
     "data": {
      "text/plain": [
       "NumberOfTimes90DaysLate\n",
       "0     140875\n",
       "1       5227\n",
       "2       1554\n",
       "3        666\n",
       "4        291\n",
       "5        131\n",
       "6         80\n",
       "7         38\n",
       "8         20\n",
       "9         19\n",
       "10         8\n",
       "11         5\n",
       "12         2\n",
       "13         4\n",
       "14         2\n",
       "15         2\n",
       "17         1\n",
       "96         5\n",
       "98       220\n",
       "dtype: int64"
      ]
     },
     "execution_count": 32,
     "metadata": {},
     "output_type": "execute_result"
    }
   ],
   "source": [
    "util_droped.groupby(['NumberOfTimes90DaysLate']).size()"
   ]
  },
  {
   "cell_type": "code",
   "execution_count": 33,
   "id": "9f34a6d4",
   "metadata": {},
   "outputs": [
    {
     "data": {
      "text/plain": [
       "SeriousDlqin2yrs\n",
       "0     89\n",
       "1    136\n",
       "dtype: int64"
      ]
     },
     "execution_count": 33,
     "metadata": {},
     "output_type": "execute_result"
    }
   ],
   "source": [
    "util_droped[util_droped['NumberOfTimes90DaysLate']>=96].groupby(['SeriousDlqin2yrs']).size()"
   ]
  },
  {
   "cell_type": "code",
   "execution_count": 34,
   "id": "f1f6920d",
   "metadata": {},
   "outputs": [
    {
     "data": {
      "text/plain": [
       "count    149150.000000\n",
       "mean        354.085328\n",
       "std        2042.235713\n",
       "min           0.000000\n",
       "25%           0.177334\n",
       "50%           0.368200\n",
       "75%           0.874241\n",
       "max      329664.000000\n",
       "Name: DebtRatio, dtype: float64"
      ]
     },
     "execution_count": 34,
     "metadata": {},
     "output_type": "execute_result"
    }
   ],
   "source": [
    "util_droped['DebtRatio'].describe()"
   ]
  },
  {
   "cell_type": "code",
   "execution_count": 35,
   "id": "7ed4278d",
   "metadata": {},
   "outputs": [
    {
     "data": {
      "text/plain": [
       "<Axes: xlabel='DebtRatio', ylabel='Density'>"
      ]
     },
     "execution_count": 35,
     "metadata": {},
     "output_type": "execute_result"
    },
    {
     "data": {
      "image/png": "[encoded data removed]",
      "text/plain": [
       "<Figure size 640x480 with 1 Axes>"
      ]
     },
     "metadata": {},
     "output_type": "display_data"
    }
   ],
   "source": [
    "\n",
    "sns.kdeplot(util_droped['DebtRatio'])"
   ]
  },
  {
   "cell_type": "code",
   "execution_count": 36,
   "id": "a8c29251",
   "metadata": {},
   "outputs": [
    {
     "data": {
      "text/plain": [
       "0.975    3492.0\n",
       "Name: DebtRatio, dtype: float64"
      ]
     },
     "execution_count": 36,
     "metadata": {},
     "output_type": "execute_result"
    }
   ],
   "source": [
    "util_droped['DebtRatio'].quantile([.975])"
   ]
  },
  {
   "cell_type": "code",
   "execution_count": 37,
   "id": "a6de1fed",
   "metadata": {},
   "outputs": [
    {
     "data": {
      "text/html": [
       "<div>\n",
       "<style scoped>\n",
       "    .dataframe tbody tr th:only-of-type {\n",
       "        vertical-align: middle;\n",
       "    }\n",
       "\n",
       "    .dataframe tbody tr th {\n",
       "        vertical-align: top;\n",
       "    }\n",
       "\n",
       "    .dataframe thead th {\n",
       "        text-align: right;\n",
       "    }\n",
       "</style>\n",
       "<table border=\"1\" class=\"dataframe\">\n",
       "  <thead>\n",
       "    <tr style=\"text-align: right;\">\n",
       "      <th></th>\n",
       "      <th>SeriousDlqin2yrs</th>\n",
       "      <th>MonthlyIncome</th>\n",
       "    </tr>\n",
       "  </thead>\n",
       "  <tbody>\n",
       "    <tr>\n",
       "      <th>count</th>\n",
       "      <td>3727.000000</td>\n",
       "      <td>3727.000000</td>\n",
       "    </tr>\n",
       "    <tr>\n",
       "      <th>mean</th>\n",
       "      <td>0.064395</td>\n",
       "      <td>4798.715321</td>\n",
       "    </tr>\n",
       "    <tr>\n",
       "      <th>std</th>\n",
       "      <td>0.245488</td>\n",
       "      <td>1698.867567</td>\n",
       "    </tr>\n",
       "    <tr>\n",
       "      <th>min</th>\n",
       "      <td>0.000000</td>\n",
       "      <td>0.000000</td>\n",
       "    </tr>\n",
       "    <tr>\n",
       "      <th>25%</th>\n",
       "      <td>0.000000</td>\n",
       "      <td>5400.000000</td>\n",
       "    </tr>\n",
       "    <tr>\n",
       "      <th>50%</th>\n",
       "      <td>0.000000</td>\n",
       "      <td>5400.000000</td>\n",
       "    </tr>\n",
       "    <tr>\n",
       "      <th>75%</th>\n",
       "      <td>0.000000</td>\n",
       "      <td>5400.000000</td>\n",
       "    </tr>\n",
       "    <tr>\n",
       "      <th>max</th>\n",
       "      <td>1.000000</td>\n",
       "      <td>5400.000000</td>\n",
       "    </tr>\n",
       "  </tbody>\n",
       "</table>\n",
       "</div>"
      ],
      "text/plain": [
       "       SeriousDlqin2yrs  MonthlyIncome\n",
       "count       3727.000000    3727.000000\n",
       "mean           0.064395    4798.715321\n",
       "std            0.245488    1698.867567\n",
       "min            0.000000       0.000000\n",
       "25%            0.000000    5400.000000\n",
       "50%            0.000000    5400.000000\n",
       "75%            0.000000    5400.000000\n",
       "max            1.000000    5400.000000"
      ]
     },
     "execution_count": 37,
     "metadata": {},
     "output_type": "execute_result"
    }
   ],
   "source": [
    "util_droped[util_droped['DebtRatio']>3492][['SeriousDlqin2yrs','MonthlyIncome']].describe()"
   ]
  },
  {
   "cell_type": "code",
   "execution_count": 38,
   "id": "bcc9a9c4",
   "metadata": {},
   "outputs": [],
   "source": [
    "temp = util_droped[(util_droped['DebtRatio']>3492) & (util_droped['SeriousDlqin2yrs']==util_droped['MonthlyIncome'])]"
   ]
  },
  {
   "cell_type": "code",
   "execution_count": 39,
   "id": "3957a06b",
   "metadata": {},
   "outputs": [],
   "source": [
    "dRatio = util_droped.drop(util_droped[(util_droped['DebtRatio']>3492) & \n",
    "                                      (util_droped['SeriousDlqin2yrs']==util_droped['MonthlyIncome'])].index)"
   ]
  },
  {
   "cell_type": "code",
   "execution_count": 40,
   "id": "b3fd09df",
   "metadata": {},
   "outputs": [],
   "source": [
    "# pip install Xgboost\n",
    "from xgboost import XGBClassifier\n",
    "from sklearn.metrics import accuracy_score\n",
    "from sklearn.metrics import confusion_matrix, classification_report"
   ]
  },
  {
   "cell_type": "code",
   "execution_count": 41,
   "id": "a7acc17a",
   "metadata": {},
   "outputs": [],
   "source": [
    "model = XGBClassifier(tree_method = 'exact')"
   ]
  },
  {
   "cell_type": "code",
   "execution_count": 42,
   "id": "78b8b74a",
   "metadata": {},
   "outputs": [],
   "source": [
    "x = dRatio.drop(['SeriousDlqin2yrs'],axis=1)\n",
    "y = dRatio['SeriousDlqin2yrs']"
   ]
  },
  {
   "cell_type": "code",
   "execution_count": 43,
   "id": "8f51fb84",
   "metadata": {},
   "outputs": [],
   "source": [
    "model.fit(x,y.values.ravel())\n",
    "y_pred = model.predict(x)"
   ]
  },
  {
   "cell_type": "code",
   "execution_count": 44,
   "id": "5909d8fa",
   "metadata": {},
   "outputs": [
    {
     "data": {
      "text/plain": [
       "0.9465207571520757"
      ]
     },
     "execution_count": 44,
     "metadata": {},
     "output_type": "execute_result"
    }
   ],
   "source": [
    "accuracy_score(y,y_pred)"
   ]
  },
  {
   "cell_type": "code",
   "execution_count": 45,
   "id": "85b161e9",
   "metadata": {},
   "outputs": [],
   "source": [
    "cm = confusion_matrix(y,y_pred)"
   ]
  },
  {
   "cell_type": "code",
   "execution_count": 46,
   "id": "46fc7251",
   "metadata": {},
   "outputs": [
    {
     "data": {
      "text/plain": [
       "Text(50.722222222222214, 0.5, 'actuals')"
      ]
     },
     "execution_count": 46,
     "metadata": {},
     "output_type": "execute_result"
    },
    {
     "data": {
      "image/png": "[encoded data removed]",
      "text/plain": [
       "<Figure size 640x480 with 2 Axes>"
      ]
     },
     "metadata": {},
     "output_type": "display_data"
    }
   ],
   "source": [
    "sns.heatmap(cm,annot=True,fmt='d',cmap='Oranges',linewidths=0.5,linecolor='Black')\n",
    "plt.xticks(np.arange(2)+.5,['No def','def'])\n",
    "plt.yticks(np.arange(2)+.5,['No def','def'])\n",
    "plt.xlabel(\"predicted\")\n",
    "plt.ylabel(\"actuals\")"
   ]
  },
  {
   "cell_type": "code",
   "execution_count": 47,
   "id": "f21fc70f",
   "metadata": {},
   "outputs": [
    {
     "name": "stdout",
     "output_type": "stream",
     "text": [
      "              precision    recall  f1-score   support\n",
      "\n",
      "           0       0.95      0.99      0.97    138778\n",
      "           1       0.78      0.28      0.42      9990\n",
      "\n",
      "    accuracy                           0.95    148768\n",
      "   macro avg       0.86      0.64      0.69    148768\n",
      "weighted avg       0.94      0.95      0.93    148768\n",
      "\n"
     ]
    }
   ],
   "source": [
    "print(classification_report(y,y_pred))"
   ]
  },
  {
   "cell_type": "code",
   "execution_count": null,
   "id": "1fe68327",
   "metadata": {},
   "outputs": [],
   "source": []
  },
  {
   "cell_type": "code",
   "execution_count": null,
   "id": "49fad3af",
   "metadata": {},
   "outputs": [],
   "source": []
  }
 ],
 "metadata": {
  "kernelspec": {
   "display_name": "Python 3 (ipykernel)",
   "language": "python",
   "name": "python3"
  },
  "language_info": {
   "codemirror_mode": {
    "name": "ipython",
    "version": 3
   },
   "file_extension": ".py",
   "mimetype": "text/x-python",
   "name": "python",
   "nbconvert_exporter": "python",
   "pygments_lexer": "ipython3",
   "version": "3.11.4"
  }
 },
 "nbformat": 4,
 "nbformat_minor": 5
}
