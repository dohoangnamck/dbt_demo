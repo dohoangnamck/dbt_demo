{
 "cells": [
  {
   "cell_type": "markdown",
   "metadata": {
    "heading_collapsed": true
   },
   "source": [
    "# Academic success in high schools: What drives differences in SAT-scores across NYC?"
   ]
  },
  {
   "cell_type": "markdown",
   "metadata": {},
   "source": [
    "# Abstract"
   ]
  },
  {
   "cell_type": "markdown",
   "metadata": {},
   "source": [
    "## Motivation \n",
    "The results of the standardized [\"SAT\"-exam](https://en.wikipedia.org/wiki/SAT) is used by US-colleges to determine which high school graduates they admit. <br>\n",
    "Understanding if there are any unintended patterns or reasons discriminating against certain groups of students is an important step to making the US education system more equal - something the US Department of Education states as a [\"formidable challenge\"](https://www.ed.gov/equity).<br>\n",
    "To be an informed citizen on this matter (and learn some python along the way), I want to know:\n",
    "* *Which factors drive differences in SAT-scores and thus opportunities to attend (selective) US-colleges?*\n",
    "* *Bonus question: Where in NYC does one get the best high school education compared to property prices?* \n",
    "___\n",
    "## Methodology\n",
    "This analysis will use descriptive statistics (e.g. mean, correlations, z-score) and data visualizations (e.g. scatter plots, bar charts, maps) to explore the following datasets on NYC high schools:\n",
    "+ [SAT scores by school - SAT scores for each high school in New York City](https://data.cityofnewyork.us/Education/SAT-Results/f9bf-2cp4)\n",
    "+ [School attendance - Attendance information for each school in New York City](https://data.cityofnewyork.us/Education/School-Attendance-and-Enrollment-Statistics-by-Dis/7z8d-msnt)\n",
    "+ [Class size - Information on class size for each school](https://data.cityofnewyork.us/Education/2010-2011-Class-Size-School-level-detail/urz7-pzb3)\n",
    "+ [AP test results - Advanced Placement (AP) exam results for each high school (passing an optional AP exam in a particular subject can earn a student college credit in that subject)](https://data.cityofnewyork.us/Education/AP-College-Board-2010-School-Level-Results/itfs-ms3e)\n",
    "+ [Graduation outcomes - The percentage of students who graduated, and other outcome information](https://data.cityofnewyork.us/Education/Graduation-Outcomes-Classes-Of-2005-2010-School-Le/vh2h-md7a)\n",
    "+ [Demographics - Demographic information for each school](https://data.cityofnewyork.us/Education/School-Demographics-and-Accountability-Snapshot-20/ihfw-zy9j)\n",
    "+ [School survey - Surveys of parents, teachers, and students at each school](https://data.cityofnewyork.us/Education/NYC-School-Survey-2011/mnz3-dyi8)\n",
    "\n",
    "The ETL portion of this analysis was executed based on dataquest instructions.\n",
    "\n",
    "Additional dataset: [Property prices by NYC neighborhood](https://dev.socrata.com/foundry/data.cityofnewyork.us/5ebm-myj7)\n",
    "___\n",
    "## Results\n",
    "The main findings are:\n",
    "+ Consistent with serious research, hispanic and black students are at a disadvantage. They are schooled in less safe neighborhoods and less often admitted to their borough's elite high schools.\n",
    "+ STEM-focused elite schools have a high share of male students, excellent high-schools focused on non-STEM subjects tend be predominantly visited by females.\n",
    "+ Advanced Placement (AP) courses are not always a good preparation for SAT-tests.\n",
    "+ Sheepshead Bay and Jamaica are neighborhoods that offer good public education and have comparably low property cost.\n",
    "\n",
    "Notes: The data is generally quote outdated (in part from 2011). SAT scores are not the only relevant parameter to evaluate the quality of education.\n",
    "___"
   ]
  },
  {
   "cell_type": "markdown",
   "metadata": {},
   "source": [
    "# [ETL] Reading data"
   ]
  },
  {
   "cell_type": "code",
   "execution_count": 1,
   "metadata": {
    "ExecuteTime": {
     "end_time": "2020-05-03T10:45:14.370499Z",
     "start_time": "2020-05-03T10:45:11.512957Z"
    },
    "code_folding": [
     20,
     42
    ]
   },
   "outputs": [
    {
     "data": {
      "text/html": [
       "        <script type=\"text/javascript\">\n",
       "        window.PlotlyConfig = {MathJaxConfig: 'local'};\n",
       "        if (window.MathJax) {MathJax.Hub.Config({SVG: {font: \"STIX-Web\"}});}\n",
       "        if (typeof require !== 'undefined') {\n",
       "        require.undef(\"plotly\");\n",
       "        requirejs.config({\n",
       "            paths: {\n",
       "                'plotly': ['https://cdn.plot.ly/plotly-latest.min']\n",
       "            }\n",
       "        });\n",
       "        require(['plotly'], function(Plotly) {\n",
       "            window._Plotly = Plotly;\n",
       "        });\n",
       "        }\n",
       "        </script>\n",
       "        "
      ]
     },
     "metadata": {},
     "output_type": "display_data"
    },
    {
     "data": {
      "text/html": [
       "        <script type=\"text/javascript\">\n",
       "        window.PlotlyConfig = {MathJaxConfig: 'local'};\n",
       "        if (window.MathJax) {MathJax.Hub.Config({SVG: {font: \"STIX-Web\"}});}\n",
       "        if (typeof require !== 'undefined') {\n",
       "        require.undef(\"plotly\");\n",
       "        requirejs.config({\n",
       "            paths: {\n",
       "                'plotly': ['https://cdn.plot.ly/plotly-latest.min']\n",
       "            }\n",
       "        });\n",
       "        require(['plotly'], function(Plotly) {\n",
       "            window._Plotly = Plotly;\n",
       "        });\n",
       "        }\n",
       "        </script>\n",
       "        "
      ]
     },
     "metadata": {},
     "output_type": "display_data"
    }
   ],
   "source": [
    "# standard libs from dq and additional utilities (PEP-8 made me do it in this order)\n",
    "from tqdm.notebook import tqdm_notebook # progress bar for timeconsuming geocoding\n",
    "import tqdm\n",
    "import warnings  # used here to surpress FutureWarning\n",
    "import pandas as pd\n",
    "import numpy\n",
    "import re\n",
    "import matplotlib.pyplot as plt\n",
    "import seaborn as sns\n",
    "\n",
    "# additional libs used for this projects\n",
    "from sodapy import Socrata  # api calls\n",
    "import geopy  # reverse geocoding\n",
    "from geopy.geocoders import Nominatim\n",
    "from geopy.extra.rate_limiter import RateLimiter\n",
    "import plotly as py  # interactive plotting\n",
    "import plotly.graph_objs as go\n",
    "import cufflinks as cf  # interactive plotting made easy (pandas style)\n",
    "\n",
    "# Using plotly + cufflinks in offline mode\n",
    "from plotly.offline import iplot, init_notebook_mode\n",
    "cf.go_offline(connected=True)\n",
    "init_notebook_mode(connected=True)\n",
    "\n",
    "# jupyter command to show plots in notebook\n",
    "%matplotlib inline\n",
    "\n",
    "# setting pandas display options\n",
    "pd.options.display.float_format = '{:,.3f}'.format\n",
    "pd.set_option(\"display.max_columns\", 20)\n",
    "#pd.set_option(\"display.max_rows\", 20)\n",
    "pd.set_option('max_colwidth', 50)\n",
    "\n",
    "\n",
    "# read seperate input files into single dictionary\n",
    "# csv-files\n",
    "data_files = [\n",
    "    \"ap_2010.csv\",\n",
    "    \"class_size.csv\",\n",
    "    \"demographics.csv\",\n",
    "    \"graduation.csv\",\n",
    "    \"hs_directory.csv\",\n",
    "    \"sat_results.csv\"\n",
    "]\n",
    "\n",
    "data = {}\n",
    "\n",
    "for f in data_files:\n",
    "    d = pd.read_csv(\"schools/{0}\".format(f))\n",
    "    data[f.replace(\".csv\", \"\")] = d\n",
    "\n",
    "# survey data, different format\n",
    "all_survey = pd.read_csv(\"schools/survey_all.txt\",\n",
    "                         delimiter=\"\\t\", encoding='windows-1252')\n",
    "d75_survey = pd.read_csv(\"schools/survey_d75.txt\",\n",
    "                         delimiter=\"\\t\", encoding='windows-1252')\n",
    "survey = pd.concat([all_survey, d75_survey], axis=0)\n",
    "\n",
    "survey[\"DBN\"] = survey[\"dbn\"]\n",
    "\n",
    "survey_fields = [\n",
    "    \"DBN\",\n",
    "    \"rr_s\",\n",
    "    \"rr_t\",\n",
    "    \"rr_p\",\n",
    "    \"N_s\",\n",
    "    \"N_t\",\n",
    "    \"N_p\",\n",
    "    \"saf_p_11\",\n",
    "    \"com_p_11\",\n",
    "    \"eng_p_11\",\n",
    "    \"aca_p_11\",\n",
    "    \"saf_t_11\",\n",
    "    \"com_t_11\",\n",
    "    \"eng_t_11\",\n",
    "    \"aca_t_11\",\n",
    "    \"saf_s_11\",\n",
    "    \"com_s_11\",\n",
    "    \"eng_s_11\",\n",
    "    \"aca_s_11\",\n",
    "    \"saf_tot_11\",\n",
    "    \"com_tot_11\",\n",
    "    \"eng_tot_11\",\n",
    "    \"aca_tot_11\",\n",
    "]\n",
    "survey = survey.loc[:, survey_fields]\n",
    "data[\"survey\"] = survey"
   ]
  },
  {
   "cell_type": "markdown",
   "metadata": {},
   "source": [
    "# [ETL] Adding and converting features"
   ]
  },
  {
   "cell_type": "code",
   "execution_count": 2,
   "metadata": {
    "ExecuteTime": {
     "end_time": "2020-05-03T10:45:14.424318Z",
     "start_time": "2020-05-03T10:45:14.373277Z"
    }
   },
   "outputs": [],
   "source": [
    "# add DBN columns as unique identifier in datasets where they are not yet present\n",
    "data[\"hs_directory\"][\"DBN\"] = data[\"hs_directory\"][\"dbn\"]\n",
    "\n",
    "data[\"class_size\"][\"padded_csd\"] = data[\"class_size\"][\"CSD\"].astype(str).str.pad(2,fillchar=\"0\")\n",
    "data[\"class_size\"][\"DBN\"] = data[\"class_size\"][\"padded_csd\"] + data[\"class_size\"][\"SCHOOL CODE\"]\n",
    "\n",
    "# summing SAT-score\n",
    "cols = ['SAT Math Avg. Score', 'SAT Critical Reading Avg. Score', 'SAT Writing Avg. Score']\n",
    "for c in cols:\n",
    "    data[\"sat_results\"][c] = pd.to_numeric(data[\"sat_results\"][c], errors=\"coerce\")\n",
    "data['sat_results']['sat_score'] = data['sat_results'][cols[0]] + data['sat_results'][cols[1]] + data['sat_results'][cols[2]]\n",
    "\n",
    "# extracting latitude and longitude to separate columns\n",
    "pattern = r\"\\((.+),(.+)\\)\"\n",
    "data[\"hs_directory\"][[\"lat\",\"lon\"]] = data[\"hs_directory\"][\"Location 1\"].str.extract(pattern).astype(float)\n",
    "\n",
    "# convert AP scores to numeric\n",
    "cols = ['AP Test Takers ', 'Total Exams Taken', 'Number of Exams with scores 3 4 or 5']\n",
    "for col in cols:\n",
    "    data[\"ap_2010\"][col] = pd.to_numeric(data[\"ap_2010\"][col], errors=\"coerce\")"
   ]
  },
  {
   "cell_type": "markdown",
   "metadata": {},
   "source": [
    "# [ETL] Condensing and combining datasets"
   ]
  },
  {
   "cell_type": "code",
   "execution_count": 3,
   "metadata": {
    "ExecuteTime": {
     "end_time": "2020-05-03T10:45:14.620565Z",
     "start_time": "2020-05-03T10:45:14.426307Z"
    }
   },
   "outputs": [],
   "source": [
    "# selecting the classes relevant for SAT-analysis (high school, general education)\n",
    "class_size = data[\"class_size\"]\n",
    "class_size = class_size[class_size[\"GRADE \"] == \"09-12\"]\n",
    "class_size = class_size[class_size[\"PROGRAM TYPE\"] == \"GEN ED\"]\n",
    "\n",
    "# compute average class size by school across all subjects\n",
    "data[\"class_size\"] = pd.pivot_table(class_size, values=\"AVERAGE CLASS SIZE\", index=\"DBN\").reset_index()\n",
    "\n",
    "# select most recent data available in \"demographics\" and \"graduation\" dataset\n",
    "data[\"demographics\"] = data[\"demographics\"][data[\"demographics\"][\"schoolyear\"] == 20112012]\n",
    "data[\"graduation\"] = data[\"graduation\"][data[\"graduation\"][\"Cohort\"] == \"2006\"]\n",
    "data[\"graduation\"] = data[\"graduation\"][data[\"graduation\"][\"Demographic\"] == \"Total Cohort\"]\n",
    "\n",
    "# initiate combined dataset with our main variable we want to investigate\n",
    "combined = data[\"sat_results\"]\n",
    "\n",
    "# left joins for somewhat sparse datasets, because we do not want to loose any SAT-info\n",
    "combined = combined.merge(data[\"ap_2010\"], on=\"DBN\", how=\"left\")\n",
    "combined = combined.merge(data[\"graduation\"], on=\"DBN\", how=\"left\")\n",
    "\n",
    "# inner joins for other dataset that potentially contain very relevant explanatory features.\n",
    "# if these features are not available for a high school, our we want to exclude these schools\n",
    "to_merge = [\"class_size\", \"demographics\", \"survey\", \"hs_directory\"]\n",
    "for m in to_merge:\n",
    "    combined = combined.merge(data[m], on=\"DBN\", how=\"inner\")\n",
    "\n",
    "# missing values for numeric columns filled with mean, non-numerics with zeros \n",
    "combined = combined.fillna(combined.mean()) # potential lever to improve quality of analysis, not scope of this learning exercise\n",
    "combined = combined.fillna(0)\n",
    "\n",
    "# Add a school district column for later analysis\n",
    "combined[\"school_dist\"] = combined[\"DBN\"].str[:2]"
   ]
  },
  {
   "cell_type": "markdown",
   "metadata": {},
   "source": [
    "# Survey results: Safety and students expectations are important"
   ]
  },
  {
   "cell_type": "code",
   "execution_count": 4,
   "metadata": {
    "ExecuteTime": {
     "end_time": "2020-05-03T10:45:14.624432Z",
     "start_time": "2020-05-03T10:45:14.622373Z"
    },
    "code_folding": []
   },
   "outputs": [],
   "source": [
    "# Remove DBN since it's a unique identifier, not a useful numerical value for correlation.\n",
    "survey_fields.remove(\"DBN\")"
   ]
  },
  {
   "cell_type": "code",
   "execution_count": 5,
   "metadata": {
    "ExecuteTime": {
     "end_time": "2020-05-03T10:45:14.975290Z",
     "start_time": "2020-05-03T10:45:14.626329Z"
    },
    "code_folding": []
   },
   "outputs": [
    {
     "data": {
      "image/png": "[encoded data removed]",
      "text/plain": [
       "<Figure size 576x432 with 1 Axes>"
      ]
     },
     "metadata": {
      "needs_background": "light"
     },
     "output_type": "display_data"
    }
   ],
   "source": [
    "# compute all correlations with SAT scores\n",
    "correlations = combined.corr()[\"sat_score\"]\n",
    "\n",
    "# build a barchart to visualize SAT and survey response correlation  \n",
    "ax = correlations[survey_fields].sort_values().plot(kind=\"bar\",\n",
    "                                                    figsize=(8, 6),\n",
    "                                                    title=\"Correlation of survey responses and SAT-scores\")\n",
    "ax.spines['right'].set_visible(False)\n",
    "ax.spines['top'].set_visible(False)\n",
    "for p in ax.patches:\n",
    "    ax.annotate(str(round(p.get_height(), 2)),\n",
    "                (p.get_x()+0.1, max(p.get_height(), 0)+0.01),\n",
    "                rotation=90\n",
    "                )\n",
    "ax.axhline(y=0.0, color='black', linestyle='-', linewidth=1)\n",
    "plt.show()"
   ]
  },
  {
   "cell_type": "markdown",
   "metadata": {},
   "source": [
    "Safety / Respect (\"saf_...\") and students academic expectations (\"aca_s_11\") are correlated with good SAT scores. <br> This intuitively makes sense - if students feel safe and have trust in themselves / sets higher expectations, they (can) focus on achieving good academic results.  \n",
    "\n",
    "Further details: \n",
    "* aca_...: Academic expectations score based on students (s), teachers (t) and parents(p) responses: Interesting to see that aca_p and aca_t (teachers) exhibit a lower correlation than expectation set by students.\n",
    "* saf_t_11, Safety and Respect score based on teachers responses: Also teachers perceived safety and respect score seems relevant."
   ]
  },
  {
   "cell_type": "markdown",
   "metadata": {},
   "source": [
    "#  Crime: Missing safety  in the Bronx and Brooklyn impedes high SAT-scores "
   ]
  },
  {
   "cell_type": "code",
   "execution_count": 6,
   "metadata": {
    "ExecuteTime": {
     "end_time": "2020-05-03T10:45:15.158760Z",
     "start_time": "2020-05-03T10:45:14.977188Z"
    },
    "code_folding": []
   },
   "outputs": [
    {
     "data": {
      "image/png": "[encoded data removed]",
      "text/plain": [
       "<Figure size 432x288 with 1 Axes>"
      ]
     },
     "metadata": {
      "needs_background": "light"
     },
     "output_type": "display_data"
    }
   ],
   "source": [
    "# build a scatter plot to visualize correlation between SAT and Safety and Respect Rating (students)\n",
    "ax = combined.plot(kind=\"scatter\", x=\"saf_s_11\", y=\"sat_score\",\n",
    "                   figsize=(6, 4),\n",
    "                   title=\"Correlation of students Safety and Respect Score and SAT-scores, by school\")\n",
    "ax.spines['right'].set_visible(False)\n",
    "ax.spines['top'].set_visible(False)\n",
    "plt.show()"
   ]
  },
  {
   "cell_type": "markdown",
   "metadata": {},
   "source": [
    "Beyond a certain threshold of safety-rating (~6.5), there are no schools with high SAT-ratings. To me this looks like unsafe environments prohibit excellent scores."
   ]
  },
  {
   "cell_type": "code",
   "execution_count": 7,
   "metadata": {
    "ExecuteTime": {
     "end_time": "2020-05-03T10:45:15.325535Z",
     "start_time": "2020-05-03T10:45:15.164764Z"
    },
    "code_folding": [],
    "scrolled": false
   },
   "outputs": [
    {
     "data": {
      "image/png": "[encoded data removed]",
      "text/plain": [
       "<Figure size 432x288 with 1 Axes>"
      ]
     },
     "metadata": {
      "needs_background": "light"
     },
     "output_type": "display_data"
    }
   ],
   "source": [
    "# build second scatter plot to visualize correlation between SAT and Safety and Respect Rating (students)\n",
    "by_district = combined.groupby(\"school_dist\").mean().reset_index()\n",
    "\n",
    "ax = by_district.plot(kind=\"scatter\", x=\"saf_s_11\", y=\"sat_score\",\n",
    "                      figsize=(6, 4),\n",
    "                      title=\"Correlation of students Safety and Respect Score and SAT-scores, by school district\")\n",
    "ax.spines['right'].set_visible(False)\n",
    "ax.spines['top'].set_visible(False)\n",
    "plt.show()"
   ]
  },
  {
   "cell_type": "markdown",
   "metadata": {},
   "source": [
    "The relationship is also visible on aggregate level - but with a higher spread of the SAT scores as the Safety / Respect Score increases. Again, this could be an indication that safety is a necessary but not a sufficient factor for high SAT scores."
   ]
  },
  {
   "cell_type": "markdown",
   "metadata": {},
   "source": [
    "I could not install Basemap (soon to be deprecated) to generate maps so I used Folium. \n",
    "<br>Useful links:\n",
    "+ [Helpful code snippet for general orientation](https://python-graph-gallery.com/313-bubble-map-with-folium/)\n",
    "+ [Three helpful](https://stackoverflow.com/questions/52911688/python-folium-choropleth-map-colors-incorrect/52981115#52981115) [stackoverflow-posts](https://stackoverflow.com/questions/56876620/unsure-how-to-use-colormap-with-folium-marker-plot) [regarding colors](https://stackoverflow.com/questions/48976764/color-range-associated-with-number-range-for-markers-in-folium)\n",
    "+ As further reading: [the quick start guide](https://python-visualization.github.io/folium/quickstart.html)"
   ]
  },
  {
   "cell_type": "code",
   "execution_count": 8,
   "metadata": {
    "ExecuteTime": {
     "end_time": "2020-05-03T10:45:15.755831Z",
     "start_time": "2020-05-03T10:45:15.328858Z"
    },
    "code_folding": [
     14,
     29
    ],
    "scrolled": false
   },
   "outputs": [
    {
     "data": {
      "text/html": [
       "<div style=\"width:100%;\"><div style=\"position:relative;width:100%;height:0;padding-bottom:60%;\"><iframe src=\"about:blank\" style=\"position:absolute;width:100%;height:100%;left:0;top:0;border:none !important;\" data-html=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 onload=\"this.contentDocument.open();this.contentDocument.write(atob(this.getAttribute('data-html')));this.contentDocument.close();\" allowfullscreen webkitallowfullscreen mozallowfullscreen></iframe></div></div>"
      ],
      "text/plain": [
       "<folium.folium.Map at 0x12b97eca0>"
      ]
     },
     "execution_count": 8,
     "metadata": {},
     "output_type": "execute_result"
    }
   ],
   "source": [
    "# code for map\n",
    "import folium\n",
    "import branca.colormap as cm\n",
    "\n",
    "# set a simple baselayer and zoom-in on NY\n",
    "school_map = folium.Map(location=[40.693943, -73.985880], \n",
    "                        #width=500,\n",
    "                        #height=800,\n",
    "                        zoom_start=10,\n",
    "                        tiles='CartoDB positron')\n",
    "\n",
    "# generate a title above the map\n",
    "# from https://github.com/python-visualization/folium/issues/1202\n",
    "map_title = \"NY highschools: Safety / Respect Score and avg. enrollment by school district\"\n",
    "title_html = '''\n",
    "             <h3 align=\"center\" style=\"font-size:20px\"><b>{}</b></h3>\n",
    "             '''.format(map_title)\n",
    "school_map.get_root().html.add_child(folium.Element(title_html))\n",
    "\n",
    "# select column names of the viz parameters\n",
    "size_parameter = \"total_enrollment\"\n",
    "color_parameter = \"saf_s_11\"\n",
    "\n",
    "# generate a colormap to shade the cirles on the map\n",
    "# from https://stackoverflow.com/questions/56876620/unsure-how-to-use-colormap-with-folium-marker-plot\n",
    "start_col_val = by_district[color_parameter].min()\n",
    "end_col_val = by_district[color_parameter].max()\n",
    "start_col_hex = \"#d01c8b\" # used https://colorbrewer2.org/ \n",
    "end_col_hex = \"#4dac26\"\n",
    "colormap = cm.LinearColormap(colors=[start_col_hex,\n",
    "                                     #\"white\",\n",
    "                                     end_col_hex],\n",
    "                             vmin=start_col_val,\n",
    "                             vmax=end_col_val\n",
    "                            )\n",
    "colormap.caption = \"Safety / Respect Score, students response\"\n",
    "\n",
    "# create a circle for each school district\n",
    "for index, row in by_district.iterrows():\n",
    "    folium.Circle(location=[row[\"lat\"],row[\"lon\"]],\n",
    "                  color=colormap(row[color_parameter]),\n",
    "                  fill_color=colormap(row[color_parameter]),\n",
    "                  fill_opacity=0.75,\n",
    "                  radius=row[size_parameter],\n",
    "                  weight=2,\n",
    "                  tooltip=\"District \"+row[\"school_dist\"]+\n",
    "                      \" <br> Avg. Safety / Respect Score, students response (color): {:.1f}\".format(row[color_parameter])+\n",
    "                      \" <br> Avg. enrollment per school (size): {:.0f}\".format(row[size_parameter])\n",
    "                 ).add_to(school_map)\n",
    "\n",
    "# add a legend\n",
    "school_map.add_child(colormap)\n",
    "    \n",
    "# display the map\n",
    "school_map"
   ]
  },
  {
   "cell_type": "markdown",
   "metadata": {},
   "source": [
    "Especially students in Northern Brooklyn and parts of the Bronx report below average Safety / Respect Scores.\n",
    "This somewhat aligns with a [*New York Times* article](https://archive.nytimes.com/www.nytimes.com/interactive/2010/07/11/nyregion/20100711-stop-and-frisk.html) from around that time - the piece reports that precincts with the highest crime rates are in these areas.<br>\n",
    "Up to date stats by precinct and crime type can be found [here.](https://maps.nyc.gov/crime/)"
   ]
  },
  {
   "cell_type": "markdown",
   "metadata": {},
   "source": [
    "# Race: Hispanics and blacks disadvantaged  "
   ]
  },
  {
   "cell_type": "code",
   "execution_count": 9,
   "metadata": {
    "ExecuteTime": {
     "end_time": "2020-05-03T10:45:15.927193Z",
     "start_time": "2020-05-03T10:45:15.757662Z"
    },
    "code_folding": []
   },
   "outputs": [
    {
     "data": {
      "image/png": "[encoded data removed]",
      "text/plain": [
       "<Figure size 576x576 with 1 Axes>"
      ]
     },
     "metadata": {
      "needs_background": "light"
     },
     "output_type": "display_data"
    }
   ],
   "source": [
    "# build scatter plot to visualize correlation between SAT and race of students\n",
    "race_field = [\"asian_per\",\"black_per\",\"hispanic_per\",\"white_per\"]\n",
    "\n",
    "ax = correlations[race_field].sort_values().plot(kind=\"bar\",\n",
    "                                                    figsize=(8, 8),\n",
    "                                                    title=\"Correlation of race to SAT-scores\")\n",
    "ax.spines['right'].set_visible(False)\n",
    "ax.spines['top'].set_visible(False)\n",
    "for p in ax.patches: # set data point labels\n",
    "    ax.annotate(str(round(p.get_height(), 2)),\n",
    "                (p.get_x() + 0.2, max(p.get_height(), 0)+0.02),\n",
    "                rotation=90\n",
    "                )\n",
    "ax.axhline(y=0.0, color='black', linestyle='-', linewidth=1)\n",
    "plt.show()"
   ]
  },
  {
   "cell_type": "markdown",
   "metadata": {},
   "source": [
    "+ Achievement gaps in the US are well documented [(example1](https://nces.ed.gov/nationsreportcard/studies/gaps/), [example2](https://cepa.stanford.edu/educational-opportunity-monitoring-project/achievement-gaps/race/) - both are from the same time period as our data). The general trends of hispanics and blacks scoring lower than asians and whites also persists in this NYC dataset. <br> The negative correlation is higher for hispanics (about -0.4) than for blacks (about -0.3). Examples 1 and 2 above showed higher achievement gaps for blacks than for hispanics -  data cited on [wikipedia](https://en.wikipedia.org/wiki/Racial_achievement_gap_in_the_United_States) is however  consistent with our NYC data. \n",
    "+ A slightly higher positive correlation for whites compared to asians was a bit surprising. It is commonly reported the other way around."
   ]
  },
  {
   "cell_type": "markdown",
   "metadata": {},
   "source": [
    "Trying out plotly and [cufflinks](https://plotly.com/python/cufflinks/) to enable easier data discovery through interactive charts  - [inspiration](https://towardsdatascience.com/the-next-level-of-data-visualization-in-python-dd6e99039d5e), [examples](https://nbviewer.jupyter.org/gist/santosjorge/b278ce0ae2448f47c31d), [more examples](https://medium.com/@ozan/interactive-plots-with-plotly-and-cufflinks-on-pandas-dataframes-af6f86f62d94)."
   ]
  },
  {
   "cell_type": "code",
   "execution_count": 10,
   "metadata": {
    "ExecuteTime": {
     "end_time": "2020-05-03T10:45:16.031745Z",
     "start_time": "2020-05-03T10:45:15.929175Z"
    },
    "code_folding": []
   },
   "outputs": [
    {
     "data": {
      "application/vnd.plotly.v1+json": {
       "config": {
        "linkText": "Export to plot.ly",
        "plotlyServerURL": "https://plot.ly",
        "showLink": true
       },
       "data": [
        {
         "marker": {
          "color": "rgba(255, 153, 51, 1.0)",
          "line": {
           "width": 1.3
          },
          "opacity": 0.8,
          "size": 12,
          "symbol": "circle"
         },
         "mode": "markers",
         "name": "Manhattan",
         "text": [
          "HENRY STREET SCHOOL FOR INTERNATIONAL STUDIES",
          "UNIVERSITY NEIGHBORHOOD HIGH SCHOOL",
          "EAST SIDE COMMUNITY SCHOOL",
          "MARTA VALLE HIGH SCHOOL",
          "NEW EXPLORATIONS INTO SCIENCE, TECHNOLOGY AND MATH HIGH SCHOOL",
          "BARD HIGH SCHOOL EARLY COLLEGE",
          "47 THE AMERICAN SIGN LANGUAGE AND ENGLISH SECONDARY SCHOOL",
          "FOOD AND FINANCE HIGH SCHOOL",
          "ESSEX STREET ACADEMY",
          "HIGH SCHOOL OF HOSPITALITY MANAGEMENT",
          "PACE HIGH SCHOOL",
          "URBAN ASSEMBLY SCHOOL OF DESIGN AND CONSTRUCTION, THE",
          "FACING HISTORY SCHOOL, THE",
          "URBAN ASSEMBLY ACADEMY OF GOVERNMENT AND LAW, THE",
          "LOWER MANHATTAN ARTS ACADEMY",
          "URBAN ASSEMBLY SCHOOL OF BUSINESS FOR YOUNG WOMEN, THE",
          "GRAMERCY ARTS HIGH SCHOOL",
          "NYC ISCHOOL",
          "MANHATTAN BUSINESS ACADEMY",
          "BUSINESS OF SPORTS SCHOOL",
          "THE HIGH SCHOOL FOR LANGUAGE AND DIPLOMACY",
          "HIGH SCHOOL FOR ENVIRONMENTAL STUDIES",
          "PROFESSIONAL PERFORMING ARTS HIGH SCHOOL",
          "BARUCH COLLEGE CAMPUS HIGH SCHOOL",
          "N.Y.C. LAB SCHOOL FOR COLLABORATIVE STUDIES",
          "N.Y.C. MUSEUM SCHOOL",
          "ELEANOR ROOSEVELT HIGH SCHOOL",
          "MILLENNIUM HIGH SCHOOL",
          "LANDMARK HIGH SCHOOL",
          "HIGH SCHOOL FOR HEALTH PROFESSIONS AND HUMAN SERVICES",
          "LEADERSHIP AND PUBLIC SERVICE HIGH SCHOOL",
          "MANHATTAN ACADEMY FOR ARTS & LANGUAGE",
          "HUDSON HIGH SCHOOL OF LEARNING TECHNOLOGIES",
          "INTERNATIONAL HIGH SCHOOL AT UNION SQUARE",
          "MANHATTAN VILLAGE ACADEMY",
          "VANGUARD HIGH SCHOOL",
          "MANHATTAN INTERNATIONAL HIGH SCHOOL",
          "STUYVESANT HIGH SCHOOL",
          "HIGH SCHOOL OF ECONOMICS AND FINANCE",
          "UNITY CENTER FOR URBAN TECHNOLOGIES",
          "TALENT UNLIMITED HIGH SCHOOL",
          "MURRY BERGTRAUM HIGH SCHOOL FOR BUSINESS CAREERS",
          "JACQUELINE KENNEDY ONASSIS HIGH SCHOOL",
          "REPERTORY COMPANY HIGH SCHOOL FOR THEATRE ARTS",
          "MANHATTAN BRIDGES HIGH SCHOOL",
          "NEW DESIGN HIGH SCHOOL",
          "HIGH SCHOOL FOR DUAL LANGUAGE AND ASIAN STUDIES",
          "THE URBAN ASSEMBLY NEW YORK HARBOR SCHOOL",
          "RICHARD R. GREEN HIGH SCHOOL OF TEACHING",
          "THE HIGH SCHOOL OF FASHION INDUSTRIES",
          "HUMANITIES PREPARATORY ACADEMY",
          "CHELSEA CAREER AND TECHNICAL EDUCATION HIGH SCHOOL",
          "ART AND DESIGN HIGH SCHOOL",
          "LIFE SCIENCES SECONDARY SCHOOL",
          "HIGH SCHOOL FOR ARTS, IMAGINATION AND INQUIRY",
          "URBAN ASSEMBLY SCHOOL FOR MEDIA STUDIES, THE",
          "THE URBAN ASSEMBLY SCHOOL FOR GREEN CAREERS",
          "THE GLOBAL LEARNING COLLABORATIVE",
          "WADLEIGH SECONDARY SCHOOL FOR THE PERFORMING & VISUAL ARTS",
          "FRANK MCCOURT HIGH SCHOOL",
          "BEACON HIGH SCHOOL",
          "FIORELLO H. LAGUARDIA HIGH SCHOOL OF MUSIC & ART AND PERFORMING ARTS",
          "HIGH SCHOOL FOR LAW, ADVOCACY AND COMMUNITY JUSTICE",
          "HIGH SCHOOL OF ARTS AND TECHNOLOGY",
          "MANHATTAN / HUNTER SCIENCE HIGH SCHOOL",
          "FREDERICK DOUGLASS ACADEMY II SECONDARY SCHOOL",
          "COALITION SCHOOL FOR SOCIAL CHANGE",
          "MANHATTAN CENTER FOR SCIENCE AND MATHEMATICS",
          "PARK EAST HIGH SCHOOL",
          "CENTRAL PARK EAST HIGH SCHOOL",
          "YOUNG WOMEN'S LEADERSHIP SCHOOL",
          "YOUNG WOMEN'S LEADERSHIP SCHOOL",
          "HERITAGE SCHOOL, THE",
          "MOTT HALL HIGH SCHOOL",
          "COLUMBIA SECONDARY SCHOOL FOR MATH, SCIENCE, AND ENGINEERING",
          "ACADEMY FOR SOCIAL ACTION: A COLLEGE BOARD SCHOOL",
          "URBAN ASSEMBLY SCHOOL FOR THE PERFORMING ARTS",
          "FREDERICK DOUGLASS ACADEMY",
          "THURGOOD MARSHALL ACADEMY FOR LEARNING AND SOCIAL CHANGE",
          "HIGH SCHOOL FOR MATHEMATICS, SCIENCE AND ENGINEERING AT CITY COLLEGE",
          "CITY COLLEGE ACADEMY OF THE ARTS",
          "COMMUNITY HEALTH ACADEMY OF THE HEIGHTS",
          "WASHINGTON HEIGHTS EXPEDITIONARY LEARNING SCHOOL",
          "HIGH SCHOOL FOR EXCELLENCE AND INNOVATION",
          "HIGH SCHOOL FOR INTERNATIONAL BUSINESS AND FINANCE",
          "HIGH SCHOOL FOR MEDIA AND COMMUNICATIONS",
          "HIGH SCHOOL FOR LAW AND PUBLIC SERVICE",
          "HIGH SCHOOL FOR HEALTH CAREERS AND SCIENCES",
          "A. PHILIP RANDOLPH CAMPUS HIGH SCHOOL",
          "GREGORIO LUPERON HIGH SCHOOL FOR SCIENCE AND MATHEMATICS"
         ],
         "textfont": {
          "color": "#4D5663"
         },
         "type": "scatter",
         "x": [
          53.8,
          45.9,
          55.4,
          56.9,
          14.2,
          18.2,
          59.2,
          47.6,
          60.6,
          66.1,
          42,
          59.2,
          73.2,
          50.6,
          55.7,
          48.4,
          45.1,
          43,
          58.7,
          57.2,
          32.8,
          57.2,
          23.7,
          14.6,
          14,
          39.9,
          11.6,
          21.7,
          74.8,
          49.7,
          54.2,
          84.6,
          62.4,
          43.2,
          71.8,
          59,
          36.9,
          2.4,
          43.5,
          55.3,
          39.3,
          46.6,
          69.9,
          42.4,
          99.8,
          62.2,
          4,
          49.3,
          59.3,
          52.3,
          57.8,
          60.5,
          51,
          64.3,
          58.9,
          56,
          76,
          62.6,
          38.8,
          37,
          22.8,
          16.6,
          48.1,
          57.2,
          41.5,
          18.9,
          58.7,
          57.4,
          59.6,
          64.5,
          60.1,
          60.1,
          69.4,
          63.8,
          48.5,
          38.1,
          38.2,
          22.8,
          20.9,
          21.2,
          92,
          93.8,
          96.7,
          72.5,
          91.4,
          87.1,
          84.4,
          83.8,
          62.3,
          99.8
         ],
         "y": [
          1122,
          1172,
          1149,
          1207,
          1621,
          1856,
          1182,
          1194,
          1156,
          1111,
          1293,
          1269,
          1051,
          1148,
          1200,
          1127,
          1176,
          1435,
          1223.4388059701494,
          1223.4388059701494,
          1223.4388059701494,
          1419,
          1522,
          1577,
          1677,
          1419,
          1758,
          1614,
          1170,
          1306,
          1233,
          1223.4388059701494,
          1223.4388059701494,
          1223.4388059701494,
          1372,
          1199,
          1227,
          2096,
          1374,
          1070,
          1416,
          1240,
          1239,
          1253,
          1058,
          1168,
          1424,
          1212,
          1195,
          1257,
          1255,
          1207,
          1315,
          1236,
          1132,
          1144,
          1223.4388059701494,
          1223.4388059701494,
          1109,
          1223.4388059701494,
          1744,
          1707,
          1196,
          1277,
          1446,
          1096,
          1084,
          1430,
          1128,
          1221,
          1326,
          1326,
          1054,
          1210,
          1223.4388059701494,
          1062,
          1077,
          1374,
          1202,
          1847,
          1270,
          1105,
          1174,
          1223.4388059701494,
          1127,
          1098,
          1102,
          1224,
          1309,
          1014
         ]
        },
        {
         "marker": {
          "color": "rgba(55, 128, 191, 1.0)",
          "line": {
           "width": 1.3
          },
          "opacity": 0.8,
          "size": 12,
          "symbol": "circle"
         },
         "mode": "markers",
         "name": "Bronx",
         "text": [
          "SOUTH BRONX PREPARATORY: A COLLEGE BOARD SCHOOL",
          "INTERNATIONAL COMMUNITY HIGH SCHOOL",
          "COMMUNITY SCHOOL FOR SOCIAL JUSTICE",
          "MOTT HAVEN VILLAGE PREPARATORY HIGH SCHOOL",
          "UNIVERSITY HEIGHTS SECONDARY SCHOOL",
          "HOSTOSsLINCOLN ACADEMY OF SCIENCE",
          "FOREIGN LANGUAGE ACADEMY OF GLOBAL STUDIES",
          "BRONX LEADERSHIP ACADEMY II HIGH SCHOOL",
          "NEW EXPLORERS HIGH SCHOOL",
          "URBAN ASSEMBLY SCHOOL FOR CAREERS IN SPORTS",
          "BRONX ACADEMY OF LETTERS",
          "ALFRED E. SMITH CAREER AND TECHNICAL EDUCATION HIGH SCHOOL",
          "HEALTH OPPORTUNITIES HIGH SCHOOL",
          "BRONX STUDIO SCHOOL FOR WRITERS AND ARTISTS",
          "WOMEN'S ACADEMY OF EXCELLENCE",
          "RENAISSANCE HIGH SCHOOL FOR MUSICAL THEATER & TECHNOLOGY",
          "PABLO NERUDA ACADEMY FOR ARCHITECTURE AND WORLD STUDIES",
          "MILLENNIUM ART ACADEMY",
          "HOLCOMBE L. RUCKER SCHOOL OF COMMUNITY RESEARCH",
          "ANTONIA PANTOJA PREPARATORY ACADEMY, A COLLEGE BOARD SCHOOL",
          "HERBERT H. LEHMAN HIGH SCHOOL",
          "BRONX BRIDGES HIGH SCHOOL",
          "FELISA RINCON DE GAUTIER INSTITUTE FOR LAW AND PUBLIC POLICY, THE",
          "BANANA KELLY HIGH SCHOOL",
          "BRONX EXPEDITIONARY LEARNING HIGH SCHOOL",
          "EAGLE ACADEMY FOR YOUNG MEN",
          "URBAN ASSEMBLY SCHOOL FOR APPLIED MATH AND SCIENCE, THE",
          "EXIMIUS COLLEGE PREPARATORY ACADEMY: A COLLEGE BOARD SCHOOL",
          "MOTT HALL BRONX HIGH SCHOOL",
          "BRONX CENTER FOR SCIENCE AND MATHEMATICS",
          "VALIDUS PREPARATORY ACADEMY: AN EXPEDITIONARY LEARNING SCHOOL",
          "LEADERSHIP INSTITUTE",
          "MORRIS ACADEMY FOR COLLABORATIVE STUDIES",
          "BRONX EARLY COLLEGE ACADEMY FOR TEACHING & LEARNING",
          "DREAMYARD PREPARATORY SCHOOL",
          "ACADEMY FOR LANGUAGE AND TECHNOLOGY",
          "BRONX INTERNATIONAL HIGH SCHOOL",
          "SCHOOL FOR EXCELLENCE",
          "BRONX HIGH SCHOOL OF BUSINESS",
          "BRONX HIGH SCHOOL FOR MEDICAL SCIENCE",
          "BRONX SCHOOL FOR LAW, GOVERNMENT AND JUSTICE",
          "FREDERICK DOUGLASS ACADEMY III SECONDARY SCHOOL",
          "BRONX LEADERSHIP ACADEMY HIGH SCHOOL",
          "HIGH SCHOOL FOR VIOLIN AND DANCE",
          "RIVERDALE / KINGSBRIDGE ACADEMY (MIDDLE SCHOOL / HIGH SCHOOL 141)",
          "BRONX ENGINEERING AND TECHNOLOGY ACADEMY",
          "THEATRE ARTS PRODUCTION COMPANY SCHOOL",
          "THE MARIE CURIE SCHOOL FOR MEDICINE, NURSING, AND HEALTH PROFESSIONS",
          "WEST BRONX ACADEMY FOR THE FUTURE",
          "KINGSBRIDGE INTERNATIONAL HIGH SCHOOL",
          "BRONX SCHOOL OF LAW AND FINANCE",
          "INTERNATIONAL SCHOOL FOR LIBERAL ARTS",
          "INsTECH ACADEMY (M.S. / HIGH SCHOOL 368)",
          "KNOWLEDGE AND POWER PREPARATORY ACADEMY INTERNATIONAL HIGH SCHOOL (KAPPA)",
          "HIGH SCHOOL FOR TEACHING AND THE PROFESSIONS",
          "BELMONT PREPARATORY HIGH SCHOOL",
          "FORDHAM HIGH SCHOOL FOR THE ARTS",
          "FORDHAM LEADERSHIP ACADEMY FOR BUSINESS AND TECHNOLOGY",
          "BRONX HIGH SCHOOL FOR LAW AND COMMUNITY SERVICE",
          "DEWITT CLINTON HIGH SCHOOL",
          "CELIA CRUZ BRONX HIGH SCHOOL OF MUSIC, THE",
          "BRONX HIGH SCHOOL OF SCIENCE",
          "MARBLE HILL HIGH SCHOOL FOR INTERNATIONAL STUDIES",
          "BRONX THEATRE HIGH SCHOOL",
          "DISCOVERY HIGH SCHOOL",
          "HIGH SCHOOL OF AMERICAN STUDIES AT LEHMAN COLLEGE",
          "BRONX HEALTH SCIENCES HIGH SCHOOL",
          "BRONX HIGH SCHOOL FOR WRITING AND COMMUNICATION ARTS",
          "BRONX LAB SCHOOL",
          "ACADEMY FOR SCHOLARSHIP AND ENTREPRENEURSHIP: A COLLEGE BOARD SCHOOL",
          "HIGH SCHOOL OF COMPUTERS AND TECHNOLOGY",
          "COLLEGIATE INSTITUTE FOR MATH AND SCIENCE",
          "BRONX ACADEMY OF HEALTH CAREERS",
          "ASTOR COLLEGIATE ACADEMY",
          "BRONX HIGH SCHOOL FOR THE VISUAL ARTS",
          "HARRY S TRUMAN HIGH SCHOOL",
          "NEW WORLD HIGH SCHOOL",
          "THE BRONXWOOD PREPARATORY ACADEMY",
          "PELHAM PREPARATORY ACADEMY",
          "HIGH SCHOOL FOR CONTEMPORARY ARTS",
          "BRONX AEROSPACE HIGH SCHOOL",
          "METROPOLITAN HIGH SCHOOL, THE",
          "EXPLORATIONS ACADEMY",
          "BRONX LATIN",
          "EAST BRONX ACADEMY FOR THE FUTURE",
          "PEACE AND DIVERSITY ACADEMY",
          "PAN AMERICAN INTERNATIONAL HIGH SCHOOL AT MONROE",
          "THE CINEMA SCHOOL",
          "BRONX CAREER AND COLLEGE PREPARATORY HIGH SCHOOL",
          "HIGH SCHOOL OF WORLD CULTURES",
          "FANNIE LOU HAMER FREEDOM HIGH SCHOOL",
          "WINGS ACADEMY",
          "MONROE ACADEMY FOR VISUAL ARTS & DESIGN"
         ],
         "textfont": {
          "color": "#4D5663"
         },
         "type": "scatter",
         "x": [
          68.8,
          71.8,
          65.5,
          76,
          78.1,
          72.7,
          68.8,
          56,
          68.1,
          70.4,
          64.3,
          61.5,
          56.9,
          74.8,
          46.4,
          63.8,
          69.9,
          64.3,
          56.8,
          66,
          60.6,
          83.2,
          76,
          65.4,
          69.3,
          33.8,
          63.4,
          58.1,
          73.7,
          68.7,
          63.8,
          63.5,
          73.1,
          64.5,
          69.9,
          99.4,
          72.2,
          64.5,
          59.9,
          57.8,
          66.2,
          41.4,
          57,
          62.5,
          53,
          64.2,
          69.7,
          57.4,
          69.5,
          84.7,
          65.2,
          99.8,
          81.9,
          59.9,
          70.4,
          65.6,
          61.5,
          67.8,
          64.6,
          59.6,
          69.5,
          7.2,
          57.9,
          69,
          75.6,
          18,
          36.3,
          47.6,
          57.3,
          32,
          59.5,
          46.8,
          41.2,
          46,
          62.3,
          43.8,
          70.4,
          37.3,
          49.7,
          59.9,
          72.6,
          72.9,
          65.5,
          73.2,
          68.3,
          53.7,
          99.8,
          65,
          59.8,
          84.6,
          68.8,
          42.2,
          77.5
         ],
         "y": [
          1090,
          945,
          1077,
          1097,
          1201,
          1257,
          1186,
          1103,
          1084,
          1181,
          1201,
          1158,
          1095,
          1223.4388059701494,
          1171,
          1158,
          1038,
          1164,
          1084,
          1223.4388059701494,
          1241,
          1223.4388059701494,
          1099,
          1131,
          1049,
          1134,
          1290,
          1169,
          1092,
          1396,
          1075,
          1081,
          1148,
          1223.4388059701494,
          1138,
          951,
          965,
          1074,
          1083,
          1221,
          1224,
          1121,
          1166,
          1039,
          1333,
          1150,
          1190,
          1157,
          1158,
          962,
          1182,
          934,
          1181,
          1180,
          1106,
          1222,
          1077,
          1119,
          1082,
          1255,
          1270,
          1969,
          1263,
          1064,
          1115,
          1920,
          1133,
          1147,
          1135,
          1141,
          1111,
          1348,
          1135,
          1169,
          1268,
          1151,
          1048,
          1112,
          1288,
          1126,
          1163,
          1055,
          1122,
          1251,
          1102,
          1155,
          970,
          1223.4388059701494,
          1223.4388059701494,
          939,
          1029,
          1114,
          1038
         ]
        },
        {
         "marker": {
          "color": "rgba(50, 171, 96, 1.0)",
          "line": {
           "width": 1.3
          },
          "opacity": 0.8,
          "size": 12,
          "symbol": "circle"
         },
         "mode": "markers",
         "name": "Brooklyn",
         "text": [
          "DR. SUSAN S. MCKINNEY SECONDARY SCHOOL OF THE ARTS",
          "URBAN ASSEMBLY HIGH SCHOOL OF MUSIC AND ART",
          "BROOKLYN COMMUNITY HIGH SCHOOL OF COMMUNICATION, ARTS AND MEDIA",
          "SCIENCE SKILLS CENTER HIGH SCHOOL FOR SCIENCE, TECHNOLOGY AND THE CREATIVE ARTS",
          "BROOKLYN TECHNICAL HIGH SCHOOL",
          "BROOKLYN INTERNATIONAL HIGH SCHOOL",
          "THE URBAN ASSEMBLY SCHOOL FOR LAW AND JUSTICE",
          "ACORN COMMUNITY HIGH SCHOOL",
          "URBAN ASSEMBLY INSTITUTE OF MATH AND SCIENCE FOR YOUNG WOMEN",
          "BEDFORD ACADEMY HIGH SCHOOL",
          "GEORGE WESTINGHOUSE CAREER AND TECHNICAL EDUCATION HIGH SCHOOL",
          "BENJAMIN BANNEKER ACADEMY",
          "CITY POLYTECHNIC HIGH SCHOOL OF ENGINEERING, ARCHITECTURE, AND TECHNOLOGY",
          "JUAN MOREL CAMPOS SECONDARY SCHOOL",
          "FOUNDATIONS ACADEMY",
          "BROOKLYN LATIN SCHOOL, THE",
          "GREEN SCHOOL: AN ACADEMY FOR ENVIRONMENTAL CAREERS",
          "PROGRESS HIGH SCHOOL FOR PROFESSIONAL CAREERS",
          "SCHOOL FOR LEGAL STUDIES",
          "THE HIGH SCHOOL FOR ENTERPRISE, BUSINESS AND TECHNOLOGY",
          "BROOKLYN PREPARATORY HIGH SCHOOL",
          "WILLIAMSBURG HIGH SCHOOL FOR ARCHITECTURE AND DESIGN",
          "WILLIAMSBURG PREPARATORY SCHOOL",
          "LYONS COMMUNITY SCHOOL",
          "AUTOMOTIVE HIGH SCHOOL",
          "FRANCES PERKINS ACADEMY",
          "EL PUENTE ACADEMY FOR PEACE AND JUSTICE",
          "BROOKLYN SCHOOL FOR GLOBAL STUDIES",
          "BROOKLYN SECONDARY SCHOOL FOR COLLABORATIVE STUDIES",
          "SECONDARY SCHOOL FOR LAW",
          "SECONDARY SCHOOL FOR JOURNALISM",
          "PARK SLOPE COLLEGIATE",
          "SCHOOL FOR INTERNATIONAL STUDIES",
          "COBBLE HILL SCHOOL OF AMERICAN STUDIES",
          "BROOKLYN HIGH SCHOOL OF THE ARTS",
          "SUNSET PARK HIGH SCHOOL",
          "FREDERICK DOUGLASS ACADEMY IV SECONDARY SCHOOL",
          "BOYS AND GIRLS HIGH SCHOOL",
          "BROOKLYN HIGH SCHOOL FOR LAW AND TECHNOLOGY",
          "THE BROOKLYN ACADEMY OF GLOBAL FINANCE",
          "ACADEMY FOR COLLEGE PREPARATION AND CAREER EXPLORATION: A COLLEGE BOARD SCHOOL",
          "ACADEMY OF HOSPITALITY AND TOURISM",
          "INTERNATIONAL HIGH SCHOOL AT PROSPECT HEIGHTS",
          "THE HIGH SCHOOL FOR GLOBAL CITIZENSHIP",
          "SCHOOL FOR HUMAN RIGHTS, THE",
          "SCHOOL FOR DEMOCRACY AND LEADERSHIP",
          "HIGH SCHOOL FOR YOUTH AND COMMUNITY DEVELOPMENT AT ERASMUS",
          "HIGH SCHOOL FOR SERVICE & LEARNING AT ERASMUS",
          "SCIENCE, TECHNOLOGY AND RESEARCH EARLY COLLEGE HIGH SCHOOL AT ERASMUS",
          "HIGH SCHOOL FOR PUBLIC SERVICE: HEROES OF TOMORROW",
          "BROOKLYN ACADEMY OF SCIENCE AND THE ENVIRONMENT",
          "BROOKLYN SCHOOL FOR MUSIC & THEATRE",
          "MEDGAR EVERS COLLEGE PREPARATORY SCHOOL",
          "CLARA BARTON HIGH SCHOOL",
          "IT TAKES A VILLAGE ACADEMY",
          "BROOKLYN GENERATION SCHOOL",
          "BROOKLYN THEATRE ARTS HIGH SCHOOL",
          "KURT HAHN EXPEDITIONARY LEARNING SCHOOL",
          "VICTORY COLLEGIATE HIGH SCHOOL",
          "ARTS & MEDIA PREPARATORY ACADEMY",
          "HIGH SCHOOL FOR INNOVATION IN ADVERTISING AND MEDIA",
          "CULTURAL ACADEMY FOR THE ARTS AND SCIENCES",
          "HIGH SCHOOL FOR MEDICAL PROFESSIONS",
          "ACADEMY FOR CONSERVATION AND THE ENVIRONMENT",
          "URBAN ACTION ACADEMY",
          "EAST NEW YORK FAMILY ACADEMY",
          "FDNY HIGH SCHOOL FOR FIRE AND LIFE SAFETY",
          "HIGH SCHOOL FOR CIVIL RIGHTS",
          "PERFORMING ARTS AND TECHNOLOGY HIGH SCHOOL",
          "WORLD ACADEMY FOR TOTAL COMMUNITY HEALTH HIGH SCHOOL",
          "MULTICULTURAL HIGH SCHOOL",
          "TRANSIT TECH CAREER AND TECHNICAL EDUCATION HIGH SCHOOL",
          "ACADEMY OF INNOVATIVE TECHNOLOGY",
          "BROOKLYN LAB SCHOOL",
          "CYPRESS HILLS COLLEGIATE PREPARATORY SCHOOL",
          "W. H. MAXWELL CAREER AND TECHNICAL EDUCATION HIGH SCHOOL",
          "THE SCHOOL FOR CLASSICS: AN ACADEMY OF THINKERS, WRITERS AND PERFORMERS",
          "NEW UTRECHT HIGH SCHOOL",
          "HIGH SCHOOL OF TELECOMMUNICATION ARTS AND TECHNOLOGY",
          "FORT HAMILTON HIGH SCHOOL",
          "FRANKLIN DELANO ROOSEVELT HIGH SCHOOL",
          "THE URBAN ASSEMBLY SCHOOL FOR CRIMINAL JUSTICE",
          "INTERNATIONAL HIGH SCHOOL AT LAFAYETTE",
          "RACHEL CARSON HIGH SCHOOL FOR COASTAL STUDIES",
          "HIGH SCHOOL OF SPORTS MANAGEMENT",
          "ABRAHAM LINCOLN HIGH SCHOOL",
          "KINGSBOROUGH EARLY COLLEGE SCHOOL",
          "EDWARD R. MURROW HIGH SCHOOL",
          "JOHN DEWEY HIGH SCHOOL",
          "LIFE ACADEMY HIGH SCHOOL FOR FILM AND MUSIC",
          "EXPEDITIONARY LEARNING SCHOOL FOR COMMUNITY LEADERS",
          "WILLIAM E. GRADY CAREER AND TECHNICAL EDUCATION HIGH SCHOOL",
          "BROOKLYN STUDIO SECONDARY SCHOOL",
          "MIDWOOD HIGH SCHOOL",
          "JAMES MADISON HIGH SCHOOL",
          "LEON M. GOLDSTEIN HIGH SCHOOL FOR THE SCIENCES",
          "BROOKLYN COLLEGE ACADEMY",
          "BROOKLYN COLLEGIATE: A COLLEGE BOARD SCHOOL",
          "FREDERICK DOUGLASS ACADEMY VII HIGH SCHOOL",
          "TEACHERS PREPARATORY HIGH SCHOOL",
          "ACADEMY FOR ENVIRONMENTAL LEADERSHIP",
          "EBC HIGH SCHOOL FOR PUBLIC SERVICE–BUSHWICK",
          "BUSHWICK SCHOOL FOR SOCIAL JUSTICE",
          "ACADEMY OF URBAN PLANNING",
          "ALL CITY LEADERSHIP SECONDARY SCHOOL",
          "BUSHWICK LEADERS HIGH SCHOOL FOR ACADEMIC EXCELLENCE"
         ],
         "textfont": {
          "color": "#4D5663"
         },
         "type": "scatter",
         "x": [
          24.6,
          22.7,
          17.1,
          12.2,
          7.9,
          28.6,
          17.1,
          12.2,
          11.7,
          7.1,
          15.3,
          8.8,
          26.3,
          80.6,
          29.8,
          17.9,
          46.9,
          65.4,
          39.3,
          55.4,
          37.7,
          57.2,
          61.5,
          54.6,
          30.2,
          31.2,
          87.6,
          39,
          48.1,
          29.6,
          43.2,
          51.8,
          38.9,
          21,
          19,
          80.8,
          14.1,
          7.8,
          24.9,
          20.8,
          6.7,
          12.9,
          27.9,
          7.3,
          8.3,
          8.4,
          9.1,
          9,
          9.4,
          12.2,
          14.2,
          15.3,
          2.8,
          5.8,
          4.5,
          8.5,
          12.8,
          8.8,
          5.8,
          9.6,
          10.6,
          11.4,
          12.4,
          12,
          10.5,
          30.3,
          23.4,
          22.2,
          17.4,
          14.2,
          99.8,
          23.2,
          50.2,
          65,
          73.2,
          25.4,
          34.7,
          28,
          54.1,
          30.2,
          27.3,
          21.9,
          21,
          25.8,
          23,
          20.1,
          22.7,
          17.6,
          19.1,
          29.9,
          41.2,
          14,
          23.1,
          11.7,
          14.5,
          10.8,
          12.4,
          8.3,
          10.4,
          13.1,
          77.1,
          88.1,
          68.7,
          70.4,
          79.5,
          77.3
         ],
         "y": [
          1074,
          1080,
          1114,
          1211,
          1833,
          981,
          1206,
          1116,
          1223.4388059701494,
          1312,
          1189,
          1391,
          1353,
          1085,
          1223.4388059701494,
          1740,
          1189,
          1114,
          1204,
          1215,
          1090,
          1112,
          1187,
          1103,
          1093,
          1122,
          1035,
          1111,
          1179,
          1203,
          1169,
          1175,
          1212,
          1185,
          1258,
          1223.4388059701494,
          1068,
          1097,
          1092,
          1223.4388059701494,
          1139,
          1045,
          913,
          1176,
          1088,
          1153,
          1027,
          1105,
          1360,
          1273,
          1143,
          1151,
          1436,
          1251,
          963,
          1145,
          1118,
          1092,
          1143,
          1080,
          1183,
          1169,
          1159,
          1111,
          1135,
          1242,
          1023,
          1054,
          1149,
          1106,
          887,
          1193,
          1096,
          1108,
          1129,
          1102,
          1157,
          1272,
          1323,
          1306,
          1244,
          1223.4388059701494,
          1026,
          1237,
          1164,
          1226,
          1223.4388059701494,
          1431,
          1262,
          1124,
          1079,
          1184,
          1313,
          1473,
          1350,
          1627,
          1352,
          1185,
          1091,
          1196,
          1098,
          1154,
          1035,
          1060,
          1315,
          1055
         ]
        },
        {
         "marker": {
          "color": "rgba(128, 0, 128, 1.0)",
          "line": {
           "width": 1.3
          },
          "opacity": 0.8,
          "size": 12,
          "symbol": "circle"
         },
         "mode": "markers",
         "name": "Queens",
         "text": [
          "ACADEMY OF FINANCE AND ENTERPRISE",
          "HIGH SCHOOL OF APPLIED COMMUNICATION",
          "CIVIC LEADERSHIP ACADEMY",
          "PAN AMERICAN INTERNATIONAL HIGH SCHOOL",
          "BARD HIGH SCHOOL EARLY COLLEGE II",
          "NEWTOWN HIGH SCHOOL",
          "GROVER CLEVELAND HIGH SCHOOL",
          "MIDDLE COLLEGE HIGH SCHOOL AT LAGUARDIA COMMUNITY COLLEGE",
          "INTERNATIONAL HIGH SCHOOL AT LAGUARDIA COMMUNITY COLLEGE",
          "HIGH SCHOOL FOR ARTS AND BUSINESS",
          "ROBERT F. WAGNER, JR. SECONDARY SCHOOL FOR ARTS AND TECHNOLOGY",
          "QUEENS VOCATIONAL AND TECHNICAL HIGH SCHOOL",
          "AVIATION CAREER & TECHNICAL EDUCATION HIGH SCHOOL",
          "QUEENS SCHOOL OF INQUIRY, THE",
          "FLUSHING INTERNATIONAL HIGH SCHOOL",
          "EASTsWEST SCHOOL OF INTERNATIONAL STUDIES",
          "WORLD JOURNALISM PREPARATORY: A COLLEGE BOARD SCHOOL",
          "JOHN BOWNE HIGH SCHOOL",
          "FLUSHING HIGH SCHOOL",
          "TOWNSEND HARRIS HIGH SCHOOL",
          "ROBERT F. KENNEDY COMMUNITY HIGH SCHOOL",
          "BENJAMIN N. CARDOZO HIGH SCHOOL",
          "FRANCIS LEWIS HIGH SCHOOL",
          "MARTIN VAN BUREN HIGH SCHOOL",
          "BAYSIDE HIGH SCHOOL",
          "QUEENS HIGH SCHOOL OF TEACHING, LIBERAL ARTS AND THE SCIENCES",
          "FREDERICK DOUGLASS ACADEMY VI HIGH SCHOOL",
          "CHANNEL VIEW SCHOOL FOR RESEARCH",
          "QUEENS HIGH SCHOOL FOR INFORMATION, RESEARCH, AND TECHNOLOGY",
          "ROBERT H. GODDARD HIGH SCHOOL OF COMMUNICATION ARTS AND TECHNOLOGY",
          "ACADEMY OF MEDICAL TECHNOLOGY: A COLLEGE BOARD SCHOOL",
          "SCHOLARS' ACADEMY",
          "AUGUST MARTIN HIGH SCHOOL",
          "RICHMOND HILL HIGH SCHOOL",
          "JOHN ADAMS HIGH SCHOOL",
          "HIGH SCHOOL FOR CONSTRUCTION TRADES, ENGINEERING AND ARCHITECTURE",
          "YORK EARLY COLLEGE ACADEMY",
          "QUEENS COLLEGIATE: A COLLEGE BOARD SCHOOL",
          "HILLSIDE ARTS & LETTERS ACADEMY",
          "FOREST HILLS HIGH SCHOOL",
          "HILLCREST HIGH SCHOOL",
          "THOMAS A. EDISON CAREER AND TECHNICAL EDUCATION HIGH SCHOOL",
          "QUEENS GATEWAY TO HEALTH SCIENCES SECONDARY SCHOOL",
          "QUEENS METROPOLITAN HIGH SCHOOL",
          "QUEENS HIGH SCHOOL FOR THE SCIENCES AT YORK COLLEGE",
          "HIGH SCHOOL FOR LAW ENFORCEMENT AND PUBLIC SAFETY",
          "YOUNG WOMEN'S LEADERSHIP SCHOOL, QUEENS",
          "QUEENS PREPARATORY ACADEMY",
          "PATHWAYS COLLEGE PREPARATORY SCHOOL: A COLLEGE BOARD SCHOOL",
          "EXCELSIOR PREPARATORY HIGH SCHOOL",
          "GEORGE WASHINGTON CARVER HIGH SCHOOL FOR THE SCIENCES",
          "PREPARATORY ACADEMY FOR WRITERS: A COLLEGE BOARD SCHOOL",
          "CAMBRIA HEIGHTS ACADEMY",
          "MATHEMATICS, SCIENCE RESEARCH AND TECHNOLOGY MAGNET HIGH SCHOOL",
          "HUMANITIES & ARTS MAGNET HIGH SCHOOL",
          "YOUNG WOMEN'S LEADERSHIP SCHOOL, ASTORIA",
          "ACADEMY FOR CAREERS IN TELEVISION AND FILM",
          "WILLIAM CULLEN BRYANT HIGH SCHOOL",
          "LONG ISLAND CITY HIGH SCHOOL",
          "FRANK SINATRA SCHOOL OF THE ARTS HIGH SCHOOL",
          "INFORMATION TECHNOLOGY HIGH SCHOOL",
          "NEWCOMERS HIGH SCHOOL",
          "ACADEMY OF AMERICAN STUDIES",
          "BACCALAUREATE SCHOOL FOR GLOBAL EDUCATION"
         ],
         "textfont": {
          "color": "#4D5663"
         },
         "type": "scatter",
         "x": [
          56.4,
          57.2,
          79.3,
          100,
          21.2,
          60.3,
          63.5,
          71.4,
          44,
          79.2,
          62.4,
          74.2,
          55.3,
          24.2,
          32.7,
          17.9,
          20.3,
          40.7,
          49.8,
          12.9,
          35.4,
          18.6,
          24.1,
          15.1,
          22.3,
          16.8,
          27,
          27.5,
          30,
          42.6,
          34.2,
          15.9,
          11.5,
          46.4,
          37.1,
          41.6,
          10.2,
          18.5,
          21,
          30.2,
          22.8,
          21.1,
          15.7,
          38.6,
          7.9,
          15.1,
          18.4,
          8.2,
          2.9,
          9.7,
          14.1,
          10.4,
          7.5,
          11.9,
          8.5,
          40.4,
          53.5,
          48.8,
          62.7,
          27.2,
          56.6,
          43.5,
          34.7,
          24.3
         ],
         "y": [
          1280,
          1219,
          1240,
          951,
          1663,
          1203,
          1211,
          1177,
          1064,
          1174,
          1330,
          1270,
          1364,
          1396,
          1049,
          1271,
          1441,
          1243,
          1216,
          1910,
          1330,
          1514,
          1474,
          1172,
          1449,
          1279,
          1145,
          1252,
          1156,
          1265,
          1094,
          1532,
          1108,
          1154,
          1192,
          1345,
          1223.4388059701494,
          1265,
          1223.4388059701494,
          1407,
          1194,
          1372,
          1538,
          1223.4388059701494,
          1868,
          1196,
          1316,
          1099,
          1173,
          1202,
          1287,
          1100,
          1223.4388059701494,
          1220,
          1151,
          1223.4388059701494,
          1255,
          1275,
          1218,
          1494,
          1239,
          1127,
          1470,
          1636
         ]
        },
        {
         "marker": {
          "color": "rgba(219, 64, 82, 1.0)",
          "line": {
           "width": 1.3
          },
          "opacity": 0.8,
          "size": 12,
          "symbol": "circle"
         },
         "mode": "markers",
         "name": "Staten Island",
         "text": [
          "CSI HIGH SCHOOL FOR INTERNATIONAL STUDIES",
          "GAYNOR MCCOWN EXPEDITIONARY LEARNING SCHOOL",
          "THE MICHAEL J. PETRIDES SCHOOL",
          "NEW DORP HIGH SCHOOL",
          "PORT RICHMOND HIGH SCHOOL",
          "CURTIS HIGH SCHOOL",
          "TOTTENVILLE HIGH SCHOOL",
          "SUSAN E. WAGNER HIGH SCHOOL",
          "RALPH R. MCKEE CAREER AND TECHNICAL EDUCATION HIGH SCHOOL",
          "STATEN ISLAND TECHNICAL HIGH SCHOOL"
         ],
         "textfont": {
          "color": "#4D5663"
         },
         "type": "scatter",
         "x": [
          17.9,
          17.6,
          16.9,
          27.3,
          37.6,
          31.9,
          9.9,
          24.1,
          33.2,
          5.3
         ],
         "y": [
          1353,
          1195,
          1426,
          1277,
          1279,
          1301,
          1418,
          1388,
          1235,
          1953
         ]
        }
       ],
       "layout": {
        "legend": {
         "bgcolor": "#F5F6F9",
         "font": {
          "color": "#4D5663"
         }
        },
        "paper_bgcolor": "#F5F6F9",
        "plot_bgcolor": "#F5F6F9",
        "shapes": [
         {
          "line": {
           "color": "#000000",
           "dash": "dash",
           "width": 1
          },
          "type": "line",
          "x0": 0,
          "x1": 1,
          "xref": "paper",
          "y0": 1223.4388059701494,
          "y1": 1223.4388059701494,
          "yref": "y"
         },
         {
          "line": {
           "color": "#000000",
           "dash": "dash",
           "width": 1
          },
          "type": "line",
          "x0": 44.068319559228655,
          "x1": 44.068319559228655,
          "xref": "x",
          "y0": 0,
          "y1": 1,
          "yref": "paper"
         }
        ],
        "title": "Share of hispanic students vs. SAT score by school <br> dashed lines: average of entire dataset",
        "titlefont": {
         "color": "#4D5663"
        },
        "xaxis": {
         "gridcolor": "#E1E5ED",
         "showgrid": true,
         "tickfont": {
          "color": "#4D5663"
         },
         "title": "Share hispanics, %",
         "titlefont": {
          "color": "#4D5663"
         },
         "zerolinecolor": "#E1E5ED"
        },
        "yaxis": {
         "gridcolor": "#E1E5ED",
         "showgrid": true,
         "tickfont": {
          "color": "#4D5663"
         },
         "title": "Avg. SAT score",
         "titlefont": {
          "color": "#4D5663"
         },
         "zerolinecolor": "#E1E5ED"
        }
       }
      },
      "text/html": [
       "<div>\n",
       "        \n",
       "        \n",
       "            <div id=\"b8dac7f8-e51f-4975-a992-739732340544\" class=\"plotly-graph-div\" style=\"height:525px; width:100%;\"></div>\n",
       "            <script type=\"text/javascript\">\n",
       "                require([\"plotly\"], function(Plotly) {\n",
       "                    window.PLOTLYENV=window.PLOTLYENV || {};\n",
       "                    window.PLOTLYENV.BASE_URL='https://plot.ly';\n",
       "                    \n",
       "                if (document.getElementById(\"b8dac7f8-e51f-4975-a992-739732340544\")) {\n",
       "                    Plotly.newPlot(\n",
       "                        'b8dac7f8-e51f-4975-a992-739732340544',\n",
       "                        [{\"marker\": {\"color\": \"rgba(255, 153, 51, 1.0)\", \"line\": {\"width\": 1.3}, \"opacity\": 0.8, \"size\": 12, \"symbol\": \"circle\"}, \"mode\": \"markers\", \"name\": \"Manhattan\", \"text\": [\"HENRY STREET SCHOOL FOR INTERNATIONAL STUDIES\", \"UNIVERSITY NEIGHBORHOOD HIGH SCHOOL\", \"EAST SIDE COMMUNITY SCHOOL\", \"MARTA VALLE HIGH SCHOOL\", \"NEW EXPLORATIONS INTO SCIENCE, TECHNOLOGY AND MATH HIGH SCHOOL\", \"BARD HIGH SCHOOL EARLY COLLEGE\", \"47 THE AMERICAN SIGN LANGUAGE AND ENGLISH SECONDARY SCHOOL\", \"FOOD AND FINANCE HIGH SCHOOL\", \"ESSEX STREET ACADEMY\", \"HIGH SCHOOL OF HOSPITALITY MANAGEMENT\", \"PACE HIGH SCHOOL\", \"URBAN ASSEMBLY SCHOOL OF DESIGN AND CONSTRUCTION, THE\", \"FACING HISTORY SCHOOL, THE\", \"URBAN ASSEMBLY ACADEMY OF GOVERNMENT AND LAW, THE\", \"LOWER MANHATTAN ARTS ACADEMY\", \"URBAN ASSEMBLY SCHOOL OF BUSINESS FOR YOUNG WOMEN, THE\", \"GRAMERCY ARTS HIGH SCHOOL\", \"NYC ISCHOOL\", \"MANHATTAN BUSINESS ACADEMY\", \"BUSINESS OF SPORTS SCHOOL\", \"THE HIGH SCHOOL FOR LANGUAGE AND DIPLOMACY\", \"HIGH SCHOOL FOR ENVIRONMENTAL STUDIES\", \"PROFESSIONAL PERFORMING ARTS HIGH SCHOOL\", \"BARUCH COLLEGE CAMPUS HIGH SCHOOL\", \"N.Y.C. LAB SCHOOL FOR COLLABORATIVE STUDIES\", \"N.Y.C. MUSEUM SCHOOL\", \"ELEANOR ROOSEVELT HIGH SCHOOL\", \"MILLENNIUM HIGH SCHOOL\", \"LANDMARK HIGH SCHOOL\", \"HIGH SCHOOL FOR HEALTH PROFESSIONS AND HUMAN SERVICES\", \"LEADERSHIP AND PUBLIC SERVICE HIGH SCHOOL\", \"MANHATTAN ACADEMY FOR ARTS & LANGUAGE\", \"HUDSON HIGH SCHOOL OF LEARNING TECHNOLOGIES\", \"INTERNATIONAL HIGH SCHOOL AT UNION SQUARE\", \"MANHATTAN VILLAGE ACADEMY\", \"VANGUARD HIGH SCHOOL\", \"MANHATTAN INTERNATIONAL HIGH SCHOOL\", \"STUYVESANT HIGH SCHOOL\", \"HIGH SCHOOL OF ECONOMICS AND FINANCE\", \"UNITY CENTER FOR URBAN TECHNOLOGIES\", \"TALENT UNLIMITED HIGH SCHOOL\", \"MURRY BERGTRAUM HIGH SCHOOL FOR BUSINESS CAREERS\", \"JACQUELINE KENNEDY ONASSIS HIGH SCHOOL\", \"REPERTORY COMPANY HIGH SCHOOL FOR THEATRE ARTS\", \"MANHATTAN BRIDGES HIGH SCHOOL\", \"NEW DESIGN HIGH SCHOOL\", \"HIGH SCHOOL FOR DUAL LANGUAGE AND ASIAN STUDIES\", \"THE URBAN ASSEMBLY NEW YORK HARBOR SCHOOL\", \"RICHARD R. GREEN HIGH SCHOOL OF TEACHING\", \"THE HIGH SCHOOL OF FASHION INDUSTRIES\", \"HUMANITIES PREPARATORY ACADEMY\", \"CHELSEA CAREER AND TECHNICAL EDUCATION HIGH SCHOOL\", \"ART AND DESIGN HIGH SCHOOL\", \"LIFE SCIENCES SECONDARY SCHOOL\", \"HIGH SCHOOL FOR ARTS, IMAGINATION AND INQUIRY\", \"URBAN ASSEMBLY SCHOOL FOR MEDIA STUDIES, THE\", \"THE URBAN ASSEMBLY SCHOOL FOR GREEN CAREERS\", \"THE GLOBAL LEARNING COLLABORATIVE\", \"WADLEIGH SECONDARY SCHOOL FOR THE PERFORMING & VISUAL ARTS\", \"FRANK MCCOURT HIGH SCHOOL\", \"BEACON HIGH SCHOOL\", \"FIORELLO H. LAGUARDIA HIGH SCHOOL OF MUSIC & ART AND PERFORMING ARTS\", \"HIGH SCHOOL FOR LAW, ADVOCACY AND COMMUNITY JUSTICE\", \"HIGH SCHOOL OF ARTS AND TECHNOLOGY\", \"MANHATTAN / HUNTER SCIENCE HIGH SCHOOL\", \"FREDERICK DOUGLASS ACADEMY II SECONDARY SCHOOL\", \"COALITION SCHOOL FOR SOCIAL CHANGE\", \"MANHATTAN CENTER FOR SCIENCE AND MATHEMATICS\", \"PARK EAST HIGH SCHOOL\", \"CENTRAL PARK EAST HIGH SCHOOL\", \"YOUNG WOMEN'S LEADERSHIP SCHOOL\", \"YOUNG WOMEN'S LEADERSHIP SCHOOL\", \"HERITAGE SCHOOL, THE\", \"MOTT HALL HIGH SCHOOL\", \"COLUMBIA SECONDARY SCHOOL FOR MATH, SCIENCE, AND ENGINEERING\", \"ACADEMY FOR SOCIAL ACTION: A COLLEGE BOARD SCHOOL\", \"URBAN ASSEMBLY SCHOOL FOR THE PERFORMING ARTS\", \"FREDERICK DOUGLASS ACADEMY\", \"THURGOOD MARSHALL ACADEMY FOR LEARNING AND SOCIAL CHANGE\", \"HIGH SCHOOL FOR MATHEMATICS, SCIENCE AND ENGINEERING AT CITY COLLEGE\", \"CITY COLLEGE ACADEMY OF THE ARTS\", \"COMMUNITY HEALTH ACADEMY OF THE HEIGHTS\", \"WASHINGTON HEIGHTS EXPEDITIONARY LEARNING SCHOOL\", \"HIGH SCHOOL FOR EXCELLENCE AND INNOVATION\", \"HIGH SCHOOL FOR INTERNATIONAL BUSINESS AND FINANCE\", \"HIGH SCHOOL FOR MEDIA AND COMMUNICATIONS\", \"HIGH SCHOOL FOR LAW AND PUBLIC SERVICE\", \"HIGH SCHOOL FOR HEALTH CAREERS AND SCIENCES\", \"A. PHILIP RANDOLPH CAMPUS HIGH SCHOOL\", \"GREGORIO LUPERON HIGH SCHOOL FOR SCIENCE AND MATHEMATICS\"], \"textfont\": {\"color\": \"#4D5663\"}, \"type\": \"scatter\", \"x\": [53.8, 45.9, 55.4, 56.9, 14.2, 18.2, 59.2, 47.6, 60.6, 66.1, 42.0, 59.2, 73.2, 50.6, 55.7, 48.4, 45.1, 43.0, 58.7, 57.2, 32.8, 57.2, 23.7, 14.6, 14.0, 39.9, 11.6, 21.7, 74.8, 49.7, 54.2, 84.6, 62.4, 43.2, 71.8, 59.0, 36.9, 2.4, 43.5, 55.3, 39.3, 46.6, 69.9, 42.4, 99.8, 62.2, 4.0, 49.3, 59.3, 52.3, 57.8, 60.5, 51.0, 64.3, 58.9, 56.0, 76.0, 62.6, 38.8, 37.0, 22.8, 16.6, 48.1, 57.2, 41.5, 18.9, 58.7, 57.4, 59.6, 64.5, 60.1, 60.1, 69.4, 63.8, 48.5, 38.1, 38.2, 22.8, 20.9, 21.2, 92.0, 93.8, 96.7, 72.5, 91.4, 87.1, 84.4, 83.8, 62.3, 99.8], \"y\": [1122.0, 1172.0, 1149.0, 1207.0, 1621.0, 1856.0, 1182.0, 1194.0, 1156.0, 1111.0, 1293.0, 1269.0, 1051.0, 1148.0, 1200.0, 1127.0, 1176.0, 1435.0, 1223.4388059701494, 1223.4388059701494, 1223.4388059701494, 1419.0, 1522.0, 1577.0, 1677.0, 1419.0, 1758.0, 1614.0, 1170.0, 1306.0, 1233.0, 1223.4388059701494, 1223.4388059701494, 1223.4388059701494, 1372.0, 1199.0, 1227.0, 2096.0, 1374.0, 1070.0, 1416.0, 1240.0, 1239.0, 1253.0, 1058.0, 1168.0, 1424.0, 1212.0, 1195.0, 1257.0, 1255.0, 1207.0, 1315.0, 1236.0, 1132.0, 1144.0, 1223.4388059701494, 1223.4388059701494, 1109.0, 1223.4388059701494, 1744.0, 1707.0, 1196.0, 1277.0, 1446.0, 1096.0, 1084.0, 1430.0, 1128.0, 1221.0, 1326.0, 1326.0, 1054.0, 1210.0, 1223.4388059701494, 1062.0, 1077.0, 1374.0, 1202.0, 1847.0, 1270.0, 1105.0, 1174.0, 1223.4388059701494, 1127.0, 1098.0, 1102.0, 1224.0, 1309.0, 1014.0]}, {\"marker\": {\"color\": \"rgba(55, 128, 191, 1.0)\", \"line\": {\"width\": 1.3}, \"opacity\": 0.8, \"size\": 12, \"symbol\": \"circle\"}, \"mode\": \"markers\", \"name\": \"Bronx\", \"text\": [\"SOUTH BRONX PREPARATORY: A COLLEGE BOARD SCHOOL\", \"INTERNATIONAL COMMUNITY HIGH SCHOOL\", \"COMMUNITY SCHOOL FOR SOCIAL JUSTICE\", \"MOTT HAVEN VILLAGE PREPARATORY HIGH SCHOOL\", \"UNIVERSITY HEIGHTS SECONDARY SCHOOL\", \"HOSTOSsLINCOLN ACADEMY OF SCIENCE\", \"FOREIGN LANGUAGE ACADEMY OF GLOBAL STUDIES\", \"BRONX LEADERSHIP ACADEMY II HIGH SCHOOL\", \"NEW EXPLORERS HIGH SCHOOL\", \"URBAN ASSEMBLY SCHOOL FOR CAREERS IN SPORTS\", \"BRONX ACADEMY OF LETTERS\", \"ALFRED E. SMITH CAREER AND TECHNICAL EDUCATION HIGH SCHOOL\", \"HEALTH OPPORTUNITIES HIGH SCHOOL\", \"BRONX STUDIO SCHOOL FOR WRITERS AND ARTISTS\", \"WOMEN'S ACADEMY OF EXCELLENCE\", \"RENAISSANCE HIGH SCHOOL FOR MUSICAL THEATER & TECHNOLOGY\", \"PABLO NERUDA ACADEMY FOR ARCHITECTURE AND WORLD STUDIES\", \"MILLENNIUM ART ACADEMY\", \"HOLCOMBE L. RUCKER SCHOOL OF COMMUNITY RESEARCH\", \"ANTONIA PANTOJA PREPARATORY ACADEMY, A COLLEGE BOARD SCHOOL\", \"HERBERT H. LEHMAN HIGH SCHOOL\", \"BRONX BRIDGES HIGH SCHOOL\", \"FELISA RINCON DE GAUTIER INSTITUTE FOR LAW AND PUBLIC POLICY, THE\", \"BANANA KELLY HIGH SCHOOL\", \"BRONX EXPEDITIONARY LEARNING HIGH SCHOOL\", \"EAGLE ACADEMY FOR YOUNG MEN\", \"URBAN ASSEMBLY SCHOOL FOR APPLIED MATH AND SCIENCE, THE\", \"EXIMIUS COLLEGE PREPARATORY ACADEMY: A COLLEGE BOARD SCHOOL\", \"MOTT HALL BRONX HIGH SCHOOL\", \"BRONX CENTER FOR SCIENCE AND MATHEMATICS\", \"VALIDUS PREPARATORY ACADEMY: AN EXPEDITIONARY LEARNING SCHOOL\", \"LEADERSHIP INSTITUTE\", \"MORRIS ACADEMY FOR COLLABORATIVE STUDIES\", \"BRONX EARLY COLLEGE ACADEMY FOR TEACHING & LEARNING\", \"DREAMYARD PREPARATORY SCHOOL\", \"ACADEMY FOR LANGUAGE AND TECHNOLOGY\", \"BRONX INTERNATIONAL HIGH SCHOOL\", \"SCHOOL FOR EXCELLENCE\", \"BRONX HIGH SCHOOL OF BUSINESS\", \"BRONX HIGH SCHOOL FOR MEDICAL SCIENCE\", \"BRONX SCHOOL FOR LAW, GOVERNMENT AND JUSTICE\", \"FREDERICK DOUGLASS ACADEMY III SECONDARY SCHOOL\", \"BRONX LEADERSHIP ACADEMY HIGH SCHOOL\", \"HIGH SCHOOL FOR VIOLIN AND DANCE\", \"RIVERDALE / KINGSBRIDGE ACADEMY (MIDDLE SCHOOL / HIGH SCHOOL 141)\", \"BRONX ENGINEERING AND TECHNOLOGY ACADEMY\", \"THEATRE ARTS PRODUCTION COMPANY SCHOOL\", \"THE MARIE CURIE SCHOOL FOR MEDICINE, NURSING, AND HEALTH PROFESSIONS\", \"WEST BRONX ACADEMY FOR THE FUTURE\", \"KINGSBRIDGE INTERNATIONAL HIGH SCHOOL\", \"BRONX SCHOOL OF LAW AND FINANCE\", \"INTERNATIONAL SCHOOL FOR LIBERAL ARTS\", \"INsTECH ACADEMY (M.S. / HIGH SCHOOL 368)\", \"KNOWLEDGE AND POWER PREPARATORY ACADEMY INTERNATIONAL HIGH SCHOOL (KAPPA)\", \"HIGH SCHOOL FOR TEACHING AND THE PROFESSIONS\", \"BELMONT PREPARATORY HIGH SCHOOL\", \"FORDHAM HIGH SCHOOL FOR THE ARTS\", \"FORDHAM LEADERSHIP ACADEMY FOR BUSINESS AND TECHNOLOGY\", \"BRONX HIGH SCHOOL FOR LAW AND COMMUNITY SERVICE\", \"DEWITT CLINTON HIGH SCHOOL\", \"CELIA CRUZ BRONX HIGH SCHOOL OF MUSIC, THE\", \"BRONX HIGH SCHOOL OF SCIENCE\", \"MARBLE HILL HIGH SCHOOL FOR INTERNATIONAL STUDIES\", \"BRONX THEATRE HIGH SCHOOL\", \"DISCOVERY HIGH SCHOOL\", \"HIGH SCHOOL OF AMERICAN STUDIES AT LEHMAN COLLEGE\", \"BRONX HEALTH SCIENCES HIGH SCHOOL\", \"BRONX HIGH SCHOOL FOR WRITING AND COMMUNICATION ARTS\", \"BRONX LAB SCHOOL\", \"ACADEMY FOR SCHOLARSHIP AND ENTREPRENEURSHIP: A COLLEGE BOARD SCHOOL\", \"HIGH SCHOOL OF COMPUTERS AND TECHNOLOGY\", \"COLLEGIATE INSTITUTE FOR MATH AND SCIENCE\", \"BRONX ACADEMY OF HEALTH CAREERS\", \"ASTOR COLLEGIATE ACADEMY\", \"BRONX HIGH SCHOOL FOR THE VISUAL ARTS\", \"HARRY S TRUMAN HIGH SCHOOL\", \"NEW WORLD HIGH SCHOOL\", \"THE BRONXWOOD PREPARATORY ACADEMY\", \"PELHAM PREPARATORY ACADEMY\", \"HIGH SCHOOL FOR CONTEMPORARY ARTS\", \"BRONX AEROSPACE HIGH SCHOOL\", \"METROPOLITAN HIGH SCHOOL, THE\", \"EXPLORATIONS ACADEMY\", \"BRONX LATIN\", \"EAST BRONX ACADEMY FOR THE FUTURE\", \"PEACE AND DIVERSITY ACADEMY\", \"PAN AMERICAN INTERNATIONAL HIGH SCHOOL AT MONROE\", \"THE CINEMA SCHOOL\", \"BRONX CAREER AND COLLEGE PREPARATORY HIGH SCHOOL\", \"HIGH SCHOOL OF WORLD CULTURES\", \"FANNIE LOU HAMER FREEDOM HIGH SCHOOL\", \"WINGS ACADEMY\", \"MONROE ACADEMY FOR VISUAL ARTS & DESIGN\"], \"textfont\": {\"color\": \"#4D5663\"}, \"type\": \"scatter\", \"x\": [68.8, 71.8, 65.5, 76.0, 78.1, 72.7, 68.8, 56.0, 68.1, 70.4, 64.3, 61.5, 56.9, 74.8, 46.4, 63.8, 69.9, 64.3, 56.8, 66.0, 60.6, 83.2, 76.0, 65.4, 69.3, 33.8, 63.4, 58.1, 73.7, 68.7, 63.8, 63.5, 73.1, 64.5, 69.9, 99.4, 72.2, 64.5, 59.9, 57.8, 66.2, 41.4, 57.0, 62.5, 53.0, 64.2, 69.7, 57.4, 69.5, 84.7, 65.2, 99.8, 81.9, 59.9, 70.4, 65.6, 61.5, 67.8, 64.6, 59.6, 69.5, 7.2, 57.9, 69.0, 75.6, 18.0, 36.3, 47.6, 57.3, 32.0, 59.5, 46.8, 41.2, 46.0, 62.3, 43.8, 70.4, 37.3, 49.7, 59.9, 72.6, 72.9, 65.5, 73.2, 68.3, 53.7, 99.8, 65.0, 59.8, 84.6, 68.8, 42.2, 77.5], \"y\": [1090.0, 945.0, 1077.0, 1097.0, 1201.0, 1257.0, 1186.0, 1103.0, 1084.0, 1181.0, 1201.0, 1158.0, 1095.0, 1223.4388059701494, 1171.0, 1158.0, 1038.0, 1164.0, 1084.0, 1223.4388059701494, 1241.0, 1223.4388059701494, 1099.0, 1131.0, 1049.0, 1134.0, 1290.0, 1169.0, 1092.0, 1396.0, 1075.0, 1081.0, 1148.0, 1223.4388059701494, 1138.0, 951.0, 965.0, 1074.0, 1083.0, 1221.0, 1224.0, 1121.0, 1166.0, 1039.0, 1333.0, 1150.0, 1190.0, 1157.0, 1158.0, 962.0, 1182.0, 934.0, 1181.0, 1180.0, 1106.0, 1222.0, 1077.0, 1119.0, 1082.0, 1255.0, 1270.0, 1969.0, 1263.0, 1064.0, 1115.0, 1920.0, 1133.0, 1147.0, 1135.0, 1141.0, 1111.0, 1348.0, 1135.0, 1169.0, 1268.0, 1151.0, 1048.0, 1112.0, 1288.0, 1126.0, 1163.0, 1055.0, 1122.0, 1251.0, 1102.0, 1155.0, 970.0, 1223.4388059701494, 1223.4388059701494, 939.0, 1029.0, 1114.0, 1038.0]}, {\"marker\": {\"color\": \"rgba(50, 171, 96, 1.0)\", \"line\": {\"width\": 1.3}, \"opacity\": 0.8, \"size\": 12, \"symbol\": \"circle\"}, \"mode\": \"markers\", \"name\": \"Brooklyn\", \"text\": [\"DR. SUSAN S. MCKINNEY SECONDARY SCHOOL OF THE ARTS\", \"URBAN ASSEMBLY HIGH SCHOOL OF MUSIC AND ART\", \"BROOKLYN COMMUNITY HIGH SCHOOL OF COMMUNICATION, ARTS AND MEDIA\", \"SCIENCE SKILLS CENTER HIGH SCHOOL FOR SCIENCE, TECHNOLOGY AND THE CREATIVE ARTS\", \"BROOKLYN TECHNICAL HIGH SCHOOL\", \"BROOKLYN INTERNATIONAL HIGH SCHOOL\", \"THE URBAN ASSEMBLY SCHOOL FOR LAW AND JUSTICE\", \"ACORN COMMUNITY HIGH SCHOOL\", \"URBAN ASSEMBLY INSTITUTE OF MATH AND SCIENCE FOR YOUNG WOMEN\", \"BEDFORD ACADEMY HIGH SCHOOL\", \"GEORGE WESTINGHOUSE CAREER AND TECHNICAL EDUCATION HIGH SCHOOL\", \"BENJAMIN BANNEKER ACADEMY\", \"CITY POLYTECHNIC HIGH SCHOOL OF ENGINEERING, ARCHITECTURE, AND TECHNOLOGY\", \"JUAN MOREL CAMPOS SECONDARY SCHOOL\", \"FOUNDATIONS ACADEMY\", \"BROOKLYN LATIN SCHOOL, THE\", \"GREEN SCHOOL: AN ACADEMY FOR ENVIRONMENTAL CAREERS\", \"PROGRESS HIGH SCHOOL FOR PROFESSIONAL CAREERS\", \"SCHOOL FOR LEGAL STUDIES\", \"THE HIGH SCHOOL FOR ENTERPRISE, BUSINESS AND TECHNOLOGY\", \"BROOKLYN PREPARATORY HIGH SCHOOL\", \"WILLIAMSBURG HIGH SCHOOL FOR ARCHITECTURE AND DESIGN\", \"WILLIAMSBURG PREPARATORY SCHOOL\", \"LYONS COMMUNITY SCHOOL\", \"AUTOMOTIVE HIGH SCHOOL\", \"FRANCES PERKINS ACADEMY\", \"EL PUENTE ACADEMY FOR PEACE AND JUSTICE\", \"BROOKLYN SCHOOL FOR GLOBAL STUDIES\", \"BROOKLYN SECONDARY SCHOOL FOR COLLABORATIVE STUDIES\", \"SECONDARY SCHOOL FOR LAW\", \"SECONDARY SCHOOL FOR JOURNALISM\", \"PARK SLOPE COLLEGIATE\", \"SCHOOL FOR INTERNATIONAL STUDIES\", \"COBBLE HILL SCHOOL OF AMERICAN STUDIES\", \"BROOKLYN HIGH SCHOOL OF THE ARTS\", \"SUNSET PARK HIGH SCHOOL\", \"FREDERICK DOUGLASS ACADEMY IV SECONDARY SCHOOL\", \"BOYS AND GIRLS HIGH SCHOOL\", \"BROOKLYN HIGH SCHOOL FOR LAW AND TECHNOLOGY\", \"THE BROOKLYN ACADEMY OF GLOBAL FINANCE\", \"ACADEMY FOR COLLEGE PREPARATION AND CAREER EXPLORATION: A COLLEGE BOARD SCHOOL\", \"ACADEMY OF HOSPITALITY AND TOURISM\", \"INTERNATIONAL HIGH SCHOOL AT PROSPECT HEIGHTS\", \"THE HIGH SCHOOL FOR GLOBAL CITIZENSHIP\", \"SCHOOL FOR HUMAN RIGHTS, THE\", \"SCHOOL FOR DEMOCRACY AND LEADERSHIP\", \"HIGH SCHOOL FOR YOUTH AND COMMUNITY DEVELOPMENT AT ERASMUS\", \"HIGH SCHOOL FOR SERVICE & LEARNING AT ERASMUS\", \"SCIENCE, TECHNOLOGY AND RESEARCH EARLY COLLEGE HIGH SCHOOL AT ERASMUS\", \"HIGH SCHOOL FOR PUBLIC SERVICE: HEROES OF TOMORROW\", \"BROOKLYN ACADEMY OF SCIENCE AND THE ENVIRONMENT\", \"BROOKLYN SCHOOL FOR MUSIC & THEATRE\", \"MEDGAR EVERS COLLEGE PREPARATORY SCHOOL\", \"CLARA BARTON HIGH SCHOOL\", \"IT TAKES A VILLAGE ACADEMY\", \"BROOKLYN GENERATION SCHOOL\", \"BROOKLYN THEATRE ARTS HIGH SCHOOL\", \"KURT HAHN EXPEDITIONARY LEARNING SCHOOL\", \"VICTORY COLLEGIATE HIGH SCHOOL\", \"ARTS & MEDIA PREPARATORY ACADEMY\", \"HIGH SCHOOL FOR INNOVATION IN ADVERTISING AND MEDIA\", \"CULTURAL ACADEMY FOR THE ARTS AND SCIENCES\", \"HIGH SCHOOL FOR MEDICAL PROFESSIONS\", \"ACADEMY FOR CONSERVATION AND THE ENVIRONMENT\", \"URBAN ACTION ACADEMY\", \"EAST NEW YORK FAMILY ACADEMY\", \"FDNY HIGH SCHOOL FOR FIRE AND LIFE SAFETY\", \"HIGH SCHOOL FOR CIVIL RIGHTS\", \"PERFORMING ARTS AND TECHNOLOGY HIGH SCHOOL\", \"WORLD ACADEMY FOR TOTAL COMMUNITY HEALTH HIGH SCHOOL\", \"MULTICULTURAL HIGH SCHOOL\", \"TRANSIT TECH CAREER AND TECHNICAL EDUCATION HIGH SCHOOL\", \"ACADEMY OF INNOVATIVE TECHNOLOGY\", \"BROOKLYN LAB SCHOOL\", \"CYPRESS HILLS COLLEGIATE PREPARATORY SCHOOL\", \"W. H. MAXWELL CAREER AND TECHNICAL EDUCATION HIGH SCHOOL\", \"THE SCHOOL FOR CLASSICS: AN ACADEMY OF THINKERS, WRITERS AND PERFORMERS\", \"NEW UTRECHT HIGH SCHOOL\", \"HIGH SCHOOL OF TELECOMMUNICATION ARTS AND TECHNOLOGY\", \"FORT HAMILTON HIGH SCHOOL\", \"FRANKLIN DELANO ROOSEVELT HIGH SCHOOL\", \"THE URBAN ASSEMBLY SCHOOL FOR CRIMINAL JUSTICE\", \"INTERNATIONAL HIGH SCHOOL AT LAFAYETTE\", \"RACHEL CARSON HIGH SCHOOL FOR COASTAL STUDIES\", \"HIGH SCHOOL OF SPORTS MANAGEMENT\", \"ABRAHAM LINCOLN HIGH SCHOOL\", \"KINGSBOROUGH EARLY COLLEGE SCHOOL\", \"EDWARD R. MURROW HIGH SCHOOL\", \"JOHN DEWEY HIGH SCHOOL\", \"LIFE ACADEMY HIGH SCHOOL FOR FILM AND MUSIC\", \"EXPEDITIONARY LEARNING SCHOOL FOR COMMUNITY LEADERS\", \"WILLIAM E. GRADY CAREER AND TECHNICAL EDUCATION HIGH SCHOOL\", \"BROOKLYN STUDIO SECONDARY SCHOOL\", \"MIDWOOD HIGH SCHOOL\", \"JAMES MADISON HIGH SCHOOL\", \"LEON M. GOLDSTEIN HIGH SCHOOL FOR THE SCIENCES\", \"BROOKLYN COLLEGE ACADEMY\", \"BROOKLYN COLLEGIATE: A COLLEGE BOARD SCHOOL\", \"FREDERICK DOUGLASS ACADEMY VII HIGH SCHOOL\", \"TEACHERS PREPARATORY HIGH SCHOOL\", \"ACADEMY FOR ENVIRONMENTAL LEADERSHIP\", \"EBC HIGH SCHOOL FOR PUBLIC SERVICE\\u2013BUSHWICK\", \"BUSHWICK SCHOOL FOR SOCIAL JUSTICE\", \"ACADEMY OF URBAN PLANNING\", \"ALL CITY LEADERSHIP SECONDARY SCHOOL\", \"BUSHWICK LEADERS HIGH SCHOOL FOR ACADEMIC EXCELLENCE\"], \"textfont\": {\"color\": \"#4D5663\"}, \"type\": \"scatter\", \"x\": [24.6, 22.7, 17.1, 12.2, 7.9, 28.6, 17.1, 12.2, 11.7, 7.1, 15.3, 8.8, 26.3, 80.6, 29.8, 17.9, 46.9, 65.4, 39.3, 55.4, 37.7, 57.2, 61.5, 54.6, 30.2, 31.2, 87.6, 39.0, 48.1, 29.6, 43.2, 51.8, 38.9, 21.0, 19.0, 80.8, 14.1, 7.8, 24.9, 20.8, 6.7, 12.9, 27.9, 7.3, 8.3, 8.4, 9.1, 9.0, 9.4, 12.2, 14.2, 15.3, 2.8, 5.8, 4.5, 8.5, 12.8, 8.8, 5.8, 9.6, 10.6, 11.4, 12.4, 12.0, 10.5, 30.3, 23.4, 22.2, 17.4, 14.2, 99.8, 23.2, 50.2, 65.0, 73.2, 25.4, 34.7, 28.0, 54.1, 30.2, 27.3, 21.9, 21.0, 25.8, 23.0, 20.1, 22.7, 17.6, 19.1, 29.9, 41.2, 14.0, 23.1, 11.7, 14.5, 10.8, 12.4, 8.3, 10.4, 13.1, 77.1, 88.1, 68.7, 70.4, 79.5, 77.3], \"y\": [1074.0, 1080.0, 1114.0, 1211.0, 1833.0, 981.0, 1206.0, 1116.0, 1223.4388059701494, 1312.0, 1189.0, 1391.0, 1353.0, 1085.0, 1223.4388059701494, 1740.0, 1189.0, 1114.0, 1204.0, 1215.0, 1090.0, 1112.0, 1187.0, 1103.0, 1093.0, 1122.0, 1035.0, 1111.0, 1179.0, 1203.0, 1169.0, 1175.0, 1212.0, 1185.0, 1258.0, 1223.4388059701494, 1068.0, 1097.0, 1092.0, 1223.4388059701494, 1139.0, 1045.0, 913.0, 1176.0, 1088.0, 1153.0, 1027.0, 1105.0, 1360.0, 1273.0, 1143.0, 1151.0, 1436.0, 1251.0, 963.0, 1145.0, 1118.0, 1092.0, 1143.0, 1080.0, 1183.0, 1169.0, 1159.0, 1111.0, 1135.0, 1242.0, 1023.0, 1054.0, 1149.0, 1106.0, 887.0, 1193.0, 1096.0, 1108.0, 1129.0, 1102.0, 1157.0, 1272.0, 1323.0, 1306.0, 1244.0, 1223.4388059701494, 1026.0, 1237.0, 1164.0, 1226.0, 1223.4388059701494, 1431.0, 1262.0, 1124.0, 1079.0, 1184.0, 1313.0, 1473.0, 1350.0, 1627.0, 1352.0, 1185.0, 1091.0, 1196.0, 1098.0, 1154.0, 1035.0, 1060.0, 1315.0, 1055.0]}, {\"marker\": {\"color\": \"rgba(128, 0, 128, 1.0)\", \"line\": {\"width\": 1.3}, \"opacity\": 0.8, \"size\": 12, \"symbol\": \"circle\"}, \"mode\": \"markers\", \"name\": \"Queens\", \"text\": [\"ACADEMY OF FINANCE AND ENTERPRISE\", \"HIGH SCHOOL OF APPLIED COMMUNICATION\", \"CIVIC LEADERSHIP ACADEMY\", \"PAN AMERICAN INTERNATIONAL HIGH SCHOOL\", \"BARD HIGH SCHOOL EARLY COLLEGE II\", \"NEWTOWN HIGH SCHOOL\", \"GROVER CLEVELAND HIGH SCHOOL\", \"MIDDLE COLLEGE HIGH SCHOOL AT LAGUARDIA COMMUNITY COLLEGE\", \"INTERNATIONAL HIGH SCHOOL AT LAGUARDIA COMMUNITY COLLEGE\", \"HIGH SCHOOL FOR ARTS AND BUSINESS\", \"ROBERT F. WAGNER, JR. SECONDARY SCHOOL FOR ARTS AND TECHNOLOGY\", \"QUEENS VOCATIONAL AND TECHNICAL HIGH SCHOOL\", \"AVIATION CAREER & TECHNICAL EDUCATION HIGH SCHOOL\", \"QUEENS SCHOOL OF INQUIRY, THE\", \"FLUSHING INTERNATIONAL HIGH SCHOOL\", \"EASTsWEST SCHOOL OF INTERNATIONAL STUDIES\", \"WORLD JOURNALISM PREPARATORY: A COLLEGE BOARD SCHOOL\", \"JOHN BOWNE HIGH SCHOOL\", \"FLUSHING HIGH SCHOOL\", \"TOWNSEND HARRIS HIGH SCHOOL\", \"ROBERT F. KENNEDY COMMUNITY HIGH SCHOOL\", \"BENJAMIN N. CARDOZO HIGH SCHOOL\", \"FRANCIS LEWIS HIGH SCHOOL\", \"MARTIN VAN BUREN HIGH SCHOOL\", \"BAYSIDE HIGH SCHOOL\", \"QUEENS HIGH SCHOOL OF TEACHING, LIBERAL ARTS AND THE SCIENCES\", \"FREDERICK DOUGLASS ACADEMY VI HIGH SCHOOL\", \"CHANNEL VIEW SCHOOL FOR RESEARCH\", \"QUEENS HIGH SCHOOL FOR INFORMATION, RESEARCH, AND TECHNOLOGY\", \"ROBERT H. GODDARD HIGH SCHOOL OF COMMUNICATION ARTS AND TECHNOLOGY\", \"ACADEMY OF MEDICAL TECHNOLOGY: A COLLEGE BOARD SCHOOL\", \"SCHOLARS' ACADEMY\", \"AUGUST MARTIN HIGH SCHOOL\", \"RICHMOND HILL HIGH SCHOOL\", \"JOHN ADAMS HIGH SCHOOL\", \"HIGH SCHOOL FOR CONSTRUCTION TRADES, ENGINEERING AND ARCHITECTURE\", \"YORK EARLY COLLEGE ACADEMY\", \"QUEENS COLLEGIATE: A COLLEGE BOARD SCHOOL\", \"HILLSIDE ARTS & LETTERS ACADEMY\", \"FOREST HILLS HIGH SCHOOL\", \"HILLCREST HIGH SCHOOL\", \"THOMAS A. EDISON CAREER AND TECHNICAL EDUCATION HIGH SCHOOL\", \"QUEENS GATEWAY TO HEALTH SCIENCES SECONDARY SCHOOL\", \"QUEENS METROPOLITAN HIGH SCHOOL\", \"QUEENS HIGH SCHOOL FOR THE SCIENCES AT YORK COLLEGE\", \"HIGH SCHOOL FOR LAW ENFORCEMENT AND PUBLIC SAFETY\", \"YOUNG WOMEN'S LEADERSHIP SCHOOL, QUEENS\", \"QUEENS PREPARATORY ACADEMY\", \"PATHWAYS COLLEGE PREPARATORY SCHOOL: A COLLEGE BOARD SCHOOL\", \"EXCELSIOR PREPARATORY HIGH SCHOOL\", \"GEORGE WASHINGTON CARVER HIGH SCHOOL FOR THE SCIENCES\", \"PREPARATORY ACADEMY FOR WRITERS: A COLLEGE BOARD SCHOOL\", \"CAMBRIA HEIGHTS ACADEMY\", \"MATHEMATICS, SCIENCE RESEARCH AND TECHNOLOGY MAGNET HIGH SCHOOL\", \"HUMANITIES & ARTS MAGNET HIGH SCHOOL\", \"YOUNG WOMEN'S LEADERSHIP SCHOOL, ASTORIA\", \"ACADEMY FOR CAREERS IN TELEVISION AND FILM\", \"WILLIAM CULLEN BRYANT HIGH SCHOOL\", \"LONG ISLAND CITY HIGH SCHOOL\", \"FRANK SINATRA SCHOOL OF THE ARTS HIGH SCHOOL\", \"INFORMATION TECHNOLOGY HIGH SCHOOL\", \"NEWCOMERS HIGH SCHOOL\", \"ACADEMY OF AMERICAN STUDIES\", \"BACCALAUREATE SCHOOL FOR GLOBAL EDUCATION\"], \"textfont\": {\"color\": \"#4D5663\"}, \"type\": \"scatter\", \"x\": [56.4, 57.2, 79.3, 100.0, 21.2, 60.3, 63.5, 71.4, 44.0, 79.2, 62.4, 74.2, 55.3, 24.2, 32.7, 17.9, 20.3, 40.7, 49.8, 12.9, 35.4, 18.6, 24.1, 15.1, 22.3, 16.8, 27.0, 27.5, 30.0, 42.6, 34.2, 15.9, 11.5, 46.4, 37.1, 41.6, 10.2, 18.5, 21.0, 30.2, 22.8, 21.1, 15.7, 38.6, 7.9, 15.1, 18.4, 8.2, 2.9, 9.7, 14.1, 10.4, 7.5, 11.9, 8.5, 40.4, 53.5, 48.8, 62.7, 27.2, 56.6, 43.5, 34.7, 24.3], \"y\": [1280.0, 1219.0, 1240.0, 951.0, 1663.0, 1203.0, 1211.0, 1177.0, 1064.0, 1174.0, 1330.0, 1270.0, 1364.0, 1396.0, 1049.0, 1271.0, 1441.0, 1243.0, 1216.0, 1910.0, 1330.0, 1514.0, 1474.0, 1172.0, 1449.0, 1279.0, 1145.0, 1252.0, 1156.0, 1265.0, 1094.0, 1532.0, 1108.0, 1154.0, 1192.0, 1345.0, 1223.4388059701494, 1265.0, 1223.4388059701494, 1407.0, 1194.0, 1372.0, 1538.0, 1223.4388059701494, 1868.0, 1196.0, 1316.0, 1099.0, 1173.0, 1202.0, 1287.0, 1100.0, 1223.4388059701494, 1220.0, 1151.0, 1223.4388059701494, 1255.0, 1275.0, 1218.0, 1494.0, 1239.0, 1127.0, 1470.0, 1636.0]}, {\"marker\": {\"color\": \"rgba(219, 64, 82, 1.0)\", \"line\": {\"width\": 1.3}, \"opacity\": 0.8, \"size\": 12, \"symbol\": \"circle\"}, \"mode\": \"markers\", \"name\": \"Staten Island\", \"text\": [\"CSI HIGH SCHOOL FOR INTERNATIONAL STUDIES\", \"GAYNOR MCCOWN EXPEDITIONARY LEARNING SCHOOL\", \"THE MICHAEL J. PETRIDES SCHOOL\", \"NEW DORP HIGH SCHOOL\", \"PORT RICHMOND HIGH SCHOOL\", \"CURTIS HIGH SCHOOL\", \"TOTTENVILLE HIGH SCHOOL\", \"SUSAN E. WAGNER HIGH SCHOOL\", \"RALPH R. MCKEE CAREER AND TECHNICAL EDUCATION HIGH SCHOOL\", \"STATEN ISLAND TECHNICAL HIGH SCHOOL\"], \"textfont\": {\"color\": \"#4D5663\"}, \"type\": \"scatter\", \"x\": [17.9, 17.6, 16.9, 27.3, 37.6, 31.9, 9.9, 24.1, 33.2, 5.3], \"y\": [1353.0, 1195.0, 1426.0, 1277.0, 1279.0, 1301.0, 1418.0, 1388.0, 1235.0, 1953.0]}],\n",
       "                        {\"legend\": {\"bgcolor\": \"#F5F6F9\", \"font\": {\"color\": \"#4D5663\"}}, \"paper_bgcolor\": \"#F5F6F9\", \"plot_bgcolor\": \"#F5F6F9\", \"shapes\": [{\"line\": {\"color\": \"#000000\", \"dash\": \"dash\", \"width\": 1}, \"type\": \"line\", \"x0\": 0, \"x1\": 1, \"xref\": \"paper\", \"y0\": 1223.4388059701494, \"y1\": 1223.4388059701494, \"yref\": \"y\"}, {\"line\": {\"color\": \"#000000\", \"dash\": \"dash\", \"width\": 1}, \"type\": \"line\", \"x0\": 44.068319559228655, \"x1\": 44.068319559228655, \"xref\": \"x\", \"y0\": 0, \"y1\": 1, \"yref\": \"paper\"}], \"title\": \"Share of hispanic students vs. SAT score by school <br> dashed lines: average of entire dataset\", \"titlefont\": {\"color\": \"#4D5663\"}, \"xaxis\": {\"gridcolor\": \"#E1E5ED\", \"showgrid\": true, \"tickfont\": {\"color\": \"#4D5663\"}, \"title\": \"Share hispanics, %\", \"titlefont\": {\"color\": \"#4D5663\"}, \"zerolinecolor\": \"#E1E5ED\"}, \"yaxis\": {\"gridcolor\": \"#E1E5ED\", \"showgrid\": true, \"tickfont\": {\"color\": \"#4D5663\"}, \"title\": \"Avg. SAT score\", \"titlefont\": {\"color\": \"#4D5663\"}, \"zerolinecolor\": \"#E1E5ED\"}},\n",
       "                        {\"showLink\": true, \"linkText\": \"Export to plot.ly\", \"plotlyServerURL\": \"https://plot.ly\", \"responsive\": true}\n",
       "                    ).then(function(){\n",
       "                            \n",
       "var gd = document.getElementById('b8dac7f8-e51f-4975-a992-739732340544');\n",
       "var x = new MutationObserver(function (mutations, observer) {{\n",
       "        var display = window.getComputedStyle(gd).display;\n",
       "        if (!display || display === 'none') {{\n",
       "            console.log([gd, 'removed!']);\n",
       "            Plotly.purge(gd);\n",
       "            observer.disconnect();\n",
       "        }}\n",
       "}});\n",
       "\n",
       "// Listen for the removal of the full notebook cells\n",
       "var notebookContainer = gd.closest('#notebook-container');\n",
       "if (notebookContainer) {{\n",
       "    x.observe(notebookContainer, {childList: true});\n",
       "}}\n",
       "\n",
       "// Listen for the clearing of the current output cell\n",
       "var outputEl = gd.closest('.output');\n",
       "if (outputEl) {{\n",
       "    x.observe(outputEl, {childList: true});\n",
       "}}\n",
       "\n",
       "                        })\n",
       "                };\n",
       "                });\n",
       "            </script>\n",
       "        </div>"
      ]
     },
     "metadata": {},
     "output_type": "display_data"
    },
    {
     "name": "stdout",
     "output_type": "stream",
     "text": [
      "Recommendation: choose option to 'show closest data point on hover' in top right corner\n"
     ]
    }
   ],
   "source": [
    "with warnings.catch_warnings(): # to catch warning about np.module in Python 3.8.2.\n",
    "    warnings.filterwarnings(\"ignore\",category=FutureWarning)\n",
    "    combined.iplot(\n",
    "        x='hispanic_per',\n",
    "        y='sat_score',\n",
    "        categories='boro',\n",
    "        text=\"SCHOOL NAME\",\n",
    "        vline= {\"x\":combined[\"hispanic_per\"].mean(),\n",
    "                \"color\":\"#000000\",\n",
    "                \"dash\": \"dash\"\n",
    "               },\n",
    "        hline={\"y\":combined[\"sat_score\"].mean(),\n",
    "               \"color\":\"#000000\",\n",
    "               \"dash\": \"dash\"\n",
    "              },\n",
    "        xTitle='Share hispanics, %',\n",
    "        yTitle='Avg. SAT score',\n",
    "        title='Share of hispanic students vs. SAT score by school <br> dashed lines: average of entire dataset'\n",
    "    )\n",
    "print(\"Recommendation: choose option to 'show closest data point on hover' in top right corner\")"
   ]
  },
  {
   "cell_type": "markdown",
   "metadata": {},
   "source": [
    "* Almost all schools in the Bronx (double-click \"Bronx\" in legend) exhibit above average high shares of hispanics and below average SAT scores. There might be confounding factors (crime or poverty) leading to low SAT scores of hispanics in NYC. *Sadly the only elite schools in the Bronx (Lehman, Bronx High School of Science) have very few hispanic students.*\n",
    "\n",
    "* Schools with very low average SAT scores and very high shares of hispanic students are specialized on students with limited English skills (often named \"International\" schools etc.). It is not surprising that these schools score below average, because SAT tests both reading and writing.\n",
    "\n",
    "* The high schools with high SAT scores and low shares of hispanics are all highly selective public schools with excellent reputation. **I am interested in seeing the racial makeup of all these elite schools (avg. SAT > 1,800) compared to all schools.**"
   ]
  },
  {
   "cell_type": "code",
   "execution_count": 11,
   "metadata": {
    "ExecuteTime": {
     "end_time": "2020-05-03T10:45:16.868078Z",
     "start_time": "2020-05-03T10:45:16.033198Z"
    },
    "code_folding": []
   },
   "outputs": [
    {
     "data": {
      "application/vnd.plotly.v1+json": {
       "config": {
        "linkText": "Export to plot.ly",
        "plotlyServerURL": "https://plot.ly",
        "showLink": true
       },
       "data": [
        {
         "marker": {
          "color": "rgba(255, 153, 51, 0.6)",
          "line": {
           "color": "rgba(255, 153, 51, 1.0)",
           "width": 1
          }
         },
         "name": "Asian",
         "orientation": "v",
         "text": "",
         "type": "bar",
         "x": [
          "All schools",
          "Elite schools"
         ],
         "y": [
          17,
          58
         ]
        },
        {
         "marker": {
          "color": "rgba(55, 128, 191, 0.6)",
          "line": {
           "color": "rgba(55, 128, 191, 1.0)",
           "width": 1
          }
         },
         "name": "Black",
         "orientation": "v",
         "text": "",
         "type": "bar",
         "x": [
          "All schools",
          "Elite schools"
         ],
         "y": [
          30,
          6
         ]
        },
        {
         "marker": {
          "color": "rgba(50, 171, 96, 0.6)",
          "line": {
           "color": "rgba(50, 171, 96, 1.0)",
           "width": 1
          }
         },
         "name": "Hispanic",
         "orientation": "v",
         "text": "",
         "type": "bar",
         "x": [
          "All schools",
          "Elite schools"
         ],
         "y": [
          38,
          7
         ]
        },
        {
         "marker": {
          "color": "rgba(128, 0, 128, 0.6)",
          "line": {
           "color": "rgba(128, 0, 128, 1.0)",
           "width": 1
          }
         },
         "name": "White",
         "orientation": "v",
         "text": "",
         "type": "bar",
         "x": [
          "All schools",
          "Elite schools"
         ],
         "y": [
          13,
          27
         ]
        }
       ],
       "layout": {
        "barmode": "stack",
        "legend": {
         "bgcolor": "#F5F6F9",
         "font": {
          "color": "#4D5663"
         },
         "traceorder": "normal"
        },
        "paper_bgcolor": "#F5F6F9",
        "plot_bgcolor": "#F5F6F9",
        "template": {
         "data": {
          "bar": [
           {
            "error_x": {
             "color": "#2a3f5f"
            },
            "error_y": {
             "color": "#2a3f5f"
            },
            "marker": {
             "line": {
              "color": "#E5ECF6",
              "width": 0.5
             }
            },
            "type": "bar"
           }
          ],
          "barpolar": [
           {
            "marker": {
             "line": {
              "color": "#E5ECF6",
              "width": 0.5
             }
            },
            "type": "barpolar"
           }
          ],
          "carpet": [
           {
            "aaxis": {
             "endlinecolor": "#2a3f5f",
             "gridcolor": "white",
             "linecolor": "white",
             "minorgridcolor": "white",
             "startlinecolor": "#2a3f5f"
            },
            "baxis": {
             "endlinecolor": "#2a3f5f",
             "gridcolor": "white",
             "linecolor": "white",
             "minorgridcolor": "white",
             "startlinecolor": "#2a3f5f"
            },
            "type": "carpet"
           }
          ],
          "choropleth": [
           {
            "colorbar": {
             "outlinewidth": 0,
             "ticks": ""
            },
            "type": "choropleth"
           }
          ],
          "contour": [
           {
            "colorbar": {
             "outlinewidth": 0,
             "ticks": ""
            },
            "colorscale": [
             [
              0,
              "#0d0887"
             ],
             [
              0.1111111111111111,
              "#46039f"
             ],
             [
              0.2222222222222222,
              "#7201a8"
             ],
             [
              0.3333333333333333,
              "#9c179e"
             ],
             [
              0.4444444444444444,
              "#bd3786"
             ],
             [
              0.5555555555555556,
              "#d8576b"
             ],
             [
              0.6666666666666666,
              "#ed7953"
             ],
             [
              0.7777777777777778,
              "#fb9f3a"
             ],
             [
              0.8888888888888888,
              "#fdca26"
             ],
             [
              1,
              "#f0f921"
             ]
            ],
            "type": "contour"
           }
          ],
          "contourcarpet": [
           {
            "colorbar": {
             "outlinewidth": 0,
             "ticks": ""
            },
            "type": "contourcarpet"
           }
          ],
          "heatmap": [
           {
            "colorbar": {
             "outlinewidth": 0,
             "ticks": ""
            },
            "colorscale": [
             [
              0,
              "#0d0887"
             ],
             [
              0.1111111111111111,
              "#46039f"
             ],
             [
              0.2222222222222222,
              "#7201a8"
             ],
             [
              0.3333333333333333,
              "#9c179e"
             ],
             [
              0.4444444444444444,
              "#bd3786"
             ],
             [
              0.5555555555555556,
              "#d8576b"
             ],
             [
              0.6666666666666666,
              "#ed7953"
             ],
             [
              0.7777777777777778,
              "#fb9f3a"
             ],
             [
              0.8888888888888888,
              "#fdca26"
             ],
             [
              1,
              "#f0f921"
             ]
            ],
            "type": "heatmap"
           }
          ],
          "heatmapgl": [
           {
            "colorbar": {
             "outlinewidth": 0,
             "ticks": ""
            },
            "colorscale": [
             [
              0,
              "#0d0887"
             ],
             [
              0.1111111111111111,
              "#46039f"
             ],
             [
              0.2222222222222222,
              "#7201a8"
             ],
             [
              0.3333333333333333,
              "#9c179e"
             ],
             [
              0.4444444444444444,
              "#bd3786"
             ],
             [
              0.5555555555555556,
              "#d8576b"
             ],
             [
              0.6666666666666666,
              "#ed7953"
             ],
             [
              0.7777777777777778,
              "#fb9f3a"
             ],
             [
              0.8888888888888888,
              "#fdca26"
             ],
             [
              1,
              "#f0f921"
             ]
            ],
            "type": "heatmapgl"
           }
          ],
          "histogram": [
           {
            "marker": {
             "colorbar": {
              "outlinewidth": 0,
              "ticks": ""
             }
            },
            "type": "histogram"
           }
          ],
          "histogram2d": [
           {
            "colorbar": {
             "outlinewidth": 0,
             "ticks": ""
            },
            "colorscale": [
             [
              0,
              "#0d0887"
             ],
             [
              0.1111111111111111,
              "#46039f"
             ],
             [
              0.2222222222222222,
              "#7201a8"
             ],
             [
              0.3333333333333333,
              "#9c179e"
             ],
             [
              0.4444444444444444,
              "#bd3786"
             ],
             [
              0.5555555555555556,
              "#d8576b"
             ],
             [
              0.6666666666666666,
              "#ed7953"
             ],
             [
              0.7777777777777778,
              "#fb9f3a"
             ],
             [
              0.8888888888888888,
              "#fdca26"
             ],
             [
              1,
              "#f0f921"
             ]
            ],
            "type": "histogram2d"
           }
          ],
          "histogram2dcontour": [
           {
            "colorbar": {
             "outlinewidth": 0,
             "ticks": ""
            },
            "colorscale": [
             [
              0,
              "#0d0887"
             ],
             [
              0.1111111111111111,
              "#46039f"
             ],
             [
              0.2222222222222222,
              "#7201a8"
             ],
             [
              0.3333333333333333,
              "#9c179e"
             ],
             [
              0.4444444444444444,
              "#bd3786"
             ],
             [
              0.5555555555555556,
              "#d8576b"
             ],
             [
              0.6666666666666666,
              "#ed7953"
             ],
             [
              0.7777777777777778,
              "#fb9f3a"
             ],
             [
              0.8888888888888888,
              "#fdca26"
             ],
             [
              1,
              "#f0f921"
             ]
            ],
            "type": "histogram2dcontour"
           }
          ],
          "mesh3d": [
           {
            "colorbar": {
             "outlinewidth": 0,
             "ticks": ""
            },
            "type": "mesh3d"
           }
          ],
          "parcoords": [
           {
            "line": {
             "colorbar": {
              "outlinewidth": 0,
              "ticks": ""
             }
            },
            "type": "parcoords"
           }
          ],
          "pie": [
           {
            "automargin": true,
            "type": "pie"
           }
          ],
          "scatter": [
           {
            "marker": {
             "colorbar": {
              "outlinewidth": 0,
              "ticks": ""
             }
            },
            "type": "scatter"
           }
          ],
          "scatter3d": [
           {
            "line": {
             "colorbar": {
              "outlinewidth": 0,
              "ticks": ""
             }
            },
            "marker": {
             "colorbar": {
              "outlinewidth": 0,
              "ticks": ""
             }
            },
            "type": "scatter3d"
           }
          ],
          "scattercarpet": [
           {
            "marker": {
             "colorbar": {
              "outlinewidth": 0,
              "ticks": ""
             }
            },
            "type": "scattercarpet"
           }
          ],
          "scattergeo": [
           {
            "marker": {
             "colorbar": {
              "outlinewidth": 0,
              "ticks": ""
             }
            },
            "type": "scattergeo"
           }
          ],
          "scattergl": [
           {
            "marker": {
             "colorbar": {
              "outlinewidth": 0,
              "ticks": ""
             }
            },
            "type": "scattergl"
           }
          ],
          "scattermapbox": [
           {
            "marker": {
             "colorbar": {
              "outlinewidth": 0,
              "ticks": ""
             }
            },
            "type": "scattermapbox"
           }
          ],
          "scatterpolar": [
           {
            "marker": {
             "colorbar": {
              "outlinewidth": 0,
              "ticks": ""
             }
            },
            "type": "scatterpolar"
           }
          ],
          "scatterpolargl": [
           {
            "marker": {
             "colorbar": {
              "outlinewidth": 0,
              "ticks": ""
             }
            },
            "type": "scatterpolargl"
           }
          ],
          "scatterternary": [
           {
            "marker": {
             "colorbar": {
              "outlinewidth": 0,
              "ticks": ""
             }
            },
            "type": "scatterternary"
           }
          ],
          "surface": [
           {
            "colorbar": {
             "outlinewidth": 0,
             "ticks": ""
            },
            "colorscale": [
             [
              0,
              "#0d0887"
             ],
             [
              0.1111111111111111,
              "#46039f"
             ],
             [
              0.2222222222222222,
              "#7201a8"
             ],
             [
              0.3333333333333333,
              "#9c179e"
             ],
             [
              0.4444444444444444,
              "#bd3786"
             ],
             [
              0.5555555555555556,
              "#d8576b"
             ],
             [
              0.6666666666666666,
              "#ed7953"
             ],
             [
              0.7777777777777778,
              "#fb9f3a"
             ],
             [
              0.8888888888888888,
              "#fdca26"
             ],
             [
              1,
              "#f0f921"
             ]
            ],
            "type": "surface"
           }
          ],
          "table": [
           {
            "cells": {
             "fill": {
              "color": "#EBF0F8"
             },
             "line": {
              "color": "white"
             }
            },
            "header": {
             "fill": {
              "color": "#C8D4E3"
             },
             "line": {
              "color": "white"
             }
            },
            "type": "table"
           }
          ]
         },
         "layout": {
          "annotationdefaults": {
           "arrowcolor": "#2a3f5f",
           "arrowhead": 0,
           "arrowwidth": 1
          },
          "coloraxis": {
           "colorbar": {
            "outlinewidth": 0,
            "ticks": ""
           }
          },
          "colorscale": {
           "diverging": [
            [
             0,
             "#8e0152"
            ],
            [
             0.1,
             "#c51b7d"
            ],
            [
             0.2,
             "#de77ae"
            ],
            [
             0.3,
             "#f1b6da"
            ],
            [
             0.4,
             "#fde0ef"
            ],
            [
             0.5,
             "#f7f7f7"
            ],
            [
             0.6,
             "#e6f5d0"
            ],
            [
             0.7,
             "#b8e186"
            ],
            [
             0.8,
             "#7fbc41"
            ],
            [
             0.9,
             "#4d9221"
            ],
            [
             1,
             "#276419"
            ]
           ],
           "sequential": [
            [
             0,
             "#0d0887"
            ],
            [
             0.1111111111111111,
             "#46039f"
            ],
            [
             0.2222222222222222,
             "#7201a8"
            ],
            [
             0.3333333333333333,
             "#9c179e"
            ],
            [
             0.4444444444444444,
             "#bd3786"
            ],
            [
             0.5555555555555556,
             "#d8576b"
            ],
            [
             0.6666666666666666,
             "#ed7953"
            ],
            [
             0.7777777777777778,
             "#fb9f3a"
            ],
            [
             0.8888888888888888,
             "#fdca26"
            ],
            [
             1,
             "#f0f921"
            ]
           ],
           "sequentialminus": [
            [
             0,
             "#0d0887"
            ],
            [
             0.1111111111111111,
             "#46039f"
            ],
            [
             0.2222222222222222,
             "#7201a8"
            ],
            [
             0.3333333333333333,
             "#9c179e"
            ],
            [
             0.4444444444444444,
             "#bd3786"
            ],
            [
             0.5555555555555556,
             "#d8576b"
            ],
            [
             0.6666666666666666,
             "#ed7953"
            ],
            [
             0.7777777777777778,
             "#fb9f3a"
            ],
            [
             0.8888888888888888,
             "#fdca26"
            ],
            [
             1,
             "#f0f921"
            ]
           ]
          },
          "colorway": [
           "#636efa",
           "#EF553B",
           "#00cc96",
           "#ab63fa",
           "#FFA15A",
           "#19d3f3",
           "#FF6692",
           "#B6E880",
           "#FF97FF",
           "#FECB52"
          ],
          "font": {
           "color": "#2a3f5f"
          },
          "geo": {
           "bgcolor": "white",
           "lakecolor": "white",
           "landcolor": "#E5ECF6",
           "showlakes": true,
           "showland": true,
           "subunitcolor": "white"
          },
          "hoverlabel": {
           "align": "left"
          },
          "hovermode": "closest",
          "mapbox": {
           "style": "light"
          },
          "paper_bgcolor": "white",
          "plot_bgcolor": "#E5ECF6",
          "polar": {
           "angularaxis": {
            "gridcolor": "white",
            "linecolor": "white",
            "ticks": ""
           },
           "bgcolor": "#E5ECF6",
           "radialaxis": {
            "gridcolor": "white",
            "linecolor": "white",
            "ticks": ""
           }
          },
          "scene": {
           "xaxis": {
            "backgroundcolor": "#E5ECF6",
            "gridcolor": "white",
            "gridwidth": 2,
            "linecolor": "white",
            "showbackground": true,
            "ticks": "",
            "zerolinecolor": "white"
           },
           "yaxis": {
            "backgroundcolor": "#E5ECF6",
            "gridcolor": "white",
            "gridwidth": 2,
            "linecolor": "white",
            "showbackground": true,
            "ticks": "",
            "zerolinecolor": "white"
           },
           "zaxis": {
            "backgroundcolor": "#E5ECF6",
            "gridcolor": "white",
            "gridwidth": 2,
            "linecolor": "white",
            "showbackground": true,
            "ticks": "",
            "zerolinecolor": "white"
           }
          },
          "shapedefaults": {
           "line": {
            "color": "#2a3f5f"
           }
          },
          "ternary": {
           "aaxis": {
            "gridcolor": "white",
            "linecolor": "white",
            "ticks": ""
           },
           "baxis": {
            "gridcolor": "white",
            "linecolor": "white",
            "ticks": ""
           },
           "bgcolor": "#E5ECF6",
           "caxis": {
            "gridcolor": "white",
            "linecolor": "white",
            "ticks": ""
           }
          },
          "title": {
           "x": 0.05
          },
          "xaxis": {
           "automargin": true,
           "gridcolor": "white",
           "linecolor": "white",
           "ticks": "",
           "title": {
            "standoff": 15
           },
           "zerolinecolor": "white",
           "zerolinewidth": 2
          },
          "yaxis": {
           "automargin": true,
           "gridcolor": "white",
           "linecolor": "white",
           "ticks": "",
           "title": {
            "standoff": 15
           },
           "zerolinecolor": "white",
           "zerolinewidth": 2
          }
         }
        },
        "title": {
         "font": {
          "color": "#4D5663"
         },
         "text": "Racial distribution NYC high schools, <br> all vs. elite (SAT avg. > 1,800)"
        },
        "xaxis": {
         "gridcolor": "#E1E5ED",
         "showgrid": true,
         "tickfont": {
          "color": "#4D5663"
         },
         "title": {
          "font": {
           "color": "#4D5663"
          },
          "text": ""
         },
         "zerolinecolor": "#E1E5ED"
        },
        "yaxis": {
         "gridcolor": "#E1E5ED",
         "showgrid": true,
         "tickfont": {
          "color": "#4D5663"
         },
         "title": {
          "font": {
           "color": "#4D5663"
          },
          "text": "Share of all students in %"
         },
         "zerolinecolor": "#E1E5ED"
        }
       }
      },
      "text/html": [
       "<div>\n",
       "        \n",
       "        \n",
       "            <div id=\"18598586-95d7-4fe4-a1da-d3e5f755d75a\" class=\"plotly-graph-div\" style=\"height:525px; width:100%;\"></div>\n",
       "            <script type=\"text/javascript\">\n",
       "                require([\"plotly\"], function(Plotly) {\n",
       "                    window.PLOTLYENV=window.PLOTLYENV || {};\n",
       "                    window.PLOTLYENV.BASE_URL='https://plot.ly';\n",
       "                    \n",
       "                if (document.getElementById(\"18598586-95d7-4fe4-a1da-d3e5f755d75a\")) {\n",
       "                    Plotly.newPlot(\n",
       "                        '18598586-95d7-4fe4-a1da-d3e5f755d75a',\n",
       "                        [{\"marker\": {\"color\": \"rgba(255, 153, 51, 0.6)\", \"line\": {\"color\": \"rgba(255, 153, 51, 1.0)\", \"width\": 1}}, \"name\": \"Asian\", \"orientation\": \"v\", \"text\": \"\", \"type\": \"bar\", \"x\": [\"All schools\", \"Elite schools\"], \"y\": [17, 58]}, {\"marker\": {\"color\": \"rgba(55, 128, 191, 0.6)\", \"line\": {\"color\": \"rgba(55, 128, 191, 1.0)\", \"width\": 1}}, \"name\": \"Black\", \"orientation\": \"v\", \"text\": \"\", \"type\": \"bar\", \"x\": [\"All schools\", \"Elite schools\"], \"y\": [30, 6]}, {\"marker\": {\"color\": \"rgba(50, 171, 96, 0.6)\", \"line\": {\"color\": \"rgba(50, 171, 96, 1.0)\", \"width\": 1}}, \"name\": \"Hispanic\", \"orientation\": \"v\", \"text\": \"\", \"type\": \"bar\", \"x\": [\"All schools\", \"Elite schools\"], \"y\": [38, 7]}, {\"marker\": {\"color\": \"rgba(128, 0, 128, 0.6)\", \"line\": {\"color\": \"rgba(128, 0, 128, 1.0)\", \"width\": 1}}, \"name\": \"White\", \"orientation\": \"v\", \"text\": \"\", \"type\": \"bar\", \"x\": [\"All schools\", \"Elite schools\"], \"y\": [13, 27]}],\n",
       "                        {\"barmode\": \"stack\", \"legend\": {\"bgcolor\": \"#F5F6F9\", \"font\": {\"color\": \"#4D5663\"}, \"traceorder\": \"normal\"}, \"paper_bgcolor\": \"#F5F6F9\", \"plot_bgcolor\": \"#F5F6F9\", \"template\": {\"data\": {\"bar\": [{\"error_x\": {\"color\": \"#2a3f5f\"}, \"error_y\": {\"color\": \"#2a3f5f\"}, \"marker\": {\"line\": {\"color\": \"#E5ECF6\", \"width\": 0.5}}, \"type\": \"bar\"}], \"barpolar\": [{\"marker\": {\"line\": {\"color\": \"#E5ECF6\", \"width\": 0.5}}, \"type\": \"barpolar\"}], \"carpet\": [{\"aaxis\": {\"endlinecolor\": \"#2a3f5f\", \"gridcolor\": \"white\", \"linecolor\": \"white\", \"minorgridcolor\": \"white\", \"startlinecolor\": \"#2a3f5f\"}, \"baxis\": {\"endlinecolor\": \"#2a3f5f\", \"gridcolor\": \"white\", \"linecolor\": \"white\", \"minorgridcolor\": \"white\", \"startlinecolor\": \"#2a3f5f\"}, \"type\": \"carpet\"}], \"choropleth\": [{\"colorbar\": {\"outlinewidth\": 0, \"ticks\": \"\"}, \"type\": \"choropleth\"}], \"contour\": [{\"colorbar\": {\"outlinewidth\": 0, \"ticks\": \"\"}, \"colorscale\": [[0.0, \"#0d0887\"], [0.1111111111111111, \"#46039f\"], [0.2222222222222222, \"#7201a8\"], [0.3333333333333333, \"#9c179e\"], [0.4444444444444444, \"#bd3786\"], [0.5555555555555556, \"#d8576b\"], [0.6666666666666666, \"#ed7953\"], [0.7777777777777778, \"#fb9f3a\"], [0.8888888888888888, \"#fdca26\"], [1.0, \"#f0f921\"]], \"type\": \"contour\"}], \"contourcarpet\": [{\"colorbar\": {\"outlinewidth\": 0, \"ticks\": \"\"}, \"type\": \"contourcarpet\"}], \"heatmap\": [{\"colorbar\": {\"outlinewidth\": 0, \"ticks\": \"\"}, \"colorscale\": [[0.0, \"#0d0887\"], [0.1111111111111111, \"#46039f\"], [0.2222222222222222, \"#7201a8\"], [0.3333333333333333, \"#9c179e\"], [0.4444444444444444, \"#bd3786\"], [0.5555555555555556, \"#d8576b\"], [0.6666666666666666, \"#ed7953\"], [0.7777777777777778, \"#fb9f3a\"], [0.8888888888888888, \"#fdca26\"], [1.0, \"#f0f921\"]], \"type\": \"heatmap\"}], \"heatmapgl\": [{\"colorbar\": {\"outlinewidth\": 0, \"ticks\": \"\"}, \"colorscale\": [[0.0, \"#0d0887\"], [0.1111111111111111, \"#46039f\"], [0.2222222222222222, \"#7201a8\"], [0.3333333333333333, \"#9c179e\"], [0.4444444444444444, \"#bd3786\"], [0.5555555555555556, \"#d8576b\"], [0.6666666666666666, \"#ed7953\"], [0.7777777777777778, \"#fb9f3a\"], [0.8888888888888888, \"#fdca26\"], [1.0, \"#f0f921\"]], \"type\": \"heatmapgl\"}], \"histogram\": [{\"marker\": {\"colorbar\": {\"outlinewidth\": 0, \"ticks\": \"\"}}, \"type\": \"histogram\"}], \"histogram2d\": [{\"colorbar\": {\"outlinewidth\": 0, \"ticks\": \"\"}, \"colorscale\": [[0.0, \"#0d0887\"], [0.1111111111111111, \"#46039f\"], [0.2222222222222222, \"#7201a8\"], [0.3333333333333333, \"#9c179e\"], [0.4444444444444444, \"#bd3786\"], [0.5555555555555556, \"#d8576b\"], [0.6666666666666666, \"#ed7953\"], [0.7777777777777778, \"#fb9f3a\"], [0.8888888888888888, \"#fdca26\"], [1.0, \"#f0f921\"]], \"type\": \"histogram2d\"}], \"histogram2dcontour\": [{\"colorbar\": {\"outlinewidth\": 0, \"ticks\": \"\"}, \"colorscale\": [[0.0, \"#0d0887\"], [0.1111111111111111, \"#46039f\"], [0.2222222222222222, \"#7201a8\"], [0.3333333333333333, \"#9c179e\"], [0.4444444444444444, \"#bd3786\"], [0.5555555555555556, \"#d8576b\"], [0.6666666666666666, \"#ed7953\"], [0.7777777777777778, \"#fb9f3a\"], [0.8888888888888888, \"#fdca26\"], [1.0, \"#f0f921\"]], \"type\": \"histogram2dcontour\"}], \"mesh3d\": [{\"colorbar\": {\"outlinewidth\": 0, \"ticks\": \"\"}, \"type\": \"mesh3d\"}], \"parcoords\": [{\"line\": {\"colorbar\": {\"outlinewidth\": 0, \"ticks\": \"\"}}, \"type\": \"parcoords\"}], \"pie\": [{\"automargin\": true, \"type\": \"pie\"}], \"scatter\": [{\"marker\": {\"colorbar\": {\"outlinewidth\": 0, \"ticks\": \"\"}}, \"type\": \"scatter\"}], \"scatter3d\": [{\"line\": {\"colorbar\": {\"outlinewidth\": 0, \"ticks\": \"\"}}, \"marker\": {\"colorbar\": {\"outlinewidth\": 0, \"ticks\": \"\"}}, \"type\": \"scatter3d\"}], \"scattercarpet\": [{\"marker\": {\"colorbar\": {\"outlinewidth\": 0, \"ticks\": \"\"}}, \"type\": \"scattercarpet\"}], \"scattergeo\": [{\"marker\": {\"colorbar\": {\"outlinewidth\": 0, \"ticks\": \"\"}}, \"type\": \"scattergeo\"}], \"scattergl\": [{\"marker\": {\"colorbar\": {\"outlinewidth\": 0, \"ticks\": \"\"}}, \"type\": \"scattergl\"}], \"scattermapbox\": [{\"marker\": {\"colorbar\": {\"outlinewidth\": 0, \"ticks\": \"\"}}, \"type\": \"scattermapbox\"}], \"scatterpolar\": [{\"marker\": {\"colorbar\": {\"outlinewidth\": 0, \"ticks\": \"\"}}, \"type\": \"scatterpolar\"}], \"scatterpolargl\": [{\"marker\": {\"colorbar\": {\"outlinewidth\": 0, \"ticks\": \"\"}}, \"type\": \"scatterpolargl\"}], \"scatterternary\": [{\"marker\": {\"colorbar\": {\"outlinewidth\": 0, \"ticks\": \"\"}}, \"type\": \"scatterternary\"}], \"surface\": [{\"colorbar\": {\"outlinewidth\": 0, \"ticks\": \"\"}, \"colorscale\": [[0.0, \"#0d0887\"], [0.1111111111111111, \"#46039f\"], [0.2222222222222222, \"#7201a8\"], [0.3333333333333333, \"#9c179e\"], [0.4444444444444444, \"#bd3786\"], [0.5555555555555556, \"#d8576b\"], [0.6666666666666666, \"#ed7953\"], [0.7777777777777778, \"#fb9f3a\"], [0.8888888888888888, \"#fdca26\"], [1.0, \"#f0f921\"]], \"type\": \"surface\"}], \"table\": [{\"cells\": {\"fill\": {\"color\": \"#EBF0F8\"}, \"line\": {\"color\": \"white\"}}, \"header\": {\"fill\": {\"color\": \"#C8D4E3\"}, \"line\": {\"color\": \"white\"}}, \"type\": \"table\"}]}, \"layout\": {\"annotationdefaults\": {\"arrowcolor\": \"#2a3f5f\", \"arrowhead\": 0, \"arrowwidth\": 1}, \"coloraxis\": {\"colorbar\": {\"outlinewidth\": 0, \"ticks\": \"\"}}, \"colorscale\": {\"diverging\": [[0, \"#8e0152\"], [0.1, \"#c51b7d\"], [0.2, \"#de77ae\"], [0.3, \"#f1b6da\"], [0.4, \"#fde0ef\"], [0.5, \"#f7f7f7\"], [0.6, \"#e6f5d0\"], [0.7, \"#b8e186\"], [0.8, \"#7fbc41\"], [0.9, \"#4d9221\"], [1, \"#276419\"]], \"sequential\": [[0.0, \"#0d0887\"], [0.1111111111111111, \"#46039f\"], [0.2222222222222222, \"#7201a8\"], [0.3333333333333333, \"#9c179e\"], [0.4444444444444444, \"#bd3786\"], [0.5555555555555556, \"#d8576b\"], [0.6666666666666666, \"#ed7953\"], [0.7777777777777778, \"#fb9f3a\"], [0.8888888888888888, \"#fdca26\"], [1.0, \"#f0f921\"]], \"sequentialminus\": [[0.0, \"#0d0887\"], [0.1111111111111111, \"#46039f\"], [0.2222222222222222, \"#7201a8\"], [0.3333333333333333, \"#9c179e\"], [0.4444444444444444, \"#bd3786\"], [0.5555555555555556, \"#d8576b\"], [0.6666666666666666, \"#ed7953\"], [0.7777777777777778, \"#fb9f3a\"], [0.8888888888888888, \"#fdca26\"], [1.0, \"#f0f921\"]]}, \"colorway\": [\"#636efa\", \"#EF553B\", \"#00cc96\", \"#ab63fa\", \"#FFA15A\", \"#19d3f3\", \"#FF6692\", \"#B6E880\", \"#FF97FF\", \"#FECB52\"], \"font\": {\"color\": \"#2a3f5f\"}, \"geo\": {\"bgcolor\": \"white\", \"lakecolor\": \"white\", \"landcolor\": \"#E5ECF6\", \"showlakes\": true, \"showland\": true, \"subunitcolor\": \"white\"}, \"hoverlabel\": {\"align\": \"left\"}, \"hovermode\": \"closest\", \"mapbox\": {\"style\": \"light\"}, \"paper_bgcolor\": \"white\", \"plot_bgcolor\": \"#E5ECF6\", \"polar\": {\"angularaxis\": {\"gridcolor\": \"white\", \"linecolor\": \"white\", \"ticks\": \"\"}, \"bgcolor\": \"#E5ECF6\", \"radialaxis\": {\"gridcolor\": \"white\", \"linecolor\": \"white\", \"ticks\": \"\"}}, \"scene\": {\"xaxis\": {\"backgroundcolor\": \"#E5ECF6\", \"gridcolor\": \"white\", \"gridwidth\": 2, \"linecolor\": \"white\", \"showbackground\": true, \"ticks\": \"\", \"zerolinecolor\": \"white\"}, \"yaxis\": {\"backgroundcolor\": \"#E5ECF6\", \"gridcolor\": \"white\", \"gridwidth\": 2, \"linecolor\": \"white\", \"showbackground\": true, \"ticks\": \"\", \"zerolinecolor\": \"white\"}, \"zaxis\": {\"backgroundcolor\": \"#E5ECF6\", \"gridcolor\": \"white\", \"gridwidth\": 2, \"linecolor\": \"white\", \"showbackground\": true, \"ticks\": \"\", \"zerolinecolor\": \"white\"}}, \"shapedefaults\": {\"line\": {\"color\": \"#2a3f5f\"}}, \"ternary\": {\"aaxis\": {\"gridcolor\": \"white\", \"linecolor\": \"white\", \"ticks\": \"\"}, \"baxis\": {\"gridcolor\": \"white\", \"linecolor\": \"white\", \"ticks\": \"\"}, \"bgcolor\": \"#E5ECF6\", \"caxis\": {\"gridcolor\": \"white\", \"linecolor\": \"white\", \"ticks\": \"\"}}, \"title\": {\"x\": 0.05}, \"xaxis\": {\"automargin\": true, \"gridcolor\": \"white\", \"linecolor\": \"white\", \"ticks\": \"\", \"title\": {\"standoff\": 15}, \"zerolinecolor\": \"white\", \"zerolinewidth\": 2}, \"yaxis\": {\"automargin\": true, \"gridcolor\": \"white\", \"linecolor\": \"white\", \"ticks\": \"\", \"title\": {\"standoff\": 15}, \"zerolinecolor\": \"white\", \"zerolinewidth\": 2}}}, \"title\": {\"font\": {\"color\": \"#4D5663\"}, \"text\": \"Racial distribution NYC high schools, <br> all vs. elite (SAT avg. > 1,800)\"}, \"xaxis\": {\"gridcolor\": \"#E1E5ED\", \"showgrid\": true, \"tickfont\": {\"color\": \"#4D5663\"}, \"title\": {\"font\": {\"color\": \"#4D5663\"}, \"text\": \"\"}, \"zerolinecolor\": \"#E1E5ED\"}, \"yaxis\": {\"gridcolor\": \"#E1E5ED\", \"showgrid\": true, \"tickfont\": {\"color\": \"#4D5663\"}, \"title\": {\"font\": {\"color\": \"#4D5663\"}, \"text\": \"Share of all students in %\"}, \"zerolinecolor\": \"#E1E5ED\"}},\n",
       "                        {\"showLink\": true, \"linkText\": \"Export to plot.ly\", \"plotlyServerURL\": \"https://plot.ly\", \"responsive\": true}\n",
       "                    ).then(function(){\n",
       "                            \n",
       "var gd = document.getElementById('18598586-95d7-4fe4-a1da-d3e5f755d75a');\n",
       "var x = new MutationObserver(function (mutations, observer) {{\n",
       "        var display = window.getComputedStyle(gd).display;\n",
       "        if (!display || display === 'none') {{\n",
       "            console.log([gd, 'removed!']);\n",
       "            Plotly.purge(gd);\n",
       "            observer.disconnect();\n",
       "        }}\n",
       "}});\n",
       "\n",
       "// Listen for the removal of the full notebook cells\n",
       "var notebookContainer = gd.closest('#notebook-container');\n",
       "if (notebookContainer) {{\n",
       "    x.observe(notebookContainer, {childList: true});\n",
       "}}\n",
       "\n",
       "// Listen for the clearing of the current output cell\n",
       "var outputEl = gd.closest('.output');\n",
       "if (outputEl) {{\n",
       "    x.observe(outputEl, {childList: true});\n",
       "}}\n",
       "\n",
       "                        })\n",
       "                };\n",
       "                });\n",
       "            </script>\n",
       "        </div>"
      ]
     },
     "metadata": {},
     "output_type": "display_data"
    }
   ],
   "source": [
    "# build stacked bar to racial makeup of all schools and elite schools\n",
    "num_race = ['asian_num', 'black_num', 'hispanic_num', 'white_num']\n",
    "high_sat = combined[\"sat_score\"] > 1800\n",
    "\n",
    "race_dist = pd.DataFrame(data=[combined.loc[:, num_race].sum()/combined.loc[:, num_race].sum().sum(),\n",
    "                               combined.loc[high_sat, num_race].sum()/combined.loc[high_sat, num_race].sum().sum()],\n",
    "                         index=[\"All schools\", \"Elite schools\"])*100\n",
    "race_dist.columns = [\"Asian\",\"Black\",\"Hispanic\", \"White\"]\n",
    "race_dist.astype(int).iplot(kind=\"bar\", barmode=\"stack\", yTitle='Share of all students in %',\n",
    "                            title='Racial distribution NYC high schools, <br> all vs. elite (SAT avg. > 1,800)')"
   ]
  },
  {
   "cell_type": "markdown",
   "metadata": {},
   "source": [
    "Blacks and hispanics are clearly underrepresented in NYC's elite high schools - white and especially asian students are overrepresented compared to all NYC high schools. This is the case although there are elite schools in all five boroughs."
   ]
  },
  {
   "cell_type": "markdown",
   "metadata": {},
   "source": [
    "# Gender: Males over-represented in STEM-elite school, Queens and Manhattan with excellent predominantly female schools "
   ]
  },
  {
   "cell_type": "code",
   "execution_count": 12,
   "metadata": {
    "ExecuteTime": {
     "end_time": "2020-05-03T10:45:17.013227Z",
     "start_time": "2020-05-03T10:45:16.869736Z"
    },
    "code_folding": [
     0
    ],
    "scrolled": false
   },
   "outputs": [
    {
     "data": {
      "image/png": "[encoded data removed]",
      "text/plain": [
       "<Figure size 576x576 with 1 Axes>"
      ]
     },
     "metadata": {
      "needs_background": "light"
     },
     "output_type": "display_data"
    }
   ],
   "source": [
    "# build bar chart to visualize correlation between SAT and gender of students\n",
    "gender = [\"male_per\", \"female_per\"]\n",
    "\n",
    "ax = correlations[gender].sort_values().plot(kind=\"bar\",\n",
    "                                                    figsize=(8, 8),\n",
    "                                                    title=\"Correlation of gender to SAT-scores\")\n",
    "ax.spines['right'].set_visible(False)\n",
    "ax.spines['top'].set_visible(False)\n",
    "for p in ax.patches: # set data point labels\n",
    "    ax.annotate(str(round(p.get_height(), 2)),\n",
    "                (p.get_x() + 0.2, max(p.get_height(), 0)+0.002),\n",
    "                rotation=0\n",
    "                )\n",
    "ax.axhline(y=0.0, color='black', linestyle='-', linewidth=1)\n",
    "plt.show()"
   ]
  },
  {
   "cell_type": "markdown",
   "metadata": {},
   "source": [
    "Schools exhibit higher SAT-scores when the share of females is higher, but the correlation is pretty weak (~ 0.1).<br>  It is generally necessary to plot only n-1 dummies of a categorical variable. In this case where gender has two possible values - thus female will always be symmetrical to male and the other way around."
   ]
  },
  {
   "cell_type": "code",
   "execution_count": 13,
   "metadata": {
    "ExecuteTime": {
     "end_time": "2020-05-03T10:45:17.071531Z",
     "start_time": "2020-05-03T10:45:17.015117Z"
    },
    "code_folding": []
   },
   "outputs": [
    {
     "data": {
      "application/vnd.plotly.v1+json": {
       "config": {
        "linkText": "Export to plot.ly",
        "plotlyServerURL": "https://plot.ly",
        "showLink": true
       },
       "data": [
        {
         "marker": {
          "color": "rgba(255, 153, 51, 1.0)",
          "line": {
           "width": 1.3
          },
          "opacity": 0.8,
          "size": 12,
          "symbol": "circle"
         },
         "mode": "markers",
         "name": "Manhattan",
         "text": [
          "HENRY STREET SCHOOL FOR INTERNATIONAL STUDIES",
          "UNIVERSITY NEIGHBORHOOD HIGH SCHOOL",
          "EAST SIDE COMMUNITY SCHOOL",
          "MARTA VALLE HIGH SCHOOL",
          "NEW EXPLORATIONS INTO SCIENCE, TECHNOLOGY AND MATH HIGH SCHOOL",
          "BARD HIGH SCHOOL EARLY COLLEGE",
          "47 THE AMERICAN SIGN LANGUAGE AND ENGLISH SECONDARY SCHOOL",
          "FOOD AND FINANCE HIGH SCHOOL",
          "ESSEX STREET ACADEMY",
          "HIGH SCHOOL OF HOSPITALITY MANAGEMENT",
          "PACE HIGH SCHOOL",
          "URBAN ASSEMBLY SCHOOL OF DESIGN AND CONSTRUCTION, THE",
          "FACING HISTORY SCHOOL, THE",
          "URBAN ASSEMBLY ACADEMY OF GOVERNMENT AND LAW, THE",
          "LOWER MANHATTAN ARTS ACADEMY",
          "URBAN ASSEMBLY SCHOOL OF BUSINESS FOR YOUNG WOMEN, THE",
          "GRAMERCY ARTS HIGH SCHOOL",
          "NYC ISCHOOL",
          "MANHATTAN BUSINESS ACADEMY",
          "BUSINESS OF SPORTS SCHOOL",
          "THE HIGH SCHOOL FOR LANGUAGE AND DIPLOMACY",
          "HIGH SCHOOL FOR ENVIRONMENTAL STUDIES",
          "PROFESSIONAL PERFORMING ARTS HIGH SCHOOL",
          "BARUCH COLLEGE CAMPUS HIGH SCHOOL",
          "N.Y.C. LAB SCHOOL FOR COLLABORATIVE STUDIES",
          "N.Y.C. MUSEUM SCHOOL",
          "ELEANOR ROOSEVELT HIGH SCHOOL",
          "MILLENNIUM HIGH SCHOOL",
          "LANDMARK HIGH SCHOOL",
          "HIGH SCHOOL FOR HEALTH PROFESSIONS AND HUMAN SERVICES",
          "LEADERSHIP AND PUBLIC SERVICE HIGH SCHOOL",
          "MANHATTAN ACADEMY FOR ARTS & LANGUAGE",
          "HUDSON HIGH SCHOOL OF LEARNING TECHNOLOGIES",
          "INTERNATIONAL HIGH SCHOOL AT UNION SQUARE",
          "MANHATTAN VILLAGE ACADEMY",
          "VANGUARD HIGH SCHOOL",
          "MANHATTAN INTERNATIONAL HIGH SCHOOL",
          "STUYVESANT HIGH SCHOOL",
          "HIGH SCHOOL OF ECONOMICS AND FINANCE",
          "UNITY CENTER FOR URBAN TECHNOLOGIES",
          "TALENT UNLIMITED HIGH SCHOOL",
          "MURRY BERGTRAUM HIGH SCHOOL FOR BUSINESS CAREERS",
          "JACQUELINE KENNEDY ONASSIS HIGH SCHOOL",
          "REPERTORY COMPANY HIGH SCHOOL FOR THEATRE ARTS",
          "MANHATTAN BRIDGES HIGH SCHOOL",
          "NEW DESIGN HIGH SCHOOL",
          "HIGH SCHOOL FOR DUAL LANGUAGE AND ASIAN STUDIES",
          "THE URBAN ASSEMBLY NEW YORK HARBOR SCHOOL",
          "RICHARD R. GREEN HIGH SCHOOL OF TEACHING",
          "THE HIGH SCHOOL OF FASHION INDUSTRIES",
          "HUMANITIES PREPARATORY ACADEMY",
          "CHELSEA CAREER AND TECHNICAL EDUCATION HIGH SCHOOL",
          "ART AND DESIGN HIGH SCHOOL",
          "LIFE SCIENCES SECONDARY SCHOOL",
          "HIGH SCHOOL FOR ARTS, IMAGINATION AND INQUIRY",
          "URBAN ASSEMBLY SCHOOL FOR MEDIA STUDIES, THE",
          "THE URBAN ASSEMBLY SCHOOL FOR GREEN CAREERS",
          "THE GLOBAL LEARNING COLLABORATIVE",
          "WADLEIGH SECONDARY SCHOOL FOR THE PERFORMING & VISUAL ARTS",
          "FRANK MCCOURT HIGH SCHOOL",
          "BEACON HIGH SCHOOL",
          "FIORELLO H. LAGUARDIA HIGH SCHOOL OF MUSIC & ART AND PERFORMING ARTS",
          "HIGH SCHOOL FOR LAW, ADVOCACY AND COMMUNITY JUSTICE",
          "HIGH SCHOOL OF ARTS AND TECHNOLOGY",
          "MANHATTAN / HUNTER SCIENCE HIGH SCHOOL",
          "FREDERICK DOUGLASS ACADEMY II SECONDARY SCHOOL",
          "COALITION SCHOOL FOR SOCIAL CHANGE",
          "MANHATTAN CENTER FOR SCIENCE AND MATHEMATICS",
          "PARK EAST HIGH SCHOOL",
          "CENTRAL PARK EAST HIGH SCHOOL",
          "YOUNG WOMEN'S LEADERSHIP SCHOOL",
          "YOUNG WOMEN'S LEADERSHIP SCHOOL",
          "HERITAGE SCHOOL, THE",
          "MOTT HALL HIGH SCHOOL",
          "COLUMBIA SECONDARY SCHOOL FOR MATH, SCIENCE, AND ENGINEERING",
          "ACADEMY FOR SOCIAL ACTION: A COLLEGE BOARD SCHOOL",
          "URBAN ASSEMBLY SCHOOL FOR THE PERFORMING ARTS",
          "FREDERICK DOUGLASS ACADEMY",
          "THURGOOD MARSHALL ACADEMY FOR LEARNING AND SOCIAL CHANGE",
          "HIGH SCHOOL FOR MATHEMATICS, SCIENCE AND ENGINEERING AT CITY COLLEGE",
          "CITY COLLEGE ACADEMY OF THE ARTS",
          "COMMUNITY HEALTH ACADEMY OF THE HEIGHTS",
          "WASHINGTON HEIGHTS EXPEDITIONARY LEARNING SCHOOL",
          "HIGH SCHOOL FOR EXCELLENCE AND INNOVATION",
          "HIGH SCHOOL FOR INTERNATIONAL BUSINESS AND FINANCE",
          "HIGH SCHOOL FOR MEDIA AND COMMUNICATIONS",
          "HIGH SCHOOL FOR LAW AND PUBLIC SERVICE",
          "HIGH SCHOOL FOR HEALTH CAREERS AND SCIENCES",
          "A. PHILIP RANDOLPH CAMPUS HIGH SCHOOL",
          "GREGORIO LUPERON HIGH SCHOOL FOR SCIENCE AND MATHEMATICS"
         ],
         "textfont": {
          "color": "#4D5663"
         },
         "type": "scatter",
         "x": [
          38.6,
          42.6,
          45.3,
          53.7,
          50.8,
          68.7,
          57.5,
          55,
          46.6,
          67.8,
          56.3,
          25.1,
          49.4,
          56.1,
          60.1,
          100,
          73.7,
          51.3,
          41,
          27.6,
          52,
          49.6,
          74.7,
          56,
          53,
          57.6,
          67.5,
          61.8,
          51.5,
          70.6,
          53.9,
          45.1,
          39.4,
          38.6,
          61.5,
          53.8,
          55.7,
          40.7,
          45.5,
          37.6,
          78.6,
          50.9,
          59.4,
          78.8,
          48.6,
          61.7,
          48.7,
          39.1,
          67.4,
          92.7,
          57.3,
          35,
          53.3,
          48.4,
          44.3,
          42.1,
          43.1,
          48.6,
          61.6,
          53.4,
          61,
          73.6,
          59.9,
          32.3,
          58.9,
          45.8,
          55.6,
          53.6,
          57.9,
          67.9,
          100,
          100,
          51.4,
          46.5,
          50.4,
          51.3,
          74.6,
          47.8,
          55.9,
          34.2,
          60.4,
          47.7,
          44.2,
          47.2,
          36.2,
          36.5,
          41.4,
          47.3,
          50.1,
          51.1
         ],
         "y": [
          1122,
          1172,
          1149,
          1207,
          1621,
          1856,
          1182,
          1194,
          1156,
          1111,
          1293,
          1269,
          1051,
          1148,
          1200,
          1127,
          1176,
          1435,
          1223.4388059701494,
          1223.4388059701494,
          1223.4388059701494,
          1419,
          1522,
          1577,
          1677,
          1419,
          1758,
          1614,
          1170,
          1306,
          1233,
          1223.4388059701494,
          1223.4388059701494,
          1223.4388059701494,
          1372,
          1199,
          1227,
          2096,
          1374,
          1070,
          1416,
          1240,
          1239,
          1253,
          1058,
          1168,
          1424,
          1212,
          1195,
          1257,
          1255,
          1207,
          1315,
          1236,
          1132,
          1144,
          1223.4388059701494,
          1223.4388059701494,
          1109,
          1223.4388059701494,
          1744,
          1707,
          1196,
          1277,
          1446,
          1096,
          1084,
          1430,
          1128,
          1221,
          1326,
          1326,
          1054,
          1210,
          1223.4388059701494,
          1062,
          1077,
          1374,
          1202,
          1847,
          1270,
          1105,
          1174,
          1223.4388059701494,
          1127,
          1098,
          1102,
          1224,
          1309,
          1014
         ]
        },
        {
         "marker": {
          "color": "rgba(55, 128, 191, 1.0)",
          "line": {
           "width": 1.3
          },
          "opacity": 0.8,
          "size": 12,
          "symbol": "circle"
         },
         "mode": "markers",
         "name": "Bronx",
         "text": [
          "SOUTH BRONX PREPARATORY: A COLLEGE BOARD SCHOOL",
          "INTERNATIONAL COMMUNITY HIGH SCHOOL",
          "COMMUNITY SCHOOL FOR SOCIAL JUSTICE",
          "MOTT HAVEN VILLAGE PREPARATORY HIGH SCHOOL",
          "UNIVERSITY HEIGHTS SECONDARY SCHOOL",
          "HOSTOSsLINCOLN ACADEMY OF SCIENCE",
          "FOREIGN LANGUAGE ACADEMY OF GLOBAL STUDIES",
          "BRONX LEADERSHIP ACADEMY II HIGH SCHOOL",
          "NEW EXPLORERS HIGH SCHOOL",
          "URBAN ASSEMBLY SCHOOL FOR CAREERS IN SPORTS",
          "BRONX ACADEMY OF LETTERS",
          "ALFRED E. SMITH CAREER AND TECHNICAL EDUCATION HIGH SCHOOL",
          "HEALTH OPPORTUNITIES HIGH SCHOOL",
          "BRONX STUDIO SCHOOL FOR WRITERS AND ARTISTS",
          "WOMEN'S ACADEMY OF EXCELLENCE",
          "RENAISSANCE HIGH SCHOOL FOR MUSICAL THEATER & TECHNOLOGY",
          "PABLO NERUDA ACADEMY FOR ARCHITECTURE AND WORLD STUDIES",
          "MILLENNIUM ART ACADEMY",
          "HOLCOMBE L. RUCKER SCHOOL OF COMMUNITY RESEARCH",
          "ANTONIA PANTOJA PREPARATORY ACADEMY, A COLLEGE BOARD SCHOOL",
          "HERBERT H. LEHMAN HIGH SCHOOL",
          "BRONX BRIDGES HIGH SCHOOL",
          "FELISA RINCON DE GAUTIER INSTITUTE FOR LAW AND PUBLIC POLICY, THE",
          "BANANA KELLY HIGH SCHOOL",
          "BRONX EXPEDITIONARY LEARNING HIGH SCHOOL",
          "EAGLE ACADEMY FOR YOUNG MEN",
          "URBAN ASSEMBLY SCHOOL FOR APPLIED MATH AND SCIENCE, THE",
          "EXIMIUS COLLEGE PREPARATORY ACADEMY: A COLLEGE BOARD SCHOOL",
          "MOTT HALL BRONX HIGH SCHOOL",
          "BRONX CENTER FOR SCIENCE AND MATHEMATICS",
          "VALIDUS PREPARATORY ACADEMY: AN EXPEDITIONARY LEARNING SCHOOL",
          "LEADERSHIP INSTITUTE",
          "MORRIS ACADEMY FOR COLLABORATIVE STUDIES",
          "BRONX EARLY COLLEGE ACADEMY FOR TEACHING & LEARNING",
          "DREAMYARD PREPARATORY SCHOOL",
          "ACADEMY FOR LANGUAGE AND TECHNOLOGY",
          "BRONX INTERNATIONAL HIGH SCHOOL",
          "SCHOOL FOR EXCELLENCE",
          "BRONX HIGH SCHOOL OF BUSINESS",
          "BRONX HIGH SCHOOL FOR MEDICAL SCIENCE",
          "BRONX SCHOOL FOR LAW, GOVERNMENT AND JUSTICE",
          "FREDERICK DOUGLASS ACADEMY III SECONDARY SCHOOL",
          "BRONX LEADERSHIP ACADEMY HIGH SCHOOL",
          "HIGH SCHOOL FOR VIOLIN AND DANCE",
          "RIVERDALE / KINGSBRIDGE ACADEMY (MIDDLE SCHOOL / HIGH SCHOOL 141)",
          "BRONX ENGINEERING AND TECHNOLOGY ACADEMY",
          "THEATRE ARTS PRODUCTION COMPANY SCHOOL",
          "THE MARIE CURIE SCHOOL FOR MEDICINE, NURSING, AND HEALTH PROFESSIONS",
          "WEST BRONX ACADEMY FOR THE FUTURE",
          "KINGSBRIDGE INTERNATIONAL HIGH SCHOOL",
          "BRONX SCHOOL OF LAW AND FINANCE",
          "INTERNATIONAL SCHOOL FOR LIBERAL ARTS",
          "INsTECH ACADEMY (M.S. / HIGH SCHOOL 368)",
          "KNOWLEDGE AND POWER PREPARATORY ACADEMY INTERNATIONAL HIGH SCHOOL (KAPPA)",
          "HIGH SCHOOL FOR TEACHING AND THE PROFESSIONS",
          "BELMONT PREPARATORY HIGH SCHOOL",
          "FORDHAM HIGH SCHOOL FOR THE ARTS",
          "FORDHAM LEADERSHIP ACADEMY FOR BUSINESS AND TECHNOLOGY",
          "BRONX HIGH SCHOOL FOR LAW AND COMMUNITY SERVICE",
          "DEWITT CLINTON HIGH SCHOOL",
          "CELIA CRUZ BRONX HIGH SCHOOL OF MUSIC, THE",
          "BRONX HIGH SCHOOL OF SCIENCE",
          "MARBLE HILL HIGH SCHOOL FOR INTERNATIONAL STUDIES",
          "BRONX THEATRE HIGH SCHOOL",
          "DISCOVERY HIGH SCHOOL",
          "HIGH SCHOOL OF AMERICAN STUDIES AT LEHMAN COLLEGE",
          "BRONX HEALTH SCIENCES HIGH SCHOOL",
          "BRONX HIGH SCHOOL FOR WRITING AND COMMUNICATION ARTS",
          "BRONX LAB SCHOOL",
          "ACADEMY FOR SCHOLARSHIP AND ENTREPRENEURSHIP: A COLLEGE BOARD SCHOOL",
          "HIGH SCHOOL OF COMPUTERS AND TECHNOLOGY",
          "COLLEGIATE INSTITUTE FOR MATH AND SCIENCE",
          "BRONX ACADEMY OF HEALTH CAREERS",
          "ASTOR COLLEGIATE ACADEMY",
          "BRONX HIGH SCHOOL FOR THE VISUAL ARTS",
          "HARRY S TRUMAN HIGH SCHOOL",
          "NEW WORLD HIGH SCHOOL",
          "THE BRONXWOOD PREPARATORY ACADEMY",
          "PELHAM PREPARATORY ACADEMY",
          "HIGH SCHOOL FOR CONTEMPORARY ARTS",
          "BRONX AEROSPACE HIGH SCHOOL",
          "METROPOLITAN HIGH SCHOOL, THE",
          "EXPLORATIONS ACADEMY",
          "BRONX LATIN",
          "EAST BRONX ACADEMY FOR THE FUTURE",
          "PEACE AND DIVERSITY ACADEMY",
          "PAN AMERICAN INTERNATIONAL HIGH SCHOOL AT MONROE",
          "THE CINEMA SCHOOL",
          "BRONX CAREER AND COLLEGE PREPARATORY HIGH SCHOOL",
          "HIGH SCHOOL OF WORLD CULTURES",
          "FANNIE LOU HAMER FREEDOM HIGH SCHOOL",
          "WINGS ACADEMY",
          "MONROE ACADEMY FOR VISUAL ARTS & DESIGN"
         ],
         "textfont": {
          "color": "#4D5663"
         },
         "type": "scatter",
         "x": [
          52.6,
          51.4,
          50.8,
          49.9,
          56.8,
          54.8,
          54.7,
          46,
          42.3,
          15.7,
          55.5,
          7.3,
          71.4,
          56,
          99.7,
          62,
          34,
          50.8,
          50.8,
          53,
          38.9,
          47.7,
          57,
          50.1,
          49.9,
          0,
          50.7,
          53.4,
          54,
          53.8,
          55.9,
          47.8,
          46.2,
          51.5,
          55.9,
          51.2,
          54.3,
          47.7,
          45.1,
          57.8,
          54.1,
          48.5,
          56.7,
          85.4,
          48.2,
          17.3,
          69.1,
          83.5,
          42.1,
          47.7,
          43.4,
          51,
          51.1,
          52.8,
          57.7,
          52.8,
          56.8,
          36.6,
          55.6,
          48.9,
          59.3,
          42.2,
          53.3,
          67.9,
          47.6,
          46.2,
          64.7,
          59.2,
          40.5,
          48,
          12.7,
          42.9,
          67.3,
          41.4,
          42,
          40,
          50,
          38.7,
          51.9,
          44.7,
          17.5,
          46,
          49.2,
          50.2,
          47,
          55,
          48.5,
          59.2,
          55.7,
          48,
          45.9,
          46.3,
          47.4
         ],
         "y": [
          1090,
          945,
          1077,
          1097,
          1201,
          1257,
          1186,
          1103,
          1084,
          1181,
          1201,
          1158,
          1095,
          1223.4388059701494,
          1171,
          1158,
          1038,
          1164,
          1084,
          1223.4388059701494,
          1241,
          1223.4388059701494,
          1099,
          1131,
          1049,
          1134,
          1290,
          1169,
          1092,
          1396,
          1075,
          1081,
          1148,
          1223.4388059701494,
          1138,
          951,
          965,
          1074,
          1083,
          1221,
          1224,
          1121,
          1166,
          1039,
          1333,
          1150,
          1190,
          1157,
          1158,
          962,
          1182,
          934,
          1181,
          1180,
          1106,
          1222,
          1077,
          1119,
          1082,
          1255,
          1270,
          1969,
          1263,
          1064,
          1115,
          1920,
          1133,
          1147,
          1135,
          1141,
          1111,
          1348,
          1135,
          1169,
          1268,
          1151,
          1048,
          1112,
          1288,
          1126,
          1163,
          1055,
          1122,
          1251,
          1102,
          1155,
          970,
          1223.4388059701494,
          1223.4388059701494,
          939,
          1029,
          1114,
          1038
         ]
        },
        {
         "marker": {
          "color": "rgba(50, 171, 96, 1.0)",
          "line": {
           "width": 1.3
          },
          "opacity": 0.8,
          "size": 12,
          "symbol": "circle"
         },
         "mode": "markers",
         "name": "Brooklyn",
         "text": [
          "DR. SUSAN S. MCKINNEY SECONDARY SCHOOL OF THE ARTS",
          "URBAN ASSEMBLY HIGH SCHOOL OF MUSIC AND ART",
          "BROOKLYN COMMUNITY HIGH SCHOOL OF COMMUNICATION, ARTS AND MEDIA",
          "SCIENCE SKILLS CENTER HIGH SCHOOL FOR SCIENCE, TECHNOLOGY AND THE CREATIVE ARTS",
          "BROOKLYN TECHNICAL HIGH SCHOOL",
          "BROOKLYN INTERNATIONAL HIGH SCHOOL",
          "THE URBAN ASSEMBLY SCHOOL FOR LAW AND JUSTICE",
          "ACORN COMMUNITY HIGH SCHOOL",
          "URBAN ASSEMBLY INSTITUTE OF MATH AND SCIENCE FOR YOUNG WOMEN",
          "BEDFORD ACADEMY HIGH SCHOOL",
          "GEORGE WESTINGHOUSE CAREER AND TECHNICAL EDUCATION HIGH SCHOOL",
          "BENJAMIN BANNEKER ACADEMY",
          "CITY POLYTECHNIC HIGH SCHOOL OF ENGINEERING, ARCHITECTURE, AND TECHNOLOGY",
          "JUAN MOREL CAMPOS SECONDARY SCHOOL",
          "FOUNDATIONS ACADEMY",
          "BROOKLYN LATIN SCHOOL, THE",
          "GREEN SCHOOL: AN ACADEMY FOR ENVIRONMENTAL CAREERS",
          "PROGRESS HIGH SCHOOL FOR PROFESSIONAL CAREERS",
          "SCHOOL FOR LEGAL STUDIES",
          "THE HIGH SCHOOL FOR ENTERPRISE, BUSINESS AND TECHNOLOGY",
          "BROOKLYN PREPARATORY HIGH SCHOOL",
          "WILLIAMSBURG HIGH SCHOOL FOR ARCHITECTURE AND DESIGN",
          "WILLIAMSBURG PREPARATORY SCHOOL",
          "LYONS COMMUNITY SCHOOL",
          "AUTOMOTIVE HIGH SCHOOL",
          "FRANCES PERKINS ACADEMY",
          "EL PUENTE ACADEMY FOR PEACE AND JUSTICE",
          "BROOKLYN SCHOOL FOR GLOBAL STUDIES",
          "BROOKLYN SECONDARY SCHOOL FOR COLLABORATIVE STUDIES",
          "SECONDARY SCHOOL FOR LAW",
          "SECONDARY SCHOOL FOR JOURNALISM",
          "PARK SLOPE COLLEGIATE",
          "SCHOOL FOR INTERNATIONAL STUDIES",
          "COBBLE HILL SCHOOL OF AMERICAN STUDIES",
          "BROOKLYN HIGH SCHOOL OF THE ARTS",
          "SUNSET PARK HIGH SCHOOL",
          "FREDERICK DOUGLASS ACADEMY IV SECONDARY SCHOOL",
          "BOYS AND GIRLS HIGH SCHOOL",
          "BROOKLYN HIGH SCHOOL FOR LAW AND TECHNOLOGY",
          "THE BROOKLYN ACADEMY OF GLOBAL FINANCE",
          "ACADEMY FOR COLLEGE PREPARATION AND CAREER EXPLORATION: A COLLEGE BOARD SCHOOL",
          "ACADEMY OF HOSPITALITY AND TOURISM",
          "INTERNATIONAL HIGH SCHOOL AT PROSPECT HEIGHTS",
          "THE HIGH SCHOOL FOR GLOBAL CITIZENSHIP",
          "SCHOOL FOR HUMAN RIGHTS, THE",
          "SCHOOL FOR DEMOCRACY AND LEADERSHIP",
          "HIGH SCHOOL FOR YOUTH AND COMMUNITY DEVELOPMENT AT ERASMUS",
          "HIGH SCHOOL FOR SERVICE & LEARNING AT ERASMUS",
          "SCIENCE, TECHNOLOGY AND RESEARCH EARLY COLLEGE HIGH SCHOOL AT ERASMUS",
          "HIGH SCHOOL FOR PUBLIC SERVICE: HEROES OF TOMORROW",
          "BROOKLYN ACADEMY OF SCIENCE AND THE ENVIRONMENT",
          "BROOKLYN SCHOOL FOR MUSIC & THEATRE",
          "MEDGAR EVERS COLLEGE PREPARATORY SCHOOL",
          "CLARA BARTON HIGH SCHOOL",
          "IT TAKES A VILLAGE ACADEMY",
          "BROOKLYN GENERATION SCHOOL",
          "BROOKLYN THEATRE ARTS HIGH SCHOOL",
          "KURT HAHN EXPEDITIONARY LEARNING SCHOOL",
          "VICTORY COLLEGIATE HIGH SCHOOL",
          "ARTS & MEDIA PREPARATORY ACADEMY",
          "HIGH SCHOOL FOR INNOVATION IN ADVERTISING AND MEDIA",
          "CULTURAL ACADEMY FOR THE ARTS AND SCIENCES",
          "HIGH SCHOOL FOR MEDICAL PROFESSIONS",
          "ACADEMY FOR CONSERVATION AND THE ENVIRONMENT",
          "URBAN ACTION ACADEMY",
          "EAST NEW YORK FAMILY ACADEMY",
          "FDNY HIGH SCHOOL FOR FIRE AND LIFE SAFETY",
          "HIGH SCHOOL FOR CIVIL RIGHTS",
          "PERFORMING ARTS AND TECHNOLOGY HIGH SCHOOL",
          "WORLD ACADEMY FOR TOTAL COMMUNITY HEALTH HIGH SCHOOL",
          "MULTICULTURAL HIGH SCHOOL",
          "TRANSIT TECH CAREER AND TECHNICAL EDUCATION HIGH SCHOOL",
          "ACADEMY OF INNOVATIVE TECHNOLOGY",
          "BROOKLYN LAB SCHOOL",
          "CYPRESS HILLS COLLEGIATE PREPARATORY SCHOOL",
          "W. H. MAXWELL CAREER AND TECHNICAL EDUCATION HIGH SCHOOL",
          "THE SCHOOL FOR CLASSICS: AN ACADEMY OF THINKERS, WRITERS AND PERFORMERS",
          "NEW UTRECHT HIGH SCHOOL",
          "HIGH SCHOOL OF TELECOMMUNICATION ARTS AND TECHNOLOGY",
          "FORT HAMILTON HIGH SCHOOL",
          "FRANKLIN DELANO ROOSEVELT HIGH SCHOOL",
          "THE URBAN ASSEMBLY SCHOOL FOR CRIMINAL JUSTICE",
          "INTERNATIONAL HIGH SCHOOL AT LAFAYETTE",
          "RACHEL CARSON HIGH SCHOOL FOR COASTAL STUDIES",
          "HIGH SCHOOL OF SPORTS MANAGEMENT",
          "ABRAHAM LINCOLN HIGH SCHOOL",
          "KINGSBOROUGH EARLY COLLEGE SCHOOL",
          "EDWARD R. MURROW HIGH SCHOOL",
          "JOHN DEWEY HIGH SCHOOL",
          "LIFE ACADEMY HIGH SCHOOL FOR FILM AND MUSIC",
          "EXPEDITIONARY LEARNING SCHOOL FOR COMMUNITY LEADERS",
          "WILLIAM E. GRADY CAREER AND TECHNICAL EDUCATION HIGH SCHOOL",
          "BROOKLYN STUDIO SECONDARY SCHOOL",
          "MIDWOOD HIGH SCHOOL",
          "JAMES MADISON HIGH SCHOOL",
          "LEON M. GOLDSTEIN HIGH SCHOOL FOR THE SCIENCES",
          "BROOKLYN COLLEGE ACADEMY",
          "BROOKLYN COLLEGIATE: A COLLEGE BOARD SCHOOL",
          "FREDERICK DOUGLASS ACADEMY VII HIGH SCHOOL",
          "TEACHERS PREPARATORY HIGH SCHOOL",
          "ACADEMY FOR ENVIRONMENTAL LEADERSHIP",
          "EBC HIGH SCHOOL FOR PUBLIC SERVICE–BUSHWICK",
          "BUSHWICK SCHOOL FOR SOCIAL JUSTICE",
          "ACADEMY OF URBAN PLANNING",
          "ALL CITY LEADERSHIP SECONDARY SCHOOL",
          "BUSHWICK LEADERS HIGH SCHOOL FOR ACADEMIC EXCELLENCE"
         ],
         "textfont": {
          "color": "#4D5663"
         },
         "type": "scatter",
         "x": [
          63,
          57.3,
          54.5,
          43.9,
          41.7,
          51.8,
          60.4,
          44.2,
          100,
          51,
          24.5,
          53.9,
          20.6,
          45.3,
          43.3,
          45.1,
          53.8,
          51.5,
          54.2,
          34.3,
          52.2,
          27.4,
          49,
          46.3,
          4.4,
          23.1,
          57.3,
          43.8,
          40.9,
          55.8,
          57.7,
          47.2,
          49.2,
          56.1,
          66.1,
          49.3,
          51.3,
          38.3,
          48.4,
          48.4,
          46.2,
          50.2,
          40.9,
          49.9,
          48.4,
          48,
          38.4,
          36.7,
          47,
          75.1,
          45.6,
          67.2,
          58.2,
          76.2,
          51,
          39,
          63.9,
          35.7,
          51.1,
          52.6,
          33.5,
          48.5,
          78.5,
          45.3,
          37.4,
          56.8,
          18.9,
          45.6,
          48.6,
          63.2,
          50.2,
          15.9,
          29.7,
          41.6,
          52.2,
          70.2,
          62.4,
          40.7,
          46.5,
          46.6,
          41.6,
          100,
          41.1,
          46.4,
          11.1,
          43.6,
          42.2,
          57.6,
          48.5,
          49,
          48.7,
          22,
          49.9,
          54.7,
          45.6,
          58.8,
          63.7,
          49.3,
          51.5,
          65.9,
          50,
          47.9,
          51.6,
          45.5,
          47.9,
          46.8
         ],
         "y": [
          1074,
          1080,
          1114,
          1211,
          1833,
          981,
          1206,
          1116,
          1223.4388059701494,
          1312,
          1189,
          1391,
          1353,
          1085,
          1223.4388059701494,
          1740,
          1189,
          1114,
          1204,
          1215,
          1090,
          1112,
          1187,
          1103,
          1093,
          1122,
          1035,
          1111,
          1179,
          1203,
          1169,
          1175,
          1212,
          1185,
          1258,
          1223.4388059701494,
          1068,
          1097,
          1092,
          1223.4388059701494,
          1139,
          1045,
          913,
          1176,
          1088,
          1153,
          1027,
          1105,
          1360,
          1273,
          1143,
          1151,
          1436,
          1251,
          963,
          1145,
          1118,
          1092,
          1143,
          1080,
          1183,
          1169,
          1159,
          1111,
          1135,
          1242,
          1023,
          1054,
          1149,
          1106,
          887,
          1193,
          1096,
          1108,
          1129,
          1102,
          1157,
          1272,
          1323,
          1306,
          1244,
          1223.4388059701494,
          1026,
          1237,
          1164,
          1226,
          1223.4388059701494,
          1431,
          1262,
          1124,
          1079,
          1184,
          1313,
          1473,
          1350,
          1627,
          1352,
          1185,
          1091,
          1196,
          1098,
          1154,
          1035,
          1060,
          1315,
          1055
         ]
        },
        {
         "marker": {
          "color": "rgba(128, 0, 128, 1.0)",
          "line": {
           "width": 1.3
          },
          "opacity": 0.8,
          "size": 12,
          "symbol": "circle"
         },
         "mode": "markers",
         "name": "Queens",
         "text": [
          "ACADEMY OF FINANCE AND ENTERPRISE",
          "HIGH SCHOOL OF APPLIED COMMUNICATION",
          "CIVIC LEADERSHIP ACADEMY",
          "PAN AMERICAN INTERNATIONAL HIGH SCHOOL",
          "BARD HIGH SCHOOL EARLY COLLEGE II",
          "NEWTOWN HIGH SCHOOL",
          "GROVER CLEVELAND HIGH SCHOOL",
          "MIDDLE COLLEGE HIGH SCHOOL AT LAGUARDIA COMMUNITY COLLEGE",
          "INTERNATIONAL HIGH SCHOOL AT LAGUARDIA COMMUNITY COLLEGE",
          "HIGH SCHOOL FOR ARTS AND BUSINESS",
          "ROBERT F. WAGNER, JR. SECONDARY SCHOOL FOR ARTS AND TECHNOLOGY",
          "QUEENS VOCATIONAL AND TECHNICAL HIGH SCHOOL",
          "AVIATION CAREER & TECHNICAL EDUCATION HIGH SCHOOL",
          "QUEENS SCHOOL OF INQUIRY, THE",
          "FLUSHING INTERNATIONAL HIGH SCHOOL",
          "EASTsWEST SCHOOL OF INTERNATIONAL STUDIES",
          "WORLD JOURNALISM PREPARATORY: A COLLEGE BOARD SCHOOL",
          "JOHN BOWNE HIGH SCHOOL",
          "FLUSHING HIGH SCHOOL",
          "TOWNSEND HARRIS HIGH SCHOOL",
          "ROBERT F. KENNEDY COMMUNITY HIGH SCHOOL",
          "BENJAMIN N. CARDOZO HIGH SCHOOL",
          "FRANCIS LEWIS HIGH SCHOOL",
          "MARTIN VAN BUREN HIGH SCHOOL",
          "BAYSIDE HIGH SCHOOL",
          "QUEENS HIGH SCHOOL OF TEACHING, LIBERAL ARTS AND THE SCIENCES",
          "FREDERICK DOUGLASS ACADEMY VI HIGH SCHOOL",
          "CHANNEL VIEW SCHOOL FOR RESEARCH",
          "QUEENS HIGH SCHOOL FOR INFORMATION, RESEARCH, AND TECHNOLOGY",
          "ROBERT H. GODDARD HIGH SCHOOL OF COMMUNICATION ARTS AND TECHNOLOGY",
          "ACADEMY OF MEDICAL TECHNOLOGY: A COLLEGE BOARD SCHOOL",
          "SCHOLARS' ACADEMY",
          "AUGUST MARTIN HIGH SCHOOL",
          "RICHMOND HILL HIGH SCHOOL",
          "JOHN ADAMS HIGH SCHOOL",
          "HIGH SCHOOL FOR CONSTRUCTION TRADES, ENGINEERING AND ARCHITECTURE",
          "YORK EARLY COLLEGE ACADEMY",
          "QUEENS COLLEGIATE: A COLLEGE BOARD SCHOOL",
          "HILLSIDE ARTS & LETTERS ACADEMY",
          "FOREST HILLS HIGH SCHOOL",
          "HILLCREST HIGH SCHOOL",
          "THOMAS A. EDISON CAREER AND TECHNICAL EDUCATION HIGH SCHOOL",
          "QUEENS GATEWAY TO HEALTH SCIENCES SECONDARY SCHOOL",
          "QUEENS METROPOLITAN HIGH SCHOOL",
          "QUEENS HIGH SCHOOL FOR THE SCIENCES AT YORK COLLEGE",
          "HIGH SCHOOL FOR LAW ENFORCEMENT AND PUBLIC SAFETY",
          "YOUNG WOMEN'S LEADERSHIP SCHOOL, QUEENS",
          "QUEENS PREPARATORY ACADEMY",
          "PATHWAYS COLLEGE PREPARATORY SCHOOL: A COLLEGE BOARD SCHOOL",
          "EXCELSIOR PREPARATORY HIGH SCHOOL",
          "GEORGE WASHINGTON CARVER HIGH SCHOOL FOR THE SCIENCES",
          "PREPARATORY ACADEMY FOR WRITERS: A COLLEGE BOARD SCHOOL",
          "CAMBRIA HEIGHTS ACADEMY",
          "MATHEMATICS, SCIENCE RESEARCH AND TECHNOLOGY MAGNET HIGH SCHOOL",
          "HUMANITIES & ARTS MAGNET HIGH SCHOOL",
          "YOUNG WOMEN'S LEADERSHIP SCHOOL, ASTORIA",
          "ACADEMY FOR CAREERS IN TELEVISION AND FILM",
          "WILLIAM CULLEN BRYANT HIGH SCHOOL",
          "LONG ISLAND CITY HIGH SCHOOL",
          "FRANK SINATRA SCHOOL OF THE ARTS HIGH SCHOOL",
          "INFORMATION TECHNOLOGY HIGH SCHOOL",
          "NEWCOMERS HIGH SCHOOL",
          "ACADEMY OF AMERICAN STUDIES",
          "BACCALAUREATE SCHOOL FOR GLOBAL EDUCATION"
         ],
         "textfont": {
          "color": "#4D5663"
         },
         "type": "scatter",
         "x": [
          50.7,
          56.2,
          55.5,
          52.2,
          60.7,
          42.5,
          45,
          47.1,
          54,
          56.9,
          53.4,
          39.7,
          14.7,
          53.3,
          42.7,
          45.9,
          57.8,
          50.8,
          44.2,
          71.1,
          46.2,
          52.6,
          50.8,
          45.7,
          50.6,
          54.2,
          47.4,
          48.9,
          45.5,
          51.9,
          56.2,
          56.1,
          44.8,
          47,
          45.5,
          32.7,
          48.9,
          50.1,
          53,
          51.9,
          53.9,
          34.9,
          61.9,
          50.4,
          43.5,
          47,
          100,
          44,
          46.7,
          43.1,
          52.7,
          56.9,
          44.9,
          39.6,
          57.2,
          100,
          46.8,
          46.3,
          48.7,
          70,
          28.2,
          46.8,
          55,
          55.2
         ],
         "y": [
          1280,
          1219,
          1240,
          951,
          1663,
          1203,
          1211,
          1177,
          1064,
          1174,
          1330,
          1270,
          1364,
          1396,
          1049,
          1271,
          1441,
          1243,
          1216,
          1910,
          1330,
          1514,
          1474,
          1172,
          1449,
          1279,
          1145,
          1252,
          1156,
          1265,
          1094,
          1532,
          1108,
          1154,
          1192,
          1345,
          1223.4388059701494,
          1265,
          1223.4388059701494,
          1407,
          1194,
          1372,
          1538,
          1223.4388059701494,
          1868,
          1196,
          1316,
          1099,
          1173,
          1202,
          1287,
          1100,
          1223.4388059701494,
          1220,
          1151,
          1223.4388059701494,
          1255,
          1275,
          1218,
          1494,
          1239,
          1127,
          1470,
          1636
         ]
        },
        {
         "marker": {
          "color": "rgba(219, 64, 82, 1.0)",
          "line": {
           "width": 1.3
          },
          "opacity": 0.8,
          "size": 12,
          "symbol": "circle"
         },
         "mode": "markers",
         "name": "Staten Island",
         "text": [
          "CSI HIGH SCHOOL FOR INTERNATIONAL STUDIES",
          "GAYNOR MCCOWN EXPEDITIONARY LEARNING SCHOOL",
          "THE MICHAEL J. PETRIDES SCHOOL",
          "NEW DORP HIGH SCHOOL",
          "PORT RICHMOND HIGH SCHOOL",
          "CURTIS HIGH SCHOOL",
          "TOTTENVILLE HIGH SCHOOL",
          "SUSAN E. WAGNER HIGH SCHOOL",
          "RALPH R. MCKEE CAREER AND TECHNICAL EDUCATION HIGH SCHOOL",
          "STATEN ISLAND TECHNICAL HIGH SCHOOL"
         ],
         "textfont": {
          "color": "#4D5663"
         },
         "type": "scatter",
         "x": [
          58.5,
          48,
          50.8,
          47.5,
          45.2,
          53.6,
          50.4,
          49.2,
          32.9,
          43
         ],
         "y": [
          1353,
          1195,
          1426,
          1277,
          1279,
          1301,
          1418,
          1388,
          1235,
          1953
         ]
        }
       ],
       "layout": {
        "legend": {
         "bgcolor": "#F5F6F9",
         "font": {
          "color": "#4D5663"
         }
        },
        "paper_bgcolor": "#F5F6F9",
        "plot_bgcolor": "#F5F6F9",
        "shapes": [
         {
          "line": {
           "color": "#000000",
           "dash": "dash",
           "width": 1
          },
          "type": "line",
          "x0": 0,
          "x1": 1,
          "xref": "paper",
          "y0": 1223.4388059701494,
          "y1": 1223.4388059701494,
          "yref": "y"
         },
         {
          "line": {
           "color": "#000000",
           "dash": "dash",
           "width": 1
          },
          "type": "line",
          "x0": 50.62066115702479,
          "x1": 50.62066115702479,
          "xref": "x",
          "y0": 0,
          "y1": 1,
          "yref": "paper"
         }
        ],
        "title": "Share of female students vs. SAT score by school <br> dashed lines: average of entire dataset",
        "titlefont": {
         "color": "#4D5663"
        },
        "xaxis": {
         "gridcolor": "#E1E5ED",
         "showgrid": true,
         "tickfont": {
          "color": "#4D5663"
         },
         "title": "Share females, %",
         "titlefont": {
          "color": "#4D5663"
         },
         "zerolinecolor": "#E1E5ED"
        },
        "yaxis": {
         "gridcolor": "#E1E5ED",
         "showgrid": true,
         "tickfont": {
          "color": "#4D5663"
         },
         "title": "Avg. SAT score",
         "titlefont": {
          "color": "#4D5663"
         },
         "zerolinecolor": "#E1E5ED"
        }
       }
      },
      "text/html": [
       "<div>\n",
       "        \n",
       "        \n",
       "            <div id=\"28ce9ddb-3744-4361-a03e-d68a13e203fa\" class=\"plotly-graph-div\" style=\"height:525px; width:100%;\"></div>\n",
       "            <script type=\"text/javascript\">\n",
       "                require([\"plotly\"], function(Plotly) {\n",
       "                    window.PLOTLYENV=window.PLOTLYENV || {};\n",
       "                    window.PLOTLYENV.BASE_URL='https://plot.ly';\n",
       "                    \n",
       "                if (document.getElementById(\"28ce9ddb-3744-4361-a03e-d68a13e203fa\")) {\n",
       "                    Plotly.newPlot(\n",
       "                        '28ce9ddb-3744-4361-a03e-d68a13e203fa',\n",
       "                        [{\"marker\": {\"color\": \"rgba(255, 153, 51, 1.0)\", \"line\": {\"width\": 1.3}, \"opacity\": 0.8, \"size\": 12, \"symbol\": \"circle\"}, \"mode\": \"markers\", \"name\": \"Manhattan\", \"text\": [\"HENRY STREET SCHOOL FOR INTERNATIONAL STUDIES\", \"UNIVERSITY NEIGHBORHOOD HIGH SCHOOL\", \"EAST SIDE COMMUNITY SCHOOL\", \"MARTA VALLE HIGH SCHOOL\", \"NEW EXPLORATIONS INTO SCIENCE, TECHNOLOGY AND MATH HIGH SCHOOL\", \"BARD HIGH SCHOOL EARLY COLLEGE\", \"47 THE AMERICAN SIGN LANGUAGE AND ENGLISH SECONDARY SCHOOL\", \"FOOD AND FINANCE HIGH SCHOOL\", \"ESSEX STREET ACADEMY\", \"HIGH SCHOOL OF HOSPITALITY MANAGEMENT\", \"PACE HIGH SCHOOL\", \"URBAN ASSEMBLY SCHOOL OF DESIGN AND CONSTRUCTION, THE\", \"FACING HISTORY SCHOOL, THE\", \"URBAN ASSEMBLY ACADEMY OF GOVERNMENT AND LAW, THE\", \"LOWER MANHATTAN ARTS ACADEMY\", \"URBAN ASSEMBLY SCHOOL OF BUSINESS FOR YOUNG WOMEN, THE\", \"GRAMERCY ARTS HIGH SCHOOL\", \"NYC ISCHOOL\", \"MANHATTAN BUSINESS ACADEMY\", \"BUSINESS OF SPORTS SCHOOL\", \"THE HIGH SCHOOL FOR LANGUAGE AND DIPLOMACY\", \"HIGH SCHOOL FOR ENVIRONMENTAL STUDIES\", \"PROFESSIONAL PERFORMING ARTS HIGH SCHOOL\", \"BARUCH COLLEGE CAMPUS HIGH SCHOOL\", \"N.Y.C. LAB SCHOOL FOR COLLABORATIVE STUDIES\", \"N.Y.C. MUSEUM SCHOOL\", \"ELEANOR ROOSEVELT HIGH SCHOOL\", \"MILLENNIUM HIGH SCHOOL\", \"LANDMARK HIGH SCHOOL\", \"HIGH SCHOOL FOR HEALTH PROFESSIONS AND HUMAN SERVICES\", \"LEADERSHIP AND PUBLIC SERVICE HIGH SCHOOL\", \"MANHATTAN ACADEMY FOR ARTS & LANGUAGE\", \"HUDSON HIGH SCHOOL OF LEARNING TECHNOLOGIES\", \"INTERNATIONAL HIGH SCHOOL AT UNION SQUARE\", \"MANHATTAN VILLAGE ACADEMY\", \"VANGUARD HIGH SCHOOL\", \"MANHATTAN INTERNATIONAL HIGH SCHOOL\", \"STUYVESANT HIGH SCHOOL\", \"HIGH SCHOOL OF ECONOMICS AND FINANCE\", \"UNITY CENTER FOR URBAN TECHNOLOGIES\", \"TALENT UNLIMITED HIGH SCHOOL\", \"MURRY BERGTRAUM HIGH SCHOOL FOR BUSINESS CAREERS\", \"JACQUELINE KENNEDY ONASSIS HIGH SCHOOL\", \"REPERTORY COMPANY HIGH SCHOOL FOR THEATRE ARTS\", \"MANHATTAN BRIDGES HIGH SCHOOL\", \"NEW DESIGN HIGH SCHOOL\", \"HIGH SCHOOL FOR DUAL LANGUAGE AND ASIAN STUDIES\", \"THE URBAN ASSEMBLY NEW YORK HARBOR SCHOOL\", \"RICHARD R. GREEN HIGH SCHOOL OF TEACHING\", \"THE HIGH SCHOOL OF FASHION INDUSTRIES\", \"HUMANITIES PREPARATORY ACADEMY\", \"CHELSEA CAREER AND TECHNICAL EDUCATION HIGH SCHOOL\", \"ART AND DESIGN HIGH SCHOOL\", \"LIFE SCIENCES SECONDARY SCHOOL\", \"HIGH SCHOOL FOR ARTS, IMAGINATION AND INQUIRY\", \"URBAN ASSEMBLY SCHOOL FOR MEDIA STUDIES, THE\", \"THE URBAN ASSEMBLY SCHOOL FOR GREEN CAREERS\", \"THE GLOBAL LEARNING COLLABORATIVE\", \"WADLEIGH SECONDARY SCHOOL FOR THE PERFORMING & VISUAL ARTS\", \"FRANK MCCOURT HIGH SCHOOL\", \"BEACON HIGH SCHOOL\", \"FIORELLO H. LAGUARDIA HIGH SCHOOL OF MUSIC & ART AND PERFORMING ARTS\", \"HIGH SCHOOL FOR LAW, ADVOCACY AND COMMUNITY JUSTICE\", \"HIGH SCHOOL OF ARTS AND TECHNOLOGY\", \"MANHATTAN / HUNTER SCIENCE HIGH SCHOOL\", \"FREDERICK DOUGLASS ACADEMY II SECONDARY SCHOOL\", \"COALITION SCHOOL FOR SOCIAL CHANGE\", \"MANHATTAN CENTER FOR SCIENCE AND MATHEMATICS\", \"PARK EAST HIGH SCHOOL\", \"CENTRAL PARK EAST HIGH SCHOOL\", \"YOUNG WOMEN'S LEADERSHIP SCHOOL\", \"YOUNG WOMEN'S LEADERSHIP SCHOOL\", \"HERITAGE SCHOOL, THE\", \"MOTT HALL HIGH SCHOOL\", \"COLUMBIA SECONDARY SCHOOL FOR MATH, SCIENCE, AND ENGINEERING\", \"ACADEMY FOR SOCIAL ACTION: A COLLEGE BOARD SCHOOL\", \"URBAN ASSEMBLY SCHOOL FOR THE PERFORMING ARTS\", \"FREDERICK DOUGLASS ACADEMY\", \"THURGOOD MARSHALL ACADEMY FOR LEARNING AND SOCIAL CHANGE\", \"HIGH SCHOOL FOR MATHEMATICS, SCIENCE AND ENGINEERING AT CITY COLLEGE\", \"CITY COLLEGE ACADEMY OF THE ARTS\", \"COMMUNITY HEALTH ACADEMY OF THE HEIGHTS\", \"WASHINGTON HEIGHTS EXPEDITIONARY LEARNING SCHOOL\", \"HIGH SCHOOL FOR EXCELLENCE AND INNOVATION\", \"HIGH SCHOOL FOR INTERNATIONAL BUSINESS AND FINANCE\", \"HIGH SCHOOL FOR MEDIA AND COMMUNICATIONS\", \"HIGH SCHOOL FOR LAW AND PUBLIC SERVICE\", \"HIGH SCHOOL FOR HEALTH CAREERS AND SCIENCES\", \"A. PHILIP RANDOLPH CAMPUS HIGH SCHOOL\", \"GREGORIO LUPERON HIGH SCHOOL FOR SCIENCE AND MATHEMATICS\"], \"textfont\": {\"color\": \"#4D5663\"}, \"type\": \"scatter\", \"x\": [38.6, 42.6, 45.3, 53.7, 50.8, 68.7, 57.5, 55.0, 46.6, 67.8, 56.3, 25.1, 49.4, 56.1, 60.1, 100.0, 73.7, 51.3, 41.0, 27.6, 52.0, 49.6, 74.7, 56.0, 53.0, 57.6, 67.5, 61.8, 51.5, 70.6, 53.9, 45.1, 39.4, 38.6, 61.5, 53.8, 55.7, 40.7, 45.5, 37.6, 78.6, 50.9, 59.4, 78.8, 48.6, 61.7, 48.7, 39.1, 67.4, 92.7, 57.3, 35.0, 53.3, 48.4, 44.3, 42.1, 43.1, 48.6, 61.6, 53.4, 61.0, 73.6, 59.9, 32.3, 58.9, 45.8, 55.6, 53.6, 57.9, 67.9, 100.0, 100.0, 51.4, 46.5, 50.4, 51.3, 74.6, 47.8, 55.9, 34.2, 60.4, 47.7, 44.2, 47.2, 36.2, 36.5, 41.4, 47.3, 50.1, 51.1], \"y\": [1122.0, 1172.0, 1149.0, 1207.0, 1621.0, 1856.0, 1182.0, 1194.0, 1156.0, 1111.0, 1293.0, 1269.0, 1051.0, 1148.0, 1200.0, 1127.0, 1176.0, 1435.0, 1223.4388059701494, 1223.4388059701494, 1223.4388059701494, 1419.0, 1522.0, 1577.0, 1677.0, 1419.0, 1758.0, 1614.0, 1170.0, 1306.0, 1233.0, 1223.4388059701494, 1223.4388059701494, 1223.4388059701494, 1372.0, 1199.0, 1227.0, 2096.0, 1374.0, 1070.0, 1416.0, 1240.0, 1239.0, 1253.0, 1058.0, 1168.0, 1424.0, 1212.0, 1195.0, 1257.0, 1255.0, 1207.0, 1315.0, 1236.0, 1132.0, 1144.0, 1223.4388059701494, 1223.4388059701494, 1109.0, 1223.4388059701494, 1744.0, 1707.0, 1196.0, 1277.0, 1446.0, 1096.0, 1084.0, 1430.0, 1128.0, 1221.0, 1326.0, 1326.0, 1054.0, 1210.0, 1223.4388059701494, 1062.0, 1077.0, 1374.0, 1202.0, 1847.0, 1270.0, 1105.0, 1174.0, 1223.4388059701494, 1127.0, 1098.0, 1102.0, 1224.0, 1309.0, 1014.0]}, {\"marker\": {\"color\": \"rgba(55, 128, 191, 1.0)\", \"line\": {\"width\": 1.3}, \"opacity\": 0.8, \"size\": 12, \"symbol\": \"circle\"}, \"mode\": \"markers\", \"name\": \"Bronx\", \"text\": [\"SOUTH BRONX PREPARATORY: A COLLEGE BOARD SCHOOL\", \"INTERNATIONAL COMMUNITY HIGH SCHOOL\", \"COMMUNITY SCHOOL FOR SOCIAL JUSTICE\", \"MOTT HAVEN VILLAGE PREPARATORY HIGH SCHOOL\", \"UNIVERSITY HEIGHTS SECONDARY SCHOOL\", \"HOSTOSsLINCOLN ACADEMY OF SCIENCE\", \"FOREIGN LANGUAGE ACADEMY OF GLOBAL STUDIES\", \"BRONX LEADERSHIP ACADEMY II HIGH SCHOOL\", \"NEW EXPLORERS HIGH SCHOOL\", \"URBAN ASSEMBLY SCHOOL FOR CAREERS IN SPORTS\", \"BRONX ACADEMY OF LETTERS\", \"ALFRED E. SMITH CAREER AND TECHNICAL EDUCATION HIGH SCHOOL\", \"HEALTH OPPORTUNITIES HIGH SCHOOL\", \"BRONX STUDIO SCHOOL FOR WRITERS AND ARTISTS\", \"WOMEN'S ACADEMY OF EXCELLENCE\", \"RENAISSANCE HIGH SCHOOL FOR MUSICAL THEATER & TECHNOLOGY\", \"PABLO NERUDA ACADEMY FOR ARCHITECTURE AND WORLD STUDIES\", \"MILLENNIUM ART ACADEMY\", \"HOLCOMBE L. RUCKER SCHOOL OF COMMUNITY RESEARCH\", \"ANTONIA PANTOJA PREPARATORY ACADEMY, A COLLEGE BOARD SCHOOL\", \"HERBERT H. LEHMAN HIGH SCHOOL\", \"BRONX BRIDGES HIGH SCHOOL\", \"FELISA RINCON DE GAUTIER INSTITUTE FOR LAW AND PUBLIC POLICY, THE\", \"BANANA KELLY HIGH SCHOOL\", \"BRONX EXPEDITIONARY LEARNING HIGH SCHOOL\", \"EAGLE ACADEMY FOR YOUNG MEN\", \"URBAN ASSEMBLY SCHOOL FOR APPLIED MATH AND SCIENCE, THE\", \"EXIMIUS COLLEGE PREPARATORY ACADEMY: A COLLEGE BOARD SCHOOL\", \"MOTT HALL BRONX HIGH SCHOOL\", \"BRONX CENTER FOR SCIENCE AND MATHEMATICS\", \"VALIDUS PREPARATORY ACADEMY: AN EXPEDITIONARY LEARNING SCHOOL\", \"LEADERSHIP INSTITUTE\", \"MORRIS ACADEMY FOR COLLABORATIVE STUDIES\", \"BRONX EARLY COLLEGE ACADEMY FOR TEACHING & LEARNING\", \"DREAMYARD PREPARATORY SCHOOL\", \"ACADEMY FOR LANGUAGE AND TECHNOLOGY\", \"BRONX INTERNATIONAL HIGH SCHOOL\", \"SCHOOL FOR EXCELLENCE\", \"BRONX HIGH SCHOOL OF BUSINESS\", \"BRONX HIGH SCHOOL FOR MEDICAL SCIENCE\", \"BRONX SCHOOL FOR LAW, GOVERNMENT AND JUSTICE\", \"FREDERICK DOUGLASS ACADEMY III SECONDARY SCHOOL\", \"BRONX LEADERSHIP ACADEMY HIGH SCHOOL\", \"HIGH SCHOOL FOR VIOLIN AND DANCE\", \"RIVERDALE / KINGSBRIDGE ACADEMY (MIDDLE SCHOOL / HIGH SCHOOL 141)\", \"BRONX ENGINEERING AND TECHNOLOGY ACADEMY\", \"THEATRE ARTS PRODUCTION COMPANY SCHOOL\", \"THE MARIE CURIE SCHOOL FOR MEDICINE, NURSING, AND HEALTH PROFESSIONS\", \"WEST BRONX ACADEMY FOR THE FUTURE\", \"KINGSBRIDGE INTERNATIONAL HIGH SCHOOL\", \"BRONX SCHOOL OF LAW AND FINANCE\", \"INTERNATIONAL SCHOOL FOR LIBERAL ARTS\", \"INsTECH ACADEMY (M.S. / HIGH SCHOOL 368)\", \"KNOWLEDGE AND POWER PREPARATORY ACADEMY INTERNATIONAL HIGH SCHOOL (KAPPA)\", \"HIGH SCHOOL FOR TEACHING AND THE PROFESSIONS\", \"BELMONT PREPARATORY HIGH SCHOOL\", \"FORDHAM HIGH SCHOOL FOR THE ARTS\", \"FORDHAM LEADERSHIP ACADEMY FOR BUSINESS AND TECHNOLOGY\", \"BRONX HIGH SCHOOL FOR LAW AND COMMUNITY SERVICE\", \"DEWITT CLINTON HIGH SCHOOL\", \"CELIA CRUZ BRONX HIGH SCHOOL OF MUSIC, THE\", \"BRONX HIGH SCHOOL OF SCIENCE\", \"MARBLE HILL HIGH SCHOOL FOR INTERNATIONAL STUDIES\", \"BRONX THEATRE HIGH SCHOOL\", \"DISCOVERY HIGH SCHOOL\", \"HIGH SCHOOL OF AMERICAN STUDIES AT LEHMAN COLLEGE\", \"BRONX HEALTH SCIENCES HIGH SCHOOL\", \"BRONX HIGH SCHOOL FOR WRITING AND COMMUNICATION ARTS\", \"BRONX LAB SCHOOL\", \"ACADEMY FOR SCHOLARSHIP AND ENTREPRENEURSHIP: A COLLEGE BOARD SCHOOL\", \"HIGH SCHOOL OF COMPUTERS AND TECHNOLOGY\", \"COLLEGIATE INSTITUTE FOR MATH AND SCIENCE\", \"BRONX ACADEMY OF HEALTH CAREERS\", \"ASTOR COLLEGIATE ACADEMY\", \"BRONX HIGH SCHOOL FOR THE VISUAL ARTS\", \"HARRY S TRUMAN HIGH SCHOOL\", \"NEW WORLD HIGH SCHOOL\", \"THE BRONXWOOD PREPARATORY ACADEMY\", \"PELHAM PREPARATORY ACADEMY\", \"HIGH SCHOOL FOR CONTEMPORARY ARTS\", \"BRONX AEROSPACE HIGH SCHOOL\", \"METROPOLITAN HIGH SCHOOL, THE\", \"EXPLORATIONS ACADEMY\", \"BRONX LATIN\", \"EAST BRONX ACADEMY FOR THE FUTURE\", \"PEACE AND DIVERSITY ACADEMY\", \"PAN AMERICAN INTERNATIONAL HIGH SCHOOL AT MONROE\", \"THE CINEMA SCHOOL\", \"BRONX CAREER AND COLLEGE PREPARATORY HIGH SCHOOL\", \"HIGH SCHOOL OF WORLD CULTURES\", \"FANNIE LOU HAMER FREEDOM HIGH SCHOOL\", \"WINGS ACADEMY\", \"MONROE ACADEMY FOR VISUAL ARTS & DESIGN\"], \"textfont\": {\"color\": \"#4D5663\"}, \"type\": \"scatter\", \"x\": [52.6, 51.4, 50.8, 49.9, 56.8, 54.8, 54.7, 46.0, 42.3, 15.7, 55.5, 7.3, 71.4, 56.0, 99.7, 62.0, 34.0, 50.8, 50.8, 53.0, 38.9, 47.7, 57.0, 50.1, 49.9, 0.0, 50.7, 53.4, 54.0, 53.8, 55.9, 47.8, 46.2, 51.5, 55.9, 51.2, 54.3, 47.7, 45.1, 57.8, 54.1, 48.5, 56.7, 85.4, 48.2, 17.3, 69.1, 83.5, 42.1, 47.7, 43.4, 51.0, 51.1, 52.8, 57.7, 52.8, 56.8, 36.6, 55.6, 48.9, 59.3, 42.2, 53.3, 67.9, 47.6, 46.2, 64.7, 59.2, 40.5, 48.0, 12.7, 42.9, 67.3, 41.4, 42.0, 40.0, 50.0, 38.7, 51.9, 44.7, 17.5, 46.0, 49.2, 50.2, 47.0, 55.0, 48.5, 59.2, 55.7, 48.0, 45.9, 46.3, 47.4], \"y\": [1090.0, 945.0, 1077.0, 1097.0, 1201.0, 1257.0, 1186.0, 1103.0, 1084.0, 1181.0, 1201.0, 1158.0, 1095.0, 1223.4388059701494, 1171.0, 1158.0, 1038.0, 1164.0, 1084.0, 1223.4388059701494, 1241.0, 1223.4388059701494, 1099.0, 1131.0, 1049.0, 1134.0, 1290.0, 1169.0, 1092.0, 1396.0, 1075.0, 1081.0, 1148.0, 1223.4388059701494, 1138.0, 951.0, 965.0, 1074.0, 1083.0, 1221.0, 1224.0, 1121.0, 1166.0, 1039.0, 1333.0, 1150.0, 1190.0, 1157.0, 1158.0, 962.0, 1182.0, 934.0, 1181.0, 1180.0, 1106.0, 1222.0, 1077.0, 1119.0, 1082.0, 1255.0, 1270.0, 1969.0, 1263.0, 1064.0, 1115.0, 1920.0, 1133.0, 1147.0, 1135.0, 1141.0, 1111.0, 1348.0, 1135.0, 1169.0, 1268.0, 1151.0, 1048.0, 1112.0, 1288.0, 1126.0, 1163.0, 1055.0, 1122.0, 1251.0, 1102.0, 1155.0, 970.0, 1223.4388059701494, 1223.4388059701494, 939.0, 1029.0, 1114.0, 1038.0]}, {\"marker\": {\"color\": \"rgba(50, 171, 96, 1.0)\", \"line\": {\"width\": 1.3}, \"opacity\": 0.8, \"size\": 12, \"symbol\": \"circle\"}, \"mode\": \"markers\", \"name\": \"Brooklyn\", \"text\": [\"DR. SUSAN S. MCKINNEY SECONDARY SCHOOL OF THE ARTS\", \"URBAN ASSEMBLY HIGH SCHOOL OF MUSIC AND ART\", \"BROOKLYN COMMUNITY HIGH SCHOOL OF COMMUNICATION, ARTS AND MEDIA\", \"SCIENCE SKILLS CENTER HIGH SCHOOL FOR SCIENCE, TECHNOLOGY AND THE CREATIVE ARTS\", \"BROOKLYN TECHNICAL HIGH SCHOOL\", \"BROOKLYN INTERNATIONAL HIGH SCHOOL\", \"THE URBAN ASSEMBLY SCHOOL FOR LAW AND JUSTICE\", \"ACORN COMMUNITY HIGH SCHOOL\", \"URBAN ASSEMBLY INSTITUTE OF MATH AND SCIENCE FOR YOUNG WOMEN\", \"BEDFORD ACADEMY HIGH SCHOOL\", \"GEORGE WESTINGHOUSE CAREER AND TECHNICAL EDUCATION HIGH SCHOOL\", \"BENJAMIN BANNEKER ACADEMY\", \"CITY POLYTECHNIC HIGH SCHOOL OF ENGINEERING, ARCHITECTURE, AND TECHNOLOGY\", \"JUAN MOREL CAMPOS SECONDARY SCHOOL\", \"FOUNDATIONS ACADEMY\", \"BROOKLYN LATIN SCHOOL, THE\", \"GREEN SCHOOL: AN ACADEMY FOR ENVIRONMENTAL CAREERS\", \"PROGRESS HIGH SCHOOL FOR PROFESSIONAL CAREERS\", \"SCHOOL FOR LEGAL STUDIES\", \"THE HIGH SCHOOL FOR ENTERPRISE, BUSINESS AND TECHNOLOGY\", \"BROOKLYN PREPARATORY HIGH SCHOOL\", \"WILLIAMSBURG HIGH SCHOOL FOR ARCHITECTURE AND DESIGN\", \"WILLIAMSBURG PREPARATORY SCHOOL\", \"LYONS COMMUNITY SCHOOL\", \"AUTOMOTIVE HIGH SCHOOL\", \"FRANCES PERKINS ACADEMY\", \"EL PUENTE ACADEMY FOR PEACE AND JUSTICE\", \"BROOKLYN SCHOOL FOR GLOBAL STUDIES\", \"BROOKLYN SECONDARY SCHOOL FOR COLLABORATIVE STUDIES\", \"SECONDARY SCHOOL FOR LAW\", \"SECONDARY SCHOOL FOR JOURNALISM\", \"PARK SLOPE COLLEGIATE\", \"SCHOOL FOR INTERNATIONAL STUDIES\", \"COBBLE HILL SCHOOL OF AMERICAN STUDIES\", \"BROOKLYN HIGH SCHOOL OF THE ARTS\", \"SUNSET PARK HIGH SCHOOL\", \"FREDERICK DOUGLASS ACADEMY IV SECONDARY SCHOOL\", \"BOYS AND GIRLS HIGH SCHOOL\", \"BROOKLYN HIGH SCHOOL FOR LAW AND TECHNOLOGY\", \"THE BROOKLYN ACADEMY OF GLOBAL FINANCE\", \"ACADEMY FOR COLLEGE PREPARATION AND CAREER EXPLORATION: A COLLEGE BOARD SCHOOL\", \"ACADEMY OF HOSPITALITY AND TOURISM\", \"INTERNATIONAL HIGH SCHOOL AT PROSPECT HEIGHTS\", \"THE HIGH SCHOOL FOR GLOBAL CITIZENSHIP\", \"SCHOOL FOR HUMAN RIGHTS, THE\", \"SCHOOL FOR DEMOCRACY AND LEADERSHIP\", \"HIGH SCHOOL FOR YOUTH AND COMMUNITY DEVELOPMENT AT ERASMUS\", \"HIGH SCHOOL FOR SERVICE & LEARNING AT ERASMUS\", \"SCIENCE, TECHNOLOGY AND RESEARCH EARLY COLLEGE HIGH SCHOOL AT ERASMUS\", \"HIGH SCHOOL FOR PUBLIC SERVICE: HEROES OF TOMORROW\", \"BROOKLYN ACADEMY OF SCIENCE AND THE ENVIRONMENT\", \"BROOKLYN SCHOOL FOR MUSIC & THEATRE\", \"MEDGAR EVERS COLLEGE PREPARATORY SCHOOL\", \"CLARA BARTON HIGH SCHOOL\", \"IT TAKES A VILLAGE ACADEMY\", \"BROOKLYN GENERATION SCHOOL\", \"BROOKLYN THEATRE ARTS HIGH SCHOOL\", \"KURT HAHN EXPEDITIONARY LEARNING SCHOOL\", \"VICTORY COLLEGIATE HIGH SCHOOL\", \"ARTS & MEDIA PREPARATORY ACADEMY\", \"HIGH SCHOOL FOR INNOVATION IN ADVERTISING AND MEDIA\", \"CULTURAL ACADEMY FOR THE ARTS AND SCIENCES\", \"HIGH SCHOOL FOR MEDICAL PROFESSIONS\", \"ACADEMY FOR CONSERVATION AND THE ENVIRONMENT\", \"URBAN ACTION ACADEMY\", \"EAST NEW YORK FAMILY ACADEMY\", \"FDNY HIGH SCHOOL FOR FIRE AND LIFE SAFETY\", \"HIGH SCHOOL FOR CIVIL RIGHTS\", \"PERFORMING ARTS AND TECHNOLOGY HIGH SCHOOL\", \"WORLD ACADEMY FOR TOTAL COMMUNITY HEALTH HIGH SCHOOL\", \"MULTICULTURAL HIGH SCHOOL\", \"TRANSIT TECH CAREER AND TECHNICAL EDUCATION HIGH SCHOOL\", \"ACADEMY OF INNOVATIVE TECHNOLOGY\", \"BROOKLYN LAB SCHOOL\", \"CYPRESS HILLS COLLEGIATE PREPARATORY SCHOOL\", \"W. H. MAXWELL CAREER AND TECHNICAL EDUCATION HIGH SCHOOL\", \"THE SCHOOL FOR CLASSICS: AN ACADEMY OF THINKERS, WRITERS AND PERFORMERS\", \"NEW UTRECHT HIGH SCHOOL\", \"HIGH SCHOOL OF TELECOMMUNICATION ARTS AND TECHNOLOGY\", \"FORT HAMILTON HIGH SCHOOL\", \"FRANKLIN DELANO ROOSEVELT HIGH SCHOOL\", \"THE URBAN ASSEMBLY SCHOOL FOR CRIMINAL JUSTICE\", \"INTERNATIONAL HIGH SCHOOL AT LAFAYETTE\", \"RACHEL CARSON HIGH SCHOOL FOR COASTAL STUDIES\", \"HIGH SCHOOL OF SPORTS MANAGEMENT\", \"ABRAHAM LINCOLN HIGH SCHOOL\", \"KINGSBOROUGH EARLY COLLEGE SCHOOL\", \"EDWARD R. MURROW HIGH SCHOOL\", \"JOHN DEWEY HIGH SCHOOL\", \"LIFE ACADEMY HIGH SCHOOL FOR FILM AND MUSIC\", \"EXPEDITIONARY LEARNING SCHOOL FOR COMMUNITY LEADERS\", \"WILLIAM E. GRADY CAREER AND TECHNICAL EDUCATION HIGH SCHOOL\", \"BROOKLYN STUDIO SECONDARY SCHOOL\", \"MIDWOOD HIGH SCHOOL\", \"JAMES MADISON HIGH SCHOOL\", \"LEON M. GOLDSTEIN HIGH SCHOOL FOR THE SCIENCES\", \"BROOKLYN COLLEGE ACADEMY\", \"BROOKLYN COLLEGIATE: A COLLEGE BOARD SCHOOL\", \"FREDERICK DOUGLASS ACADEMY VII HIGH SCHOOL\", \"TEACHERS PREPARATORY HIGH SCHOOL\", \"ACADEMY FOR ENVIRONMENTAL LEADERSHIP\", \"EBC HIGH SCHOOL FOR PUBLIC SERVICE\\u2013BUSHWICK\", \"BUSHWICK SCHOOL FOR SOCIAL JUSTICE\", \"ACADEMY OF URBAN PLANNING\", \"ALL CITY LEADERSHIP SECONDARY SCHOOL\", \"BUSHWICK LEADERS HIGH SCHOOL FOR ACADEMIC EXCELLENCE\"], \"textfont\": {\"color\": \"#4D5663\"}, \"type\": \"scatter\", \"x\": [63.0, 57.3, 54.5, 43.9, 41.7, 51.8, 60.4, 44.2, 100.0, 51.0, 24.5, 53.9, 20.6, 45.3, 43.3, 45.1, 53.8, 51.5, 54.2, 34.3, 52.2, 27.4, 49.0, 46.3, 4.4, 23.1, 57.3, 43.8, 40.9, 55.8, 57.7, 47.2, 49.2, 56.1, 66.1, 49.3, 51.3, 38.3, 48.4, 48.4, 46.2, 50.2, 40.9, 49.9, 48.4, 48.0, 38.4, 36.7, 47.0, 75.1, 45.6, 67.2, 58.2, 76.2, 51.0, 39.0, 63.9, 35.7, 51.1, 52.6, 33.5, 48.5, 78.5, 45.3, 37.4, 56.8, 18.9, 45.6, 48.6, 63.2, 50.2, 15.9, 29.7, 41.6, 52.2, 70.2, 62.4, 40.7, 46.5, 46.6, 41.6, 100.0, 41.1, 46.4, 11.1, 43.6, 42.2, 57.6, 48.5, 49.0, 48.7, 22.0, 49.9, 54.7, 45.6, 58.8, 63.7, 49.3, 51.5, 65.9, 50.0, 47.9, 51.6, 45.5, 47.9, 46.8], \"y\": [1074.0, 1080.0, 1114.0, 1211.0, 1833.0, 981.0, 1206.0, 1116.0, 1223.4388059701494, 1312.0, 1189.0, 1391.0, 1353.0, 1085.0, 1223.4388059701494, 1740.0, 1189.0, 1114.0, 1204.0, 1215.0, 1090.0, 1112.0, 1187.0, 1103.0, 1093.0, 1122.0, 1035.0, 1111.0, 1179.0, 1203.0, 1169.0, 1175.0, 1212.0, 1185.0, 1258.0, 1223.4388059701494, 1068.0, 1097.0, 1092.0, 1223.4388059701494, 1139.0, 1045.0, 913.0, 1176.0, 1088.0, 1153.0, 1027.0, 1105.0, 1360.0, 1273.0, 1143.0, 1151.0, 1436.0, 1251.0, 963.0, 1145.0, 1118.0, 1092.0, 1143.0, 1080.0, 1183.0, 1169.0, 1159.0, 1111.0, 1135.0, 1242.0, 1023.0, 1054.0, 1149.0, 1106.0, 887.0, 1193.0, 1096.0, 1108.0, 1129.0, 1102.0, 1157.0, 1272.0, 1323.0, 1306.0, 1244.0, 1223.4388059701494, 1026.0, 1237.0, 1164.0, 1226.0, 1223.4388059701494, 1431.0, 1262.0, 1124.0, 1079.0, 1184.0, 1313.0, 1473.0, 1350.0, 1627.0, 1352.0, 1185.0, 1091.0, 1196.0, 1098.0, 1154.0, 1035.0, 1060.0, 1315.0, 1055.0]}, {\"marker\": {\"color\": \"rgba(128, 0, 128, 1.0)\", \"line\": {\"width\": 1.3}, \"opacity\": 0.8, \"size\": 12, \"symbol\": \"circle\"}, \"mode\": \"markers\", \"name\": \"Queens\", \"text\": [\"ACADEMY OF FINANCE AND ENTERPRISE\", \"HIGH SCHOOL OF APPLIED COMMUNICATION\", \"CIVIC LEADERSHIP ACADEMY\", \"PAN AMERICAN INTERNATIONAL HIGH SCHOOL\", \"BARD HIGH SCHOOL EARLY COLLEGE II\", \"NEWTOWN HIGH SCHOOL\", \"GROVER CLEVELAND HIGH SCHOOL\", \"MIDDLE COLLEGE HIGH SCHOOL AT LAGUARDIA COMMUNITY COLLEGE\", \"INTERNATIONAL HIGH SCHOOL AT LAGUARDIA COMMUNITY COLLEGE\", \"HIGH SCHOOL FOR ARTS AND BUSINESS\", \"ROBERT F. WAGNER, JR. SECONDARY SCHOOL FOR ARTS AND TECHNOLOGY\", \"QUEENS VOCATIONAL AND TECHNICAL HIGH SCHOOL\", \"AVIATION CAREER & TECHNICAL EDUCATION HIGH SCHOOL\", \"QUEENS SCHOOL OF INQUIRY, THE\", \"FLUSHING INTERNATIONAL HIGH SCHOOL\", \"EASTsWEST SCHOOL OF INTERNATIONAL STUDIES\", \"WORLD JOURNALISM PREPARATORY: A COLLEGE BOARD SCHOOL\", \"JOHN BOWNE HIGH SCHOOL\", \"FLUSHING HIGH SCHOOL\", \"TOWNSEND HARRIS HIGH SCHOOL\", \"ROBERT F. KENNEDY COMMUNITY HIGH SCHOOL\", \"BENJAMIN N. CARDOZO HIGH SCHOOL\", \"FRANCIS LEWIS HIGH SCHOOL\", \"MARTIN VAN BUREN HIGH SCHOOL\", \"BAYSIDE HIGH SCHOOL\", \"QUEENS HIGH SCHOOL OF TEACHING, LIBERAL ARTS AND THE SCIENCES\", \"FREDERICK DOUGLASS ACADEMY VI HIGH SCHOOL\", \"CHANNEL VIEW SCHOOL FOR RESEARCH\", \"QUEENS HIGH SCHOOL FOR INFORMATION, RESEARCH, AND TECHNOLOGY\", \"ROBERT H. GODDARD HIGH SCHOOL OF COMMUNICATION ARTS AND TECHNOLOGY\", \"ACADEMY OF MEDICAL TECHNOLOGY: A COLLEGE BOARD SCHOOL\", \"SCHOLARS' ACADEMY\", \"AUGUST MARTIN HIGH SCHOOL\", \"RICHMOND HILL HIGH SCHOOL\", \"JOHN ADAMS HIGH SCHOOL\", \"HIGH SCHOOL FOR CONSTRUCTION TRADES, ENGINEERING AND ARCHITECTURE\", \"YORK EARLY COLLEGE ACADEMY\", \"QUEENS COLLEGIATE: A COLLEGE BOARD SCHOOL\", \"HILLSIDE ARTS & LETTERS ACADEMY\", \"FOREST HILLS HIGH SCHOOL\", \"HILLCREST HIGH SCHOOL\", \"THOMAS A. EDISON CAREER AND TECHNICAL EDUCATION HIGH SCHOOL\", \"QUEENS GATEWAY TO HEALTH SCIENCES SECONDARY SCHOOL\", \"QUEENS METROPOLITAN HIGH SCHOOL\", \"QUEENS HIGH SCHOOL FOR THE SCIENCES AT YORK COLLEGE\", \"HIGH SCHOOL FOR LAW ENFORCEMENT AND PUBLIC SAFETY\", \"YOUNG WOMEN'S LEADERSHIP SCHOOL, QUEENS\", \"QUEENS PREPARATORY ACADEMY\", \"PATHWAYS COLLEGE PREPARATORY SCHOOL: A COLLEGE BOARD SCHOOL\", \"EXCELSIOR PREPARATORY HIGH SCHOOL\", \"GEORGE WASHINGTON CARVER HIGH SCHOOL FOR THE SCIENCES\", \"PREPARATORY ACADEMY FOR WRITERS: A COLLEGE BOARD SCHOOL\", \"CAMBRIA HEIGHTS ACADEMY\", \"MATHEMATICS, SCIENCE RESEARCH AND TECHNOLOGY MAGNET HIGH SCHOOL\", \"HUMANITIES & ARTS MAGNET HIGH SCHOOL\", \"YOUNG WOMEN'S LEADERSHIP SCHOOL, ASTORIA\", \"ACADEMY FOR CAREERS IN TELEVISION AND FILM\", \"WILLIAM CULLEN BRYANT HIGH SCHOOL\", \"LONG ISLAND CITY HIGH SCHOOL\", \"FRANK SINATRA SCHOOL OF THE ARTS HIGH SCHOOL\", \"INFORMATION TECHNOLOGY HIGH SCHOOL\", \"NEWCOMERS HIGH SCHOOL\", \"ACADEMY OF AMERICAN STUDIES\", \"BACCALAUREATE SCHOOL FOR GLOBAL EDUCATION\"], \"textfont\": {\"color\": \"#4D5663\"}, \"type\": \"scatter\", \"x\": [50.7, 56.2, 55.5, 52.2, 60.7, 42.5, 45.0, 47.1, 54.0, 56.9, 53.4, 39.7, 14.7, 53.3, 42.7, 45.9, 57.8, 50.8, 44.2, 71.1, 46.2, 52.6, 50.8, 45.7, 50.6, 54.2, 47.4, 48.9, 45.5, 51.9, 56.2, 56.1, 44.8, 47.0, 45.5, 32.7, 48.9, 50.1, 53.0, 51.9, 53.9, 34.9, 61.9, 50.4, 43.5, 47.0, 100.0, 44.0, 46.7, 43.1, 52.7, 56.9, 44.9, 39.6, 57.2, 100.0, 46.8, 46.3, 48.7, 70.0, 28.2, 46.8, 55.0, 55.2], \"y\": [1280.0, 1219.0, 1240.0, 951.0, 1663.0, 1203.0, 1211.0, 1177.0, 1064.0, 1174.0, 1330.0, 1270.0, 1364.0, 1396.0, 1049.0, 1271.0, 1441.0, 1243.0, 1216.0, 1910.0, 1330.0, 1514.0, 1474.0, 1172.0, 1449.0, 1279.0, 1145.0, 1252.0, 1156.0, 1265.0, 1094.0, 1532.0, 1108.0, 1154.0, 1192.0, 1345.0, 1223.4388059701494, 1265.0, 1223.4388059701494, 1407.0, 1194.0, 1372.0, 1538.0, 1223.4388059701494, 1868.0, 1196.0, 1316.0, 1099.0, 1173.0, 1202.0, 1287.0, 1100.0, 1223.4388059701494, 1220.0, 1151.0, 1223.4388059701494, 1255.0, 1275.0, 1218.0, 1494.0, 1239.0, 1127.0, 1470.0, 1636.0]}, {\"marker\": {\"color\": \"rgba(219, 64, 82, 1.0)\", \"line\": {\"width\": 1.3}, \"opacity\": 0.8, \"size\": 12, \"symbol\": \"circle\"}, \"mode\": \"markers\", \"name\": \"Staten Island\", \"text\": [\"CSI HIGH SCHOOL FOR INTERNATIONAL STUDIES\", \"GAYNOR MCCOWN EXPEDITIONARY LEARNING SCHOOL\", \"THE MICHAEL J. PETRIDES SCHOOL\", \"NEW DORP HIGH SCHOOL\", \"PORT RICHMOND HIGH SCHOOL\", \"CURTIS HIGH SCHOOL\", \"TOTTENVILLE HIGH SCHOOL\", \"SUSAN E. WAGNER HIGH SCHOOL\", \"RALPH R. MCKEE CAREER AND TECHNICAL EDUCATION HIGH SCHOOL\", \"STATEN ISLAND TECHNICAL HIGH SCHOOL\"], \"textfont\": {\"color\": \"#4D5663\"}, \"type\": \"scatter\", \"x\": [58.5, 48.0, 50.8, 47.5, 45.2, 53.6, 50.4, 49.2, 32.9, 43.0], \"y\": [1353.0, 1195.0, 1426.0, 1277.0, 1279.0, 1301.0, 1418.0, 1388.0, 1235.0, 1953.0]}],\n",
       "                        {\"legend\": {\"bgcolor\": \"#F5F6F9\", \"font\": {\"color\": \"#4D5663\"}}, \"paper_bgcolor\": \"#F5F6F9\", \"plot_bgcolor\": \"#F5F6F9\", \"shapes\": [{\"line\": {\"color\": \"#000000\", \"dash\": \"dash\", \"width\": 1}, \"type\": \"line\", \"x0\": 0, \"x1\": 1, \"xref\": \"paper\", \"y0\": 1223.4388059701494, \"y1\": 1223.4388059701494, \"yref\": \"y\"}, {\"line\": {\"color\": \"#000000\", \"dash\": \"dash\", \"width\": 1}, \"type\": \"line\", \"x0\": 50.62066115702479, \"x1\": 50.62066115702479, \"xref\": \"x\", \"y0\": 0, \"y1\": 1, \"yref\": \"paper\"}], \"title\": \"Share of female students vs. SAT score by school <br> dashed lines: average of entire dataset\", \"titlefont\": {\"color\": \"#4D5663\"}, \"xaxis\": {\"gridcolor\": \"#E1E5ED\", \"showgrid\": true, \"tickfont\": {\"color\": \"#4D5663\"}, \"title\": \"Share females, %\", \"titlefont\": {\"color\": \"#4D5663\"}, \"zerolinecolor\": \"#E1E5ED\"}, \"yaxis\": {\"gridcolor\": \"#E1E5ED\", \"showgrid\": true, \"tickfont\": {\"color\": \"#4D5663\"}, \"title\": \"Avg. SAT score\", \"titlefont\": {\"color\": \"#4D5663\"}, \"zerolinecolor\": \"#E1E5ED\"}},\n",
       "                        {\"showLink\": true, \"linkText\": \"Export to plot.ly\", \"plotlyServerURL\": \"https://plot.ly\", \"responsive\": true}\n",
       "                    ).then(function(){\n",
       "                            \n",
       "var gd = document.getElementById('28ce9ddb-3744-4361-a03e-d68a13e203fa');\n",
       "var x = new MutationObserver(function (mutations, observer) {{\n",
       "        var display = window.getComputedStyle(gd).display;\n",
       "        if (!display || display === 'none') {{\n",
       "            console.log([gd, 'removed!']);\n",
       "            Plotly.purge(gd);\n",
       "            observer.disconnect();\n",
       "        }}\n",
       "}});\n",
       "\n",
       "// Listen for the removal of the full notebook cells\n",
       "var notebookContainer = gd.closest('#notebook-container');\n",
       "if (notebookContainer) {{\n",
       "    x.observe(notebookContainer, {childList: true});\n",
       "}}\n",
       "\n",
       "// Listen for the clearing of the current output cell\n",
       "var outputEl = gd.closest('.output');\n",
       "if (outputEl) {{\n",
       "    x.observe(outputEl, {childList: true});\n",
       "}}\n",
       "\n",
       "                        })\n",
       "                };\n",
       "                });\n",
       "            </script>\n",
       "        </div>"
      ]
     },
     "metadata": {},
     "output_type": "display_data"
    },
    {
     "name": "stdout",
     "output_type": "stream",
     "text": [
      "Recommendation: choose option to 'show closest data point on hover' in top right corner\n"
     ]
    }
   ],
   "source": [
    "with warnings.catch_warnings(): # to catch FutureWarning about np.module being used in pandas\n",
    "    warnings.filterwarnings(\"ignore\",category=FutureWarning)\n",
    "    combined.iplot(\n",
    "        x='female_per',\n",
    "        y='sat_score',\n",
    "        categories='boro',\n",
    "        text=\"SCHOOL NAME\",\n",
    "        vline= {\"x\":combined[\"female_per\"].mean(),\n",
    "                \"color\":\"#000000\",\n",
    "                \"dash\": \"dash\"\n",
    "               },\n",
    "        hline={\"y\":combined[\"sat_score\"].mean(),\n",
    "               \"color\":\"#000000\",\n",
    "               \"dash\": \"dash\"\n",
    "              },\n",
    "        xTitle='Share females, %',\n",
    "        yTitle='Avg. SAT score',\n",
    "        title='Share of female students vs. SAT score by school <br> dashed lines: average of entire dataset'\n",
    "    )\n",
    "print(\"Recommendation: choose option to 'show closest data point on hover' in top right corner\")"
   ]
  },
  {
   "cell_type": "markdown",
   "metadata": {},
   "source": [
    "+ All eleven schools with an above 60% share of females and SAT-scores above 1,400 are located in Manhattan and Queens. Girls in other boroughs may have poorer access to excellent education.\n",
    "+ The high performing / mainly female schools are mostly humanities / arts focused. \n",
    "+ Seven of the nine previously defined \"elite schools\" with average SAT scores above 1,800 are majority male - they are STEM focused.\n"
   ]
  },
  {
   "cell_type": "markdown",
   "metadata": {},
   "source": [
    "#  Custom function to help with analysis"
   ]
  },
  {
   "cell_type": "code",
   "execution_count": 14,
   "metadata": {
    "ExecuteTime": {
     "end_time": "2020-05-03T10:45:17.098264Z",
     "start_time": "2020-05-03T10:45:17.073453Z"
    },
    "code_folding": [],
    "scrolled": true
   },
   "outputs": [],
   "source": [
    "# built function \"describe_plus\" to help with investigation of subsets\n",
    "# helper functions\n",
    "\n",
    "\n",
    "def describe_nan(df):\n",
    "    \"\"\"\n",
    "    Return transposed pandas describe with share of nan-values\n",
    "\n",
    "    Parameters:\n",
    "    df = pandas.DataFrame\n",
    "    \"\"\"\n",
    "    df_des = df.describe().transpose()\n",
    "    df_des[\"share_nan\"] = 1-(df_des[\"count\"]/df.shape[0])\n",
    "    df_des_col_order = [\"share_nan\", \"count\", \"mean\",\n",
    "                        \"std\", \"min\", \"25%\", \"50%\", \"75%\", \"max\"]\n",
    "    df_des = df_des[df_des_col_order]\n",
    "    return df_des\n",
    "\n",
    "\n",
    "def describe_frequent(df, n=5):\n",
    "    \"\"\"\n",
    "    Returns dataframe with most common values\n",
    "\n",
    "    Parameters:\n",
    "    df = pandas.DataFrame\n",
    "    n = Optional number of most common values \n",
    "\n",
    "    \"\"\"\n",
    "    topn_df = pd.DataFrame()\n",
    "    col_names = df.columns\n",
    "\n",
    "    for col in col_names:\n",
    "        col_name = df[col].name\n",
    "        top_n = df[col].value_counts(dropna=False)[\n",
    "            :n].reset_index().reset_index()\n",
    "        top_n_norm = df[col].value_counts(dropna=False, normalize=True)[\n",
    "            :n].reset_index().reset_index()\n",
    "        top_n[\"norm\"] = (top_n_norm[col_name]*100).astype(int)\n",
    "        top_n[\"level_0\"] = top_n[\"level_0\"]+1\n",
    "        top_n[\"string\"] = \"value: \"+top_n[\"index\"].astype(\n",
    "            str)+\" | count: \"+top_n[col_name].astype(str)+\" | norm %: \"+top_n[\"norm\"].astype(str)\n",
    "        result = top_n[\"string\"]\n",
    "        result.rename(col_name, inplace=True)\n",
    "        topn_df = pd.concat([topn_df, result], axis=1)\n",
    "    topn_df.index = \"Top\"+(topn_df.index + 1).astype(str)\n",
    "    return topn_df\n",
    "\n",
    "# main function\n",
    "\n",
    "\n",
    "def describe_plus(df, subset=None, output=None,\n",
    "                  figsize=(15, 20), cmap=\"RdBu\"):\n",
    "    '''\n",
    "    Returns a dataframe of descripitive strings.\n",
    "    If only a dataframe is passed, pandas 'describe'-method includes missing value count in %. \n",
    "    If also one subset is passed, the resulting subset is compared to the entire dataset.\n",
    "\n",
    "    Parameters:\n",
    "    df: Required pandas.DataFrame\n",
    "    subset: Optional pandas.DataFrame with identical columns to compare to df\n",
    "    output: Optional, if only one df is passed, \"non_num\" returns df with all \n",
    "            non numeric columns and adds descriptive stats as first rows.\n",
    "            If subset is passed, \"clean\" returns a DataFrame without styling.\n",
    "            If subset is passed, \"sorted\" returns a styled DataFrame, \n",
    "            sorted by z-score. \n",
    "    cmap: Optional parameter, default colormap \"RdBu\"\n",
    "\n",
    "    Returns:\n",
    "    (styled) pandas.Dataframe\n",
    "    '''\n",
    "\n",
    "    if subset is None:\n",
    "        if output == \"non_num\":\n",
    "            # get only the numeric columns from the dataframe\n",
    "            all_cols = df.columns\n",
    "            # describe only works on numerical columns\n",
    "            num_cols = describe_nan(df).index\n",
    "            non_num_cols = [col for col in all_cols if col not in num_cols]\n",
    "            df_non_num = df[non_num_cols]\n",
    "\n",
    "            # calc some stats on non-numeric columns\n",
    "            df_stats = pd.DataFrame(columns=non_num_cols)\n",
    "            df_stats.loc[\"Record count\"] = df_non_num.shape[0]\n",
    "            df_stats.loc[\"Count Nan\"] = df_non_num.isna().sum()\n",
    "            df_stats.loc[\"Share Nan\"] = df_non_num.isna().sum() / \\\n",
    "                df_non_num.shape[0]\n",
    "            df_stats.loc[\"Count unique\"] = df_non_num.nunique()\n",
    "\n",
    "            # add most common values\n",
    "            df_stats = pd.concat([df_stats, describe_frequent(df_non_num)])\n",
    "\n",
    "            # prepend stats to df\n",
    "            df_non_num_up = pd.concat([df_stats, df_non_num])\n",
    "\n",
    "            return df_non_num_up\n",
    "\n",
    "        else:\n",
    "            return describe_nan(df).style.background_gradient(subset=\"share_nan\", low=0, high=1, cmap=\"Blues\")\n",
    "\n",
    "    else:\n",
    "        # calculate descriptive stats\n",
    "        subset_desc = describe_nan(subset)\n",
    "        df_desc = describe_nan(df)\n",
    "\n",
    "        # calculate percent change (used to be for sns.heatmap)\n",
    "        hm_data = (subset_desc/df_desc)\n",
    "        hm_data[\"z-score, subset mean\"] = (subset_desc[\"mean\"] -\n",
    "                                           df_desc[\"mean\"])/(df_desc[\"std\"])\n",
    "        hm_data[\"count\"] = 0  # no color for count\n",
    "        hm_data = hm_data[['count', \"share_nan\", 'z-score, subset mean',\n",
    "                           'mean', 'std', 'min', '25%', '50%', '75%', 'max']]\n",
    "\n",
    "        # format main annotation values\n",
    "        main_values = pd.DataFrame()\n",
    "        main_values = pd.concat(\n",
    "            [main_values, subset_desc.loc[:, \"mean\":\"max\"]], axis=1)\n",
    "        main_values = main_values.applymap('{:,.2f}'.format)\n",
    "        main_values[\"z-score, subset mean\"] = (\n",
    "            subset_desc[\"mean\"]-df_desc[\"mean\"])/(df_desc[\"std\"])\n",
    "        main_values[\"count\"] = subset_desc['count'].apply('{:,.0f}'.format)\n",
    "        main_values[\"share_nan\"] = (\n",
    "            subset_desc['share_nan']*100).apply('{:,.0f}%'.format)\n",
    "        main_values = main_values[[\n",
    "            'count', \"share_nan\", 'z-score, subset mean', 'mean', 'std', 'min', '25%', '50%', '75%', 'max']]\n",
    "\n",
    "        # values of subset are compared to main dataset in annotation as follows:\n",
    "        # count (share of total records)\n",
    "        # share_Nan (% compared to entire dataset)\n",
    "        # mean (% compared to entire dataset)\n",
    "        # z-score of subset-mean (no comparison)\n",
    "        # std (% compared to entire dataset)\n",
    "        # min,25%,50%,75%,max (percentile rank of entire dataset)\n",
    "        # dataframe has same columns, but z-score is also seperate and shaded\n",
    "        # percentages are formatted as integer with sign\n",
    "\n",
    "        # pct rank: copy output from description method to original dataframe\n",
    "        subset_desc_pct_rank = pd.concat(\n",
    "            [df, subset_desc.loc[:, \"min\":\"max\"].transpose()]).dropna(axis=1, subset=[\"min\"])\n",
    "\n",
    "        # pct rank: make a column with percentile rank for every numeric column\n",
    "        list_col_pct = []\n",
    "        for col in subset_desc_pct_rank:\n",
    "            col_pct = col+\"_pct_rank\"\n",
    "            list_col_pct.append(col_pct)\n",
    "            subset_desc_pct_rank[col_pct] = subset_desc_pct_rank[col].rank(\n",
    "                pct=True)\n",
    "\n",
    "        # pct rank: discard main dataset, apply proper names and shape\n",
    "        subset_desc_pct_rank = (\n",
    "            subset_desc_pct_rank.loc[\"min\":\"max\", list_col_pct].transpose()*100).astype(int)\n",
    "        subset_desc_pct_rank.index = subset_desc_pct_rank.index.str.replace(\n",
    "            \"_pct_rank\", \"\")\n",
    "        subset_desc_pct_rank.columns = subset_desc_pct_rank.columns+\"_pct_rank\"\n",
    "\n",
    "        # format all values going into parenthesis\n",
    "        paran = pd.DataFrame()\n",
    "        paran[\"count\"] = ((subset_desc/df_desc)[\"count\"]\n",
    "                          * 100).apply('{:,.0f}%'.format)\n",
    "        paran[\"share_nan\"] = hm_data[\"share_nan\"].apply('{:,.0f}%'.format)\n",
    "        paran[\"z-score, subset mean\"] = \"-\"\n",
    "        paran[\"mean\"] = ((((subset_desc/df_desc)[\"mean\"])-1)\n",
    "                         * 100).apply('{:+,.0f}%'.format)\n",
    "        paran[\"std\"] = ((((subset_desc/df_desc)[\"std\"])-1)\n",
    "                        * 100).apply('{:+,.0f}%'.format)\n",
    "        paran = pd.concat([paran, subset_desc_pct_rank], axis=1)\n",
    "        paran.columns = paran.columns.str.replace(\"_pct_rank\", \"\")\n",
    "\n",
    "        # build the annotation\n",
    "        annot = main_values.astype(str)+\" (\"+paran.astype(str)+\")\"\n",
    "        annot[\"z-score, subset mean\"] = main_values[\"z-score, subset mean\"]\n",
    "\n",
    "        # decided to redo column headers\n",
    "        new_col_headers = {'count': \"count (share of df)\",\n",
    "                           \"share_nan\": \"share_nan (change to df)\",\n",
    "                           'z-score, subset mean': \"z-score, subset mean\",\n",
    "                           'mean': \" mean (change to df)\",\n",
    "                           'std': \"std (change to df)\",\n",
    "                           'min': \"min (pct rank in df)\",\n",
    "                           '25%': \"25% (pct rank in df)\",\n",
    "                           '50%': \"50% (pct rank in df)\",\n",
    "                           '75%': \"75% (pct rank in df)\",\n",
    "                           'max': \"max (pct rank in df)\"\n",
    "                           }\n",
    "        annot.rename(inplace=True, columns=new_col_headers)\n",
    "\n",
    "        if output == \"clean\":\n",
    "            return annot\n",
    "\n",
    "        elif output == \"sorted\":\n",
    "            return annot.sort_values(by=\"z-score, subset mean\").style.background_gradient(\n",
    "                subset=\"z-score, subset mean\", cmap=\"RdBu\")\n",
    "\n",
    "        else:\n",
    "            return annot.style.background_gradient(\n",
    "                subset=\"z-score, subset mean\", cmap=\"RdBu\")"
   ]
  },
  {
   "cell_type": "markdown",
   "metadata": {},
   "source": [
    "# Advanced placement:  Not always a good preparation for SAT"
   ]
  },
  {
   "cell_type": "code",
   "execution_count": 15,
   "metadata": {
    "ExecuteTime": {
     "end_time": "2020-05-03T10:45:17.103273Z",
     "start_time": "2020-05-03T10:45:17.100007Z"
    },
    "code_folding": []
   },
   "outputs": [],
   "source": [
    "# compute new feature: share of students that took Advanced Placement (AP) exams to earn college credit\n",
    "combined[\"ap_per\"] = combined[\"AP Test Takers \"]/combined[\"total_enrollment\"]*100"
   ]
  },
  {
   "cell_type": "code",
   "execution_count": 16,
   "metadata": {
    "ExecuteTime": {
     "end_time": "2020-05-03T10:45:17.160628Z",
     "start_time": "2020-05-03T10:45:17.104799Z"
    },
    "code_folding": []
   },
   "outputs": [
    {
     "data": {
      "application/vnd.plotly.v1+json": {
       "config": {
        "linkText": "Export to plot.ly",
        "plotlyServerURL": "https://plot.ly",
        "showLink": true
       },
       "data": [
        {
         "marker": {
          "color": "rgba(255, 153, 51, 1.0)",
          "line": {
           "width": 1.3
          },
          "opacity": 0.8,
          "size": 12,
          "symbol": "circle"
         },
         "mode": "markers",
         "name": "Manhattan",
         "text": [
          "HENRY STREET SCHOOL FOR INTERNATIONAL STUDIES",
          "UNIVERSITY NEIGHBORHOOD HIGH SCHOOL",
          "EAST SIDE COMMUNITY SCHOOL",
          "MARTA VALLE HIGH SCHOOL",
          "NEW EXPLORATIONS INTO SCIENCE, TECHNOLOGY AND MATH HIGH SCHOOL",
          "BARD HIGH SCHOOL EARLY COLLEGE",
          "47 THE AMERICAN SIGN LANGUAGE AND ENGLISH SECONDARY SCHOOL",
          "FOOD AND FINANCE HIGH SCHOOL",
          "ESSEX STREET ACADEMY",
          "HIGH SCHOOL OF HOSPITALITY MANAGEMENT",
          "PACE HIGH SCHOOL",
          "URBAN ASSEMBLY SCHOOL OF DESIGN AND CONSTRUCTION, THE",
          "FACING HISTORY SCHOOL, THE",
          "URBAN ASSEMBLY ACADEMY OF GOVERNMENT AND LAW, THE",
          "LOWER MANHATTAN ARTS ACADEMY",
          "URBAN ASSEMBLY SCHOOL OF BUSINESS FOR YOUNG WOMEN, THE",
          "GRAMERCY ARTS HIGH SCHOOL",
          "NYC ISCHOOL",
          "MANHATTAN BUSINESS ACADEMY",
          "BUSINESS OF SPORTS SCHOOL",
          "THE HIGH SCHOOL FOR LANGUAGE AND DIPLOMACY",
          "HIGH SCHOOL FOR ENVIRONMENTAL STUDIES",
          "PROFESSIONAL PERFORMING ARTS HIGH SCHOOL",
          "BARUCH COLLEGE CAMPUS HIGH SCHOOL",
          "N.Y.C. LAB SCHOOL FOR COLLABORATIVE STUDIES",
          "N.Y.C. MUSEUM SCHOOL",
          "ELEANOR ROOSEVELT HIGH SCHOOL",
          "MILLENNIUM HIGH SCHOOL",
          "LANDMARK HIGH SCHOOL",
          "HIGH SCHOOL FOR HEALTH PROFESSIONS AND HUMAN SERVICES",
          "LEADERSHIP AND PUBLIC SERVICE HIGH SCHOOL",
          "MANHATTAN ACADEMY FOR ARTS & LANGUAGE",
          "HUDSON HIGH SCHOOL OF LEARNING TECHNOLOGIES",
          "INTERNATIONAL HIGH SCHOOL AT UNION SQUARE",
          "MANHATTAN VILLAGE ACADEMY",
          "VANGUARD HIGH SCHOOL",
          "MANHATTAN INTERNATIONAL HIGH SCHOOL",
          "STUYVESANT HIGH SCHOOL",
          "HIGH SCHOOL OF ECONOMICS AND FINANCE",
          "UNITY CENTER FOR URBAN TECHNOLOGIES",
          "TALENT UNLIMITED HIGH SCHOOL",
          "MURRY BERGTRAUM HIGH SCHOOL FOR BUSINESS CAREERS",
          "JACQUELINE KENNEDY ONASSIS HIGH SCHOOL",
          "REPERTORY COMPANY HIGH SCHOOL FOR THEATRE ARTS",
          "MANHATTAN BRIDGES HIGH SCHOOL",
          "NEW DESIGN HIGH SCHOOL",
          "HIGH SCHOOL FOR DUAL LANGUAGE AND ASIAN STUDIES",
          "THE URBAN ASSEMBLY NEW YORK HARBOR SCHOOL",
          "RICHARD R. GREEN HIGH SCHOOL OF TEACHING",
          "THE HIGH SCHOOL OF FASHION INDUSTRIES",
          "HUMANITIES PREPARATORY ACADEMY",
          "CHELSEA CAREER AND TECHNICAL EDUCATION HIGH SCHOOL",
          "ART AND DESIGN HIGH SCHOOL",
          "LIFE SCIENCES SECONDARY SCHOOL",
          "HIGH SCHOOL FOR ARTS, IMAGINATION AND INQUIRY",
          "URBAN ASSEMBLY SCHOOL FOR MEDIA STUDIES, THE",
          "THE URBAN ASSEMBLY SCHOOL FOR GREEN CAREERS",
          "THE GLOBAL LEARNING COLLABORATIVE",
          "WADLEIGH SECONDARY SCHOOL FOR THE PERFORMING & VISUAL ARTS",
          "FRANK MCCOURT HIGH SCHOOL",
          "BEACON HIGH SCHOOL",
          "FIORELLO H. LAGUARDIA HIGH SCHOOL OF MUSIC & ART AND PERFORMING ARTS",
          "HIGH SCHOOL FOR LAW, ADVOCACY AND COMMUNITY JUSTICE",
          "HIGH SCHOOL OF ARTS AND TECHNOLOGY",
          "MANHATTAN / HUNTER SCIENCE HIGH SCHOOL",
          "FREDERICK DOUGLASS ACADEMY II SECONDARY SCHOOL",
          "COALITION SCHOOL FOR SOCIAL CHANGE",
          "MANHATTAN CENTER FOR SCIENCE AND MATHEMATICS",
          "PARK EAST HIGH SCHOOL",
          "CENTRAL PARK EAST HIGH SCHOOL",
          "YOUNG WOMEN'S LEADERSHIP SCHOOL",
          "YOUNG WOMEN'S LEADERSHIP SCHOOL",
          "HERITAGE SCHOOL, THE",
          "MOTT HALL HIGH SCHOOL",
          "COLUMBIA SECONDARY SCHOOL FOR MATH, SCIENCE, AND ENGINEERING",
          "ACADEMY FOR SOCIAL ACTION: A COLLEGE BOARD SCHOOL",
          "URBAN ASSEMBLY SCHOOL FOR THE PERFORMING ARTS",
          "FREDERICK DOUGLASS ACADEMY",
          "THURGOOD MARSHALL ACADEMY FOR LEARNING AND SOCIAL CHANGE",
          "HIGH SCHOOL FOR MATHEMATICS, SCIENCE AND ENGINEERING AT CITY COLLEGE",
          "CITY COLLEGE ACADEMY OF THE ARTS",
          "COMMUNITY HEALTH ACADEMY OF THE HEIGHTS",
          "WASHINGTON HEIGHTS EXPEDITIONARY LEARNING SCHOOL",
          "HIGH SCHOOL FOR EXCELLENCE AND INNOVATION",
          "HIGH SCHOOL FOR INTERNATIONAL BUSINESS AND FINANCE",
          "HIGH SCHOOL FOR MEDIA AND COMMUNICATIONS",
          "HIGH SCHOOL FOR LAW AND PUBLIC SERVICE",
          "HIGH SCHOOL FOR HEALTH CAREERS AND SCIENCES",
          "A. PHILIP RANDOLPH CAMPUS HIGH SCHOOL",
          "GREGORIO LUPERON HIGH SCHOOL FOR SCIENCE AND MATHEMATICS"
         ],
         "textfont": {
          "color": "#4D5663"
         },
         "type": "scatter",
         "x": [
          30.575555960627053,
          9.898477157360407,
          3.177257525083612,
          35.157723747642,
          15.809051456912584,
          20.912292731579605,
          74.15450928381964,
          29.798809735299344,
          37.61773940345369,
          30.79447402239765,
          5.072463768115942,
          22.96983758700696,
          9.312638580931264,
          8.012820512820513,
          38.40144230769231,
          34.13461538461539,
          26.066433566433567,
          29.798809735299344,
          38.86411028730306,
          42.44369939271255,
          52.88067465321564,
          15.27977044476327,
          3.9840637450199203,
          18.055555555555554,
          19.689119170984455,
          29.593772053634442,
          30.57199211045365,
          13.738019169329075,
          30.6481819842865,
          11.538461538461538,
          11.532125205930807,
          73.73076923076923,
          57.09240980258679,
          73.3118444055944,
          9.79020979020979,
          29.06055093555094,
          3.6923076923076925,
          45.799211404306945,
          12.484548825710753,
          54.442551119766314,
          6.109979633401222,
          5.692233478051134,
          11.049723756906078,
          59.460297766749385,
          12.384473197781885,
          30.50327332242226,
          17.280453257790366,
          1.627906976744186,
          10.98360655737705,
          4.377736085053159,
          67.20252403846155,
          11.158798283261802,
          6.25,
          6.97350069735007,
          30.868145012881858,
          35.25378310214376,
          45.59323185648274,
          36.04157713794586,
          12.5968992248062,
          58.917281348788194,
          14.285714285714285,
          26.525911708253357,
          23.850063984075078,
          6.301824212271974,
          28.483188996434034,
          2.663438256658596,
          5.157593123209169,
          19.87878787878788,
          36.97101608992727,
          28.995246326707004,
          9.131403118040089,
          28.736936782593798,
          43.887362637362635,
          2.5821596244131455,
          27.221275559883157,
          4,
          34.499691484985604,
          10.475578406169666,
          6.379310344827586,
          28.078817733990146,
          22.018574428983985,
          24.813239644970416,
          21.43336314847943,
          72.4881158167675,
          17.142857142857142,
          6.468531468531468,
          20.31700288184438,
          4.712812960235641,
          12.840466926070038,
          18.64406779661017
         ],
         "y": [
          1122,
          1172,
          1149,
          1207,
          1621,
          1856,
          1182,
          1194,
          1156,
          1111,
          1293,
          1269,
          1051,
          1148,
          1200,
          1127,
          1176,
          1435,
          1223.4388059701494,
          1223.4388059701494,
          1223.4388059701494,
          1419,
          1522,
          1577,
          1677,
          1419,
          1758,
          1614,
          1170,
          1306,
          1233,
          1223.4388059701494,
          1223.4388059701494,
          1223.4388059701494,
          1372,
          1199,
          1227,
          2096,
          1374,
          1070,
          1416,
          1240,
          1239,
          1253,
          1058,
          1168,
          1424,
          1212,
          1195,
          1257,
          1255,
          1207,
          1315,
          1236,
          1132,
          1144,
          1223.4388059701494,
          1223.4388059701494,
          1109,
          1223.4388059701494,
          1744,
          1707,
          1196,
          1277,
          1446,
          1096,
          1084,
          1430,
          1128,
          1221,
          1326,
          1326,
          1054,
          1210,
          1223.4388059701494,
          1062,
          1077,
          1374,
          1202,
          1847,
          1270,
          1105,
          1174,
          1223.4388059701494,
          1127,
          1098,
          1102,
          1224,
          1309,
          1014
         ]
        },
        {
         "marker": {
          "color": "rgba(55, 128, 191, 1.0)",
          "line": {
           "width": 1.3
          },
          "opacity": 0.8,
          "size": 12,
          "symbol": "circle"
         },
         "mode": "markers",
         "name": "Bronx",
         "text": [
          "SOUTH BRONX PREPARATORY: A COLLEGE BOARD SCHOOL",
          "INTERNATIONAL COMMUNITY HIGH SCHOOL",
          "COMMUNITY SCHOOL FOR SOCIAL JUSTICE",
          "MOTT HAVEN VILLAGE PREPARATORY HIGH SCHOOL",
          "UNIVERSITY HEIGHTS SECONDARY SCHOOL",
          "HOSTOSsLINCOLN ACADEMY OF SCIENCE",
          "FOREIGN LANGUAGE ACADEMY OF GLOBAL STUDIES",
          "BRONX LEADERSHIP ACADEMY II HIGH SCHOOL",
          "NEW EXPLORERS HIGH SCHOOL",
          "URBAN ASSEMBLY SCHOOL FOR CAREERS IN SPORTS",
          "BRONX ACADEMY OF LETTERS",
          "ALFRED E. SMITH CAREER AND TECHNICAL EDUCATION HIGH SCHOOL",
          "HEALTH OPPORTUNITIES HIGH SCHOOL",
          "BRONX STUDIO SCHOOL FOR WRITERS AND ARTISTS",
          "WOMEN'S ACADEMY OF EXCELLENCE",
          "RENAISSANCE HIGH SCHOOL FOR MUSICAL THEATER & TECHNOLOGY",
          "PABLO NERUDA ACADEMY FOR ARCHITECTURE AND WORLD STUDIES",
          "MILLENNIUM ART ACADEMY",
          "HOLCOMBE L. RUCKER SCHOOL OF COMMUNITY RESEARCH",
          "ANTONIA PANTOJA PREPARATORY ACADEMY, A COLLEGE BOARD SCHOOL",
          "HERBERT H. LEHMAN HIGH SCHOOL",
          "BRONX BRIDGES HIGH SCHOOL",
          "FELISA RINCON DE GAUTIER INSTITUTE FOR LAW AND PUBLIC POLICY, THE",
          "BANANA KELLY HIGH SCHOOL",
          "BRONX EXPEDITIONARY LEARNING HIGH SCHOOL",
          "EAGLE ACADEMY FOR YOUNG MEN",
          "URBAN ASSEMBLY SCHOOL FOR APPLIED MATH AND SCIENCE, THE",
          "EXIMIUS COLLEGE PREPARATORY ACADEMY: A COLLEGE BOARD SCHOOL",
          "MOTT HALL BRONX HIGH SCHOOL",
          "BRONX CENTER FOR SCIENCE AND MATHEMATICS",
          "VALIDUS PREPARATORY ACADEMY: AN EXPEDITIONARY LEARNING SCHOOL",
          "LEADERSHIP INSTITUTE",
          "MORRIS ACADEMY FOR COLLABORATIVE STUDIES",
          "BRONX EARLY COLLEGE ACADEMY FOR TEACHING & LEARNING",
          "DREAMYARD PREPARATORY SCHOOL",
          "ACADEMY FOR LANGUAGE AND TECHNOLOGY",
          "BRONX INTERNATIONAL HIGH SCHOOL",
          "SCHOOL FOR EXCELLENCE",
          "BRONX HIGH SCHOOL OF BUSINESS",
          "BRONX HIGH SCHOOL FOR MEDICAL SCIENCE",
          "BRONX SCHOOL FOR LAW, GOVERNMENT AND JUSTICE",
          "FREDERICK DOUGLASS ACADEMY III SECONDARY SCHOOL",
          "BRONX LEADERSHIP ACADEMY HIGH SCHOOL",
          "HIGH SCHOOL FOR VIOLIN AND DANCE",
          "RIVERDALE / KINGSBRIDGE ACADEMY (MIDDLE SCHOOL / HIGH SCHOOL 141)",
          "BRONX ENGINEERING AND TECHNOLOGY ACADEMY",
          "THEATRE ARTS PRODUCTION COMPANY SCHOOL",
          "THE MARIE CURIE SCHOOL FOR MEDICINE, NURSING, AND HEALTH PROFESSIONS",
          "WEST BRONX ACADEMY FOR THE FUTURE",
          "KINGSBRIDGE INTERNATIONAL HIGH SCHOOL",
          "BRONX SCHOOL OF LAW AND FINANCE",
          "INTERNATIONAL SCHOOL FOR LIBERAL ARTS",
          "INsTECH ACADEMY (M.S. / HIGH SCHOOL 368)",
          "KNOWLEDGE AND POWER PREPARATORY ACADEMY INTERNATIONAL HIGH SCHOOL (KAPPA)",
          "HIGH SCHOOL FOR TEACHING AND THE PROFESSIONS",
          "BELMONT PREPARATORY HIGH SCHOOL",
          "FORDHAM HIGH SCHOOL FOR THE ARTS",
          "FORDHAM LEADERSHIP ACADEMY FOR BUSINESS AND TECHNOLOGY",
          "BRONX HIGH SCHOOL FOR LAW AND COMMUNITY SERVICE",
          "DEWITT CLINTON HIGH SCHOOL",
          "CELIA CRUZ BRONX HIGH SCHOOL OF MUSIC, THE",
          "BRONX HIGH SCHOOL OF SCIENCE",
          "MARBLE HILL HIGH SCHOOL FOR INTERNATIONAL STUDIES",
          "BRONX THEATRE HIGH SCHOOL",
          "DISCOVERY HIGH SCHOOL",
          "HIGH SCHOOL OF AMERICAN STUDIES AT LEHMAN COLLEGE",
          "BRONX HEALTH SCIENCES HIGH SCHOOL",
          "BRONX HIGH SCHOOL FOR WRITING AND COMMUNICATION ARTS",
          "BRONX LAB SCHOOL",
          "ACADEMY FOR SCHOLARSHIP AND ENTREPRENEURSHIP: A COLLEGE BOARD SCHOOL",
          "HIGH SCHOOL OF COMPUTERS AND TECHNOLOGY",
          "COLLEGIATE INSTITUTE FOR MATH AND SCIENCE",
          "BRONX ACADEMY OF HEALTH CAREERS",
          "ASTOR COLLEGIATE ACADEMY",
          "BRONX HIGH SCHOOL FOR THE VISUAL ARTS",
          "HARRY S TRUMAN HIGH SCHOOL",
          "NEW WORLD HIGH SCHOOL",
          "THE BRONXWOOD PREPARATORY ACADEMY",
          "PELHAM PREPARATORY ACADEMY",
          "HIGH SCHOOL FOR CONTEMPORARY ARTS",
          "BRONX AEROSPACE HIGH SCHOOL",
          "METROPOLITAN HIGH SCHOOL, THE",
          "EXPLORATIONS ACADEMY",
          "BRONX LATIN",
          "EAST BRONX ACADEMY FOR THE FUTURE",
          "PEACE AND DIVERSITY ACADEMY",
          "PAN AMERICAN INTERNATIONAL HIGH SCHOOL AT MONROE",
          "THE CINEMA SCHOOL",
          "BRONX CAREER AND COLLEGE PREPARATORY HIGH SCHOOL",
          "HIGH SCHOOL OF WORLD CULTURES",
          "FANNIE LOU HAMER FREEDOM HIGH SCHOOL",
          "WINGS ACADEMY",
          "MONROE ACADEMY FOR VISUAL ARTS & DESIGN"
         ],
         "textfont": {
          "color": "#4D5663"
         },
         "type": "scatter",
         "x": [
          10.128617363344052,
          32.83176746917205,
          40.44791415481071,
          35.545136681500324,
          27.748138957816376,
          11.895910780669144,
          4.180064308681672,
          5.9760956175298805,
          4.699738903394255,
          27.050072568940497,
          9.54954954954955,
          1.4905149051490514,
          10.391822827938672,
          25.805769230769233,
          5.540897097625329,
          4.690831556503198,
          35.9411827726591,
          7.056451612903227,
          6.006006006006006,
          29.867788461538463,
          11.967715001391594,
          83.24441687344914,
          35.545136681500324,
          28.60950025584172,
          36.346153846153854,
          5.818181818181818,
          2.6402640264026402,
          25.280898876404496,
          36.448826597131685,
          13.963963963963963,
          1.9178082191780823,
          7.391304347826087,
          28.673076923076923,
          26.172179747230455,
          4.297994269340974,
          5.952380952380952,
          32.01708341286505,
          33.427162216022325,
          6.483790523690773,
          28.357988165680474,
          5.897771952817824,
          4.887218045112782,
          5.673758865248227,
          39.94701119314122,
          9.947643979057592,
          24.0990990990991,
          3.2442748091603053,
          2.7777777777777777,
          3.930817610062893,
          6.438631790744467,
          4.976303317535545,
          9.075907590759076,
          3.5523978685612785,
          39.82371794871795,
          13.107822410147993,
          7.616707616707617,
          33.34078711985689,
          9.312638580931264,
          10.185185185185185,
          8.800192353931234,
          7.328605200945626,
          39.495519415864585,
          18.201754385964914,
          7.640449438202247,
          24.39108622946052,
          51.45888594164456,
          34.22515813099368,
          6.6350710900473935,
          26.769470156399617,
          3.9603960396039604,
          23.45979020979021,
          14.548802946593002,
          26.714046822742475,
          7.228915662650602,
          5.383022774327122,
          5.80936266215454,
          2.9850746268656714,
          31.01654955621302,
          9.072978303747535,
          26.937128633370804,
          31.01654955621302,
          7.374631268436578,
          35.64332766680833,
          30.868145012881858,
          5.169628432956381,
          3.463203463203463,
          31.780503978779844,
          57.86046912728528,
          52.88067465321564,
          34.967166979362105,
          27.050072568940497,
          3.717472118959108,
          27.68859359524596
         ],
         "y": [
          1090,
          945,
          1077,
          1097,
          1201,
          1257,
          1186,
          1103,
          1084,
          1181,
          1201,
          1158,
          1095,
          1223.4388059701494,
          1171,
          1158,
          1038,
          1164,
          1084,
          1223.4388059701494,
          1241,
          1223.4388059701494,
          1099,
          1131,
          1049,
          1134,
          1290,
          1169,
          1092,
          1396,
          1075,
          1081,
          1148,
          1223.4388059701494,
          1138,
          951,
          965,
          1074,
          1083,
          1221,
          1224,
          1121,
          1166,
          1039,
          1333,
          1150,
          1190,
          1157,
          1158,
          962,
          1182,
          934,
          1181,
          1180,
          1106,
          1222,
          1077,
          1119,
          1082,
          1255,
          1270,
          1969,
          1263,
          1064,
          1115,
          1920,
          1133,
          1147,
          1135,
          1141,
          1111,
          1348,
          1135,
          1169,
          1268,
          1151,
          1048,
          1112,
          1288,
          1126,
          1163,
          1055,
          1122,
          1251,
          1102,
          1155,
          970,
          1223.4388059701494,
          1223.4388059701494,
          939,
          1029,
          1114,
          1038
         ]
        },
        {
         "marker": {
          "color": "rgba(50, 171, 96, 1.0)",
          "line": {
           "width": 1.3
          },
          "opacity": 0.8,
          "size": 12,
          "symbol": "circle"
         },
         "mode": "markers",
         "name": "Brooklyn",
         "text": [
          "DR. SUSAN S. MCKINNEY SECONDARY SCHOOL OF THE ARTS",
          "URBAN ASSEMBLY HIGH SCHOOL OF MUSIC AND ART",
          "BROOKLYN COMMUNITY HIGH SCHOOL OF COMMUNICATION, ARTS AND MEDIA",
          "SCIENCE SKILLS CENTER HIGH SCHOOL FOR SCIENCE, TECHNOLOGY AND THE CREATIVE ARTS",
          "BROOKLYN TECHNICAL HIGH SCHOOL",
          "BROOKLYN INTERNATIONAL HIGH SCHOOL",
          "THE URBAN ASSEMBLY SCHOOL FOR LAW AND JUSTICE",
          "ACORN COMMUNITY HIGH SCHOOL",
          "URBAN ASSEMBLY INSTITUTE OF MATH AND SCIENCE FOR YOUNG WOMEN",
          "BEDFORD ACADEMY HIGH SCHOOL",
          "GEORGE WESTINGHOUSE CAREER AND TECHNICAL EDUCATION HIGH SCHOOL",
          "BENJAMIN BANNEKER ACADEMY",
          "CITY POLYTECHNIC HIGH SCHOOL OF ENGINEERING, ARCHITECTURE, AND TECHNOLOGY",
          "JUAN MOREL CAMPOS SECONDARY SCHOOL",
          "FOUNDATIONS ACADEMY",
          "BROOKLYN LATIN SCHOOL, THE",
          "GREEN SCHOOL: AN ACADEMY FOR ENVIRONMENTAL CAREERS",
          "PROGRESS HIGH SCHOOL FOR PROFESSIONAL CAREERS",
          "SCHOOL FOR LEGAL STUDIES",
          "THE HIGH SCHOOL FOR ENTERPRISE, BUSINESS AND TECHNOLOGY",
          "BROOKLYN PREPARATORY HIGH SCHOOL",
          "WILLIAMSBURG HIGH SCHOOL FOR ARCHITECTURE AND DESIGN",
          "WILLIAMSBURG PREPARATORY SCHOOL",
          "LYONS COMMUNITY SCHOOL",
          "AUTOMOTIVE HIGH SCHOOL",
          "FRANCES PERKINS ACADEMY",
          "EL PUENTE ACADEMY FOR PEACE AND JUSTICE",
          "BROOKLYN SCHOOL FOR GLOBAL STUDIES",
          "BROOKLYN SECONDARY SCHOOL FOR COLLABORATIVE STUDIES",
          "SECONDARY SCHOOL FOR LAW",
          "SECONDARY SCHOOL FOR JOURNALISM",
          "PARK SLOPE COLLEGIATE",
          "SCHOOL FOR INTERNATIONAL STUDIES",
          "COBBLE HILL SCHOOL OF AMERICAN STUDIES",
          "BROOKLYN HIGH SCHOOL OF THE ARTS",
          "SUNSET PARK HIGH SCHOOL",
          "FREDERICK DOUGLASS ACADEMY IV SECONDARY SCHOOL",
          "BOYS AND GIRLS HIGH SCHOOL",
          "BROOKLYN HIGH SCHOOL FOR LAW AND TECHNOLOGY",
          "THE BROOKLYN ACADEMY OF GLOBAL FINANCE",
          "ACADEMY FOR COLLEGE PREPARATION AND CAREER EXPLORATION: A COLLEGE BOARD SCHOOL",
          "ACADEMY OF HOSPITALITY AND TOURISM",
          "INTERNATIONAL HIGH SCHOOL AT PROSPECT HEIGHTS",
          "THE HIGH SCHOOL FOR GLOBAL CITIZENSHIP",
          "SCHOOL FOR HUMAN RIGHTS, THE",
          "SCHOOL FOR DEMOCRACY AND LEADERSHIP",
          "HIGH SCHOOL FOR YOUTH AND COMMUNITY DEVELOPMENT AT ERASMUS",
          "HIGH SCHOOL FOR SERVICE & LEARNING AT ERASMUS",
          "SCIENCE, TECHNOLOGY AND RESEARCH EARLY COLLEGE HIGH SCHOOL AT ERASMUS",
          "HIGH SCHOOL FOR PUBLIC SERVICE: HEROES OF TOMORROW",
          "BROOKLYN ACADEMY OF SCIENCE AND THE ENVIRONMENT",
          "BROOKLYN SCHOOL FOR MUSIC & THEATRE",
          "MEDGAR EVERS COLLEGE PREPARATORY SCHOOL",
          "CLARA BARTON HIGH SCHOOL",
          "IT TAKES A VILLAGE ACADEMY",
          "BROOKLYN GENERATION SCHOOL",
          "BROOKLYN THEATRE ARTS HIGH SCHOOL",
          "KURT HAHN EXPEDITIONARY LEARNING SCHOOL",
          "VICTORY COLLEGIATE HIGH SCHOOL",
          "ARTS & MEDIA PREPARATORY ACADEMY",
          "HIGH SCHOOL FOR INNOVATION IN ADVERTISING AND MEDIA",
          "CULTURAL ACADEMY FOR THE ARTS AND SCIENCES",
          "HIGH SCHOOL FOR MEDICAL PROFESSIONS",
          "ACADEMY FOR CONSERVATION AND THE ENVIRONMENT",
          "URBAN ACTION ACADEMY",
          "EAST NEW YORK FAMILY ACADEMY",
          "FDNY HIGH SCHOOL FOR FIRE AND LIFE SAFETY",
          "HIGH SCHOOL FOR CIVIL RIGHTS",
          "PERFORMING ARTS AND TECHNOLOGY HIGH SCHOOL",
          "WORLD ACADEMY FOR TOTAL COMMUNITY HEALTH HIGH SCHOOL",
          "MULTICULTURAL HIGH SCHOOL",
          "TRANSIT TECH CAREER AND TECHNICAL EDUCATION HIGH SCHOOL",
          "ACADEMY OF INNOVATIVE TECHNOLOGY",
          "BROOKLYN LAB SCHOOL",
          "CYPRESS HILLS COLLEGIATE PREPARATORY SCHOOL",
          "W. H. MAXWELL CAREER AND TECHNICAL EDUCATION HIGH SCHOOL",
          "THE SCHOOL FOR CLASSICS: AN ACADEMY OF THINKERS, WRITERS AND PERFORMERS",
          "NEW UTRECHT HIGH SCHOOL",
          "HIGH SCHOOL OF TELECOMMUNICATION ARTS AND TECHNOLOGY",
          "FORT HAMILTON HIGH SCHOOL",
          "FRANKLIN DELANO ROOSEVELT HIGH SCHOOL",
          "THE URBAN ASSEMBLY SCHOOL FOR CRIMINAL JUSTICE",
          "INTERNATIONAL HIGH SCHOOL AT LAFAYETTE",
          "RACHEL CARSON HIGH SCHOOL FOR COASTAL STUDIES",
          "HIGH SCHOOL OF SPORTS MANAGEMENT",
          "ABRAHAM LINCOLN HIGH SCHOOL",
          "KINGSBOROUGH EARLY COLLEGE SCHOOL",
          "EDWARD R. MURROW HIGH SCHOOL",
          "JOHN DEWEY HIGH SCHOOL",
          "LIFE ACADEMY HIGH SCHOOL FOR FILM AND MUSIC",
          "EXPEDITIONARY LEARNING SCHOOL FOR COMMUNITY LEADERS",
          "WILLIAM E. GRADY CAREER AND TECHNICAL EDUCATION HIGH SCHOOL",
          "BROOKLYN STUDIO SECONDARY SCHOOL",
          "MIDWOOD HIGH SCHOOL",
          "JAMES MADISON HIGH SCHOOL",
          "LEON M. GOLDSTEIN HIGH SCHOOL FOR THE SCIENCES",
          "BROOKLYN COLLEGE ACADEMY",
          "BROOKLYN COLLEGIATE: A COLLEGE BOARD SCHOOL",
          "FREDERICK DOUGLASS ACADEMY VII HIGH SCHOOL",
          "TEACHERS PREPARATORY HIGH SCHOOL",
          "ACADEMY FOR ENVIRONMENTAL LEADERSHIP",
          "EBC HIGH SCHOOL FOR PUBLIC SERVICE–BUSHWICK",
          "BUSHWICK SCHOOL FOR SOCIAL JUSTICE",
          "ACADEMY OF URBAN PLANNING",
          "ALL CITY LEADERSHIP SECONDARY SCHOOL",
          "BUSHWICK LEADERS HIGH SCHOOL FOR ACADEMIC EXCELLENCE"
         ],
         "textfont": {
          "color": "#4D5663"
         },
         "type": "scatter",
         "x": [
          3.837471783295711,
          29.937087274674283,
          4.545454545454546,
          10.058027079303674,
          39.70367591897975,
          35.157723747642,
          6.888888888888889,
          8.755129958960328,
          27.511481056257175,
          11.716621253405995,
          3.7756202804746493,
          14.748603351955309,
          38.51607347876005,
          1.8497109826589597,
          29.78723404255319,
          27.570266272189354,
          32.91552197802198,
          4.681647940074907,
          3.1620553359683794,
          9.631147540983607,
          7.000000000000001,
          6,
          5.37261698440208,
          24.483652021602687,
          17.846313437599743,
          74.58314806580702,
          59.187544107268884,
          36.448826597131685,
          18.645787016451756,
          27.278825825337456,
          6.547619047619048,
          32.748438110113234,
          6.172839506172839,
          3.770739064856712,
          19.03080326752893,
          13.059599813142325,
          29.39153670930437,
          1.3488657265481299,
          12.098765432098766,
          81.15021770682148,
          11.327433628318584,
          40.44791415481071,
          32.176769614425474,
          5.830903790087463,
          33.427162216022325,
          31.780503978779844,
          5.454545454545454,
          30.575555960627053,
          24.76561346522959,
          25.41966426858513,
          10.40339702760085,
          8.980582524271846,
          24.637681159420293,
          8.395522388059701,
          33.77718485702779,
          38.9815245177783,
          33.77718485702779,
          43.887362637362635,
          39.701183431952664,
          44.03714885796797,
          41.62220843672457,
          43.153460252122464,
          28.0497491638796,
          47.09081976417743,
          42.30453972257251,
          29.798809735299344,
          33.86583888552393,
          2.9925187032418954,
          28.483188996434034,
          5.7894736842105265,
          10.83743842364532,
          10.478359908883828,
          31.937833206397563,
          32.50096880449526,
          4.805491990846682,
          7.796610169491526,
          41.488374969082365,
          5.311355311355311,
          19.609375,
          8.350877192982455,
          7.335907335907336,
          34.499691484985604,
          37.61773940345369,
          7.0686070686070686,
          2.7027027027027026,
          5.1252408477842,
          27.33661994784876,
          9.870711089010442,
          10.70110701107011,
          51.40591480232914,
          57.09240980258679,
          13.496741229481815,
          4.4520547945205475,
          19.390942217595004,
          10.500650195058519,
          35.90998043052838,
          20.480769230769234,
          2.586206896551724,
          10.684931506849315,
          5.830388692579505,
          35.64332766680833,
          7.755775577557755,
          29.730148883374692,
          19.09547738693467,
          2.6615969581749046,
          7.35930735930736
         ],
         "y": [
          1074,
          1080,
          1114,
          1211,
          1833,
          981,
          1206,
          1116,
          1223.4388059701494,
          1312,
          1189,
          1391,
          1353,
          1085,
          1223.4388059701494,
          1740,
          1189,
          1114,
          1204,
          1215,
          1090,
          1112,
          1187,
          1103,
          1093,
          1122,
          1035,
          1111,
          1179,
          1203,
          1169,
          1175,
          1212,
          1185,
          1258,
          1223.4388059701494,
          1068,
          1097,
          1092,
          1223.4388059701494,
          1139,
          1045,
          913,
          1176,
          1088,
          1153,
          1027,
          1105,
          1360,
          1273,
          1143,
          1151,
          1436,
          1251,
          963,
          1145,
          1118,
          1092,
          1143,
          1080,
          1183,
          1169,
          1159,
          1111,
          1135,
          1242,
          1023,
          1054,
          1149,
          1106,
          887,
          1193,
          1096,
          1108,
          1129,
          1102,
          1157,
          1272,
          1323,
          1306,
          1244,
          1223.4388059701494,
          1026,
          1237,
          1164,
          1226,
          1223.4388059701494,
          1431,
          1262,
          1124,
          1079,
          1184,
          1313,
          1473,
          1350,
          1627,
          1352,
          1185,
          1091,
          1196,
          1098,
          1154,
          1035,
          1060,
          1315,
          1055
         ]
        },
        {
         "marker": {
          "color": "rgba(128, 0, 128, 1.0)",
          "line": {
           "width": 1.3
          },
          "opacity": 0.8,
          "size": 12,
          "symbol": "circle"
         },
         "mode": "markers",
         "name": "Queens",
         "text": [
          "ACADEMY OF FINANCE AND ENTERPRISE",
          "HIGH SCHOOL OF APPLIED COMMUNICATION",
          "CIVIC LEADERSHIP ACADEMY",
          "PAN AMERICAN INTERNATIONAL HIGH SCHOOL",
          "BARD HIGH SCHOOL EARLY COLLEGE II",
          "NEWTOWN HIGH SCHOOL",
          "GROVER CLEVELAND HIGH SCHOOL",
          "MIDDLE COLLEGE HIGH SCHOOL AT LAGUARDIA COMMUNITY COLLEGE",
          "INTERNATIONAL HIGH SCHOOL AT LAGUARDIA COMMUNITY COLLEGE",
          "HIGH SCHOOL FOR ARTS AND BUSINESS",
          "ROBERT F. WAGNER, JR. SECONDARY SCHOOL FOR ARTS AND TECHNOLOGY",
          "QUEENS VOCATIONAL AND TECHNICAL HIGH SCHOOL",
          "AVIATION CAREER & TECHNICAL EDUCATION HIGH SCHOOL",
          "QUEENS SCHOOL OF INQUIRY, THE",
          "FLUSHING INTERNATIONAL HIGH SCHOOL",
          "EASTsWEST SCHOOL OF INTERNATIONAL STUDIES",
          "WORLD JOURNALISM PREPARATORY: A COLLEGE BOARD SCHOOL",
          "JOHN BOWNE HIGH SCHOOL",
          "FLUSHING HIGH SCHOOL",
          "TOWNSEND HARRIS HIGH SCHOOL",
          "ROBERT F. KENNEDY COMMUNITY HIGH SCHOOL",
          "BENJAMIN N. CARDOZO HIGH SCHOOL",
          "FRANCIS LEWIS HIGH SCHOOL",
          "MARTIN VAN BUREN HIGH SCHOOL",
          "BAYSIDE HIGH SCHOOL",
          "QUEENS HIGH SCHOOL OF TEACHING, LIBERAL ARTS AND THE SCIENCES",
          "FREDERICK DOUGLASS ACADEMY VI HIGH SCHOOL",
          "CHANNEL VIEW SCHOOL FOR RESEARCH",
          "QUEENS HIGH SCHOOL FOR INFORMATION, RESEARCH, AND TECHNOLOGY",
          "ROBERT H. GODDARD HIGH SCHOOL OF COMMUNICATION ARTS AND TECHNOLOGY",
          "ACADEMY OF MEDICAL TECHNOLOGY: A COLLEGE BOARD SCHOOL",
          "SCHOLARS' ACADEMY",
          "AUGUST MARTIN HIGH SCHOOL",
          "RICHMOND HILL HIGH SCHOOL",
          "JOHN ADAMS HIGH SCHOOL",
          "HIGH SCHOOL FOR CONSTRUCTION TRADES, ENGINEERING AND ARCHITECTURE",
          "YORK EARLY COLLEGE ACADEMY",
          "QUEENS COLLEGIATE: A COLLEGE BOARD SCHOOL",
          "HILLSIDE ARTS & LETTERS ACADEMY",
          "FOREST HILLS HIGH SCHOOL",
          "HILLCREST HIGH SCHOOL",
          "THOMAS A. EDISON CAREER AND TECHNICAL EDUCATION HIGH SCHOOL",
          "QUEENS GATEWAY TO HEALTH SCIENCES SECONDARY SCHOOL",
          "QUEENS METROPOLITAN HIGH SCHOOL",
          "QUEENS HIGH SCHOOL FOR THE SCIENCES AT YORK COLLEGE",
          "HIGH SCHOOL FOR LAW ENFORCEMENT AND PUBLIC SAFETY",
          "YOUNG WOMEN'S LEADERSHIP SCHOOL, QUEENS",
          "QUEENS PREPARATORY ACADEMY",
          "PATHWAYS COLLEGE PREPARATORY SCHOOL: A COLLEGE BOARD SCHOOL",
          "EXCELSIOR PREPARATORY HIGH SCHOOL",
          "GEORGE WASHINGTON CARVER HIGH SCHOOL FOR THE SCIENCES",
          "PREPARATORY ACADEMY FOR WRITERS: A COLLEGE BOARD SCHOOL",
          "CAMBRIA HEIGHTS ACADEMY",
          "MATHEMATICS, SCIENCE RESEARCH AND TECHNOLOGY MAGNET HIGH SCHOOL",
          "HUMANITIES & ARTS MAGNET HIGH SCHOOL",
          "YOUNG WOMEN'S LEADERSHIP SCHOOL, ASTORIA",
          "ACADEMY FOR CAREERS IN TELEVISION AND FILM",
          "WILLIAM CULLEN BRYANT HIGH SCHOOL",
          "LONG ISLAND CITY HIGH SCHOOL",
          "FRANK SINATRA SCHOOL OF THE ARTS HIGH SCHOOL",
          "INFORMATION TECHNOLOGY HIGH SCHOOL",
          "NEWCOMERS HIGH SCHOOL",
          "ACADEMY OF AMERICAN STUDIES",
          "BACCALAUREATE SCHOOL FOR GLOBAL EDUCATION"
         ],
         "textfont": {
          "color": "#4D5663"
         },
         "type": "scatter",
         "x": [
          22.61904761904762,
          11.855670103092782,
          28.736936782593798,
          35.25378310214376,
          20.448311593319517,
          6.765163297045102,
          9.666505558240695,
          25.961538461538463,
          26.172179747230455,
          23.91304347826087,
          21.46902598233713,
          1.9736842105263157,
          5.906406179009541,
          21.981064080723367,
          30.575555960627053,
          20.94624125874126,
          10.92436974789916,
          4.808743169398907,
          10.407966591712174,
          53.771929824561404,
          10.679611650485436,
          17.280163599182004,
          16.78709055876686,
          2.9707112970711296,
          14.510278113663846,
          10.788365063030616,
          28.995246326707004,
          6.761006289308176,
          41.62220843672457,
          22.32332978440245,
          24.483652021602687,
          5.178907721280603,
          1.84645286686103,
          5.493230174081238,
          4.134672179562906,
          9.848484848484848,
          26.386267107126006,
          24.39108622946052,
          64.51442307692308,
          19.118414188836724,
          7.7666774089590715,
          8.126110124333925,
          11.36653895274585,
          19.461364427427778,
          51.43540669856459,
          3.544776119402985,
          1.1764705882352942,
          3.4013605442176873,
          5.225225225225225,
          29.126150373328702,
          2.9535864978902953,
          8.456659619450317,
          87.77472527472527,
          5.339805825242718,
          26.825123940508554,
          26.066433566433567,
          30.79447402239765,
          8.251273344651953,
          11.990549320732427,
          14.285714285714285,
          5.561613958560523,
          12.768240343347639,
          14.346590909090908,
          29.324737762237763
         ],
         "y": [
          1280,
          1219,
          1240,
          951,
          1663,
          1203,
          1211,
          1177,
          1064,
          1174,
          1330,
          1270,
          1364,
          1396,
          1049,
          1271,
          1441,
          1243,
          1216,
          1910,
          1330,
          1514,
          1474,
          1172,
          1449,
          1279,
          1145,
          1252,
          1156,
          1265,
          1094,
          1532,
          1108,
          1154,
          1192,
          1345,
          1223.4388059701494,
          1265,
          1223.4388059701494,
          1407,
          1194,
          1372,
          1538,
          1223.4388059701494,
          1868,
          1196,
          1316,
          1099,
          1173,
          1202,
          1287,
          1100,
          1223.4388059701494,
          1220,
          1151,
          1223.4388059701494,
          1255,
          1275,
          1218,
          1494,
          1239,
          1127,
          1470,
          1636
         ]
        },
        {
         "marker": {
          "color": "rgba(219, 64, 82, 1.0)",
          "line": {
           "width": 1.3
          },
          "opacity": 0.8,
          "size": 12,
          "symbol": "circle"
         },
         "mode": "markers",
         "name": "Staten Island",
         "text": [
          "CSI HIGH SCHOOL FOR INTERNATIONAL STUDIES",
          "GAYNOR MCCOWN EXPEDITIONARY LEARNING SCHOOL",
          "THE MICHAEL J. PETRIDES SCHOOL",
          "NEW DORP HIGH SCHOOL",
          "PORT RICHMOND HIGH SCHOOL",
          "CURTIS HIGH SCHOOL",
          "TOTTENVILLE HIGH SCHOOL",
          "SUSAN E. WAGNER HIGH SCHOOL",
          "RALPH R. MCKEE CAREER AND TECHNICAL EDUCATION HIGH SCHOOL",
          "STATEN ISLAND TECHNICAL HIGH SCHOOL"
         ],
         "textfont": {
          "color": "#4D5663"
         },
         "type": "scatter",
         "x": [
          24.25354251012146,
          31.624717194570138,
          12.385321100917432,
          3.611738148984198,
          9.019060901906089,
          9.678683385579937,
          10.219354838709679,
          8.603145235892692,
          19.115384615384617,
          47.82608695652174
         ],
         "y": [
          1353,
          1195,
          1426,
          1277,
          1279,
          1301,
          1418,
          1388,
          1235,
          1953
         ]
        }
       ],
       "layout": {
        "legend": {
         "bgcolor": "#F5F6F9",
         "font": {
          "color": "#4D5663"
         }
        },
        "paper_bgcolor": "#F5F6F9",
        "plot_bgcolor": "#F5F6F9",
        "shapes": [
         {
          "line": {
           "color": "#000000",
           "dash": "dash",
           "width": 1
          },
          "type": "line",
          "x0": 0,
          "x1": 1,
          "xref": "paper",
          "y0": 1223.4388059701494,
          "y1": 1223.4388059701494,
          "yref": "y"
         },
         {
          "line": {
           "color": "#000000",
           "dash": "dash",
           "width": 1
          },
          "type": "line",
          "x0": 21.050294828886546,
          "x1": 21.050294828886546,
          "xref": "x",
          "y0": 0,
          "y1": 1,
          "yref": "paper"
         }
        ],
        "title": "Share of AP-Test takers vs. SAT score by school <br> dashed lines: average of entire dataset",
        "titlefont": {
         "color": "#4D5663"
        },
        "xaxis": {
         "gridcolor": "#E1E5ED",
         "showgrid": true,
         "tickfont": {
          "color": "#4D5663"
         },
         "title": "AP-Test Takers, %",
         "titlefont": {
          "color": "#4D5663"
         },
         "zerolinecolor": "#E1E5ED"
        },
        "yaxis": {
         "gridcolor": "#E1E5ED",
         "showgrid": true,
         "tickfont": {
          "color": "#4D5663"
         },
         "title": "Avg. SAT score",
         "titlefont": {
          "color": "#4D5663"
         },
         "zerolinecolor": "#E1E5ED"
        }
       }
      },
      "text/html": [
       "<div>\n",
       "        \n",
       "        \n",
       "            <div id=\"75733c78-28fc-42e6-8138-2b36627cf6a6\" class=\"plotly-graph-div\" style=\"height:525px; width:100%;\"></div>\n",
       "            <script type=\"text/javascript\">\n",
       "                require([\"plotly\"], function(Plotly) {\n",
       "                    window.PLOTLYENV=window.PLOTLYENV || {};\n",
       "                    window.PLOTLYENV.BASE_URL='https://plot.ly';\n",
       "                    \n",
       "                if (document.getElementById(\"75733c78-28fc-42e6-8138-2b36627cf6a6\")) {\n",
       "                    Plotly.newPlot(\n",
       "                        '75733c78-28fc-42e6-8138-2b36627cf6a6',\n",
       "                        [{\"marker\": {\"color\": \"rgba(255, 153, 51, 1.0)\", \"line\": {\"width\": 1.3}, \"opacity\": 0.8, \"size\": 12, \"symbol\": \"circle\"}, \"mode\": \"markers\", \"name\": \"Manhattan\", \"text\": [\"HENRY STREET SCHOOL FOR INTERNATIONAL STUDIES\", \"UNIVERSITY NEIGHBORHOOD HIGH SCHOOL\", \"EAST SIDE COMMUNITY SCHOOL\", \"MARTA VALLE HIGH SCHOOL\", \"NEW EXPLORATIONS INTO SCIENCE, TECHNOLOGY AND MATH HIGH SCHOOL\", \"BARD HIGH SCHOOL EARLY COLLEGE\", \"47 THE AMERICAN SIGN LANGUAGE AND ENGLISH SECONDARY SCHOOL\", \"FOOD AND FINANCE HIGH SCHOOL\", \"ESSEX STREET ACADEMY\", \"HIGH SCHOOL OF HOSPITALITY MANAGEMENT\", \"PACE HIGH SCHOOL\", \"URBAN ASSEMBLY SCHOOL OF DESIGN AND CONSTRUCTION, THE\", \"FACING HISTORY SCHOOL, THE\", \"URBAN ASSEMBLY ACADEMY OF GOVERNMENT AND LAW, THE\", \"LOWER MANHATTAN ARTS ACADEMY\", \"URBAN ASSEMBLY SCHOOL OF BUSINESS FOR YOUNG WOMEN, THE\", \"GRAMERCY ARTS HIGH SCHOOL\", \"NYC ISCHOOL\", \"MANHATTAN BUSINESS ACADEMY\", \"BUSINESS OF SPORTS SCHOOL\", \"THE HIGH SCHOOL FOR LANGUAGE AND DIPLOMACY\", \"HIGH SCHOOL FOR ENVIRONMENTAL STUDIES\", \"PROFESSIONAL PERFORMING ARTS HIGH SCHOOL\", \"BARUCH COLLEGE CAMPUS HIGH SCHOOL\", \"N.Y.C. LAB SCHOOL FOR COLLABORATIVE STUDIES\", \"N.Y.C. MUSEUM SCHOOL\", \"ELEANOR ROOSEVELT HIGH SCHOOL\", \"MILLENNIUM HIGH SCHOOL\", \"LANDMARK HIGH SCHOOL\", \"HIGH SCHOOL FOR HEALTH PROFESSIONS AND HUMAN SERVICES\", \"LEADERSHIP AND PUBLIC SERVICE HIGH SCHOOL\", \"MANHATTAN ACADEMY FOR ARTS & LANGUAGE\", \"HUDSON HIGH SCHOOL OF LEARNING TECHNOLOGIES\", \"INTERNATIONAL HIGH SCHOOL AT UNION SQUARE\", \"MANHATTAN VILLAGE ACADEMY\", \"VANGUARD HIGH SCHOOL\", \"MANHATTAN INTERNATIONAL HIGH SCHOOL\", \"STUYVESANT HIGH SCHOOL\", \"HIGH SCHOOL OF ECONOMICS AND FINANCE\", \"UNITY CENTER FOR URBAN TECHNOLOGIES\", \"TALENT UNLIMITED HIGH SCHOOL\", \"MURRY BERGTRAUM HIGH SCHOOL FOR BUSINESS CAREERS\", \"JACQUELINE KENNEDY ONASSIS HIGH SCHOOL\", \"REPERTORY COMPANY HIGH SCHOOL FOR THEATRE ARTS\", \"MANHATTAN BRIDGES HIGH SCHOOL\", \"NEW DESIGN HIGH SCHOOL\", \"HIGH SCHOOL FOR DUAL LANGUAGE AND ASIAN STUDIES\", \"THE URBAN ASSEMBLY NEW YORK HARBOR SCHOOL\", \"RICHARD R. GREEN HIGH SCHOOL OF TEACHING\", \"THE HIGH SCHOOL OF FASHION INDUSTRIES\", \"HUMANITIES PREPARATORY ACADEMY\", \"CHELSEA CAREER AND TECHNICAL EDUCATION HIGH SCHOOL\", \"ART AND DESIGN HIGH SCHOOL\", \"LIFE SCIENCES SECONDARY SCHOOL\", \"HIGH SCHOOL FOR ARTS, IMAGINATION AND INQUIRY\", \"URBAN ASSEMBLY SCHOOL FOR MEDIA STUDIES, THE\", \"THE URBAN ASSEMBLY SCHOOL FOR GREEN CAREERS\", \"THE GLOBAL LEARNING COLLABORATIVE\", \"WADLEIGH SECONDARY SCHOOL FOR THE PERFORMING & VISUAL ARTS\", \"FRANK MCCOURT HIGH SCHOOL\", \"BEACON HIGH SCHOOL\", \"FIORELLO H. LAGUARDIA HIGH SCHOOL OF MUSIC & ART AND PERFORMING ARTS\", \"HIGH SCHOOL FOR LAW, ADVOCACY AND COMMUNITY JUSTICE\", \"HIGH SCHOOL OF ARTS AND TECHNOLOGY\", \"MANHATTAN / HUNTER SCIENCE HIGH SCHOOL\", \"FREDERICK DOUGLASS ACADEMY II SECONDARY SCHOOL\", \"COALITION SCHOOL FOR SOCIAL CHANGE\", \"MANHATTAN CENTER FOR SCIENCE AND MATHEMATICS\", \"PARK EAST HIGH SCHOOL\", \"CENTRAL PARK EAST HIGH SCHOOL\", \"YOUNG WOMEN'S LEADERSHIP SCHOOL\", \"YOUNG WOMEN'S LEADERSHIP SCHOOL\", \"HERITAGE SCHOOL, THE\", \"MOTT HALL HIGH SCHOOL\", \"COLUMBIA SECONDARY SCHOOL FOR MATH, SCIENCE, AND ENGINEERING\", \"ACADEMY FOR SOCIAL ACTION: A COLLEGE BOARD SCHOOL\", \"URBAN ASSEMBLY SCHOOL FOR THE PERFORMING ARTS\", \"FREDERICK DOUGLASS ACADEMY\", \"THURGOOD MARSHALL ACADEMY FOR LEARNING AND SOCIAL CHANGE\", \"HIGH SCHOOL FOR MATHEMATICS, SCIENCE AND ENGINEERING AT CITY COLLEGE\", \"CITY COLLEGE ACADEMY OF THE ARTS\", \"COMMUNITY HEALTH ACADEMY OF THE HEIGHTS\", \"WASHINGTON HEIGHTS EXPEDITIONARY LEARNING SCHOOL\", \"HIGH SCHOOL FOR EXCELLENCE AND INNOVATION\", \"HIGH SCHOOL FOR INTERNATIONAL BUSINESS AND FINANCE\", \"HIGH SCHOOL FOR MEDIA AND COMMUNICATIONS\", \"HIGH SCHOOL FOR LAW AND PUBLIC SERVICE\", \"HIGH SCHOOL FOR HEALTH CAREERS AND SCIENCES\", \"A. PHILIP RANDOLPH CAMPUS HIGH SCHOOL\", \"GREGORIO LUPERON HIGH SCHOOL FOR SCIENCE AND MATHEMATICS\"], \"textfont\": {\"color\": \"#4D5663\"}, \"type\": \"scatter\", \"x\": [30.575555960627053, 9.898477157360407, 3.177257525083612, 35.157723747642, 15.809051456912584, 20.912292731579605, 74.15450928381964, 29.798809735299344, 37.61773940345369, 30.79447402239765, 5.072463768115942, 22.96983758700696, 9.312638580931264, 8.012820512820513, 38.40144230769231, 34.13461538461539, 26.066433566433567, 29.798809735299344, 38.86411028730306, 42.44369939271255, 52.88067465321564, 15.27977044476327, 3.9840637450199203, 18.055555555555554, 19.689119170984455, 29.593772053634442, 30.57199211045365, 13.738019169329075, 30.6481819842865, 11.538461538461538, 11.532125205930807, 73.73076923076923, 57.09240980258679, 73.3118444055944, 9.79020979020979, 29.06055093555094, 3.6923076923076925, 45.799211404306945, 12.484548825710753, 54.442551119766314, 6.109979633401222, 5.692233478051134, 11.049723756906078, 59.460297766749385, 12.384473197781885, 30.50327332242226, 17.280453257790366, 1.627906976744186, 10.98360655737705, 4.377736085053159, 67.20252403846155, 11.158798283261802, 6.25, 6.97350069735007, 30.868145012881858, 35.25378310214376, 45.59323185648274, 36.04157713794586, 12.5968992248062, 58.917281348788194, 14.285714285714285, 26.525911708253357, 23.850063984075078, 6.301824212271974, 28.483188996434034, 2.663438256658596, 5.157593123209169, 19.87878787878788, 36.97101608992727, 28.995246326707004, 9.131403118040089, 28.736936782593798, 43.887362637362635, 2.5821596244131455, 27.221275559883157, 4.0, 34.499691484985604, 10.475578406169666, 6.379310344827586, 28.078817733990146, 22.018574428983985, 24.813239644970416, 21.43336314847943, 72.4881158167675, 17.142857142857142, 6.468531468531468, 20.31700288184438, 4.712812960235641, 12.840466926070038, 18.64406779661017], \"y\": [1122.0, 1172.0, 1149.0, 1207.0, 1621.0, 1856.0, 1182.0, 1194.0, 1156.0, 1111.0, 1293.0, 1269.0, 1051.0, 1148.0, 1200.0, 1127.0, 1176.0, 1435.0, 1223.4388059701494, 1223.4388059701494, 1223.4388059701494, 1419.0, 1522.0, 1577.0, 1677.0, 1419.0, 1758.0, 1614.0, 1170.0, 1306.0, 1233.0, 1223.4388059701494, 1223.4388059701494, 1223.4388059701494, 1372.0, 1199.0, 1227.0, 2096.0, 1374.0, 1070.0, 1416.0, 1240.0, 1239.0, 1253.0, 1058.0, 1168.0, 1424.0, 1212.0, 1195.0, 1257.0, 1255.0, 1207.0, 1315.0, 1236.0, 1132.0, 1144.0, 1223.4388059701494, 1223.4388059701494, 1109.0, 1223.4388059701494, 1744.0, 1707.0, 1196.0, 1277.0, 1446.0, 1096.0, 1084.0, 1430.0, 1128.0, 1221.0, 1326.0, 1326.0, 1054.0, 1210.0, 1223.4388059701494, 1062.0, 1077.0, 1374.0, 1202.0, 1847.0, 1270.0, 1105.0, 1174.0, 1223.4388059701494, 1127.0, 1098.0, 1102.0, 1224.0, 1309.0, 1014.0]}, {\"marker\": {\"color\": \"rgba(55, 128, 191, 1.0)\", \"line\": {\"width\": 1.3}, \"opacity\": 0.8, \"size\": 12, \"symbol\": \"circle\"}, \"mode\": \"markers\", \"name\": \"Bronx\", \"text\": [\"SOUTH BRONX PREPARATORY: A COLLEGE BOARD SCHOOL\", \"INTERNATIONAL COMMUNITY HIGH SCHOOL\", \"COMMUNITY SCHOOL FOR SOCIAL JUSTICE\", \"MOTT HAVEN VILLAGE PREPARATORY HIGH SCHOOL\", \"UNIVERSITY HEIGHTS SECONDARY SCHOOL\", \"HOSTOSsLINCOLN ACADEMY OF SCIENCE\", \"FOREIGN LANGUAGE ACADEMY OF GLOBAL STUDIES\", \"BRONX LEADERSHIP ACADEMY II HIGH SCHOOL\", \"NEW EXPLORERS HIGH SCHOOL\", \"URBAN ASSEMBLY SCHOOL FOR CAREERS IN SPORTS\", \"BRONX ACADEMY OF LETTERS\", \"ALFRED E. SMITH CAREER AND TECHNICAL EDUCATION HIGH SCHOOL\", \"HEALTH OPPORTUNITIES HIGH SCHOOL\", \"BRONX STUDIO SCHOOL FOR WRITERS AND ARTISTS\", \"WOMEN'S ACADEMY OF EXCELLENCE\", \"RENAISSANCE HIGH SCHOOL FOR MUSICAL THEATER & TECHNOLOGY\", \"PABLO NERUDA ACADEMY FOR ARCHITECTURE AND WORLD STUDIES\", \"MILLENNIUM ART ACADEMY\", \"HOLCOMBE L. RUCKER SCHOOL OF COMMUNITY RESEARCH\", \"ANTONIA PANTOJA PREPARATORY ACADEMY, A COLLEGE BOARD SCHOOL\", \"HERBERT H. LEHMAN HIGH SCHOOL\", \"BRONX BRIDGES HIGH SCHOOL\", \"FELISA RINCON DE GAUTIER INSTITUTE FOR LAW AND PUBLIC POLICY, THE\", \"BANANA KELLY HIGH SCHOOL\", \"BRONX EXPEDITIONARY LEARNING HIGH SCHOOL\", \"EAGLE ACADEMY FOR YOUNG MEN\", \"URBAN ASSEMBLY SCHOOL FOR APPLIED MATH AND SCIENCE, THE\", \"EXIMIUS COLLEGE PREPARATORY ACADEMY: A COLLEGE BOARD SCHOOL\", \"MOTT HALL BRONX HIGH SCHOOL\", \"BRONX CENTER FOR SCIENCE AND MATHEMATICS\", \"VALIDUS PREPARATORY ACADEMY: AN EXPEDITIONARY LEARNING SCHOOL\", \"LEADERSHIP INSTITUTE\", \"MORRIS ACADEMY FOR COLLABORATIVE STUDIES\", \"BRONX EARLY COLLEGE ACADEMY FOR TEACHING & LEARNING\", \"DREAMYARD PREPARATORY SCHOOL\", \"ACADEMY FOR LANGUAGE AND TECHNOLOGY\", \"BRONX INTERNATIONAL HIGH SCHOOL\", \"SCHOOL FOR EXCELLENCE\", \"BRONX HIGH SCHOOL OF BUSINESS\", \"BRONX HIGH SCHOOL FOR MEDICAL SCIENCE\", \"BRONX SCHOOL FOR LAW, GOVERNMENT AND JUSTICE\", \"FREDERICK DOUGLASS ACADEMY III SECONDARY SCHOOL\", \"BRONX LEADERSHIP ACADEMY HIGH SCHOOL\", \"HIGH SCHOOL FOR VIOLIN AND DANCE\", \"RIVERDALE / KINGSBRIDGE ACADEMY (MIDDLE SCHOOL / HIGH SCHOOL 141)\", \"BRONX ENGINEERING AND TECHNOLOGY ACADEMY\", \"THEATRE ARTS PRODUCTION COMPANY SCHOOL\", \"THE MARIE CURIE SCHOOL FOR MEDICINE, NURSING, AND HEALTH PROFESSIONS\", \"WEST BRONX ACADEMY FOR THE FUTURE\", \"KINGSBRIDGE INTERNATIONAL HIGH SCHOOL\", \"BRONX SCHOOL OF LAW AND FINANCE\", \"INTERNATIONAL SCHOOL FOR LIBERAL ARTS\", \"INsTECH ACADEMY (M.S. / HIGH SCHOOL 368)\", \"KNOWLEDGE AND POWER PREPARATORY ACADEMY INTERNATIONAL HIGH SCHOOL (KAPPA)\", \"HIGH SCHOOL FOR TEACHING AND THE PROFESSIONS\", \"BELMONT PREPARATORY HIGH SCHOOL\", \"FORDHAM HIGH SCHOOL FOR THE ARTS\", \"FORDHAM LEADERSHIP ACADEMY FOR BUSINESS AND TECHNOLOGY\", \"BRONX HIGH SCHOOL FOR LAW AND COMMUNITY SERVICE\", \"DEWITT CLINTON HIGH SCHOOL\", \"CELIA CRUZ BRONX HIGH SCHOOL OF MUSIC, THE\", \"BRONX HIGH SCHOOL OF SCIENCE\", \"MARBLE HILL HIGH SCHOOL FOR INTERNATIONAL STUDIES\", \"BRONX THEATRE HIGH SCHOOL\", \"DISCOVERY HIGH SCHOOL\", \"HIGH SCHOOL OF AMERICAN STUDIES AT LEHMAN COLLEGE\", \"BRONX HEALTH SCIENCES HIGH SCHOOL\", \"BRONX HIGH SCHOOL FOR WRITING AND COMMUNICATION ARTS\", \"BRONX LAB SCHOOL\", \"ACADEMY FOR SCHOLARSHIP AND ENTREPRENEURSHIP: A COLLEGE BOARD SCHOOL\", \"HIGH SCHOOL OF COMPUTERS AND TECHNOLOGY\", \"COLLEGIATE INSTITUTE FOR MATH AND SCIENCE\", \"BRONX ACADEMY OF HEALTH CAREERS\", \"ASTOR COLLEGIATE ACADEMY\", \"BRONX HIGH SCHOOL FOR THE VISUAL ARTS\", \"HARRY S TRUMAN HIGH SCHOOL\", \"NEW WORLD HIGH SCHOOL\", \"THE BRONXWOOD PREPARATORY ACADEMY\", \"PELHAM PREPARATORY ACADEMY\", \"HIGH SCHOOL FOR CONTEMPORARY ARTS\", \"BRONX AEROSPACE HIGH SCHOOL\", \"METROPOLITAN HIGH SCHOOL, THE\", \"EXPLORATIONS ACADEMY\", \"BRONX LATIN\", \"EAST BRONX ACADEMY FOR THE FUTURE\", \"PEACE AND DIVERSITY ACADEMY\", \"PAN AMERICAN INTERNATIONAL HIGH SCHOOL AT MONROE\", \"THE CINEMA SCHOOL\", \"BRONX CAREER AND COLLEGE PREPARATORY HIGH SCHOOL\", \"HIGH SCHOOL OF WORLD CULTURES\", \"FANNIE LOU HAMER FREEDOM HIGH SCHOOL\", \"WINGS ACADEMY\", \"MONROE ACADEMY FOR VISUAL ARTS & DESIGN\"], \"textfont\": {\"color\": \"#4D5663\"}, \"type\": \"scatter\", \"x\": [10.128617363344052, 32.83176746917205, 40.44791415481071, 35.545136681500324, 27.748138957816376, 11.895910780669144, 4.180064308681672, 5.9760956175298805, 4.699738903394255, 27.050072568940497, 9.54954954954955, 1.4905149051490514, 10.391822827938672, 25.805769230769233, 5.540897097625329, 4.690831556503198, 35.9411827726591, 7.056451612903227, 6.006006006006006, 29.867788461538463, 11.967715001391594, 83.24441687344914, 35.545136681500324, 28.60950025584172, 36.346153846153854, 5.818181818181818, 2.6402640264026402, 25.280898876404496, 36.448826597131685, 13.963963963963963, 1.9178082191780823, 7.391304347826087, 28.673076923076923, 26.172179747230455, 4.297994269340974, 5.952380952380952, 32.01708341286505, 33.427162216022325, 6.483790523690773, 28.357988165680474, 5.897771952817824, 4.887218045112782, 5.673758865248227, 39.94701119314122, 9.947643979057592, 24.0990990990991, 3.2442748091603053, 2.7777777777777777, 3.930817610062893, 6.438631790744467, 4.976303317535545, 9.075907590759076, 3.5523978685612785, 39.82371794871795, 13.107822410147993, 7.616707616707617, 33.34078711985689, 9.312638580931264, 10.185185185185185, 8.800192353931234, 7.328605200945626, 39.495519415864585, 18.201754385964914, 7.640449438202247, 24.39108622946052, 51.45888594164456, 34.22515813099368, 6.6350710900473935, 26.769470156399617, 3.9603960396039604, 23.45979020979021, 14.548802946593002, 26.714046822742475, 7.228915662650602, 5.383022774327122, 5.80936266215454, 2.9850746268656714, 31.01654955621302, 9.072978303747535, 26.937128633370804, 31.01654955621302, 7.374631268436578, 35.64332766680833, 30.868145012881858, 5.169628432956381, 3.463203463203463, 31.780503978779844, 57.86046912728528, 52.88067465321564, 34.967166979362105, 27.050072568940497, 3.717472118959108, 27.68859359524596], \"y\": [1090.0, 945.0, 1077.0, 1097.0, 1201.0, 1257.0, 1186.0, 1103.0, 1084.0, 1181.0, 1201.0, 1158.0, 1095.0, 1223.4388059701494, 1171.0, 1158.0, 1038.0, 1164.0, 1084.0, 1223.4388059701494, 1241.0, 1223.4388059701494, 1099.0, 1131.0, 1049.0, 1134.0, 1290.0, 1169.0, 1092.0, 1396.0, 1075.0, 1081.0, 1148.0, 1223.4388059701494, 1138.0, 951.0, 965.0, 1074.0, 1083.0, 1221.0, 1224.0, 1121.0, 1166.0, 1039.0, 1333.0, 1150.0, 1190.0, 1157.0, 1158.0, 962.0, 1182.0, 934.0, 1181.0, 1180.0, 1106.0, 1222.0, 1077.0, 1119.0, 1082.0, 1255.0, 1270.0, 1969.0, 1263.0, 1064.0, 1115.0, 1920.0, 1133.0, 1147.0, 1135.0, 1141.0, 1111.0, 1348.0, 1135.0, 1169.0, 1268.0, 1151.0, 1048.0, 1112.0, 1288.0, 1126.0, 1163.0, 1055.0, 1122.0, 1251.0, 1102.0, 1155.0, 970.0, 1223.4388059701494, 1223.4388059701494, 939.0, 1029.0, 1114.0, 1038.0]}, {\"marker\": {\"color\": \"rgba(50, 171, 96, 1.0)\", \"line\": {\"width\": 1.3}, \"opacity\": 0.8, \"size\": 12, \"symbol\": \"circle\"}, \"mode\": \"markers\", \"name\": \"Brooklyn\", \"text\": [\"DR. SUSAN S. MCKINNEY SECONDARY SCHOOL OF THE ARTS\", \"URBAN ASSEMBLY HIGH SCHOOL OF MUSIC AND ART\", \"BROOKLYN COMMUNITY HIGH SCHOOL OF COMMUNICATION, ARTS AND MEDIA\", \"SCIENCE SKILLS CENTER HIGH SCHOOL FOR SCIENCE, TECHNOLOGY AND THE CREATIVE ARTS\", \"BROOKLYN TECHNICAL HIGH SCHOOL\", \"BROOKLYN INTERNATIONAL HIGH SCHOOL\", \"THE URBAN ASSEMBLY SCHOOL FOR LAW AND JUSTICE\", \"ACORN COMMUNITY HIGH SCHOOL\", \"URBAN ASSEMBLY INSTITUTE OF MATH AND SCIENCE FOR YOUNG WOMEN\", \"BEDFORD ACADEMY HIGH SCHOOL\", \"GEORGE WESTINGHOUSE CAREER AND TECHNICAL EDUCATION HIGH SCHOOL\", \"BENJAMIN BANNEKER ACADEMY\", \"CITY POLYTECHNIC HIGH SCHOOL OF ENGINEERING, ARCHITECTURE, AND TECHNOLOGY\", \"JUAN MOREL CAMPOS SECONDARY SCHOOL\", \"FOUNDATIONS ACADEMY\", \"BROOKLYN LATIN SCHOOL, THE\", \"GREEN SCHOOL: AN ACADEMY FOR ENVIRONMENTAL CAREERS\", \"PROGRESS HIGH SCHOOL FOR PROFESSIONAL CAREERS\", \"SCHOOL FOR LEGAL STUDIES\", \"THE HIGH SCHOOL FOR ENTERPRISE, BUSINESS AND TECHNOLOGY\", \"BROOKLYN PREPARATORY HIGH SCHOOL\", \"WILLIAMSBURG HIGH SCHOOL FOR ARCHITECTURE AND DESIGN\", \"WILLIAMSBURG PREPARATORY SCHOOL\", \"LYONS COMMUNITY SCHOOL\", \"AUTOMOTIVE HIGH SCHOOL\", \"FRANCES PERKINS ACADEMY\", \"EL PUENTE ACADEMY FOR PEACE AND JUSTICE\", \"BROOKLYN SCHOOL FOR GLOBAL STUDIES\", \"BROOKLYN SECONDARY SCHOOL FOR COLLABORATIVE STUDIES\", \"SECONDARY SCHOOL FOR LAW\", \"SECONDARY SCHOOL FOR JOURNALISM\", \"PARK SLOPE COLLEGIATE\", \"SCHOOL FOR INTERNATIONAL STUDIES\", \"COBBLE HILL SCHOOL OF AMERICAN STUDIES\", \"BROOKLYN HIGH SCHOOL OF THE ARTS\", \"SUNSET PARK HIGH SCHOOL\", \"FREDERICK DOUGLASS ACADEMY IV SECONDARY SCHOOL\", \"BOYS AND GIRLS HIGH SCHOOL\", \"BROOKLYN HIGH SCHOOL FOR LAW AND TECHNOLOGY\", \"THE BROOKLYN ACADEMY OF GLOBAL FINANCE\", \"ACADEMY FOR COLLEGE PREPARATION AND CAREER EXPLORATION: A COLLEGE BOARD SCHOOL\", \"ACADEMY OF HOSPITALITY AND TOURISM\", \"INTERNATIONAL HIGH SCHOOL AT PROSPECT HEIGHTS\", \"THE HIGH SCHOOL FOR GLOBAL CITIZENSHIP\", \"SCHOOL FOR HUMAN RIGHTS, THE\", \"SCHOOL FOR DEMOCRACY AND LEADERSHIP\", \"HIGH SCHOOL FOR YOUTH AND COMMUNITY DEVELOPMENT AT ERASMUS\", \"HIGH SCHOOL FOR SERVICE & LEARNING AT ERASMUS\", \"SCIENCE, TECHNOLOGY AND RESEARCH EARLY COLLEGE HIGH SCHOOL AT ERASMUS\", \"HIGH SCHOOL FOR PUBLIC SERVICE: HEROES OF TOMORROW\", \"BROOKLYN ACADEMY OF SCIENCE AND THE ENVIRONMENT\", \"BROOKLYN SCHOOL FOR MUSIC & THEATRE\", \"MEDGAR EVERS COLLEGE PREPARATORY SCHOOL\", \"CLARA BARTON HIGH SCHOOL\", \"IT TAKES A VILLAGE ACADEMY\", \"BROOKLYN GENERATION SCHOOL\", \"BROOKLYN THEATRE ARTS HIGH SCHOOL\", \"KURT HAHN EXPEDITIONARY LEARNING SCHOOL\", \"VICTORY COLLEGIATE HIGH SCHOOL\", \"ARTS & MEDIA PREPARATORY ACADEMY\", \"HIGH SCHOOL FOR INNOVATION IN ADVERTISING AND MEDIA\", \"CULTURAL ACADEMY FOR THE ARTS AND SCIENCES\", \"HIGH SCHOOL FOR MEDICAL PROFESSIONS\", \"ACADEMY FOR CONSERVATION AND THE ENVIRONMENT\", \"URBAN ACTION ACADEMY\", \"EAST NEW YORK FAMILY ACADEMY\", \"FDNY HIGH SCHOOL FOR FIRE AND LIFE SAFETY\", \"HIGH SCHOOL FOR CIVIL RIGHTS\", \"PERFORMING ARTS AND TECHNOLOGY HIGH SCHOOL\", \"WORLD ACADEMY FOR TOTAL COMMUNITY HEALTH HIGH SCHOOL\", \"MULTICULTURAL HIGH SCHOOL\", \"TRANSIT TECH CAREER AND TECHNICAL EDUCATION HIGH SCHOOL\", \"ACADEMY OF INNOVATIVE TECHNOLOGY\", \"BROOKLYN LAB SCHOOL\", \"CYPRESS HILLS COLLEGIATE PREPARATORY SCHOOL\", \"W. H. MAXWELL CAREER AND TECHNICAL EDUCATION HIGH SCHOOL\", \"THE SCHOOL FOR CLASSICS: AN ACADEMY OF THINKERS, WRITERS AND PERFORMERS\", \"NEW UTRECHT HIGH SCHOOL\", \"HIGH SCHOOL OF TELECOMMUNICATION ARTS AND TECHNOLOGY\", \"FORT HAMILTON HIGH SCHOOL\", \"FRANKLIN DELANO ROOSEVELT HIGH SCHOOL\", \"THE URBAN ASSEMBLY SCHOOL FOR CRIMINAL JUSTICE\", \"INTERNATIONAL HIGH SCHOOL AT LAFAYETTE\", \"RACHEL CARSON HIGH SCHOOL FOR COASTAL STUDIES\", \"HIGH SCHOOL OF SPORTS MANAGEMENT\", \"ABRAHAM LINCOLN HIGH SCHOOL\", \"KINGSBOROUGH EARLY COLLEGE SCHOOL\", \"EDWARD R. MURROW HIGH SCHOOL\", \"JOHN DEWEY HIGH SCHOOL\", \"LIFE ACADEMY HIGH SCHOOL FOR FILM AND MUSIC\", \"EXPEDITIONARY LEARNING SCHOOL FOR COMMUNITY LEADERS\", \"WILLIAM E. GRADY CAREER AND TECHNICAL EDUCATION HIGH SCHOOL\", \"BROOKLYN STUDIO SECONDARY SCHOOL\", \"MIDWOOD HIGH SCHOOL\", \"JAMES MADISON HIGH SCHOOL\", \"LEON M. GOLDSTEIN HIGH SCHOOL FOR THE SCIENCES\", \"BROOKLYN COLLEGE ACADEMY\", \"BROOKLYN COLLEGIATE: A COLLEGE BOARD SCHOOL\", \"FREDERICK DOUGLASS ACADEMY VII HIGH SCHOOL\", \"TEACHERS PREPARATORY HIGH SCHOOL\", \"ACADEMY FOR ENVIRONMENTAL LEADERSHIP\", \"EBC HIGH SCHOOL FOR PUBLIC SERVICE\\u2013BUSHWICK\", \"BUSHWICK SCHOOL FOR SOCIAL JUSTICE\", \"ACADEMY OF URBAN PLANNING\", \"ALL CITY LEADERSHIP SECONDARY SCHOOL\", \"BUSHWICK LEADERS HIGH SCHOOL FOR ACADEMIC EXCELLENCE\"], \"textfont\": {\"color\": \"#4D5663\"}, \"type\": \"scatter\", \"x\": [3.837471783295711, 29.937087274674283, 4.545454545454546, 10.058027079303674, 39.70367591897975, 35.157723747642, 6.888888888888889, 8.755129958960328, 27.511481056257175, 11.716621253405995, 3.7756202804746493, 14.748603351955309, 38.51607347876005, 1.8497109826589597, 29.78723404255319, 27.570266272189354, 32.91552197802198, 4.681647940074907, 3.1620553359683794, 9.631147540983607, 7.000000000000001, 6.0, 5.37261698440208, 24.483652021602687, 17.846313437599743, 74.58314806580702, 59.187544107268884, 36.448826597131685, 18.645787016451756, 27.278825825337456, 6.547619047619048, 32.748438110113234, 6.172839506172839, 3.770739064856712, 19.03080326752893, 13.059599813142325, 29.39153670930437, 1.3488657265481299, 12.098765432098766, 81.15021770682148, 11.327433628318584, 40.44791415481071, 32.176769614425474, 5.830903790087463, 33.427162216022325, 31.780503978779844, 5.454545454545454, 30.575555960627053, 24.76561346522959, 25.41966426858513, 10.40339702760085, 8.980582524271846, 24.637681159420293, 8.395522388059701, 33.77718485702779, 38.9815245177783, 33.77718485702779, 43.887362637362635, 39.701183431952664, 44.03714885796797, 41.62220843672457, 43.153460252122464, 28.0497491638796, 47.09081976417743, 42.30453972257251, 29.798809735299344, 33.86583888552393, 2.9925187032418954, 28.483188996434034, 5.7894736842105265, 10.83743842364532, 10.478359908883828, 31.937833206397563, 32.50096880449526, 4.805491990846682, 7.796610169491526, 41.488374969082365, 5.311355311355311, 19.609375, 8.350877192982455, 7.335907335907336, 34.499691484985604, 37.61773940345369, 7.0686070686070686, 2.7027027027027026, 5.1252408477842, 27.33661994784876, 9.870711089010442, 10.70110701107011, 51.40591480232914, 57.09240980258679, 13.496741229481815, 4.4520547945205475, 19.390942217595004, 10.500650195058519, 35.90998043052838, 20.480769230769234, 2.586206896551724, 10.684931506849315, 5.830388692579505, 35.64332766680833, 7.755775577557755, 29.730148883374692, 19.09547738693467, 2.6615969581749046, 7.35930735930736], \"y\": [1074.0, 1080.0, 1114.0, 1211.0, 1833.0, 981.0, 1206.0, 1116.0, 1223.4388059701494, 1312.0, 1189.0, 1391.0, 1353.0, 1085.0, 1223.4388059701494, 1740.0, 1189.0, 1114.0, 1204.0, 1215.0, 1090.0, 1112.0, 1187.0, 1103.0, 1093.0, 1122.0, 1035.0, 1111.0, 1179.0, 1203.0, 1169.0, 1175.0, 1212.0, 1185.0, 1258.0, 1223.4388059701494, 1068.0, 1097.0, 1092.0, 1223.4388059701494, 1139.0, 1045.0, 913.0, 1176.0, 1088.0, 1153.0, 1027.0, 1105.0, 1360.0, 1273.0, 1143.0, 1151.0, 1436.0, 1251.0, 963.0, 1145.0, 1118.0, 1092.0, 1143.0, 1080.0, 1183.0, 1169.0, 1159.0, 1111.0, 1135.0, 1242.0, 1023.0, 1054.0, 1149.0, 1106.0, 887.0, 1193.0, 1096.0, 1108.0, 1129.0, 1102.0, 1157.0, 1272.0, 1323.0, 1306.0, 1244.0, 1223.4388059701494, 1026.0, 1237.0, 1164.0, 1226.0, 1223.4388059701494, 1431.0, 1262.0, 1124.0, 1079.0, 1184.0, 1313.0, 1473.0, 1350.0, 1627.0, 1352.0, 1185.0, 1091.0, 1196.0, 1098.0, 1154.0, 1035.0, 1060.0, 1315.0, 1055.0]}, {\"marker\": {\"color\": \"rgba(128, 0, 128, 1.0)\", \"line\": {\"width\": 1.3}, \"opacity\": 0.8, \"size\": 12, \"symbol\": \"circle\"}, \"mode\": \"markers\", \"name\": \"Queens\", \"text\": [\"ACADEMY OF FINANCE AND ENTERPRISE\", \"HIGH SCHOOL OF APPLIED COMMUNICATION\", \"CIVIC LEADERSHIP ACADEMY\", \"PAN AMERICAN INTERNATIONAL HIGH SCHOOL\", \"BARD HIGH SCHOOL EARLY COLLEGE II\", \"NEWTOWN HIGH SCHOOL\", \"GROVER CLEVELAND HIGH SCHOOL\", \"MIDDLE COLLEGE HIGH SCHOOL AT LAGUARDIA COMMUNITY COLLEGE\", \"INTERNATIONAL HIGH SCHOOL AT LAGUARDIA COMMUNITY COLLEGE\", \"HIGH SCHOOL FOR ARTS AND BUSINESS\", \"ROBERT F. WAGNER, JR. SECONDARY SCHOOL FOR ARTS AND TECHNOLOGY\", \"QUEENS VOCATIONAL AND TECHNICAL HIGH SCHOOL\", \"AVIATION CAREER & TECHNICAL EDUCATION HIGH SCHOOL\", \"QUEENS SCHOOL OF INQUIRY, THE\", \"FLUSHING INTERNATIONAL HIGH SCHOOL\", \"EASTsWEST SCHOOL OF INTERNATIONAL STUDIES\", \"WORLD JOURNALISM PREPARATORY: A COLLEGE BOARD SCHOOL\", \"JOHN BOWNE HIGH SCHOOL\", \"FLUSHING HIGH SCHOOL\", \"TOWNSEND HARRIS HIGH SCHOOL\", \"ROBERT F. KENNEDY COMMUNITY HIGH SCHOOL\", \"BENJAMIN N. CARDOZO HIGH SCHOOL\", \"FRANCIS LEWIS HIGH SCHOOL\", \"MARTIN VAN BUREN HIGH SCHOOL\", \"BAYSIDE HIGH SCHOOL\", \"QUEENS HIGH SCHOOL OF TEACHING, LIBERAL ARTS AND THE SCIENCES\", \"FREDERICK DOUGLASS ACADEMY VI HIGH SCHOOL\", \"CHANNEL VIEW SCHOOL FOR RESEARCH\", \"QUEENS HIGH SCHOOL FOR INFORMATION, RESEARCH, AND TECHNOLOGY\", \"ROBERT H. GODDARD HIGH SCHOOL OF COMMUNICATION ARTS AND TECHNOLOGY\", \"ACADEMY OF MEDICAL TECHNOLOGY: A COLLEGE BOARD SCHOOL\", \"SCHOLARS' ACADEMY\", \"AUGUST MARTIN HIGH SCHOOL\", \"RICHMOND HILL HIGH SCHOOL\", \"JOHN ADAMS HIGH SCHOOL\", \"HIGH SCHOOL FOR CONSTRUCTION TRADES, ENGINEERING AND ARCHITECTURE\", \"YORK EARLY COLLEGE ACADEMY\", \"QUEENS COLLEGIATE: A COLLEGE BOARD SCHOOL\", \"HILLSIDE ARTS & LETTERS ACADEMY\", \"FOREST HILLS HIGH SCHOOL\", \"HILLCREST HIGH SCHOOL\", \"THOMAS A. EDISON CAREER AND TECHNICAL EDUCATION HIGH SCHOOL\", \"QUEENS GATEWAY TO HEALTH SCIENCES SECONDARY SCHOOL\", \"QUEENS METROPOLITAN HIGH SCHOOL\", \"QUEENS HIGH SCHOOL FOR THE SCIENCES AT YORK COLLEGE\", \"HIGH SCHOOL FOR LAW ENFORCEMENT AND PUBLIC SAFETY\", \"YOUNG WOMEN'S LEADERSHIP SCHOOL, QUEENS\", \"QUEENS PREPARATORY ACADEMY\", \"PATHWAYS COLLEGE PREPARATORY SCHOOL: A COLLEGE BOARD SCHOOL\", \"EXCELSIOR PREPARATORY HIGH SCHOOL\", \"GEORGE WASHINGTON CARVER HIGH SCHOOL FOR THE SCIENCES\", \"PREPARATORY ACADEMY FOR WRITERS: A COLLEGE BOARD SCHOOL\", \"CAMBRIA HEIGHTS ACADEMY\", \"MATHEMATICS, SCIENCE RESEARCH AND TECHNOLOGY MAGNET HIGH SCHOOL\", \"HUMANITIES & ARTS MAGNET HIGH SCHOOL\", \"YOUNG WOMEN'S LEADERSHIP SCHOOL, ASTORIA\", \"ACADEMY FOR CAREERS IN TELEVISION AND FILM\", \"WILLIAM CULLEN BRYANT HIGH SCHOOL\", \"LONG ISLAND CITY HIGH SCHOOL\", \"FRANK SINATRA SCHOOL OF THE ARTS HIGH SCHOOL\", \"INFORMATION TECHNOLOGY HIGH SCHOOL\", \"NEWCOMERS HIGH SCHOOL\", \"ACADEMY OF AMERICAN STUDIES\", \"BACCALAUREATE SCHOOL FOR GLOBAL EDUCATION\"], \"textfont\": {\"color\": \"#4D5663\"}, \"type\": \"scatter\", \"x\": [22.61904761904762, 11.855670103092782, 28.736936782593798, 35.25378310214376, 20.448311593319517, 6.765163297045102, 9.666505558240695, 25.961538461538463, 26.172179747230455, 23.91304347826087, 21.46902598233713, 1.9736842105263157, 5.906406179009541, 21.981064080723367, 30.575555960627053, 20.94624125874126, 10.92436974789916, 4.808743169398907, 10.407966591712174, 53.771929824561404, 10.679611650485436, 17.280163599182004, 16.78709055876686, 2.9707112970711296, 14.510278113663846, 10.788365063030616, 28.995246326707004, 6.761006289308176, 41.62220843672457, 22.32332978440245, 24.483652021602687, 5.178907721280603, 1.84645286686103, 5.493230174081238, 4.134672179562906, 9.848484848484848, 26.386267107126006, 24.39108622946052, 64.51442307692308, 19.118414188836724, 7.7666774089590715, 8.126110124333925, 11.36653895274585, 19.461364427427778, 51.43540669856459, 3.544776119402985, 1.1764705882352942, 3.4013605442176873, 5.225225225225225, 29.126150373328702, 2.9535864978902953, 8.456659619450317, 87.77472527472527, 5.339805825242718, 26.825123940508554, 26.066433566433567, 30.79447402239765, 8.251273344651953, 11.990549320732427, 14.285714285714285, 5.561613958560523, 12.768240343347639, 14.346590909090908, 29.324737762237763], \"y\": [1280.0, 1219.0, 1240.0, 951.0, 1663.0, 1203.0, 1211.0, 1177.0, 1064.0, 1174.0, 1330.0, 1270.0, 1364.0, 1396.0, 1049.0, 1271.0, 1441.0, 1243.0, 1216.0, 1910.0, 1330.0, 1514.0, 1474.0, 1172.0, 1449.0, 1279.0, 1145.0, 1252.0, 1156.0, 1265.0, 1094.0, 1532.0, 1108.0, 1154.0, 1192.0, 1345.0, 1223.4388059701494, 1265.0, 1223.4388059701494, 1407.0, 1194.0, 1372.0, 1538.0, 1223.4388059701494, 1868.0, 1196.0, 1316.0, 1099.0, 1173.0, 1202.0, 1287.0, 1100.0, 1223.4388059701494, 1220.0, 1151.0, 1223.4388059701494, 1255.0, 1275.0, 1218.0, 1494.0, 1239.0, 1127.0, 1470.0, 1636.0]}, {\"marker\": {\"color\": \"rgba(219, 64, 82, 1.0)\", \"line\": {\"width\": 1.3}, \"opacity\": 0.8, \"size\": 12, \"symbol\": \"circle\"}, \"mode\": \"markers\", \"name\": \"Staten Island\", \"text\": [\"CSI HIGH SCHOOL FOR INTERNATIONAL STUDIES\", \"GAYNOR MCCOWN EXPEDITIONARY LEARNING SCHOOL\", \"THE MICHAEL J. PETRIDES SCHOOL\", \"NEW DORP HIGH SCHOOL\", \"PORT RICHMOND HIGH SCHOOL\", \"CURTIS HIGH SCHOOL\", \"TOTTENVILLE HIGH SCHOOL\", \"SUSAN E. WAGNER HIGH SCHOOL\", \"RALPH R. MCKEE CAREER AND TECHNICAL EDUCATION HIGH SCHOOL\", \"STATEN ISLAND TECHNICAL HIGH SCHOOL\"], \"textfont\": {\"color\": \"#4D5663\"}, \"type\": \"scatter\", \"x\": [24.25354251012146, 31.624717194570138, 12.385321100917432, 3.611738148984198, 9.019060901906089, 9.678683385579937, 10.219354838709679, 8.603145235892692, 19.115384615384617, 47.82608695652174], \"y\": [1353.0, 1195.0, 1426.0, 1277.0, 1279.0, 1301.0, 1418.0, 1388.0, 1235.0, 1953.0]}],\n",
       "                        {\"legend\": {\"bgcolor\": \"#F5F6F9\", \"font\": {\"color\": \"#4D5663\"}}, \"paper_bgcolor\": \"#F5F6F9\", \"plot_bgcolor\": \"#F5F6F9\", \"shapes\": [{\"line\": {\"color\": \"#000000\", \"dash\": \"dash\", \"width\": 1}, \"type\": \"line\", \"x0\": 0, \"x1\": 1, \"xref\": \"paper\", \"y0\": 1223.4388059701494, \"y1\": 1223.4388059701494, \"yref\": \"y\"}, {\"line\": {\"color\": \"#000000\", \"dash\": \"dash\", \"width\": 1}, \"type\": \"line\", \"x0\": 21.050294828886546, \"x1\": 21.050294828886546, \"xref\": \"x\", \"y0\": 0, \"y1\": 1, \"yref\": \"paper\"}], \"title\": \"Share of AP-Test takers vs. SAT score by school <br> dashed lines: average of entire dataset\", \"titlefont\": {\"color\": \"#4D5663\"}, \"xaxis\": {\"gridcolor\": \"#E1E5ED\", \"showgrid\": true, \"tickfont\": {\"color\": \"#4D5663\"}, \"title\": \"AP-Test Takers, %\", \"titlefont\": {\"color\": \"#4D5663\"}, \"zerolinecolor\": \"#E1E5ED\"}, \"yaxis\": {\"gridcolor\": \"#E1E5ED\", \"showgrid\": true, \"tickfont\": {\"color\": \"#4D5663\"}, \"title\": \"Avg. SAT score\", \"titlefont\": {\"color\": \"#4D5663\"}, \"zerolinecolor\": \"#E1E5ED\"}},\n",
       "                        {\"showLink\": true, \"linkText\": \"Export to plot.ly\", \"plotlyServerURL\": \"https://plot.ly\", \"responsive\": true}\n",
       "                    ).then(function(){\n",
       "                            \n",
       "var gd = document.getElementById('75733c78-28fc-42e6-8138-2b36627cf6a6');\n",
       "var x = new MutationObserver(function (mutations, observer) {{\n",
       "        var display = window.getComputedStyle(gd).display;\n",
       "        if (!display || display === 'none') {{\n",
       "            console.log([gd, 'removed!']);\n",
       "            Plotly.purge(gd);\n",
       "            observer.disconnect();\n",
       "        }}\n",
       "}});\n",
       "\n",
       "// Listen for the removal of the full notebook cells\n",
       "var notebookContainer = gd.closest('#notebook-container');\n",
       "if (notebookContainer) {{\n",
       "    x.observe(notebookContainer, {childList: true});\n",
       "}}\n",
       "\n",
       "// Listen for the clearing of the current output cell\n",
       "var outputEl = gd.closest('.output');\n",
       "if (outputEl) {{\n",
       "    x.observe(outputEl, {childList: true});\n",
       "}}\n",
       "\n",
       "                        })\n",
       "                };\n",
       "                });\n",
       "            </script>\n",
       "        </div>"
      ]
     },
     "metadata": {},
     "output_type": "display_data"
    },
    {
     "name": "stdout",
     "output_type": "stream",
     "text": [
      "Recommendation: choose option to 'show closest data point on hover' in top right corner\n"
     ]
    }
   ],
   "source": [
    "# build scatter plot investigating correlation between share of AP-Test takers and SAT-score\n",
    "with warnings.catch_warnings(): # to catch FutureWarning about np.module being used in pandas\n",
    "    warnings.filterwarnings(\"ignore\",category=FutureWarning)\n",
    "    combined.iplot(\n",
    "        x='ap_per',\n",
    "        y='sat_score',\n",
    "        categories='boro',\n",
    "        text=\"SCHOOL NAME\",\n",
    "        vline= {\"x\":combined[\"ap_per\"].mean(),\n",
    "                \"color\":\"#000000\",\n",
    "                \"dash\": \"dash\"\n",
    "               },\n",
    "        hline={\"y\":combined[\"sat_score\"].mean(),\n",
    "               \"color\":\"#000000\",\n",
    "               \"dash\": \"dash\"\n",
    "              },\n",
    "        xTitle='AP-Test Takers, %',\n",
    "        yTitle='Avg. SAT score',\n",
    "        title='Share of AP-Test takers vs. SAT score by school <br> dashed lines: average of entire dataset'\n",
    "    )\n",
    "print(\"Recommendation: choose option to 'show closest data point on hover' in top right corner\")"
   ]
  },
  {
   "cell_type": "markdown",
   "metadata": {},
   "source": [
    "Advanced Placement (AP) is a program in the United States and Canada created by the College Board which offers college-level curricula and examinations to high school students.\n",
    "\n",
    "I see three interesting patterns in our data:\n",
    "+ **SAT above 1,400**: Amongst schools with high SAT-scores (above 1,400) there seems to be a strong correlation between the share of AP-test takers and SAT-Scores. <br> All these school seemed somewhat selective when I researched them. A hypothesis might be that students visiting these schools generally have above average academic aptitude and benefit more from academic placement than students in other schools.\n",
    "+ **SAT below 1,300 and above average share of AP-test takers**: As the detailed analysis below shows, these are schools that might score lower on SATs because they cater to otherwise disadvantaged students (more free lunches, more special education) and are more focused on generally disadvantaged parts of New Yorks population (hispanics / blacks). The AP courses they offer are less diverse and mainly focused on English literature and language - it is surprising, that these schools nonetheless score low on SAT's reading and writing sections.  \n",
    "+ **Average SAT and very high shares of AP-test takers**: Since almost all these schools have SAT score that are equal to the average of the dataset, I suspect that their SAT score was missing and imputed. They are there not investigated any further.\n",
    "\n",
    "All in all it looks like the share of AP-test takers is not a strong indicator for SAT-performance. \n",
    "\n",
    "*See some detailed analysis below.*"
   ]
  },
  {
   "cell_type": "code",
   "execution_count": 17,
   "metadata": {
    "ExecuteTime": {
     "end_time": "2020-05-03T10:45:17.548485Z",
     "start_time": "2020-05-03T10:45:17.162104Z"
    },
    "code_folding": []
   },
   "outputs": [
    {
     "data": {
      "text/html": [
       "<style  type=\"text/css\" >\n",
       "    #T_2d885ae6_8d2b_11ea_a63d_acde48001122row0_col2 {\n",
       "            background-color:  #67001f;\n",
       "            color:  #f1f1f1;\n",
       "        }    #T_2d885ae6_8d2b_11ea_a63d_acde48001122row1_col2 {\n",
       "            background-color:  #7c0722;\n",
       "            color:  #f1f1f1;\n",
       "        }    #T_2d885ae6_8d2b_11ea_a63d_acde48001122row2_col2 {\n",
       "            background-color:  #810823;\n",
       "            color:  #f1f1f1;\n",
       "        }    #T_2d885ae6_8d2b_11ea_a63d_acde48001122row3_col2 {\n",
       "            background-color:  #840924;\n",
       "            color:  #f1f1f1;\n",
       "        }    #T_2d885ae6_8d2b_11ea_a63d_acde48001122row4_col2 {\n",
       "            background-color:  #991027;\n",
       "            color:  #f1f1f1;\n",
       "        }    #T_2d885ae6_8d2b_11ea_a63d_acde48001122row5_col2 {\n",
       "            background-color:  #a21328;\n",
       "            color:  #f1f1f1;\n",
       "        }    #T_2d885ae6_8d2b_11ea_a63d_acde48001122row6_col2 {\n",
       "            background-color:  #a21328;\n",
       "            color:  #f1f1f1;\n",
       "        }    #T_2d885ae6_8d2b_11ea_a63d_acde48001122row7_col2 {\n",
       "            background-color:  #a81529;\n",
       "            color:  #f1f1f1;\n",
       "        }    #T_2d885ae6_8d2b_11ea_a63d_acde48001122row8_col2 {\n",
       "            background-color:  #a81529;\n",
       "            color:  #f1f1f1;\n",
       "        }    #T_2d885ae6_8d2b_11ea_a63d_acde48001122row9_col2 {\n",
       "            background-color:  #ae172a;\n",
       "            color:  #f1f1f1;\n",
       "        }    #T_2d885ae6_8d2b_11ea_a63d_acde48001122row10_col2 {\n",
       "            background-color:  #b61f2e;\n",
       "            color:  #f1f1f1;\n",
       "        }    #T_2d885ae6_8d2b_11ea_a63d_acde48001122row11_col2 {\n",
       "            background-color:  #b61f2e;\n",
       "            color:  #f1f1f1;\n",
       "        }    #T_2d885ae6_8d2b_11ea_a63d_acde48001122row12_col2 {\n",
       "            background-color:  #b82531;\n",
       "            color:  #f1f1f1;\n",
       "        }    #T_2d885ae6_8d2b_11ea_a63d_acde48001122row13_col2 {\n",
       "            background-color:  #c13639;\n",
       "            color:  #f1f1f1;\n",
       "        }    #T_2d885ae6_8d2b_11ea_a63d_acde48001122row14_col2 {\n",
       "            background-color:  #c53e3d;\n",
       "            color:  #f1f1f1;\n",
       "        }    #T_2d885ae6_8d2b_11ea_a63d_acde48001122row15_col2 {\n",
       "            background-color:  #c6413e;\n",
       "            color:  #f1f1f1;\n",
       "        }    #T_2d885ae6_8d2b_11ea_a63d_acde48001122row16_col2 {\n",
       "            background-color:  #ce4f45;\n",
       "            color:  #000000;\n",
       "        }    #T_2d885ae6_8d2b_11ea_a63d_acde48001122row17_col2 {\n",
       "            background-color:  #d25849;\n",
       "            color:  #000000;\n",
       "        }    #T_2d885ae6_8d2b_11ea_a63d_acde48001122row18_col2 {\n",
       "            background-color:  #d35a4a;\n",
       "            color:  #000000;\n",
       "        }    #T_2d885ae6_8d2b_11ea_a63d_acde48001122row19_col2 {\n",
       "            background-color:  #d86551;\n",
       "            color:  #000000;\n",
       "        }    #T_2d885ae6_8d2b_11ea_a63d_acde48001122row20_col2 {\n",
       "            background-color:  #dc6e57;\n",
       "            color:  #000000;\n",
       "        }    #T_2d885ae6_8d2b_11ea_a63d_acde48001122row21_col2 {\n",
       "            background-color:  #f5aa89;\n",
       "            color:  #000000;\n",
       "        }    #T_2d885ae6_8d2b_11ea_a63d_acde48001122row22_col2 {\n",
       "            background-color:  #f8bfa4;\n",
       "            color:  #000000;\n",
       "        }    #T_2d885ae6_8d2b_11ea_a63d_acde48001122row23_col2 {\n",
       "            background-color:  #fbd0b9;\n",
       "            color:  #000000;\n",
       "        }    #T_2d885ae6_8d2b_11ea_a63d_acde48001122row24_col2 {\n",
       "            background-color:  #fcd7c2;\n",
       "            color:  #000000;\n",
       "        }    #T_2d885ae6_8d2b_11ea_a63d_acde48001122row25_col2 {\n",
       "            background-color:  #fdd9c4;\n",
       "            color:  #000000;\n",
       "        }    #T_2d885ae6_8d2b_11ea_a63d_acde48001122row26_col2 {\n",
       "            background-color:  #fce0d0;\n",
       "            color:  #000000;\n",
       "        }    #T_2d885ae6_8d2b_11ea_a63d_acde48001122row27_col2 {\n",
       "            background-color:  #fce2d2;\n",
       "            color:  #000000;\n",
       "        }    #T_2d885ae6_8d2b_11ea_a63d_acde48001122row28_col2 {\n",
       "            background-color:  #fbe3d4;\n",
       "            color:  #000000;\n",
       "        }    #T_2d885ae6_8d2b_11ea_a63d_acde48001122row29_col2 {\n",
       "            background-color:  #fbe3d4;\n",
       "            color:  #000000;\n",
       "        }    #T_2d885ae6_8d2b_11ea_a63d_acde48001122row30_col2 {\n",
       "            background-color:  #fbe4d6;\n",
       "            color:  #000000;\n",
       "        }    #T_2d885ae6_8d2b_11ea_a63d_acde48001122row31_col2 {\n",
       "            background-color:  #fbe5d8;\n",
       "            color:  #000000;\n",
       "        }    #T_2d885ae6_8d2b_11ea_a63d_acde48001122row32_col2 {\n",
       "            background-color:  #fbe5d8;\n",
       "            color:  #000000;\n",
       "        }    #T_2d885ae6_8d2b_11ea_a63d_acde48001122row33_col2 {\n",
       "            background-color:  #fae7dc;\n",
       "            color:  #000000;\n",
       "        }    #T_2d885ae6_8d2b_11ea_a63d_acde48001122row34_col2 {\n",
       "            background-color:  #faeae1;\n",
       "            color:  #000000;\n",
       "        }    #T_2d885ae6_8d2b_11ea_a63d_acde48001122row35_col2 {\n",
       "            background-color:  #f9ede5;\n",
       "            color:  #000000;\n",
       "        }    #T_2d885ae6_8d2b_11ea_a63d_acde48001122row36_col2 {\n",
       "            background-color:  #f9ede5;\n",
       "            color:  #000000;\n",
       "        }    #T_2d885ae6_8d2b_11ea_a63d_acde48001122row37_col2 {\n",
       "            background-color:  #f9f0eb;\n",
       "            color:  #000000;\n",
       "        }    #T_2d885ae6_8d2b_11ea_a63d_acde48001122row38_col2 {\n",
       "            background-color:  #f8f1ed;\n",
       "            color:  #000000;\n",
       "        }    #T_2d885ae6_8d2b_11ea_a63d_acde48001122row39_col2 {\n",
       "            background-color:  #f8f3f0;\n",
       "            color:  #000000;\n",
       "        }    #T_2d885ae6_8d2b_11ea_a63d_acde48001122row40_col2 {\n",
       "            background-color:  #f7f6f6;\n",
       "            color:  #000000;\n",
       "        }    #T_2d885ae6_8d2b_11ea_a63d_acde48001122row41_col2 {\n",
       "            background-color:  #f6f7f7;\n",
       "            color:  #000000;\n",
       "        }    #T_2d885ae6_8d2b_11ea_a63d_acde48001122row42_col2 {\n",
       "            background-color:  #f6f7f7;\n",
       "            color:  #000000;\n",
       "        }    #T_2d885ae6_8d2b_11ea_a63d_acde48001122row43_col2 {\n",
       "            background-color:  #f0f4f6;\n",
       "            color:  #000000;\n",
       "        }    #T_2d885ae6_8d2b_11ea_a63d_acde48001122row44_col2 {\n",
       "            background-color:  #eff3f5;\n",
       "            color:  #000000;\n",
       "        }    #T_2d885ae6_8d2b_11ea_a63d_acde48001122row45_col2 {\n",
       "            background-color:  #ecf2f5;\n",
       "            color:  #000000;\n",
       "        }    #T_2d885ae6_8d2b_11ea_a63d_acde48001122row46_col2 {\n",
       "            background-color:  #ecf2f5;\n",
       "            color:  #000000;\n",
       "        }    #T_2d885ae6_8d2b_11ea_a63d_acde48001122row47_col2 {\n",
       "            background-color:  #dbeaf2;\n",
       "            color:  #000000;\n",
       "        }    #T_2d885ae6_8d2b_11ea_a63d_acde48001122row48_col2 {\n",
       "            background-color:  #d7e8f1;\n",
       "            color:  #000000;\n",
       "        }    #T_2d885ae6_8d2b_11ea_a63d_acde48001122row49_col2 {\n",
       "            background-color:  #cae1ee;\n",
       "            color:  #000000;\n",
       "        }    #T_2d885ae6_8d2b_11ea_a63d_acde48001122row50_col2 {\n",
       "            background-color:  #c7e0ed;\n",
       "            color:  #000000;\n",
       "        }    #T_2d885ae6_8d2b_11ea_a63d_acde48001122row51_col2 {\n",
       "            background-color:  #c0dceb;\n",
       "            color:  #000000;\n",
       "        }    #T_2d885ae6_8d2b_11ea_a63d_acde48001122row52_col2 {\n",
       "            background-color:  #b8d8e9;\n",
       "            color:  #000000;\n",
       "        }    #T_2d885ae6_8d2b_11ea_a63d_acde48001122row53_col2 {\n",
       "            background-color:  #7eb8d7;\n",
       "            color:  #000000;\n",
       "        }    #T_2d885ae6_8d2b_11ea_a63d_acde48001122row54_col2 {\n",
       "            background-color:  #053061;\n",
       "            color:  #f1f1f1;\n",
       "        }    #T_2d885ae6_8d2b_11ea_a63d_acde48001122row55_col2 {\n",
       "            background-color:  #000000;\n",
       "            color:  #f1f1f1;\n",
       "        }    #T_2d885ae6_8d2b_11ea_a63d_acde48001122row56_col2 {\n",
       "            background-color:  #000000;\n",
       "            color:  #f1f1f1;\n",
       "        }    #T_2d885ae6_8d2b_11ea_a63d_acde48001122row57_col2 {\n",
       "            background-color:  #000000;\n",
       "            color:  #f1f1f1;\n",
       "        }    #T_2d885ae6_8d2b_11ea_a63d_acde48001122row58_col2 {\n",
       "            background-color:  #000000;\n",
       "            color:  #f1f1f1;\n",
       "        }    #T_2d885ae6_8d2b_11ea_a63d_acde48001122row59_col2 {\n",
       "            background-color:  #000000;\n",
       "            color:  #f1f1f1;\n",
       "        }    #T_2d885ae6_8d2b_11ea_a63d_acde48001122row60_col2 {\n",
       "            background-color:  #000000;\n",
       "            color:  #f1f1f1;\n",
       "        }    #T_2d885ae6_8d2b_11ea_a63d_acde48001122row61_col2 {\n",
       "            background-color:  #000000;\n",
       "            color:  #f1f1f1;\n",
       "        }</style><table id=\"T_2d885ae6_8d2b_11ea_a63d_acde48001122\" ><thead>    <tr>        <th class=\"blank level0\" ></th>        <th class=\"col_heading level0 col0\" >count (share of df)</th>        <th class=\"col_heading level0 col1\" >share_nan (change to df)</th>        <th class=\"col_heading level0 col2\" >z-score, subset mean</th>        <th class=\"col_heading level0 col3\" > mean (change to df)</th>        <th class=\"col_heading level0 col4\" >std (change to df)</th>        <th class=\"col_heading level0 col5\" >min (pct rank in df)</th>        <th class=\"col_heading level0 col6\" >25% (pct rank in df)</th>        <th class=\"col_heading level0 col7\" >50% (pct rank in df)</th>        <th class=\"col_heading level0 col8\" >75% (pct rank in df)</th>        <th class=\"col_heading level0 col9\" >max (pct rank in df)</th>    </tr></thead><tbody>\n",
       "                <tr>\n",
       "                        <th id=\"T_2d885ae6_8d2b_11ea_a63d_acde48001122level0_row0\" class=\"row_heading level0 row0\" >AVERAGE CLASS SIZE</th>\n",
       "                        <td id=\"T_2d885ae6_8d2b_11ea_a63d_acde48001122row0_col0\" class=\"data row0 col0\" >105 (29%)</td>\n",
       "                        <td id=\"T_2d885ae6_8d2b_11ea_a63d_acde48001122row0_col1\" class=\"data row0 col1\" >0% (nan%)</td>\n",
       "                        <td id=\"T_2d885ae6_8d2b_11ea_a63d_acde48001122row0_col2\" class=\"data row0 col2\" >-0.560828</td>\n",
       "                        <td id=\"T_2d885ae6_8d2b_11ea_a63d_acde48001122row0_col3\" class=\"data row0 col3\" >22.80 (-8%)</td>\n",
       "                        <td id=\"T_2d885ae6_8d2b_11ea_a63d_acde48001122row0_col4\" class=\"data row0 col4\" >3.40 (-5%)</td>\n",
       "                        <td id=\"T_2d885ae6_8d2b_11ea_a63d_acde48001122row0_col5\" class=\"data row0 col5\" >10.00 (0)</td>\n",
       "                        <td id=\"T_2d885ae6_8d2b_11ea_a63d_acde48001122row0_col6\" class=\"data row0 col6\" >20.83 (11)</td>\n",
       "                        <td id=\"T_2d885ae6_8d2b_11ea_a63d_acde48001122row0_col7\" class=\"data row0 col7\" >23.17 (32)</td>\n",
       "                        <td id=\"T_2d885ae6_8d2b_11ea_a63d_acde48001122row0_col8\" class=\"data row0 col8\" >25.14 (53)</td>\n",
       "                        <td id=\"T_2d885ae6_8d2b_11ea_a63d_acde48001122row0_col9\" class=\"data row0 col9\" >30.94 (96)</td>\n",
       "            </tr>\n",
       "            <tr>\n",
       "                        <th id=\"T_2d885ae6_8d2b_11ea_a63d_acde48001122level0_row1\" class=\"row_heading level0 row1\" >SAT Math Avg. Score</th>\n",
       "                        <td id=\"T_2d885ae6_8d2b_11ea_a63d_acde48001122row1_col0\" class=\"data row1 col0\" >105 (29%)</td>\n",
       "                        <td id=\"T_2d885ae6_8d2b_11ea_a63d_acde48001122row1_col1\" class=\"data row1 col1\" >0% (nan%)</td>\n",
       "                        <td id=\"T_2d885ae6_8d2b_11ea_a63d_acde48001122row1_col2\" class=\"data row1 col2\" >-0.525060</td>\n",
       "                        <td id=\"T_2d885ae6_8d2b_11ea_a63d_acde48001122row1_col3\" class=\"data row1 col3\" >385.63 (-8%)</td>\n",
       "                        <td id=\"T_2d885ae6_8d2b_11ea_a63d_acde48001122row1_col4\" class=\"data row1 col4\" >29.36 (-55%)</td>\n",
       "                        <td id=\"T_2d885ae6_8d2b_11ea_a63d_acde48001122row1_col5\" class=\"data row1 col5\" >312.00 (0)</td>\n",
       "                        <td id=\"T_2d885ae6_8d2b_11ea_a63d_acde48001122row1_col6\" class=\"data row1 col6\" >367.00 (15)</td>\n",
       "                        <td id=\"T_2d885ae6_8d2b_11ea_a63d_acde48001122row1_col7\" class=\"data row1 col7\" >385.00 (33)</td>\n",
       "                        <td id=\"T_2d885ae6_8d2b_11ea_a63d_acde48001122row1_col8\" class=\"data row1 col8\" >411.00 (52)</td>\n",
       "                        <td id=\"T_2d885ae6_8d2b_11ea_a63d_acde48001122row1_col9\" class=\"data row1 col9\" >441.00 (76)</td>\n",
       "            </tr>\n",
       "            <tr>\n",
       "                        <th id=\"T_2d885ae6_8d2b_11ea_a63d_acde48001122level0_row2\" class=\"row_heading level0 row2\" >sat_score</th>\n",
       "                        <td id=\"T_2d885ae6_8d2b_11ea_a63d_acde48001122row2_col0\" class=\"data row2 col0\" >105 (29%)</td>\n",
       "                        <td id=\"T_2d885ae6_8d2b_11ea_a63d_acde48001122row2_col1\" class=\"data row2 col1\" >0% (nan%)</td>\n",
       "                        <td id=\"T_2d885ae6_8d2b_11ea_a63d_acde48001122row2_col2\" class=\"data row2 col2\" >-0.513529</td>\n",
       "                        <td id=\"T_2d885ae6_8d2b_11ea_a63d_acde48001122row2_col3\" class=\"data row2 col3\" >1,131.92 (-7%)</td>\n",
       "                        <td id=\"T_2d885ae6_8d2b_11ea_a63d_acde48001122row2_col4\" class=\"data row2 col4\" >80.00 (-55%)</td>\n",
       "                        <td id=\"T_2d885ae6_8d2b_11ea_a63d_acde48001122row2_col5\" class=\"data row2 col5\" >913.00 (0)</td>\n",
       "                        <td id=\"T_2d885ae6_8d2b_11ea_a63d_acde48001122row2_col6\" class=\"data row2 col6\" >1,080.00 (13)</td>\n",
       "                        <td id=\"T_2d885ae6_8d2b_11ea_a63d_acde48001122row2_col7\" class=\"data row2 col7\" >1,143.00 (33)</td>\n",
       "                        <td id=\"T_2d885ae6_8d2b_11ea_a63d_acde48001122row2_col8\" class=\"data row2 col8\" >1,199.00 (52)</td>\n",
       "                        <td id=\"T_2d885ae6_8d2b_11ea_a63d_acde48001122row2_col9\" class=\"data row2 col9\" >1,273.00 (77)</td>\n",
       "            </tr>\n",
       "            <tr>\n",
       "                        <th id=\"T_2d885ae6_8d2b_11ea_a63d_acde48001122level0_row3\" class=\"row_heading level0 row3\" >SAT Critical Reading Avg. Score</th>\n",
       "                        <td id=\"T_2d885ae6_8d2b_11ea_a63d_acde48001122row3_col0\" class=\"data row3 col0\" >105 (29%)</td>\n",
       "                        <td id=\"T_2d885ae6_8d2b_11ea_a63d_acde48001122row3_col1\" class=\"data row3 col1\" >0% (nan%)</td>\n",
       "                        <td id=\"T_2d885ae6_8d2b_11ea_a63d_acde48001122row3_col2\" class=\"data row3 col2\" >-0.510077</td>\n",
       "                        <td id=\"T_2d885ae6_8d2b_11ea_a63d_acde48001122row3_col3\" class=\"data row3 col3\" >374.80 (-7%)</td>\n",
       "                        <td id=\"T_2d885ae6_8d2b_11ea_a63d_acde48001122row3_col4\" class=\"data row3 col4\" >29.49 (-49%)</td>\n",
       "                        <td id=\"T_2d885ae6_8d2b_11ea_a63d_acde48001122row3_col5\" class=\"data row3 col5\" >287.00 (0)</td>\n",
       "                        <td id=\"T_2d885ae6_8d2b_11ea_a63d_acde48001122row3_col6\" class=\"data row3 col6\" >360.00 (13)</td>\n",
       "                        <td id=\"T_2d885ae6_8d2b_11ea_a63d_acde48001122row3_col7\" class=\"data row3 col7\" >381.00 (32)</td>\n",
       "                        <td id=\"T_2d885ae6_8d2b_11ea_a63d_acde48001122row3_col8\" class=\"data row3 col8\" >400.00 (53)</td>\n",
       "                        <td id=\"T_2d885ae6_8d2b_11ea_a63d_acde48001122row3_col9\" class=\"data row3 col9\" >418.00 (75)</td>\n",
       "            </tr>\n",
       "            <tr>\n",
       "                        <th id=\"T_2d885ae6_8d2b_11ea_a63d_acde48001122level0_row4\" class=\"row_heading level0 row4\" >SAT Writing Avg. Score</th>\n",
       "                        <td id=\"T_2d885ae6_8d2b_11ea_a63d_acde48001122row4_col0\" class=\"data row4 col0\" >105 (29%)</td>\n",
       "                        <td id=\"T_2d885ae6_8d2b_11ea_a63d_acde48001122row4_col1\" class=\"data row4 col1\" >0% (nan%)</td>\n",
       "                        <td id=\"T_2d885ae6_8d2b_11ea_a63d_acde48001122row4_col2\" class=\"data row4 col2\" >-0.476021</td>\n",
       "                        <td id=\"T_2d885ae6_8d2b_11ea_a63d_acde48001122row4_col3\" class=\"data row4 col3\" >371.49 (-7%)</td>\n",
       "                        <td id=\"T_2d885ae6_8d2b_11ea_a63d_acde48001122row4_col4\" class=\"data row4 col4\" >26.97 (-54%)</td>\n",
       "                        <td id=\"T_2d885ae6_8d2b_11ea_a63d_acde48001122row4_col5\" class=\"data row4 col5\" >291.00 (0)</td>\n",
       "                        <td id=\"T_2d885ae6_8d2b_11ea_a63d_acde48001122row4_col6\" class=\"data row4 col6\" >357.00 (15)</td>\n",
       "                        <td id=\"T_2d885ae6_8d2b_11ea_a63d_acde48001122row4_col7\" class=\"data row4 col7\" >377.00 (36)</td>\n",
       "                        <td id=\"T_2d885ae6_8d2b_11ea_a63d_acde48001122row4_col8\" class=\"data row4 col8\" >394.00 (55)</td>\n",
       "                        <td id=\"T_2d885ae6_8d2b_11ea_a63d_acde48001122row4_col9\" class=\"data row4 col9\" >414.00 (76)</td>\n",
       "            </tr>\n",
       "            <tr>\n",
       "                        <th id=\"T_2d885ae6_8d2b_11ea_a63d_acde48001122level0_row5\" class=\"row_heading level0 row5\" >N_s</th>\n",
       "                        <td id=\"T_2d885ae6_8d2b_11ea_a63d_acde48001122row5_col0\" class=\"data row5 col0\" >105 (29%)</td>\n",
       "                        <td id=\"T_2d885ae6_8d2b_11ea_a63d_acde48001122row5_col1\" class=\"data row5 col1\" >0% (nan%)</td>\n",
       "                        <td id=\"T_2d885ae6_8d2b_11ea_a63d_acde48001122row5_col2\" class=\"data row5 col2\" >-0.459995</td>\n",
       "                        <td id=\"T_2d885ae6_8d2b_11ea_a63d_acde48001122row5_col3\" class=\"data row5 col3\" >291.04 (-51%)</td>\n",
       "                        <td id=\"T_2d885ae6_8d2b_11ea_a63d_acde48001122row5_col4\" class=\"data row5 col4\" >81.18 (-88%)</td>\n",
       "                        <td id=\"T_2d885ae6_8d2b_11ea_a63d_acde48001122row5_col5\" class=\"data row5 col5\" >93.00 (2)</td>\n",
       "                        <td id=\"T_2d885ae6_8d2b_11ea_a63d_acde48001122row5_col6\" class=\"data row5 col6\" >240.00 (17)</td>\n",
       "                        <td id=\"T_2d885ae6_8d2b_11ea_a63d_acde48001122row5_col7\" class=\"data row5 col7\" >300.00 (29)</td>\n",
       "                        <td id=\"T_2d885ae6_8d2b_11ea_a63d_acde48001122row5_col8\" class=\"data row5 col8\" >340.00 (42)</td>\n",
       "                        <td id=\"T_2d885ae6_8d2b_11ea_a63d_acde48001122row5_col9\" class=\"data row5 col9\" >598.21 (78)</td>\n",
       "            </tr>\n",
       "            <tr>\n",
       "                        <th id=\"T_2d885ae6_8d2b_11ea_a63d_acde48001122level0_row6\" class=\"row_heading level0 row6\" >total_enrollment</th>\n",
       "                        <td id=\"T_2d885ae6_8d2b_11ea_a63d_acde48001122row6_col0\" class=\"data row6 col0\" >105 (29%)</td>\n",
       "                        <td id=\"T_2d885ae6_8d2b_11ea_a63d_acde48001122row6_col1\" class=\"data row6 col1\" >0% (nan%)</td>\n",
       "                        <td id=\"T_2d885ae6_8d2b_11ea_a63d_acde48001122row6_col2\" class=\"data row6 col2\" >-0.458799</td>\n",
       "                        <td id=\"T_2d885ae6_8d2b_11ea_a63d_acde48001122row6_col3\" class=\"data row6 col3\" >396.04 (-50%)</td>\n",
       "                        <td id=\"T_2d885ae6_8d2b_11ea_a63d_acde48001122row6_col4\" class=\"data row6 col4\" >64.15 (-93%)</td>\n",
       "                        <td id=\"T_2d885ae6_8d2b_11ea_a63d_acde48001122row6_col5\" class=\"data row6 col5\" >141.00 (0)</td>\n",
       "                        <td id=\"T_2d885ae6_8d2b_11ea_a63d_acde48001122row6_col6\" class=\"data row6 col6\" >356.00 (17)</td>\n",
       "                        <td id=\"T_2d885ae6_8d2b_11ea_a63d_acde48001122row6_col7\" class=\"data row6 col7\" >401.00 (28)</td>\n",
       "                        <td id=\"T_2d885ae6_8d2b_11ea_a63d_acde48001122row6_col8\" class=\"data row6 col8\" >445.00 (44)</td>\n",
       "                        <td id=\"T_2d885ae6_8d2b_11ea_a63d_acde48001122row6_col9\" class=\"data row6 col9\" >500.00 (58)</td>\n",
       "            </tr>\n",
       "            <tr>\n",
       "                        <th id=\"T_2d885ae6_8d2b_11ea_a63d_acde48001122level0_row7\" class=\"row_heading level0 row7\" >total_students</th>\n",
       "                        <td id=\"T_2d885ae6_8d2b_11ea_a63d_acde48001122row7_col0\" class=\"data row7 col0\" >105 (29%)</td>\n",
       "                        <td id=\"T_2d885ae6_8d2b_11ea_a63d_acde48001122row7_col1\" class=\"data row7 col1\" >0% (nan%)</td>\n",
       "                        <td id=\"T_2d885ae6_8d2b_11ea_a63d_acde48001122row7_col2\" class=\"data row7 col2\" >-0.451494</td>\n",
       "                        <td id=\"T_2d885ae6_8d2b_11ea_a63d_acde48001122row7_col3\" class=\"data row7 col3\" >409.50 (-47%)</td>\n",
       "                        <td id=\"T_2d885ae6_8d2b_11ea_a63d_acde48001122row7_col4\" class=\"data row7 col4\" >85.48 (-90%)</td>\n",
       "                        <td id=\"T_2d885ae6_8d2b_11ea_a63d_acde48001122row7_col5\" class=\"data row7 col5\" >110.00 (0)</td>\n",
       "                        <td id=\"T_2d885ae6_8d2b_11ea_a63d_acde48001122row7_col6\" class=\"data row7 col6\" >351.00 (18)</td>\n",
       "                        <td id=\"T_2d885ae6_8d2b_11ea_a63d_acde48001122row7_col7\" class=\"data row7 col7\" >412.00 (30)</td>\n",
       "                        <td id=\"T_2d885ae6_8d2b_11ea_a63d_acde48001122row7_col8\" class=\"data row7 col8\" >466.00 (47)</td>\n",
       "                        <td id=\"T_2d885ae6_8d2b_11ea_a63d_acde48001122row7_col9\" class=\"data row7 col9\" >664.00 (76)</td>\n",
       "            </tr>\n",
       "            <tr>\n",
       "                        <th id=\"T_2d885ae6_8d2b_11ea_a63d_acde48001122level0_row8\" class=\"row_heading level0 row8\" >male_num</th>\n",
       "                        <td id=\"T_2d885ae6_8d2b_11ea_a63d_acde48001122row8_col0\" class=\"data row8 col0\" >105 (29%)</td>\n",
       "                        <td id=\"T_2d885ae6_8d2b_11ea_a63d_acde48001122row8_col1\" class=\"data row8 col1\" >0% (nan%)</td>\n",
       "                        <td id=\"T_2d885ae6_8d2b_11ea_a63d_acde48001122row8_col2\" class=\"data row8 col2\" >-0.448658</td>\n",
       "                        <td id=\"T_2d885ae6_8d2b_11ea_a63d_acde48001122row8_col3\" class=\"data row8 col3\" >189.65 (-53%)</td>\n",
       "                        <td id=\"T_2d885ae6_8d2b_11ea_a63d_acde48001122row8_col4\" class=\"data row8 col4\" >64.14 (-86%)</td>\n",
       "                        <td id=\"T_2d885ae6_8d2b_11ea_a63d_acde48001122row8_col5\" class=\"data row8 col5\" >0.00 (1)</td>\n",
       "                        <td id=\"T_2d885ae6_8d2b_11ea_a63d_acde48001122row8_col6\" class=\"data row8 col6\" >159.00 (18)</td>\n",
       "                        <td id=\"T_2d885ae6_8d2b_11ea_a63d_acde48001122row8_col7\" class=\"data row8 col7\" >195.00 (33)</td>\n",
       "                        <td id=\"T_2d885ae6_8d2b_11ea_a63d_acde48001122row8_col8\" class=\"data row8 col8\" >225.00 (47)</td>\n",
       "                        <td id=\"T_2d885ae6_8d2b_11ea_a63d_acde48001122row8_col9\" class=\"data row8 col9\" >402.00 (78)</td>\n",
       "            </tr>\n",
       "            <tr>\n",
       "                        <th id=\"T_2d885ae6_8d2b_11ea_a63d_acde48001122level0_row9\" class=\"row_heading level0 row9\" >female_num</th>\n",
       "                        <td id=\"T_2d885ae6_8d2b_11ea_a63d_acde48001122row9_col0\" class=\"data row9 col0\" >105 (29%)</td>\n",
       "                        <td id=\"T_2d885ae6_8d2b_11ea_a63d_acde48001122row9_col1\" class=\"data row9 col1\" >0% (nan%)</td>\n",
       "                        <td id=\"T_2d885ae6_8d2b_11ea_a63d_acde48001122row9_col2\" class=\"data row9 col2\" >-0.437781</td>\n",
       "                        <td id=\"T_2d885ae6_8d2b_11ea_a63d_acde48001122row9_col3\" class=\"data row9 col3\" >206.38 (-47%)</td>\n",
       "                        <td id=\"T_2d885ae6_8d2b_11ea_a63d_acde48001122row9_col4\" class=\"data row9 col4\" >73.66 (-83%)</td>\n",
       "                        <td id=\"T_2d885ae6_8d2b_11ea_a63d_acde48001122row9_col5\" class=\"data row9 col5\" >61.00 (1)</td>\n",
       "                        <td id=\"T_2d885ae6_8d2b_11ea_a63d_acde48001122row9_col6\" class=\"data row9 col6\" >163.00 (17)</td>\n",
       "                        <td id=\"T_2d885ae6_8d2b_11ea_a63d_acde48001122row9_col7\" class=\"data row9 col7\" >196.00 (31)</td>\n",
       "                        <td id=\"T_2d885ae6_8d2b_11ea_a63d_acde48001122row9_col8\" class=\"data row9 col8\" >239.00 (47)</td>\n",
       "                        <td id=\"T_2d885ae6_8d2b_11ea_a63d_acde48001122row9_col9\" class=\"data row9 col9\" >495.00 (83)</td>\n",
       "            </tr>\n",
       "            <tr>\n",
       "                        <th id=\"T_2d885ae6_8d2b_11ea_a63d_acde48001122level0_row10\" class=\"row_heading level0 row10\" >Total Cohort</th>\n",
       "                        <td id=\"T_2d885ae6_8d2b_11ea_a63d_acde48001122row10_col0\" class=\"data row10 col0\" >105 (29%)</td>\n",
       "                        <td id=\"T_2d885ae6_8d2b_11ea_a63d_acde48001122row10_col1\" class=\"data row10 col1\" >0% (nan%)</td>\n",
       "                        <td id=\"T_2d885ae6_8d2b_11ea_a63d_acde48001122row10_col2\" class=\"data row10 col2\" >-0.420025</td>\n",
       "                        <td id=\"T_2d885ae6_8d2b_11ea_a63d_acde48001122row10_col3\" class=\"data row10 col3\" >99.71 (-49%)</td>\n",
       "                        <td id=\"T_2d885ae6_8d2b_11ea_a63d_acde48001122row10_col4\" class=\"data row10 col4\" >59.19 (-74%)</td>\n",
       "                        <td id=\"T_2d885ae6_8d2b_11ea_a63d_acde48001122row10_col5\" class=\"data row10 col5\" >1.00 (0)</td>\n",
       "                        <td id=\"T_2d885ae6_8d2b_11ea_a63d_acde48001122row10_col6\" class=\"data row10 col6\" >70.00 (16)</td>\n",
       "                        <td id=\"T_2d885ae6_8d2b_11ea_a63d_acde48001122row10_col7\" class=\"data row10 col7\" >93.00 (33)</td>\n",
       "                        <td id=\"T_2d885ae6_8d2b_11ea_a63d_acde48001122row10_col8\" class=\"data row10 col8\" >116.00 (53)</td>\n",
       "                        <td id=\"T_2d885ae6_8d2b_11ea_a63d_acde48001122row10_col9\" class=\"data row10 col9\" >193.87 (75)</td>\n",
       "            </tr>\n",
       "            <tr>\n",
       "                        <th id=\"T_2d885ae6_8d2b_11ea_a63d_acde48001122level0_row11\" class=\"row_heading level0 row11\" >N_t</th>\n",
       "                        <td id=\"T_2d885ae6_8d2b_11ea_a63d_acde48001122row11_col0\" class=\"data row11 col0\" >105 (29%)</td>\n",
       "                        <td id=\"T_2d885ae6_8d2b_11ea_a63d_acde48001122row11_col1\" class=\"data row11 col1\" >0% (nan%)</td>\n",
       "                        <td id=\"T_2d885ae6_8d2b_11ea_a63d_acde48001122row11_col2\" class=\"data row11 col2\" >-0.418452</td>\n",
       "                        <td id=\"T_2d885ae6_8d2b_11ea_a63d_acde48001122row11_col3\" class=\"data row11 col3\" >23.34 (-41%)</td>\n",
       "                        <td id=\"T_2d885ae6_8d2b_11ea_a63d_acde48001122row11_col4\" class=\"data row11 col4\" >6.28 (-84%)</td>\n",
       "                        <td id=\"T_2d885ae6_8d2b_11ea_a63d_acde48001122row11_col5\" class=\"data row11 col5\" >6.00 (0)</td>\n",
       "                        <td id=\"T_2d885ae6_8d2b_11ea_a63d_acde48001122row11_col6\" class=\"data row11 col6\" >20.00 (23)</td>\n",
       "                        <td id=\"T_2d885ae6_8d2b_11ea_a63d_acde48001122row11_col7\" class=\"data row11 col7\" >24.00 (39)</td>\n",
       "                        <td id=\"T_2d885ae6_8d2b_11ea_a63d_acde48001122row11_col8\" class=\"data row11 col8\" >28.00 (55)</td>\n",
       "                        <td id=\"T_2d885ae6_8d2b_11ea_a63d_acde48001122row11_col9\" class=\"data row11 col9\" >37.00 (75)</td>\n",
       "            </tr>\n",
       "            <tr>\n",
       "                        <th id=\"T_2d885ae6_8d2b_11ea_a63d_acde48001122level0_row12\" class=\"row_heading level0 row12\" >number_programs</th>\n",
       "                        <td id=\"T_2d885ae6_8d2b_11ea_a63d_acde48001122row12_col0\" class=\"data row12 col0\" >105 (29%)</td>\n",
       "                        <td id=\"T_2d885ae6_8d2b_11ea_a63d_acde48001122row12_col1\" class=\"data row12 col1\" >0% (nan%)</td>\n",
       "                        <td id=\"T_2d885ae6_8d2b_11ea_a63d_acde48001122row12_col2\" class=\"data row12 col2\" >-0.411742</td>\n",
       "                        <td id=\"T_2d885ae6_8d2b_11ea_a63d_acde48001122row12_col3\" class=\"data row12 col3\" >1.14 (-38%)</td>\n",
       "                        <td id=\"T_2d885ae6_8d2b_11ea_a63d_acde48001122row12_col4\" class=\"data row12 col4\" >0.43 (-75%)</td>\n",
       "                        <td id=\"T_2d885ae6_8d2b_11ea_a63d_acde48001122row12_col5\" class=\"data row12 col5\" >1.00 (35)</td>\n",
       "                        <td id=\"T_2d885ae6_8d2b_11ea_a63d_acde48001122row12_col6\" class=\"data row12 col6\" >1.00 (35)</td>\n",
       "                        <td id=\"T_2d885ae6_8d2b_11ea_a63d_acde48001122row12_col7\" class=\"data row12 col7\" >1.00 (35)</td>\n",
       "                        <td id=\"T_2d885ae6_8d2b_11ea_a63d_acde48001122row12_col8\" class=\"data row12 col8\" >1.00 (35)</td>\n",
       "                        <td id=\"T_2d885ae6_8d2b_11ea_a63d_acde48001122row12_col9\" class=\"data row12 col9\" >3.00 (84)</td>\n",
       "            </tr>\n",
       "            <tr>\n",
       "                        <th id=\"T_2d885ae6_8d2b_11ea_a63d_acde48001122level0_row13\" class=\"row_heading level0 row13\" >N_p</th>\n",
       "                        <td id=\"T_2d885ae6_8d2b_11ea_a63d_acde48001122row13_col0\" class=\"data row13 col0\" >105 (29%)</td>\n",
       "                        <td id=\"T_2d885ae6_8d2b_11ea_a63d_acde48001122row13_col1\" class=\"data row13 col1\" >0% (nan%)</td>\n",
       "                        <td id=\"T_2d885ae6_8d2b_11ea_a63d_acde48001122row13_col2\" class=\"data row13 col2\" >-0.381221</td>\n",
       "                        <td id=\"T_2d885ae6_8d2b_11ea_a63d_acde48001122row13_col3\" class=\"data row13 col3\" >139.54 (-44%)</td>\n",
       "                        <td id=\"T_2d885ae6_8d2b_11ea_a63d_acde48001122row13_col4\" class=\"data row13 col4\" >80.69 (-72%)</td>\n",
       "                        <td id=\"T_2d885ae6_8d2b_11ea_a63d_acde48001122row13_col5\" class=\"data row13 col5\" >28.00 (1)</td>\n",
       "                        <td id=\"T_2d885ae6_8d2b_11ea_a63d_acde48001122row13_col6\" class=\"data row13 col6\" >78.00 (17)</td>\n",
       "                        <td id=\"T_2d885ae6_8d2b_11ea_a63d_acde48001122row13_col7\" class=\"data row13 col7\" >124.00 (32)</td>\n",
       "                        <td id=\"T_2d885ae6_8d2b_11ea_a63d_acde48001122row13_col8\" class=\"data row13 col8\" >195.00 (54)</td>\n",
       "                        <td id=\"T_2d885ae6_8d2b_11ea_a63d_acde48001122row13_col9\" class=\"data row13 col9\" >408.00 (88)</td>\n",
       "            </tr>\n",
       "            <tr>\n",
       "                        <th id=\"T_2d885ae6_8d2b_11ea_a63d_acde48001122level0_row14\" class=\"row_heading level0 row14\" >hispanic_num</th>\n",
       "                        <td id=\"T_2d885ae6_8d2b_11ea_a63d_acde48001122row14_col0\" class=\"data row14 col0\" >105 (29%)</td>\n",
       "                        <td id=\"T_2d885ae6_8d2b_11ea_a63d_acde48001122row14_col1\" class=\"data row14 col1\" >0% (nan%)</td>\n",
       "                        <td id=\"T_2d885ae6_8d2b_11ea_a63d_acde48001122row14_col2\" class=\"data row14 col2\" >-0.366238</td>\n",
       "                        <td id=\"T_2d885ae6_8d2b_11ea_a63d_acde48001122row14_col3\" class=\"data row14 col3\" >186.80 (-39%)</td>\n",
       "                        <td id=\"T_2d885ae6_8d2b_11ea_a63d_acde48001122row14_col4\" class=\"data row14 col4\" >105.43 (-67%)</td>\n",
       "                        <td id=\"T_2d885ae6_8d2b_11ea_a63d_acde48001122row14_col5\" class=\"data row14 col5\" >17.00 (1)</td>\n",
       "                        <td id=\"T_2d885ae6_8d2b_11ea_a63d_acde48001122row14_col6\" class=\"data row14 col6\" >89.00 (19)</td>\n",
       "                        <td id=\"T_2d885ae6_8d2b_11ea_a63d_acde48001122row14_col7\" class=\"data row14 col7\" >204.00 (44)</td>\n",
       "                        <td id=\"T_2d885ae6_8d2b_11ea_a63d_acde48001122row14_col8\" class=\"data row14 col8\" >276.00 (61)</td>\n",
       "                        <td id=\"T_2d885ae6_8d2b_11ea_a63d_acde48001122row14_col9\" class=\"data row14 col9\" >405.00 (81)</td>\n",
       "            </tr>\n",
       "            <tr>\n",
       "                        <th id=\"T_2d885ae6_8d2b_11ea_a63d_acde48001122level0_row15\" class=\"row_heading level0 row15\" >sped_num</th>\n",
       "                        <td id=\"T_2d885ae6_8d2b_11ea_a63d_acde48001122row15_col0\" class=\"data row15 col0\" >105 (29%)</td>\n",
       "                        <td id=\"T_2d885ae6_8d2b_11ea_a63d_acde48001122row15_col1\" class=\"data row15 col1\" >0% (nan%)</td>\n",
       "                        <td id=\"T_2d885ae6_8d2b_11ea_a63d_acde48001122row15_col2\" class=\"data row15 col2\" >-0.360001</td>\n",
       "                        <td id=\"T_2d885ae6_8d2b_11ea_a63d_acde48001122row15_col3\" class=\"data row15 col3\" >61.67 (-40%)</td>\n",
       "                        <td id=\"T_2d885ae6_8d2b_11ea_a63d_acde48001122row15_col4\" class=\"data row15 col4\" >28.84 (-74%)</td>\n",
       "                        <td id=\"T_2d885ae6_8d2b_11ea_a63d_acde48001122row15_col5\" class=\"data row15 col5\" >0.00 (1)</td>\n",
       "                        <td id=\"T_2d885ae6_8d2b_11ea_a63d_acde48001122row15_col6\" class=\"data row15 col6\" >49.00 (26)</td>\n",
       "                        <td id=\"T_2d885ae6_8d2b_11ea_a63d_acde48001122row15_col7\" class=\"data row15 col7\" >65.00 (43)</td>\n",
       "                        <td id=\"T_2d885ae6_8d2b_11ea_a63d_acde48001122row15_col8\" class=\"data row15 col8\" >80.00 (57)</td>\n",
       "                        <td id=\"T_2d885ae6_8d2b_11ea_a63d_acde48001122row15_col9\" class=\"data row15 col9\" >125.00 (80)</td>\n",
       "            </tr>\n",
       "            <tr>\n",
       "                        <th id=\"T_2d885ae6_8d2b_11ea_a63d_acde48001122level0_row16\" class=\"row_heading level0 row16\" >white_per</th>\n",
       "                        <td id=\"T_2d885ae6_8d2b_11ea_a63d_acde48001122row16_col0\" class=\"data row16 col0\" >105 (29%)</td>\n",
       "                        <td id=\"T_2d885ae6_8d2b_11ea_a63d_acde48001122row16_col1\" class=\"data row16 col1\" >0% (nan%)</td>\n",
       "                        <td id=\"T_2d885ae6_8d2b_11ea_a63d_acde48001122row16_col2\" class=\"data row16 col2\" >-0.333332</td>\n",
       "                        <td id=\"T_2d885ae6_8d2b_11ea_a63d_acde48001122row16_col3\" class=\"data row16 col3\" >3.75 (-55%)</td>\n",
       "                        <td id=\"T_2d885ae6_8d2b_11ea_a63d_acde48001122row16_col4\" class=\"data row16 col4\" >8.02 (-43%)</td>\n",
       "                        <td id=\"T_2d885ae6_8d2b_11ea_a63d_acde48001122row16_col5\" class=\"data row16 col5\" >0.00 (2)</td>\n",
       "                        <td id=\"T_2d885ae6_8d2b_11ea_a63d_acde48001122row16_col6\" class=\"data row16 col6\" >0.70 (17)</td>\n",
       "                        <td id=\"T_2d885ae6_8d2b_11ea_a63d_acde48001122row16_col7\" class=\"data row16 col7\" >1.40 (38)</td>\n",
       "                        <td id=\"T_2d885ae6_8d2b_11ea_a63d_acde48001122row16_col8\" class=\"data row16 col8\" >3.10 (60)</td>\n",
       "                        <td id=\"T_2d885ae6_8d2b_11ea_a63d_acde48001122row16_col9\" class=\"data row16 col9\" >60.00 (98)</td>\n",
       "            </tr>\n",
       "            <tr>\n",
       "                        <th id=\"T_2d885ae6_8d2b_11ea_a63d_acde48001122level0_row17\" class=\"row_heading level0 row17\" >white_num</th>\n",
       "                        <td id=\"T_2d885ae6_8d2b_11ea_a63d_acde48001122row17_col0\" class=\"data row17 col0\" >105 (29%)</td>\n",
       "                        <td id=\"T_2d885ae6_8d2b_11ea_a63d_acde48001122row17_col1\" class=\"data row17 col1\" >0% (nan%)</td>\n",
       "                        <td id=\"T_2d885ae6_8d2b_11ea_a63d_acde48001122row17_col2\" class=\"data row17 col2\" >-0.318748</td>\n",
       "                        <td id=\"T_2d885ae6_8d2b_11ea_a63d_acde48001122row17_col3\" class=\"data row17 col3\" >15.54 (-86%)</td>\n",
       "                        <td id=\"T_2d885ae6_8d2b_11ea_a63d_acde48001122row17_col4\" class=\"data row17 col4\" >34.60 (-88%)</td>\n",
       "                        <td id=\"T_2d885ae6_8d2b_11ea_a63d_acde48001122row17_col5\" class=\"data row17 col5\" >0.00 (2)</td>\n",
       "                        <td id=\"T_2d885ae6_8d2b_11ea_a63d_acde48001122row17_col6\" class=\"data row17 col6\" >3.00 (17)</td>\n",
       "                        <td id=\"T_2d885ae6_8d2b_11ea_a63d_acde48001122row17_col7\" class=\"data row17 col7\" >5.00 (30)</td>\n",
       "                        <td id=\"T_2d885ae6_8d2b_11ea_a63d_acde48001122row17_col8\" class=\"data row17 col8\" >12.00 (54)</td>\n",
       "                        <td id=\"T_2d885ae6_8d2b_11ea_a63d_acde48001122row17_col9\" class=\"data row17 col9\" >245.00 (88)</td>\n",
       "            </tr>\n",
       "            <tr>\n",
       "                        <th id=\"T_2d885ae6_8d2b_11ea_a63d_acde48001122level0_row18\" class=\"row_heading level0 row18\" >asian_num</th>\n",
       "                        <td id=\"T_2d885ae6_8d2b_11ea_a63d_acde48001122row18_col0\" class=\"data row18 col0\" >105 (29%)</td>\n",
       "                        <td id=\"T_2d885ae6_8d2b_11ea_a63d_acde48001122row18_col1\" class=\"data row18 col1\" >0% (nan%)</td>\n",
       "                        <td id=\"T_2d885ae6_8d2b_11ea_a63d_acde48001122row18_col2\" class=\"data row18 col2\" >-0.317136</td>\n",
       "                        <td id=\"T_2d885ae6_8d2b_11ea_a63d_acde48001122row18_col3\" class=\"data row18 col3\" >23.87 (-82%)</td>\n",
       "                        <td id=\"T_2d885ae6_8d2b_11ea_a63d_acde48001122row18_col4\" class=\"data row18 col4\" >45.33 (-87%)</td>\n",
       "                        <td id=\"T_2d885ae6_8d2b_11ea_a63d_acde48001122row18_col5\" class=\"data row18 col5\" >0.00 (1)</td>\n",
       "                        <td id=\"T_2d885ae6_8d2b_11ea_a63d_acde48001122row18_col6\" class=\"data row18 col6\" >4.00 (19)</td>\n",
       "                        <td id=\"T_2d885ae6_8d2b_11ea_a63d_acde48001122row18_col7\" class=\"data row18 col7\" >8.00 (33)</td>\n",
       "                        <td id=\"T_2d885ae6_8d2b_11ea_a63d_acde48001122row18_col8\" class=\"data row18 col8\" >22.00 (54)</td>\n",
       "                        <td id=\"T_2d885ae6_8d2b_11ea_a63d_acde48001122row18_col9\" class=\"data row18 col9\" >272.00 (88)</td>\n",
       "            </tr>\n",
       "            <tr>\n",
       "                        <th id=\"T_2d885ae6_8d2b_11ea_a63d_acde48001122level0_row19\" class=\"row_heading level0 row19\" >asian_per</th>\n",
       "                        <td id=\"T_2d885ae6_8d2b_11ea_a63d_acde48001122row19_col0\" class=\"data row19 col0\" >105 (29%)</td>\n",
       "                        <td id=\"T_2d885ae6_8d2b_11ea_a63d_acde48001122row19_col1\" class=\"data row19 col1\" >0% (nan%)</td>\n",
       "                        <td id=\"T_2d885ae6_8d2b_11ea_a63d_acde48001122row19_col2\" class=\"data row19 col2\" >-0.297371</td>\n",
       "                        <td id=\"T_2d885ae6_8d2b_11ea_a63d_acde48001122row19_col3\" class=\"data row19 col3\" >5.77 (-43%)</td>\n",
       "                        <td id=\"T_2d885ae6_8d2b_11ea_a63d_acde48001122row19_col4\" class=\"data row19 col4\" >10.68 (-27%)</td>\n",
       "                        <td id=\"T_2d885ae6_8d2b_11ea_a63d_acde48001122row19_col5\" class=\"data row19 col5\" >0.00 (1)</td>\n",
       "                        <td id=\"T_2d885ae6_8d2b_11ea_a63d_acde48001122row19_col6\" class=\"data row19 col6\" >1.00 (20)</td>\n",
       "                        <td id=\"T_2d885ae6_8d2b_11ea_a63d_acde48001122row19_col7\" class=\"data row19 col7\" >2.20 (38)</td>\n",
       "                        <td id=\"T_2d885ae6_8d2b_11ea_a63d_acde48001122row19_col8\" class=\"data row19 col8\" >5.10 (57)</td>\n",
       "                        <td id=\"T_2d885ae6_8d2b_11ea_a63d_acde48001122row19_col9\" class=\"data row19 col9\" >64.50 (99)</td>\n",
       "            </tr>\n",
       "            <tr>\n",
       "                        <th id=\"T_2d885ae6_8d2b_11ea_a63d_acde48001122level0_row20\" class=\"row_heading level0 row20\" >black_num</th>\n",
       "                        <td id=\"T_2d885ae6_8d2b_11ea_a63d_acde48001122row20_col0\" class=\"data row20 col0\" >105 (29%)</td>\n",
       "                        <td id=\"T_2d885ae6_8d2b_11ea_a63d_acde48001122row20_col1\" class=\"data row20 col1\" >0% (nan%)</td>\n",
       "                        <td id=\"T_2d885ae6_8d2b_11ea_a63d_acde48001122row20_col2\" class=\"data row20 col2\" >-0.282365</td>\n",
       "                        <td id=\"T_2d885ae6_8d2b_11ea_a63d_acde48001122row20_col3\" class=\"data row20 col3\" >167.32 (-29%)</td>\n",
       "                        <td id=\"T_2d885ae6_8d2b_11ea_a63d_acde48001122row20_col4\" class=\"data row20 col4\" >102.75 (-58%)</td>\n",
       "                        <td id=\"T_2d885ae6_8d2b_11ea_a63d_acde48001122row20_col5\" class=\"data row20 col5\" >0.00 (0)</td>\n",
       "                        <td id=\"T_2d885ae6_8d2b_11ea_a63d_acde48001122row20_col6\" class=\"data row20 col6\" >95.00 (26)</td>\n",
       "                        <td id=\"T_2d885ae6_8d2b_11ea_a63d_acde48001122row20_col7\" class=\"data row20 col7\" >127.00 (42)</td>\n",
       "                        <td id=\"T_2d885ae6_8d2b_11ea_a63d_acde48001122row20_col8\" class=\"data row20 col8\" >251.00 (67)</td>\n",
       "                        <td id=\"T_2d885ae6_8d2b_11ea_a63d_acde48001122row20_col9\" class=\"data row20 col9\" >413.00 (87)</td>\n",
       "            </tr>\n",
       "            <tr>\n",
       "                        <th id=\"T_2d885ae6_8d2b_11ea_a63d_acde48001122level0_row21\" class=\"row_heading level0 row21\" >ell_num</th>\n",
       "                        <td id=\"T_2d885ae6_8d2b_11ea_a63d_acde48001122row21_col0\" class=\"data row21 col0\" >105 (29%)</td>\n",
       "                        <td id=\"T_2d885ae6_8d2b_11ea_a63d_acde48001122row21_col1\" class=\"data row21 col1\" >0% (nan%)</td>\n",
       "                        <td id=\"T_2d885ae6_8d2b_11ea_a63d_acde48001122row21_col2\" class=\"data row21 col2\" >-0.168173</td>\n",
       "                        <td id=\"T_2d885ae6_8d2b_11ea_a63d_acde48001122row21_col3\" class=\"data row21 col3\" >65.17 (-29%)</td>\n",
       "                        <td id=\"T_2d885ae6_8d2b_11ea_a63d_acde48001122row21_col4\" class=\"data row21 col4\" >95.56 (-40%)</td>\n",
       "                        <td id=\"T_2d885ae6_8d2b_11ea_a63d_acde48001122row21_col5\" class=\"data row21 col5\" >0.00 (1)</td>\n",
       "                        <td id=\"T_2d885ae6_8d2b_11ea_a63d_acde48001122row21_col6\" class=\"data row21 col6\" >18.00 (28)</td>\n",
       "                        <td id=\"T_2d885ae6_8d2b_11ea_a63d_acde48001122row21_col7\" class=\"data row21 col7\" >30.00 (43)</td>\n",
       "                        <td id=\"T_2d885ae6_8d2b_11ea_a63d_acde48001122row21_col8\" class=\"data row21 col8\" >58.00 (67)</td>\n",
       "                        <td id=\"T_2d885ae6_8d2b_11ea_a63d_acde48001122row21_col9\" class=\"data row21 col9\" >377.00 (93)</td>\n",
       "            </tr>\n",
       "            <tr>\n",
       "                        <th id=\"T_2d885ae6_8d2b_11ea_a63d_acde48001122level0_row22\" class=\"row_heading level0 row22\" >saf_t_11</th>\n",
       "                        <td id=\"T_2d885ae6_8d2b_11ea_a63d_acde48001122row22_col0\" class=\"data row22 col0\" >105 (29%)</td>\n",
       "                        <td id=\"T_2d885ae6_8d2b_11ea_a63d_acde48001122row22_col1\" class=\"data row22 col1\" >0% (nan%)</td>\n",
       "                        <td id=\"T_2d885ae6_8d2b_11ea_a63d_acde48001122row22_col2\" class=\"data row22 col2\" >-0.116720</td>\n",
       "                        <td id=\"T_2d885ae6_8d2b_11ea_a63d_acde48001122row22_col3\" class=\"data row22 col3\" >7.04 (-1%)</td>\n",
       "                        <td id=\"T_2d885ae6_8d2b_11ea_a63d_acde48001122row22_col4\" class=\"data row22 col4\" >0.88 (-2%)</td>\n",
       "                        <td id=\"T_2d885ae6_8d2b_11ea_a63d_acde48001122row22_col5\" class=\"data row22 col5\" >4.40 (0)</td>\n",
       "                        <td id=\"T_2d885ae6_8d2b_11ea_a63d_acde48001122row22_col6\" class=\"data row22 col6\" >6.50 (23)</td>\n",
       "                        <td id=\"T_2d885ae6_8d2b_11ea_a63d_acde48001122row22_col7\" class=\"data row22 col7\" >7.20 (50)</td>\n",
       "                        <td id=\"T_2d885ae6_8d2b_11ea_a63d_acde48001122row22_col8\" class=\"data row22 col8\" >7.60 (70)</td>\n",
       "                        <td id=\"T_2d885ae6_8d2b_11ea_a63d_acde48001122row22_col9\" class=\"data row22 col9\" >9.00 (98)</td>\n",
       "            </tr>\n",
       "            <tr>\n",
       "                        <th id=\"T_2d885ae6_8d2b_11ea_a63d_acde48001122level0_row23\" class=\"row_heading level0 row23\" >male_per</th>\n",
       "                        <td id=\"T_2d885ae6_8d2b_11ea_a63d_acde48001122row23_col0\" class=\"data row23 col0\" >105 (29%)</td>\n",
       "                        <td id=\"T_2d885ae6_8d2b_11ea_a63d_acde48001122row23_col1\" class=\"data row23 col1\" >0% (nan%)</td>\n",
       "                        <td id=\"T_2d885ae6_8d2b_11ea_a63d_acde48001122row23_col2\" class=\"data row23 col2\" >-0.078240</td>\n",
       "                        <td id=\"T_2d885ae6_8d2b_11ea_a63d_acde48001122row23_col3\" class=\"data row23 col3\" >48.28 (-2%)</td>\n",
       "                        <td id=\"T_2d885ae6_8d2b_11ea_a63d_acde48001122row23_col4\" class=\"data row23 col4\" >14.72 (+5%)</td>\n",
       "                        <td id=\"T_2d885ae6_8d2b_11ea_a63d_acde48001122row23_col5\" class=\"data row23 col5\" >0.00 (1)</td>\n",
       "                        <td id=\"T_2d885ae6_8d2b_11ea_a63d_acde48001122row23_col6\" class=\"data row23 col6\" >44.20 (25)</td>\n",
       "                        <td id=\"T_2d885ae6_8d2b_11ea_a63d_acde48001122row23_col7\" class=\"data row23 col7\" >49.80 (49)</td>\n",
       "                        <td id=\"T_2d885ae6_8d2b_11ea_a63d_acde48001122row23_col8\" class=\"data row23 col8\" >55.30 (76)</td>\n",
       "                        <td id=\"T_2d885ae6_8d2b_11ea_a63d_acde48001122row23_col9\" class=\"data row23 col9\" >84.30 (98)</td>\n",
       "            </tr>\n",
       "            <tr>\n",
       "                        <th id=\"T_2d885ae6_8d2b_11ea_a63d_acde48001122level0_row24\" class=\"row_heading level0 row24\" >saf_tot_11</th>\n",
       "                        <td id=\"T_2d885ae6_8d2b_11ea_a63d_acde48001122row24_col0\" class=\"data row24 col0\" >105 (29%)</td>\n",
       "                        <td id=\"T_2d885ae6_8d2b_11ea_a63d_acde48001122row24_col1\" class=\"data row24 col1\" >0% (nan%)</td>\n",
       "                        <td id=\"T_2d885ae6_8d2b_11ea_a63d_acde48001122row24_col2\" class=\"data row24 col2\" >-0.062090</td>\n",
       "                        <td id=\"T_2d885ae6_8d2b_11ea_a63d_acde48001122row24_col3\" class=\"data row24 col3\" >7.27 (-1%)</td>\n",
       "                        <td id=\"T_2d885ae6_8d2b_11ea_a63d_acde48001122row24_col4\" class=\"data row24 col4\" >0.57 (-10%)</td>\n",
       "                        <td id=\"T_2d885ae6_8d2b_11ea_a63d_acde48001122row24_col5\" class=\"data row24 col5\" >5.60 (0)</td>\n",
       "                        <td id=\"T_2d885ae6_8d2b_11ea_a63d_acde48001122row24_col6\" class=\"data row24 col6\" >6.90 (24)</td>\n",
       "                        <td id=\"T_2d885ae6_8d2b_11ea_a63d_acde48001122row24_col7\" class=\"data row24 col7\" >7.30 (48)</td>\n",
       "                        <td id=\"T_2d885ae6_8d2b_11ea_a63d_acde48001122row24_col8\" class=\"data row24 col8\" >7.70 (73)</td>\n",
       "                        <td id=\"T_2d885ae6_8d2b_11ea_a63d_acde48001122row24_col9\" class=\"data row24 col9\" >8.60 (98)</td>\n",
       "            </tr>\n",
       "            <tr>\n",
       "                        <th id=\"T_2d885ae6_8d2b_11ea_a63d_acde48001122level0_row25\" class=\"row_heading level0 row25\" >saf_s_11</th>\n",
       "                        <td id=\"T_2d885ae6_8d2b_11ea_a63d_acde48001122row25_col0\" class=\"data row25 col0\" >105 (29%)</td>\n",
       "                        <td id=\"T_2d885ae6_8d2b_11ea_a63d_acde48001122row25_col1\" class=\"data row25 col1\" >0% (nan%)</td>\n",
       "                        <td id=\"T_2d885ae6_8d2b_11ea_a63d_acde48001122row25_col2\" class=\"data row25 col2\" >-0.054626</td>\n",
       "                        <td id=\"T_2d885ae6_8d2b_11ea_a63d_acde48001122row25_col3\" class=\"data row25 col3\" >6.57 (-1%)</td>\n",
       "                        <td id=\"T_2d885ae6_8d2b_11ea_a63d_acde48001122row25_col4\" class=\"data row25 col4\" >0.64 (-8%)</td>\n",
       "                        <td id=\"T_2d885ae6_8d2b_11ea_a63d_acde48001122row25_col5\" class=\"data row25 col5\" >5.20 (1)</td>\n",
       "                        <td id=\"T_2d885ae6_8d2b_11ea_a63d_acde48001122row25_col6\" class=\"data row25 col6\" >6.10 (25)</td>\n",
       "                        <td id=\"T_2d885ae6_8d2b_11ea_a63d_acde48001122row25_col7\" class=\"data row25 col7\" >6.60 (51)</td>\n",
       "                        <td id=\"T_2d885ae6_8d2b_11ea_a63d_acde48001122row25_col8\" class=\"data row25 col8\" >7.00 (72)</td>\n",
       "                        <td id=\"T_2d885ae6_8d2b_11ea_a63d_acde48001122row25_col9\" class=\"data row25 col9\" >8.50 (99)</td>\n",
       "            </tr>\n",
       "            <tr>\n",
       "                        <th id=\"T_2d885ae6_8d2b_11ea_a63d_acde48001122level0_row26\" class=\"row_heading level0 row26\" >rr_s</th>\n",
       "                        <td id=\"T_2d885ae6_8d2b_11ea_a63d_acde48001122row26_col0\" class=\"data row26 col0\" >105 (29%)</td>\n",
       "                        <td id=\"T_2d885ae6_8d2b_11ea_a63d_acde48001122row26_col1\" class=\"data row26 col1\" >0% (nan%)</td>\n",
       "                        <td id=\"T_2d885ae6_8d2b_11ea_a63d_acde48001122row26_col2\" class=\"data row26 col2\" >-0.026024</td>\n",
       "                        <td id=\"T_2d885ae6_8d2b_11ea_a63d_acde48001122row26_col3\" class=\"data row26 col3\" >80.53 (-0%)</td>\n",
       "                        <td id=\"T_2d885ae6_8d2b_11ea_a63d_acde48001122row26_col4\" class=\"data row26 col4\" >14.90 (-4%)</td>\n",
       "                        <td id=\"T_2d885ae6_8d2b_11ea_a63d_acde48001122row26_col5\" class=\"data row26 col5\" >0.00 (0)</td>\n",
       "                        <td id=\"T_2d885ae6_8d2b_11ea_a63d_acde48001122row26_col6\" class=\"data row26 col6\" >75.00 (26)</td>\n",
       "                        <td id=\"T_2d885ae6_8d2b_11ea_a63d_acde48001122row26_col7\" class=\"data row26 col7\" >84.00 (48)</td>\n",
       "                        <td id=\"T_2d885ae6_8d2b_11ea_a63d_acde48001122row26_col8\" class=\"data row26 col8\" >90.00 (70)</td>\n",
       "                        <td id=\"T_2d885ae6_8d2b_11ea_a63d_acde48001122row26_col9\" class=\"data row26 col9\" >99.00 (98)</td>\n",
       "            </tr>\n",
       "            <tr>\n",
       "                        <th id=\"T_2d885ae6_8d2b_11ea_a63d_acde48001122level0_row27\" class=\"row_heading level0 row27\" >aca_s_11</th>\n",
       "                        <td id=\"T_2d885ae6_8d2b_11ea_a63d_acde48001122row27_col0\" class=\"data row27 col0\" >105 (29%)</td>\n",
       "                        <td id=\"T_2d885ae6_8d2b_11ea_a63d_acde48001122row27_col1\" class=\"data row27 col1\" >0% (nan%)</td>\n",
       "                        <td id=\"T_2d885ae6_8d2b_11ea_a63d_acde48001122row27_col2\" class=\"data row27 col2\" >-0.022072</td>\n",
       "                        <td id=\"T_2d885ae6_8d2b_11ea_a63d_acde48001122row27_col3\" class=\"data row27 col3\" >7.37 (-0%)</td>\n",
       "                        <td id=\"T_2d885ae6_8d2b_11ea_a63d_acde48001122row27_col4\" class=\"data row27 col4\" >0.42 (-8%)</td>\n",
       "                        <td id=\"T_2d885ae6_8d2b_11ea_a63d_acde48001122row27_col5\" class=\"data row27 col5\" >6.40 (0)</td>\n",
       "                        <td id=\"T_2d885ae6_8d2b_11ea_a63d_acde48001122row27_col6\" class=\"data row27 col6\" >7.10 (27)</td>\n",
       "                        <td id=\"T_2d885ae6_8d2b_11ea_a63d_acde48001122row27_col7\" class=\"data row27 col7\" >7.38 (50)</td>\n",
       "                        <td id=\"T_2d885ae6_8d2b_11ea_a63d_acde48001122row27_col8\" class=\"data row27 col8\" >7.60 (72)</td>\n",
       "                        <td id=\"T_2d885ae6_8d2b_11ea_a63d_acde48001122row27_col9\" class=\"data row27 col9\" >9.10 (99)</td>\n",
       "            </tr>\n",
       "            <tr>\n",
       "                        <th id=\"T_2d885ae6_8d2b_11ea_a63d_acde48001122level0_row28\" class=\"row_heading level0 row28\" >lat</th>\n",
       "                        <td id=\"T_2d885ae6_8d2b_11ea_a63d_acde48001122row28_col0\" class=\"data row28 col0\" >105 (29%)</td>\n",
       "                        <td id=\"T_2d885ae6_8d2b_11ea_a63d_acde48001122row28_col1\" class=\"data row28 col1\" >0% (nan%)</td>\n",
       "                        <td id=\"T_2d885ae6_8d2b_11ea_a63d_acde48001122row28_col2\" class=\"data row28 col2\" >-0.016571</td>\n",
       "                        <td id=\"T_2d885ae6_8d2b_11ea_a63d_acde48001122row28_col3\" class=\"data row28 col3\" >40.74 (-0%)</td>\n",
       "                        <td id=\"T_2d885ae6_8d2b_11ea_a63d_acde48001122row28_col4\" class=\"data row28 col4\" >0.08 (-0%)</td>\n",
       "                        <td id=\"T_2d885ae6_8d2b_11ea_a63d_acde48001122row28_col5\" class=\"data row28 col5\" >40.58 (1)</td>\n",
       "                        <td id=\"T_2d885ae6_8d2b_11ea_a63d_acde48001122row28_col6\" class=\"data row28 col6\" >40.67 (19)</td>\n",
       "                        <td id=\"T_2d885ae6_8d2b_11ea_a63d_acde48001122row28_col7\" class=\"data row28 col7\" >40.74 (52)</td>\n",
       "                        <td id=\"T_2d885ae6_8d2b_11ea_a63d_acde48001122row28_col8\" class=\"data row28 col8\" >40.82 (75)</td>\n",
       "                        <td id=\"T_2d885ae6_8d2b_11ea_a63d_acde48001122row28_col9\" class=\"data row28 col9\" >40.89 (99)</td>\n",
       "            </tr>\n",
       "            <tr>\n",
       "                        <th id=\"T_2d885ae6_8d2b_11ea_a63d_acde48001122level0_row29\" class=\"row_heading level0 row29\" >aca_t_11</th>\n",
       "                        <td id=\"T_2d885ae6_8d2b_11ea_a63d_acde48001122row29_col0\" class=\"data row29 col0\" >105 (29%)</td>\n",
       "                        <td id=\"T_2d885ae6_8d2b_11ea_a63d_acde48001122row29_col1\" class=\"data row29 col1\" >0% (nan%)</td>\n",
       "                        <td id=\"T_2d885ae6_8d2b_11ea_a63d_acde48001122row29_col2\" class=\"data row29 col2\" >-0.015370</td>\n",
       "                        <td id=\"T_2d885ae6_8d2b_11ea_a63d_acde48001122row29_col3\" class=\"data row29 col3\" >7.50 (-0%)</td>\n",
       "                        <td id=\"T_2d885ae6_8d2b_11ea_a63d_acde48001122row29_col4\" class=\"data row29 col4\" >0.96 (+2%)</td>\n",
       "                        <td id=\"T_2d885ae6_8d2b_11ea_a63d_acde48001122row29_col5\" class=\"data row29 col5\" >4.80 (0)</td>\n",
       "                        <td id=\"T_2d885ae6_8d2b_11ea_a63d_acde48001122row29_col6\" class=\"data row29 col6\" >6.90 (24)</td>\n",
       "                        <td id=\"T_2d885ae6_8d2b_11ea_a63d_acde48001122row29_col7\" class=\"data row29 col7\" >7.50 (48)</td>\n",
       "                        <td id=\"T_2d885ae6_8d2b_11ea_a63d_acde48001122row29_col8\" class=\"data row29 col8\" >8.30 (77)</td>\n",
       "                        <td id=\"T_2d885ae6_8d2b_11ea_a63d_acde48001122row29_col9\" class=\"data row29 col9\" >9.20 (98)</td>\n",
       "            </tr>\n",
       "            <tr>\n",
       "                        <th id=\"T_2d885ae6_8d2b_11ea_a63d_acde48001122level0_row30\" class=\"row_heading level0 row30\" >Number of Exams with scores 3 4 or 5</th>\n",
       "                        <td id=\"T_2d885ae6_8d2b_11ea_a63d_acde48001122row30_col0\" class=\"data row30 col0\" >105 (29%)</td>\n",
       "                        <td id=\"T_2d885ae6_8d2b_11ea_a63d_acde48001122row30_col1\" class=\"data row30 col1\" >0% (nan%)</td>\n",
       "                        <td id=\"T_2d885ae6_8d2b_11ea_a63d_acde48001122row30_col2\" class=\"data row30 col2\" >-0.011268</td>\n",
       "                        <td id=\"T_2d885ae6_8d2b_11ea_a63d_acde48001122row30_col3\" class=\"data row30 col3\" >150.76 (-2%)</td>\n",
       "                        <td id=\"T_2d885ae6_8d2b_11ea_a63d_acde48001122row30_col4\" class=\"data row30 col4\" >19.43 (-92%)</td>\n",
       "                        <td id=\"T_2d885ae6_8d2b_11ea_a63d_acde48001122row30_col5\" class=\"data row30 col5\" >11.00 (5)</td>\n",
       "                        <td id=\"T_2d885ae6_8d2b_11ea_a63d_acde48001122row30_col6\" class=\"data row30 col6\" >153.45 (61)</td>\n",
       "                        <td id=\"T_2d885ae6_8d2b_11ea_a63d_acde48001122row30_col7\" class=\"data row30 col7\" >153.45 (61)</td>\n",
       "                        <td id=\"T_2d885ae6_8d2b_11ea_a63d_acde48001122row30_col8\" class=\"data row30 col8\" >153.45 (61)</td>\n",
       "                        <td id=\"T_2d885ae6_8d2b_11ea_a63d_acde48001122row30_col9\" class=\"data row30 col9\" >153.45 (61)</td>\n",
       "            </tr>\n",
       "            <tr>\n",
       "                        <th id=\"T_2d885ae6_8d2b_11ea_a63d_acde48001122level0_row31\" class=\"row_heading level0 row31\" >AP Test Takers </th>\n",
       "                        <td id=\"T_2d885ae6_8d2b_11ea_a63d_acde48001122row31_col0\" class=\"data row31 col0\" >105 (29%)</td>\n",
       "                        <td id=\"T_2d885ae6_8d2b_11ea_a63d_acde48001122row31_col1\" class=\"data row31 col1\" >0% (nan%)</td>\n",
       "                        <td id=\"T_2d885ae6_8d2b_11ea_a63d_acde48001122row31_col2\" class=\"data row31 col2\" >-0.008076</td>\n",
       "                        <td id=\"T_2d885ae6_8d2b_11ea_a63d_acde48001122row31_col3\" class=\"data row31 col3\" >127.61 (-1%)</td>\n",
       "                        <td id=\"T_2d885ae6_8d2b_11ea_a63d_acde48001122row31_col4\" class=\"data row31 col4\" >9.52 (-95%)</td>\n",
       "                        <td id=\"T_2d885ae6_8d2b_11ea_a63d_acde48001122row31_col5\" class=\"data row31 col5\" >42.00 (24)</td>\n",
       "                        <td id=\"T_2d885ae6_8d2b_11ea_a63d_acde48001122row31_col6\" class=\"data row31 col6\" >129.03 (63)</td>\n",
       "                        <td id=\"T_2d885ae6_8d2b_11ea_a63d_acde48001122row31_col7\" class=\"data row31 col7\" >129.03 (63)</td>\n",
       "                        <td id=\"T_2d885ae6_8d2b_11ea_a63d_acde48001122row31_col8\" class=\"data row31 col8\" >129.03 (63)</td>\n",
       "                        <td id=\"T_2d885ae6_8d2b_11ea_a63d_acde48001122row31_col9\" class=\"data row31 col9\" >129.03 (63)</td>\n",
       "            </tr>\n",
       "            <tr>\n",
       "                        <th id=\"T_2d885ae6_8d2b_11ea_a63d_acde48001122level0_row32\" class=\"row_heading level0 row32\" >Total Exams Taken</th>\n",
       "                        <td id=\"T_2d885ae6_8d2b_11ea_a63d_acde48001122row32_col0\" class=\"data row32 col0\" >105 (29%)</td>\n",
       "                        <td id=\"T_2d885ae6_8d2b_11ea_a63d_acde48001122row32_col1\" class=\"data row32 col1\" >0% (nan%)</td>\n",
       "                        <td id=\"T_2d885ae6_8d2b_11ea_a63d_acde48001122row32_col2\" class=\"data row32 col2\" >-0.008049</td>\n",
       "                        <td id=\"T_2d885ae6_8d2b_11ea_a63d_acde48001122row32_col3\" class=\"data row32 col3\" >194.54 (-1%)</td>\n",
       "                        <td id=\"T_2d885ae6_8d2b_11ea_a63d_acde48001122row32_col4\" class=\"data row32 col4\" >16.17 (-95%)</td>\n",
       "                        <td id=\"T_2d885ae6_8d2b_11ea_a63d_acde48001122row32_col5\" class=\"data row32 col5\" >53.00 (23)</td>\n",
       "                        <td id=\"T_2d885ae6_8d2b_11ea_a63d_acde48001122row32_col6\" class=\"data row32 col6\" >197.04 (65)</td>\n",
       "                        <td id=\"T_2d885ae6_8d2b_11ea_a63d_acde48001122row32_col7\" class=\"data row32 col7\" >197.04 (65)</td>\n",
       "                        <td id=\"T_2d885ae6_8d2b_11ea_a63d_acde48001122row32_col8\" class=\"data row32 col8\" >197.04 (65)</td>\n",
       "                        <td id=\"T_2d885ae6_8d2b_11ea_a63d_acde48001122row32_col9\" class=\"data row32 col9\" >197.04 (65)</td>\n",
       "            </tr>\n",
       "            <tr>\n",
       "                        <th id=\"T_2d885ae6_8d2b_11ea_a63d_acde48001122level0_row33\" class=\"row_heading level0 row33\" >com_t_11</th>\n",
       "                        <td id=\"T_2d885ae6_8d2b_11ea_a63d_acde48001122row33_col0\" class=\"data row33 col0\" >105 (29%)</td>\n",
       "                        <td id=\"T_2d885ae6_8d2b_11ea_a63d_acde48001122row33_col1\" class=\"data row33 col1\" >0% (nan%)</td>\n",
       "                        <td id=\"T_2d885ae6_8d2b_11ea_a63d_acde48001122row33_col2\" class=\"data row33 col2\" >0.003475</td>\n",
       "                        <td id=\"T_2d885ae6_8d2b_11ea_a63d_acde48001122row33_col3\" class=\"data row33 col3\" >6.53 (+0%)</td>\n",
       "                        <td id=\"T_2d885ae6_8d2b_11ea_a63d_acde48001122row33_col4\" class=\"data row33 col4\" >1.10 (-5%)</td>\n",
       "                        <td id=\"T_2d885ae6_8d2b_11ea_a63d_acde48001122row33_col5\" class=\"data row33 col5\" >3.50 (1)</td>\n",
       "                        <td id=\"T_2d885ae6_8d2b_11ea_a63d_acde48001122row33_col6\" class=\"data row33 col6\" >5.70 (23)</td>\n",
       "                        <td id=\"T_2d885ae6_8d2b_11ea_a63d_acde48001122row33_col7\" class=\"data row33 col7\" >6.60 (52)</td>\n",
       "                        <td id=\"T_2d885ae6_8d2b_11ea_a63d_acde48001122row33_col8\" class=\"data row33 col8\" >7.50 (78)</td>\n",
       "                        <td id=\"T_2d885ae6_8d2b_11ea_a63d_acde48001122row33_col9\" class=\"data row33 col9\" >8.60 (98)</td>\n",
       "            </tr>\n",
       "            <tr>\n",
       "                        <th id=\"T_2d885ae6_8d2b_11ea_a63d_acde48001122level0_row34\" class=\"row_heading level0 row34\" >zip</th>\n",
       "                        <td id=\"T_2d885ae6_8d2b_11ea_a63d_acde48001122row34_col0\" class=\"data row34 col0\" >105 (29%)</td>\n",
       "                        <td id=\"T_2d885ae6_8d2b_11ea_a63d_acde48001122row34_col1\" class=\"data row34 col1\" >0% (nan%)</td>\n",
       "                        <td id=\"T_2d885ae6_8d2b_11ea_a63d_acde48001122row34_col2\" class=\"data row34 col2\" >0.016941</td>\n",
       "                        <td id=\"T_2d885ae6_8d2b_11ea_a63d_acde48001122row34_col3\" class=\"data row34 col3\" >10,733.81 (+0%)</td>\n",
       "                        <td id=\"T_2d885ae6_8d2b_11ea_a63d_acde48001122row34_col4\" class=\"data row34 col4\" >513.98 (-4%)</td>\n",
       "                        <td id=\"T_2d885ae6_8d2b_11ea_a63d_acde48001122row34_col5\" class=\"data row34 col5\" >10,002.00 (1)</td>\n",
       "                        <td id=\"T_2d885ae6_8d2b_11ea_a63d_acde48001122row34_col6\" class=\"data row34 col6\" >10,455.00 (31)</td>\n",
       "                        <td id=\"T_2d885ae6_8d2b_11ea_a63d_acde48001122row34_col7\" class=\"data row34 col7\" >10,473.00 (51)</td>\n",
       "                        <td id=\"T_2d885ae6_8d2b_11ea_a63d_acde48001122row34_col8\" class=\"data row34 col8\" >11,208.00 (67)</td>\n",
       "                        <td id=\"T_2d885ae6_8d2b_11ea_a63d_acde48001122row34_col9\" class=\"data row34 col9\" >11,691.00 (99)</td>\n",
       "            </tr>\n",
       "            <tr>\n",
       "                        <th id=\"T_2d885ae6_8d2b_11ea_a63d_acde48001122level0_row35\" class=\"row_heading level0 row35\" >eng_t_11</th>\n",
       "                        <td id=\"T_2d885ae6_8d2b_11ea_a63d_acde48001122row35_col0\" class=\"data row35 col0\" >105 (29%)</td>\n",
       "                        <td id=\"T_2d885ae6_8d2b_11ea_a63d_acde48001122row35_col1\" class=\"data row35 col1\" >0% (nan%)</td>\n",
       "                        <td id=\"T_2d885ae6_8d2b_11ea_a63d_acde48001122row35_col2\" class=\"data row35 col2\" >0.028632</td>\n",
       "                        <td id=\"T_2d885ae6_8d2b_11ea_a63d_acde48001122row35_col3\" class=\"data row35 col3\" >7.02 (+0%)</td>\n",
       "                        <td id=\"T_2d885ae6_8d2b_11ea_a63d_acde48001122row35_col4\" class=\"data row35 col4\" >1.02 (-1%)</td>\n",
       "                        <td id=\"T_2d885ae6_8d2b_11ea_a63d_acde48001122row35_col5\" class=\"data row35 col5\" >4.10 (1)</td>\n",
       "                        <td id=\"T_2d885ae6_8d2b_11ea_a63d_acde48001122row35_col6\" class=\"data row35 col6\" >6.40 (28)</td>\n",
       "                        <td id=\"T_2d885ae6_8d2b_11ea_a63d_acde48001122row35_col7\" class=\"data row35 col7\" >7.10 (53)</td>\n",
       "                        <td id=\"T_2d885ae6_8d2b_11ea_a63d_acde48001122row35_col8\" class=\"data row35 col8\" >7.80 (78)</td>\n",
       "                        <td id=\"T_2d885ae6_8d2b_11ea_a63d_acde48001122row35_col9\" class=\"data row35 col9\" >9.10 (98)</td>\n",
       "            </tr>\n",
       "            <tr>\n",
       "                        <th id=\"T_2d885ae6_8d2b_11ea_a63d_acde48001122level0_row36\" class=\"row_heading level0 row36\" >eng_s_11</th>\n",
       "                        <td id=\"T_2d885ae6_8d2b_11ea_a63d_acde48001122row36_col0\" class=\"data row36 col0\" >105 (29%)</td>\n",
       "                        <td id=\"T_2d885ae6_8d2b_11ea_a63d_acde48001122row36_col1\" class=\"data row36 col1\" >0% (nan%)</td>\n",
       "                        <td id=\"T_2d885ae6_8d2b_11ea_a63d_acde48001122row36_col2\" class=\"data row36 col2\" >0.029803</td>\n",
       "                        <td id=\"T_2d885ae6_8d2b_11ea_a63d_acde48001122row36_col3\" class=\"data row36 col3\" >6.64 (+0%)</td>\n",
       "                        <td id=\"T_2d885ae6_8d2b_11ea_a63d_acde48001122row36_col4\" class=\"data row36 col4\" >0.56 (+3%)</td>\n",
       "                        <td id=\"T_2d885ae6_8d2b_11ea_a63d_acde48001122row36_col5\" class=\"data row36 col5\" >5.50 (1)</td>\n",
       "                        <td id=\"T_2d885ae6_8d2b_11ea_a63d_acde48001122row36_col6\" class=\"data row36 col6\" >6.30 (28)</td>\n",
       "                        <td id=\"T_2d885ae6_8d2b_11ea_a63d_acde48001122row36_col7\" class=\"data row36 col7\" >6.60 (50)</td>\n",
       "                        <td id=\"T_2d885ae6_8d2b_11ea_a63d_acde48001122row36_col8\" class=\"data row36 col8\" >7.00 (76)</td>\n",
       "                        <td id=\"T_2d885ae6_8d2b_11ea_a63d_acde48001122row36_col9\" class=\"data row36 col9\" >8.60 (99)</td>\n",
       "            </tr>\n",
       "            <tr>\n",
       "                        <th id=\"T_2d885ae6_8d2b_11ea_a63d_acde48001122level0_row37\" class=\"row_heading level0 row37\" >saf_p_11</th>\n",
       "                        <td id=\"T_2d885ae6_8d2b_11ea_a63d_acde48001122row37_col0\" class=\"data row37 col0\" >105 (29%)</td>\n",
       "                        <td id=\"T_2d885ae6_8d2b_11ea_a63d_acde48001122row37_col1\" class=\"data row37 col1\" >0% (nan%)</td>\n",
       "                        <td id=\"T_2d885ae6_8d2b_11ea_a63d_acde48001122row37_col2\" class=\"data row37 col2\" >0.044588</td>\n",
       "                        <td id=\"T_2d885ae6_8d2b_11ea_a63d_acde48001122row37_col3\" class=\"data row37 col3\" >8.21 (+0%)</td>\n",
       "                        <td id=\"T_2d885ae6_8d2b_11ea_a63d_acde48001122row37_col4\" class=\"data row37 col4\" >0.53 (-11%)</td>\n",
       "                        <td id=\"T_2d885ae6_8d2b_11ea_a63d_acde48001122row37_col5\" class=\"data row37 col5\" >6.30 (1)</td>\n",
       "                        <td id=\"T_2d885ae6_8d2b_11ea_a63d_acde48001122row37_col6\" class=\"data row37 col6\" >7.90 (28)</td>\n",
       "                        <td id=\"T_2d885ae6_8d2b_11ea_a63d_acde48001122row37_col7\" class=\"data row37 col7\" >8.30 (54)</td>\n",
       "                        <td id=\"T_2d885ae6_8d2b_11ea_a63d_acde48001122row37_col8\" class=\"data row37 col8\" >8.60 (76)</td>\n",
       "                        <td id=\"T_2d885ae6_8d2b_11ea_a63d_acde48001122row37_col9\" class=\"data row37 col9\" >9.80 (99)</td>\n",
       "            </tr>\n",
       "            <tr>\n",
       "                        <th id=\"T_2d885ae6_8d2b_11ea_a63d_acde48001122level0_row38\" class=\"row_heading level0 row38\" >aca_tot_11</th>\n",
       "                        <td id=\"T_2d885ae6_8d2b_11ea_a63d_acde48001122row38_col0\" class=\"data row38 col0\" >105 (29%)</td>\n",
       "                        <td id=\"T_2d885ae6_8d2b_11ea_a63d_acde48001122row38_col1\" class=\"data row38 col1\" >0% (nan%)</td>\n",
       "                        <td id=\"T_2d885ae6_8d2b_11ea_a63d_acde48001122row38_col2\" class=\"data row38 col2\" >0.046239</td>\n",
       "                        <td id=\"T_2d885ae6_8d2b_11ea_a63d_acde48001122row38_col3\" class=\"data row38 col3\" >7.59 (+0%)</td>\n",
       "                        <td id=\"T_2d885ae6_8d2b_11ea_a63d_acde48001122row38_col4\" class=\"data row38 col4\" >0.49 (-5%)</td>\n",
       "                        <td id=\"T_2d885ae6_8d2b_11ea_a63d_acde48001122row38_col5\" class=\"data row38 col5\" >6.10 (0)</td>\n",
       "                        <td id=\"T_2d885ae6_8d2b_11ea_a63d_acde48001122row38_col6\" class=\"data row38 col6\" >7.30 (28)</td>\n",
       "                        <td id=\"T_2d885ae6_8d2b_11ea_a63d_acde48001122row38_col7\" class=\"data row38 col7\" >7.60 (52)</td>\n",
       "                        <td id=\"T_2d885ae6_8d2b_11ea_a63d_acde48001122row38_col8\" class=\"data row38 col8\" >8.00 (80)</td>\n",
       "                        <td id=\"T_2d885ae6_8d2b_11ea_a63d_acde48001122row38_col9\" class=\"data row38 col9\" >8.60 (97)</td>\n",
       "            </tr>\n",
       "            <tr>\n",
       "                        <th id=\"T_2d885ae6_8d2b_11ea_a63d_acde48001122level0_row39\" class=\"row_heading level0 row39\" >lon</th>\n",
       "                        <td id=\"T_2d885ae6_8d2b_11ea_a63d_acde48001122row39_col0\" class=\"data row39 col0\" >105 (29%)</td>\n",
       "                        <td id=\"T_2d885ae6_8d2b_11ea_a63d_acde48001122row39_col1\" class=\"data row39 col1\" >0% (nan%)</td>\n",
       "                        <td id=\"T_2d885ae6_8d2b_11ea_a63d_acde48001122row39_col2\" class=\"data row39 col2\" >0.056514</td>\n",
       "                        <td id=\"T_2d885ae6_8d2b_11ea_a63d_acde48001122row39_col3\" class=\"data row39 col3\" >-73.92 (-0%)</td>\n",
       "                        <td id=\"T_2d885ae6_8d2b_11ea_a63d_acde48001122row39_col4\" class=\"data row39 col4\" >0.06 (-14%)</td>\n",
       "                        <td id=\"T_2d885ae6_8d2b_11ea_a63d_acde48001122row39_col5\" class=\"data row39 col5\" >-74.16 (0)</td>\n",
       "                        <td id=\"T_2d885ae6_8d2b_11ea_a63d_acde48001122row39_col6\" class=\"data row39 col6\" >-73.96 (29)</td>\n",
       "                        <td id=\"T_2d885ae6_8d2b_11ea_a63d_acde48001122row39_col7\" class=\"data row39 col7\" >-73.92 (57)</td>\n",
       "                        <td id=\"T_2d885ae6_8d2b_11ea_a63d_acde48001122row39_col8\" class=\"data row39 col8\" >-73.89 (76)</td>\n",
       "                        <td id=\"T_2d885ae6_8d2b_11ea_a63d_acde48001122row39_col9\" class=\"data row39 col9\" >-73.73 (99)</td>\n",
       "            </tr>\n",
       "            <tr>\n",
       "                        <th id=\"T_2d885ae6_8d2b_11ea_a63d_acde48001122level0_row40\" class=\"row_heading level0 row40\" >eng_tot_11</th>\n",
       "                        <td id=\"T_2d885ae6_8d2b_11ea_a63d_acde48001122row40_col0\" class=\"data row40 col0\" >105 (29%)</td>\n",
       "                        <td id=\"T_2d885ae6_8d2b_11ea_a63d_acde48001122row40_col1\" class=\"data row40 col1\" >0% (nan%)</td>\n",
       "                        <td id=\"T_2d885ae6_8d2b_11ea_a63d_acde48001122row40_col2\" class=\"data row40 col2\" >0.070815</td>\n",
       "                        <td id=\"T_2d885ae6_8d2b_11ea_a63d_acde48001122row40_col3\" class=\"data row40 col3\" >7.08 (+1%)</td>\n",
       "                        <td id=\"T_2d885ae6_8d2b_11ea_a63d_acde48001122row40_col4\" class=\"data row40 col4\" >0.53 (-2%)</td>\n",
       "                        <td id=\"T_2d885ae6_8d2b_11ea_a63d_acde48001122row40_col5\" class=\"data row40 col5\" >5.70 (1)</td>\n",
       "                        <td id=\"T_2d885ae6_8d2b_11ea_a63d_acde48001122row40_col6\" class=\"data row40 col6\" >6.80 (30)</td>\n",
       "                        <td id=\"T_2d885ae6_8d2b_11ea_a63d_acde48001122row40_col7\" class=\"data row40 col7\" >7.10 (56)</td>\n",
       "                        <td id=\"T_2d885ae6_8d2b_11ea_a63d_acde48001122row40_col8\" class=\"data row40 col8\" >7.50 (81)</td>\n",
       "                        <td id=\"T_2d885ae6_8d2b_11ea_a63d_acde48001122row40_col9\" class=\"data row40 col9\" >8.30 (99)</td>\n",
       "            </tr>\n",
       "            <tr>\n",
       "                        <th id=\"T_2d885ae6_8d2b_11ea_a63d_acde48001122level0_row41\" class=\"row_heading level0 row41\" >rr_p</th>\n",
       "                        <td id=\"T_2d885ae6_8d2b_11ea_a63d_acde48001122row41_col0\" class=\"data row41 col0\" >105 (29%)</td>\n",
       "                        <td id=\"T_2d885ae6_8d2b_11ea_a63d_acde48001122row41_col1\" class=\"data row41 col1\" >0% (nan%)</td>\n",
       "                        <td id=\"T_2d885ae6_8d2b_11ea_a63d_acde48001122row41_col2\" class=\"data row41 col2\" >0.075437</td>\n",
       "                        <td id=\"T_2d885ae6_8d2b_11ea_a63d_acde48001122row41_col3\" class=\"data row41 col3\" >40.40 (+4%)</td>\n",
       "                        <td id=\"T_2d885ae6_8d2b_11ea_a63d_acde48001122row41_col4\" class=\"data row41 col4\" >19.66 (+2%)</td>\n",
       "                        <td id=\"T_2d885ae6_8d2b_11ea_a63d_acde48001122row41_col5\" class=\"data row41 col5\" >9.00 (1)</td>\n",
       "                        <td id=\"T_2d885ae6_8d2b_11ea_a63d_acde48001122row41_col6\" class=\"data row41 col6\" >25.00 (26)</td>\n",
       "                        <td id=\"T_2d885ae6_8d2b_11ea_a63d_acde48001122row41_col7\" class=\"data row41 col7\" >39.00 (54)</td>\n",
       "                        <td id=\"T_2d885ae6_8d2b_11ea_a63d_acde48001122row41_col8\" class=\"data row41 col8\" >51.00 (76)</td>\n",
       "                        <td id=\"T_2d885ae6_8d2b_11ea_a63d_acde48001122row41_col9\" class=\"data row41 col9\" >90.00 (98)</td>\n",
       "            </tr>\n",
       "            <tr>\n",
       "                        <th id=\"T_2d885ae6_8d2b_11ea_a63d_acde48001122level0_row42\" class=\"row_heading level0 row42\" >female_per</th>\n",
       "                        <td id=\"T_2d885ae6_8d2b_11ea_a63d_acde48001122row42_col0\" class=\"data row42 col0\" >105 (29%)</td>\n",
       "                        <td id=\"T_2d885ae6_8d2b_11ea_a63d_acde48001122row42_col1\" class=\"data row42 col1\" >0% (nan%)</td>\n",
       "                        <td id=\"T_2d885ae6_8d2b_11ea_a63d_acde48001122row42_col2\" class=\"data row42 col2\" >0.078164</td>\n",
       "                        <td id=\"T_2d885ae6_8d2b_11ea_a63d_acde48001122row42_col3\" class=\"data row42 col3\" >51.71 (+2%)</td>\n",
       "                        <td id=\"T_2d885ae6_8d2b_11ea_a63d_acde48001122row42_col4\" class=\"data row42 col4\" >14.72 (+5%)</td>\n",
       "                        <td id=\"T_2d885ae6_8d2b_11ea_a63d_acde48001122row42_col5\" class=\"data row42 col5\" >15.70 (2)</td>\n",
       "                        <td id=\"T_2d885ae6_8d2b_11ea_a63d_acde48001122row42_col6\" class=\"data row42 col6\" >44.70 (23)</td>\n",
       "                        <td id=\"T_2d885ae6_8d2b_11ea_a63d_acde48001122row42_col7\" class=\"data row42 col7\" >50.20 (51)</td>\n",
       "                        <td id=\"T_2d885ae6_8d2b_11ea_a63d_acde48001122row42_col8\" class=\"data row42 col8\" >55.80 (74)</td>\n",
       "                        <td id=\"T_2d885ae6_8d2b_11ea_a63d_acde48001122row42_col9\" class=\"data row42 col9\" >100.00 (99)</td>\n",
       "            </tr>\n",
       "            <tr>\n",
       "                        <th id=\"T_2d885ae6_8d2b_11ea_a63d_acde48001122level0_row43\" class=\"row_heading level0 row43\" >com_s_11</th>\n",
       "                        <td id=\"T_2d885ae6_8d2b_11ea_a63d_acde48001122row43_col0\" class=\"data row43 col0\" >105 (29%)</td>\n",
       "                        <td id=\"T_2d885ae6_8d2b_11ea_a63d_acde48001122row43_col1\" class=\"data row43 col1\" >0% (nan%)</td>\n",
       "                        <td id=\"T_2d885ae6_8d2b_11ea_a63d_acde48001122row43_col2\" class=\"data row43 col2\" >0.096943</td>\n",
       "                        <td id=\"T_2d885ae6_8d2b_11ea_a63d_acde48001122row43_col3\" class=\"data row43 col3\" >6.15 (+1%)</td>\n",
       "                        <td id=\"T_2d885ae6_8d2b_11ea_a63d_acde48001122row43_col4\" class=\"data row43 col4\" >0.50 (-6%)</td>\n",
       "                        <td id=\"T_2d885ae6_8d2b_11ea_a63d_acde48001122row43_col5\" class=\"data row43 col5\" >5.20 (1)</td>\n",
       "                        <td id=\"T_2d885ae6_8d2b_11ea_a63d_acde48001122row43_col6\" class=\"data row43 col6\" >5.80 (32)</td>\n",
       "                        <td id=\"T_2d885ae6_8d2b_11ea_a63d_acde48001122row43_col7\" class=\"data row43 col7\" >6.10 (56)</td>\n",
       "                        <td id=\"T_2d885ae6_8d2b_11ea_a63d_acde48001122row43_col8\" class=\"data row43 col8\" >6.40 (76)</td>\n",
       "                        <td id=\"T_2d885ae6_8d2b_11ea_a63d_acde48001122row43_col9\" class=\"data row43 col9\" >8.40 (99)</td>\n",
       "            </tr>\n",
       "            <tr>\n",
       "                        <th id=\"T_2d885ae6_8d2b_11ea_a63d_acde48001122level0_row44\" class=\"row_heading level0 row44\" >hispanic_per</th>\n",
       "                        <td id=\"T_2d885ae6_8d2b_11ea_a63d_acde48001122row44_col0\" class=\"data row44 col0\" >105 (29%)</td>\n",
       "                        <td id=\"T_2d885ae6_8d2b_11ea_a63d_acde48001122row44_col1\" class=\"data row44 col1\" >0% (nan%)</td>\n",
       "                        <td id=\"T_2d885ae6_8d2b_11ea_a63d_acde48001122row44_col2\" class=\"data row44 col2\" >0.104693</td>\n",
       "                        <td id=\"T_2d885ae6_8d2b_11ea_a63d_acde48001122row44_col3\" class=\"data row44 col3\" >46.68 (+6%)</td>\n",
       "                        <td id=\"T_2d885ae6_8d2b_11ea_a63d_acde48001122row44_col4\" class=\"data row44 col4\" >24.99 (+0%)</td>\n",
       "                        <td id=\"T_2d885ae6_8d2b_11ea_a63d_acde48001122row44_col5\" class=\"data row44 col5\" >4.50 (1)</td>\n",
       "                        <td id=\"T_2d885ae6_8d2b_11ea_a63d_acde48001122row44_col6\" class=\"data row44 col6\" >22.70 (27)</td>\n",
       "                        <td id=\"T_2d885ae6_8d2b_11ea_a63d_acde48001122row44_col7\" class=\"data row44 col7\" >53.80 (57)</td>\n",
       "                        <td id=\"T_2d885ae6_8d2b_11ea_a63d_acde48001122row44_col8\" class=\"data row44 col8\" >66.00 (79)</td>\n",
       "                        <td id=\"T_2d885ae6_8d2b_11ea_a63d_acde48001122row44_col9\" class=\"data row44 col9\" >100.00 (99)</td>\n",
       "            </tr>\n",
       "            <tr>\n",
       "                        <th id=\"T_2d885ae6_8d2b_11ea_a63d_acde48001122level0_row45\" class=\"row_heading level0 row45\" >com_tot_11</th>\n",
       "                        <td id=\"T_2d885ae6_8d2b_11ea_a63d_acde48001122row45_col0\" class=\"data row45 col0\" >105 (29%)</td>\n",
       "                        <td id=\"T_2d885ae6_8d2b_11ea_a63d_acde48001122row45_col1\" class=\"data row45 col1\" >0% (nan%)</td>\n",
       "                        <td id=\"T_2d885ae6_8d2b_11ea_a63d_acde48001122row45_col2\" class=\"data row45 col2\" >0.110361</td>\n",
       "                        <td id=\"T_2d885ae6_8d2b_11ea_a63d_acde48001122row45_col3\" class=\"data row45 col3\" >6.81 (+1%)</td>\n",
       "                        <td id=\"T_2d885ae6_8d2b_11ea_a63d_acde48001122row45_col4\" class=\"data row45 col4\" >0.50 (-10%)</td>\n",
       "                        <td id=\"T_2d885ae6_8d2b_11ea_a63d_acde48001122row45_col5\" class=\"data row45 col5\" >5.30 (0)</td>\n",
       "                        <td id=\"T_2d885ae6_8d2b_11ea_a63d_acde48001122row45_col6\" class=\"data row45 col6\" >6.50 (32)</td>\n",
       "                        <td id=\"T_2d885ae6_8d2b_11ea_a63d_acde48001122row45_col7\" class=\"data row45 col7\" >6.80 (55)</td>\n",
       "                        <td id=\"T_2d885ae6_8d2b_11ea_a63d_acde48001122row45_col8\" class=\"data row45 col8\" >7.20 (78)</td>\n",
       "                        <td id=\"T_2d885ae6_8d2b_11ea_a63d_acde48001122row45_col9\" class=\"data row45 col9\" >8.10 (99)</td>\n",
       "            </tr>\n",
       "            <tr>\n",
       "                        <th id=\"T_2d885ae6_8d2b_11ea_a63d_acde48001122level0_row46\" class=\"row_heading level0 row46\" >eng_p_11</th>\n",
       "                        <td id=\"T_2d885ae6_8d2b_11ea_a63d_acde48001122row46_col0\" class=\"data row46 col0\" >105 (29%)</td>\n",
       "                        <td id=\"T_2d885ae6_8d2b_11ea_a63d_acde48001122row46_col1\" class=\"data row46 col1\" >0% (nan%)</td>\n",
       "                        <td id=\"T_2d885ae6_8d2b_11ea_a63d_acde48001122row46_col2\" class=\"data row46 col2\" >0.112140</td>\n",
       "                        <td id=\"T_2d885ae6_8d2b_11ea_a63d_acde48001122row46_col3\" class=\"data row46 col3\" >7.57 (+1%)</td>\n",
       "                        <td id=\"T_2d885ae6_8d2b_11ea_a63d_acde48001122row46_col4\" class=\"data row46 col4\" >0.43 (-5%)</td>\n",
       "                        <td id=\"T_2d885ae6_8d2b_11ea_a63d_acde48001122row46_col5\" class=\"data row46 col5\" >6.70 (2)</td>\n",
       "                        <td id=\"T_2d885ae6_8d2b_11ea_a63d_acde48001122row46_col6\" class=\"data row46 col6\" >7.30 (30)</td>\n",
       "                        <td id=\"T_2d885ae6_8d2b_11ea_a63d_acde48001122row46_col7\" class=\"data row46 col7\" >7.60 (59)</td>\n",
       "                        <td id=\"T_2d885ae6_8d2b_11ea_a63d_acde48001122row46_col8\" class=\"data row46 col8\" >7.80 (76)</td>\n",
       "                        <td id=\"T_2d885ae6_8d2b_11ea_a63d_acde48001122row46_col9\" class=\"data row46 col9\" >9.40 (99)</td>\n",
       "            </tr>\n",
       "            <tr>\n",
       "                        <th id=\"T_2d885ae6_8d2b_11ea_a63d_acde48001122level0_row47\" class=\"row_heading level0 row47\" >ell_percent</th>\n",
       "                        <td id=\"T_2d885ae6_8d2b_11ea_a63d_acde48001122row47_col0\" class=\"data row47 col0\" >105 (29%)</td>\n",
       "                        <td id=\"T_2d885ae6_8d2b_11ea_a63d_acde48001122row47_col1\" class=\"data row47 col1\" >0% (nan%)</td>\n",
       "                        <td id=\"T_2d885ae6_8d2b_11ea_a63d_acde48001122row47_col2\" class=\"data row47 col2\" >0.166164</td>\n",
       "                        <td id=\"T_2d885ae6_8d2b_11ea_a63d_acde48001122row47_col3\" class=\"data row47 col3\" >16.67 (+25%)</td>\n",
       "                        <td id=\"T_2d885ae6_8d2b_11ea_a63d_acde48001122row47_col4\" class=\"data row47 col4\" >24.10 (+20%)</td>\n",
       "                        <td id=\"T_2d885ae6_8d2b_11ea_a63d_acde48001122row47_col5\" class=\"data row47 col5\" >0.00 (1)</td>\n",
       "                        <td id=\"T_2d885ae6_8d2b_11ea_a63d_acde48001122row47_col6\" class=\"data row47 col6\" >4.90 (36)</td>\n",
       "                        <td id=\"T_2d885ae6_8d2b_11ea_a63d_acde48001122row47_col7\" class=\"data row47 col7\" >8.80 (56)</td>\n",
       "                        <td id=\"T_2d885ae6_8d2b_11ea_a63d_acde48001122row47_col8\" class=\"data row47 col8\" >14.40 (75)</td>\n",
       "                        <td id=\"T_2d885ae6_8d2b_11ea_a63d_acde48001122row47_col9\" class=\"data row47 col9\" >92.90 (99)</td>\n",
       "            </tr>\n",
       "            <tr>\n",
       "                        <th id=\"T_2d885ae6_8d2b_11ea_a63d_acde48001122level0_row48\" class=\"row_heading level0 row48\" >aca_p_11</th>\n",
       "                        <td id=\"T_2d885ae6_8d2b_11ea_a63d_acde48001122row48_col0\" class=\"data row48 col0\" >105 (29%)</td>\n",
       "                        <td id=\"T_2d885ae6_8d2b_11ea_a63d_acde48001122row48_col1\" class=\"data row48 col1\" >0% (nan%)</td>\n",
       "                        <td id=\"T_2d885ae6_8d2b_11ea_a63d_acde48001122row48_col2\" class=\"data row48 col2\" >0.181744</td>\n",
       "                        <td id=\"T_2d885ae6_8d2b_11ea_a63d_acde48001122row48_col3\" class=\"data row48 col3\" >7.90 (+1%)</td>\n",
       "                        <td id=\"T_2d885ae6_8d2b_11ea_a63d_acde48001122row48_col4\" class=\"data row48 col4\" >0.45 (-10%)</td>\n",
       "                        <td id=\"T_2d885ae6_8d2b_11ea_a63d_acde48001122row48_col5\" class=\"data row48 col5\" >6.80 (1)</td>\n",
       "                        <td id=\"T_2d885ae6_8d2b_11ea_a63d_acde48001122row48_col6\" class=\"data row48 col6\" >7.60 (34)</td>\n",
       "                        <td id=\"T_2d885ae6_8d2b_11ea_a63d_acde48001122row48_col7\" class=\"data row48 col7\" >7.90 (57)</td>\n",
       "                        <td id=\"T_2d885ae6_8d2b_11ea_a63d_acde48001122row48_col8\" class=\"data row48 col8\" >8.20 (78)</td>\n",
       "                        <td id=\"T_2d885ae6_8d2b_11ea_a63d_acde48001122row48_col9\" class=\"data row48 col9\" >9.50 (99)</td>\n",
       "            </tr>\n",
       "            <tr>\n",
       "                        <th id=\"T_2d885ae6_8d2b_11ea_a63d_acde48001122level0_row49\" class=\"row_heading level0 row49\" >sped_percent</th>\n",
       "                        <td id=\"T_2d885ae6_8d2b_11ea_a63d_acde48001122row49_col0\" class=\"data row49 col0\" >105 (29%)</td>\n",
       "                        <td id=\"T_2d885ae6_8d2b_11ea_a63d_acde48001122row49_col1\" class=\"data row49 col1\" >0% (nan%)</td>\n",
       "                        <td id=\"T_2d885ae6_8d2b_11ea_a63d_acde48001122row49_col2\" class=\"data row49 col2\" >0.217671</td>\n",
       "                        <td id=\"T_2d885ae6_8d2b_11ea_a63d_acde48001122row49_col3\" class=\"data row49 col3\" >15.84 (+11%)</td>\n",
       "                        <td id=\"T_2d885ae6_8d2b_11ea_a63d_acde48001122row49_col4\" class=\"data row49 col4\" >7.20 (-1%)</td>\n",
       "                        <td id=\"T_2d885ae6_8d2b_11ea_a63d_acde48001122row49_col5\" class=\"data row49 col5\" >0.00 (1)</td>\n",
       "                        <td id=\"T_2d885ae6_8d2b_11ea_a63d_acde48001122row49_col6\" class=\"data row49 col6\" >13.20 (37)</td>\n",
       "                        <td id=\"T_2d885ae6_8d2b_11ea_a63d_acde48001122row49_col7\" class=\"data row49 col7\" >17.30 (63)</td>\n",
       "                        <td id=\"T_2d885ae6_8d2b_11ea_a63d_acde48001122row49_col8\" class=\"data row49 col8\" >20.80 (82)</td>\n",
       "                        <td id=\"T_2d885ae6_8d2b_11ea_a63d_acde48001122row49_col9\" class=\"data row49 col9\" >28.40 (98)</td>\n",
       "            </tr>\n",
       "            <tr>\n",
       "                        <th id=\"T_2d885ae6_8d2b_11ea_a63d_acde48001122level0_row50\" class=\"row_heading level0 row50\" >rr_t</th>\n",
       "                        <td id=\"T_2d885ae6_8d2b_11ea_a63d_acde48001122row50_col0\" class=\"data row50 col0\" >105 (29%)</td>\n",
       "                        <td id=\"T_2d885ae6_8d2b_11ea_a63d_acde48001122row50_col1\" class=\"data row50 col1\" >0% (nan%)</td>\n",
       "                        <td id=\"T_2d885ae6_8d2b_11ea_a63d_acde48001122row50_col2\" class=\"data row50 col2\" >0.220547</td>\n",
       "                        <td id=\"T_2d885ae6_8d2b_11ea_a63d_acde48001122row50_col3\" class=\"data row50 col3\" >86.91 (+4%)</td>\n",
       "                        <td id=\"T_2d885ae6_8d2b_11ea_a63d_acde48001122row50_col4\" class=\"data row50 col4\" >15.59 (-6%)</td>\n",
       "                        <td id=\"T_2d885ae6_8d2b_11ea_a63d_acde48001122row50_col5\" class=\"data row50 col5\" >28.00 (0)</td>\n",
       "                        <td id=\"T_2d885ae6_8d2b_11ea_a63d_acde48001122row50_col6\" class=\"data row50 col6\" >83.00 (38)</td>\n",
       "                        <td id=\"T_2d885ae6_8d2b_11ea_a63d_acde48001122row50_col7\" class=\"data row50 col7\" >92.00 (59)</td>\n",
       "                        <td id=\"T_2d885ae6_8d2b_11ea_a63d_acde48001122row50_col8\" class=\"data row50 col8\" >97.00 (78)</td>\n",
       "                        <td id=\"T_2d885ae6_8d2b_11ea_a63d_acde48001122row50_col9\" class=\"data row50 col9\" >100.00 (90)</td>\n",
       "            </tr>\n",
       "            <tr>\n",
       "                        <th id=\"T_2d885ae6_8d2b_11ea_a63d_acde48001122level0_row51\" class=\"row_heading level0 row51\" >com_p_11</th>\n",
       "                        <td id=\"T_2d885ae6_8d2b_11ea_a63d_acde48001122row51_col0\" class=\"data row51 col0\" >105 (29%)</td>\n",
       "                        <td id=\"T_2d885ae6_8d2b_11ea_a63d_acde48001122row51_col1\" class=\"data row51 col1\" >0% (nan%)</td>\n",
       "                        <td id=\"T_2d885ae6_8d2b_11ea_a63d_acde48001122row51_col2\" class=\"data row51 col2\" >0.236069</td>\n",
       "                        <td id=\"T_2d885ae6_8d2b_11ea_a63d_acde48001122row51_col3\" class=\"data row51 col3\" >7.74 (+2%)</td>\n",
       "                        <td id=\"T_2d885ae6_8d2b_11ea_a63d_acde48001122row51_col4\" class=\"data row51 col4\" >0.46 (-11%)</td>\n",
       "                        <td id=\"T_2d885ae6_8d2b_11ea_a63d_acde48001122row51_col5\" class=\"data row51 col5\" >6.60 (2)</td>\n",
       "                        <td id=\"T_2d885ae6_8d2b_11ea_a63d_acde48001122row51_col6\" class=\"data row51 col6\" >7.50 (40)</td>\n",
       "                        <td id=\"T_2d885ae6_8d2b_11ea_a63d_acde48001122row51_col7\" class=\"data row51 col7\" >7.80 (62)</td>\n",
       "                        <td id=\"T_2d885ae6_8d2b_11ea_a63d_acde48001122row51_col8\" class=\"data row51 col8\" >8.00 (77)</td>\n",
       "                        <td id=\"T_2d885ae6_8d2b_11ea_a63d_acde48001122row51_col9\" class=\"data row51 col9\" >9.20 (99)</td>\n",
       "            </tr>\n",
       "            <tr>\n",
       "                        <th id=\"T_2d885ae6_8d2b_11ea_a63d_acde48001122level0_row52\" class=\"row_heading level0 row52\" >black_per</th>\n",
       "                        <td id=\"T_2d885ae6_8d2b_11ea_a63d_acde48001122row52_col0\" class=\"data row52 col0\" >105 (29%)</td>\n",
       "                        <td id=\"T_2d885ae6_8d2b_11ea_a63d_acde48001122row52_col1\" class=\"data row52 col1\" >0% (nan%)</td>\n",
       "                        <td id=\"T_2d885ae6_8d2b_11ea_a63d_acde48001122row52_col2\" class=\"data row52 col2\" >0.253546</td>\n",
       "                        <td id=\"T_2d885ae6_8d2b_11ea_a63d_acde48001122row52_col3\" class=\"data row52 col3\" >43.16 (+18%)</td>\n",
       "                        <td id=\"T_2d885ae6_8d2b_11ea_a63d_acde48001122row52_col4\" class=\"data row52 col4\" >26.29 (+1%)</td>\n",
       "                        <td id=\"T_2d885ae6_8d2b_11ea_a63d_acde48001122row52_col5\" class=\"data row52 col5\" >0.00 (0)</td>\n",
       "                        <td id=\"T_2d885ae6_8d2b_11ea_a63d_acde48001122row52_col6\" class=\"data row52 col6\" >25.60 (39)</td>\n",
       "                        <td id=\"T_2d885ae6_8d2b_11ea_a63d_acde48001122row52_col7\" class=\"data row52 col7\" >33.20 (57)</td>\n",
       "                        <td id=\"T_2d885ae6_8d2b_11ea_a63d_acde48001122row52_col8\" class=\"data row52 col8\" >64.20 (80)</td>\n",
       "                        <td id=\"T_2d885ae6_8d2b_11ea_a63d_acde48001122row52_col9\" class=\"data row52 col9\" >93.50 (99)</td>\n",
       "            </tr>\n",
       "            <tr>\n",
       "                        <th id=\"T_2d885ae6_8d2b_11ea_a63d_acde48001122level0_row53\" class=\"row_heading level0 row53\" >frl_percent</th>\n",
       "                        <td id=\"T_2d885ae6_8d2b_11ea_a63d_acde48001122row53_col0\" class=\"data row53 col0\" >105 (29%)</td>\n",
       "                        <td id=\"T_2d885ae6_8d2b_11ea_a63d_acde48001122row53_col1\" class=\"data row53 col1\" >0% (nan%)</td>\n",
       "                        <td id=\"T_2d885ae6_8d2b_11ea_a63d_acde48001122row53_col2\" class=\"data row53 col2\" >0.360121</td>\n",
       "                        <td id=\"T_2d885ae6_8d2b_11ea_a63d_acde48001122row53_col3\" class=\"data row53 col3\" >72.03 (+9%)</td>\n",
       "                        <td id=\"T_2d885ae6_8d2b_11ea_a63d_acde48001122row53_col4\" class=\"data row53 col4\" >10.48 (-36%)</td>\n",
       "                        <td id=\"T_2d885ae6_8d2b_11ea_a63d_acde48001122row53_col5\" class=\"data row53 col5\" >35.40 (7)</td>\n",
       "                        <td id=\"T_2d885ae6_8d2b_11ea_a63d_acde48001122row53_col6\" class=\"data row53 col6\" >66.40 (40)</td>\n",
       "                        <td id=\"T_2d885ae6_8d2b_11ea_a63d_acde48001122row53_col7\" class=\"data row53 col7\" >73.80 (63)</td>\n",
       "                        <td id=\"T_2d885ae6_8d2b_11ea_a63d_acde48001122row53_col8\" class=\"data row53 col8\" >78.50 (78)</td>\n",
       "                        <td id=\"T_2d885ae6_8d2b_11ea_a63d_acde48001122row53_col9\" class=\"data row53 col9\" >100.00 (99)</td>\n",
       "            </tr>\n",
       "            <tr>\n",
       "                        <th id=\"T_2d885ae6_8d2b_11ea_a63d_acde48001122level0_row54\" class=\"row_heading level0 row54\" >ap_per</th>\n",
       "                        <td id=\"T_2d885ae6_8d2b_11ea_a63d_acde48001122row54_col0\" class=\"data row54 col0\" >105 (29%)</td>\n",
       "                        <td id=\"T_2d885ae6_8d2b_11ea_a63d_acde48001122row54_col1\" class=\"data row54 col1\" >0% (nan%)</td>\n",
       "                        <td id=\"T_2d885ae6_8d2b_11ea_a63d_acde48001122row54_col2\" class=\"data row54 col2\" >0.710746</td>\n",
       "                        <td id=\"T_2d885ae6_8d2b_11ea_a63d_acde48001122row54_col3\" class=\"data row54 col3\" >32.95 (+57%)</td>\n",
       "                        <td id=\"T_2d885ae6_8d2b_11ea_a63d_acde48001122row54_col4\" class=\"data row54 col4\" >5.30 (-68%)</td>\n",
       "                        <td id=\"T_2d885ae6_8d2b_11ea_a63d_acde48001122row54_col5\" class=\"data row54 col5\" >25.28 (60)</td>\n",
       "                        <td id=\"T_2d885ae6_8d2b_11ea_a63d_acde48001122row54_col6\" class=\"data row54 col6\" >28.74 (68)</td>\n",
       "                        <td id=\"T_2d885ae6_8d2b_11ea_a63d_acde48001122row54_col7\" class=\"data row54 col7\" >31.94 (77)</td>\n",
       "                        <td id=\"T_2d885ae6_8d2b_11ea_a63d_acde48001122row54_col8\" class=\"data row54 col8\" >35.94 (84)</td>\n",
       "                        <td id=\"T_2d885ae6_8d2b_11ea_a63d_acde48001122row54_col9\" class=\"data row54 col9\" >47.09 (93)</td>\n",
       "            </tr>\n",
       "            <tr>\n",
       "                        <th id=\"T_2d885ae6_8d2b_11ea_a63d_acde48001122level0_row55\" class=\"row_heading level0 row55\" >schoolyear</th>\n",
       "                        <td id=\"T_2d885ae6_8d2b_11ea_a63d_acde48001122row55_col0\" class=\"data row55 col0\" >105 (29%)</td>\n",
       "                        <td id=\"T_2d885ae6_8d2b_11ea_a63d_acde48001122row55_col1\" class=\"data row55 col1\" >0% (nan%)</td>\n",
       "                        <td id=\"T_2d885ae6_8d2b_11ea_a63d_acde48001122row55_col2\" class=\"data row55 col2\" >nan</td>\n",
       "                        <td id=\"T_2d885ae6_8d2b_11ea_a63d_acde48001122row55_col3\" class=\"data row55 col3\" >20,112,012.00 (+0%)</td>\n",
       "                        <td id=\"T_2d885ae6_8d2b_11ea_a63d_acde48001122row55_col4\" class=\"data row55 col4\" >0.00 (+nan%)</td>\n",
       "                        <td id=\"T_2d885ae6_8d2b_11ea_a63d_acde48001122row55_col5\" class=\"data row55 col5\" >20,112,012.00 (50)</td>\n",
       "                        <td id=\"T_2d885ae6_8d2b_11ea_a63d_acde48001122row55_col6\" class=\"data row55 col6\" >20,112,012.00 (50)</td>\n",
       "                        <td id=\"T_2d885ae6_8d2b_11ea_a63d_acde48001122row55_col7\" class=\"data row55 col7\" >20,112,012.00 (50)</td>\n",
       "                        <td id=\"T_2d885ae6_8d2b_11ea_a63d_acde48001122row55_col8\" class=\"data row55 col8\" >20,112,012.00 (50)</td>\n",
       "                        <td id=\"T_2d885ae6_8d2b_11ea_a63d_acde48001122row55_col9\" class=\"data row55 col9\" >20,112,012.00 (50)</td>\n",
       "            </tr>\n",
       "            <tr>\n",
       "                        <th id=\"T_2d885ae6_8d2b_11ea_a63d_acde48001122level0_row56\" class=\"row_heading level0 row56\" >fl_percent</th>\n",
       "                        <td id=\"T_2d885ae6_8d2b_11ea_a63d_acde48001122row56_col0\" class=\"data row56 col0\" >105 (29%)</td>\n",
       "                        <td id=\"T_2d885ae6_8d2b_11ea_a63d_acde48001122row56_col1\" class=\"data row56 col1\" >0% (nan%)</td>\n",
       "                        <td id=\"T_2d885ae6_8d2b_11ea_a63d_acde48001122row56_col2\" class=\"data row56 col2\" >nan</td>\n",
       "                        <td id=\"T_2d885ae6_8d2b_11ea_a63d_acde48001122row56_col3\" class=\"data row56 col3\" >0.00 (+nan%)</td>\n",
       "                        <td id=\"T_2d885ae6_8d2b_11ea_a63d_acde48001122row56_col4\" class=\"data row56 col4\" >0.00 (+nan%)</td>\n",
       "                        <td id=\"T_2d885ae6_8d2b_11ea_a63d_acde48001122row56_col5\" class=\"data row56 col5\" >0.00 (50)</td>\n",
       "                        <td id=\"T_2d885ae6_8d2b_11ea_a63d_acde48001122row56_col6\" class=\"data row56 col6\" >0.00 (50)</td>\n",
       "                        <td id=\"T_2d885ae6_8d2b_11ea_a63d_acde48001122row56_col7\" class=\"data row56 col7\" >0.00 (50)</td>\n",
       "                        <td id=\"T_2d885ae6_8d2b_11ea_a63d_acde48001122row56_col8\" class=\"data row56 col8\" >0.00 (50)</td>\n",
       "                        <td id=\"T_2d885ae6_8d2b_11ea_a63d_acde48001122row56_col9\" class=\"data row56 col9\" >0.00 (50)</td>\n",
       "            </tr>\n",
       "            <tr>\n",
       "                        <th id=\"T_2d885ae6_8d2b_11ea_a63d_acde48001122level0_row57\" class=\"row_heading level0 row57\" >grade_span_max</th>\n",
       "                        <td id=\"T_2d885ae6_8d2b_11ea_a63d_acde48001122row57_col0\" class=\"data row57 col0\" >105 (29%)</td>\n",
       "                        <td id=\"T_2d885ae6_8d2b_11ea_a63d_acde48001122row57_col1\" class=\"data row57 col1\" >0% (nan%)</td>\n",
       "                        <td id=\"T_2d885ae6_8d2b_11ea_a63d_acde48001122row57_col2\" class=\"data row57 col2\" >nan</td>\n",
       "                        <td id=\"T_2d885ae6_8d2b_11ea_a63d_acde48001122row57_col3\" class=\"data row57 col3\" >12.00 (+0%)</td>\n",
       "                        <td id=\"T_2d885ae6_8d2b_11ea_a63d_acde48001122row57_col4\" class=\"data row57 col4\" >0.00 (+nan%)</td>\n",
       "                        <td id=\"T_2d885ae6_8d2b_11ea_a63d_acde48001122row57_col5\" class=\"data row57 col5\" >12.00 (50)</td>\n",
       "                        <td id=\"T_2d885ae6_8d2b_11ea_a63d_acde48001122row57_col6\" class=\"data row57 col6\" >12.00 (50)</td>\n",
       "                        <td id=\"T_2d885ae6_8d2b_11ea_a63d_acde48001122row57_col7\" class=\"data row57 col7\" >12.00 (50)</td>\n",
       "                        <td id=\"T_2d885ae6_8d2b_11ea_a63d_acde48001122row57_col8\" class=\"data row57 col8\" >12.00 (50)</td>\n",
       "                        <td id=\"T_2d885ae6_8d2b_11ea_a63d_acde48001122row57_col9\" class=\"data row57 col9\" >12.00 (50)</td>\n",
       "            </tr>\n",
       "            <tr>\n",
       "                        <th id=\"T_2d885ae6_8d2b_11ea_a63d_acde48001122level0_row58\" class=\"row_heading level0 row58\" >expgrade_span_max</th>\n",
       "                        <td id=\"T_2d885ae6_8d2b_11ea_a63d_acde48001122row58_col0\" class=\"data row58 col0\" >105 (29%)</td>\n",
       "                        <td id=\"T_2d885ae6_8d2b_11ea_a63d_acde48001122row58_col1\" class=\"data row58 col1\" >0% (nan%)</td>\n",
       "                        <td id=\"T_2d885ae6_8d2b_11ea_a63d_acde48001122row58_col2\" class=\"data row58 col2\" >nan</td>\n",
       "                        <td id=\"T_2d885ae6_8d2b_11ea_a63d_acde48001122row58_col3\" class=\"data row58 col3\" >12.00 (+0%)</td>\n",
       "                        <td id=\"T_2d885ae6_8d2b_11ea_a63d_acde48001122row58_col4\" class=\"data row58 col4\" >0.00 (+nan%)</td>\n",
       "                        <td id=\"T_2d885ae6_8d2b_11ea_a63d_acde48001122row58_col5\" class=\"data row58 col5\" >12.00 (50)</td>\n",
       "                        <td id=\"T_2d885ae6_8d2b_11ea_a63d_acde48001122row58_col6\" class=\"data row58 col6\" >12.00 (50)</td>\n",
       "                        <td id=\"T_2d885ae6_8d2b_11ea_a63d_acde48001122row58_col7\" class=\"data row58 col7\" >12.00 (50)</td>\n",
       "                        <td id=\"T_2d885ae6_8d2b_11ea_a63d_acde48001122row58_col8\" class=\"data row58 col8\" >12.00 (50)</td>\n",
       "                        <td id=\"T_2d885ae6_8d2b_11ea_a63d_acde48001122row58_col9\" class=\"data row58 col9\" >12.00 (50)</td>\n",
       "            </tr>\n",
       "            <tr>\n",
       "                        <th id=\"T_2d885ae6_8d2b_11ea_a63d_acde48001122level0_row59\" class=\"row_heading level0 row59\" >priority08</th>\n",
       "                        <td id=\"T_2d885ae6_8d2b_11ea_a63d_acde48001122row59_col0\" class=\"data row59 col0\" >105 (29%)</td>\n",
       "                        <td id=\"T_2d885ae6_8d2b_11ea_a63d_acde48001122row59_col1\" class=\"data row59 col1\" >0% (nan%)</td>\n",
       "                        <td id=\"T_2d885ae6_8d2b_11ea_a63d_acde48001122row59_col2\" class=\"data row59 col2\" >nan</td>\n",
       "                        <td id=\"T_2d885ae6_8d2b_11ea_a63d_acde48001122row59_col3\" class=\"data row59 col3\" >0.00 (+nan%)</td>\n",
       "                        <td id=\"T_2d885ae6_8d2b_11ea_a63d_acde48001122row59_col4\" class=\"data row59 col4\" >0.00 (+nan%)</td>\n",
       "                        <td id=\"T_2d885ae6_8d2b_11ea_a63d_acde48001122row59_col5\" class=\"data row59 col5\" >0.00 (50)</td>\n",
       "                        <td id=\"T_2d885ae6_8d2b_11ea_a63d_acde48001122row59_col6\" class=\"data row59 col6\" >0.00 (50)</td>\n",
       "                        <td id=\"T_2d885ae6_8d2b_11ea_a63d_acde48001122row59_col7\" class=\"data row59 col7\" >0.00 (50)</td>\n",
       "                        <td id=\"T_2d885ae6_8d2b_11ea_a63d_acde48001122row59_col8\" class=\"data row59 col8\" >0.00 (50)</td>\n",
       "                        <td id=\"T_2d885ae6_8d2b_11ea_a63d_acde48001122row59_col9\" class=\"data row59 col9\" >0.00 (50)</td>\n",
       "            </tr>\n",
       "            <tr>\n",
       "                        <th id=\"T_2d885ae6_8d2b_11ea_a63d_acde48001122level0_row60\" class=\"row_heading level0 row60\" >priority09</th>\n",
       "                        <td id=\"T_2d885ae6_8d2b_11ea_a63d_acde48001122row60_col0\" class=\"data row60 col0\" >105 (29%)</td>\n",
       "                        <td id=\"T_2d885ae6_8d2b_11ea_a63d_acde48001122row60_col1\" class=\"data row60 col1\" >0% (nan%)</td>\n",
       "                        <td id=\"T_2d885ae6_8d2b_11ea_a63d_acde48001122row60_col2\" class=\"data row60 col2\" >nan</td>\n",
       "                        <td id=\"T_2d885ae6_8d2b_11ea_a63d_acde48001122row60_col3\" class=\"data row60 col3\" >0.00 (+nan%)</td>\n",
       "                        <td id=\"T_2d885ae6_8d2b_11ea_a63d_acde48001122row60_col4\" class=\"data row60 col4\" >0.00 (+nan%)</td>\n",
       "                        <td id=\"T_2d885ae6_8d2b_11ea_a63d_acde48001122row60_col5\" class=\"data row60 col5\" >0.00 (50)</td>\n",
       "                        <td id=\"T_2d885ae6_8d2b_11ea_a63d_acde48001122row60_col6\" class=\"data row60 col6\" >0.00 (50)</td>\n",
       "                        <td id=\"T_2d885ae6_8d2b_11ea_a63d_acde48001122row60_col7\" class=\"data row60 col7\" >0.00 (50)</td>\n",
       "                        <td id=\"T_2d885ae6_8d2b_11ea_a63d_acde48001122row60_col8\" class=\"data row60 col8\" >0.00 (50)</td>\n",
       "                        <td id=\"T_2d885ae6_8d2b_11ea_a63d_acde48001122row60_col9\" class=\"data row60 col9\" >0.00 (50)</td>\n",
       "            </tr>\n",
       "            <tr>\n",
       "                        <th id=\"T_2d885ae6_8d2b_11ea_a63d_acde48001122level0_row61\" class=\"row_heading level0 row61\" >priority10</th>\n",
       "                        <td id=\"T_2d885ae6_8d2b_11ea_a63d_acde48001122row61_col0\" class=\"data row61 col0\" >105 (29%)</td>\n",
       "                        <td id=\"T_2d885ae6_8d2b_11ea_a63d_acde48001122row61_col1\" class=\"data row61 col1\" >0% (nan%)</td>\n",
       "                        <td id=\"T_2d885ae6_8d2b_11ea_a63d_acde48001122row61_col2\" class=\"data row61 col2\" >nan</td>\n",
       "                        <td id=\"T_2d885ae6_8d2b_11ea_a63d_acde48001122row61_col3\" class=\"data row61 col3\" >0.00 (+nan%)</td>\n",
       "                        <td id=\"T_2d885ae6_8d2b_11ea_a63d_acde48001122row61_col4\" class=\"data row61 col4\" >0.00 (+nan%)</td>\n",
       "                        <td id=\"T_2d885ae6_8d2b_11ea_a63d_acde48001122row61_col5\" class=\"data row61 col5\" >0.00 (50)</td>\n",
       "                        <td id=\"T_2d885ae6_8d2b_11ea_a63d_acde48001122row61_col6\" class=\"data row61 col6\" >0.00 (50)</td>\n",
       "                        <td id=\"T_2d885ae6_8d2b_11ea_a63d_acde48001122row61_col7\" class=\"data row61 col7\" >0.00 (50)</td>\n",
       "                        <td id=\"T_2d885ae6_8d2b_11ea_a63d_acde48001122row61_col8\" class=\"data row61 col8\" >0.00 (50)</td>\n",
       "                        <td id=\"T_2d885ae6_8d2b_11ea_a63d_acde48001122row61_col9\" class=\"data row61 col9\" >0.00 (50)</td>\n",
       "            </tr>\n",
       "    </tbody></table>"
      ],
      "text/plain": [
       "<pandas.io.formats.style.Styler at 0x12dbeb5b0>"
      ]
     },
     "execution_count": 17,
     "metadata": {},
     "output_type": "execute_result"
    }
   ],
   "source": [
    "# select only schools with high (but not extremely high) shares of AP test takers and low SAT scores\n",
    "high_ap_low_sat = combined[(combined[\"ap_per\"]>25)&\n",
    "                           (combined[\"ap_per\"]<50)&\n",
    "                           (combined[\"sat_score\"]<1300)]\n",
    "describe_plus(combined,subset=high_ap_low_sat,output=\"sorted\")"
   ]
  },
  {
   "cell_type": "markdown",
   "metadata": {},
   "source": [
    "The schools with above average shares of AP-test takers and low SAT scores achieve poor results across all three parts of the SAT (negative z-score) - writing being least below average.\n",
    "\n",
    "Other noteworthy characteristics these schools have compared to NYC averages are:\n",
    "+ smaller class sizes and smaller schools (total_enrollment)\n",
    "+ higher shares of students receiving free lunch (frl_per)\n",
    "+ higher share of special education students (sped_per)\n",
    "+ higher shares of hispanic and especially black students (black_per, hispanic_per)"
   ]
  },
  {
   "cell_type": "code",
   "execution_count": 18,
   "metadata": {
    "ExecuteTime": {
     "end_time": "2020-05-03T10:45:18.472423Z",
     "start_time": "2020-05-03T10:45:17.550037Z"
    },
    "code_folding": [],
    "scrolled": true
   },
   "outputs": [
    {
     "name": "stdout",
     "output_type": "stream",
     "text": [
      "results not shown in final doc to conserve vertical space\n"
     ]
    }
   ],
   "source": [
    "# investigating non-numeric features\n",
    "pd.set_option(\"display.max_rows\", 95)\n",
    "describe_plus(high_ap_low_sat,output=\"non_num\")[:9].transpose().head()\n",
    "# describe_plus(subset,output=\"non_num\")\n",
    "print(\"results not shown in final doc to conserve vertical space\")"
   ]
  },
  {
   "cell_type": "markdown",
   "metadata": {},
   "source": [
    "For the subset with low average SAT scores but above AP-shares, \"advancedplacement_courses\" are very often \"English Literature...\" or \"English Language and Composition\". <br>\n",
    "I am surprised that these courses did not prepare students better in reading and writing. Let's look at what schools with high SAT score do differently in terms of AP courses they offer to students."
   ]
  },
  {
   "cell_type": "code",
   "execution_count": 19,
   "metadata": {
    "ExecuteTime": {
     "end_time": "2020-05-03T10:45:18.734619Z",
     "start_time": "2020-05-03T10:45:18.474512Z"
    },
    "code_folding": [],
    "scrolled": false
   },
   "outputs": [
    {
     "data": {
      "application/vnd.plotly.v1+json": {
       "config": {
        "linkText": "Export to plot.ly",
        "plotlyServerURL": "https://plot.ly",
        "showLink": true
       },
       "data": [
        {
         "marker": {
          "color": "rgba(255, 153, 51, 0.6)",
          "line": {
           "color": "rgba(255, 153, 51, 1.0)",
           "width": 1
          }
         },
         "name": "High AP, low SAT",
         "orientation": "v",
         "text": "",
         "type": "bar",
         "x": [
          "Human Geography",
          "Macroeconomics",
          "Music Theory",
          "Calculus BC",
          "Chinese Language and Culture",
          "Physics C: Electricity and Magnetism",
          "European History",
          "Microeconomics",
          "Comparative Government and Politics",
          "Physics B",
          "Computer Science A",
          "French Language and Culture",
          "Art History",
          "Studio Art: Drawing",
          "Statistics",
          "Psychology",
          "Spanish Literature and Culture",
          "Environmental Science",
          "Chemistry",
          "World History",
          "Spanish Language and Culture",
          "United States Government and Politics",
          "Biology",
          "English Language and Composition",
          "Calculus AB",
          "United States History",
          "English Literature and Composition",
          "German Language and Culture",
          "Japanese Language and Culture",
          "Physics C: Mechanics",
          "Studio Art: 3-D Design",
          "Studio Art: 2-D Design",
          "Italian Language and Culture"
         ],
         "y": [
          0.4,
          0.4,
          0.4,
          0.4,
          0.4,
          0.4,
          0.4,
          0.8,
          0.8,
          0.8,
          0.8,
          0.8,
          1.2,
          1.6,
          2.4,
          2.8000000000000003,
          3.2,
          3.2,
          3.2,
          4.3999999999999995,
          6,
          6,
          6.800000000000001,
          10,
          11.200000000000001,
          14.799999999999999,
          16.400000000000002,
          "",
          "",
          "",
          "",
          "",
          ""
         ]
        },
        {
         "marker": {
          "color": "rgba(55, 128, 191, 0.6)",
          "line": {
           "color": "rgba(55, 128, 191, 1.0)",
           "width": 1
          }
         },
         "name": "High AP, high SAT",
         "orientation": "v",
         "text": "",
         "type": "bar",
         "x": [
          "Human Geography",
          "Macroeconomics",
          "Music Theory",
          "Calculus BC",
          "Chinese Language and Culture",
          "Physics C: Electricity and Magnetism",
          "European History",
          "Microeconomics",
          "Comparative Government and Politics",
          "Physics B",
          "Computer Science A",
          "French Language and Culture",
          "Art History",
          "Studio Art: Drawing",
          "Statistics",
          "Psychology",
          "Spanish Literature and Culture",
          "Environmental Science",
          "Chemistry",
          "World History",
          "Spanish Language and Culture",
          "United States Government and Politics",
          "Biology",
          "English Language and Composition",
          "Calculus AB",
          "United States History",
          "English Literature and Composition",
          "German Language and Culture",
          "Japanese Language and Culture",
          "Physics C: Mechanics",
          "Studio Art: 3-D Design",
          "Studio Art: 2-D Design",
          "Italian Language and Culture"
         ],
         "y": [
          1.7045454545454544,
          2.840909090909091,
          2.272727272727273,
          4.545454545454546,
          1.7045454545454544,
          2.272727272727273,
          2.840909090909091,
          2.272727272727273,
          3.4090909090909087,
          2.840909090909091,
          2.272727272727273,
          2.272727272727273,
          1.7045454545454544,
          1.7045454545454544,
          4.545454545454546,
          2.840909090909091,
          2.272727272727273,
          2.272727272727273,
          4.545454545454546,
          4.545454545454546,
          3.4090909090909087,
          3.977272727272727,
          5.113636363636364,
          3.4090909090909087,
          5.113636363636364,
          5.681818181818182,
          6.25,
          0.5681818181818182,
          1.7045454545454544,
          2.272727272727273,
          2.272727272727273,
          2.272727272727273,
          2.272727272727273
         ]
        }
       ],
       "layout": {
        "height": 600,
        "hovermode": "x",
        "template": {
         "data": {
          "bar": [
           {
            "error_x": {
             "color": "#2a3f5f"
            },
            "error_y": {
             "color": "#2a3f5f"
            },
            "marker": {
             "line": {
              "color": "#E5ECF6",
              "width": 0.5
             }
            },
            "type": "bar"
           }
          ],
          "barpolar": [
           {
            "marker": {
             "line": {
              "color": "#E5ECF6",
              "width": 0.5
             }
            },
            "type": "barpolar"
           }
          ],
          "carpet": [
           {
            "aaxis": {
             "endlinecolor": "#2a3f5f",
             "gridcolor": "white",
             "linecolor": "white",
             "minorgridcolor": "white",
             "startlinecolor": "#2a3f5f"
            },
            "baxis": {
             "endlinecolor": "#2a3f5f",
             "gridcolor": "white",
             "linecolor": "white",
             "minorgridcolor": "white",
             "startlinecolor": "#2a3f5f"
            },
            "type": "carpet"
           }
          ],
          "choropleth": [
           {
            "colorbar": {
             "outlinewidth": 0,
             "ticks": ""
            },
            "type": "choropleth"
           }
          ],
          "contour": [
           {
            "colorbar": {
             "outlinewidth": 0,
             "ticks": ""
            },
            "colorscale": [
             [
              0,
              "#0d0887"
             ],
             [
              0.1111111111111111,
              "#46039f"
             ],
             [
              0.2222222222222222,
              "#7201a8"
             ],
             [
              0.3333333333333333,
              "#9c179e"
             ],
             [
              0.4444444444444444,
              "#bd3786"
             ],
             [
              0.5555555555555556,
              "#d8576b"
             ],
             [
              0.6666666666666666,
              "#ed7953"
             ],
             [
              0.7777777777777778,
              "#fb9f3a"
             ],
             [
              0.8888888888888888,
              "#fdca26"
             ],
             [
              1,
              "#f0f921"
             ]
            ],
            "type": "contour"
           }
          ],
          "contourcarpet": [
           {
            "colorbar": {
             "outlinewidth": 0,
             "ticks": ""
            },
            "type": "contourcarpet"
           }
          ],
          "heatmap": [
           {
            "colorbar": {
             "outlinewidth": 0,
             "ticks": ""
            },
            "colorscale": [
             [
              0,
              "#0d0887"
             ],
             [
              0.1111111111111111,
              "#46039f"
             ],
             [
              0.2222222222222222,
              "#7201a8"
             ],
             [
              0.3333333333333333,
              "#9c179e"
             ],
             [
              0.4444444444444444,
              "#bd3786"
             ],
             [
              0.5555555555555556,
              "#d8576b"
             ],
             [
              0.6666666666666666,
              "#ed7953"
             ],
             [
              0.7777777777777778,
              "#fb9f3a"
             ],
             [
              0.8888888888888888,
              "#fdca26"
             ],
             [
              1,
              "#f0f921"
             ]
            ],
            "type": "heatmap"
           }
          ],
          "heatmapgl": [
           {
            "colorbar": {
             "outlinewidth": 0,
             "ticks": ""
            },
            "colorscale": [
             [
              0,
              "#0d0887"
             ],
             [
              0.1111111111111111,
              "#46039f"
             ],
             [
              0.2222222222222222,
              "#7201a8"
             ],
             [
              0.3333333333333333,
              "#9c179e"
             ],
             [
              0.4444444444444444,
              "#bd3786"
             ],
             [
              0.5555555555555556,
              "#d8576b"
             ],
             [
              0.6666666666666666,
              "#ed7953"
             ],
             [
              0.7777777777777778,
              "#fb9f3a"
             ],
             [
              0.8888888888888888,
              "#fdca26"
             ],
             [
              1,
              "#f0f921"
             ]
            ],
            "type": "heatmapgl"
           }
          ],
          "histogram": [
           {
            "marker": {
             "colorbar": {
              "outlinewidth": 0,
              "ticks": ""
             }
            },
            "type": "histogram"
           }
          ],
          "histogram2d": [
           {
            "colorbar": {
             "outlinewidth": 0,
             "ticks": ""
            },
            "colorscale": [
             [
              0,
              "#0d0887"
             ],
             [
              0.1111111111111111,
              "#46039f"
             ],
             [
              0.2222222222222222,
              "#7201a8"
             ],
             [
              0.3333333333333333,
              "#9c179e"
             ],
             [
              0.4444444444444444,
              "#bd3786"
             ],
             [
              0.5555555555555556,
              "#d8576b"
             ],
             [
              0.6666666666666666,
              "#ed7953"
             ],
             [
              0.7777777777777778,
              "#fb9f3a"
             ],
             [
              0.8888888888888888,
              "#fdca26"
             ],
             [
              1,
              "#f0f921"
             ]
            ],
            "type": "histogram2d"
           }
          ],
          "histogram2dcontour": [
           {
            "colorbar": {
             "outlinewidth": 0,
             "ticks": ""
            },
            "colorscale": [
             [
              0,
              "#0d0887"
             ],
             [
              0.1111111111111111,
              "#46039f"
             ],
             [
              0.2222222222222222,
              "#7201a8"
             ],
             [
              0.3333333333333333,
              "#9c179e"
             ],
             [
              0.4444444444444444,
              "#bd3786"
             ],
             [
              0.5555555555555556,
              "#d8576b"
             ],
             [
              0.6666666666666666,
              "#ed7953"
             ],
             [
              0.7777777777777778,
              "#fb9f3a"
             ],
             [
              0.8888888888888888,
              "#fdca26"
             ],
             [
              1,
              "#f0f921"
             ]
            ],
            "type": "histogram2dcontour"
           }
          ],
          "mesh3d": [
           {
            "colorbar": {
             "outlinewidth": 0,
             "ticks": ""
            },
            "type": "mesh3d"
           }
          ],
          "parcoords": [
           {
            "line": {
             "colorbar": {
              "outlinewidth": 0,
              "ticks": ""
             }
            },
            "type": "parcoords"
           }
          ],
          "pie": [
           {
            "automargin": true,
            "type": "pie"
           }
          ],
          "scatter": [
           {
            "marker": {
             "colorbar": {
              "outlinewidth": 0,
              "ticks": ""
             }
            },
            "type": "scatter"
           }
          ],
          "scatter3d": [
           {
            "line": {
             "colorbar": {
              "outlinewidth": 0,
              "ticks": ""
             }
            },
            "marker": {
             "colorbar": {
              "outlinewidth": 0,
              "ticks": ""
             }
            },
            "type": "scatter3d"
           }
          ],
          "scattercarpet": [
           {
            "marker": {
             "colorbar": {
              "outlinewidth": 0,
              "ticks": ""
             }
            },
            "type": "scattercarpet"
           }
          ],
          "scattergeo": [
           {
            "marker": {
             "colorbar": {
              "outlinewidth": 0,
              "ticks": ""
             }
            },
            "type": "scattergeo"
           }
          ],
          "scattergl": [
           {
            "marker": {
             "colorbar": {
              "outlinewidth": 0,
              "ticks": ""
             }
            },
            "type": "scattergl"
           }
          ],
          "scattermapbox": [
           {
            "marker": {
             "colorbar": {
              "outlinewidth": 0,
              "ticks": ""
             }
            },
            "type": "scattermapbox"
           }
          ],
          "scatterpolar": [
           {
            "marker": {
             "colorbar": {
              "outlinewidth": 0,
              "ticks": ""
             }
            },
            "type": "scatterpolar"
           }
          ],
          "scatterpolargl": [
           {
            "marker": {
             "colorbar": {
              "outlinewidth": 0,
              "ticks": ""
             }
            },
            "type": "scatterpolargl"
           }
          ],
          "scatterternary": [
           {
            "marker": {
             "colorbar": {
              "outlinewidth": 0,
              "ticks": ""
             }
            },
            "type": "scatterternary"
           }
          ],
          "surface": [
           {
            "colorbar": {
             "outlinewidth": 0,
             "ticks": ""
            },
            "colorscale": [
             [
              0,
              "#0d0887"
             ],
             [
              0.1111111111111111,
              "#46039f"
             ],
             [
              0.2222222222222222,
              "#7201a8"
             ],
             [
              0.3333333333333333,
              "#9c179e"
             ],
             [
              0.4444444444444444,
              "#bd3786"
             ],
             [
              0.5555555555555556,
              "#d8576b"
             ],
             [
              0.6666666666666666,
              "#ed7953"
             ],
             [
              0.7777777777777778,
              "#fb9f3a"
             ],
             [
              0.8888888888888888,
              "#fdca26"
             ],
             [
              1,
              "#f0f921"
             ]
            ],
            "type": "surface"
           }
          ],
          "table": [
           {
            "cells": {
             "fill": {
              "color": "#EBF0F8"
             },
             "line": {
              "color": "white"
             }
            },
            "header": {
             "fill": {
              "color": "#C8D4E3"
             },
             "line": {
              "color": "white"
             }
            },
            "type": "table"
           }
          ]
         },
         "layout": {
          "annotationdefaults": {
           "arrowcolor": "#2a3f5f",
           "arrowhead": 0,
           "arrowwidth": 1
          },
          "coloraxis": {
           "colorbar": {
            "outlinewidth": 0,
            "ticks": ""
           }
          },
          "colorscale": {
           "diverging": [
            [
             0,
             "#8e0152"
            ],
            [
             0.1,
             "#c51b7d"
            ],
            [
             0.2,
             "#de77ae"
            ],
            [
             0.3,
             "#f1b6da"
            ],
            [
             0.4,
             "#fde0ef"
            ],
            [
             0.5,
             "#f7f7f7"
            ],
            [
             0.6,
             "#e6f5d0"
            ],
            [
             0.7,
             "#b8e186"
            ],
            [
             0.8,
             "#7fbc41"
            ],
            [
             0.9,
             "#4d9221"
            ],
            [
             1,
             "#276419"
            ]
           ],
           "sequential": [
            [
             0,
             "#0d0887"
            ],
            [
             0.1111111111111111,
             "#46039f"
            ],
            [
             0.2222222222222222,
             "#7201a8"
            ],
            [
             0.3333333333333333,
             "#9c179e"
            ],
            [
             0.4444444444444444,
             "#bd3786"
            ],
            [
             0.5555555555555556,
             "#d8576b"
            ],
            [
             0.6666666666666666,
             "#ed7953"
            ],
            [
             0.7777777777777778,
             "#fb9f3a"
            ],
            [
             0.8888888888888888,
             "#fdca26"
            ],
            [
             1,
             "#f0f921"
            ]
           ],
           "sequentialminus": [
            [
             0,
             "#0d0887"
            ],
            [
             0.1111111111111111,
             "#46039f"
            ],
            [
             0.2222222222222222,
             "#7201a8"
            ],
            [
             0.3333333333333333,
             "#9c179e"
            ],
            [
             0.4444444444444444,
             "#bd3786"
            ],
            [
             0.5555555555555556,
             "#d8576b"
            ],
            [
             0.6666666666666666,
             "#ed7953"
            ],
            [
             0.7777777777777778,
             "#fb9f3a"
            ],
            [
             0.8888888888888888,
             "#fdca26"
            ],
            [
             1,
             "#f0f921"
            ]
           ]
          },
          "colorway": [
           "#636efa",
           "#EF553B",
           "#00cc96",
           "#ab63fa",
           "#FFA15A",
           "#19d3f3",
           "#FF6692",
           "#B6E880",
           "#FF97FF",
           "#FECB52"
          ],
          "font": {
           "color": "#2a3f5f"
          },
          "geo": {
           "bgcolor": "white",
           "lakecolor": "white",
           "landcolor": "#E5ECF6",
           "showlakes": true,
           "showland": true,
           "subunitcolor": "white"
          },
          "hoverlabel": {
           "align": "left"
          },
          "hovermode": "closest",
          "mapbox": {
           "style": "light"
          },
          "paper_bgcolor": "white",
          "plot_bgcolor": "#E5ECF6",
          "polar": {
           "angularaxis": {
            "gridcolor": "white",
            "linecolor": "white",
            "ticks": ""
           },
           "bgcolor": "#E5ECF6",
           "radialaxis": {
            "gridcolor": "white",
            "linecolor": "white",
            "ticks": ""
           }
          },
          "scene": {
           "xaxis": {
            "backgroundcolor": "#E5ECF6",
            "gridcolor": "white",
            "gridwidth": 2,
            "linecolor": "white",
            "showbackground": true,
            "ticks": "",
            "zerolinecolor": "white"
           },
           "yaxis": {
            "backgroundcolor": "#E5ECF6",
            "gridcolor": "white",
            "gridwidth": 2,
            "linecolor": "white",
            "showbackground": true,
            "ticks": "",
            "zerolinecolor": "white"
           },
           "zaxis": {
            "backgroundcolor": "#E5ECF6",
            "gridcolor": "white",
            "gridwidth": 2,
            "linecolor": "white",
            "showbackground": true,
            "ticks": "",
            "zerolinecolor": "white"
           }
          },
          "shapedefaults": {
           "line": {
            "color": "#2a3f5f"
           }
          },
          "ternary": {
           "aaxis": {
            "gridcolor": "white",
            "linecolor": "white",
            "ticks": ""
           },
           "baxis": {
            "gridcolor": "white",
            "linecolor": "white",
            "ticks": ""
           },
           "bgcolor": "#E5ECF6",
           "caxis": {
            "gridcolor": "white",
            "linecolor": "white",
            "ticks": ""
           }
          },
          "title": {
           "x": 0.05
          },
          "xaxis": {
           "automargin": true,
           "gridcolor": "white",
           "linecolor": "white",
           "ticks": "",
           "title": {
            "standoff": 15
           },
           "zerolinecolor": "white",
           "zerolinewidth": 2
          },
          "yaxis": {
           "automargin": true,
           "gridcolor": "white",
           "linecolor": "white",
           "ticks": "",
           "title": {
            "standoff": 15
           },
           "zerolinecolor": "white",
           "zerolinewidth": 2
          }
         }
        },
        "title": {
         "text": "AP classes by schol types, normalized count in %"
        },
        "xaxis": {
         "automargin": true
        }
       }
      },
      "text/html": [
       "<div>\n",
       "        \n",
       "        \n",
       "            <div id=\"8c84ee24-2b38-4862-8344-0a6c312aac3a\" class=\"plotly-graph-div\" style=\"height:600px; width:100%;\"></div>\n",
       "            <script type=\"text/javascript\">\n",
       "                require([\"plotly\"], function(Plotly) {\n",
       "                    window.PLOTLYENV=window.PLOTLYENV || {};\n",
       "                    window.PLOTLYENV.BASE_URL='https://plot.ly';\n",
       "                    \n",
       "                if (document.getElementById(\"8c84ee24-2b38-4862-8344-0a6c312aac3a\")) {\n",
       "                    Plotly.newPlot(\n",
       "                        '8c84ee24-2b38-4862-8344-0a6c312aac3a',\n",
       "                        [{\"marker\": {\"color\": \"rgba(255, 153, 51, 0.6)\", \"line\": {\"color\": \"rgba(255, 153, 51, 1.0)\", \"width\": 1}}, \"name\": \"High AP, low SAT\", \"orientation\": \"v\", \"text\": \"\", \"type\": \"bar\", \"x\": [\"Human Geography\", \"Macroeconomics\", \"Music Theory\", \"Calculus BC\", \"Chinese Language and Culture\", \"Physics C: Electricity and Magnetism\", \"European History\", \"Microeconomics\", \"Comparative Government and Politics\", \"Physics B\", \"Computer Science A\", \"French Language and Culture\", \"Art History\", \"Studio Art: Drawing\", \"Statistics\", \"Psychology\", \"Spanish Literature and Culture\", \"Environmental Science\", \"Chemistry\", \"World History\", \"Spanish Language and Culture\", \"United States Government and Politics\", \"Biology\", \"English Language and Composition\", \"Calculus AB\", \"United States History\", \"English Literature and Composition\", \"German Language and Culture\", \"Japanese Language and Culture\", \"Physics C: Mechanics\", \"Studio Art: 3-D Design\", \"Studio Art: 2-D Design\", \"Italian Language and Culture\"], \"y\": [0.4, 0.4, 0.4, 0.4, 0.4, 0.4, 0.4, 0.8, 0.8, 0.8, 0.8, 0.8, 1.2, 1.6, 2.4, 2.8000000000000003, 3.2, 3.2, 3.2, 4.3999999999999995, 6.0, 6.0, 6.800000000000001, 10.0, 11.200000000000001, 14.799999999999999, 16.400000000000002, \"\", \"\", \"\", \"\", \"\", \"\"]}, {\"marker\": {\"color\": \"rgba(55, 128, 191, 0.6)\", \"line\": {\"color\": \"rgba(55, 128, 191, 1.0)\", \"width\": 1}}, \"name\": \"High AP, high SAT\", \"orientation\": \"v\", \"text\": \"\", \"type\": \"bar\", \"x\": [\"Human Geography\", \"Macroeconomics\", \"Music Theory\", \"Calculus BC\", \"Chinese Language and Culture\", \"Physics C: Electricity and Magnetism\", \"European History\", \"Microeconomics\", \"Comparative Government and Politics\", \"Physics B\", \"Computer Science A\", \"French Language and Culture\", \"Art History\", \"Studio Art: Drawing\", \"Statistics\", \"Psychology\", \"Spanish Literature and Culture\", \"Environmental Science\", \"Chemistry\", \"World History\", \"Spanish Language and Culture\", \"United States Government and Politics\", \"Biology\", \"English Language and Composition\", \"Calculus AB\", \"United States History\", \"English Literature and Composition\", \"German Language and Culture\", \"Japanese Language and Culture\", \"Physics C: Mechanics\", \"Studio Art: 3-D Design\", \"Studio Art: 2-D Design\", \"Italian Language and Culture\"], \"y\": [1.7045454545454544, 2.840909090909091, 2.272727272727273, 4.545454545454546, 1.7045454545454544, 2.272727272727273, 2.840909090909091, 2.272727272727273, 3.4090909090909087, 2.840909090909091, 2.272727272727273, 2.272727272727273, 1.7045454545454544, 1.7045454545454544, 4.545454545454546, 2.840909090909091, 2.272727272727273, 2.272727272727273, 4.545454545454546, 4.545454545454546, 3.4090909090909087, 3.977272727272727, 5.113636363636364, 3.4090909090909087, 5.113636363636364, 5.681818181818182, 6.25, 0.5681818181818182, 1.7045454545454544, 2.272727272727273, 2.272727272727273, 2.272727272727273, 2.272727272727273]}],\n",
       "                        {\"height\": 600, \"hovermode\": \"x\", \"template\": {\"data\": {\"bar\": [{\"error_x\": {\"color\": \"#2a3f5f\"}, \"error_y\": {\"color\": \"#2a3f5f\"}, \"marker\": {\"line\": {\"color\": \"#E5ECF6\", \"width\": 0.5}}, \"type\": \"bar\"}], \"barpolar\": [{\"marker\": {\"line\": {\"color\": \"#E5ECF6\", \"width\": 0.5}}, \"type\": \"barpolar\"}], \"carpet\": [{\"aaxis\": {\"endlinecolor\": \"#2a3f5f\", \"gridcolor\": \"white\", \"linecolor\": \"white\", \"minorgridcolor\": \"white\", \"startlinecolor\": \"#2a3f5f\"}, \"baxis\": {\"endlinecolor\": \"#2a3f5f\", \"gridcolor\": \"white\", \"linecolor\": \"white\", \"minorgridcolor\": \"white\", \"startlinecolor\": \"#2a3f5f\"}, \"type\": \"carpet\"}], \"choropleth\": [{\"colorbar\": {\"outlinewidth\": 0, \"ticks\": \"\"}, \"type\": \"choropleth\"}], \"contour\": [{\"colorbar\": {\"outlinewidth\": 0, \"ticks\": \"\"}, \"colorscale\": [[0.0, \"#0d0887\"], [0.1111111111111111, \"#46039f\"], [0.2222222222222222, \"#7201a8\"], [0.3333333333333333, \"#9c179e\"], [0.4444444444444444, \"#bd3786\"], [0.5555555555555556, \"#d8576b\"], [0.6666666666666666, \"#ed7953\"], [0.7777777777777778, \"#fb9f3a\"], [0.8888888888888888, \"#fdca26\"], [1.0, \"#f0f921\"]], \"type\": \"contour\"}], \"contourcarpet\": [{\"colorbar\": {\"outlinewidth\": 0, \"ticks\": \"\"}, \"type\": \"contourcarpet\"}], \"heatmap\": [{\"colorbar\": {\"outlinewidth\": 0, \"ticks\": \"\"}, \"colorscale\": [[0.0, \"#0d0887\"], [0.1111111111111111, \"#46039f\"], [0.2222222222222222, \"#7201a8\"], [0.3333333333333333, \"#9c179e\"], [0.4444444444444444, \"#bd3786\"], [0.5555555555555556, \"#d8576b\"], [0.6666666666666666, \"#ed7953\"], [0.7777777777777778, \"#fb9f3a\"], [0.8888888888888888, \"#fdca26\"], [1.0, \"#f0f921\"]], \"type\": \"heatmap\"}], \"heatmapgl\": [{\"colorbar\": {\"outlinewidth\": 0, \"ticks\": \"\"}, \"colorscale\": [[0.0, \"#0d0887\"], [0.1111111111111111, \"#46039f\"], [0.2222222222222222, \"#7201a8\"], [0.3333333333333333, \"#9c179e\"], [0.4444444444444444, \"#bd3786\"], [0.5555555555555556, \"#d8576b\"], [0.6666666666666666, \"#ed7953\"], [0.7777777777777778, \"#fb9f3a\"], [0.8888888888888888, \"#fdca26\"], [1.0, \"#f0f921\"]], \"type\": \"heatmapgl\"}], \"histogram\": [{\"marker\": {\"colorbar\": {\"outlinewidth\": 0, \"ticks\": \"\"}}, \"type\": \"histogram\"}], \"histogram2d\": [{\"colorbar\": {\"outlinewidth\": 0, \"ticks\": \"\"}, \"colorscale\": [[0.0, \"#0d0887\"], [0.1111111111111111, \"#46039f\"], [0.2222222222222222, \"#7201a8\"], [0.3333333333333333, \"#9c179e\"], [0.4444444444444444, \"#bd3786\"], [0.5555555555555556, \"#d8576b\"], [0.6666666666666666, \"#ed7953\"], [0.7777777777777778, \"#fb9f3a\"], [0.8888888888888888, \"#fdca26\"], [1.0, \"#f0f921\"]], \"type\": \"histogram2d\"}], \"histogram2dcontour\": [{\"colorbar\": {\"outlinewidth\": 0, \"ticks\": \"\"}, \"colorscale\": [[0.0, \"#0d0887\"], [0.1111111111111111, \"#46039f\"], [0.2222222222222222, \"#7201a8\"], [0.3333333333333333, \"#9c179e\"], [0.4444444444444444, \"#bd3786\"], [0.5555555555555556, \"#d8576b\"], [0.6666666666666666, \"#ed7953\"], [0.7777777777777778, \"#fb9f3a\"], [0.8888888888888888, \"#fdca26\"], [1.0, \"#f0f921\"]], \"type\": \"histogram2dcontour\"}], \"mesh3d\": [{\"colorbar\": {\"outlinewidth\": 0, \"ticks\": \"\"}, \"type\": \"mesh3d\"}], \"parcoords\": [{\"line\": {\"colorbar\": {\"outlinewidth\": 0, \"ticks\": \"\"}}, \"type\": \"parcoords\"}], \"pie\": [{\"automargin\": true, \"type\": \"pie\"}], \"scatter\": [{\"marker\": {\"colorbar\": {\"outlinewidth\": 0, \"ticks\": \"\"}}, \"type\": \"scatter\"}], \"scatter3d\": [{\"line\": {\"colorbar\": {\"outlinewidth\": 0, \"ticks\": \"\"}}, \"marker\": {\"colorbar\": {\"outlinewidth\": 0, \"ticks\": \"\"}}, \"type\": \"scatter3d\"}], \"scattercarpet\": [{\"marker\": {\"colorbar\": {\"outlinewidth\": 0, \"ticks\": \"\"}}, \"type\": \"scattercarpet\"}], \"scattergeo\": [{\"marker\": {\"colorbar\": {\"outlinewidth\": 0, \"ticks\": \"\"}}, \"type\": \"scattergeo\"}], \"scattergl\": [{\"marker\": {\"colorbar\": {\"outlinewidth\": 0, \"ticks\": \"\"}}, \"type\": \"scattergl\"}], \"scattermapbox\": [{\"marker\": {\"colorbar\": {\"outlinewidth\": 0, \"ticks\": \"\"}}, \"type\": \"scattermapbox\"}], \"scatterpolar\": [{\"marker\": {\"colorbar\": {\"outlinewidth\": 0, \"ticks\": \"\"}}, \"type\": \"scatterpolar\"}], \"scatterpolargl\": [{\"marker\": {\"colorbar\": {\"outlinewidth\": 0, \"ticks\": \"\"}}, \"type\": \"scatterpolargl\"}], \"scatterternary\": [{\"marker\": {\"colorbar\": {\"outlinewidth\": 0, \"ticks\": \"\"}}, \"type\": \"scatterternary\"}], \"surface\": [{\"colorbar\": {\"outlinewidth\": 0, \"ticks\": \"\"}, \"colorscale\": [[0.0, \"#0d0887\"], [0.1111111111111111, \"#46039f\"], [0.2222222222222222, \"#7201a8\"], [0.3333333333333333, \"#9c179e\"], [0.4444444444444444, \"#bd3786\"], [0.5555555555555556, \"#d8576b\"], [0.6666666666666666, \"#ed7953\"], [0.7777777777777778, \"#fb9f3a\"], [0.8888888888888888, \"#fdca26\"], [1.0, \"#f0f921\"]], \"type\": \"surface\"}], \"table\": [{\"cells\": {\"fill\": {\"color\": \"#EBF0F8\"}, \"line\": {\"color\": \"white\"}}, \"header\": {\"fill\": {\"color\": \"#C8D4E3\"}, \"line\": {\"color\": \"white\"}}, \"type\": \"table\"}]}, \"layout\": {\"annotationdefaults\": {\"arrowcolor\": \"#2a3f5f\", \"arrowhead\": 0, \"arrowwidth\": 1}, \"coloraxis\": {\"colorbar\": {\"outlinewidth\": 0, \"ticks\": \"\"}}, \"colorscale\": {\"diverging\": [[0, \"#8e0152\"], [0.1, \"#c51b7d\"], [0.2, \"#de77ae\"], [0.3, \"#f1b6da\"], [0.4, \"#fde0ef\"], [0.5, \"#f7f7f7\"], [0.6, \"#e6f5d0\"], [0.7, \"#b8e186\"], [0.8, \"#7fbc41\"], [0.9, \"#4d9221\"], [1, \"#276419\"]], \"sequential\": [[0.0, \"#0d0887\"], [0.1111111111111111, \"#46039f\"], [0.2222222222222222, \"#7201a8\"], [0.3333333333333333, \"#9c179e\"], [0.4444444444444444, \"#bd3786\"], [0.5555555555555556, \"#d8576b\"], [0.6666666666666666, \"#ed7953\"], [0.7777777777777778, \"#fb9f3a\"], [0.8888888888888888, \"#fdca26\"], [1.0, \"#f0f921\"]], \"sequentialminus\": [[0.0, \"#0d0887\"], [0.1111111111111111, \"#46039f\"], [0.2222222222222222, \"#7201a8\"], [0.3333333333333333, \"#9c179e\"], [0.4444444444444444, \"#bd3786\"], [0.5555555555555556, \"#d8576b\"], [0.6666666666666666, \"#ed7953\"], [0.7777777777777778, \"#fb9f3a\"], [0.8888888888888888, \"#fdca26\"], [1.0, \"#f0f921\"]]}, \"colorway\": [\"#636efa\", \"#EF553B\", \"#00cc96\", \"#ab63fa\", \"#FFA15A\", \"#19d3f3\", \"#FF6692\", \"#B6E880\", \"#FF97FF\", \"#FECB52\"], \"font\": {\"color\": \"#2a3f5f\"}, \"geo\": {\"bgcolor\": \"white\", \"lakecolor\": \"white\", \"landcolor\": \"#E5ECF6\", \"showlakes\": true, \"showland\": true, \"subunitcolor\": \"white\"}, \"hoverlabel\": {\"align\": \"left\"}, \"hovermode\": \"closest\", \"mapbox\": {\"style\": \"light\"}, \"paper_bgcolor\": \"white\", \"plot_bgcolor\": \"#E5ECF6\", \"polar\": {\"angularaxis\": {\"gridcolor\": \"white\", \"linecolor\": \"white\", \"ticks\": \"\"}, \"bgcolor\": \"#E5ECF6\", \"radialaxis\": {\"gridcolor\": \"white\", \"linecolor\": \"white\", \"ticks\": \"\"}}, \"scene\": {\"xaxis\": {\"backgroundcolor\": \"#E5ECF6\", \"gridcolor\": \"white\", \"gridwidth\": 2, \"linecolor\": \"white\", \"showbackground\": true, \"ticks\": \"\", \"zerolinecolor\": \"white\"}, \"yaxis\": {\"backgroundcolor\": \"#E5ECF6\", \"gridcolor\": \"white\", \"gridwidth\": 2, \"linecolor\": \"white\", \"showbackground\": true, \"ticks\": \"\", \"zerolinecolor\": \"white\"}, \"zaxis\": {\"backgroundcolor\": \"#E5ECF6\", \"gridcolor\": \"white\", \"gridwidth\": 2, \"linecolor\": \"white\", \"showbackground\": true, \"ticks\": \"\", \"zerolinecolor\": \"white\"}}, \"shapedefaults\": {\"line\": {\"color\": \"#2a3f5f\"}}, \"ternary\": {\"aaxis\": {\"gridcolor\": \"white\", \"linecolor\": \"white\", \"ticks\": \"\"}, \"baxis\": {\"gridcolor\": \"white\", \"linecolor\": \"white\", \"ticks\": \"\"}, \"bgcolor\": \"#E5ECF6\", \"caxis\": {\"gridcolor\": \"white\", \"linecolor\": \"white\", \"ticks\": \"\"}}, \"title\": {\"x\": 0.05}, \"xaxis\": {\"automargin\": true, \"gridcolor\": \"white\", \"linecolor\": \"white\", \"ticks\": \"\", \"title\": {\"standoff\": 15}, \"zerolinecolor\": \"white\", \"zerolinewidth\": 2}, \"yaxis\": {\"automargin\": true, \"gridcolor\": \"white\", \"linecolor\": \"white\", \"ticks\": \"\", \"title\": {\"standoff\": 15}, \"zerolinecolor\": \"white\", \"zerolinewidth\": 2}}}, \"title\": {\"text\": \"AP classes by schol types, normalized count in %\"}, \"xaxis\": {\"automargin\": true}},\n",
       "                        {\"showLink\": true, \"linkText\": \"Export to plot.ly\", \"plotlyServerURL\": \"https://plot.ly\", \"responsive\": true}\n",
       "                    ).then(function(){\n",
       "                            \n",
       "var gd = document.getElementById('8c84ee24-2b38-4862-8344-0a6c312aac3a');\n",
       "var x = new MutationObserver(function (mutations, observer) {{\n",
       "        var display = window.getComputedStyle(gd).display;\n",
       "        if (!display || display === 'none') {{\n",
       "            console.log([gd, 'removed!']);\n",
       "            Plotly.purge(gd);\n",
       "            observer.disconnect();\n",
       "        }}\n",
       "}});\n",
       "\n",
       "// Listen for the removal of the full notebook cells\n",
       "var notebookContainer = gd.closest('#notebook-container');\n",
       "if (notebookContainer) {{\n",
       "    x.observe(notebookContainer, {childList: true});\n",
       "}}\n",
       "\n",
       "// Listen for the clearing of the current output cell\n",
       "var outputEl = gd.closest('.output');\n",
       "if (outputEl) {{\n",
       "    x.observe(outputEl, {childList: true});\n",
       "}}\n",
       "\n",
       "                        })\n",
       "                };\n",
       "                });\n",
       "            </script>\n",
       "        </div>"
      ]
     },
     "metadata": {},
     "output_type": "display_data"
    }
   ],
   "source": [
    "# extract and display list of most common AP-coures and plot how often they appear \n",
    "# first select other schools for comparison:\n",
    "high_ap_high_sat = combined[(combined[\"ap_per\"]>25)&\n",
    "                            (combined[\"ap_per\"]<50)&\n",
    "                            (combined[\"sat_score\"]>1300)]\n",
    "\n",
    "# define loop trough subsets and extract relative distribution of ap_courses\n",
    "subsets = {\"High AP, low SAT\": high_ap_low_sat,\n",
    "           \"High AP, high SAT\": high_ap_high_sat}\n",
    "subsets_ap_courses = pd.DataFrame()\n",
    "\n",
    "for k, v in subsets.items():\n",
    "    ap_courses = v[\"advancedplacement_courses\"].str.split(\",\",expand=True)\n",
    "    ap_courses_melted = ap_courses.melt()[\"value\"].str.strip().value_counts(normalize=True).sort_values()\n",
    "    ap_courses_melted.name = k\n",
    "    subsets_ap_courses = pd.concat([subsets_ap_courses, ap_courses_melted], axis=1)\n",
    "\n",
    "ax = (subsets_ap_courses*100).iplot(kind=\"bar\", \n",
    "                            #figsize=(10,7), \n",
    "                            layout = dict(title=\"AP classes by schol types, normalized count in %\",\n",
    "                                          xaxis=dict(automargin=True), hovermode=\"x\", height=600))"
   ]
  },
  {
   "cell_type": "markdown",
   "metadata": {},
   "source": [
    "Schools with high shares of students taking AP-tests offer a narrower range of courses with a focus on history, English literature / language / composition. \n",
    "Calculus is offered, but almost only AB while the broader BC is less covered [(info)](https://blog.prepscholar.com/should-i-take-ap-calculus-ab-or-ap-calculus-bc)."
   ]
  },
  {
   "cell_type": "markdown",
   "metadata": {},
   "source": [
    "# Neighborhoods: Sheepshead Bay and Jamaica offer good public education and have comparably low property cost"
   ]
  },
  {
   "cell_type": "markdown",
   "metadata": {},
   "source": [
    "Aim of this section: identify [\"affordable\"](https://www.npr.org/sections/codeswitch/2013/12/10/249823140/when-buying-a-home-is-too-costly-and-the-rent-is-too-damn-high?t=1588353983254) neighborhoods with good schools. \n",
    "<br>To make this analysis, we need to add the following information to our dataset:\n",
    "+ property prices by neighborhood \n",
    "+ neighborhood of schools *(which requires reverse geocoding the available coordinates)*"
   ]
  },
  {
   "cell_type": "markdown",
   "metadata": {},
   "source": [
    "## Property prices by neighborhood"
   ]
  },
  {
   "cell_type": "code",
   "execution_count": 20,
   "metadata": {
    "ExecuteTime": {
     "end_time": "2020-05-03T10:45:20.120326Z",
     "start_time": "2020-05-03T10:45:18.736159Z"
    },
    "code_folding": [
     11
    ]
   },
   "outputs": [
    {
     "name": "stderr",
     "output_type": "stream",
     "text": [
      "WARNING:root:Requests made without an app_token will be subject to strict throttling limits.\n"
     ]
    }
   ],
   "source": [
    "# read-in property sales data from 'NYC Open Data'-server and clean it \n",
    "# the dataset and an excellent API documentation can be accessed here:\n",
    "# https://dev.socrata.com/foundry/data.cityofnewyork.us/5ebm-myj7\n",
    "client = Socrata(\"data.cityofnewyork.us\", None)\n",
    "housing = pd.DataFrame.from_records(client.get(\"5ebm-myj7\", limit=6000))\n",
    "\n",
    "# remove new line characters causing trouble\n",
    "housing = housing.replace(r'\\\\n',' ', regex=True) \n",
    "\n",
    "# assign correct datatypes to numeric columns\n",
    "num_col = housing.loc[:,\"number_of_sales\":\"year\"].columns.to_list()\n",
    "for c in num_col:\n",
    "    housing[c] = pd.to_numeric(housing[c],errors=\"coerce\")\n",
    "    \n",
    "# according to the data dictionary only three house types exist,\n",
    "# but the spelling differs a bit between them and needs to be aligned\n",
    "def home_type(e):\n",
    "    if \"01\" in e:\n",
    "        return \"01 ONE FAMILY HOUSE\"\n",
    "    elif \"02\" in e:\n",
    "        return \"02 TWO FAMILY HOUSE\"\n",
    "    elif \"03\" in e:\n",
    "        return \"03 THREE FAMILY HOUSE\"\n",
    "    else:\n",
    "        \"Something went wrong\"\n",
    "housing[\"type_of_home\"] = housing[\"type_of_home\"].apply(home_type)"
   ]
  },
  {
   "cell_type": "code",
   "execution_count": 21,
   "metadata": {
    "ExecuteTime": {
     "end_time": "2020-05-03T10:45:20.153448Z",
     "start_time": "2020-05-03T10:45:20.121934Z"
    },
    "code_folding": []
   },
   "outputs": [
    {
     "name": "stdout",
     "output_type": "stream",
     "text": [
      "<class 'pandas.core.frame.DataFrame'>\n",
      "RangeIndex: 5979 entries, 0 to 5978\n",
      "Data columns (total 9 columns):\n",
      " #   Column              Non-Null Count  Dtype  \n",
      "---  ------              --------------  -----  \n",
      " 0   borough             5979 non-null   object \n",
      " 1   neighborhood        5978 non-null   object \n",
      " 2   type_of_home        5979 non-null   object \n",
      " 3   number_of_sales     5979 non-null   int64  \n",
      " 4   lowest_sale_price   5979 non-null   int64  \n",
      " 5   average_sale_price  5979 non-null   int64  \n",
      " 6   median_sale_price   5979 non-null   int64  \n",
      " 7   highest_sale_price  5979 non-null   float64\n",
      " 8   year                5979 non-null   int64  \n",
      "dtypes: float64(1), int64(5), object(3)\n",
      "memory usage: 420.5+ KB\n"
     ]
    },
    {
     "data": {
      "text/html": [
       "<div>\n",
       "<style scoped>\n",
       "    .dataframe tbody tr th:only-of-type {\n",
       "        vertical-align: middle;\n",
       "    }\n",
       "\n",
       "    .dataframe tbody tr th {\n",
       "        vertical-align: top;\n",
       "    }\n",
       "\n",
       "    .dataframe thead th {\n",
       "        text-align: right;\n",
       "    }\n",
       "</style>\n",
       "<table border=\"1\" class=\"dataframe\">\n",
       "  <thead>\n",
       "    <tr style=\"text-align: right;\">\n",
       "      <th></th>\n",
       "      <th>number_of_sales</th>\n",
       "      <th>lowest_sale_price</th>\n",
       "      <th>average_sale_price</th>\n",
       "      <th>median_sale_price</th>\n",
       "      <th>highest_sale_price</th>\n",
       "      <th>year</th>\n",
       "    </tr>\n",
       "  </thead>\n",
       "  <tbody>\n",
       "    <tr>\n",
       "      <th>count</th>\n",
       "      <td>5,979.000</td>\n",
       "      <td>5,979.000</td>\n",
       "      <td>5,979.000</td>\n",
       "      <td>5,979.000</td>\n",
       "      <td>5,979.000</td>\n",
       "      <td>5,979.000</td>\n",
       "    </tr>\n",
       "    <tr>\n",
       "      <th>mean</th>\n",
       "      <td>35.560</td>\n",
       "      <td>712,938.596</td>\n",
       "      <td>1,207,114.844</td>\n",
       "      <td>1,150,549.290</td>\n",
       "      <td>2,075,932.909</td>\n",
       "      <td>2,014.521</td>\n",
       "    </tr>\n",
       "    <tr>\n",
       "      <th>std</th>\n",
       "      <td>50.761</td>\n",
       "      <td>1,509,407.390</td>\n",
       "      <td>1,989,596.662</td>\n",
       "      <td>1,868,417.469</td>\n",
       "      <td>3,667,126.216</td>\n",
       "      <td>2.860</td>\n",
       "    </tr>\n",
       "    <tr>\n",
       "      <th>min</th>\n",
       "      <td>1.000</td>\n",
       "      <td>150,000.000</td>\n",
       "      <td>167,500.000</td>\n",
       "      <td>167,500.000</td>\n",
       "      <td>176,750.000</td>\n",
       "      <td>2,010.000</td>\n",
       "    </tr>\n",
       "    <tr>\n",
       "      <th>25%</th>\n",
       "      <td>5.000</td>\n",
       "      <td>212,000.000</td>\n",
       "      <td>453,514.000</td>\n",
       "      <td>443,250.000</td>\n",
       "      <td>700,000.000</td>\n",
       "      <td>2,012.000</td>\n",
       "    </tr>\n",
       "    <tr>\n",
       "      <th>50%</th>\n",
       "      <td>16.000</td>\n",
       "      <td>290,000.000</td>\n",
       "      <td>624,008.000</td>\n",
       "      <td>611,500.000</td>\n",
       "      <td>990,000.000</td>\n",
       "      <td>2,015.000</td>\n",
       "    </tr>\n",
       "    <tr>\n",
       "      <th>75%</th>\n",
       "      <td>46.000</td>\n",
       "      <td>500,000.000</td>\n",
       "      <td>962,607.000</td>\n",
       "      <td>920,000.000</td>\n",
       "      <td>1,860,000.000</td>\n",
       "      <td>2,017.000</td>\n",
       "    </tr>\n",
       "    <tr>\n",
       "      <th>max</th>\n",
       "      <td>519.000</td>\n",
       "      <td>26,893,000.000</td>\n",
       "      <td>26,893,000.000</td>\n",
       "      <td>26,893,000.000</td>\n",
       "      <td>77,100,000.000</td>\n",
       "      <td>2,019.000</td>\n",
       "    </tr>\n",
       "  </tbody>\n",
       "</table>\n",
       "</div>"
      ],
      "text/plain": [
       "       number_of_sales  lowest_sale_price  average_sale_price  \\\n",
       "count        5,979.000          5,979.000           5,979.000   \n",
       "mean            35.560        712,938.596       1,207,114.844   \n",
       "std             50.761      1,509,407.390       1,989,596.662   \n",
       "min              1.000        150,000.000         167,500.000   \n",
       "25%              5.000        212,000.000         453,514.000   \n",
       "50%             16.000        290,000.000         624,008.000   \n",
       "75%             46.000        500,000.000         962,607.000   \n",
       "max            519.000     26,893,000.000      26,893,000.000   \n",
       "\n",
       "       median_sale_price  highest_sale_price      year  \n",
       "count          5,979.000           5,979.000 5,979.000  \n",
       "mean       1,150,549.290       2,075,932.909 2,014.521  \n",
       "std        1,868,417.469       3,667,126.216     2.860  \n",
       "min          167,500.000         176,750.000 2,010.000  \n",
       "25%          443,250.000         700,000.000 2,012.000  \n",
       "50%          611,500.000         990,000.000 2,015.000  \n",
       "75%          920,000.000       1,860,000.000 2,017.000  \n",
       "max       26,893,000.000      77,100,000.000 2,019.000  "
      ]
     },
     "execution_count": 21,
     "metadata": {},
     "output_type": "execute_result"
    }
   ],
   "source": [
    "# get some general statistics\n",
    "housing.info()\n",
    "housing.describe()\n",
    "#housing.head()"
   ]
  },
  {
   "cell_type": "markdown",
   "metadata": {},
   "source": [
    "The dataset contains info on home prices by:\n",
    "+ boroughs \n",
    "+ neighborhoods \n",
    "+ types of homes\n",
    "+ years\n",
    "\n",
    "While we definitely want all boroughs and neighborhoods, we need to decide which types of homes shall be used as indicator for property prices, and which years should be considered.\n",
    "\n",
    "Home price information is broken down into:\n",
    "+ lowest price\n",
    "+ average price\n",
    "+ median price\n",
    "+ highest price\n",
    "\n",
    "For the purpose of this analysis we will only look at average prices."
   ]
  },
  {
   "cell_type": "code",
   "execution_count": 22,
   "metadata": {
    "ExecuteTime": {
     "end_time": "2020-05-03T10:45:20.478911Z",
     "start_time": "2020-05-03T10:45:20.159579Z"
    },
    "code_folding": [
     0
    ]
   },
   "outputs": [
    {
     "data": {
      "image/png": "[encoded data removed]",
      "text/plain": [
       "<Figure size 432x288 with 1 Axes>"
      ]
     },
     "metadata": {
      "needs_background": "light"
     },
     "output_type": "display_data"
    }
   ],
   "source": [
    "# plotting with matplotlib for a change\n",
    "temp_pivot = housing.pivot_table(columns=\"type_of_home\",index=\"year\",\n",
    "                                 values=\"number_of_sales\", aggfunc=sum)\n",
    "ax = temp_pivot.plot(kind=\"bar\",\n",
    "               title=\"Number of recorded sales by year and type of home\")\n",
    "plt.legend(bbox_to_anchor=(1,1))\n",
    "ax.spines['right'].set_visible(False)\n",
    "ax.spines['top'].set_visible(False)\n",
    "plt.show()"
   ]
  },
  {
   "cell_type": "markdown",
   "metadata": {},
   "source": [
    "I will use one family houses, because they are the most common types of properties sold. They probably also have the most real life relevance when a family considers moving. <br>\n",
    "Now we need to decide which years we want to include in our analysis."
   ]
  },
  {
   "cell_type": "code",
   "execution_count": 23,
   "metadata": {
    "ExecuteTime": {
     "end_time": "2020-05-03T10:45:20.504108Z",
     "start_time": "2020-05-03T10:45:20.483304Z"
    },
    "code_folding": [
     0
    ]
   },
   "outputs": [
    {
     "name": "stdout",
     "output_type": "stream",
     "text": [
      "No of neighborhoods per year with no recorded one family house sale\n"
     ]
    },
    {
     "data": {
      "text/plain": [
       "year\n",
       "2010    23\n",
       "2011    29\n",
       "2012    19\n",
       "2013    22\n",
       "2014    25\n",
       "2015    20\n",
       "2016    21\n",
       "2017    25\n",
       "2018    23\n",
       "2019    22\n",
       "dtype: int64"
      ]
     },
     "execution_count": 23,
     "metadata": {},
     "output_type": "execute_result"
    }
   ],
   "source": [
    "# removing the columns and records we don't need\n",
    "keep_cols = ['borough',\n",
    " 'neighborhood',\n",
    " 'type_of_home',\n",
    " 'number_of_sales',\n",
    " 'average_sale_price',\n",
    "  'year']\n",
    "housing_ofh = housing.loc[housing[\"type_of_home\"] == \"01 ONE FAMILY HOUSE\",keep_cols]\n",
    "\n",
    "# checking by year for how many neighborhoods no sale was recorded\n",
    "print(\"No of neighborhoods per year with no recorded one family house sale\")\n",
    "housing_ofh.pivot_table(index='neighborhood', values=\"type_of_home\", columns=\"year\", aggfunc=\"count\").isna().sum()"
   ]
  },
  {
   "cell_type": "markdown",
   "metadata": {
    "ExecuteTime": {
     "end_time": "2020-05-02T08:11:56.345532Z",
     "start_time": "2020-05-02T08:11:56.323629Z"
    }
   },
   "source": [
    "The dataset by default has at most one record per year, type of housing and neighborhood. A quick analysis shows, that for every year there are neighborhoods with no recorded price. I have therefore decided to include all years to hopefully have information on as many neighborhoods as possible.<br>\n",
    "Next up: Calculating an average price and number of sales for each neighborhood."
   ]
  },
  {
   "cell_type": "code",
   "execution_count": 24,
   "metadata": {
    "ExecuteTime": {
     "end_time": "2020-05-03T10:45:20.527550Z",
     "start_time": "2020-05-03T10:45:20.505627Z"
    },
    "code_folding": []
   },
   "outputs": [],
   "source": [
    "# calculate average price per neighborhood\n",
    "ofh_price = housing_ofh.groupby([\"neighborhood\"]).mean().reset_index().drop(columns=[\"year\",\"number_of_sales\"])\n",
    "ofh_price.rename(inplace=True, columns={\"average_sale_price\":\"avg_sale_price\"})\n",
    "\n",
    "# calculate average number of sales per year per neighborhood\n",
    "# this cant be done in same step as price, because in the original dataset\n",
    "# years without sale are not recorded as Nan but missing entirely\n",
    "ofh_num_sales = housing_ofh.groupby([\"neighborhood\"]).sum().reset_index().drop(columns=[\"year\",\"average_sale_price\"])\n",
    "ofh_num_sales[\"sales_per_year\"] = ofh_num_sales[\"number_of_sales\"]/len(housing_ofh[\"year\"].unique())\n",
    "ofh_num_sales.drop(inplace=True,columns=\"number_of_sales\")\n",
    "\n",
    "# putting it together\n",
    "ofh = pd.merge(left=ofh_price, right=ofh_num_sales, on=\"neighborhood\", indicator=True)"
   ]
  },
  {
   "cell_type": "code",
   "execution_count": 25,
   "metadata": {
    "ExecuteTime": {
     "end_time": "2020-05-03T10:45:20.655244Z",
     "start_time": "2020-05-03T10:45:20.529061Z"
    },
    "code_folding": [
     0
    ],
    "scrolled": false
   },
   "outputs": [
    {
     "data": {
      "application/vnd.plotly.v1+json": {
       "config": {
        "plotlyServerURL": "https://plot.ly"
       },
       "data": [
        {
         "histfunc": "count",
         "histnorm": "",
         "marker": {
          "color": "rgba(255, 153, 51, 1.0)",
          "line": {
           "color": "#4D5663",
           "width": 1.3
          }
         },
         "name": "sales_per_year",
         "nbinsx": 150,
         "opacity": 0.8,
         "orientation": "v",
         "type": "histogram",
         "x": [
          2.2,
          0.5,
          64.3,
          152.9,
          12.7,
          6.1,
          19.5,
          46.5,
          19.3,
          4.5,
          108.2,
          79.9,
          277.9,
          12.4,
          37.3,
          39,
          28.2,
          101.4,
          1.7,
          43.7,
          37.2,
          0.2,
          7.3,
          54.6,
          16.1,
          20.6,
          9.4,
          17.8,
          43.7,
          8.9,
          0.3,
          27.9,
          90.9,
          0.4,
          13.3,
          86.3,
          84.2,
          4.1,
          22,
          71,
          2.8,
          26.2,
          0.9,
          0.1,
          6.1,
          46.3,
          0.6,
          6.3,
          1.2,
          67.6,
          38.5,
          16.2,
          22.2,
          29.1,
          51,
          3.6,
          37.9,
          29.3,
          29.9,
          26.9,
          2.3,
          56.6,
          0.8,
          2.2,
          0.1,
          62.4,
          48.4,
          65,
          6.8,
          1.1,
          63.1,
          153.9,
          8.1,
          62.9,
          0.1,
          14.3,
          64.8,
          151.8,
          27.3,
          28.7,
          0.1,
          38.5,
          99.4,
          440.8,
          201,
          3.9,
          130.7,
          3.4,
          0.3,
          71.3,
          54.5,
          21.9,
          68.4,
          5.3,
          0.8,
          37.6,
          36.3,
          56.4,
          287,
          20.8,
          5.3,
          4.4,
          12.8,
          16.1,
          6,
          9.1,
          1.6,
          4,
          0.2,
          5,
          21.5,
          167.4,
          31.5,
          34.1,
          106.1,
          48.8,
          0.2,
          1.9,
          74.9,
          25.8,
          3.5,
          55.1,
          24,
          7.4,
          24.7,
          8.1,
          14.4,
          0.2,
          138.6,
          0.6,
          74.7,
          14.9,
          6.9,
          0.1,
          77.7,
          26.7,
          0.2,
          55.6,
          131.3,
          71.9,
          76.1,
          5.3,
          137.2,
          114.3,
          4,
          92.3,
          45.1,
          33.1,
          18.2,
          9.6,
          3.8,
          3,
          2.8,
          19.3,
          36.9,
          64,
          37.2,
          41.6,
          91.3,
          54.7,
          28.7,
          49.8,
          10,
          71.4,
          31.8,
          74.3,
          104.3,
          13.2,
          9.8,
          5.7,
          22.2,
          32.3,
          13.2,
          21.9,
          11.4,
          60.9,
          45.9,
          2.3,
          250.4,
          6,
          53,
          160.5,
          41.9,
          6.1,
          16.3,
          39.4,
          6.6,
          68.9,
          122.2,
          47.8,
          24,
          0.3,
          3.7,
          42.7,
          9.6,
          72.5,
          26,
          244.7,
          1.6,
          26.7,
          86.9,
          149.9,
          171.4,
          0.4,
          20.3,
          181.6,
          260.6,
          25.3,
          20.2,
          0.4,
          36.5,
          14.6,
          88.6,
          23,
          11.6,
          82.1,
          37.2,
          1.5,
          18,
          13.4,
          2.7,
          5.9,
          0.8,
          45.8,
          2.4,
          0.8,
          85.9,
          13.5,
          84.6,
          123.5,
          44.2,
          1,
          10.4,
          2.5,
          1.5,
          67.6,
          12.1,
          101.2,
          14.9,
          62.2,
          22,
          2.3
         ]
        }
       ],
       "layout": {
        "barmode": "overlay",
        "legend": {
         "bgcolor": "#F5F6F9",
         "font": {
          "color": "#4D5663"
         }
        },
        "paper_bgcolor": "#F5F6F9",
        "plot_bgcolor": "#F5F6F9",
        "template": {
         "data": {
          "bar": [
           {
            "error_x": {
             "color": "#2a3f5f"
            },
            "error_y": {
             "color": "#2a3f5f"
            },
            "marker": {
             "line": {
              "color": "#E5ECF6",
              "width": 0.5
             }
            },
            "type": "bar"
           }
          ],
          "barpolar": [
           {
            "marker": {
             "line": {
              "color": "#E5ECF6",
              "width": 0.5
             }
            },
            "type": "barpolar"
           }
          ],
          "carpet": [
           {
            "aaxis": {
             "endlinecolor": "#2a3f5f",
             "gridcolor": "white",
             "linecolor": "white",
             "minorgridcolor": "white",
             "startlinecolor": "#2a3f5f"
            },
            "baxis": {
             "endlinecolor": "#2a3f5f",
             "gridcolor": "white",
             "linecolor": "white",
             "minorgridcolor": "white",
             "startlinecolor": "#2a3f5f"
            },
            "type": "carpet"
           }
          ],
          "choropleth": [
           {
            "colorbar": {
             "outlinewidth": 0,
             "ticks": ""
            },
            "type": "choropleth"
           }
          ],
          "contour": [
           {
            "colorbar": {
             "outlinewidth": 0,
             "ticks": ""
            },
            "colorscale": [
             [
              0,
              "#0d0887"
             ],
             [
              0.1111111111111111,
              "#46039f"
             ],
             [
              0.2222222222222222,
              "#7201a8"
             ],
             [
              0.3333333333333333,
              "#9c179e"
             ],
             [
              0.4444444444444444,
              "#bd3786"
             ],
             [
              0.5555555555555556,
              "#d8576b"
             ],
             [
              0.6666666666666666,
              "#ed7953"
             ],
             [
              0.7777777777777778,
              "#fb9f3a"
             ],
             [
              0.8888888888888888,
              "#fdca26"
             ],
             [
              1,
              "#f0f921"
             ]
            ],
            "type": "contour"
           }
          ],
          "contourcarpet": [
           {
            "colorbar": {
             "outlinewidth": 0,
             "ticks": ""
            },
            "type": "contourcarpet"
           }
          ],
          "heatmap": [
           {
            "colorbar": {
             "outlinewidth": 0,
             "ticks": ""
            },
            "colorscale": [
             [
              0,
              "#0d0887"
             ],
             [
              0.1111111111111111,
              "#46039f"
             ],
             [
              0.2222222222222222,
              "#7201a8"
             ],
             [
              0.3333333333333333,
              "#9c179e"
             ],
             [
              0.4444444444444444,
              "#bd3786"
             ],
             [
              0.5555555555555556,
              "#d8576b"
             ],
             [
              0.6666666666666666,
              "#ed7953"
             ],
             [
              0.7777777777777778,
              "#fb9f3a"
             ],
             [
              0.8888888888888888,
              "#fdca26"
             ],
             [
              1,
              "#f0f921"
             ]
            ],
            "type": "heatmap"
           }
          ],
          "heatmapgl": [
           {
            "colorbar": {
             "outlinewidth": 0,
             "ticks": ""
            },
            "colorscale": [
             [
              0,
              "#0d0887"
             ],
             [
              0.1111111111111111,
              "#46039f"
             ],
             [
              0.2222222222222222,
              "#7201a8"
             ],
             [
              0.3333333333333333,
              "#9c179e"
             ],
             [
              0.4444444444444444,
              "#bd3786"
             ],
             [
              0.5555555555555556,
              "#d8576b"
             ],
             [
              0.6666666666666666,
              "#ed7953"
             ],
             [
              0.7777777777777778,
              "#fb9f3a"
             ],
             [
              0.8888888888888888,
              "#fdca26"
             ],
             [
              1,
              "#f0f921"
             ]
            ],
            "type": "heatmapgl"
           }
          ],
          "histogram": [
           {
            "marker": {
             "colorbar": {
              "outlinewidth": 0,
              "ticks": ""
             }
            },
            "type": "histogram"
           }
          ],
          "histogram2d": [
           {
            "colorbar": {
             "outlinewidth": 0,
             "ticks": ""
            },
            "colorscale": [
             [
              0,
              "#0d0887"
             ],
             [
              0.1111111111111111,
              "#46039f"
             ],
             [
              0.2222222222222222,
              "#7201a8"
             ],
             [
              0.3333333333333333,
              "#9c179e"
             ],
             [
              0.4444444444444444,
              "#bd3786"
             ],
             [
              0.5555555555555556,
              "#d8576b"
             ],
             [
              0.6666666666666666,
              "#ed7953"
             ],
             [
              0.7777777777777778,
              "#fb9f3a"
             ],
             [
              0.8888888888888888,
              "#fdca26"
             ],
             [
              1,
              "#f0f921"
             ]
            ],
            "type": "histogram2d"
           }
          ],
          "histogram2dcontour": [
           {
            "colorbar": {
             "outlinewidth": 0,
             "ticks": ""
            },
            "colorscale": [
             [
              0,
              "#0d0887"
             ],
             [
              0.1111111111111111,
              "#46039f"
             ],
             [
              0.2222222222222222,
              "#7201a8"
             ],
             [
              0.3333333333333333,
              "#9c179e"
             ],
             [
              0.4444444444444444,
              "#bd3786"
             ],
             [
              0.5555555555555556,
              "#d8576b"
             ],
             [
              0.6666666666666666,
              "#ed7953"
             ],
             [
              0.7777777777777778,
              "#fb9f3a"
             ],
             [
              0.8888888888888888,
              "#fdca26"
             ],
             [
              1,
              "#f0f921"
             ]
            ],
            "type": "histogram2dcontour"
           }
          ],
          "mesh3d": [
           {
            "colorbar": {
             "outlinewidth": 0,
             "ticks": ""
            },
            "type": "mesh3d"
           }
          ],
          "parcoords": [
           {
            "line": {
             "colorbar": {
              "outlinewidth": 0,
              "ticks": ""
             }
            },
            "type": "parcoords"
           }
          ],
          "pie": [
           {
            "automargin": true,
            "type": "pie"
           }
          ],
          "scatter": [
           {
            "marker": {
             "colorbar": {
              "outlinewidth": 0,
              "ticks": ""
             }
            },
            "type": "scatter"
           }
          ],
          "scatter3d": [
           {
            "line": {
             "colorbar": {
              "outlinewidth": 0,
              "ticks": ""
             }
            },
            "marker": {
             "colorbar": {
              "outlinewidth": 0,
              "ticks": ""
             }
            },
            "type": "scatter3d"
           }
          ],
          "scattercarpet": [
           {
            "marker": {
             "colorbar": {
              "outlinewidth": 0,
              "ticks": ""
             }
            },
            "type": "scattercarpet"
           }
          ],
          "scattergeo": [
           {
            "marker": {
             "colorbar": {
              "outlinewidth": 0,
              "ticks": ""
             }
            },
            "type": "scattergeo"
           }
          ],
          "scattergl": [
           {
            "marker": {
             "colorbar": {
              "outlinewidth": 0,
              "ticks": ""
             }
            },
            "type": "scattergl"
           }
          ],
          "scattermapbox": [
           {
            "marker": {
             "colorbar": {
              "outlinewidth": 0,
              "ticks": ""
             }
            },
            "type": "scattermapbox"
           }
          ],
          "scatterpolar": [
           {
            "marker": {
             "colorbar": {
              "outlinewidth": 0,
              "ticks": ""
             }
            },
            "type": "scatterpolar"
           }
          ],
          "scatterpolargl": [
           {
            "marker": {
             "colorbar": {
              "outlinewidth": 0,
              "ticks": ""
             }
            },
            "type": "scatterpolargl"
           }
          ],
          "scatterternary": [
           {
            "marker": {
             "colorbar": {
              "outlinewidth": 0,
              "ticks": ""
             }
            },
            "type": "scatterternary"
           }
          ],
          "surface": [
           {
            "colorbar": {
             "outlinewidth": 0,
             "ticks": ""
            },
            "colorscale": [
             [
              0,
              "#0d0887"
             ],
             [
              0.1111111111111111,
              "#46039f"
             ],
             [
              0.2222222222222222,
              "#7201a8"
             ],
             [
              0.3333333333333333,
              "#9c179e"
             ],
             [
              0.4444444444444444,
              "#bd3786"
             ],
             [
              0.5555555555555556,
              "#d8576b"
             ],
             [
              0.6666666666666666,
              "#ed7953"
             ],
             [
              0.7777777777777778,
              "#fb9f3a"
             ],
             [
              0.8888888888888888,
              "#fdca26"
             ],
             [
              1,
              "#f0f921"
             ]
            ],
            "type": "surface"
           }
          ],
          "table": [
           {
            "cells": {
             "fill": {
              "color": "#EBF0F8"
             },
             "line": {
              "color": "white"
             }
            },
            "header": {
             "fill": {
              "color": "#C8D4E3"
             },
             "line": {
              "color": "white"
             }
            },
            "type": "table"
           }
          ]
         },
         "layout": {
          "annotationdefaults": {
           "arrowcolor": "#2a3f5f",
           "arrowhead": 0,
           "arrowwidth": 1
          },
          "coloraxis": {
           "colorbar": {
            "outlinewidth": 0,
            "ticks": ""
           }
          },
          "colorscale": {
           "diverging": [
            [
             0,
             "#8e0152"
            ],
            [
             0.1,
             "#c51b7d"
            ],
            [
             0.2,
             "#de77ae"
            ],
            [
             0.3,
             "#f1b6da"
            ],
            [
             0.4,
             "#fde0ef"
            ],
            [
             0.5,
             "#f7f7f7"
            ],
            [
             0.6,
             "#e6f5d0"
            ],
            [
             0.7,
             "#b8e186"
            ],
            [
             0.8,
             "#7fbc41"
            ],
            [
             0.9,
             "#4d9221"
            ],
            [
             1,
             "#276419"
            ]
           ],
           "sequential": [
            [
             0,
             "#0d0887"
            ],
            [
             0.1111111111111111,
             "#46039f"
            ],
            [
             0.2222222222222222,
             "#7201a8"
            ],
            [
             0.3333333333333333,
             "#9c179e"
            ],
            [
             0.4444444444444444,
             "#bd3786"
            ],
            [
             0.5555555555555556,
             "#d8576b"
            ],
            [
             0.6666666666666666,
             "#ed7953"
            ],
            [
             0.7777777777777778,
             "#fb9f3a"
            ],
            [
             0.8888888888888888,
             "#fdca26"
            ],
            [
             1,
             "#f0f921"
            ]
           ],
           "sequentialminus": [
            [
             0,
             "#0d0887"
            ],
            [
             0.1111111111111111,
             "#46039f"
            ],
            [
             0.2222222222222222,
             "#7201a8"
            ],
            [
             0.3333333333333333,
             "#9c179e"
            ],
            [
             0.4444444444444444,
             "#bd3786"
            ],
            [
             0.5555555555555556,
             "#d8576b"
            ],
            [
             0.6666666666666666,
             "#ed7953"
            ],
            [
             0.7777777777777778,
             "#fb9f3a"
            ],
            [
             0.8888888888888888,
             "#fdca26"
            ],
            [
             1,
             "#f0f921"
            ]
           ]
          },
          "colorway": [
           "#636efa",
           "#EF553B",
           "#00cc96",
           "#ab63fa",
           "#FFA15A",
           "#19d3f3",
           "#FF6692",
           "#B6E880",
           "#FF97FF",
           "#FECB52"
          ],
          "font": {
           "color": "#2a3f5f"
          },
          "geo": {
           "bgcolor": "white",
           "lakecolor": "white",
           "landcolor": "#E5ECF6",
           "showlakes": true,
           "showland": true,
           "subunitcolor": "white"
          },
          "hoverlabel": {
           "align": "left"
          },
          "hovermode": "closest",
          "mapbox": {
           "style": "light"
          },
          "paper_bgcolor": "white",
          "plot_bgcolor": "#E5ECF6",
          "polar": {
           "angularaxis": {
            "gridcolor": "white",
            "linecolor": "white",
            "ticks": ""
           },
           "bgcolor": "#E5ECF6",
           "radialaxis": {
            "gridcolor": "white",
            "linecolor": "white",
            "ticks": ""
           }
          },
          "scene": {
           "xaxis": {
            "backgroundcolor": "#E5ECF6",
            "gridcolor": "white",
            "gridwidth": 2,
            "linecolor": "white",
            "showbackground": true,
            "ticks": "",
            "zerolinecolor": "white"
           },
           "yaxis": {
            "backgroundcolor": "#E5ECF6",
            "gridcolor": "white",
            "gridwidth": 2,
            "linecolor": "white",
            "showbackground": true,
            "ticks": "",
            "zerolinecolor": "white"
           },
           "zaxis": {
            "backgroundcolor": "#E5ECF6",
            "gridcolor": "white",
            "gridwidth": 2,
            "linecolor": "white",
            "showbackground": true,
            "ticks": "",
            "zerolinecolor": "white"
           }
          },
          "shapedefaults": {
           "line": {
            "color": "#2a3f5f"
           }
          },
          "ternary": {
           "aaxis": {
            "gridcolor": "white",
            "linecolor": "white",
            "ticks": ""
           },
           "baxis": {
            "gridcolor": "white",
            "linecolor": "white",
            "ticks": ""
           },
           "bgcolor": "#E5ECF6",
           "caxis": {
            "gridcolor": "white",
            "linecolor": "white",
            "ticks": ""
           }
          },
          "title": {
           "x": 0.05
          },
          "xaxis": {
           "automargin": true,
           "gridcolor": "white",
           "linecolor": "white",
           "ticks": "",
           "title": {
            "standoff": 15
           },
           "zerolinecolor": "white",
           "zerolinewidth": 2
          },
          "yaxis": {
           "automargin": true,
           "gridcolor": "white",
           "linecolor": "white",
           "ticks": "",
           "title": {
            "standoff": 15
           },
           "zerolinecolor": "white",
           "zerolinewidth": 2
          }
         }
        },
        "title": {
         "font": {
          "color": "#4D5663"
         },
         "text": "NYC one family house sales by neighborhood"
        },
        "xaxis": {
         "gridcolor": "#E1E5ED",
         "showgrid": true,
         "tickfont": {
          "color": "#4D5663"
         },
         "title": {
          "font": {
           "color": "#4D5663"
          },
          "text": "Sales per year"
         },
         "zerolinecolor": "#E1E5ED"
        },
        "yaxis": {
         "gridcolor": "#E1E5ED",
         "showgrid": true,
         "tickfont": {
          "color": "#4D5663"
         },
         "title": {
          "font": {
           "color": "#4D5663"
          },
          "text": "Count"
         },
         "zerolinecolor": "#E1E5ED"
        }
       }
      },
      "text/html": [
       "<div>\n",
       "        \n",
       "        \n",
       "            <div id=\"a8dda7dd-5a85-4538-905e-08ce5e64c903\" class=\"plotly-graph-div\" style=\"height:525px; width:100%;\"></div>\n",
       "            <script type=\"text/javascript\">\n",
       "                require([\"plotly\"], function(Plotly) {\n",
       "                    window.PLOTLYENV=window.PLOTLYENV || {};\n",
       "                    \n",
       "                if (document.getElementById(\"a8dda7dd-5a85-4538-905e-08ce5e64c903\")) {\n",
       "                    Plotly.newPlot(\n",
       "                        'a8dda7dd-5a85-4538-905e-08ce5e64c903',\n",
       "                        [{\"histfunc\": \"count\", \"histnorm\": \"\", \"marker\": {\"color\": \"rgba(255, 153, 51, 1.0)\", \"line\": {\"color\": \"#4D5663\", \"width\": 1.3}}, \"name\": \"sales_per_year\", \"nbinsx\": 150, \"opacity\": 0.8, \"orientation\": \"v\", \"type\": \"histogram\", \"x\": [2.2, 0.5, 64.3, 152.9, 12.7, 6.1, 19.5, 46.5, 19.3, 4.5, 108.2, 79.9, 277.9, 12.4, 37.3, 39.0, 28.2, 101.4, 1.7, 43.7, 37.2, 0.2, 7.3, 54.6, 16.1, 20.6, 9.4, 17.8, 43.7, 8.9, 0.3, 27.9, 90.9, 0.4, 13.3, 86.3, 84.2, 4.1, 22.0, 71.0, 2.8, 26.2, 0.9, 0.1, 6.1, 46.3, 0.6, 6.3, 1.2, 67.6, 38.5, 16.2, 22.2, 29.1, 51.0, 3.6, 37.9, 29.3, 29.9, 26.9, 2.3, 56.6, 0.8, 2.2, 0.1, 62.4, 48.4, 65.0, 6.8, 1.1, 63.1, 153.9, 8.1, 62.9, 0.1, 14.3, 64.8, 151.8, 27.3, 28.7, 0.1, 38.5, 99.4, 440.8, 201.0, 3.9, 130.7, 3.4, 0.3, 71.3, 54.5, 21.9, 68.4, 5.3, 0.8, 37.6, 36.3, 56.4, 287.0, 20.8, 5.3, 4.4, 12.8, 16.1, 6.0, 9.1, 1.6, 4.0, 0.2, 5.0, 21.5, 167.4, 31.5, 34.1, 106.1, 48.8, 0.2, 1.9, 74.9, 25.8, 3.5, 55.1, 24.0, 7.4, 24.7, 8.1, 14.4, 0.2, 138.6, 0.6, 74.7, 14.9, 6.9, 0.1, 77.7, 26.7, 0.2, 55.6, 131.3, 71.9, 76.1, 5.3, 137.2, 114.3, 4.0, 92.3, 45.1, 33.1, 18.2, 9.6, 3.8, 3.0, 2.8, 19.3, 36.9, 64.0, 37.2, 41.6, 91.3, 54.7, 28.7, 49.8, 10.0, 71.4, 31.8, 74.3, 104.3, 13.2, 9.8, 5.7, 22.2, 32.3, 13.2, 21.9, 11.4, 60.9, 45.9, 2.3, 250.4, 6.0, 53.0, 160.5, 41.9, 6.1, 16.3, 39.4, 6.6, 68.9, 122.2, 47.8, 24.0, 0.3, 3.7, 42.7, 9.6, 72.5, 26.0, 244.7, 1.6, 26.7, 86.9, 149.9, 171.4, 0.4, 20.3, 181.6, 260.6, 25.3, 20.2, 0.4, 36.5, 14.6, 88.6, 23.0, 11.6, 82.1, 37.2, 1.5, 18.0, 13.4, 2.7, 5.9, 0.8, 45.8, 2.4, 0.8, 85.9, 13.5, 84.6, 123.5, 44.2, 1.0, 10.4, 2.5, 1.5, 67.6, 12.1, 101.2, 14.9, 62.2, 22.0, 2.3]}],\n",
       "                        {\"barmode\": \"overlay\", \"legend\": {\"bgcolor\": \"#F5F6F9\", \"font\": {\"color\": \"#4D5663\"}}, \"paper_bgcolor\": \"#F5F6F9\", \"plot_bgcolor\": \"#F5F6F9\", \"template\": {\"data\": {\"bar\": [{\"error_x\": {\"color\": \"#2a3f5f\"}, \"error_y\": {\"color\": \"#2a3f5f\"}, \"marker\": {\"line\": {\"color\": \"#E5ECF6\", \"width\": 0.5}}, \"type\": \"bar\"}], \"barpolar\": [{\"marker\": {\"line\": {\"color\": \"#E5ECF6\", \"width\": 0.5}}, \"type\": \"barpolar\"}], \"carpet\": [{\"aaxis\": {\"endlinecolor\": \"#2a3f5f\", \"gridcolor\": \"white\", \"linecolor\": \"white\", \"minorgridcolor\": \"white\", \"startlinecolor\": \"#2a3f5f\"}, \"baxis\": {\"endlinecolor\": \"#2a3f5f\", \"gridcolor\": \"white\", \"linecolor\": \"white\", \"minorgridcolor\": \"white\", \"startlinecolor\": \"#2a3f5f\"}, \"type\": \"carpet\"}], \"choropleth\": [{\"colorbar\": {\"outlinewidth\": 0, \"ticks\": \"\"}, \"type\": \"choropleth\"}], \"contour\": [{\"colorbar\": {\"outlinewidth\": 0, \"ticks\": \"\"}, \"colorscale\": [[0.0, \"#0d0887\"], [0.1111111111111111, \"#46039f\"], [0.2222222222222222, \"#7201a8\"], [0.3333333333333333, \"#9c179e\"], [0.4444444444444444, \"#bd3786\"], [0.5555555555555556, \"#d8576b\"], [0.6666666666666666, \"#ed7953\"], [0.7777777777777778, \"#fb9f3a\"], [0.8888888888888888, \"#fdca26\"], [1.0, \"#f0f921\"]], \"type\": \"contour\"}], \"contourcarpet\": [{\"colorbar\": {\"outlinewidth\": 0, \"ticks\": \"\"}, \"type\": \"contourcarpet\"}], \"heatmap\": [{\"colorbar\": {\"outlinewidth\": 0, \"ticks\": \"\"}, \"colorscale\": [[0.0, \"#0d0887\"], [0.1111111111111111, \"#46039f\"], [0.2222222222222222, \"#7201a8\"], [0.3333333333333333, \"#9c179e\"], [0.4444444444444444, \"#bd3786\"], [0.5555555555555556, \"#d8576b\"], [0.6666666666666666, \"#ed7953\"], [0.7777777777777778, \"#fb9f3a\"], [0.8888888888888888, \"#fdca26\"], [1.0, \"#f0f921\"]], \"type\": \"heatmap\"}], \"heatmapgl\": [{\"colorbar\": {\"outlinewidth\": 0, \"ticks\": \"\"}, \"colorscale\": [[0.0, \"#0d0887\"], [0.1111111111111111, \"#46039f\"], [0.2222222222222222, \"#7201a8\"], [0.3333333333333333, \"#9c179e\"], [0.4444444444444444, \"#bd3786\"], [0.5555555555555556, \"#d8576b\"], [0.6666666666666666, \"#ed7953\"], [0.7777777777777778, \"#fb9f3a\"], [0.8888888888888888, \"#fdca26\"], [1.0, \"#f0f921\"]], \"type\": \"heatmapgl\"}], \"histogram\": [{\"marker\": {\"colorbar\": {\"outlinewidth\": 0, \"ticks\": \"\"}}, \"type\": \"histogram\"}], \"histogram2d\": [{\"colorbar\": {\"outlinewidth\": 0, \"ticks\": \"\"}, \"colorscale\": [[0.0, \"#0d0887\"], [0.1111111111111111, \"#46039f\"], [0.2222222222222222, \"#7201a8\"], [0.3333333333333333, \"#9c179e\"], [0.4444444444444444, \"#bd3786\"], [0.5555555555555556, \"#d8576b\"], [0.6666666666666666, \"#ed7953\"], [0.7777777777777778, \"#fb9f3a\"], [0.8888888888888888, \"#fdca26\"], [1.0, \"#f0f921\"]], \"type\": \"histogram2d\"}], \"histogram2dcontour\": [{\"colorbar\": {\"outlinewidth\": 0, \"ticks\": \"\"}, \"colorscale\": [[0.0, \"#0d0887\"], [0.1111111111111111, \"#46039f\"], [0.2222222222222222, \"#7201a8\"], [0.3333333333333333, \"#9c179e\"], [0.4444444444444444, \"#bd3786\"], [0.5555555555555556, \"#d8576b\"], [0.6666666666666666, \"#ed7953\"], [0.7777777777777778, \"#fb9f3a\"], [0.8888888888888888, \"#fdca26\"], [1.0, \"#f0f921\"]], \"type\": \"histogram2dcontour\"}], \"mesh3d\": [{\"colorbar\": {\"outlinewidth\": 0, \"ticks\": \"\"}, \"type\": \"mesh3d\"}], \"parcoords\": [{\"line\": {\"colorbar\": {\"outlinewidth\": 0, \"ticks\": \"\"}}, \"type\": \"parcoords\"}], \"pie\": [{\"automargin\": true, \"type\": \"pie\"}], \"scatter\": [{\"marker\": {\"colorbar\": {\"outlinewidth\": 0, \"ticks\": \"\"}}, \"type\": \"scatter\"}], \"scatter3d\": [{\"line\": {\"colorbar\": {\"outlinewidth\": 0, \"ticks\": \"\"}}, \"marker\": {\"colorbar\": {\"outlinewidth\": 0, \"ticks\": \"\"}}, \"type\": \"scatter3d\"}], \"scattercarpet\": [{\"marker\": {\"colorbar\": {\"outlinewidth\": 0, \"ticks\": \"\"}}, \"type\": \"scattercarpet\"}], \"scattergeo\": [{\"marker\": {\"colorbar\": {\"outlinewidth\": 0, \"ticks\": \"\"}}, \"type\": \"scattergeo\"}], \"scattergl\": [{\"marker\": {\"colorbar\": {\"outlinewidth\": 0, \"ticks\": \"\"}}, \"type\": \"scattergl\"}], \"scattermapbox\": [{\"marker\": {\"colorbar\": {\"outlinewidth\": 0, \"ticks\": \"\"}}, \"type\": \"scattermapbox\"}], \"scatterpolar\": [{\"marker\": {\"colorbar\": {\"outlinewidth\": 0, \"ticks\": \"\"}}, \"type\": \"scatterpolar\"}], \"scatterpolargl\": [{\"marker\": {\"colorbar\": {\"outlinewidth\": 0, \"ticks\": \"\"}}, \"type\": \"scatterpolargl\"}], \"scatterternary\": [{\"marker\": {\"colorbar\": {\"outlinewidth\": 0, \"ticks\": \"\"}}, \"type\": \"scatterternary\"}], \"surface\": [{\"colorbar\": {\"outlinewidth\": 0, \"ticks\": \"\"}, \"colorscale\": [[0.0, \"#0d0887\"], [0.1111111111111111, \"#46039f\"], [0.2222222222222222, \"#7201a8\"], [0.3333333333333333, \"#9c179e\"], [0.4444444444444444, \"#bd3786\"], [0.5555555555555556, \"#d8576b\"], [0.6666666666666666, \"#ed7953\"], [0.7777777777777778, \"#fb9f3a\"], [0.8888888888888888, \"#fdca26\"], [1.0, \"#f0f921\"]], \"type\": \"surface\"}], \"table\": [{\"cells\": {\"fill\": {\"color\": \"#EBF0F8\"}, \"line\": {\"color\": \"white\"}}, \"header\": {\"fill\": {\"color\": \"#C8D4E3\"}, \"line\": {\"color\": \"white\"}}, \"type\": \"table\"}]}, \"layout\": {\"annotationdefaults\": {\"arrowcolor\": \"#2a3f5f\", \"arrowhead\": 0, \"arrowwidth\": 1}, \"coloraxis\": {\"colorbar\": {\"outlinewidth\": 0, \"ticks\": \"\"}}, \"colorscale\": {\"diverging\": [[0, \"#8e0152\"], [0.1, \"#c51b7d\"], [0.2, \"#de77ae\"], [0.3, \"#f1b6da\"], [0.4, \"#fde0ef\"], [0.5, \"#f7f7f7\"], [0.6, \"#e6f5d0\"], [0.7, \"#b8e186\"], [0.8, \"#7fbc41\"], [0.9, \"#4d9221\"], [1, \"#276419\"]], \"sequential\": [[0.0, \"#0d0887\"], [0.1111111111111111, \"#46039f\"], [0.2222222222222222, \"#7201a8\"], [0.3333333333333333, \"#9c179e\"], [0.4444444444444444, \"#bd3786\"], [0.5555555555555556, \"#d8576b\"], [0.6666666666666666, \"#ed7953\"], [0.7777777777777778, \"#fb9f3a\"], [0.8888888888888888, \"#fdca26\"], [1.0, \"#f0f921\"]], \"sequentialminus\": [[0.0, \"#0d0887\"], [0.1111111111111111, \"#46039f\"], [0.2222222222222222, \"#7201a8\"], [0.3333333333333333, \"#9c179e\"], [0.4444444444444444, \"#bd3786\"], [0.5555555555555556, \"#d8576b\"], [0.6666666666666666, \"#ed7953\"], [0.7777777777777778, \"#fb9f3a\"], [0.8888888888888888, \"#fdca26\"], [1.0, \"#f0f921\"]]}, \"colorway\": [\"#636efa\", \"#EF553B\", \"#00cc96\", \"#ab63fa\", \"#FFA15A\", \"#19d3f3\", \"#FF6692\", \"#B6E880\", \"#FF97FF\", \"#FECB52\"], \"font\": {\"color\": \"#2a3f5f\"}, \"geo\": {\"bgcolor\": \"white\", \"lakecolor\": \"white\", \"landcolor\": \"#E5ECF6\", \"showlakes\": true, \"showland\": true, \"subunitcolor\": \"white\"}, \"hoverlabel\": {\"align\": \"left\"}, \"hovermode\": \"closest\", \"mapbox\": {\"style\": \"light\"}, \"paper_bgcolor\": \"white\", \"plot_bgcolor\": \"#E5ECF6\", \"polar\": {\"angularaxis\": {\"gridcolor\": \"white\", \"linecolor\": \"white\", \"ticks\": \"\"}, \"bgcolor\": \"#E5ECF6\", \"radialaxis\": {\"gridcolor\": \"white\", \"linecolor\": \"white\", \"ticks\": \"\"}}, \"scene\": {\"xaxis\": {\"backgroundcolor\": \"#E5ECF6\", \"gridcolor\": \"white\", \"gridwidth\": 2, \"linecolor\": \"white\", \"showbackground\": true, \"ticks\": \"\", \"zerolinecolor\": \"white\"}, \"yaxis\": {\"backgroundcolor\": \"#E5ECF6\", \"gridcolor\": \"white\", \"gridwidth\": 2, \"linecolor\": \"white\", \"showbackground\": true, \"ticks\": \"\", \"zerolinecolor\": \"white\"}, \"zaxis\": {\"backgroundcolor\": \"#E5ECF6\", \"gridcolor\": \"white\", \"gridwidth\": 2, \"linecolor\": \"white\", \"showbackground\": true, \"ticks\": \"\", \"zerolinecolor\": \"white\"}}, \"shapedefaults\": {\"line\": {\"color\": \"#2a3f5f\"}}, \"ternary\": {\"aaxis\": {\"gridcolor\": \"white\", \"linecolor\": \"white\", \"ticks\": \"\"}, \"baxis\": {\"gridcolor\": \"white\", \"linecolor\": \"white\", \"ticks\": \"\"}, \"bgcolor\": \"#E5ECF6\", \"caxis\": {\"gridcolor\": \"white\", \"linecolor\": \"white\", \"ticks\": \"\"}}, \"title\": {\"x\": 0.05}, \"xaxis\": {\"automargin\": true, \"gridcolor\": \"white\", \"linecolor\": \"white\", \"ticks\": \"\", \"title\": {\"standoff\": 15}, \"zerolinecolor\": \"white\", \"zerolinewidth\": 2}, \"yaxis\": {\"automargin\": true, \"gridcolor\": \"white\", \"linecolor\": \"white\", \"ticks\": \"\", \"title\": {\"standoff\": 15}, \"zerolinecolor\": \"white\", \"zerolinewidth\": 2}}}, \"title\": {\"font\": {\"color\": \"#4D5663\"}, \"text\": \"NYC one family house sales by neighborhood\"}, \"xaxis\": {\"gridcolor\": \"#E1E5ED\", \"showgrid\": true, \"tickfont\": {\"color\": \"#4D5663\"}, \"title\": {\"font\": {\"color\": \"#4D5663\"}, \"text\": \"Sales per year\"}, \"zerolinecolor\": \"#E1E5ED\"}, \"yaxis\": {\"gridcolor\": \"#E1E5ED\", \"showgrid\": true, \"tickfont\": {\"color\": \"#4D5663\"}, \"title\": {\"font\": {\"color\": \"#4D5663\"}, \"text\": \"Count\"}, \"zerolinecolor\": \"#E1E5ED\"}},\n",
       "                        {\"responsive\": true}\n",
       "                    ).then(function(){\n",
       "                            \n",
       "var gd = document.getElementById('a8dda7dd-5a85-4538-905e-08ce5e64c903');\n",
       "var x = new MutationObserver(function (mutations, observer) {{\n",
       "        var display = window.getComputedStyle(gd).display;\n",
       "        if (!display || display === 'none') {{\n",
       "            console.log([gd, 'removed!']);\n",
       "            Plotly.purge(gd);\n",
       "            observer.disconnect();\n",
       "        }}\n",
       "}});\n",
       "\n",
       "// Listen for the removal of the full notebook cells\n",
       "var notebookContainer = gd.closest('#notebook-container');\n",
       "if (notebookContainer) {{\n",
       "    x.observe(notebookContainer, {childList: true});\n",
       "}}\n",
       "\n",
       "// Listen for the clearing of the current output cell\n",
       "var outputEl = gd.closest('.output');\n",
       "if (outputEl) {{\n",
       "    x.observe(outputEl, {childList: true});\n",
       "}}\n",
       "\n",
       "                        })\n",
       "                };\n",
       "                });\n",
       "            </script>\n",
       "        </div>"
      ]
     },
     "metadata": {},
     "output_type": "display_data"
    }
   ],
   "source": [
    "# generate histogram for sales per year\n",
    "ofh[\"sales_per_year\"].iplot(kind=\"histogram\", asFigure=True, bins=150, \n",
    "                            title=\"NYC one family house sales by neighborhood\",xTitle='Sales per year', yTitle='Count')"
   ]
  },
  {
   "cell_type": "code",
   "execution_count": 26,
   "metadata": {
    "ExecuteTime": {
     "end_time": "2020-05-03T10:45:20.783279Z",
     "start_time": "2020-05-03T10:45:20.657063Z"
    },
    "code_folding": [
     0
    ],
    "scrolled": false
   },
   "outputs": [
    {
     "data": {
      "application/vnd.plotly.v1+json": {
       "config": {
        "plotlyServerURL": "https://plot.ly"
       },
       "data": [
        {
         "histfunc": "count",
         "histnorm": "",
         "marker": {
          "color": "rgba(255, 153, 51, 1.0)",
          "line": {
           "color": "#4D5663",
           "width": 1.3
          }
         },
         "name": "avg_sale_price",
         "nbinsx": 50,
         "opacity": 0.8,
         "orientation": "v",
         "type": "histogram",
         "x": [
          622211.1111111111,
          3941441.75,
          637417,
          367513.6,
          486442.8,
          579242.8,
          324288.8,
          782315.6,
          760857,
          336701.2,
          963129.8,
          342277.1,
          759865.6,
          511133.2,
          811657.3,
          907414.5,
          799884.5,
          507664.5,
          302154.71428571426,
          792907.8,
          632873.8,
          7399950,
          2629278.7,
          917427.5,
          486969.5,
          554009.1,
          498685.3,
          356288.2,
          361248.7,
          5236114.1,
          4673333.333333333,
          325831.9,
          396782.4,
          771666.6666666666,
          624218.9,
          385824.8,
          392779.1,
          3171566.2,
          361462,
          472242.4,
          5897463.333333333,
          484180.4,
          1141659.75,
          3850000,
          2028852.7,
          532337.6,
          331250,
          3201248.7,
          2066875,
          587913.2,
          319693.9,
          308875.6,
          421579.9,
          666287.2,
          458262.7,
          403415.25,
          868773,
          408040.7,
          537312.9,
          766952.9,
          369627.5,
          961900.2,
          3544556,
          3834103.3333333335,
          1940000,
          815926,
          492369,
          353314.2,
          355101.8,
          6108802,
          645084.5,
          469334.9,
          952459.8,
          513060.4,
          1950000,
          1508387.8,
          1182579,
          469707.5,
          1245944.3,
          458089.2,
          12000000,
          436847.8,
          558825.1,
          749493.2,
          675933.1,
          385798.6666666667,
          1110752.2,
          1978113.3333333333,
          312513,
          766438.5,
          408726.7,
          565889.2,
          541294.9,
          1317015.1,
          6031175,
          476449.4,
          521040.4,
          651116.9,
          453154.8,
          446249.7,
          1198466.5,
          14180155.8,
          9518116.3,
          628238.7,
          359062.4,
          1914516.8,
          2331979.25,
          1852634.8,
          1530000,
          414661,
          571393.5,
          407268.9,
          828165.2,
          797751.6,
          578402.1,
          606474.7,
          367556,
          544706,
          616062.7,
          485292.8,
          323271.44444444444,
          976549,
          568978.2,
          907925.7,
          803919.6,
          396161.8,
          502126.4,
          5312500,
          384160.4,
          9418680,
          826737.7,
          430601.4,
          870124.7,
          3550000,
          766697.6,
          1315353.6,
          3277500,
          516493.8,
          555187.5,
          320938.8,
          551532.3,
          453479.77777777775,
          599753.1,
          424735.9,
          6488774.7,
          939324.7,
          954956.4,
          423545,
          389964.3,
          422572.6666666667,
          482233.8888888889,
          4157620.8,
          1034161.4285714285,
          988678.2,
          364206.2,
          478795.3,
          359413.2,
          544415.2,
          466732.7,
          761141,
          525722.9,
          512965.1,
          520966.3,
          1158675.5,
          1819101.2,
          429397.3,
          418053,
          3393870.1,
          1355025.3,
          393765.4,
          479833.7,
          443024.8,
          515816.4,
          634763.5,
          331346.7,
          333857.7,
          623282.3,
          1827369.888888889,
          414226.3,
          1476066,
          739461.4,
          425022,
          662372.7,
          827247.5,
          563677.5,
          1028318.5,
          430462,
          410285.4,
          389812.1,
          458605.5,
          555313.5,
          805000,
          979476.6,
          406539.5,
          599710.1,
          594354.2,
          575949.1,
          342768.9,
          7427364.111111111,
          322559,
          418679.6,
          350691.7,
          402398.9,
          3001549.25,
          393834.71428571426,
          367000.9,
          371044,
          359271.6,
          350492.9,
          732892.6666666666,
          621052.3,
          976347.5,
          397434.8,
          1422288,
          469027.5,
          577083.6,
          407656.4,
          12455766.777777778,
          12603645.2,
          9373868.3,
          11875106.4,
          8026820.2,
          6091000,
          347188.9,
          1101725.375,
          981290,
          402505.3,
          434494.5,
          451363.3,
          816566.5,
          336714.5,
          938055.5,
          1327557,
          2253320.3333333335,
          2110537,
          498153.6,
          1218858.1,
          428525.4,
          427074.1,
          510253,
          619114,
          654992.6666666666
         ]
        }
       ],
       "layout": {
        "barmode": "overlay",
        "legend": {
         "bgcolor": "#F5F6F9",
         "font": {
          "color": "#4D5663"
         }
        },
        "paper_bgcolor": "#F5F6F9",
        "plot_bgcolor": "#F5F6F9",
        "template": {
         "data": {
          "bar": [
           {
            "error_x": {
             "color": "#2a3f5f"
            },
            "error_y": {
             "color": "#2a3f5f"
            },
            "marker": {
             "line": {
              "color": "#E5ECF6",
              "width": 0.5
             }
            },
            "type": "bar"
           }
          ],
          "barpolar": [
           {
            "marker": {
             "line": {
              "color": "#E5ECF6",
              "width": 0.5
             }
            },
            "type": "barpolar"
           }
          ],
          "carpet": [
           {
            "aaxis": {
             "endlinecolor": "#2a3f5f",
             "gridcolor": "white",
             "linecolor": "white",
             "minorgridcolor": "white",
             "startlinecolor": "#2a3f5f"
            },
            "baxis": {
             "endlinecolor": "#2a3f5f",
             "gridcolor": "white",
             "linecolor": "white",
             "minorgridcolor": "white",
             "startlinecolor": "#2a3f5f"
            },
            "type": "carpet"
           }
          ],
          "choropleth": [
           {
            "colorbar": {
             "outlinewidth": 0,
             "ticks": ""
            },
            "type": "choropleth"
           }
          ],
          "contour": [
           {
            "colorbar": {
             "outlinewidth": 0,
             "ticks": ""
            },
            "colorscale": [
             [
              0,
              "#0d0887"
             ],
             [
              0.1111111111111111,
              "#46039f"
             ],
             [
              0.2222222222222222,
              "#7201a8"
             ],
             [
              0.3333333333333333,
              "#9c179e"
             ],
             [
              0.4444444444444444,
              "#bd3786"
             ],
             [
              0.5555555555555556,
              "#d8576b"
             ],
             [
              0.6666666666666666,
              "#ed7953"
             ],
             [
              0.7777777777777778,
              "#fb9f3a"
             ],
             [
              0.8888888888888888,
              "#fdca26"
             ],
             [
              1,
              "#f0f921"
             ]
            ],
            "type": "contour"
           }
          ],
          "contourcarpet": [
           {
            "colorbar": {
             "outlinewidth": 0,
             "ticks": ""
            },
            "type": "contourcarpet"
           }
          ],
          "heatmap": [
           {
            "colorbar": {
             "outlinewidth": 0,
             "ticks": ""
            },
            "colorscale": [
             [
              0,
              "#0d0887"
             ],
             [
              0.1111111111111111,
              "#46039f"
             ],
             [
              0.2222222222222222,
              "#7201a8"
             ],
             [
              0.3333333333333333,
              "#9c179e"
             ],
             [
              0.4444444444444444,
              "#bd3786"
             ],
             [
              0.5555555555555556,
              "#d8576b"
             ],
             [
              0.6666666666666666,
              "#ed7953"
             ],
             [
              0.7777777777777778,
              "#fb9f3a"
             ],
             [
              0.8888888888888888,
              "#fdca26"
             ],
             [
              1,
              "#f0f921"
             ]
            ],
            "type": "heatmap"
           }
          ],
          "heatmapgl": [
           {
            "colorbar": {
             "outlinewidth": 0,
             "ticks": ""
            },
            "colorscale": [
             [
              0,
              "#0d0887"
             ],
             [
              0.1111111111111111,
              "#46039f"
             ],
             [
              0.2222222222222222,
              "#7201a8"
             ],
             [
              0.3333333333333333,
              "#9c179e"
             ],
             [
              0.4444444444444444,
              "#bd3786"
             ],
             [
              0.5555555555555556,
              "#d8576b"
             ],
             [
              0.6666666666666666,
              "#ed7953"
             ],
             [
              0.7777777777777778,
              "#fb9f3a"
             ],
             [
              0.8888888888888888,
              "#fdca26"
             ],
             [
              1,
              "#f0f921"
             ]
            ],
            "type": "heatmapgl"
           }
          ],
          "histogram": [
           {
            "marker": {
             "colorbar": {
              "outlinewidth": 0,
              "ticks": ""
             }
            },
            "type": "histogram"
           }
          ],
          "histogram2d": [
           {
            "colorbar": {
             "outlinewidth": 0,
             "ticks": ""
            },
            "colorscale": [
             [
              0,
              "#0d0887"
             ],
             [
              0.1111111111111111,
              "#46039f"
             ],
             [
              0.2222222222222222,
              "#7201a8"
             ],
             [
              0.3333333333333333,
              "#9c179e"
             ],
             [
              0.4444444444444444,
              "#bd3786"
             ],
             [
              0.5555555555555556,
              "#d8576b"
             ],
             [
              0.6666666666666666,
              "#ed7953"
             ],
             [
              0.7777777777777778,
              "#fb9f3a"
             ],
             [
              0.8888888888888888,
              "#fdca26"
             ],
             [
              1,
              "#f0f921"
             ]
            ],
            "type": "histogram2d"
           }
          ],
          "histogram2dcontour": [
           {
            "colorbar": {
             "outlinewidth": 0,
             "ticks": ""
            },
            "colorscale": [
             [
              0,
              "#0d0887"
             ],
             [
              0.1111111111111111,
              "#46039f"
             ],
             [
              0.2222222222222222,
              "#7201a8"
             ],
             [
              0.3333333333333333,
              "#9c179e"
             ],
             [
              0.4444444444444444,
              "#bd3786"
             ],
             [
              0.5555555555555556,
              "#d8576b"
             ],
             [
              0.6666666666666666,
              "#ed7953"
             ],
             [
              0.7777777777777778,
              "#fb9f3a"
             ],
             [
              0.8888888888888888,
              "#fdca26"
             ],
             [
              1,
              "#f0f921"
             ]
            ],
            "type": "histogram2dcontour"
           }
          ],
          "mesh3d": [
           {
            "colorbar": {
             "outlinewidth": 0,
             "ticks": ""
            },
            "type": "mesh3d"
           }
          ],
          "parcoords": [
           {
            "line": {
             "colorbar": {
              "outlinewidth": 0,
              "ticks": ""
             }
            },
            "type": "parcoords"
           }
          ],
          "pie": [
           {
            "automargin": true,
            "type": "pie"
           }
          ],
          "scatter": [
           {
            "marker": {
             "colorbar": {
              "outlinewidth": 0,
              "ticks": ""
             }
            },
            "type": "scatter"
           }
          ],
          "scatter3d": [
           {
            "line": {
             "colorbar": {
              "outlinewidth": 0,
              "ticks": ""
             }
            },
            "marker": {
             "colorbar": {
              "outlinewidth": 0,
              "ticks": ""
             }
            },
            "type": "scatter3d"
           }
          ],
          "scattercarpet": [
           {
            "marker": {
             "colorbar": {
              "outlinewidth": 0,
              "ticks": ""
             }
            },
            "type": "scattercarpet"
           }
          ],
          "scattergeo": [
           {
            "marker": {
             "colorbar": {
              "outlinewidth": 0,
              "ticks": ""
             }
            },
            "type": "scattergeo"
           }
          ],
          "scattergl": [
           {
            "marker": {
             "colorbar": {
              "outlinewidth": 0,
              "ticks": ""
             }
            },
            "type": "scattergl"
           }
          ],
          "scattermapbox": [
           {
            "marker": {
             "colorbar": {
              "outlinewidth": 0,
              "ticks": ""
             }
            },
            "type": "scattermapbox"
           }
          ],
          "scatterpolar": [
           {
            "marker": {
             "colorbar": {
              "outlinewidth": 0,
              "ticks": ""
             }
            },
            "type": "scatterpolar"
           }
          ],
          "scatterpolargl": [
           {
            "marker": {
             "colorbar": {
              "outlinewidth": 0,
              "ticks": ""
             }
            },
            "type": "scatterpolargl"
           }
          ],
          "scatterternary": [
           {
            "marker": {
             "colorbar": {
              "outlinewidth": 0,
              "ticks": ""
             }
            },
            "type": "scatterternary"
           }
          ],
          "surface": [
           {
            "colorbar": {
             "outlinewidth": 0,
             "ticks": ""
            },
            "colorscale": [
             [
              0,
              "#0d0887"
             ],
             [
              0.1111111111111111,
              "#46039f"
             ],
             [
              0.2222222222222222,
              "#7201a8"
             ],
             [
              0.3333333333333333,
              "#9c179e"
             ],
             [
              0.4444444444444444,
              "#bd3786"
             ],
             [
              0.5555555555555556,
              "#d8576b"
             ],
             [
              0.6666666666666666,
              "#ed7953"
             ],
             [
              0.7777777777777778,
              "#fb9f3a"
             ],
             [
              0.8888888888888888,
              "#fdca26"
             ],
             [
              1,
              "#f0f921"
             ]
            ],
            "type": "surface"
           }
          ],
          "table": [
           {
            "cells": {
             "fill": {
              "color": "#EBF0F8"
             },
             "line": {
              "color": "white"
             }
            },
            "header": {
             "fill": {
              "color": "#C8D4E3"
             },
             "line": {
              "color": "white"
             }
            },
            "type": "table"
           }
          ]
         },
         "layout": {
          "annotationdefaults": {
           "arrowcolor": "#2a3f5f",
           "arrowhead": 0,
           "arrowwidth": 1
          },
          "coloraxis": {
           "colorbar": {
            "outlinewidth": 0,
            "ticks": ""
           }
          },
          "colorscale": {
           "diverging": [
            [
             0,
             "#8e0152"
            ],
            [
             0.1,
             "#c51b7d"
            ],
            [
             0.2,
             "#de77ae"
            ],
            [
             0.3,
             "#f1b6da"
            ],
            [
             0.4,
             "#fde0ef"
            ],
            [
             0.5,
             "#f7f7f7"
            ],
            [
             0.6,
             "#e6f5d0"
            ],
            [
             0.7,
             "#b8e186"
            ],
            [
             0.8,
             "#7fbc41"
            ],
            [
             0.9,
             "#4d9221"
            ],
            [
             1,
             "#276419"
            ]
           ],
           "sequential": [
            [
             0,
             "#0d0887"
            ],
            [
             0.1111111111111111,
             "#46039f"
            ],
            [
             0.2222222222222222,
             "#7201a8"
            ],
            [
             0.3333333333333333,
             "#9c179e"
            ],
            [
             0.4444444444444444,
             "#bd3786"
            ],
            [
             0.5555555555555556,
             "#d8576b"
            ],
            [
             0.6666666666666666,
             "#ed7953"
            ],
            [
             0.7777777777777778,
             "#fb9f3a"
            ],
            [
             0.8888888888888888,
             "#fdca26"
            ],
            [
             1,
             "#f0f921"
            ]
           ],
           "sequentialminus": [
            [
             0,
             "#0d0887"
            ],
            [
             0.1111111111111111,
             "#46039f"
            ],
            [
             0.2222222222222222,
             "#7201a8"
            ],
            [
             0.3333333333333333,
             "#9c179e"
            ],
            [
             0.4444444444444444,
             "#bd3786"
            ],
            [
             0.5555555555555556,
             "#d8576b"
            ],
            [
             0.6666666666666666,
             "#ed7953"
            ],
            [
             0.7777777777777778,
             "#fb9f3a"
            ],
            [
             0.8888888888888888,
             "#fdca26"
            ],
            [
             1,
             "#f0f921"
            ]
           ]
          },
          "colorway": [
           "#636efa",
           "#EF553B",
           "#00cc96",
           "#ab63fa",
           "#FFA15A",
           "#19d3f3",
           "#FF6692",
           "#B6E880",
           "#FF97FF",
           "#FECB52"
          ],
          "font": {
           "color": "#2a3f5f"
          },
          "geo": {
           "bgcolor": "white",
           "lakecolor": "white",
           "landcolor": "#E5ECF6",
           "showlakes": true,
           "showland": true,
           "subunitcolor": "white"
          },
          "hoverlabel": {
           "align": "left"
          },
          "hovermode": "closest",
          "mapbox": {
           "style": "light"
          },
          "paper_bgcolor": "white",
          "plot_bgcolor": "#E5ECF6",
          "polar": {
           "angularaxis": {
            "gridcolor": "white",
            "linecolor": "white",
            "ticks": ""
           },
           "bgcolor": "#E5ECF6",
           "radialaxis": {
            "gridcolor": "white",
            "linecolor": "white",
            "ticks": ""
           }
          },
          "scene": {
           "xaxis": {
            "backgroundcolor": "#E5ECF6",
            "gridcolor": "white",
            "gridwidth": 2,
            "linecolor": "white",
            "showbackground": true,
            "ticks": "",
            "zerolinecolor": "white"
           },
           "yaxis": {
            "backgroundcolor": "#E5ECF6",
            "gridcolor": "white",
            "gridwidth": 2,
            "linecolor": "white",
            "showbackground": true,
            "ticks": "",
            "zerolinecolor": "white"
           },
           "zaxis": {
            "backgroundcolor": "#E5ECF6",
            "gridcolor": "white",
            "gridwidth": 2,
            "linecolor": "white",
            "showbackground": true,
            "ticks": "",
            "zerolinecolor": "white"
           }
          },
          "shapedefaults": {
           "line": {
            "color": "#2a3f5f"
           }
          },
          "ternary": {
           "aaxis": {
            "gridcolor": "white",
            "linecolor": "white",
            "ticks": ""
           },
           "baxis": {
            "gridcolor": "white",
            "linecolor": "white",
            "ticks": ""
           },
           "bgcolor": "#E5ECF6",
           "caxis": {
            "gridcolor": "white",
            "linecolor": "white",
            "ticks": ""
           }
          },
          "title": {
           "x": 0.05
          },
          "xaxis": {
           "automargin": true,
           "gridcolor": "white",
           "linecolor": "white",
           "ticks": "",
           "title": {
            "standoff": 15
           },
           "zerolinecolor": "white",
           "zerolinewidth": 2
          },
          "yaxis": {
           "automargin": true,
           "gridcolor": "white",
           "linecolor": "white",
           "ticks": "",
           "title": {
            "standoff": 15
           },
           "zerolinecolor": "white",
           "zerolinewidth": 2
          }
         }
        },
        "title": {
         "font": {
          "color": "#4D5663"
         },
         "text": "NYC one family house sales by neighborhood"
        },
        "xaxis": {
         "gridcolor": "#E1E5ED",
         "showgrid": true,
         "tickfont": {
          "color": "#4D5663"
         },
         "title": {
          "font": {
           "color": "#4D5663"
          },
          "text": "Average price, USD"
         },
         "zerolinecolor": "#E1E5ED"
        },
        "yaxis": {
         "gridcolor": "#E1E5ED",
         "showgrid": true,
         "tickfont": {
          "color": "#4D5663"
         },
         "title": {
          "font": {
           "color": "#4D5663"
          },
          "text": "Count"
         },
         "zerolinecolor": "#E1E5ED"
        }
       }
      },
      "text/html": [
       "<div>\n",
       "        \n",
       "        \n",
       "            <div id=\"6fde605b-5266-453c-aeee-ff20ed8a8613\" class=\"plotly-graph-div\" style=\"height:525px; width:100%;\"></div>\n",
       "            <script type=\"text/javascript\">\n",
       "                require([\"plotly\"], function(Plotly) {\n",
       "                    window.PLOTLYENV=window.PLOTLYENV || {};\n",
       "                    \n",
       "                if (document.getElementById(\"6fde605b-5266-453c-aeee-ff20ed8a8613\")) {\n",
       "                    Plotly.newPlot(\n",
       "                        '6fde605b-5266-453c-aeee-ff20ed8a8613',\n",
       "                        [{\"histfunc\": \"count\", \"histnorm\": \"\", \"marker\": {\"color\": \"rgba(255, 153, 51, 1.0)\", \"line\": {\"color\": \"#4D5663\", \"width\": 1.3}}, \"name\": \"avg_sale_price\", \"nbinsx\": 50, \"opacity\": 0.8, \"orientation\": \"v\", \"type\": \"histogram\", \"x\": [622211.1111111111, 3941441.75, 637417.0, 367513.6, 486442.8, 579242.8, 324288.8, 782315.6, 760857.0, 336701.2, 963129.8, 342277.1, 759865.6, 511133.2, 811657.3, 907414.5, 799884.5, 507664.5, 302154.71428571426, 792907.8, 632873.8, 7399950.0, 2629278.7, 917427.5, 486969.5, 554009.1, 498685.3, 356288.2, 361248.7, 5236114.1, 4673333.333333333, 325831.9, 396782.4, 771666.6666666666, 624218.9, 385824.8, 392779.1, 3171566.2, 361462.0, 472242.4, 5897463.333333333, 484180.4, 1141659.75, 3850000.0, 2028852.7, 532337.6, 331250.0, 3201248.7, 2066875.0, 587913.2, 319693.9, 308875.6, 421579.9, 666287.2, 458262.7, 403415.25, 868773.0, 408040.7, 537312.9, 766952.9, 369627.5, 961900.2, 3544556.0, 3834103.3333333335, 1940000.0, 815926.0, 492369.0, 353314.2, 355101.8, 6108802.0, 645084.5, 469334.9, 952459.8, 513060.4, 1950000.0, 1508387.8, 1182579.0, 469707.5, 1245944.3, 458089.2, 12000000.0, 436847.8, 558825.1, 749493.2, 675933.1, 385798.6666666667, 1110752.2, 1978113.3333333333, 312513.0, 766438.5, 408726.7, 565889.2, 541294.9, 1317015.1, 6031175.0, 476449.4, 521040.4, 651116.9, 453154.8, 446249.7, 1198466.5, 14180155.8, 9518116.3, 628238.7, 359062.4, 1914516.8, 2331979.25, 1852634.8, 1530000.0, 414661.0, 571393.5, 407268.9, 828165.2, 797751.6, 578402.1, 606474.7, 367556.0, 544706.0, 616062.7, 485292.8, 323271.44444444444, 976549.0, 568978.2, 907925.7, 803919.6, 396161.8, 502126.4, 5312500.0, 384160.4, 9418680.0, 826737.7, 430601.4, 870124.7, 3550000.0, 766697.6, 1315353.6, 3277500.0, 516493.8, 555187.5, 320938.8, 551532.3, 453479.77777777775, 599753.1, 424735.9, 6488774.7, 939324.7, 954956.4, 423545.0, 389964.3, 422572.6666666667, 482233.8888888889, 4157620.8, 1034161.4285714285, 988678.2, 364206.2, 478795.3, 359413.2, 544415.2, 466732.7, 761141.0, 525722.9, 512965.1, 520966.3, 1158675.5, 1819101.2, 429397.3, 418053.0, 3393870.1, 1355025.3, 393765.4, 479833.7, 443024.8, 515816.4, 634763.5, 331346.7, 333857.7, 623282.3, 1827369.888888889, 414226.3, 1476066.0, 739461.4, 425022.0, 662372.7, 827247.5, 563677.5, 1028318.5, 430462.0, 410285.4, 389812.1, 458605.5, 555313.5, 805000.0, 979476.6, 406539.5, 599710.1, 594354.2, 575949.1, 342768.9, 7427364.111111111, 322559.0, 418679.6, 350691.7, 402398.9, 3001549.25, 393834.71428571426, 367000.9, 371044.0, 359271.6, 350492.9, 732892.6666666666, 621052.3, 976347.5, 397434.8, 1422288.0, 469027.5, 577083.6, 407656.4, 12455766.777777778, 12603645.2, 9373868.3, 11875106.4, 8026820.2, 6091000.0, 347188.9, 1101725.375, 981290.0, 402505.3, 434494.5, 451363.3, 816566.5, 336714.5, 938055.5, 1327557.0, 2253320.3333333335, 2110537.0, 498153.6, 1218858.1, 428525.4, 427074.1, 510253.0, 619114.0, 654992.6666666666]}],\n",
       "                        {\"barmode\": \"overlay\", \"legend\": {\"bgcolor\": \"#F5F6F9\", \"font\": {\"color\": \"#4D5663\"}}, \"paper_bgcolor\": \"#F5F6F9\", \"plot_bgcolor\": \"#F5F6F9\", \"template\": {\"data\": {\"bar\": [{\"error_x\": {\"color\": \"#2a3f5f\"}, \"error_y\": {\"color\": \"#2a3f5f\"}, \"marker\": {\"line\": {\"color\": \"#E5ECF6\", \"width\": 0.5}}, \"type\": \"bar\"}], \"barpolar\": [{\"marker\": {\"line\": {\"color\": \"#E5ECF6\", \"width\": 0.5}}, \"type\": \"barpolar\"}], \"carpet\": [{\"aaxis\": {\"endlinecolor\": \"#2a3f5f\", \"gridcolor\": \"white\", \"linecolor\": \"white\", \"minorgridcolor\": \"white\", \"startlinecolor\": \"#2a3f5f\"}, \"baxis\": {\"endlinecolor\": \"#2a3f5f\", \"gridcolor\": \"white\", \"linecolor\": \"white\", \"minorgridcolor\": \"white\", \"startlinecolor\": \"#2a3f5f\"}, \"type\": \"carpet\"}], \"choropleth\": [{\"colorbar\": {\"outlinewidth\": 0, \"ticks\": \"\"}, \"type\": \"choropleth\"}], \"contour\": [{\"colorbar\": {\"outlinewidth\": 0, \"ticks\": \"\"}, \"colorscale\": [[0.0, \"#0d0887\"], [0.1111111111111111, \"#46039f\"], [0.2222222222222222, \"#7201a8\"], [0.3333333333333333, \"#9c179e\"], [0.4444444444444444, \"#bd3786\"], [0.5555555555555556, \"#d8576b\"], [0.6666666666666666, \"#ed7953\"], [0.7777777777777778, \"#fb9f3a\"], [0.8888888888888888, \"#fdca26\"], [1.0, \"#f0f921\"]], \"type\": \"contour\"}], \"contourcarpet\": [{\"colorbar\": {\"outlinewidth\": 0, \"ticks\": \"\"}, \"type\": \"contourcarpet\"}], \"heatmap\": [{\"colorbar\": {\"outlinewidth\": 0, \"ticks\": \"\"}, \"colorscale\": [[0.0, \"#0d0887\"], [0.1111111111111111, \"#46039f\"], [0.2222222222222222, \"#7201a8\"], [0.3333333333333333, \"#9c179e\"], [0.4444444444444444, \"#bd3786\"], [0.5555555555555556, \"#d8576b\"], [0.6666666666666666, \"#ed7953\"], [0.7777777777777778, \"#fb9f3a\"], [0.8888888888888888, \"#fdca26\"], [1.0, \"#f0f921\"]], \"type\": \"heatmap\"}], \"heatmapgl\": [{\"colorbar\": {\"outlinewidth\": 0, \"ticks\": \"\"}, \"colorscale\": [[0.0, \"#0d0887\"], [0.1111111111111111, \"#46039f\"], [0.2222222222222222, \"#7201a8\"], [0.3333333333333333, \"#9c179e\"], [0.4444444444444444, \"#bd3786\"], [0.5555555555555556, \"#d8576b\"], [0.6666666666666666, \"#ed7953\"], [0.7777777777777778, \"#fb9f3a\"], [0.8888888888888888, \"#fdca26\"], [1.0, \"#f0f921\"]], \"type\": \"heatmapgl\"}], \"histogram\": [{\"marker\": {\"colorbar\": {\"outlinewidth\": 0, \"ticks\": \"\"}}, \"type\": \"histogram\"}], \"histogram2d\": [{\"colorbar\": {\"outlinewidth\": 0, \"ticks\": \"\"}, \"colorscale\": [[0.0, \"#0d0887\"], [0.1111111111111111, \"#46039f\"], [0.2222222222222222, \"#7201a8\"], [0.3333333333333333, \"#9c179e\"], [0.4444444444444444, \"#bd3786\"], [0.5555555555555556, \"#d8576b\"], [0.6666666666666666, \"#ed7953\"], [0.7777777777777778, \"#fb9f3a\"], [0.8888888888888888, \"#fdca26\"], [1.0, \"#f0f921\"]], \"type\": \"histogram2d\"}], \"histogram2dcontour\": [{\"colorbar\": {\"outlinewidth\": 0, \"ticks\": \"\"}, \"colorscale\": [[0.0, \"#0d0887\"], [0.1111111111111111, \"#46039f\"], [0.2222222222222222, \"#7201a8\"], [0.3333333333333333, \"#9c179e\"], [0.4444444444444444, \"#bd3786\"], [0.5555555555555556, \"#d8576b\"], [0.6666666666666666, \"#ed7953\"], [0.7777777777777778, \"#fb9f3a\"], [0.8888888888888888, \"#fdca26\"], [1.0, \"#f0f921\"]], \"type\": \"histogram2dcontour\"}], \"mesh3d\": [{\"colorbar\": {\"outlinewidth\": 0, \"ticks\": \"\"}, \"type\": \"mesh3d\"}], \"parcoords\": [{\"line\": {\"colorbar\": {\"outlinewidth\": 0, \"ticks\": \"\"}}, \"type\": \"parcoords\"}], \"pie\": [{\"automargin\": true, \"type\": \"pie\"}], \"scatter\": [{\"marker\": {\"colorbar\": {\"outlinewidth\": 0, \"ticks\": \"\"}}, \"type\": \"scatter\"}], \"scatter3d\": [{\"line\": {\"colorbar\": {\"outlinewidth\": 0, \"ticks\": \"\"}}, \"marker\": {\"colorbar\": {\"outlinewidth\": 0, \"ticks\": \"\"}}, \"type\": \"scatter3d\"}], \"scattercarpet\": [{\"marker\": {\"colorbar\": {\"outlinewidth\": 0, \"ticks\": \"\"}}, \"type\": \"scattercarpet\"}], \"scattergeo\": [{\"marker\": {\"colorbar\": {\"outlinewidth\": 0, \"ticks\": \"\"}}, \"type\": \"scattergeo\"}], \"scattergl\": [{\"marker\": {\"colorbar\": {\"outlinewidth\": 0, \"ticks\": \"\"}}, \"type\": \"scattergl\"}], \"scattermapbox\": [{\"marker\": {\"colorbar\": {\"outlinewidth\": 0, \"ticks\": \"\"}}, \"type\": \"scattermapbox\"}], \"scatterpolar\": [{\"marker\": {\"colorbar\": {\"outlinewidth\": 0, \"ticks\": \"\"}}, \"type\": \"scatterpolar\"}], \"scatterpolargl\": [{\"marker\": {\"colorbar\": {\"outlinewidth\": 0, \"ticks\": \"\"}}, \"type\": \"scatterpolargl\"}], \"scatterternary\": [{\"marker\": {\"colorbar\": {\"outlinewidth\": 0, \"ticks\": \"\"}}, \"type\": \"scatterternary\"}], \"surface\": [{\"colorbar\": {\"outlinewidth\": 0, \"ticks\": \"\"}, \"colorscale\": [[0.0, \"#0d0887\"], [0.1111111111111111, \"#46039f\"], [0.2222222222222222, \"#7201a8\"], [0.3333333333333333, \"#9c179e\"], [0.4444444444444444, \"#bd3786\"], [0.5555555555555556, \"#d8576b\"], [0.6666666666666666, \"#ed7953\"], [0.7777777777777778, \"#fb9f3a\"], [0.8888888888888888, \"#fdca26\"], [1.0, \"#f0f921\"]], \"type\": \"surface\"}], \"table\": [{\"cells\": {\"fill\": {\"color\": \"#EBF0F8\"}, \"line\": {\"color\": \"white\"}}, \"header\": {\"fill\": {\"color\": \"#C8D4E3\"}, \"line\": {\"color\": \"white\"}}, \"type\": \"table\"}]}, \"layout\": {\"annotationdefaults\": {\"arrowcolor\": \"#2a3f5f\", \"arrowhead\": 0, \"arrowwidth\": 1}, \"coloraxis\": {\"colorbar\": {\"outlinewidth\": 0, \"ticks\": \"\"}}, \"colorscale\": {\"diverging\": [[0, \"#8e0152\"], [0.1, \"#c51b7d\"], [0.2, \"#de77ae\"], [0.3, \"#f1b6da\"], [0.4, \"#fde0ef\"], [0.5, \"#f7f7f7\"], [0.6, \"#e6f5d0\"], [0.7, \"#b8e186\"], [0.8, \"#7fbc41\"], [0.9, \"#4d9221\"], [1, \"#276419\"]], \"sequential\": [[0.0, \"#0d0887\"], [0.1111111111111111, \"#46039f\"], [0.2222222222222222, \"#7201a8\"], [0.3333333333333333, \"#9c179e\"], [0.4444444444444444, \"#bd3786\"], [0.5555555555555556, \"#d8576b\"], [0.6666666666666666, \"#ed7953\"], [0.7777777777777778, \"#fb9f3a\"], [0.8888888888888888, \"#fdca26\"], [1.0, \"#f0f921\"]], \"sequentialminus\": [[0.0, \"#0d0887\"], [0.1111111111111111, \"#46039f\"], [0.2222222222222222, \"#7201a8\"], [0.3333333333333333, \"#9c179e\"], [0.4444444444444444, \"#bd3786\"], [0.5555555555555556, \"#d8576b\"], [0.6666666666666666, \"#ed7953\"], [0.7777777777777778, \"#fb9f3a\"], [0.8888888888888888, \"#fdca26\"], [1.0, \"#f0f921\"]]}, \"colorway\": [\"#636efa\", \"#EF553B\", \"#00cc96\", \"#ab63fa\", \"#FFA15A\", \"#19d3f3\", \"#FF6692\", \"#B6E880\", \"#FF97FF\", \"#FECB52\"], \"font\": {\"color\": \"#2a3f5f\"}, \"geo\": {\"bgcolor\": \"white\", \"lakecolor\": \"white\", \"landcolor\": \"#E5ECF6\", \"showlakes\": true, \"showland\": true, \"subunitcolor\": \"white\"}, \"hoverlabel\": {\"align\": \"left\"}, \"hovermode\": \"closest\", \"mapbox\": {\"style\": \"light\"}, \"paper_bgcolor\": \"white\", \"plot_bgcolor\": \"#E5ECF6\", \"polar\": {\"angularaxis\": {\"gridcolor\": \"white\", \"linecolor\": \"white\", \"ticks\": \"\"}, \"bgcolor\": \"#E5ECF6\", \"radialaxis\": {\"gridcolor\": \"white\", \"linecolor\": \"white\", \"ticks\": \"\"}}, \"scene\": {\"xaxis\": {\"backgroundcolor\": \"#E5ECF6\", \"gridcolor\": \"white\", \"gridwidth\": 2, \"linecolor\": \"white\", \"showbackground\": true, \"ticks\": \"\", \"zerolinecolor\": \"white\"}, \"yaxis\": {\"backgroundcolor\": \"#E5ECF6\", \"gridcolor\": \"white\", \"gridwidth\": 2, \"linecolor\": \"white\", \"showbackground\": true, \"ticks\": \"\", \"zerolinecolor\": \"white\"}, \"zaxis\": {\"backgroundcolor\": \"#E5ECF6\", \"gridcolor\": \"white\", \"gridwidth\": 2, \"linecolor\": \"white\", \"showbackground\": true, \"ticks\": \"\", \"zerolinecolor\": \"white\"}}, \"shapedefaults\": {\"line\": {\"color\": \"#2a3f5f\"}}, \"ternary\": {\"aaxis\": {\"gridcolor\": \"white\", \"linecolor\": \"white\", \"ticks\": \"\"}, \"baxis\": {\"gridcolor\": \"white\", \"linecolor\": \"white\", \"ticks\": \"\"}, \"bgcolor\": \"#E5ECF6\", \"caxis\": {\"gridcolor\": \"white\", \"linecolor\": \"white\", \"ticks\": \"\"}}, \"title\": {\"x\": 0.05}, \"xaxis\": {\"automargin\": true, \"gridcolor\": \"white\", \"linecolor\": \"white\", \"ticks\": \"\", \"title\": {\"standoff\": 15}, \"zerolinecolor\": \"white\", \"zerolinewidth\": 2}, \"yaxis\": {\"automargin\": true, \"gridcolor\": \"white\", \"linecolor\": \"white\", \"ticks\": \"\", \"title\": {\"standoff\": 15}, \"zerolinecolor\": \"white\", \"zerolinewidth\": 2}}}, \"title\": {\"font\": {\"color\": \"#4D5663\"}, \"text\": \"NYC one family house sales by neighborhood\"}, \"xaxis\": {\"gridcolor\": \"#E1E5ED\", \"showgrid\": true, \"tickfont\": {\"color\": \"#4D5663\"}, \"title\": {\"font\": {\"color\": \"#4D5663\"}, \"text\": \"Average price, USD\"}, \"zerolinecolor\": \"#E1E5ED\"}, \"yaxis\": {\"gridcolor\": \"#E1E5ED\", \"showgrid\": true, \"tickfont\": {\"color\": \"#4D5663\"}, \"title\": {\"font\": {\"color\": \"#4D5663\"}, \"text\": \"Count\"}, \"zerolinecolor\": \"#E1E5ED\"}},\n",
       "                        {\"responsive\": true}\n",
       "                    ).then(function(){\n",
       "                            \n",
       "var gd = document.getElementById('6fde605b-5266-453c-aeee-ff20ed8a8613');\n",
       "var x = new MutationObserver(function (mutations, observer) {{\n",
       "        var display = window.getComputedStyle(gd).display;\n",
       "        if (!display || display === 'none') {{\n",
       "            console.log([gd, 'removed!']);\n",
       "            Plotly.purge(gd);\n",
       "            observer.disconnect();\n",
       "        }}\n",
       "}});\n",
       "\n",
       "// Listen for the removal of the full notebook cells\n",
       "var notebookContainer = gd.closest('#notebook-container');\n",
       "if (notebookContainer) {{\n",
       "    x.observe(notebookContainer, {childList: true});\n",
       "}}\n",
       "\n",
       "// Listen for the clearing of the current output cell\n",
       "var outputEl = gd.closest('.output');\n",
       "if (outputEl) {{\n",
       "    x.observe(outputEl, {childList: true});\n",
       "}}\n",
       "\n",
       "                        })\n",
       "                };\n",
       "                });\n",
       "            </script>\n",
       "        </div>"
      ]
     },
     "metadata": {},
     "output_type": "display_data"
    }
   ],
   "source": [
    "# generate histogram for sales per year\n",
    "ofh[\"avg_sale_price\"].iplot(kind=\"histogram\", asFigure=True, bins=50, \n",
    "                            title=\"NYC one family house sales by neighborhood\",xTitle='Average price, USD', yTitle='Count')"
   ]
  },
  {
   "cell_type": "code",
   "execution_count": 27,
   "metadata": {
    "ExecuteTime": {
     "end_time": "2020-05-03T10:45:20.794519Z",
     "start_time": "2020-05-03T10:45:20.785303Z"
    },
    "code_folding": []
   },
   "outputs": [
    {
     "name": "stdout",
     "output_type": "stream",
     "text": [
      "All neighborhoods: 242\n",
      "After threshold for # of sales: 187\n",
      "After threshold for price: 175\n"
     ]
    }
   ],
   "source": [
    "# exclude neighborhoods\n",
    "ofh = pd.merge(left=ofh_price, right=ofh_num_sales, on=\"neighborhood\")\n",
    "print(\"All neighborhoods: {}\".format(ofh.shape[0]))\n",
    "ofh = ofh[ofh[\"sales_per_year\"] >= 5]\n",
    "print(\"After threshold for # of sales: {}\".format(ofh.shape[0]))\n",
    "ofh = ofh[ofh[\"avg_sale_price\"] < 1500000]\n",
    "print(\"After threshold for price: {}\".format(ofh.shape[0]))"
   ]
  },
  {
   "cell_type": "markdown",
   "metadata": {},
   "source": [
    "Neighborhoods were excluded from the dataset for two reasons: \n",
    "+ they are on average too expansive for the average person (more than USD 1,5m)\n",
    "+ the markets themselves are not very liquid, i.e. it is too difficult to buy a house when they are on the market (less than 5 sales per year)\n",
    "\n",
    "Applying these filters, 175 of 242 neighborhoods (72%) remain."
   ]
  },
  {
   "cell_type": "markdown",
   "metadata": {},
   "source": [
    "## Getting school's neighborhoods through reverse geocoding"
   ]
  },
  {
   "cell_type": "markdown",
   "metadata": {},
   "source": [
    "Geocoding was implemented with the help of this nice [dataquest user project](https://community.dataquest.io/t/sharing-my-project-on-analyzing-nyc-high-school-data/384455) (also has some pointers for using [beautiful soup for webscraping](https://www.crummy.com/software/BeautifulSoup/bs4/doc/)) and this [medium post](https://towardsdatascience.com/reverse-geocoding-in-python-a915acf29eb6)."
   ]
  },
  {
   "cell_type": "code",
   "execution_count": 28,
   "metadata": {
    "ExecuteTime": {
     "end_time": "2020-05-03T10:48:22.029784Z",
     "start_time": "2020-05-03T10:45:20.796275Z"
    },
    "code_folding": []
   },
   "outputs": [
    {
     "data": {
      "application/vnd.jupyter.widget-view+json": {
       "model_id": "13f23ae56ddc44bd81f14079797fb357",
       "version_major": 2,
       "version_minor": 0
      },
      "text/plain": [
       "HBox(children=(FloatProgress(value=0.0, max=363.0), HTML(value='')))"
      ]
     },
     "metadata": {},
     "output_type": "display_data"
    },
    {
     "name": "stdout",
     "output_type": "stream",
     "text": [
      "\n"
     ]
    }
   ],
   "source": [
    "# consider coverting to markup cell to avoid rerunning - it takes quite long\n",
    "# build coordinates as inputs for reverse geocoding\n",
    "combined[\"coordinates\"] = combined[\"lat\"].astype(\n",
    "    str)+\",\"+combined[\"lon\"].astype(str)\n",
    "\n",
    "# make API request\n",
    "# read documentation https://geopy.readthedocs.io/\n",
    "locator = Nominatim(user_agent=\"Geocoder_for_DQ\", timeout=10)\n",
    "\n",
    "# adding delays between queries and retrying failed requests\n",
    "rgeocode = RateLimiter(locator.reverse, min_delay_seconds=0.1)\n",
    "\n",
    "# getting FutureWarning from tqdm ¯\\_(ツ)_/¯ used warnings lib\n",
    "with warnings.catch_warnings():\n",
    "    warnings.filterwarnings(\"ignore\", category=FutureWarning)\n",
    "    tqdm_notebook.pandas()\n",
    "    # progress_apply from tqdm for progressbar in Jupyter\n",
    "    combined[\"rgeocode\"] = combined[\"coordinates\"].progress_apply(rgeocode)"
   ]
  },
  {
   "cell_type": "code",
   "execution_count": 29,
   "metadata": {
    "ExecuteTime": {
     "end_time": "2020-05-03T10:48:22.048497Z",
     "start_time": "2020-05-03T10:48:22.033288Z"
    },
    "code_folding": [],
    "scrolled": false
   },
   "outputs": [
    {
     "name": "stdout",
     "output_type": "stream",
     "text": [
      "impute 103 missing neighborhoods from suburb\n",
      "0 missing neighborhoods remaining and filled with '0'\n"
     ]
    }
   ],
   "source": [
    "# paste info from location object to separat columns\n",
    "combined[\"rgeocode_raw\"] = [x.raw for x in combined[\"rgeocode\"]]\n",
    "combined[\"address_dict\"] = [x.get(\"address\") for x in combined[\"rgeocode_raw\"]]\n",
    "combined[\"neighborhood\"] = [x.get(\"neighbourhood\") for x in combined[\"address_dict\"]]\n",
    "combined[\"suburb\"] = [x.get(\"suburb\") for x in combined[\"address_dict\"]]\n",
    "\n",
    "# take suburb if neighborhood not found  \n",
    "print (\"impute {} missing neighborhoods from suburb\".format(combined[\"neighborhood\"].isna().sum()))\n",
    "combined[\"neighborhood\"] = combined[\"neighborhood\"].fillna(combined[\"suburb\"])\n",
    "print (\"{} missing neighborhoods remaining and filled with '0'\".format(combined[\"neighborhood\"].isna().sum()))\n",
    "combined[\"neighborhood\"] = combined[\"neighborhood\"].fillna(0)"
   ]
  },
  {
   "cell_type": "code",
   "execution_count": 31,
   "metadata": {
    "ExecuteTime": {
     "end_time": "2020-05-03T11:02:25.972653Z",
     "start_time": "2020-05-03T11:02:25.931212Z"
    },
    "code_folding": []
   },
   "outputs": [
    {
     "name": "stdout",
     "output_type": "stream",
     "text": [
      "42% of schools have property values associated with them\n"
     ]
    }
   ],
   "source": [
    "# drop dict and location column because they are not needed anymore\n",
    "combined_incl_locations = combined.copy() # but keep them in backup variable because API call takes so long\n",
    "combined.drop(columns=[\"rgeocode\",\"rgeocode_raw\",\"address_dict\"])\n",
    "\n",
    "# prepare datatype and formatting for merging \n",
    "ofh[\"neighborhood\"] = ofh[\"neighborhood\"].astype(str).str.lower().str.strip()\n",
    "combined[\"neighborhood\"] = combined[\"neighborhood\"].astype(str).str.lower().str.strip()\n",
    "\n",
    "# some schools geocoded neighborhoods were not found in the property dataset\n",
    "# did some manual lookup to arrive at this list for some of the unmatched schools\n",
    "schools_new_neighborhoods = {'bedford park': 'bedford park/norwood',\n",
    "                              'bedford-stuyvesant': 'bedford stuyvesant',\n",
    "                                'castle hill': 'castle hill/unionport',\n",
    "                                'cobble hill historic district': 'cobble hill-west',\n",
    "                                'east flatbush': 'flatbush-east',\n",
    "                                'flatbush': 'flatbush-central',\n",
    "                                'harlem': 'harlem-central',\n",
    "                                'kingsbridge': 'kingsbridge/jerome park',\n",
    "                                'kingsbridge heights': 'kingsbridge hts/univ hts',\n",
    "                                'melrose': 'melrose/concourse',\n",
    "                                'midtown': 'midtown east',\n",
    "                                'midtown south': 'midtown west',\n",
    "                                'morris heights': 'highbridge/morris heights',\n",
    "                                'morrisania': 'morrisania/longwood',\n",
    "                                'mott haven': 'mott haven/port morris',\n",
    "                                'norwood': 'bedford park/norwood',\n",
    "                                'port morris': 'mott haven/port morris',\n",
    "                                'saint george': 'new brighton-st. george',\n",
    "                                'upper west side': 'upper west side (79-96)',\n",
    "                                'west brighton': 'west new brighton',\n",
    "                                'williams bridge': 'williamsbridge',\n",
    "                                'williamsburg': 'williamsburg-central'}\n",
    "combined[\"neighborhood\"].replace(schools_new_neighborhoods,inplace=True)\n",
    "\n",
    "# If I were to do it properly, I would get shape objects of all neighborhoods \n",
    "# per the property dataset and do spatial matching with the schools coordinates...\n",
    "\n",
    "# now finally add property data to school dataset\n",
    "combined_prop = pd.merge(left=combined, right=ofh, on=\"neighborhood\",how=\"left\")\n",
    "share_prop = 100-combined_prop[\"avg_sale_price\"].isna().sum()/combined_prop.shape[0]*100\n",
    "print(\"{:,.0f}% of schools have property values associated with them\".format(share_prop))"
   ]
  },
  {
   "cell_type": "markdown",
   "metadata": {},
   "source": [
    "We now have information on the property values of (some) schools. Lets plot them and see where students score relatively well on SAT exams compared to how expansive the property of the neighborhood is."
   ]
  },
  {
   "cell_type": "code",
   "execution_count": 32,
   "metadata": {
    "ExecuteTime": {
     "end_time": "2020-05-03T11:02:37.650926Z",
     "start_time": "2020-05-03T11:02:37.361610Z"
    },
    "code_folding": []
   },
   "outputs": [
    {
     "data": {
      "application/vnd.plotly.v1+json": {
       "config": {
        "linkText": "Export to plot.ly",
        "plotlyServerURL": "https://plot.ly",
        "showLink": true
       },
       "data": [
        {
         "marker": {
          "color": "rgba(255, 153, 51, 1.0)",
          "line": {
           "width": 1.3
          },
          "opacity": 0.8,
          "size": 12,
          "symbol": "circle"
         },
         "mode": "markers",
         "name": "Bronx",
         "text": [
          "bedford park/norwood | avg. safety score: 6.6",
          "bronxdale | avg. safety score: 7.3",
          "castle hill/unionport | avg. safety score: 7.2",
          "east tremont | avg. safety score: 7.5",
          "highbridge/morris heights | avg. safety score: 7.9",
          "kingsbridge hts/univ hts | avg. safety score: 7.5",
          "kingsbridge/jerome park | avg. safety score: 7.5",
          "melrose/concourse | avg. safety score: 7.5",
          "morrisania/longwood | avg. safety score: 7.4",
          "mott haven/port morris | avg. safety score: 7.4",
          "williamsbridge | avg. safety score: 7.0",
          "woodlawn | avg. safety score: 6.8"
         ],
         "textfont": {
          "color": "#4D5663"
         },
         "type": "scatter",
         "x": [
          511133.2,
          361248.7,
          361462,
          355101.8,
          414661,
          396161.79999999993,
          502126.4,
          453479.7777777779,
          389964.29999999993,
          422572.6666666667,
          336714.5,
          427074.0999999999
         ],
         "y": [
          1612,
          1268,
          1162.2194029850748,
          1147.75,
          951,
          1209.142857142857,
          1181,
          1158.4944369063771,
          1146.7438805970148,
          1099,
          1136.1666666666667,
          1100.3333333333333
         ]
        },
        {
         "marker": {
          "color": "rgba(55, 128, 191, 1.0)",
          "line": {
           "width": 1.3
          },
          "opacity": 0.8,
          "size": 12,
          "symbol": "circle"
         },
         "mode": "markers",
         "name": "Brooklyn",
         "text": [
          "bath beach | avg. safety score: 7.0",
          "bay ridge | avg. safety score: 7.8",
          "bedford stuyvesant | avg. safety score: 6.3",
          "brighton beach | avg. safety score: 7.0",
          "brownsville | avg. safety score: 7.0",
          "bushwick | avg. safety score: 7.4",
          "canarsie | avg. safety score: 7.2",
          "crown heights | avg. safety score: 7.4",
          "dyker heights | avg. safety score: 7.6",
          "east new york | avg. safety score: 7.6",
          "flatbush-central | avg. safety score: 6.7",
          "flatbush-east | avg. safety score: 7.1",
          "gravesend | avg. safety score: 7.1",
          "greenpoint | avg. safety score: 6.6",
          "kensington | avg. safety score: 8.5",
          "midwood | avg. safety score: 7.3",
          "ocean hill | avg. safety score: 7.1",
          "sheepshead bay | avg. safety score: 7.9",
          "sunset park | avg. safety score: 7.2",
          "west new brighton | avg. safety score: 6.9",
          "woodhaven | avg. safety score: 6.6"
         ],
         "textfont": {
          "color": "#4D5663"
         },
         "type": "scatter",
         "x": [
          760857,
          963129.8,
          811657.3,
          498685.3,
          325831.9,
          624218.9,
          392779.0999999999,
          868773,
          815926,
          353314.2,
          1182579,
          469707.5,
          651116.9,
          1198466.5,
          907925.7,
          939324.7,
          520966.3,
          594354.2,
          976347.5,
          402505.3,
          428525.4
         ],
         "y": [
          1313,
          1323,
          1152.9694029850748,
          1184,
          1143.5,
          1115.5714285714287,
          1159,
          1237.5,
          1272,
          1199.5,
          1135.2,
          1076,
          1146.4064676616915,
          1107.5,
          1352,
          1452,
          1185,
          1488.5,
          1223.4388059701494,
          1237,
          1055
         ]
        },
        {
         "marker": {
          "color": "rgba(50, 171, 96, 1.0)",
          "line": {
           "width": 1.3
          },
          "opacity": 0.8,
          "size": 12,
          "symbol": "circle"
         },
         "mode": "markers",
         "name": "Queens",
         "text": [
          "astoria | avg. safety score: 7.2",
          "bayside | avg. safety score: 7.8",
          "cambria heights | avg. safety score: 6.6",
          "corona | avg. safety score: 7.6",
          "elmhurst | avg. safety score: 7.4",
          "fresh meadows | avg. safety score: 8.0",
          "hollis | avg. safety score: 8.1",
          "jamaica | avg. safety score: 7.4",
          "laurelton | avg. safety score: 7.0",
          "little neck | avg. safety score: 6.9",
          "long island city | avg. safety score: 7.6",
          "oakland gardens | avg. safety score: 7.0",
          "ozone park | avg. safety score: 7.0",
          "richmond hill | avg. safety score: 6.6",
          "ridgewood | avg. safety score: 7.3",
          "sunnyside | avg. safety score: 7.9"
         ],
         "textfont": {
          "color": "#4D5663"
         },
         "type": "scatter",
         "x": [
          782315.6,
          759865.6,
          385824.8,
          666287.2,
          645084.5,
          766438.5,
          407268.9,
          485292.8,
          384160.4,
          826737.7,
          870124.7,
          761141,
          418053,
          425022,
          563677.5,
          621052.2999999999
         ],
         "y": [
          1220.7194029850748,
          1445,
          1185.5,
          1174,
          1131.3333333333333,
          1400,
          1223.4388059701494,
          1592,
          1172,
          1279,
          1247,
          1514,
          1228.5,
          1154,
          1211,
          1296.4
         ]
        },
        {
         "marker": {
          "color": "rgba(128, 0, 128, 1.0)",
          "line": {
           "width": 1.3
          },
          "opacity": 0.8,
          "size": 12,
          "symbol": "circle"
         },
         "mode": "markers",
         "name": "Staten Island",
         "text": [
          "castleton corners | avg. safety score: 7.3",
          "emerson hill | avg. safety score: 7.3",
          "oakwood | avg. safety score: 8.6",
          "port richmond | avg. safety score: 6.4",
          "princes bay | avg. safety score: 7.4"
         ],
         "textfont": {
          "color": "#4D5663"
         },
         "type": "scatter",
         "x": [
          472242.4,
          952459.8,
          525722.9,
          333857.7,
          623282.3
         ],
         "y": [
          1388,
          1426,
          1953,
          1279,
          1418
         ]
        }
       ],
       "layout": {
        "hovermode": "closest",
        "template": {
         "data": {
          "bar": [
           {
            "error_x": {
             "color": "#2a3f5f"
            },
            "error_y": {
             "color": "#2a3f5f"
            },
            "marker": {
             "line": {
              "color": "#E5ECF6",
              "width": 0.5
             }
            },
            "type": "bar"
           }
          ],
          "barpolar": [
           {
            "marker": {
             "line": {
              "color": "#E5ECF6",
              "width": 0.5
             }
            },
            "type": "barpolar"
           }
          ],
          "carpet": [
           {
            "aaxis": {
             "endlinecolor": "#2a3f5f",
             "gridcolor": "white",
             "linecolor": "white",
             "minorgridcolor": "white",
             "startlinecolor": "#2a3f5f"
            },
            "baxis": {
             "endlinecolor": "#2a3f5f",
             "gridcolor": "white",
             "linecolor": "white",
             "minorgridcolor": "white",
             "startlinecolor": "#2a3f5f"
            },
            "type": "carpet"
           }
          ],
          "choropleth": [
           {
            "colorbar": {
             "outlinewidth": 0,
             "ticks": ""
            },
            "type": "choropleth"
           }
          ],
          "contour": [
           {
            "colorbar": {
             "outlinewidth": 0,
             "ticks": ""
            },
            "colorscale": [
             [
              0,
              "#0d0887"
             ],
             [
              0.1111111111111111,
              "#46039f"
             ],
             [
              0.2222222222222222,
              "#7201a8"
             ],
             [
              0.3333333333333333,
              "#9c179e"
             ],
             [
              0.4444444444444444,
              "#bd3786"
             ],
             [
              0.5555555555555556,
              "#d8576b"
             ],
             [
              0.6666666666666666,
              "#ed7953"
             ],
             [
              0.7777777777777778,
              "#fb9f3a"
             ],
             [
              0.8888888888888888,
              "#fdca26"
             ],
             [
              1,
              "#f0f921"
             ]
            ],
            "type": "contour"
           }
          ],
          "contourcarpet": [
           {
            "colorbar": {
             "outlinewidth": 0,
             "ticks": ""
            },
            "type": "contourcarpet"
           }
          ],
          "heatmap": [
           {
            "colorbar": {
             "outlinewidth": 0,
             "ticks": ""
            },
            "colorscale": [
             [
              0,
              "#0d0887"
             ],
             [
              0.1111111111111111,
              "#46039f"
             ],
             [
              0.2222222222222222,
              "#7201a8"
             ],
             [
              0.3333333333333333,
              "#9c179e"
             ],
             [
              0.4444444444444444,
              "#bd3786"
             ],
             [
              0.5555555555555556,
              "#d8576b"
             ],
             [
              0.6666666666666666,
              "#ed7953"
             ],
             [
              0.7777777777777778,
              "#fb9f3a"
             ],
             [
              0.8888888888888888,
              "#fdca26"
             ],
             [
              1,
              "#f0f921"
             ]
            ],
            "type": "heatmap"
           }
          ],
          "heatmapgl": [
           {
            "colorbar": {
             "outlinewidth": 0,
             "ticks": ""
            },
            "colorscale": [
             [
              0,
              "#0d0887"
             ],
             [
              0.1111111111111111,
              "#46039f"
             ],
             [
              0.2222222222222222,
              "#7201a8"
             ],
             [
              0.3333333333333333,
              "#9c179e"
             ],
             [
              0.4444444444444444,
              "#bd3786"
             ],
             [
              0.5555555555555556,
              "#d8576b"
             ],
             [
              0.6666666666666666,
              "#ed7953"
             ],
             [
              0.7777777777777778,
              "#fb9f3a"
             ],
             [
              0.8888888888888888,
              "#fdca26"
             ],
             [
              1,
              "#f0f921"
             ]
            ],
            "type": "heatmapgl"
           }
          ],
          "histogram": [
           {
            "marker": {
             "colorbar": {
              "outlinewidth": 0,
              "ticks": ""
             }
            },
            "type": "histogram"
           }
          ],
          "histogram2d": [
           {
            "colorbar": {
             "outlinewidth": 0,
             "ticks": ""
            },
            "colorscale": [
             [
              0,
              "#0d0887"
             ],
             [
              0.1111111111111111,
              "#46039f"
             ],
             [
              0.2222222222222222,
              "#7201a8"
             ],
             [
              0.3333333333333333,
              "#9c179e"
             ],
             [
              0.4444444444444444,
              "#bd3786"
             ],
             [
              0.5555555555555556,
              "#d8576b"
             ],
             [
              0.6666666666666666,
              "#ed7953"
             ],
             [
              0.7777777777777778,
              "#fb9f3a"
             ],
             [
              0.8888888888888888,
              "#fdca26"
             ],
             [
              1,
              "#f0f921"
             ]
            ],
            "type": "histogram2d"
           }
          ],
          "histogram2dcontour": [
           {
            "colorbar": {
             "outlinewidth": 0,
             "ticks": ""
            },
            "colorscale": [
             [
              0,
              "#0d0887"
             ],
             [
              0.1111111111111111,
              "#46039f"
             ],
             [
              0.2222222222222222,
              "#7201a8"
             ],
             [
              0.3333333333333333,
              "#9c179e"
             ],
             [
              0.4444444444444444,
              "#bd3786"
             ],
             [
              0.5555555555555556,
              "#d8576b"
             ],
             [
              0.6666666666666666,
              "#ed7953"
             ],
             [
              0.7777777777777778,
              "#fb9f3a"
             ],
             [
              0.8888888888888888,
              "#fdca26"
             ],
             [
              1,
              "#f0f921"
             ]
            ],
            "type": "histogram2dcontour"
           }
          ],
          "mesh3d": [
           {
            "colorbar": {
             "outlinewidth": 0,
             "ticks": ""
            },
            "type": "mesh3d"
           }
          ],
          "parcoords": [
           {
            "line": {
             "colorbar": {
              "outlinewidth": 0,
              "ticks": ""
             }
            },
            "type": "parcoords"
           }
          ],
          "pie": [
           {
            "automargin": true,
            "type": "pie"
           }
          ],
          "scatter": [
           {
            "marker": {
             "colorbar": {
              "outlinewidth": 0,
              "ticks": ""
             }
            },
            "type": "scatter"
           }
          ],
          "scatter3d": [
           {
            "line": {
             "colorbar": {
              "outlinewidth": 0,
              "ticks": ""
             }
            },
            "marker": {
             "colorbar": {
              "outlinewidth": 0,
              "ticks": ""
             }
            },
            "type": "scatter3d"
           }
          ],
          "scattercarpet": [
           {
            "marker": {
             "colorbar": {
              "outlinewidth": 0,
              "ticks": ""
             }
            },
            "type": "scattercarpet"
           }
          ],
          "scattergeo": [
           {
            "marker": {
             "colorbar": {
              "outlinewidth": 0,
              "ticks": ""
             }
            },
            "type": "scattergeo"
           }
          ],
          "scattergl": [
           {
            "marker": {
             "colorbar": {
              "outlinewidth": 0,
              "ticks": ""
             }
            },
            "type": "scattergl"
           }
          ],
          "scattermapbox": [
           {
            "marker": {
             "colorbar": {
              "outlinewidth": 0,
              "ticks": ""
             }
            },
            "type": "scattermapbox"
           }
          ],
          "scatterpolar": [
           {
            "marker": {
             "colorbar": {
              "outlinewidth": 0,
              "ticks": ""
             }
            },
            "type": "scatterpolar"
           }
          ],
          "scatterpolargl": [
           {
            "marker": {
             "colorbar": {
              "outlinewidth": 0,
              "ticks": ""
             }
            },
            "type": "scatterpolargl"
           }
          ],
          "scatterternary": [
           {
            "marker": {
             "colorbar": {
              "outlinewidth": 0,
              "ticks": ""
             }
            },
            "type": "scatterternary"
           }
          ],
          "surface": [
           {
            "colorbar": {
             "outlinewidth": 0,
             "ticks": ""
            },
            "colorscale": [
             [
              0,
              "#0d0887"
             ],
             [
              0.1111111111111111,
              "#46039f"
             ],
             [
              0.2222222222222222,
              "#7201a8"
             ],
             [
              0.3333333333333333,
              "#9c179e"
             ],
             [
              0.4444444444444444,
              "#bd3786"
             ],
             [
              0.5555555555555556,
              "#d8576b"
             ],
             [
              0.6666666666666666,
              "#ed7953"
             ],
             [
              0.7777777777777778,
              "#fb9f3a"
             ],
             [
              0.8888888888888888,
              "#fdca26"
             ],
             [
              1,
              "#f0f921"
             ]
            ],
            "type": "surface"
           }
          ],
          "table": [
           {
            "cells": {
             "fill": {
              "color": "#EBF0F8"
             },
             "line": {
              "color": "white"
             }
            },
            "header": {
             "fill": {
              "color": "#C8D4E3"
             },
             "line": {
              "color": "white"
             }
            },
            "type": "table"
           }
          ]
         },
         "layout": {
          "annotationdefaults": {
           "arrowcolor": "#2a3f5f",
           "arrowhead": 0,
           "arrowwidth": 1
          },
          "coloraxis": {
           "colorbar": {
            "outlinewidth": 0,
            "ticks": ""
           }
          },
          "colorscale": {
           "diverging": [
            [
             0,
             "#8e0152"
            ],
            [
             0.1,
             "#c51b7d"
            ],
            [
             0.2,
             "#de77ae"
            ],
            [
             0.3,
             "#f1b6da"
            ],
            [
             0.4,
             "#fde0ef"
            ],
            [
             0.5,
             "#f7f7f7"
            ],
            [
             0.6,
             "#e6f5d0"
            ],
            [
             0.7,
             "#b8e186"
            ],
            [
             0.8,
             "#7fbc41"
            ],
            [
             0.9,
             "#4d9221"
            ],
            [
             1,
             "#276419"
            ]
           ],
           "sequential": [
            [
             0,
             "#0d0887"
            ],
            [
             0.1111111111111111,
             "#46039f"
            ],
            [
             0.2222222222222222,
             "#7201a8"
            ],
            [
             0.3333333333333333,
             "#9c179e"
            ],
            [
             0.4444444444444444,
             "#bd3786"
            ],
            [
             0.5555555555555556,
             "#d8576b"
            ],
            [
             0.6666666666666666,
             "#ed7953"
            ],
            [
             0.7777777777777778,
             "#fb9f3a"
            ],
            [
             0.8888888888888888,
             "#fdca26"
            ],
            [
             1,
             "#f0f921"
            ]
           ],
           "sequentialminus": [
            [
             0,
             "#0d0887"
            ],
            [
             0.1111111111111111,
             "#46039f"
            ],
            [
             0.2222222222222222,
             "#7201a8"
            ],
            [
             0.3333333333333333,
             "#9c179e"
            ],
            [
             0.4444444444444444,
             "#bd3786"
            ],
            [
             0.5555555555555556,
             "#d8576b"
            ],
            [
             0.6666666666666666,
             "#ed7953"
            ],
            [
             0.7777777777777778,
             "#fb9f3a"
            ],
            [
             0.8888888888888888,
             "#fdca26"
            ],
            [
             1,
             "#f0f921"
            ]
           ]
          },
          "colorway": [
           "#636efa",
           "#EF553B",
           "#00cc96",
           "#ab63fa",
           "#FFA15A",
           "#19d3f3",
           "#FF6692",
           "#B6E880",
           "#FF97FF",
           "#FECB52"
          ],
          "font": {
           "color": "#2a3f5f"
          },
          "geo": {
           "bgcolor": "white",
           "lakecolor": "white",
           "landcolor": "#E5ECF6",
           "showlakes": true,
           "showland": true,
           "subunitcolor": "white"
          },
          "hoverlabel": {
           "align": "left"
          },
          "hovermode": "closest",
          "mapbox": {
           "style": "light"
          },
          "paper_bgcolor": "white",
          "plot_bgcolor": "#E5ECF6",
          "polar": {
           "angularaxis": {
            "gridcolor": "white",
            "linecolor": "white",
            "ticks": ""
           },
           "bgcolor": "#E5ECF6",
           "radialaxis": {
            "gridcolor": "white",
            "linecolor": "white",
            "ticks": ""
           }
          },
          "scene": {
           "xaxis": {
            "backgroundcolor": "#E5ECF6",
            "gridcolor": "white",
            "gridwidth": 2,
            "linecolor": "white",
            "showbackground": true,
            "ticks": "",
            "zerolinecolor": "white"
           },
           "yaxis": {
            "backgroundcolor": "#E5ECF6",
            "gridcolor": "white",
            "gridwidth": 2,
            "linecolor": "white",
            "showbackground": true,
            "ticks": "",
            "zerolinecolor": "white"
           },
           "zaxis": {
            "backgroundcolor": "#E5ECF6",
            "gridcolor": "white",
            "gridwidth": 2,
            "linecolor": "white",
            "showbackground": true,
            "ticks": "",
            "zerolinecolor": "white"
           }
          },
          "shapedefaults": {
           "line": {
            "color": "#2a3f5f"
           }
          },
          "ternary": {
           "aaxis": {
            "gridcolor": "white",
            "linecolor": "white",
            "ticks": ""
           },
           "baxis": {
            "gridcolor": "white",
            "linecolor": "white",
            "ticks": ""
           },
           "bgcolor": "#E5ECF6",
           "caxis": {
            "gridcolor": "white",
            "linecolor": "white",
            "ticks": ""
           }
          },
          "title": {
           "x": 0.05
          },
          "xaxis": {
           "automargin": true,
           "gridcolor": "white",
           "linecolor": "white",
           "ticks": "",
           "title": {
            "standoff": 15
           },
           "zerolinecolor": "white",
           "zerolinewidth": 2
          },
          "yaxis": {
           "automargin": true,
           "gridcolor": "white",
           "linecolor": "white",
           "ticks": "",
           "title": {
            "standoff": 15
           },
           "zerolinecolor": "white",
           "zerolinewidth": 2
          }
         }
        },
        "title": {
         "text": "Property value vs. SAT score by neighborhood <br> dashed lines: average of entire dataset"
        }
       }
      },
      "text/html": [
       "<div>\n",
       "        \n",
       "        \n",
       "            <div id=\"9970481b-111c-47e5-8a4b-68f9f401e5e7\" class=\"plotly-graph-div\" style=\"height:525px; width:100%;\"></div>\n",
       "            <script type=\"text/javascript\">\n",
       "                require([\"plotly\"], function(Plotly) {\n",
       "                    window.PLOTLYENV=window.PLOTLYENV || {};\n",
       "                    window.PLOTLYENV.BASE_URL='https://plot.ly';\n",
       "                    \n",
       "                if (document.getElementById(\"9970481b-111c-47e5-8a4b-68f9f401e5e7\")) {\n",
       "                    Plotly.newPlot(\n",
       "                        '9970481b-111c-47e5-8a4b-68f9f401e5e7',\n",
       "                        [{\"marker\": {\"color\": \"rgba(255, 153, 51, 1.0)\", \"line\": {\"width\": 1.3}, \"opacity\": 0.8, \"size\": 12, \"symbol\": \"circle\"}, \"mode\": \"markers\", \"name\": \"Bronx\", \"text\": [\"bedford park/norwood | avg. safety score: 6.6\", \"bronxdale | avg. safety score: 7.3\", \"castle hill/unionport | avg. safety score: 7.2\", \"east tremont | avg. safety score: 7.5\", \"highbridge/morris heights | avg. safety score: 7.9\", \"kingsbridge hts/univ hts | avg. safety score: 7.5\", \"kingsbridge/jerome park | avg. safety score: 7.5\", \"melrose/concourse | avg. safety score: 7.5\", \"morrisania/longwood | avg. safety score: 7.4\", \"mott haven/port morris | avg. safety score: 7.4\", \"williamsbridge | avg. safety score: 7.0\", \"woodlawn | avg. safety score: 6.8\"], \"textfont\": {\"color\": \"#4D5663\"}, \"type\": \"scatter\", \"x\": [511133.2, 361248.7, 361462.0, 355101.8, 414661.0, 396161.79999999993, 502126.4, 453479.7777777779, 389964.29999999993, 422572.6666666667, 336714.5, 427074.0999999999], \"y\": [1612.0, 1268.0, 1162.2194029850748, 1147.75, 951.0, 1209.142857142857, 1181.0, 1158.4944369063771, 1146.7438805970148, 1099.0, 1136.1666666666667, 1100.3333333333333]}, {\"marker\": {\"color\": \"rgba(55, 128, 191, 1.0)\", \"line\": {\"width\": 1.3}, \"opacity\": 0.8, \"size\": 12, \"symbol\": \"circle\"}, \"mode\": \"markers\", \"name\": \"Brooklyn\", \"text\": [\"bath beach | avg. safety score: 7.0\", \"bay ridge | avg. safety score: 7.8\", \"bedford stuyvesant | avg. safety score: 6.3\", \"brighton beach | avg. safety score: 7.0\", \"brownsville | avg. safety score: 7.0\", \"bushwick | avg. safety score: 7.4\", \"canarsie | avg. safety score: 7.2\", \"crown heights | avg. safety score: 7.4\", \"dyker heights | avg. safety score: 7.6\", \"east new york | avg. safety score: 7.6\", \"flatbush-central | avg. safety score: 6.7\", \"flatbush-east | avg. safety score: 7.1\", \"gravesend | avg. safety score: 7.1\", \"greenpoint | avg. safety score: 6.6\", \"kensington | avg. safety score: 8.5\", \"midwood | avg. safety score: 7.3\", \"ocean hill | avg. safety score: 7.1\", \"sheepshead bay | avg. safety score: 7.9\", \"sunset park | avg. safety score: 7.2\", \"west new brighton | avg. safety score: 6.9\", \"woodhaven | avg. safety score: 6.6\"], \"textfont\": {\"color\": \"#4D5663\"}, \"type\": \"scatter\", \"x\": [760857.0, 963129.8, 811657.3, 498685.3, 325831.9, 624218.9, 392779.0999999999, 868773.0, 815926.0, 353314.2, 1182579.0, 469707.5, 651116.9, 1198466.5, 907925.7, 939324.7, 520966.3, 594354.2, 976347.5, 402505.3, 428525.4], \"y\": [1313.0, 1323.0, 1152.9694029850748, 1184.0, 1143.5, 1115.5714285714287, 1159.0, 1237.5, 1272.0, 1199.5, 1135.2, 1076.0, 1146.4064676616915, 1107.5, 1352.0, 1452.0, 1185.0, 1488.5, 1223.4388059701494, 1237.0, 1055.0]}, {\"marker\": {\"color\": \"rgba(50, 171, 96, 1.0)\", \"line\": {\"width\": 1.3}, \"opacity\": 0.8, \"size\": 12, \"symbol\": \"circle\"}, \"mode\": \"markers\", \"name\": \"Queens\", \"text\": [\"astoria | avg. safety score: 7.2\", \"bayside | avg. safety score: 7.8\", \"cambria heights | avg. safety score: 6.6\", \"corona | avg. safety score: 7.6\", \"elmhurst | avg. safety score: 7.4\", \"fresh meadows | avg. safety score: 8.0\", \"hollis | avg. safety score: 8.1\", \"jamaica | avg. safety score: 7.4\", \"laurelton | avg. safety score: 7.0\", \"little neck | avg. safety score: 6.9\", \"long island city | avg. safety score: 7.6\", \"oakland gardens | avg. safety score: 7.0\", \"ozone park | avg. safety score: 7.0\", \"richmond hill | avg. safety score: 6.6\", \"ridgewood | avg. safety score: 7.3\", \"sunnyside | avg. safety score: 7.9\"], \"textfont\": {\"color\": \"#4D5663\"}, \"type\": \"scatter\", \"x\": [782315.6, 759865.6, 385824.8, 666287.2, 645084.5, 766438.5, 407268.9, 485292.8, 384160.4, 826737.7, 870124.7, 761141.0, 418053.0, 425022.0, 563677.5, 621052.2999999999], \"y\": [1220.7194029850748, 1445.0, 1185.5, 1174.0, 1131.3333333333333, 1400.0, 1223.4388059701494, 1592.0, 1172.0, 1279.0, 1247.0, 1514.0, 1228.5, 1154.0, 1211.0, 1296.4]}, {\"marker\": {\"color\": \"rgba(128, 0, 128, 1.0)\", \"line\": {\"width\": 1.3}, \"opacity\": 0.8, \"size\": 12, \"symbol\": \"circle\"}, \"mode\": \"markers\", \"name\": \"Staten Island\", \"text\": [\"castleton corners | avg. safety score: 7.3\", \"emerson hill | avg. safety score: 7.3\", \"oakwood | avg. safety score: 8.6\", \"port richmond | avg. safety score: 6.4\", \"princes bay | avg. safety score: 7.4\"], \"textfont\": {\"color\": \"#4D5663\"}, \"type\": \"scatter\", \"x\": [472242.4, 952459.8, 525722.9, 333857.7, 623282.3], \"y\": [1388.0, 1426.0, 1953.0, 1279.0, 1418.0]}],\n",
       "                        {\"hovermode\": \"closest\", \"template\": {\"data\": {\"bar\": [{\"error_x\": {\"color\": \"#2a3f5f\"}, \"error_y\": {\"color\": \"#2a3f5f\"}, \"marker\": {\"line\": {\"color\": \"#E5ECF6\", \"width\": 0.5}}, \"type\": \"bar\"}], \"barpolar\": [{\"marker\": {\"line\": {\"color\": \"#E5ECF6\", \"width\": 0.5}}, \"type\": \"barpolar\"}], \"carpet\": [{\"aaxis\": {\"endlinecolor\": \"#2a3f5f\", \"gridcolor\": \"white\", \"linecolor\": \"white\", \"minorgridcolor\": \"white\", \"startlinecolor\": \"#2a3f5f\"}, \"baxis\": {\"endlinecolor\": \"#2a3f5f\", \"gridcolor\": \"white\", \"linecolor\": \"white\", \"minorgridcolor\": \"white\", \"startlinecolor\": \"#2a3f5f\"}, \"type\": \"carpet\"}], \"choropleth\": [{\"colorbar\": {\"outlinewidth\": 0, \"ticks\": \"\"}, \"type\": \"choropleth\"}], \"contour\": [{\"colorbar\": {\"outlinewidth\": 0, \"ticks\": \"\"}, \"colorscale\": [[0.0, \"#0d0887\"], [0.1111111111111111, \"#46039f\"], [0.2222222222222222, \"#7201a8\"], [0.3333333333333333, \"#9c179e\"], [0.4444444444444444, \"#bd3786\"], [0.5555555555555556, \"#d8576b\"], [0.6666666666666666, \"#ed7953\"], [0.7777777777777778, \"#fb9f3a\"], [0.8888888888888888, \"#fdca26\"], [1.0, \"#f0f921\"]], \"type\": \"contour\"}], \"contourcarpet\": [{\"colorbar\": {\"outlinewidth\": 0, \"ticks\": \"\"}, \"type\": \"contourcarpet\"}], \"heatmap\": [{\"colorbar\": {\"outlinewidth\": 0, \"ticks\": \"\"}, \"colorscale\": [[0.0, \"#0d0887\"], [0.1111111111111111, \"#46039f\"], [0.2222222222222222, \"#7201a8\"], [0.3333333333333333, \"#9c179e\"], [0.4444444444444444, \"#bd3786\"], [0.5555555555555556, \"#d8576b\"], [0.6666666666666666, \"#ed7953\"], [0.7777777777777778, \"#fb9f3a\"], [0.8888888888888888, \"#fdca26\"], [1.0, \"#f0f921\"]], \"type\": \"heatmap\"}], \"heatmapgl\": [{\"colorbar\": {\"outlinewidth\": 0, \"ticks\": \"\"}, \"colorscale\": [[0.0, \"#0d0887\"], [0.1111111111111111, \"#46039f\"], [0.2222222222222222, \"#7201a8\"], [0.3333333333333333, \"#9c179e\"], [0.4444444444444444, \"#bd3786\"], [0.5555555555555556, \"#d8576b\"], [0.6666666666666666, \"#ed7953\"], [0.7777777777777778, \"#fb9f3a\"], [0.8888888888888888, \"#fdca26\"], [1.0, \"#f0f921\"]], \"type\": \"heatmapgl\"}], \"histogram\": [{\"marker\": {\"colorbar\": {\"outlinewidth\": 0, \"ticks\": \"\"}}, \"type\": \"histogram\"}], \"histogram2d\": [{\"colorbar\": {\"outlinewidth\": 0, \"ticks\": \"\"}, \"colorscale\": [[0.0, \"#0d0887\"], [0.1111111111111111, \"#46039f\"], [0.2222222222222222, \"#7201a8\"], [0.3333333333333333, \"#9c179e\"], [0.4444444444444444, \"#bd3786\"], [0.5555555555555556, \"#d8576b\"], [0.6666666666666666, \"#ed7953\"], [0.7777777777777778, \"#fb9f3a\"], [0.8888888888888888, \"#fdca26\"], [1.0, \"#f0f921\"]], \"type\": \"histogram2d\"}], \"histogram2dcontour\": [{\"colorbar\": {\"outlinewidth\": 0, \"ticks\": \"\"}, \"colorscale\": [[0.0, \"#0d0887\"], [0.1111111111111111, \"#46039f\"], [0.2222222222222222, \"#7201a8\"], [0.3333333333333333, \"#9c179e\"], [0.4444444444444444, \"#bd3786\"], [0.5555555555555556, \"#d8576b\"], [0.6666666666666666, \"#ed7953\"], [0.7777777777777778, \"#fb9f3a\"], [0.8888888888888888, \"#fdca26\"], [1.0, \"#f0f921\"]], \"type\": \"histogram2dcontour\"}], \"mesh3d\": [{\"colorbar\": {\"outlinewidth\": 0, \"ticks\": \"\"}, \"type\": \"mesh3d\"}], \"parcoords\": [{\"line\": {\"colorbar\": {\"outlinewidth\": 0, \"ticks\": \"\"}}, \"type\": \"parcoords\"}], \"pie\": [{\"automargin\": true, \"type\": \"pie\"}], \"scatter\": [{\"marker\": {\"colorbar\": {\"outlinewidth\": 0, \"ticks\": \"\"}}, \"type\": \"scatter\"}], \"scatter3d\": [{\"line\": {\"colorbar\": {\"outlinewidth\": 0, \"ticks\": \"\"}}, \"marker\": {\"colorbar\": {\"outlinewidth\": 0, \"ticks\": \"\"}}, \"type\": \"scatter3d\"}], \"scattercarpet\": [{\"marker\": {\"colorbar\": {\"outlinewidth\": 0, \"ticks\": \"\"}}, \"type\": \"scattercarpet\"}], \"scattergeo\": [{\"marker\": {\"colorbar\": {\"outlinewidth\": 0, \"ticks\": \"\"}}, \"type\": \"scattergeo\"}], \"scattergl\": [{\"marker\": {\"colorbar\": {\"outlinewidth\": 0, \"ticks\": \"\"}}, \"type\": \"scattergl\"}], \"scattermapbox\": [{\"marker\": {\"colorbar\": {\"outlinewidth\": 0, \"ticks\": \"\"}}, \"type\": \"scattermapbox\"}], \"scatterpolar\": [{\"marker\": {\"colorbar\": {\"outlinewidth\": 0, \"ticks\": \"\"}}, \"type\": \"scatterpolar\"}], \"scatterpolargl\": [{\"marker\": {\"colorbar\": {\"outlinewidth\": 0, \"ticks\": \"\"}}, \"type\": \"scatterpolargl\"}], \"scatterternary\": [{\"marker\": {\"colorbar\": {\"outlinewidth\": 0, \"ticks\": \"\"}}, \"type\": \"scatterternary\"}], \"surface\": [{\"colorbar\": {\"outlinewidth\": 0, \"ticks\": \"\"}, \"colorscale\": [[0.0, \"#0d0887\"], [0.1111111111111111, \"#46039f\"], [0.2222222222222222, \"#7201a8\"], [0.3333333333333333, \"#9c179e\"], [0.4444444444444444, \"#bd3786\"], [0.5555555555555556, \"#d8576b\"], [0.6666666666666666, \"#ed7953\"], [0.7777777777777778, \"#fb9f3a\"], [0.8888888888888888, \"#fdca26\"], [1.0, \"#f0f921\"]], \"type\": \"surface\"}], \"table\": [{\"cells\": {\"fill\": {\"color\": \"#EBF0F8\"}, \"line\": {\"color\": \"white\"}}, \"header\": {\"fill\": {\"color\": \"#C8D4E3\"}, \"line\": {\"color\": \"white\"}}, \"type\": \"table\"}]}, \"layout\": {\"annotationdefaults\": {\"arrowcolor\": \"#2a3f5f\", \"arrowhead\": 0, \"arrowwidth\": 1}, \"coloraxis\": {\"colorbar\": {\"outlinewidth\": 0, \"ticks\": \"\"}}, \"colorscale\": {\"diverging\": [[0, \"#8e0152\"], [0.1, \"#c51b7d\"], [0.2, \"#de77ae\"], [0.3, \"#f1b6da\"], [0.4, \"#fde0ef\"], [0.5, \"#f7f7f7\"], [0.6, \"#e6f5d0\"], [0.7, \"#b8e186\"], [0.8, \"#7fbc41\"], [0.9, \"#4d9221\"], [1, \"#276419\"]], \"sequential\": [[0.0, \"#0d0887\"], [0.1111111111111111, \"#46039f\"], [0.2222222222222222, \"#7201a8\"], [0.3333333333333333, \"#9c179e\"], [0.4444444444444444, \"#bd3786\"], [0.5555555555555556, \"#d8576b\"], [0.6666666666666666, \"#ed7953\"], [0.7777777777777778, \"#fb9f3a\"], [0.8888888888888888, \"#fdca26\"], [1.0, \"#f0f921\"]], \"sequentialminus\": [[0.0, \"#0d0887\"], [0.1111111111111111, \"#46039f\"], [0.2222222222222222, \"#7201a8\"], [0.3333333333333333, \"#9c179e\"], [0.4444444444444444, \"#bd3786\"], [0.5555555555555556, \"#d8576b\"], [0.6666666666666666, \"#ed7953\"], [0.7777777777777778, \"#fb9f3a\"], [0.8888888888888888, \"#fdca26\"], [1.0, \"#f0f921\"]]}, \"colorway\": [\"#636efa\", \"#EF553B\", \"#00cc96\", \"#ab63fa\", \"#FFA15A\", \"#19d3f3\", \"#FF6692\", \"#B6E880\", \"#FF97FF\", \"#FECB52\"], \"font\": {\"color\": \"#2a3f5f\"}, \"geo\": {\"bgcolor\": \"white\", \"lakecolor\": \"white\", \"landcolor\": \"#E5ECF6\", \"showlakes\": true, \"showland\": true, \"subunitcolor\": \"white\"}, \"hoverlabel\": {\"align\": \"left\"}, \"hovermode\": \"closest\", \"mapbox\": {\"style\": \"light\"}, \"paper_bgcolor\": \"white\", \"plot_bgcolor\": \"#E5ECF6\", \"polar\": {\"angularaxis\": {\"gridcolor\": \"white\", \"linecolor\": \"white\", \"ticks\": \"\"}, \"bgcolor\": \"#E5ECF6\", \"radialaxis\": {\"gridcolor\": \"white\", \"linecolor\": \"white\", \"ticks\": \"\"}}, \"scene\": {\"xaxis\": {\"backgroundcolor\": \"#E5ECF6\", \"gridcolor\": \"white\", \"gridwidth\": 2, \"linecolor\": \"white\", \"showbackground\": true, \"ticks\": \"\", \"zerolinecolor\": \"white\"}, \"yaxis\": {\"backgroundcolor\": \"#E5ECF6\", \"gridcolor\": \"white\", \"gridwidth\": 2, \"linecolor\": \"white\", \"showbackground\": true, \"ticks\": \"\", \"zerolinecolor\": \"white\"}, \"zaxis\": {\"backgroundcolor\": \"#E5ECF6\", \"gridcolor\": \"white\", \"gridwidth\": 2, \"linecolor\": \"white\", \"showbackground\": true, \"ticks\": \"\", \"zerolinecolor\": \"white\"}}, \"shapedefaults\": {\"line\": {\"color\": \"#2a3f5f\"}}, \"ternary\": {\"aaxis\": {\"gridcolor\": \"white\", \"linecolor\": \"white\", \"ticks\": \"\"}, \"baxis\": {\"gridcolor\": \"white\", \"linecolor\": \"white\", \"ticks\": \"\"}, \"bgcolor\": \"#E5ECF6\", \"caxis\": {\"gridcolor\": \"white\", \"linecolor\": \"white\", \"ticks\": \"\"}}, \"title\": {\"x\": 0.05}, \"xaxis\": {\"automargin\": true, \"gridcolor\": \"white\", \"linecolor\": \"white\", \"ticks\": \"\", \"title\": {\"standoff\": 15}, \"zerolinecolor\": \"white\", \"zerolinewidth\": 2}, \"yaxis\": {\"automargin\": true, \"gridcolor\": \"white\", \"linecolor\": \"white\", \"ticks\": \"\", \"title\": {\"standoff\": 15}, \"zerolinecolor\": \"white\", \"zerolinewidth\": 2}}}, \"title\": {\"text\": \"Property value vs. SAT score by neighborhood <br> dashed lines: average of entire dataset\"}},\n",
       "                        {\"showLink\": true, \"linkText\": \"Export to plot.ly\", \"plotlyServerURL\": \"https://plot.ly\", \"responsive\": true}\n",
       "                    ).then(function(){\n",
       "                            \n",
       "var gd = document.getElementById('9970481b-111c-47e5-8a4b-68f9f401e5e7');\n",
       "var x = new MutationObserver(function (mutations, observer) {{\n",
       "        var display = window.getComputedStyle(gd).display;\n",
       "        if (!display || display === 'none') {{\n",
       "            console.log([gd, 'removed!']);\n",
       "            Plotly.purge(gd);\n",
       "            observer.disconnect();\n",
       "        }}\n",
       "}});\n",
       "\n",
       "// Listen for the removal of the full notebook cells\n",
       "var notebookContainer = gd.closest('#notebook-container');\n",
       "if (notebookContainer) {{\n",
       "    x.observe(notebookContainer, {childList: true});\n",
       "}}\n",
       "\n",
       "// Listen for the clearing of the current output cell\n",
       "var outputEl = gd.closest('.output');\n",
       "if (outputEl) {{\n",
       "    x.observe(outputEl, {childList: true});\n",
       "}}\n",
       "\n",
       "                        })\n",
       "                };\n",
       "                });\n",
       "            </script>\n",
       "        </div>"
      ]
     },
     "metadata": {},
     "output_type": "display_data"
    }
   ],
   "source": [
    "# compute average SAT-score by neighborhood\n",
    "combined_prop = combined_prop[combined_prop[\"avg_sale_price\"].notna()]\n",
    "analysis_cols = [\"neighborhood\", \"boro\", \"sat_score\", \"avg_sale_price\",'saf_tot_11']\n",
    "combined_prop_analysis = combined_prop.loc[:,analysis_cols]\n",
    "hood_schools = combined_prop_analysis.groupby([\"boro\",\"neighborhood\"]).mean().reset_index()\n",
    "hood_schools[\"hovertext\"] = hood_schools[\"neighborhood\"]+\" | avg. safety score: \"+hood_schools[\"saf_tot_11\"].round(1).astype(str)\n",
    "\n",
    "with warnings.catch_warnings(): # to catch FutureWarning about np.module being used in panda\n",
    "    df_temp = hood_schools\n",
    "    x_temp = \"avg_sale_price\"\n",
    "    y_temp = \"sat_score\"\n",
    "    cat_temp = \"boro\"\n",
    "    text_temp = \"hovertext\"\n",
    "    warnings.filterwarnings(\"ignore\",category=FutureWarning)\n",
    "    df_temp.iplot(\n",
    "        x=x_temp,\n",
    "        y=y_temp,\n",
    "        categories=cat_temp,\n",
    "        text=text_temp,\n",
    "        vline= {\"x\":df_temp[x_temp].mean(),\n",
    "                \"color\":\"#000000\",\n",
    "                \"dash\": \"dash\"\n",
    "               },\n",
    "        hline={\"y\":df_temp[y_temp].mean(),\n",
    "               \"color\":\"#000000\",\n",
    "               \"dash\": \"dash\"\n",
    "              },\n",
    "        layout = dict(\n",
    "            hovermode=\"closest\",\n",
    "            # customize labels!   \n",
    "            title='Property value vs. SAT score by neighborhood <br> dashed lines: average of entire dataset'),\n",
    "            xTitle='Average poperty value one family home, USD',\n",
    "            yTitle='Avg. SAT score'\n",
    "    )"
   ]
  },
  {
   "cell_type": "markdown",
   "metadata": {},
   "source": [
    "[Sheepshead Bay](https://www.niche.com/places-to-live/n/sheepshead-bay-new-york-city-ny/) and [Jamaica](https://www.niche.com/places-to-live/n/jamaica-new-york-city-ny/) both have relatively low property prices and good public schools. [Bedford park / Norwood](https://www.niche.com/places-to-live/n/norwood-new-york-city-ny/) students feel less safe, so this neighborhood should maybe not be first choice. As the graph below shows, property prices in one of the recommended neighborhoods (Jamaica) have increased above average over the past decade.\n",
    "\n",
    "*Note*: The obvious best pick \"Oakwood\" is home to the elite school \"STATEN ISLAND TECHNICAL HIGH SCHOOL\" which is open to all NYC residents and has [strict admissions criteria](https://www.siths.org/apps/pages/index.jsp?uREC_ID=1554051&type=d&pREC_ID=1680270)."
   ]
  },
  {
   "cell_type": "code",
   "execution_count": 33,
   "metadata": {
    "ExecuteTime": {
     "end_time": "2020-05-03T11:02:39.041664Z",
     "start_time": "2020-05-03T11:02:38.766004Z"
    }
   },
   "outputs": [
    {
     "data": {
      "application/vnd.plotly.v1+json": {
       "config": {
        "linkText": "Export to plot.ly",
        "plotlyServerURL": "https://plot.ly",
        "showLink": true
       },
       "data": [
        {
         "line": {
          "color": "rgba(255, 153, 51, 1.0)",
          "dash": "solid",
          "shape": "linear",
          "width": 1.3
         },
         "marker": {
          "size": 12,
          "symbol": "circle"
         },
         "mode": "lines+markers",
         "name": "SHEEPSHEAD BAY",
         "text": "",
         "type": "scatter",
         "x": [
          2010,
          2011,
          2012,
          2013,
          2014,
          2015,
          2016,
          2017,
          2018,
          2019,
          "All"
         ],
         "y": [
          100,
          104.88070505016358,
          106.97069351756956,
          106.62492965973497,
          110.10246677692884,
          134.91252131604227,
          142.54863908971674,
          140.62832310947834,
          168.18480393520352,
          156.84370660567302,
          127.16967890605106
         ]
        },
        {
         "line": {
          "color": "rgba(55, 128, 191, 1.0)",
          "dash": "solid",
          "shape": "linear",
          "width": 1.3
         },
         "marker": {
          "size": 12,
          "symbol": "circle"
         },
         "mode": "lines+markers",
         "name": "JAMAICA",
         "text": "",
         "type": "scatter",
         "x": [
          2010,
          2011,
          2012,
          2013,
          2014,
          2015,
          2016,
          2017,
          2018,
          2019,
          "All"
         ],
         "y": [
          100,
          116.08275460473858,
          170.76656862193664,
          142.92704876539736,
          160.2406011057328,
          162.50268823430153,
          170.03272201506735,
          173.66357533507806,
          189.42109494678124,
          220.00079406305525,
          160.56378476920887
         ]
        },
        {
         "line": {
          "color": "rgba(50, 171, 96, 1.0)",
          "dash": "solid",
          "shape": "linear",
          "width": 1.3
         },
         "marker": {
          "size": 12,
          "symbol": "circle"
         },
         "mode": "lines+markers",
         "name": "All",
         "text": "",
         "type": "scatter",
         "x": [
          2010,
          2011,
          2012,
          2013,
          2014,
          2015,
          2016,
          2017,
          2018,
          2019,
          "All"
         ],
         "y": [
          100,
          88.37246678711294,
          98.10080807196411,
          102.54919546854472,
          109.16143703180954,
          135.9650554867219,
          119.74512190763294,
          127.35731981575933,
          150.7383311385594,
          147.83913050788365,
          118.05963435785524
         ]
        }
       ],
       "layout": {
        "legend": {
         "bgcolor": "#F5F6F9",
         "font": {
          "color": "#4D5663"
         }
        },
        "paper_bgcolor": "#F5F6F9",
        "plot_bgcolor": "#F5F6F9",
        "template": {
         "data": {
          "bar": [
           {
            "error_x": {
             "color": "#2a3f5f"
            },
            "error_y": {
             "color": "#2a3f5f"
            },
            "marker": {
             "line": {
              "color": "#E5ECF6",
              "width": 0.5
             }
            },
            "type": "bar"
           }
          ],
          "barpolar": [
           {
            "marker": {
             "line": {
              "color": "#E5ECF6",
              "width": 0.5
             }
            },
            "type": "barpolar"
           }
          ],
          "carpet": [
           {
            "aaxis": {
             "endlinecolor": "#2a3f5f",
             "gridcolor": "white",
             "linecolor": "white",
             "minorgridcolor": "white",
             "startlinecolor": "#2a3f5f"
            },
            "baxis": {
             "endlinecolor": "#2a3f5f",
             "gridcolor": "white",
             "linecolor": "white",
             "minorgridcolor": "white",
             "startlinecolor": "#2a3f5f"
            },
            "type": "carpet"
           }
          ],
          "choropleth": [
           {
            "colorbar": {
             "outlinewidth": 0,
             "ticks": ""
            },
            "type": "choropleth"
           }
          ],
          "contour": [
           {
            "colorbar": {
             "outlinewidth": 0,
             "ticks": ""
            },
            "colorscale": [
             [
              0,
              "#0d0887"
             ],
             [
              0.1111111111111111,
              "#46039f"
             ],
             [
              0.2222222222222222,
              "#7201a8"
             ],
             [
              0.3333333333333333,
              "#9c179e"
             ],
             [
              0.4444444444444444,
              "#bd3786"
             ],
             [
              0.5555555555555556,
              "#d8576b"
             ],
             [
              0.6666666666666666,
              "#ed7953"
             ],
             [
              0.7777777777777778,
              "#fb9f3a"
             ],
             [
              0.8888888888888888,
              "#fdca26"
             ],
             [
              1,
              "#f0f921"
             ]
            ],
            "type": "contour"
           }
          ],
          "contourcarpet": [
           {
            "colorbar": {
             "outlinewidth": 0,
             "ticks": ""
            },
            "type": "contourcarpet"
           }
          ],
          "heatmap": [
           {
            "colorbar": {
             "outlinewidth": 0,
             "ticks": ""
            },
            "colorscale": [
             [
              0,
              "#0d0887"
             ],
             [
              0.1111111111111111,
              "#46039f"
             ],
             [
              0.2222222222222222,
              "#7201a8"
             ],
             [
              0.3333333333333333,
              "#9c179e"
             ],
             [
              0.4444444444444444,
              "#bd3786"
             ],
             [
              0.5555555555555556,
              "#d8576b"
             ],
             [
              0.6666666666666666,
              "#ed7953"
             ],
             [
              0.7777777777777778,
              "#fb9f3a"
             ],
             [
              0.8888888888888888,
              "#fdca26"
             ],
             [
              1,
              "#f0f921"
             ]
            ],
            "type": "heatmap"
           }
          ],
          "heatmapgl": [
           {
            "colorbar": {
             "outlinewidth": 0,
             "ticks": ""
            },
            "colorscale": [
             [
              0,
              "#0d0887"
             ],
             [
              0.1111111111111111,
              "#46039f"
             ],
             [
              0.2222222222222222,
              "#7201a8"
             ],
             [
              0.3333333333333333,
              "#9c179e"
             ],
             [
              0.4444444444444444,
              "#bd3786"
             ],
             [
              0.5555555555555556,
              "#d8576b"
             ],
             [
              0.6666666666666666,
              "#ed7953"
             ],
             [
              0.7777777777777778,
              "#fb9f3a"
             ],
             [
              0.8888888888888888,
              "#fdca26"
             ],
             [
              1,
              "#f0f921"
             ]
            ],
            "type": "heatmapgl"
           }
          ],
          "histogram": [
           {
            "marker": {
             "colorbar": {
              "outlinewidth": 0,
              "ticks": ""
             }
            },
            "type": "histogram"
           }
          ],
          "histogram2d": [
           {
            "colorbar": {
             "outlinewidth": 0,
             "ticks": ""
            },
            "colorscale": [
             [
              0,
              "#0d0887"
             ],
             [
              0.1111111111111111,
              "#46039f"
             ],
             [
              0.2222222222222222,
              "#7201a8"
             ],
             [
              0.3333333333333333,
              "#9c179e"
             ],
             [
              0.4444444444444444,
              "#bd3786"
             ],
             [
              0.5555555555555556,
              "#d8576b"
             ],
             [
              0.6666666666666666,
              "#ed7953"
             ],
             [
              0.7777777777777778,
              "#fb9f3a"
             ],
             [
              0.8888888888888888,
              "#fdca26"
             ],
             [
              1,
              "#f0f921"
             ]
            ],
            "type": "histogram2d"
           }
          ],
          "histogram2dcontour": [
           {
            "colorbar": {
             "outlinewidth": 0,
             "ticks": ""
            },
            "colorscale": [
             [
              0,
              "#0d0887"
             ],
             [
              0.1111111111111111,
              "#46039f"
             ],
             [
              0.2222222222222222,
              "#7201a8"
             ],
             [
              0.3333333333333333,
              "#9c179e"
             ],
             [
              0.4444444444444444,
              "#bd3786"
             ],
             [
              0.5555555555555556,
              "#d8576b"
             ],
             [
              0.6666666666666666,
              "#ed7953"
             ],
             [
              0.7777777777777778,
              "#fb9f3a"
             ],
             [
              0.8888888888888888,
              "#fdca26"
             ],
             [
              1,
              "#f0f921"
             ]
            ],
            "type": "histogram2dcontour"
           }
          ],
          "mesh3d": [
           {
            "colorbar": {
             "outlinewidth": 0,
             "ticks": ""
            },
            "type": "mesh3d"
           }
          ],
          "parcoords": [
           {
            "line": {
             "colorbar": {
              "outlinewidth": 0,
              "ticks": ""
             }
            },
            "type": "parcoords"
           }
          ],
          "pie": [
           {
            "automargin": true,
            "type": "pie"
           }
          ],
          "scatter": [
           {
            "marker": {
             "colorbar": {
              "outlinewidth": 0,
              "ticks": ""
             }
            },
            "type": "scatter"
           }
          ],
          "scatter3d": [
           {
            "line": {
             "colorbar": {
              "outlinewidth": 0,
              "ticks": ""
             }
            },
            "marker": {
             "colorbar": {
              "outlinewidth": 0,
              "ticks": ""
             }
            },
            "type": "scatter3d"
           }
          ],
          "scattercarpet": [
           {
            "marker": {
             "colorbar": {
              "outlinewidth": 0,
              "ticks": ""
             }
            },
            "type": "scattercarpet"
           }
          ],
          "scattergeo": [
           {
            "marker": {
             "colorbar": {
              "outlinewidth": 0,
              "ticks": ""
             }
            },
            "type": "scattergeo"
           }
          ],
          "scattergl": [
           {
            "marker": {
             "colorbar": {
              "outlinewidth": 0,
              "ticks": ""
             }
            },
            "type": "scattergl"
           }
          ],
          "scattermapbox": [
           {
            "marker": {
             "colorbar": {
              "outlinewidth": 0,
              "ticks": ""
             }
            },
            "type": "scattermapbox"
           }
          ],
          "scatterpolar": [
           {
            "marker": {
             "colorbar": {
              "outlinewidth": 0,
              "ticks": ""
             }
            },
            "type": "scatterpolar"
           }
          ],
          "scatterpolargl": [
           {
            "marker": {
             "colorbar": {
              "outlinewidth": 0,
              "ticks": ""
             }
            },
            "type": "scatterpolargl"
           }
          ],
          "scatterternary": [
           {
            "marker": {
             "colorbar": {
              "outlinewidth": 0,
              "ticks": ""
             }
            },
            "type": "scatterternary"
           }
          ],
          "surface": [
           {
            "colorbar": {
             "outlinewidth": 0,
             "ticks": ""
            },
            "colorscale": [
             [
              0,
              "#0d0887"
             ],
             [
              0.1111111111111111,
              "#46039f"
             ],
             [
              0.2222222222222222,
              "#7201a8"
             ],
             [
              0.3333333333333333,
              "#9c179e"
             ],
             [
              0.4444444444444444,
              "#bd3786"
             ],
             [
              0.5555555555555556,
              "#d8576b"
             ],
             [
              0.6666666666666666,
              "#ed7953"
             ],
             [
              0.7777777777777778,
              "#fb9f3a"
             ],
             [
              0.8888888888888888,
              "#fdca26"
             ],
             [
              1,
              "#f0f921"
             ]
            ],
            "type": "surface"
           }
          ],
          "table": [
           {
            "cells": {
             "fill": {
              "color": "#EBF0F8"
             },
             "line": {
              "color": "white"
             }
            },
            "header": {
             "fill": {
              "color": "#C8D4E3"
             },
             "line": {
              "color": "white"
             }
            },
            "type": "table"
           }
          ]
         },
         "layout": {
          "annotationdefaults": {
           "arrowcolor": "#2a3f5f",
           "arrowhead": 0,
           "arrowwidth": 1
          },
          "coloraxis": {
           "colorbar": {
            "outlinewidth": 0,
            "ticks": ""
           }
          },
          "colorscale": {
           "diverging": [
            [
             0,
             "#8e0152"
            ],
            [
             0.1,
             "#c51b7d"
            ],
            [
             0.2,
             "#de77ae"
            ],
            [
             0.3,
             "#f1b6da"
            ],
            [
             0.4,
             "#fde0ef"
            ],
            [
             0.5,
             "#f7f7f7"
            ],
            [
             0.6,
             "#e6f5d0"
            ],
            [
             0.7,
             "#b8e186"
            ],
            [
             0.8,
             "#7fbc41"
            ],
            [
             0.9,
             "#4d9221"
            ],
            [
             1,
             "#276419"
            ]
           ],
           "sequential": [
            [
             0,
             "#0d0887"
            ],
            [
             0.1111111111111111,
             "#46039f"
            ],
            [
             0.2222222222222222,
             "#7201a8"
            ],
            [
             0.3333333333333333,
             "#9c179e"
            ],
            [
             0.4444444444444444,
             "#bd3786"
            ],
            [
             0.5555555555555556,
             "#d8576b"
            ],
            [
             0.6666666666666666,
             "#ed7953"
            ],
            [
             0.7777777777777778,
             "#fb9f3a"
            ],
            [
             0.8888888888888888,
             "#fdca26"
            ],
            [
             1,
             "#f0f921"
            ]
           ],
           "sequentialminus": [
            [
             0,
             "#0d0887"
            ],
            [
             0.1111111111111111,
             "#46039f"
            ],
            [
             0.2222222222222222,
             "#7201a8"
            ],
            [
             0.3333333333333333,
             "#9c179e"
            ],
            [
             0.4444444444444444,
             "#bd3786"
            ],
            [
             0.5555555555555556,
             "#d8576b"
            ],
            [
             0.6666666666666666,
             "#ed7953"
            ],
            [
             0.7777777777777778,
             "#fb9f3a"
            ],
            [
             0.8888888888888888,
             "#fdca26"
            ],
            [
             1,
             "#f0f921"
            ]
           ]
          },
          "colorway": [
           "#636efa",
           "#EF553B",
           "#00cc96",
           "#ab63fa",
           "#FFA15A",
           "#19d3f3",
           "#FF6692",
           "#B6E880",
           "#FF97FF",
           "#FECB52"
          ],
          "font": {
           "color": "#2a3f5f"
          },
          "geo": {
           "bgcolor": "white",
           "lakecolor": "white",
           "landcolor": "#E5ECF6",
           "showlakes": true,
           "showland": true,
           "subunitcolor": "white"
          },
          "hoverlabel": {
           "align": "left"
          },
          "hovermode": "closest",
          "mapbox": {
           "style": "light"
          },
          "paper_bgcolor": "white",
          "plot_bgcolor": "#E5ECF6",
          "polar": {
           "angularaxis": {
            "gridcolor": "white",
            "linecolor": "white",
            "ticks": ""
           },
           "bgcolor": "#E5ECF6",
           "radialaxis": {
            "gridcolor": "white",
            "linecolor": "white",
            "ticks": ""
           }
          },
          "scene": {
           "xaxis": {
            "backgroundcolor": "#E5ECF6",
            "gridcolor": "white",
            "gridwidth": 2,
            "linecolor": "white",
            "showbackground": true,
            "ticks": "",
            "zerolinecolor": "white"
           },
           "yaxis": {
            "backgroundcolor": "#E5ECF6",
            "gridcolor": "white",
            "gridwidth": 2,
            "linecolor": "white",
            "showbackground": true,
            "ticks": "",
            "zerolinecolor": "white"
           },
           "zaxis": {
            "backgroundcolor": "#E5ECF6",
            "gridcolor": "white",
            "gridwidth": 2,
            "linecolor": "white",
            "showbackground": true,
            "ticks": "",
            "zerolinecolor": "white"
           }
          },
          "shapedefaults": {
           "line": {
            "color": "#2a3f5f"
           }
          },
          "ternary": {
           "aaxis": {
            "gridcolor": "white",
            "linecolor": "white",
            "ticks": ""
           },
           "baxis": {
            "gridcolor": "white",
            "linecolor": "white",
            "ticks": ""
           },
           "bgcolor": "#E5ECF6",
           "caxis": {
            "gridcolor": "white",
            "linecolor": "white",
            "ticks": ""
           }
          },
          "title": {
           "x": 0.05
          },
          "xaxis": {
           "automargin": true,
           "gridcolor": "white",
           "linecolor": "white",
           "ticks": "",
           "title": {
            "standoff": 15
           },
           "zerolinecolor": "white",
           "zerolinewidth": 2
          },
          "yaxis": {
           "automargin": true,
           "gridcolor": "white",
           "linecolor": "white",
           "ticks": "",
           "title": {
            "standoff": 15
           },
           "zerolinecolor": "white",
           "zerolinewidth": 2
          }
         }
        },
        "title": {
         "font": {
          "color": "#4D5663"
         },
         "text": "Development of property prices in recommended neighborhoods, <br>compared to all NYC neighborhoods"
        },
        "xaxis": {
         "gridcolor": "#E1E5ED",
         "showgrid": true,
         "tickfont": {
          "color": "#4D5663"
         },
         "title": {
          "font": {
           "color": "#4D5663"
          },
          "text": ""
         },
         "zerolinecolor": "#E1E5ED"
        },
        "yaxis": {
         "gridcolor": "#E1E5ED",
         "showgrid": true,
         "tickfont": {
          "color": "#4D5663"
         },
         "title": {
          "font": {
           "color": "#4D5663"
          },
          "text": "2010 = 100%"
         },
         "zerolinecolor": "#E1E5ED"
        }
       }
      },
      "text/html": [
       "<div>\n",
       "        \n",
       "        \n",
       "            <div id=\"67681536-6967-40fb-9166-7a5b0a6dec50\" class=\"plotly-graph-div\" style=\"height:525px; width:100%;\"></div>\n",
       "            <script type=\"text/javascript\">\n",
       "                require([\"plotly\"], function(Plotly) {\n",
       "                    window.PLOTLYENV=window.PLOTLYENV || {};\n",
       "                    window.PLOTLYENV.BASE_URL='https://plot.ly';\n",
       "                    \n",
       "                if (document.getElementById(\"67681536-6967-40fb-9166-7a5b0a6dec50\")) {\n",
       "                    Plotly.newPlot(\n",
       "                        '67681536-6967-40fb-9166-7a5b0a6dec50',\n",
       "                        [{\"line\": {\"color\": \"rgba(255, 153, 51, 1.0)\", \"dash\": \"solid\", \"shape\": \"linear\", \"width\": 1.3}, \"marker\": {\"size\": 12, \"symbol\": \"circle\"}, \"mode\": \"lines+markers\", \"name\": \"SHEEPSHEAD BAY\", \"text\": \"\", \"type\": \"scatter\", \"x\": [2010, 2011, 2012, 2013, 2014, 2015, 2016, 2017, 2018, 2019, \"All\"], \"y\": [100.0, 104.88070505016358, 106.97069351756956, 106.62492965973497, 110.10246677692884, 134.91252131604227, 142.54863908971674, 140.62832310947834, 168.18480393520352, 156.84370660567302, 127.16967890605106]}, {\"line\": {\"color\": \"rgba(55, 128, 191, 1.0)\", \"dash\": \"solid\", \"shape\": \"linear\", \"width\": 1.3}, \"marker\": {\"size\": 12, \"symbol\": \"circle\"}, \"mode\": \"lines+markers\", \"name\": \"JAMAICA\", \"text\": \"\", \"type\": \"scatter\", \"x\": [2010, 2011, 2012, 2013, 2014, 2015, 2016, 2017, 2018, 2019, \"All\"], \"y\": [100.0, 116.08275460473858, 170.76656862193664, 142.92704876539736, 160.2406011057328, 162.50268823430153, 170.03272201506735, 173.66357533507806, 189.42109494678124, 220.00079406305525, 160.56378476920887]}, {\"line\": {\"color\": \"rgba(50, 171, 96, 1.0)\", \"dash\": \"solid\", \"shape\": \"linear\", \"width\": 1.3}, \"marker\": {\"size\": 12, \"symbol\": \"circle\"}, \"mode\": \"lines+markers\", \"name\": \"All\", \"text\": \"\", \"type\": \"scatter\", \"x\": [2010, 2011, 2012, 2013, 2014, 2015, 2016, 2017, 2018, 2019, \"All\"], \"y\": [100.0, 88.37246678711294, 98.10080807196411, 102.54919546854472, 109.16143703180954, 135.9650554867219, 119.74512190763294, 127.35731981575933, 150.7383311385594, 147.83913050788365, 118.05963435785524]}],\n",
       "                        {\"legend\": {\"bgcolor\": \"#F5F6F9\", \"font\": {\"color\": \"#4D5663\"}}, \"paper_bgcolor\": \"#F5F6F9\", \"plot_bgcolor\": \"#F5F6F9\", \"template\": {\"data\": {\"bar\": [{\"error_x\": {\"color\": \"#2a3f5f\"}, \"error_y\": {\"color\": \"#2a3f5f\"}, \"marker\": {\"line\": {\"color\": \"#E5ECF6\", \"width\": 0.5}}, \"type\": \"bar\"}], \"barpolar\": [{\"marker\": {\"line\": {\"color\": \"#E5ECF6\", \"width\": 0.5}}, \"type\": \"barpolar\"}], \"carpet\": [{\"aaxis\": {\"endlinecolor\": \"#2a3f5f\", \"gridcolor\": \"white\", \"linecolor\": \"white\", \"minorgridcolor\": \"white\", \"startlinecolor\": \"#2a3f5f\"}, \"baxis\": {\"endlinecolor\": \"#2a3f5f\", \"gridcolor\": \"white\", \"linecolor\": \"white\", \"minorgridcolor\": \"white\", \"startlinecolor\": \"#2a3f5f\"}, \"type\": \"carpet\"}], \"choropleth\": [{\"colorbar\": {\"outlinewidth\": 0, \"ticks\": \"\"}, \"type\": \"choropleth\"}], \"contour\": [{\"colorbar\": {\"outlinewidth\": 0, \"ticks\": \"\"}, \"colorscale\": [[0.0, \"#0d0887\"], [0.1111111111111111, \"#46039f\"], [0.2222222222222222, \"#7201a8\"], [0.3333333333333333, \"#9c179e\"], [0.4444444444444444, \"#bd3786\"], [0.5555555555555556, \"#d8576b\"], [0.6666666666666666, \"#ed7953\"], [0.7777777777777778, \"#fb9f3a\"], [0.8888888888888888, \"#fdca26\"], [1.0, \"#f0f921\"]], \"type\": \"contour\"}], \"contourcarpet\": [{\"colorbar\": {\"outlinewidth\": 0, \"ticks\": \"\"}, \"type\": \"contourcarpet\"}], \"heatmap\": [{\"colorbar\": {\"outlinewidth\": 0, \"ticks\": \"\"}, \"colorscale\": [[0.0, \"#0d0887\"], [0.1111111111111111, \"#46039f\"], [0.2222222222222222, \"#7201a8\"], [0.3333333333333333, \"#9c179e\"], [0.4444444444444444, \"#bd3786\"], [0.5555555555555556, \"#d8576b\"], [0.6666666666666666, \"#ed7953\"], [0.7777777777777778, \"#fb9f3a\"], [0.8888888888888888, \"#fdca26\"], [1.0, \"#f0f921\"]], \"type\": \"heatmap\"}], \"heatmapgl\": [{\"colorbar\": {\"outlinewidth\": 0, \"ticks\": \"\"}, \"colorscale\": [[0.0, \"#0d0887\"], [0.1111111111111111, \"#46039f\"], [0.2222222222222222, \"#7201a8\"], [0.3333333333333333, \"#9c179e\"], [0.4444444444444444, \"#bd3786\"], [0.5555555555555556, \"#d8576b\"], [0.6666666666666666, \"#ed7953\"], [0.7777777777777778, \"#fb9f3a\"], [0.8888888888888888, \"#fdca26\"], [1.0, \"#f0f921\"]], \"type\": \"heatmapgl\"}], \"histogram\": [{\"marker\": {\"colorbar\": {\"outlinewidth\": 0, \"ticks\": \"\"}}, \"type\": \"histogram\"}], \"histogram2d\": [{\"colorbar\": {\"outlinewidth\": 0, \"ticks\": \"\"}, \"colorscale\": [[0.0, \"#0d0887\"], [0.1111111111111111, \"#46039f\"], [0.2222222222222222, \"#7201a8\"], [0.3333333333333333, \"#9c179e\"], [0.4444444444444444, \"#bd3786\"], [0.5555555555555556, \"#d8576b\"], [0.6666666666666666, \"#ed7953\"], [0.7777777777777778, \"#fb9f3a\"], [0.8888888888888888, \"#fdca26\"], [1.0, \"#f0f921\"]], \"type\": \"histogram2d\"}], \"histogram2dcontour\": [{\"colorbar\": {\"outlinewidth\": 0, \"ticks\": \"\"}, \"colorscale\": [[0.0, \"#0d0887\"], [0.1111111111111111, \"#46039f\"], [0.2222222222222222, \"#7201a8\"], [0.3333333333333333, \"#9c179e\"], [0.4444444444444444, \"#bd3786\"], [0.5555555555555556, \"#d8576b\"], [0.6666666666666666, \"#ed7953\"], [0.7777777777777778, \"#fb9f3a\"], [0.8888888888888888, \"#fdca26\"], [1.0, \"#f0f921\"]], \"type\": \"histogram2dcontour\"}], \"mesh3d\": [{\"colorbar\": {\"outlinewidth\": 0, \"ticks\": \"\"}, \"type\": \"mesh3d\"}], \"parcoords\": [{\"line\": {\"colorbar\": {\"outlinewidth\": 0, \"ticks\": \"\"}}, \"type\": \"parcoords\"}], \"pie\": [{\"automargin\": true, \"type\": \"pie\"}], \"scatter\": [{\"marker\": {\"colorbar\": {\"outlinewidth\": 0, \"ticks\": \"\"}}, \"type\": \"scatter\"}], \"scatter3d\": [{\"line\": {\"colorbar\": {\"outlinewidth\": 0, \"ticks\": \"\"}}, \"marker\": {\"colorbar\": {\"outlinewidth\": 0, \"ticks\": \"\"}}, \"type\": \"scatter3d\"}], \"scattercarpet\": [{\"marker\": {\"colorbar\": {\"outlinewidth\": 0, \"ticks\": \"\"}}, \"type\": \"scattercarpet\"}], \"scattergeo\": [{\"marker\": {\"colorbar\": {\"outlinewidth\": 0, \"ticks\": \"\"}}, \"type\": \"scattergeo\"}], \"scattergl\": [{\"marker\": {\"colorbar\": {\"outlinewidth\": 0, \"ticks\": \"\"}}, \"type\": \"scattergl\"}], \"scattermapbox\": [{\"marker\": {\"colorbar\": {\"outlinewidth\": 0, \"ticks\": \"\"}}, \"type\": \"scattermapbox\"}], \"scatterpolar\": [{\"marker\": {\"colorbar\": {\"outlinewidth\": 0, \"ticks\": \"\"}}, \"type\": \"scatterpolar\"}], \"scatterpolargl\": [{\"marker\": {\"colorbar\": {\"outlinewidth\": 0, \"ticks\": \"\"}}, \"type\": \"scatterpolargl\"}], \"scatterternary\": [{\"marker\": {\"colorbar\": {\"outlinewidth\": 0, \"ticks\": \"\"}}, \"type\": \"scatterternary\"}], \"surface\": [{\"colorbar\": {\"outlinewidth\": 0, \"ticks\": \"\"}, \"colorscale\": [[0.0, \"#0d0887\"], [0.1111111111111111, \"#46039f\"], [0.2222222222222222, \"#7201a8\"], [0.3333333333333333, \"#9c179e\"], [0.4444444444444444, \"#bd3786\"], [0.5555555555555556, \"#d8576b\"], [0.6666666666666666, \"#ed7953\"], [0.7777777777777778, \"#fb9f3a\"], [0.8888888888888888, \"#fdca26\"], [1.0, \"#f0f921\"]], \"type\": \"surface\"}], \"table\": [{\"cells\": {\"fill\": {\"color\": \"#EBF0F8\"}, \"line\": {\"color\": \"white\"}}, \"header\": {\"fill\": {\"color\": \"#C8D4E3\"}, \"line\": {\"color\": \"white\"}}, \"type\": \"table\"}]}, \"layout\": {\"annotationdefaults\": {\"arrowcolor\": \"#2a3f5f\", \"arrowhead\": 0, \"arrowwidth\": 1}, \"coloraxis\": {\"colorbar\": {\"outlinewidth\": 0, \"ticks\": \"\"}}, \"colorscale\": {\"diverging\": [[0, \"#8e0152\"], [0.1, \"#c51b7d\"], [0.2, \"#de77ae\"], [0.3, \"#f1b6da\"], [0.4, \"#fde0ef\"], [0.5, \"#f7f7f7\"], [0.6, \"#e6f5d0\"], [0.7, \"#b8e186\"], [0.8, \"#7fbc41\"], [0.9, \"#4d9221\"], [1, \"#276419\"]], \"sequential\": [[0.0, \"#0d0887\"], [0.1111111111111111, \"#46039f\"], [0.2222222222222222, \"#7201a8\"], [0.3333333333333333, \"#9c179e\"], [0.4444444444444444, \"#bd3786\"], [0.5555555555555556, \"#d8576b\"], [0.6666666666666666, \"#ed7953\"], [0.7777777777777778, \"#fb9f3a\"], [0.8888888888888888, \"#fdca26\"], [1.0, \"#f0f921\"]], \"sequentialminus\": [[0.0, \"#0d0887\"], [0.1111111111111111, \"#46039f\"], [0.2222222222222222, \"#7201a8\"], [0.3333333333333333, \"#9c179e\"], [0.4444444444444444, \"#bd3786\"], [0.5555555555555556, \"#d8576b\"], [0.6666666666666666, \"#ed7953\"], [0.7777777777777778, \"#fb9f3a\"], [0.8888888888888888, \"#fdca26\"], [1.0, \"#f0f921\"]]}, \"colorway\": [\"#636efa\", \"#EF553B\", \"#00cc96\", \"#ab63fa\", \"#FFA15A\", \"#19d3f3\", \"#FF6692\", \"#B6E880\", \"#FF97FF\", \"#FECB52\"], \"font\": {\"color\": \"#2a3f5f\"}, \"geo\": {\"bgcolor\": \"white\", \"lakecolor\": \"white\", \"landcolor\": \"#E5ECF6\", \"showlakes\": true, \"showland\": true, \"subunitcolor\": \"white\"}, \"hoverlabel\": {\"align\": \"left\"}, \"hovermode\": \"closest\", \"mapbox\": {\"style\": \"light\"}, \"paper_bgcolor\": \"white\", \"plot_bgcolor\": \"#E5ECF6\", \"polar\": {\"angularaxis\": {\"gridcolor\": \"white\", \"linecolor\": \"white\", \"ticks\": \"\"}, \"bgcolor\": \"#E5ECF6\", \"radialaxis\": {\"gridcolor\": \"white\", \"linecolor\": \"white\", \"ticks\": \"\"}}, \"scene\": {\"xaxis\": {\"backgroundcolor\": \"#E5ECF6\", \"gridcolor\": \"white\", \"gridwidth\": 2, \"linecolor\": \"white\", \"showbackground\": true, \"ticks\": \"\", \"zerolinecolor\": \"white\"}, \"yaxis\": {\"backgroundcolor\": \"#E5ECF6\", \"gridcolor\": \"white\", \"gridwidth\": 2, \"linecolor\": \"white\", \"showbackground\": true, \"ticks\": \"\", \"zerolinecolor\": \"white\"}, \"zaxis\": {\"backgroundcolor\": \"#E5ECF6\", \"gridcolor\": \"white\", \"gridwidth\": 2, \"linecolor\": \"white\", \"showbackground\": true, \"ticks\": \"\", \"zerolinecolor\": \"white\"}}, \"shapedefaults\": {\"line\": {\"color\": \"#2a3f5f\"}}, \"ternary\": {\"aaxis\": {\"gridcolor\": \"white\", \"linecolor\": \"white\", \"ticks\": \"\"}, \"baxis\": {\"gridcolor\": \"white\", \"linecolor\": \"white\", \"ticks\": \"\"}, \"bgcolor\": \"#E5ECF6\", \"caxis\": {\"gridcolor\": \"white\", \"linecolor\": \"white\", \"ticks\": \"\"}}, \"title\": {\"x\": 0.05}, \"xaxis\": {\"automargin\": true, \"gridcolor\": \"white\", \"linecolor\": \"white\", \"ticks\": \"\", \"title\": {\"standoff\": 15}, \"zerolinecolor\": \"white\", \"zerolinewidth\": 2}, \"yaxis\": {\"automargin\": true, \"gridcolor\": \"white\", \"linecolor\": \"white\", \"ticks\": \"\", \"title\": {\"standoff\": 15}, \"zerolinecolor\": \"white\", \"zerolinewidth\": 2}}}, \"title\": {\"font\": {\"color\": \"#4D5663\"}, \"text\": \"Development of property prices in recommended neighborhoods, <br>compared to all NYC neighborhoods\"}, \"xaxis\": {\"gridcolor\": \"#E1E5ED\", \"showgrid\": true, \"tickfont\": {\"color\": \"#4D5663\"}, \"title\": {\"font\": {\"color\": \"#4D5663\"}, \"text\": \"\"}, \"zerolinecolor\": \"#E1E5ED\"}, \"yaxis\": {\"gridcolor\": \"#E1E5ED\", \"showgrid\": true, \"tickfont\": {\"color\": \"#4D5663\"}, \"title\": {\"font\": {\"color\": \"#4D5663\"}, \"text\": \"2010 = 100%\"}, \"zerolinecolor\": \"#E1E5ED\"}},\n",
       "                        {\"showLink\": true, \"linkText\": \"Export to plot.ly\", \"plotlyServerURL\": \"https://plot.ly\", \"responsive\": true}\n",
       "                    ).then(function(){\n",
       "                            \n",
       "var gd = document.getElementById('67681536-6967-40fb-9166-7a5b0a6dec50');\n",
       "var x = new MutationObserver(function (mutations, observer) {{\n",
       "        var display = window.getComputedStyle(gd).display;\n",
       "        if (!display || display === 'none') {{\n",
       "            console.log([gd, 'removed!']);\n",
       "            Plotly.purge(gd);\n",
       "            observer.disconnect();\n",
       "        }}\n",
       "}});\n",
       "\n",
       "// Listen for the removal of the full notebook cells\n",
       "var notebookContainer = gd.closest('#notebook-container');\n",
       "if (notebookContainer) {{\n",
       "    x.observe(notebookContainer, {childList: true});\n",
       "}}\n",
       "\n",
       "// Listen for the clearing of the current output cell\n",
       "var outputEl = gd.closest('.output');\n",
       "if (outputEl) {{\n",
       "    x.observe(outputEl, {childList: true});\n",
       "}}\n",
       "\n",
       "                        })\n",
       "                };\n",
       "                });\n",
       "            </script>\n",
       "        </div>"
      ]
     },
     "metadata": {},
     "output_type": "display_data"
    }
   ],
   "source": [
    "ofh_average = housing_ofh.pivot_table(margins=True,\n",
    "                                      index=\"neighborhood\", \n",
    "                                      columns=\"year\",\n",
    "                                      values=\"average_sale_price\")\n",
    "recommended_hoods = [\"SHEEPSHEAD BAY\", \"JAMAICA\", \"All\"]\n",
    "\n",
    "# build indexchart\n",
    "price_index = ofh_average.div(ofh_average[2010], axis=0).loc[recommended_hoods,:]*100\n",
    "title=\"Development of property prices in recommended neighborhoods, <br>compared to all NYC neighborhoods\"\n",
    "price_index.transpose().iplot(kind=\"line\",title=title, yTitle=\"2010 = 100%\", mode=\"lines+markers\")"
   ]
  },
  {
   "cell_type": "markdown",
   "metadata": {},
   "source": [
    "___\n",
    "# Conclusion\n",
    "**Note:** This was mainly a technical challenge with the aim to learn data analysis techniques and tools in Python. Please refer to \"results\" at the beginning of this document or the respective headings of the individual sections for an overview of insights gained from the data.\n",
    "\n",
    "In this guided project we have applied the learnings of Step 2 of dataquest's \"Data Analyst\" learning path. Some of the concepts include:\n",
    "+ data aggregation using pandas methods like 'pivot_table' and 'groupby' \n",
    "+ regular expressions\n",
    "+ vectorized string operations\n",
    "+ list comprehension and use of apply-function\n",
    "+ combining dataset with joins and concatenation\n",
    "+ plotting with matplotlib\n",
    "\n",
    "Additionally I explored:\n",
    "+ interactive charts with pyplot and cufflinks\n",
    "+ interactive maps with folium\n",
    "+ writing my own function to expedite data exploration ('describe_plus')\n",
    "+ accessing data through APIs using sodapy\n",
    "+ reverse geocoding with geopy"
   ]
  }
 ],
 "metadata": {
  "hide_input": false,
  "kernelspec": {
   "display_name": "Python 3",
   "language": "python",
   "name": "python3"
  },
  "language_info": {
   "codemirror_mode": {
    "name": "ipython",
    "version": 3
   },
   "file_extension": ".py",
   "mimetype": "text/x-python",
   "name": "python",
   "nbconvert_exporter": "python",
   "pygments_lexer": "ipython3",
   "version": "3.8.2"
  },
  "toc": {
   "base_numbering": 1,
   "nav_menu": {},
   "number_sections": true,
   "sideBar": true,
   "skip_h1_title": false,
   "title_cell": "Table of Contents",
   "title_sidebar": "Contents",
   "toc_cell": false,
   "toc_position": {
    "height": "calc(100% - 180px)",
    "left": "10px",
    "top": "150px",
    "width": "186px"
   },
   "toc_section_display": true,
   "toc_window_display": true
  },
  "varInspector": {
   "cols": {
    "lenName": 16,
    "lenType": 16,
    "lenVar": 40
   },
   "kernels_config": {
    "python": {
     "delete_cmd_postfix": "",
     "delete_cmd_prefix": "del ",
     "library": "var_list.py",
     "varRefreshCmd": "print(var_dic_list())"
    },
    "r": {
     "delete_cmd_postfix": ") ",
     "delete_cmd_prefix": "rm(",
     "library": "var_list.r",
     "varRefreshCmd": "cat(var_dic_list()) "
    }
   },
   "oldHeight": 473,
   "position": {
    "height": "495px",
    "left": "659px",
    "right": "20px",
    "top": "132px",
    "width": "541px"
   },
   "types_to_exclude": [
    "module",
    "function",
    "builtin_function_or_method",
    "instance",
    "_Feature"
   ],
   "varInspector_section_display": "block",
   "window_display": false
  }
 },
 "nbformat": 4,
 "nbformat_minor": 2
}
