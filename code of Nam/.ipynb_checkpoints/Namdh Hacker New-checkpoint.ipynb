{
 "cells": [
  {
   "cell_type": "markdown",
   "metadata": {},
   "source": [
    "# Hacker News"
   ]
  },
  {
   "cell_type": "markdown",
   "metadata": {},
   "source": [
    "Hacker News is a site started by the startup incubator Y Combinator, where user-submitted stories (known as \"posts\") receive votes and comments, similar to reddit. Hacker News is extremely popular in technology and startup circles, and posts that make it to the top of the Hacker News listings can get hundreds of thousands of visitors as a result.\n",
    "\n",
    "![banner](data:image/png;base64,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)"
   ]
  },
  {
   "cell_type": "markdown",
   "metadata": {},
   "source": [
    "**Data** \n",
    "\n",
    "The source data for this study can be found [here](https://www.kaggle.com/hacker-news/hacker-news-posts). It contains  almost 300,000 rows, each row representing a post. The data is of 2016. However, for this study we make use of a version that been reduced to approximately 20,000 rows by removing all submissions that did not receive any comments, and then randomly sampling from the remaining submissions. This file was prepared by Dataquest and can be downloaded from [here](https://app.dataquest.io/m/356/guided-project%3A-exploring-hacker-news-posts/1/introduction).\n",
    "\n",
    "Let us start with reading in the data, and displaying the header row and a small sample."
   ]
  },
  {
   "cell_type": "markdown",
   "metadata": {},
   "source": [
    "- id: the unique identifier from Hacker News for the post\n",
    "- title: the title of the post\n",
    "- url: the URL that the posts links to, if the post has a URL\n",
    "- num_points: the number of points the post acquired, calculated as - - the total number of upvotes minus the total number of downvotes\n",
    "- num_comments: the number of comments on the post\n",
    "- author: the username of the person who submitted the post\n",
    "- created_at: the date and time of the post's submission"
   ]
  },
  {
   "cell_type": "markdown",
   "metadata": {},
   "source": [
    "<b>\n",
    "- Do Ask HN or Show HN receive more comments on average?\n",
    "<br>- Do posts created at a certain time receive more comments on average?\n",
    "</b>"
   ]
  },
  {
   "cell_type": "markdown",
   "metadata": {},
   "source": [
    "### Opening the Data Set"
   ]
  },
  {
   "cell_type": "code",
   "execution_count": 1,
   "metadata": {},
   "outputs": [
    {
     "name": "stdout",
     "output_type": "stream",
     "text": [
      "The number of rows in data set:  20100\n"
     ]
    }
   ],
   "source": [
    "from csv import reader                               # importing CSV module to read the .csv file\n",
    "opened_file=open('hacker_news.csv', encoding='UTF-8')\n",
    "read_file=reader(opened_file)\n",
    "hacker_news_full=list(read_file)                    # The whole data set in List form\n",
    "\n",
    "header=hacker_news_full[0]                       # Getting the header of the data set\n",
    "hn_full=hacker_news_full[1:]                             # The whole data set without Header\n",
    "print(\"The number of rows in data set: \", len(hn_full) )"
   ]
  },
  {
   "cell_type": "markdown",
   "metadata": {},
   "source": [
    "### Function to find Index along with Column name"
   ]
  },
  {
   "cell_type": "code",
   "execution_count": 58,
   "metadata": {
    "scrolled": true
   },
   "outputs": [
    {
     "name": "stdout",
     "output_type": "stream",
     "text": [
      "Index of Hacker New Data\n",
      "0  :  id\n",
      "1  :  title\n",
      "2  :  url\n",
      "3  :  num_points\n",
      "4  :  num_comments\n",
      "5  :  author\n",
      "6  :  created_at\n",
      "\n",
      "\n"
     ]
    }
   ],
   "source": [
    "def indexer(dataset_header, variable_name):        # Input the dataset header to retrieve its index\n",
    "    index=0\n",
    "    print(\"Index of {}\".format(variable_name))       # printing the variable name used\n",
    "    for column_name in dataset_header:             # finding each column name from the header row\n",
    "        print(index, ' : ', column_name)    \n",
    "        index+=1\n",
    "    print('\\n')\n",
    "\n",
    "indexer(header,\"Hacker New Data\")"
   ]
  },
  {
   "cell_type": "markdown",
   "metadata": {},
   "source": [
    "\"Okay, so there is 'num-points' at index 3 and 'num_comments' at index 4. Now I am going to find out how many rows of these data set satify the conditions of having comments and points.\"\n",
    "\n",
    "### Removing rows with no comments and points"
   ]
  },
  {
   "cell_type": "code",
   "execution_count": 3,
   "metadata": {},
   "outputs": [
    {
     "name": "stdout",
     "output_type": "stream",
     "text": [
      "Length of new data set is  20100\n"
     ]
    }
   ],
   "source": [
    "hn=[]                                          # Creating an empty list to store new data set\n",
    "\n",
    "for row in hn_full:                            # Iterating through each rows of the whole data set\n",
    "    comments=int(row[4])\n",
    "    points=int(row[3])\n",
    "    if comments >0 and points>0:             # Applying the condition to create a new list\n",
    "        hn.append(row)\n",
    "        \n",
    "print(\"Length of new data set is \", len(hn))"
   ]
  },
  {
   "cell_type": "code",
   "execution_count": 4,
   "metadata": {},
   "outputs": [],
   "source": [
    "def explore_data(dataset, start, end, rows_and_columns=False):\n",
    "    dataset_slice = dataset[start:end]    \n",
    "    for row in dataset_slice:\n",
    "        print(row)\n",
    "        print('\\n')\n",
    "\n",
    "    if rows_and_columns:\n",
    "        print('Number of rows:', len(dataset))\n",
    "        print('Number of columns:', len(dataset[0]))"
   ]
  },
  {
   "cell_type": "code",
   "execution_count": 5,
   "metadata": {
    "scrolled": true
   },
   "outputs": [
    {
     "name": "stdout",
     "output_type": "stream",
     "text": [
      "['id', 'title', 'url', 'num_points', 'num_comments', 'author', 'created_at']\n"
     ]
    }
   ],
   "source": [
    "print(header)"
   ]
  },
  {
   "cell_type": "markdown",
   "metadata": {},
   "source": [
    "### Creating Seperate list for Ask, Show and Other posts"
   ]
  },
  {
   "cell_type": "markdown",
   "metadata": {},
   "source": [
    "The startswith() function will be used to find if the string starts with given slice of string. Here in this case, if it starts with 'ask hn' or 'show hn'. To standardise the string, it will be converted into smaller case by using lower function."
   ]
  },
  {
   "cell_type": "code",
   "execution_count": 6,
   "metadata": {},
   "outputs": [],
   "source": [
    "ask_posts = []\n",
    "show_posts = []\n",
    "other_posts = []\n",
    "\n",
    "for row in hn:\n",
    "    title = row[1].lower()\n",
    "    if title.startswith('ask hn'):\n",
    "        ask_posts.append(row)\n",
    "    elif title.startswith('show hn'):\n",
    "        show_posts.append(row)\n",
    "    else:\n",
    "        other_posts.append(row)"
   ]
  },
  {
   "cell_type": "code",
   "execution_count": 7,
   "metadata": {
    "scrolled": true
   },
   "outputs": [
    {
     "name": "stdout",
     "output_type": "stream",
     "text": [
      "['12296411', 'Ask HN: How to improve my personal website?', '', '2', '6', 'ahmedbaracat', '8/16/2016 9:55']\n",
      "\n",
      "\n",
      "['10610020', 'Ask HN: Am I the only one outraged by Twitter shutting down share counts?', '', '28', '29', 'tkfx', '11/22/2015 13:43']\n",
      "\n",
      "\n",
      "Number of rows: 1744\n",
      "Number of columns: 7\n"
     ]
    }
   ],
   "source": [
    "explore_data(ask_posts,0,2,True)"
   ]
  },
  {
   "cell_type": "code",
   "execution_count": 8,
   "metadata": {
    "scrolled": true
   },
   "outputs": [
    {
     "name": "stdout",
     "output_type": "stream",
     "text": [
      "No. of Ask posts 1744\n",
      "No. of Show posts 1162\n",
      "No. of Other posts 17194\n",
      "Total length of Hacker News 20100\n",
      "Total 20100\n"
     ]
    }
   ],
   "source": [
    "print(\"No. of Ask posts\", len(ask_posts))                   # printing the number of ask posts\n",
    "print(\"No. of Show posts\", len(show_posts))                  # printing the number of show posts\n",
    "print(\"No. of Other posts\", len(other_posts))                 # printing the number of other posts\n",
    "print(\"Total length of Hacker News\", len(hn))                  # checking the lenght of reduced hn list\n",
    "print(\"Total\",len(ask_posts)+len(show_posts)+len(other_posts))  # comparing with the total to confirm"
   ]
  },
  {
   "cell_type": "markdown",
   "metadata": {},
   "source": [
    "## Finding the Average Number of Comments and Points"
   ]
  },
  {
   "cell_type": "code",
   "execution_count": 18,
   "metadata": {},
   "outputs": [
    {
     "name": "stdout",
     "output_type": "stream",
     "text": [
      "Total Comments for Ask Posts:  24483\n",
      "Average comment count for Ask posts: 14.0384\n"
     ]
    }
   ],
   "source": [
    "total_ask_comments = 0\n",
    "for row in ask_posts:\n",
    "    num_comments = int(row[4])\n",
    "    total_ask_comments += num_comments\n",
    "avg_ask_comments = total_ask_comments / len(ask_posts)\n",
    "\n",
    "\n",
    "print(\"Total Comments for Ask Posts: \", total_ask_comments)\n",
    "print('Average comment count for Ask posts: {:.4f}'.format(avg_ask_comments))"
   ]
  },
  {
   "cell_type": "code",
   "execution_count": 19,
   "metadata": {},
   "outputs": [
    {
     "name": "stdout",
     "output_type": "stream",
     "text": [
      "Total Comments for Show Posts:  11988\n",
      "Average comment count for Show posts: 10.3167\n"
     ]
    }
   ],
   "source": [
    "total_show_comments = 0\n",
    "for row in show_posts:\n",
    "    num_comments = int(row[4])\n",
    "    total_show_comments += num_comments\n",
    "avg_show_comments = total_show_comments / len(show_posts)\n",
    "\n",
    "print(\"Total Comments for Show Posts: \", total_show_comments)\n",
    "print('Average comment count for Show posts: {:.4f}'.format(avg_show_comments))"
   ]
  },
  {
   "cell_type": "markdown",
   "metadata": {},
   "source": [
    "It appears that 'ask' posts receive more comments on average than 'show' posts.\n",
    "\n",
    "To analyze whether particular times of the day attact more comments, we will continue with these \"ask\" posts. We can check what time is the best time to post? For example if there are more users online at a specific time, there will be more upvotes in that time. So if we can find out the best time to post, that will be great. "
   ]
  },
  {
   "cell_type": "markdown",
   "metadata": {},
   "source": [
    "### Finding the Number of Ask Posts and Comments by Hour Created"
   ]
  },
  {
   "cell_type": "code",
   "execution_count": 13,
   "metadata": {},
   "outputs": [
    {
     "name": "stdout",
     "output_type": "stream",
     "text": [
      "[['8/16/2016 9:55', 6], ['11/22/2015 13:43', 29], ['5/2/2016 10:14', 1]]\n"
     ]
    }
   ],
   "source": [
    "import datetime as dt          # importing datetime module to work with date & time given as strings\n",
    "# Create a list that contains the creation times and number of comments (ask-posts only)\n",
    "result_list = []                #a list of lists\n",
    "for row in ask_posts:\n",
    "    created_at = row[6]\n",
    "    num_comments = int(row[4])\n",
    "    result_list.append([created_at, num_comments])\n",
    "        \n",
    "print(result_list[0:3])"
   ]
  },
  {
   "cell_type": "code",
   "execution_count": 14,
   "metadata": {},
   "outputs": [
    {
     "name": "stdout",
     "output_type": "stream",
     "text": [
      "Here is the Number of posts in each hour \n",
      " \n",
      " {'09': 45, '13': 85, '10': 59, '14': 107, '16': 108, '23': 68, '12': 73, '17': 100, '15': 116, '21': 109, '20': 80, '02': 58, '18': 109, '03': 54, '05': 46, '19': 110, '01': 60, '22': 71, '08': 48, '04': 47, '00': 55, '06': 44, '07': 34, '11': 58}\n",
      "\n",
      " Here is the Number of comments in each hour \n",
      " \n",
      " {'09': 251, '13': 1253, '10': 793, '14': 1416, '16': 1814, '23': 543, '12': 687, '17': 1146, '15': 4477, '21': 1745, '20': 1722, '02': 1381, '18': 1439, '03': 421, '05': 464, '19': 1188, '01': 683, '22': 479, '08': 492, '04': 337, '00': 447, '06': 397, '07': 267, '11': 641}\n"
     ]
    }
   ],
   "source": [
    "# Build frequency tables for the number of posts and for the number of comments, per hour of the day\n",
    "counts_by_hour ={}             #the number of posts per hour of the day\n",
    "comments_by_hour = {}           #the number of comments per hour of the day\n",
    "for row in result_list:\n",
    "    created_at = dt.datetime.strptime(row[0], '%m/%d/%Y %H:%M')\n",
    "    created_at_hour = created_at.strftime('%H')\n",
    "    if created_at_hour in counts_by_hour:\n",
    "        counts_by_hour[created_at_hour] += 1\n",
    "        comments_by_hour[created_at_hour] += row[1]\n",
    "    else:\n",
    "        counts_by_hour[created_at_hour] = 1\n",
    "        comments_by_hour[created_at_hour] = row[1]\n",
    "        \n",
    "print(\"Here is the Number of posts in each hour \\n \\n\", counts_by_hour)\n",
    "print(\"\\n Here is the Number of comments in each hour \\n \\n\", comments_by_hour)"
   ]
  },
  {
   "cell_type": "markdown",
   "metadata": {},
   "source": [
    "Second method of above task:"
   ]
  },
  {
   "cell_type": "code",
   "execution_count": 21,
   "metadata": {
    "scrolled": true
   },
   "outputs": [
    {
     "name": "stdout",
     "output_type": "stream",
     "text": [
      "Here is the Number of posts in each hour \n",
      " \n",
      " {'09': 45, '13': 85, '10': 59, '14': 107, '16': 108, '23': 68, '12': 73, '17': 100, '15': 116, '21': 109, '20': 80, '02': 58, '18': 109, '03': 54, '05': 46, '19': 110, '01': 60, '22': 71, '08': 48, '04': 47, '00': 55, '06': 44, '07': 34, '11': 58}\n",
      "\n",
      " Here is the Number of comments in each hour \n",
      " \n",
      " {'09': 251, '13': 1253, '10': 793, '14': 1416, '16': 1814, '23': 543, '12': 687, '17': 1146, '15': 4477, '21': 1745, '20': 1722, '02': 1381, '18': 1439, '03': 421, '05': 464, '19': 1188, '01': 683, '22': 479, '08': 492, '04': 337, '00': 447, '06': 397, '07': 267, '11': 641}\n"
     ]
    }
   ],
   "source": [
    "# Creating a dictionary with Hours as Key and Number of Comments as value.\n",
    "\n",
    "\n",
    "import datetime as dt          # importing datetime module to work with date & time given as strings\n",
    "\n",
    "\n",
    "\n",
    "hourly_comment={}                # Empty dictionary to store number of comments made in each hours\n",
    "hourly_post= {}                   # Empty dictionary to store number of posts created in each hours\n",
    "\n",
    "for row in ask_posts:              # Iterating through each row of ask post list\n",
    "    time_string = row[6]            # assigning row[6], \"created at\" to time given as string\n",
    "    comments_number = int(row[4])    # Assigning the integer value of number of comments to a variable\n",
    "    \n",
    "    \n",
    "        # Converting time given in String to datetime object. Sample time is given as 9/26/2016 3:24\n",
    "        # This is in the format of month/date/4 digit Year Hour: Minute --> %m/%d/%Y %H:%M\n",
    "    \n",
    "    \n",
    "    converted_time = dt.datetime.strptime(time_string,\"%m/%d/%Y %H:%M\")\n",
    "    hour_posted = converted_time.strftime(\"%H\")   # Assigning datetime object in Hour format; eg '13' for 1PM\n",
    "    \n",
    "    \n",
    "        # Creating a frequency table using Dictionary\n",
    "    \n",
    "    if hour_posted in hourly_comment:                     # if hour_posted is already presnent in the dictionary\n",
    "        hourly_comment[hour_posted] += comments_number     # Add up the comments as value of 'hour' key\n",
    "        hourly_post[hour_posted] += 1                       # Add 1 to number of posts made in that hour\n",
    "        \n",
    "    else:                                                  # if it is not present in the dictionary\n",
    "        hourly_comment[hour_posted] = comments_number     # Assign the value  corresponding to the 'hour' key\n",
    "        hourly_post[hour_posted] = 1                    # Assign the value as 1 corresponding to the hour key\n",
    "        \n",
    "        \n",
    "print(\"Here is the Number of posts in each hour \\n \\n\", hourly_post)\n",
    "print(\"\\n Here is the Number of comments in each hour \\n \\n\", hourly_comment)"
   ]
  },
  {
   "cell_type": "markdown",
   "metadata": {},
   "source": [
    "Now that I have two dictionaries with number of comments and number of posts against each hours, I can straight away find the average number of comments posted in each hours."
   ]
  },
  {
   "cell_type": "markdown",
   "metadata": {},
   "source": [
    "## Finding the Average Comments per post in Each Hour\n",
    "\n",
    "A list will be created to list down the hour and average number of post in each hour. For the ease of sorting we will keep the first column as the average number of posts per hour.\n"
   ]
  },
  {
   "cell_type": "code",
   "execution_count": 69,
   "metadata": {
    "scrolled": true
   },
   "outputs": [
    {
     "name": "stdout",
     "output_type": "stream",
     "text": [
      "For hour 00 the average number of comments per post is 8.13\n",
      "For hour 01 the average number of comments per post is 11.38\n",
      "For hour 02 the average number of comments per post is 23.81\n",
      "For hour 03 the average number of comments per post is 7.80\n",
      "For hour 04 the average number of comments per post is 7.17\n",
      "For hour 05 the average number of comments per post is 10.09\n",
      "For hour 06 the average number of comments per post is 9.02\n",
      "For hour 07 the average number of comments per post is 7.85\n",
      "For hour 08 the average number of comments per post is 10.25\n",
      "For hour 09 the average number of comments per post is 5.58\n",
      "For hour 10 the average number of comments per post is 13.44\n",
      "For hour 11 the average number of comments per post is 11.05\n",
      "For hour 12 the average number of comments per post is 9.41\n",
      "For hour 13 the average number of comments per post is 14.74\n",
      "For hour 14 the average number of comments per post is 13.23\n",
      "For hour 15 the average number of comments per post is 38.59\n",
      "For hour 16 the average number of comments per post is 16.80\n",
      "For hour 17 the average number of comments per post is 11.46\n",
      "For hour 18 the average number of comments per post is 13.20\n",
      "For hour 19 the average number of comments per post is 10.80\n",
      "For hour 20 the average number of comments per post is 21.52\n",
      "For hour 21 the average number of comments per post is 16.01\n",
      "For hour 22 the average number of comments per post is 6.75\n",
      "For hour 23 the average number of comments per post is 7.99\n"
     ]
    }
   ],
   "source": [
    "# Create a table that contains the hours of day and the average number of comments per posts\n",
    "avg_comments_by_hour = []\n",
    "avg_by_hour_rev = []\n",
    "\n",
    "for hour, counts in counts_by_hour.items():\n",
    "    avg_comments = comments_by_hour[hour] / counts\n",
    "    avg_comments_by_hour.append([hour, avg_comments])\n",
    "    avg_by_hour_rev.append([avg_comments, hour])\n",
    "   \n",
    "# Sort the list (on its first element, being the hour of day)\n",
    "avg_comments_by_hour.sort()    \n",
    "\n",
    "# Print the result\n",
    "output = \"For hour {} the average number of comments per post is {:.2f}\"\n",
    "for row in avg_comments_by_hour:\n",
    "    print (output.format(row[0], row[1])) "
   ]
  },
  {
   "cell_type": "markdown",
   "metadata": {},
   "source": [
    "\n",
    "## Sorting the Average comments per post per hour\n",
    "\n",
    "Now that I have a list of average comments per post per each hour, I can sort it to see at what hour most number of comments were made per post. To sort the list, now I am going to use sorted() function in descending order. "
   ]
  },
  {
   "cell_type": "code",
   "execution_count": 70,
   "metadata": {
    "scrolled": true
   },
   "outputs": [
    {
     "name": "stdout",
     "output_type": "stream",
     "text": [
      "The sorted averages per post per hour is here \n",
      "\n"
     ]
    },
    {
     "data": {
      "text/plain": [
       "[[38.5948275862069, '15'],\n",
       " [23.810344827586206, '02'],\n",
       " [21.525, '20'],\n",
       " [16.796296296296298, '16'],\n",
       " [16.009174311926607, '21'],\n",
       " [14.741176470588234, '13'],\n",
       " [13.440677966101696, '10'],\n",
       " [13.233644859813085, '14'],\n",
       " [13.20183486238532, '18'],\n",
       " [11.46, '17'],\n",
       " [11.383333333333333, '01'],\n",
       " [11.051724137931034, '11'],\n",
       " [10.8, '19'],\n",
       " [10.25, '08'],\n",
       " [10.08695652173913, '05'],\n",
       " [9.41095890410959, '12'],\n",
       " [9.022727272727273, '06'],\n",
       " [8.127272727272727, '00'],\n",
       " [7.985294117647059, '23'],\n",
       " [7.852941176470588, '07'],\n",
       " [7.796296296296297, '03'],\n",
       " [7.170212765957447, '04'],\n",
       " [6.746478873239437, '22'],\n",
       " [5.5777777777777775, '09']]"
      ]
     },
     "execution_count": 70,
     "metadata": {},
     "output_type": "execute_result"
    }
   ],
   "source": [
    "sorted_avg = sorted(avg_by_hour_rev, reverse=True)  \n",
    "print (\"The sorted averages per post per hour is here \\n\")\n",
    "sorted_avg"
   ]
  },
  {
   "cell_type": "markdown",
   "metadata": {},
   "source": [
    "## Making a short Report\n",
    "\n",
    "From this list I can say that 3PM, 2AM, 8PM are the top 3 hours to post to generate most number of comments according to this data. Next, we will write some code to generate a report kind of thing. So I am going to use some formatting techinques.\n",
    "\n"
   ]
  },
  {
   "cell_type": "code",
   "execution_count": 72,
   "metadata": {
    "scrolled": true
   },
   "outputs": [
    {
     "name": "stdout",
     "output_type": "stream",
     "text": [
      "[[8.127272727272727, '00'], [11.383333333333333, '01'], [23.810344827586206, '02'], [7.796296296296297, '03'], [7.170212765957447, '04'], [10.08695652173913, '05'], [9.022727272727273, '06'], [7.852941176470588, '07'], [10.25, '08'], [5.5777777777777775, '09'], [13.440677966101696, '10'], [11.051724137931034, '11'], [9.41095890410959, '12'], [14.741176470588234, '13'], [13.233644859813085, '14'], [38.5948275862069, '15'], [16.796296296296298, '16'], [11.46, '17'], [13.20183486238532, '18'], [10.8, '19'], [21.525, '20'], [16.009174311926607, '21'], [6.746478873239437, '22'], [7.985294117647059, '23']]\n",
      "\n",
      " Top 5 Hours for Ask Posts Comments \n",
      "\n",
      "15:00: 38.59 average comments per post\n",
      "02:00: 23.81 average comments per post\n",
      "20:00: 21.52 average comments per post\n",
      "16:00: 16.80 average comments per post\n",
      "21:00: 16.01 average comments per post\n"
     ]
    }
   ],
   "source": [
    "# Create a list that is sorted on the average number of comments instead\n",
    "swap_avg_by_hour = []\n",
    "for row in avg_comments_by_hour:\n",
    "    swap_avg_by_hour.append([row[1], row[0]])\n",
    "print(swap_avg_by_hour)\n",
    "\n",
    "# Created a sorted version of this list\n",
    "sorted_swap = sorted(swap_avg_by_hour, reverse = True)\n",
    "\n",
    "# Display the results\n",
    "print('\\n Top 5 Hours for Ask Posts Comments', '\\n')\n",
    "output = \"{}: {:.2f} average comments per post\"\n",
    "for row in sorted_swap[:5]:\n",
    "    thetime = dt.datetime.strptime(str(row[1]), '%H')\n",
    "    thetime = thetime.strftime('%H:%M')\n",
    "    print ( output.format(thetime,row[0] ))"
   ]
  },
  {
   "cell_type": "markdown",
   "metadata": {},
   "source": [
    "second method:"
   ]
  },
  {
   "cell_type": "code",
   "execution_count": 23,
   "metadata": {},
   "outputs": [
    {
     "name": "stdout",
     "output_type": "stream",
     "text": [
      " If you post at 03 PM, you have a chance of getting 38.59 \n",
      "\n",
      " If you post at 02 AM, you have a chance of getting 23.81 \n",
      "\n",
      " If you post at 08 PM, you have a chance of getting 21.52 \n",
      "\n",
      " If you post at 04 PM, you have a chance of getting 16.80 \n",
      "\n",
      " If you post at 09 PM, you have a chance of getting 16.01 \n",
      "\n",
      "So the best time to post to get good traction is 03 PM EST\n"
     ]
    }
   ],
   "source": [
    "for row in sorted_avg[:5]:                                         # iterating through the first five averages\n",
    "    \n",
    "    time = dt.datetime.strptime(row[1],\"%H\").strftime(\"%I %p\")     # converting time string to datetime object\n",
    "        # %I shows Hour in 12 hour format, %p shows AM or PM\n",
    "    \n",
    "    avg = row[0]                                                   # Assigning avg from list\n",
    "    \n",
    "        # Printing using .format method. Argument this_time is stored at time and this_avg stored at avg\n",
    "        # this_avg is formatted to have 2 decimal points\n",
    "    \n",
    "    print(\" If you post at {this_time}, you have a chance of getting {this_avg:,.2f} \\n\"\n",
    "          .format(this_time=time,this_avg=avg))\n",
    "    \n",
    "   \n",
    "    # Printing our conclusion\n",
    "    \n",
    "print(\"So the best time to post to get good traction is {} EST\".format(\n",
    "    dt.datetime.strptime(sorted_avg[0][1],\"%H\").strftime(\"%I %p\")))\n",
    "\n"
   ]
  },
  {
   "cell_type": "markdown",
   "metadata": {},
   "source": [
    "## Mini Conclusion\n",
    "\n",
    "I think we have come to conclusion regarding what time to post. From the data we analysed, which is the data collected during 2016, we collected a subset of the data which has comments and points. \n",
    "\n",
    "From that data set I can tell you that posting under Ask HN category can create a better engangement which leads to more number of comments. \n",
    "\n",
    "But if you want more comments instantly, I have listed down some better time to post. 3PM, 2AM, 8PM, 4PM and 9PM are those times. Out of this 3PM is the best time according to our analysis with 38.59 as the average comments per post per hour. \n",
    "\n",
    "**So in short if you want to become popular on Hacker News, you need to find posts that you can submit on Ask HN Category and post them at 3PM EST**\n",
    "\n",
    "We will be working on this data a bit more and try to find if there is any connection with the authors, if someone is doing better than others\n",
    "\n",
    "-------\n",
    "\n",
    "## Relation between Authors and number of comments\n",
    "\n",
    "In the mean time I got really interested in it and started digging deep to find some kind of correlation between the authors and number of comments. So I created a dictionary to find the comment distribution among the authors. "
   ]
  },
  {
   "cell_type": "code",
   "execution_count": 36,
   "metadata": {},
   "outputs": [
    {
     "name": "stdout",
     "output_type": "stream",
     "text": [
      "[[3046, 'whoishiring'], [868, 'mod50ack'], [691, 'boren_ave11'], [531, 'schappim'], [520, 'sama'], [489, 'prmph'], [383, 'Apocryphon'], [309, 'curiousgal'], [284, 'mikemajzoub'], [258, 'philippnagel']]\n"
     ]
    }
   ],
   "source": [
    "# Creating a Author - Comment distribution\n",
    "\n",
    "authors={}                         # Creating an empty dictionary to store the values\n",
    "for row in ask_posts:               # iterating through ask_posts\n",
    "    name=row[5]                      # assigning the name of the authors\n",
    "    comment=int(row[4])               # assigning the number of comments\n",
    "    if name in authors:                # Checking if authors name is present in the dictionary\n",
    "        authors[name] += comment        # if it is present add the number of comments received for that title\n",
    "    else:                                # if not\n",
    "        authors[name] = comment           # assign the first number of comments associated with that name\n",
    "        \n",
    "        \n",
    "author_list=[]                                 # Creating a list with author names and comments\n",
    "\n",
    "for name in authors:                             # Iterating through author dictionary\n",
    "    author_list.append([authors[name], name])     # append the empty list with author and no. of comments\n",
    "    \n",
    "\n",
    "sorted_list=sorted(author_list, reverse=True)        # Sort the list in descending order\n",
    "print(sorted_list[:10])                                # Print the first 10 authors with highest no of comments"
   ]
  },
  {
   "cell_type": "markdown",
   "metadata": {},
   "source": [
    "### Finding Titles and corresponding comments\n",
    "\n",
    "Now that we have a list of authors with highest number of comments, let me go through each author and find at least **10 titles of their posts and corresponding comments** they received. First 5 author's will be analysed to see if anything can be deduced from it. "
   ]
  },
  {
   "cell_type": "code",
   "execution_count": 65,
   "metadata": {},
   "outputs": [
    {
     "name": "stdout",
     "output_type": "stream",
     "text": [
      "Title : Ask HN: Who wants to be hired? (June 2016) \n",
      " No. of comments:  250\n",
      "Title : Ask HN: Freelancer? Seeking freelancer? (December 2015) \n",
      " No. of comments:  93\n",
      "Title : Ask HN: Who is hiring? (September 2016) \n",
      " No. of comments:  910\n",
      "Title : Ask HN: Who wants to be hired? (August 2016) \n",
      " No. of comments:  118\n",
      "Title : Ask HN: Freelancer? Seeking freelancer? (September 2016) \n",
      " No. of comments:  85\n",
      "Title : Ask HN: Who is hiring? (August 2016) \n",
      " No. of comments:  947\n",
      "Title : Ask HN: Who wants to be hired? (April 2016) \n",
      " No. of comments:  283\n",
      "Title : Ask HN: Freelancer? Seeking freelancer? (November 2015) \n",
      " No. of comments:  158\n",
      "Title : Ask HN: Who wants to be hired? (March 2016) \n",
      " No. of comments:  202\n"
     ]
    }
   ],
   "source": [
    "# Printing the details of the author with highest comments\n",
    "\n",
    "count=0\n",
    "\n",
    "for row in ask_posts:                                                # Iterating through each row of ask_posts    \n",
    "    if (row[5]=='whoishiring' and count<11):                         # finding the author and limiting it to 10 entries.\n",
    "        count+=1\n",
    "        print( \"Title :\",row[1], \"\\n\", \"No. of comments: \", row[4])  #Printing Title : No of comments\n",
    "                                                    \n"
   ]
  },
  {
   "cell_type": "code",
   "execution_count": 59,
   "metadata": {},
   "outputs": [
    {
     "name": "stdout",
     "output_type": "stream",
     "text": [
      "Title : Ask HN: What's the best tool you used to use that doesn't exist anymore? \n",
      " No. of comments:  868\n"
     ]
    }
   ],
   "source": [
    "# Printing author with 2nd highest comments\n",
    "\n",
    "count=0\n",
    "\n",
    "for row in ask_posts:\n",
    "    if (row[5]=='mod50ack'):\n",
    "        count+=1\n",
    "        print( \"Title :\",row[1], \"\\n\", \"No. of comments: \", row[4])\n",
    "    "
   ]
  },
  {
   "cell_type": "code",
   "execution_count": 45,
   "metadata": {},
   "outputs": [
    {
     "name": "stdout",
     "output_type": "stream",
     "text": [
      "Title : Ask HN: How much do you make at Amazon? Here is how much I make at Amazon \n",
      " No. of comments:  691\n"
     ]
    }
   ],
   "source": [
    "# Printing author with 3rd highest comments\n",
    "\n",
    "count=0\n",
    "for row in ask_posts:\n",
    "    \n",
    "    if (row[5]=='boren_ave11' and count<11):\n",
    "        count+=1\n",
    "        print( \"Title :\",row[1], \"\\n\", \"No. of comments: \", row[4])"
   ]
  },
  {
   "cell_type": "code",
   "execution_count": 63,
   "metadata": {},
   "outputs": [
    {
     "name": "stdout",
     "output_type": "stream",
     "text": [
      "Title : Ask HN: What book have you given as a gift? \n",
      " No. of comments:  514\n",
      "Title : Ask HN: Is it feasible to port Apple's Swift to the ESP8266? \n",
      " No. of comments:  17\n"
     ]
    }
   ],
   "source": [
    "# Printing author with 4th highest comments\n",
    "\n",
    "count=0\n",
    "for row in ask_posts:\n",
    "    \n",
    "    if (row[5]=='schappim' and count<11):\n",
    "        count+=1\n",
    "        print( \"Title :\",row[1], \"\\n\", \"No. of comments: \", row[4])"
   ]
  },
  {
   "cell_type": "code",
   "execution_count": 47,
   "metadata": {},
   "outputs": [
    {
     "name": "stdout",
     "output_type": "stream",
     "text": [
      "Title : Ask HN: What should we fund at YC Research? \n",
      " No. of comments:  520\n"
     ]
    }
   ],
   "source": [
    "# Printing author with 5th highest comments\n",
    "\n",
    "count=0\n",
    "for row in ask_posts:\n",
    "    \n",
    "    if (row[5]=='sama' and count<11):\n",
    "        count+=1\n",
    "        print( \"Title :\",row[1], \"\\n\", \"No. of comments: \", row[4])"
   ]
  },
  {
   "cell_type": "markdown",
   "metadata": {},
   "source": [
    "# More Conclusions\n",
    "\n",
    "From this analysis it came to my understanding that by consistently posting about Hiring related questions, the author 'whoishiring' received the top number of comments. So talking about Hiring process can be a good idea. But after going through Hacker News portal, I understood that this is a periodic post created by the team behind Hacker News to help with the recruitment process. So maybe this is not where my friend should focus.\n",
    "\n",
    "Second highest commented post asks about Tools, third one about making profits from Amazon, fourth one about given books and the fifth one funding at YC Research. So there are a few things I could possibly infer from these topics.\n",
    "\n",
    "* Ask a simple question that everyone can relate to, and people will respond, for eg about an obsolete tool. Maybe talk about MS Paint and some people might get all nostalgic while others talk about it being completely obsolete.\n",
    "* Ask about something that can make people curious, such as some one's online earning from Amazon or blog etc\n",
    "* Ask about things that everyone has some kind of opinion on, for eg what would you tell your book given as a gift.\n",
    "* Ask about any open topic in funding, might create an engaging discussion.\n",
    "\n",
    "If one can find simple, genuine yet curious, at times controversial topics that can create emotions in people, which also have connection with the life experience, I think they can create some popular posts on Hacker News channel. That is what I am able to infer from this data set.\n",
    "\n",
    "Now I have to write this all in an email and send it to my friend. What a Sunday it was! Such a fun day! All thanks to Hacker News data set!\n",
    "\n"
   ]
  },
  {
   "cell_type": "code",
   "execution_count": null,
   "metadata": {},
   "outputs": [],
   "source": []
  }
 ],
 "metadata": {
  "kernelspec": {
   "display_name": "Python 3 (ipykernel)",
   "language": "python",
   "name": "python3"
  },
  "language_info": {
   "codemirror_mode": {
    "name": "ipython",
    "version": 3
   },
   "file_extension": ".py",
   "mimetype": "text/x-python",
   "name": "python",
   "nbconvert_exporter": "python",
   "pygments_lexer": "ipython3",
   "version": "3.11.4"
  }
 },
 "nbformat": 4,
 "nbformat_minor": 2
}
