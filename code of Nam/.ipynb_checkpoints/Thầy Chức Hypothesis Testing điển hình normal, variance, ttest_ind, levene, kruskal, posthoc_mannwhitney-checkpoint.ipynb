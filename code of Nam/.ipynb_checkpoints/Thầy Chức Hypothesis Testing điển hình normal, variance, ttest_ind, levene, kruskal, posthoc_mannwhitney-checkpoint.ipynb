{
 "cells": [
  {
   "cell_type": "markdown",
   "id": "67b8d2ee",
   "metadata": {},
   "source": [
    "### Hypothesis Testing: Kiểm định giả thuyết \n",
    "\n",
    "Tại sao phải kiểm định giả thiết: trong các nghiên cứu bình thường chúng ta nghiên cứu trên tổng thể: do ta không thể có hết được cái thông tin dữ liệu về tổng thể nên thường ta sẽ lấy mẫu dữ liệu từ tổng thể và sau khi ta lấy mẫu và thực hiện các nghiên cứu phân tích trên mẫu và ta sẽ suy luận lại tổng thể\n",
    "\n",
    "Tuy nhiên các suy luận này cần được kiểm chứng Giả thuyết thống kê là Giả định về tham số của Tổng thể mà ta chưa biết, cần kiểm định,\n",
    "\n",
    "kiểm định giả thuyết thống kê là quá trình các bước để ta có thể bác bỏ hoặc chấp nhận giả thuyết đưa ra\n"
   ]
  },
  {
   "cell_type": "code",
   "execution_count": 2,
   "id": "101bcc9b",
   "metadata": {},
   "outputs": [],
   "source": [
    "import numpy as np\n",
    "import pandas as pd\n",
    "from scipy import stats\n",
    "import scikit_posthocs as sp\n",
    "pd.options.display.float_format = '{:,.4f}'.format   # to display all data"
   ]
  },
  {
   "cell_type": "code",
   "execution_count": null,
   "id": "4f097185",
   "metadata": {},
   "outputs": [],
   "source": [
    "STEP 1: State the hypotheses. (Population) \n",
    "STEP 2: Set the level of Significance: α (Criterion) \n",
    "STEP 3: Compute test Statistics (Sample) \n",
    "STEP 4: Make a decision based on p value"
   ]
  },
  {
   "cell_type": "markdown",
   "id": "26cf6c56",
   "metadata": {},
   "source": [
    "## Creat function\n",
    "### Check whether or not a sample comes from a normal distribution\n",
    "The Shapiro-Wilk test is a test of normality. It is used to determine whether or not a sample comes from a normal distribution. If the answer is Yes, then we do t-test, chi-test and f-test.\n",
    "\n",
    "Thử nghiệm Shapiro-Wilk là một thử nghiệm về tính quy tắc. Nó được sử dụng để xác định xem một mẫu có thuộc phân phối chuẩn hay không, nếu có ta mới nên thực hiện các kiểm định t-test, chi-test và f-test."
   ]
  },
  {
   "cell_type": "code",
   "execution_count": 6,
   "id": "59a87e69",
   "metadata": {},
   "outputs": [],
   "source": [
    "def check_normality(data):\n",
    "    test_stat_normality, p_value_normality=stats.shapiro(data)\n",
    "    print(\"p value:%.4f\" % p_value_normality)\n",
    "    if p_value_normality <0.05:\n",
    "        print(\"Reject null hypothesis (H0) => The data is not normally distributed\")\n",
    "    else:\n",
    "        print(\"Fail to reject null hypothesis (H0) => The data is normally distributed\")\n",
    "        \n",
    "# H0 là tuân theo pp chuẩn, H1 thì ngược lại"
   ]
  },
  {
   "cell_type": "markdown",
   "id": "31fc4633",
   "metadata": {},
   "source": [
    "Levene's Test is used to determine whether two or more groups have equal variances.\n",
    "\n",
    "Levene's Test được sử dụng để xác định xem hai hay nhiều nhóm có phương sai bằng nhau hay không"
   ]
  },
  {
   "cell_type": "code",
   "execution_count": 7,
   "id": "99f2df76",
   "metadata": {},
   "outputs": [],
   "source": [
    "def check_variance_homogeneity(group1, group2): \n",
    "    test_stat_var, p_value_var= stats.levene(group1, group2)\n",
    "    print(\"p value:%.4f\" % p_value_var) \n",
    "    if p_value_var <0.05:\n",
    "        print(\"Reject null hypothesis (H0) => The variances of the samples are different.\") \n",
    "    else:\n",
    "        print(\"Fail to reject null hypothesis (H0) => The variances of the samples are same.\")\n"
   ]
  },
  {
   "cell_type": "markdown",
   "id": "a85692b9",
   "metadata": {},
   "source": [
    "## CASE 1. \n",
    "Một giáo sư đại học dạy Online, video buổi học được quay lại và upload lên cho các sv không thế tham gia lớp học có thể học qua video. Tuy nhiên, người dạy tin rằng những sinh viên tham gia lớp học Online có kết quả tốt hơn các sinh viên chi học qua video. Vì vậy, ông ta ghi lại kết quả cuối kỳ của các sinh viên thuộc 2 nhóm như sau:"
   ]
  },
  {
   "cell_type": "code",
   "execution_count": 12,
   "id": "ca8d57be",
   "metadata": {},
   "outputs": [],
   "source": [
    "#data\n",
    "attend_class = np.array([94. , 84.9, 82.6, 69.5, 80.1, 79.6, 81.4, 77.8, 81.7, 78.8, 73.2, \n",
    "                         87.9, 87.9, 93.5, 82.3, 79.3, 78.3, 71.6, 88.6, 74.6, 74.1, 80.6]) \n",
    "watch_video =np.array([77.1, 71.7, 91. , 72.2, 74.8, 85.1, 67.6, 69.9, 75.3, 71.7,\n",
    "                       65.7, 72.6, 71.5, 78.2])\n"
   ]
  },
  {
   "cell_type": "code",
   "execution_count": 13,
   "id": "16c5e8f7",
   "metadata": {},
   "outputs": [
    {
     "ename": "SyntaxError",
     "evalue": "invalid syntax (1846167187.py, line 1)",
     "output_type": "error",
     "traceback": [
      "\u001b[1;36m  Cell \u001b[1;32mIn[13], line 1\u001b[1;36m\u001b[0m\n\u001b[1;33m    Trước tiên ta kiểm định xem có theo pp chuẩn ko, phương sai có giống nhau ko.\u001b[0m\n\u001b[1;37m          ^\u001b[0m\n\u001b[1;31mSyntaxError\u001b[0m\u001b[1;31m:\u001b[0m invalid syntax\n"
     ]
    }
   ],
   "source": [
    "Trước tiên ta kiểm định xem có theo pp chuẩn ko, phương sai có giống nhau ko.\n",
    "H0: The data is normally distributed.\n",
    "H1: The data is not normally distributed.\n",
    "Assume that alpha=0.05 If p-value >0.05, it can be said that data is normally distributed."
   ]
  },
  {
   "cell_type": "code",
   "execution_count": 14,
   "id": "eaea6f69",
   "metadata": {
    "scrolled": true
   },
   "outputs": [
    {
     "name": "stdout",
     "output_type": "stream",
     "text": [
      "p value:0.6556\n",
      "Fail to reject null hypothesis (H0) => The data is normally distributed\n",
      "p value:0.0803\n",
      "Fail to reject null hypothesis (H0) => The data is normally distributed\n"
     ]
    }
   ],
   "source": [
    "check_normality(attend_class)\n",
    "check_normality(watch_video)\n",
    "# p value:0.6556 > 0.05, ta không có cơ sở để bác bỏ H0, dữ liệu đều là pp chuẩn"
   ]
  },
  {
   "cell_type": "markdown",
   "id": "80faa355",
   "metadata": {},
   "source": [
    "### Check whether or not the variances of two or more groups are the same\n",
    "H0: The variances of the samples are the same.\n",
    "\n",
    "H1: The variances of the samples are different."
   ]
  },
  {
   "cell_type": "code",
   "execution_count": 15,
   "id": "fc57cc7a",
   "metadata": {
    "scrolled": false
   },
   "outputs": [
    {
     "name": "stdout",
     "output_type": "stream",
     "text": [
      "p value:0.8149\n",
      "Fail to reject null hypothesis (H0) => The variances of the samples are same.\n"
     ]
    }
   ],
   "source": [
    "check_variance_homogeneity(attend_class, watch_video)\n",
    "## p value:0.8149 > 0.05, ta không có cơ sở để bác bỏ H0, variance 2 nhóm giống nhau"
   ]
  },
  {
   "cell_type": "markdown",
   "id": "40dd40de",
   "metadata": {},
   "source": [
    "### Bây giờ kiểm định điểm trung bình của các sinh viên mà tham gia lớp học online nhỏ hơn điểm trung bình của sinh viên chỉ xem lại videos bằng kiểm định t\n",
    "#### t-test"
   ]
  },
  {
   "cell_type": "markdown",
   "id": "0db93332",
   "metadata": {},
   "source": [
    "H0: attend_class.Mean<=watch_video.Mean \n",
    "\n",
    "H1: attend_class.Mean>watch_video.Mean"
   ]
  },
  {
   "cell_type": "code",
   "execution_count": 16,
   "id": "75abd8cd",
   "metadata": {},
   "outputs": [
    {
     "name": "stdout",
     "output_type": "stream",
     "text": [
      "p value:0.00753598\n",
      "since the hypothesis is one sided => use p_value/2 => p_value_one_sided:0.0038\n",
      "Reject null hypothesis (H0)\n"
     ]
    }
   ],
   "source": [
    "#Significance Level aLpha=5%, kiểm định t:ttest_ind cho 2, kruskal cho >2\n",
    "ttest,p_value = stats.ttest_ind(attend_class,watch_video)\n",
    "print(\"p value:%.8f\" % p_value)\n",
    "print(\"since the hypothesis is one sided => use p_value/2 => p_value_one_sided:%.4f\" %(p_value/2)) \n",
    "\n",
    "if p_value/2 <0.05:\n",
    "    print(\"Reject null hypothesis (H0)\")\n",
    "else:\n",
    "    print(\"Fail to reject null hypothesis (H0)\")\n"
   ]
  },
  {
   "cell_type": "markdown",
   "id": "f09a142e",
   "metadata": {},
   "source": [
    "At this significance level (alpha=5%), there is enough evidence to conclude that the average grade of the students who attend the course is higher than the students who just watch video. \n",
    "\n",
    "Với mức ý nghĩa này (alpha=5%), đủ cơ sở để kết luận điểm trung bình của sinh viên tham gia lớp học online cao hơn sinh viên chỉ xem video.\n"
   ]
  },
  {
   "cell_type": "markdown",
   "id": "8ccc829a",
   "metadata": {},
   "source": [
    "## CASE 2. \n",
    "Một công ty e-commerce thực hiện quảng cáo trên 3 nền tảng YouTube, Instagram,Facebook. Tuy nhiên, giám đốc quan tâm đến số người dùng trung bình thu được qua các kênh có khác nhau không? Vì vậy, số người dùng tương tác qua các kênh được ghi lại qua 15 ngày như sau:\n",
    "\n",
    "Dựa trên dữ liệu thu thập được, hãy kiểm tra giả thuyết liệu có sự khác biệt nào về số lượng khách hàng trung bình có qua các kênh quảng cáo hay không? với mức ý nghĩa alpha=5%"
   ]
  },
  {
   "cell_type": "code",
   "execution_count": 8,
   "id": "b329de33",
   "metadata": {},
   "outputs": [],
   "source": [
    "youtube=np.array([1913, 1879, 1939, 2146, 2040, 2127, 2122, 2156, 2036, 1974, 1956, \n",
    "                  2146, 2151, 1943, 2125])\n",
    "\n",
    "instagram = np.array([2305., 2355., 2203., 2231., 2185., 2420., 2386., 2410., 2340., \n",
    "                      2349., 2241., 2396., 2244., 2267., 2281.])\n",
    "\n",
    "facebook = np.array([2133., 2522., 2124., 2551., 2293., 2367., 2460., 2311., 2178., \n",
    "                     2113., 2048., 2443., 2265., 2095., 2528.])"
   ]
  },
  {
   "cell_type": "markdown",
   "id": "7047bc83",
   "metadata": {},
   "source": [
    "### Check whether or not a sample comes from a normal distribution\n",
    "H0: The data is normally distributed.\n",
    "\n",
    "H1: The data is not normally distributed."
   ]
  },
  {
   "cell_type": "code",
   "execution_count": 9,
   "id": "e188fdbe",
   "metadata": {},
   "outputs": [
    {
     "name": "stdout",
     "output_type": "stream",
     "text": [
      "p value:0.0285\n",
      "Reject null hypothesis (H0) => The data is not normally distributed\n",
      "p value:0.4156\n",
      "Fail to reject null hypothesis (H0) => The data is normally distributed\n",
      "p value:0.1716\n",
      "Fail to reject null hypothesis (H0) => The data is normally distributed\n"
     ]
    }
   ],
   "source": [
    "check_normality(youtube) \n",
    "check_normality(instagram) \n",
    "check_normality(facebook)"
   ]
  },
  {
   "cell_type": "markdown",
   "id": "d7efc072",
   "metadata": {},
   "source": [
    "### Check whether or not the variances of two or more groups are the same\n",
    "H0: The variances of the samples are the same.\n",
    "\n",
    "H1: The variances of the samples are different."
   ]
  },
  {
   "cell_type": "code",
   "execution_count": 10,
   "id": "80b1b57d",
   "metadata": {},
   "outputs": [
    {
     "name": "stdout",
     "output_type": "stream",
     "text": [
      "p value:0.0012\n",
      "Reject null hypothesis >> The variances of the samples are different.\n"
     ]
    }
   ],
   "source": [
    "stat, pvalue_levene= stats.levene(youtube, instagram, facebook) \n",
    "\n",
    "print(\"p value:%.4f\" % pvalue_levene)\n",
    "if pvalue_levene <0.05:\n",
    "    print(\"Reject null hypothesis >> The variances of the samples are different.\") \n",
    "else:\n",
    "    print(\"Fail to reject null hypothesis >> The variances of the samples are same.\")\n"
   ]
  },
  {
   "cell_type": "code",
   "execution_count": 15,
   "id": "81e84ff7",
   "metadata": {},
   "outputs": [
    {
     "data": {
      "text/plain": [
       "7.887047686321957"
      ]
     },
     "execution_count": 15,
     "metadata": {},
     "output_type": "execute_result"
    }
   ],
   "source": [
    "stat"
   ]
  },
  {
   "cell_type": "markdown",
   "id": "aa7692c4",
   "metadata": {},
   "source": [
    "### Kiểm định mean của 3 kênh là như nhau?\n",
    "H0: Mean.Youtube=Mean.Facekook= Mean.instagram or The mean of the samples are the same. \n",
    "\n",
    "H1: At least one of them is different."
   ]
  },
  {
   "cell_type": "code",
   "execution_count": 11,
   "id": "53000364",
   "metadata": {},
   "outputs": [
    {
     "name": "stdout",
     "output_type": "stream",
     "text": [
      "p value:0.000015\n",
      "Reject null hypothesis\n"
     ]
    }
   ],
   "source": [
    "F, p_value = stats.kruskal(youtube, instagram, facebook) #nhiều hơn 2 thì dùng kruskal hoặc f_oneway\n",
    "print(\"p value:%.6f\" % p_value) \n",
    "if p_value <0.05:\n",
    "    print(\"Reject null hypothesis\")\n",
    "else:\n",
    "    print(\"Fail to reject null hypothesis\")"
   ]
  },
  {
   "cell_type": "code",
   "execution_count": 14,
   "id": "e4902e1f",
   "metadata": {},
   "outputs": [
    {
     "data": {
      "text/plain": [
       "22.193539319674137"
      ]
     },
     "execution_count": 14,
     "metadata": {},
     "output_type": "execute_result"
    }
   ],
   "source": [
    "F"
   ]
  },
  {
   "cell_type": "markdown",
   "id": "643cc33e",
   "metadata": {},
   "source": [
    "At this significance level, at least one of the average customer acquisition numbers is different. Note: Since, the data is not normal, nonparametric version of posthoc test is used.\n",
    "\n",
    "Ở mức ý nghĩa này, ít nhất một trong số các con số chuyển đổi khách hàng trung bình là khác nhau. Lưu ý: Vì dữ liệu không bình thường nên phiên bản kiểm tra posthoc không tham số được sử dụng."
   ]
  },
  {
   "cell_type": "code",
   "execution_count": 12,
   "id": "71c4d7ea",
   "metadata": {
    "scrolled": true
   },
   "outputs": [
    {
     "data": {
      "text/html": [
       "<style type=\"text/css\">\n",
       "#T_258c7_row0_col0, #T_258c7_row1_col1, #T_258c7_row1_col2, #T_258c7_row2_col1, #T_258c7_row2_col2 {\n",
       "  background-color: white;\n",
       "}\n",
       "#T_258c7_row0_col1, #T_258c7_row0_col2, #T_258c7_row1_col0, #T_258c7_row2_col0 {\n",
       "  background-color: violet;\n",
       "}\n",
       "</style>\n",
       "<table id=\"T_258c7\">\n",
       "  <thead>\n",
       "    <tr>\n",
       "      <th class=\"blank level0\" >&nbsp;</th>\n",
       "      <th id=\"T_258c7_level0_col0\" class=\"col_heading level0 col0\" >youtube</th>\n",
       "      <th id=\"T_258c7_level0_col1\" class=\"col_heading level0 col1\" >instagram</th>\n",
       "      <th id=\"T_258c7_level0_col2\" class=\"col_heading level0 col2\" >facebook</th>\n",
       "    </tr>\n",
       "  </thead>\n",
       "  <tbody>\n",
       "    <tr>\n",
       "      <th id=\"T_258c7_level0_row0\" class=\"row_heading level0 row0\" >youtube</th>\n",
       "      <td id=\"T_258c7_row0_col0\" class=\"data row0 col0\" >1.000000</td>\n",
       "      <td id=\"T_258c7_row0_col1\" class=\"data row0 col1\" >0.000010</td>\n",
       "      <td id=\"T_258c7_row0_col2\" class=\"data row0 col2\" >0.002337</td>\n",
       "    </tr>\n",
       "    <tr>\n",
       "      <th id=\"T_258c7_level0_row1\" class=\"row_heading level0 row1\" >instagram</th>\n",
       "      <td id=\"T_258c7_row1_col0\" class=\"data row1 col0\" >0.000010</td>\n",
       "      <td id=\"T_258c7_row1_col1\" class=\"data row1 col1\" >1.000000</td>\n",
       "      <td id=\"T_258c7_row1_col2\" class=\"data row1 col2\" >1.000000</td>\n",
       "    </tr>\n",
       "    <tr>\n",
       "      <th id=\"T_258c7_level0_row2\" class=\"row_heading level0 row2\" >facebook</th>\n",
       "      <td id=\"T_258c7_row2_col0\" class=\"data row2 col0\" >0.002337</td>\n",
       "      <td id=\"T_258c7_row2_col1\" class=\"data row2 col1\" >1.000000</td>\n",
       "      <td id=\"T_258c7_row2_col2\" class=\"data row2 col2\" >1.000000</td>\n",
       "    </tr>\n",
       "  </tbody>\n",
       "</table>\n"
      ],
      "text/plain": [
       "<pandas.io.formats.style.Styler at 0x238bbbe0fd0>"
      ]
     },
     "execution_count": 12,
     "metadata": {},
     "output_type": "execute_result"
    }
   ],
   "source": [
    "#Phân tích xem thực sự nhóm nào khác nhóm nào bằng posthoc_mannwhitney\n",
    "posthoc_df = sp.posthoc_mannwhitney([youtube,instagram, facebook], p_adjust = 'bonferroni') \n",
    "\n",
    "group_names= [\"youtube\", \"instagram\",\"facebook\"] \n",
    "posthoc_df.columns= group_names \n",
    "posthoc_df.index= group_names\n",
    "posthoc_df.style.applymap(lambda x: \"background-color:violet\" if x<0.05 else \"background-color: white\")"
   ]
  },
  {
   "cell_type": "markdown",
   "id": "28255b0a",
   "metadata": {},
   "source": [
    "The average number of customers coming from YouTube is different than the other (actually smaller than the others).\n",
    "\n",
    "Youtube nhỏ hơn 2 kênh còn lại."
   ]
  },
  {
   "cell_type": "code",
   "execution_count": null,
   "id": "763b8a35",
   "metadata": {},
   "outputs": [],
   "source": []
  }
 ],
 "metadata": {
  "kernelspec": {
   "display_name": "Python 3 (ipykernel)",
   "language": "python",
   "name": "python3"
  },
  "language_info": {
   "codemirror_mode": {
    "name": "ipython",
    "version": 3
   },
   "file_extension": ".py",
   "mimetype": "text/x-python",
   "name": "python",
   "nbconvert_exporter": "python",
   "pygments_lexer": "ipython3",
   "version": "3.11.4"
  }
 },
 "nbformat": 4,
 "nbformat_minor": 5
}
