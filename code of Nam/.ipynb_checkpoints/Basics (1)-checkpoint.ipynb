{
 "cells": [
  {
   "cell_type": "markdown",
   "metadata": {},
   "source": [
    "# Winning Jeopardy\n"
   ]
  },
  {
   "cell_type": "markdown",
   "metadata": {},
   "source": [
    "Jeopardy is a popular TV show in the US where participants answer questions to win money. In this project, we will work with the dataset of Jeopardy questions to figure out some patterns in the questions that could help win the game.\n",
    "\n",
    "![image](https://images2.minutemediacdn.com/image/upload/c_crop,w_4184,h_2353,x_0,y_297/c_fill,w_1440,ar_16:9,f_auto,q_auto,g_auto/images/GettyImages/mmsport/mentalfloss/01g2aftm5529evy4bpwa.jpg)\n",
    "\n",
    "\n",
    "The dataset can be found at this [link](https://www.reddit.com/r/datasets/comments/1uyd0t/200000_jeopardy_questions_in_a_json_file/).\n",
    "Each row in the dataset corresponds to one questions asked on a single episode. Description of a few columns:\n",
    "\n",
    "* Show Number - the Jeopardy episode number of the show this question was in.\n",
    "* Air Date - the date the episode aired.\n",
    "* Round - the round of Jeopardy that the question was asked in. Jeopardy has several rounds as each episode progresses.\n",
    "* Category - the category of the question.\n",
    "* Value - the number of dollars answering the question correctly is worth.\n",
    "* Question - the text of the question.\n",
    "* Answer - the text of the answer."
   ]
  },
  {
   "cell_type": "code",
   "execution_count": 98,
   "metadata": {},
   "outputs": [],
   "source": [
    "import pandas as pd\n",
    "import numpy as np\n",
    "import matplotlib.pyplot as plt\n",
    "import seaborn as sns\n",
    "import re\n",
    "import nltk\n",
    "from nltk.corpus import stopwords\n",
    "from nltk.tokenize import word_tokenize\n",
    "from nltk import bigrams\n",
    "from scipy.stats import chisquare,chi2_contingency"
   ]
  },
  {
   "cell_type": "code",
   "execution_count": 8,
   "metadata": {
    "collapsed": true
   },
   "outputs": [],
   "source": [
    "import pandas as pd"
   ]
  },
  {
   "cell_type": "code",
   "execution_count": 9,
   "metadata": {},
   "outputs": [],
   "source": [
    "jeopardy= pd.read_csv(\"jeopardy.csv\")"
   ]
  },
  {
   "cell_type": "code",
   "execution_count": 10,
   "metadata": {},
   "outputs": [
    {
     "data": {
      "text/html": [
       "<div>\n",
       "<style scoped>\n",
       "    .dataframe tbody tr th:only-of-type {\n",
       "        vertical-align: middle;\n",
       "    }\n",
       "\n",
       "    .dataframe tbody tr th {\n",
       "        vertical-align: top;\n",
       "    }\n",
       "\n",
       "    .dataframe thead th {\n",
       "        text-align: right;\n",
       "    }\n",
       "</style>\n",
       "<table border=\"1\" class=\"dataframe\">\n",
       "  <thead>\n",
       "    <tr style=\"text-align: right;\">\n",
       "      <th></th>\n",
       "      <th>Show Number</th>\n",
       "      <th>Air Date</th>\n",
       "      <th>Round</th>\n",
       "      <th>Category</th>\n",
       "      <th>Value</th>\n",
       "      <th>Question</th>\n",
       "      <th>Answer</th>\n",
       "    </tr>\n",
       "  </thead>\n",
       "  <tbody>\n",
       "    <tr>\n",
       "      <th>0</th>\n",
       "      <td>4680</td>\n",
       "      <td>2004-12-31</td>\n",
       "      <td>Jeopardy!</td>\n",
       "      <td>HISTORY</td>\n",
       "      <td>$200</td>\n",
       "      <td>For the last 8 years of his life, Galileo was ...</td>\n",
       "      <td>Copernicus</td>\n",
       "    </tr>\n",
       "    <tr>\n",
       "      <th>1</th>\n",
       "      <td>4680</td>\n",
       "      <td>2004-12-31</td>\n",
       "      <td>Jeopardy!</td>\n",
       "      <td>ESPN's TOP 10 ALL-TIME ATHLETES</td>\n",
       "      <td>$200</td>\n",
       "      <td>No. 2: 1912 Olympian; football star at Carlisl...</td>\n",
       "      <td>Jim Thorpe</td>\n",
       "    </tr>\n",
       "    <tr>\n",
       "      <th>2</th>\n",
       "      <td>4680</td>\n",
       "      <td>2004-12-31</td>\n",
       "      <td>Jeopardy!</td>\n",
       "      <td>EVERYBODY TALKS ABOUT IT...</td>\n",
       "      <td>$200</td>\n",
       "      <td>The city of Yuma in this state has a record av...</td>\n",
       "      <td>Arizona</td>\n",
       "    </tr>\n",
       "    <tr>\n",
       "      <th>3</th>\n",
       "      <td>4680</td>\n",
       "      <td>2004-12-31</td>\n",
       "      <td>Jeopardy!</td>\n",
       "      <td>THE COMPANY LINE</td>\n",
       "      <td>$200</td>\n",
       "      <td>In 1963, live on \"The Art Linkletter Show\", th...</td>\n",
       "      <td>McDonald's</td>\n",
       "    </tr>\n",
       "    <tr>\n",
       "      <th>4</th>\n",
       "      <td>4680</td>\n",
       "      <td>2004-12-31</td>\n",
       "      <td>Jeopardy!</td>\n",
       "      <td>EPITAPHS &amp; TRIBUTES</td>\n",
       "      <td>$200</td>\n",
       "      <td>Signer of the Dec. of Indep., framer of the Co...</td>\n",
       "      <td>John Adams</td>\n",
       "    </tr>\n",
       "  </tbody>\n",
       "</table>\n",
       "</div>"
      ],
      "text/plain": [
       "   Show Number    Air Date      Round                         Category  Value  \\\n",
       "0         4680  2004-12-31  Jeopardy!                          HISTORY   $200   \n",
       "1         4680  2004-12-31  Jeopardy!  ESPN's TOP 10 ALL-TIME ATHLETES   $200   \n",
       "2         4680  2004-12-31  Jeopardy!      EVERYBODY TALKS ABOUT IT...   $200   \n",
       "3         4680  2004-12-31  Jeopardy!                 THE COMPANY LINE   $200   \n",
       "4         4680  2004-12-31  Jeopardy!              EPITAPHS & TRIBUTES   $200   \n",
       "\n",
       "                                            Question      Answer  \n",
       "0  For the last 8 years of his life, Galileo was ...  Copernicus  \n",
       "1  No. 2: 1912 Olympian; football star at Carlisl...  Jim Thorpe  \n",
       "2  The city of Yuma in this state has a record av...     Arizona  \n",
       "3  In 1963, live on \"The Art Linkletter Show\", th...  McDonald's  \n",
       "4  Signer of the Dec. of Indep., framer of the Co...  John Adams  "
      ]
     },
     "execution_count": 10,
     "metadata": {},
     "output_type": "execute_result"
    }
   ],
   "source": [
    "jeopardy.head()"
   ]
  },
  {
   "cell_type": "code",
   "execution_count": 12,
   "metadata": {},
   "outputs": [
    {
     "data": {
      "text/plain": [
       "Index(['Show Number', 'Air Date', 'Round', 'Category', 'Value', 'Question',\n",
       "       'Answer'],\n",
       "      dtype='object')"
      ]
     },
     "execution_count": 12,
     "metadata": {},
     "output_type": "execute_result"
    }
   ],
   "source": [
    "jeopardy.columns"
   ]
  },
  {
   "cell_type": "code",
   "execution_count": 14,
   "metadata": {
    "scrolled": true
   },
   "outputs": [
    {
     "data": {
      "text/html": [
       "<div>\n",
       "<style scoped>\n",
       "    .dataframe tbody tr th:only-of-type {\n",
       "        vertical-align: middle;\n",
       "    }\n",
       "\n",
       "    .dataframe tbody tr th {\n",
       "        vertical-align: top;\n",
       "    }\n",
       "\n",
       "    .dataframe thead th {\n",
       "        text-align: right;\n",
       "    }\n",
       "</style>\n",
       "<table border=\"1\" class=\"dataframe\">\n",
       "  <thead>\n",
       "    <tr style=\"text-align: right;\">\n",
       "      <th></th>\n",
       "      <th>show_number</th>\n",
       "      <th>air_date</th>\n",
       "      <th>round</th>\n",
       "      <th>category</th>\n",
       "      <th>value</th>\n",
       "      <th>question</th>\n",
       "      <th>answer</th>\n",
       "    </tr>\n",
       "  </thead>\n",
       "  <tbody>\n",
       "    <tr>\n",
       "      <th>0</th>\n",
       "      <td>4680</td>\n",
       "      <td>2004-12-31</td>\n",
       "      <td>Jeopardy!</td>\n",
       "      <td>HISTORY</td>\n",
       "      <td>$200</td>\n",
       "      <td>For the last 8 years of his life, Galileo was ...</td>\n",
       "      <td>Copernicus</td>\n",
       "    </tr>\n",
       "    <tr>\n",
       "      <th>1</th>\n",
       "      <td>4680</td>\n",
       "      <td>2004-12-31</td>\n",
       "      <td>Jeopardy!</td>\n",
       "      <td>ESPN's TOP 10 ALL-TIME ATHLETES</td>\n",
       "      <td>$200</td>\n",
       "      <td>No. 2: 1912 Olympian; football star at Carlisl...</td>\n",
       "      <td>Jim Thorpe</td>\n",
       "    </tr>\n",
       "    <tr>\n",
       "      <th>2</th>\n",
       "      <td>4680</td>\n",
       "      <td>2004-12-31</td>\n",
       "      <td>Jeopardy!</td>\n",
       "      <td>EVERYBODY TALKS ABOUT IT...</td>\n",
       "      <td>$200</td>\n",
       "      <td>The city of Yuma in this state has a record av...</td>\n",
       "      <td>Arizona</td>\n",
       "    </tr>\n",
       "  </tbody>\n",
       "</table>\n",
       "</div>"
      ],
      "text/plain": [
       "   show_number    air_date      round                         category value  \\\n",
       "0         4680  2004-12-31  Jeopardy!                          HISTORY  $200   \n",
       "1         4680  2004-12-31  Jeopardy!  ESPN's TOP 10 ALL-TIME ATHLETES  $200   \n",
       "2         4680  2004-12-31  Jeopardy!      EVERYBODY TALKS ABOUT IT...  $200   \n",
       "\n",
       "                                            question      answer  \n",
       "0  For the last 8 years of his life, Galileo was ...  Copernicus  \n",
       "1  No. 2: 1912 Olympian; football star at Carlisl...  Jim Thorpe  \n",
       "2  The city of Yuma in this state has a record av...     Arizona  "
      ]
     },
     "execution_count": 14,
     "metadata": {},
     "output_type": "execute_result"
    }
   ],
   "source": [
    "cols = jeopardy.columns\n",
    "jeopardy.columns = cols.str.strip().str.lower().str.replace(\" \",\"_\")\n",
    "jeopardy.head(3)"
   ]
  },
  {
   "cell_type": "code",
   "execution_count": 16,
   "metadata": {},
   "outputs": [
    {
     "name": "stdout",
     "output_type": "stream",
     "text": [
      "<class 'pandas.core.frame.DataFrame'>\n",
      "RangeIndex: 19999 entries, 0 to 19998\n",
      "Data columns (total 7 columns):\n",
      "show_number    19999 non-null int64\n",
      "air_date       19999 non-null object\n",
      "round          19999 non-null object\n",
      "category       19999 non-null object\n",
      "value          19999 non-null object\n",
      "question       19999 non-null object\n",
      "answer         19999 non-null object\n",
      "dtypes: int64(1), object(6)\n",
      "memory usage: 1.1+ MB\n"
     ]
    }
   ],
   "source": [
    "jeopardy.info()"
   ]
  },
  {
   "cell_type": "markdown",
   "metadata": {},
   "source": [
    "## Normalize \n",
    "\n",
    "Let us normalize the questions and ansewrs columns to remove punctuations and convert all words to lower case. Some questions also contains html tags, so we will remove them as well. This way we can easily use the words for comparision later on."
   ]
  },
  {
   "cell_type": "code",
   "execution_count": 20,
   "metadata": {},
   "outputs": [
    {
     "data": {
      "text/plain": [
       "0    For the last 8 years of his life, Galileo was ...\n",
       "1    No. 2: 1912 Olympian; football star at Carlisl...\n",
       "2    The city of Yuma in this state has a record av...\n",
       "3    In 1963, live on \"The Art Linkletter Show\", th...\n",
       "4    Signer of the Dec. of Indep., framer of the Co...\n",
       "Name: question, dtype: object"
      ]
     },
     "execution_count": 20,
     "metadata": {},
     "output_type": "execute_result"
    }
   ],
   "source": [
    "jeopardy[\"question\"].head()"
   ]
  },
  {
   "cell_type": "code",
   "execution_count": 21,
   "metadata": {},
   "outputs": [],
   "source": [
    "import re\n",
    "def normalize_text(text):\n",
    "    text = text.lower()           #Convert str to lowercase\n",
    "    text = re.sub(\"[^a-zA-Z0-9/s]\",\" \",text)\n",
    "    text = re.sub(\"/s+\",\" \",text)   #dấu câu\n",
    "    return text\n",
    "\n",
    "jeopardy[\"clean_question\"] = jeopardy[\"question\"].apply(normalize_text)\n",
    "jeopardy[\"clean_answer\"] = jeopardy[\"answer\"].apply(normalize_text)"
   ]
  },
  {
   "cell_type": "code",
   "execution_count": 22,
   "metadata": {},
   "outputs": [
    {
     "data": {
      "text/plain": [
       "0    for the last 8 years of his life  galileo was ...\n",
       "1    no  2  1912 olympian  football star at carlisl...\n",
       "2    the city of yuma in this state has a record av...\n",
       "3    in 1963  live on  the art linkletter show   th...\n",
       "4    signer of the dec  of indep   framer of the co...\n",
       "Name: clean_question, dtype: object"
      ]
     },
     "execution_count": 22,
     "metadata": {},
     "output_type": "execute_result"
    }
   ],
   "source": [
    "jeopardy[\"clean_question\"].head(5)"
   ]
  },
  {
   "cell_type": "markdown",
   "metadata": {},
   "source": [
    "## Normalize value\n",
    "\n",
    "The value column must be numeric and the air_date a 'datetime' object rather than a string. So let us normalize these as well."
   ]
  },
  {
   "cell_type": "code",
   "execution_count": 27,
   "metadata": {
    "collapsed": true
   },
   "outputs": [],
   "source": [
    "import re\n",
    "def normalize_value(value):\n",
    "    value = re.sub(\"[^a-zA-Z0-9/s]\", \"\",value)\n",
    "    if value != 'None':\n",
    "        value = value\n",
    "    else:\n",
    "        value = 0\n",
    "    value = int(value)\n",
    "    return value\n",
    "    "
   ]
  },
  {
   "cell_type": "code",
   "execution_count": 28,
   "metadata": {},
   "outputs": [
    {
     "data": {
      "text/plain": [
       "0    200\n",
       "1    200\n",
       "2    200\n",
       "3    200\n",
       "4    200\n",
       "Name: value, dtype: int64"
      ]
     },
     "execution_count": 28,
     "metadata": {},
     "output_type": "execute_result"
    }
   ],
   "source": [
    "jeopardy[\"value\"] = jeopardy[\"value\"].apply(normalize_value)\n",
    "jeopardy[\"value\"].head()"
   ]
  },
  {
   "cell_type": "markdown",
   "metadata": {},
   "source": [
    "## Normalize Date"
   ]
  },
  {
   "cell_type": "code",
   "execution_count": 24,
   "metadata": {},
   "outputs": [],
   "source": [
    "jeopardy[\"air_date\"] = pd.to_datetime(jeopardy[\"air_date\"])"
   ]
  },
  {
   "cell_type": "code",
   "execution_count": 25,
   "metadata": {},
   "outputs": [
    {
     "data": {
      "text/plain": [
       "0   2004-12-31\n",
       "1   2004-12-31\n",
       "2   2004-12-31\n",
       "3   2004-12-31\n",
       "4   2004-12-31\n",
       "Name: air_date, dtype: datetime64[ns]"
      ]
     },
     "execution_count": 25,
     "metadata": {},
     "output_type": "execute_result"
    }
   ],
   "source": [
    "jeopardy[\"air_date\"].head()"
   ]
  },
  {
   "cell_type": "markdown",
   "metadata": {
    "collapsed": true
   },
   "source": [
    "## Answers in Questions\n",
    "\n",
    "It would be helpful to figure two things when trying to analyze the game inorder to win it.\n",
    "\n",
    "* How often the answer is deducible from the question.\n",
    "* How often new questions are repeats of older questions.\n",
    "\n",
    "For the first question, we will see how many times on average do the answers appear or are mentioned of in the questions. For every answer we will check the corresponding questions to see if the answer or any part of the answer was in it. We will remove the Stopwords from the questions and answers as Stopwords are very common and can be misleading in our case.\n",
    "\n",
    "The basic idea is to find on average how many times do the questions contain the answers, so we will, for each answer check the corresponding questions and find the proportion of answer present in the question, we will then take its mean to get a general idea."
   ]
  },
  {
   "cell_type": "code",
   "execution_count": 29,
   "metadata": {
    "collapsed": true
   },
   "outputs": [],
   "source": [
    "\n",
    "def count_matches(row):\n",
    "    split_answer = row[\"clean_answer\"].split()\n",
    "    split_question = row[\"clean_question\"].split()\n",
    "    if \"the\" in split_answer:\n",
    "        split_answer.remove(\"the\")\n",
    "    if len(split_answer) == 0:\n",
    "        return 0\n",
    "    match_count = 0\n",
    "    for answer in split_answer:\n",
    "        if answer in split_question:\n",
    "            match_count += 1\n",
    "    return match_count/len(split_answer)\n",
    "     "
   ]
  },
  {
   "cell_type": "code",
   "execution_count": 35,
   "metadata": {},
   "outputs": [
    {
     "data": {
      "text/html": [
       "<div>\n",
       "<style scoped>\n",
       "    .dataframe tbody tr th:only-of-type {\n",
       "        vertical-align: middle;\n",
       "    }\n",
       "\n",
       "    .dataframe tbody tr th {\n",
       "        vertical-align: top;\n",
       "    }\n",
       "\n",
       "    .dataframe thead th {\n",
       "        text-align: right;\n",
       "    }\n",
       "</style>\n",
       "<table border=\"1\" class=\"dataframe\">\n",
       "  <thead>\n",
       "    <tr style=\"text-align: right;\">\n",
       "      <th></th>\n",
       "      <th>show_number</th>\n",
       "      <th>air_date</th>\n",
       "      <th>round</th>\n",
       "      <th>category</th>\n",
       "      <th>value</th>\n",
       "      <th>question</th>\n",
       "      <th>answer</th>\n",
       "      <th>clean_question</th>\n",
       "      <th>clean_answer</th>\n",
       "      <th>answer_in_question</th>\n",
       "    </tr>\n",
       "  </thead>\n",
       "  <tbody>\n",
       "    <tr>\n",
       "      <th>0</th>\n",
       "      <td>4680</td>\n",
       "      <td>2004-12-31</td>\n",
       "      <td>Jeopardy!</td>\n",
       "      <td>HISTORY</td>\n",
       "      <td>200</td>\n",
       "      <td>For the last 8 years of his life, Galileo was ...</td>\n",
       "      <td>Copernicus</td>\n",
       "      <td>for the last 8 years of his life  galileo was ...</td>\n",
       "      <td>copernicus</td>\n",
       "      <td>0.0</td>\n",
       "    </tr>\n",
       "    <tr>\n",
       "      <th>1</th>\n",
       "      <td>4680</td>\n",
       "      <td>2004-12-31</td>\n",
       "      <td>Jeopardy!</td>\n",
       "      <td>ESPN's TOP 10 ALL-TIME ATHLETES</td>\n",
       "      <td>200</td>\n",
       "      <td>No. 2: 1912 Olympian; football star at Carlisl...</td>\n",
       "      <td>Jim Thorpe</td>\n",
       "      <td>no  2  1912 olympian  football star at carlisl...</td>\n",
       "      <td>jim thorpe</td>\n",
       "      <td>0.0</td>\n",
       "    </tr>\n",
       "    <tr>\n",
       "      <th>2</th>\n",
       "      <td>4680</td>\n",
       "      <td>2004-12-31</td>\n",
       "      <td>Jeopardy!</td>\n",
       "      <td>EVERYBODY TALKS ABOUT IT...</td>\n",
       "      <td>200</td>\n",
       "      <td>The city of Yuma in this state has a record av...</td>\n",
       "      <td>Arizona</td>\n",
       "      <td>the city of yuma in this state has a record av...</td>\n",
       "      <td>arizona</td>\n",
       "      <td>0.0</td>\n",
       "    </tr>\n",
       "    <tr>\n",
       "      <th>3</th>\n",
       "      <td>4680</td>\n",
       "      <td>2004-12-31</td>\n",
       "      <td>Jeopardy!</td>\n",
       "      <td>THE COMPANY LINE</td>\n",
       "      <td>200</td>\n",
       "      <td>In 1963, live on \"The Art Linkletter Show\", th...</td>\n",
       "      <td>McDonald's</td>\n",
       "      <td>in 1963  live on  the art linkletter show   th...</td>\n",
       "      <td>mcdonald s</td>\n",
       "      <td>0.0</td>\n",
       "    </tr>\n",
       "    <tr>\n",
       "      <th>4</th>\n",
       "      <td>4680</td>\n",
       "      <td>2004-12-31</td>\n",
       "      <td>Jeopardy!</td>\n",
       "      <td>EPITAPHS &amp; TRIBUTES</td>\n",
       "      <td>200</td>\n",
       "      <td>Signer of the Dec. of Indep., framer of the Co...</td>\n",
       "      <td>John Adams</td>\n",
       "      <td>signer of the dec  of indep   framer of the co...</td>\n",
       "      <td>john adams</td>\n",
       "      <td>0.0</td>\n",
       "    </tr>\n",
       "    <tr>\n",
       "      <th>5</th>\n",
       "      <td>4680</td>\n",
       "      <td>2004-12-31</td>\n",
       "      <td>Jeopardy!</td>\n",
       "      <td>3-LETTER WORDS</td>\n",
       "      <td>200</td>\n",
       "      <td>In the title of an Aesop fable, this insect sh...</td>\n",
       "      <td>the ant</td>\n",
       "      <td>in the title of an aesop fable  this insect sh...</td>\n",
       "      <td>the ant</td>\n",
       "      <td>0.0</td>\n",
       "    </tr>\n",
       "    <tr>\n",
       "      <th>6</th>\n",
       "      <td>4680</td>\n",
       "      <td>2004-12-31</td>\n",
       "      <td>Jeopardy!</td>\n",
       "      <td>HISTORY</td>\n",
       "      <td>400</td>\n",
       "      <td>Built in 312 B.C. to link Rome &amp; the South of ...</td>\n",
       "      <td>the Appian Way</td>\n",
       "      <td>built in 312 b c  to link rome   the south of ...</td>\n",
       "      <td>the appian way</td>\n",
       "      <td>0.0</td>\n",
       "    </tr>\n",
       "    <tr>\n",
       "      <th>7</th>\n",
       "      <td>4680</td>\n",
       "      <td>2004-12-31</td>\n",
       "      <td>Jeopardy!</td>\n",
       "      <td>ESPN's TOP 10 ALL-TIME ATHLETES</td>\n",
       "      <td>400</td>\n",
       "      <td>No. 8: 30 steals for the Birmingham Barons; 2,...</td>\n",
       "      <td>Michael Jordan</td>\n",
       "      <td>no  8  30 steals for the birmingham barons  2 ...</td>\n",
       "      <td>michael jordan</td>\n",
       "      <td>0.0</td>\n",
       "    </tr>\n",
       "    <tr>\n",
       "      <th>8</th>\n",
       "      <td>4680</td>\n",
       "      <td>2004-12-31</td>\n",
       "      <td>Jeopardy!</td>\n",
       "      <td>EVERYBODY TALKS ABOUT IT...</td>\n",
       "      <td>400</td>\n",
       "      <td>In the winter of 1971-72, a record 1,122 inche...</td>\n",
       "      <td>Washington</td>\n",
       "      <td>in the winter of 1971 72  a record 1 122 inche...</td>\n",
       "      <td>washington</td>\n",
       "      <td>0.0</td>\n",
       "    </tr>\n",
       "    <tr>\n",
       "      <th>9</th>\n",
       "      <td>4680</td>\n",
       "      <td>2004-12-31</td>\n",
       "      <td>Jeopardy!</td>\n",
       "      <td>THE COMPANY LINE</td>\n",
       "      <td>400</td>\n",
       "      <td>This housewares store was named for the packag...</td>\n",
       "      <td>Crate &amp; Barrel</td>\n",
       "      <td>this housewares store was named for the packag...</td>\n",
       "      <td>crate   barrel</td>\n",
       "      <td>0.0</td>\n",
       "    </tr>\n",
       "    <tr>\n",
       "      <th>10</th>\n",
       "      <td>4680</td>\n",
       "      <td>2004-12-31</td>\n",
       "      <td>Jeopardy!</td>\n",
       "      <td>EPITAPHS &amp; TRIBUTES</td>\n",
       "      <td>400</td>\n",
       "      <td>\"And away we go\"</td>\n",
       "      <td>Jackie Gleason</td>\n",
       "      <td>and away we go</td>\n",
       "      <td>jackie gleason</td>\n",
       "      <td>0.0</td>\n",
       "    </tr>\n",
       "    <tr>\n",
       "      <th>11</th>\n",
       "      <td>4680</td>\n",
       "      <td>2004-12-31</td>\n",
       "      <td>Jeopardy!</td>\n",
       "      <td>3-LETTER WORDS</td>\n",
       "      <td>400</td>\n",
       "      <td>Cows regurgitate this from the first stomach t...</td>\n",
       "      <td>the cud</td>\n",
       "      <td>cows regurgitate this from the first stomach t...</td>\n",
       "      <td>the cud</td>\n",
       "      <td>0.0</td>\n",
       "    </tr>\n",
       "    <tr>\n",
       "      <th>12</th>\n",
       "      <td>4680</td>\n",
       "      <td>2004-12-31</td>\n",
       "      <td>Jeopardy!</td>\n",
       "      <td>HISTORY</td>\n",
       "      <td>600</td>\n",
       "      <td>In 1000 Rajaraja I of the Cholas battled to ta...</td>\n",
       "      <td>Ceylon (or Sri Lanka)</td>\n",
       "      <td>in 1000 rajaraja i of the cholas battled to ta...</td>\n",
       "      <td>ceylon  or sri lanka</td>\n",
       "      <td>0.0</td>\n",
       "    </tr>\n",
       "    <tr>\n",
       "      <th>13</th>\n",
       "      <td>4680</td>\n",
       "      <td>2004-12-31</td>\n",
       "      <td>Jeopardy!</td>\n",
       "      <td>ESPN's TOP 10 ALL-TIME ATHLETES</td>\n",
       "      <td>600</td>\n",
       "      <td>No. 1: Lettered in hoops, football &amp; lacrosse ...</td>\n",
       "      <td>Jim Brown</td>\n",
       "      <td>no  1  lettered in hoops  football   lacrosse ...</td>\n",
       "      <td>jim brown</td>\n",
       "      <td>0.0</td>\n",
       "    </tr>\n",
       "    <tr>\n",
       "      <th>14</th>\n",
       "      <td>4680</td>\n",
       "      <td>2004-12-31</td>\n",
       "      <td>Jeopardy!</td>\n",
       "      <td>EVERYBODY TALKS ABOUT IT...</td>\n",
       "      <td>600</td>\n",
       "      <td>On June 28, 1994 the nat'l weather service beg...</td>\n",
       "      <td>the UV index</td>\n",
       "      <td>on june 28  1994 the nat l weather service beg...</td>\n",
       "      <td>the uv index</td>\n",
       "      <td>0.5</td>\n",
       "    </tr>\n",
       "    <tr>\n",
       "      <th>15</th>\n",
       "      <td>4680</td>\n",
       "      <td>2004-12-31</td>\n",
       "      <td>Jeopardy!</td>\n",
       "      <td>THE COMPANY LINE</td>\n",
       "      <td>600</td>\n",
       "      <td>This company's Accutron watch, introduced in 1...</td>\n",
       "      <td>Bulova</td>\n",
       "      <td>this company s accutron watch  introduced in 1...</td>\n",
       "      <td>bulova</td>\n",
       "      <td>0.0</td>\n",
       "    </tr>\n",
       "    <tr>\n",
       "      <th>16</th>\n",
       "      <td>4680</td>\n",
       "      <td>2004-12-31</td>\n",
       "      <td>Jeopardy!</td>\n",
       "      <td>EPITAPHS &amp; TRIBUTES</td>\n",
       "      <td>600</td>\n",
       "      <td>Outlaw: \"Murdered by a traitor and a coward wh...</td>\n",
       "      <td>Jesse James</td>\n",
       "      <td>outlaw   murdered by a traitor and a coward wh...</td>\n",
       "      <td>jesse james</td>\n",
       "      <td>0.0</td>\n",
       "    </tr>\n",
       "    <tr>\n",
       "      <th>17</th>\n",
       "      <td>4680</td>\n",
       "      <td>2004-12-31</td>\n",
       "      <td>Jeopardy!</td>\n",
       "      <td>3-LETTER WORDS</td>\n",
       "      <td>600</td>\n",
       "      <td>A small demon, or a mischievous child (who mig...</td>\n",
       "      <td>imp</td>\n",
       "      <td>a small demon  or a mischievous child  who mig...</td>\n",
       "      <td>imp</td>\n",
       "      <td>0.0</td>\n",
       "    </tr>\n",
       "    <tr>\n",
       "      <th>18</th>\n",
       "      <td>4680</td>\n",
       "      <td>2004-12-31</td>\n",
       "      <td>Jeopardy!</td>\n",
       "      <td>HISTORY</td>\n",
       "      <td>800</td>\n",
       "      <td>Karl led the first of these Marxist organizati...</td>\n",
       "      <td>the International</td>\n",
       "      <td>karl led the first of these marxist organizati...</td>\n",
       "      <td>the international</td>\n",
       "      <td>0.0</td>\n",
       "    </tr>\n",
       "    <tr>\n",
       "      <th>19</th>\n",
       "      <td>4680</td>\n",
       "      <td>2004-12-31</td>\n",
       "      <td>Jeopardy!</td>\n",
       "      <td>ESPN's TOP 10 ALL-TIME ATHLETES</td>\n",
       "      <td>800</td>\n",
       "      <td>No. 10: FB/LB for Columbia U. in the 1920s; MV...</td>\n",
       "      <td>(Lou) Gehrig</td>\n",
       "      <td>no  10  fb/lb for columbia u  in the 1920s  mv...</td>\n",
       "      <td>lou  gehrig</td>\n",
       "      <td>0.0</td>\n",
       "    </tr>\n",
       "  </tbody>\n",
       "</table>\n",
       "</div>"
      ],
      "text/plain": [
       "    show_number   air_date      round                         category  value  \\\n",
       "0          4680 2004-12-31  Jeopardy!                          HISTORY    200   \n",
       "1          4680 2004-12-31  Jeopardy!  ESPN's TOP 10 ALL-TIME ATHLETES    200   \n",
       "2          4680 2004-12-31  Jeopardy!      EVERYBODY TALKS ABOUT IT...    200   \n",
       "3          4680 2004-12-31  Jeopardy!                 THE COMPANY LINE    200   \n",
       "4          4680 2004-12-31  Jeopardy!              EPITAPHS & TRIBUTES    200   \n",
       "5          4680 2004-12-31  Jeopardy!                   3-LETTER WORDS    200   \n",
       "6          4680 2004-12-31  Jeopardy!                          HISTORY    400   \n",
       "7          4680 2004-12-31  Jeopardy!  ESPN's TOP 10 ALL-TIME ATHLETES    400   \n",
       "8          4680 2004-12-31  Jeopardy!      EVERYBODY TALKS ABOUT IT...    400   \n",
       "9          4680 2004-12-31  Jeopardy!                 THE COMPANY LINE    400   \n",
       "10         4680 2004-12-31  Jeopardy!              EPITAPHS & TRIBUTES    400   \n",
       "11         4680 2004-12-31  Jeopardy!                   3-LETTER WORDS    400   \n",
       "12         4680 2004-12-31  Jeopardy!                          HISTORY    600   \n",
       "13         4680 2004-12-31  Jeopardy!  ESPN's TOP 10 ALL-TIME ATHLETES    600   \n",
       "14         4680 2004-12-31  Jeopardy!      EVERYBODY TALKS ABOUT IT...    600   \n",
       "15         4680 2004-12-31  Jeopardy!                 THE COMPANY LINE    600   \n",
       "16         4680 2004-12-31  Jeopardy!              EPITAPHS & TRIBUTES    600   \n",
       "17         4680 2004-12-31  Jeopardy!                   3-LETTER WORDS    600   \n",
       "18         4680 2004-12-31  Jeopardy!                          HISTORY    800   \n",
       "19         4680 2004-12-31  Jeopardy!  ESPN's TOP 10 ALL-TIME ATHLETES    800   \n",
       "\n",
       "                                             question                 answer  \\\n",
       "0   For the last 8 years of his life, Galileo was ...             Copernicus   \n",
       "1   No. 2: 1912 Olympian; football star at Carlisl...             Jim Thorpe   \n",
       "2   The city of Yuma in this state has a record av...                Arizona   \n",
       "3   In 1963, live on \"The Art Linkletter Show\", th...             McDonald's   \n",
       "4   Signer of the Dec. of Indep., framer of the Co...             John Adams   \n",
       "5   In the title of an Aesop fable, this insect sh...                the ant   \n",
       "6   Built in 312 B.C. to link Rome & the South of ...         the Appian Way   \n",
       "7   No. 8: 30 steals for the Birmingham Barons; 2,...         Michael Jordan   \n",
       "8   In the winter of 1971-72, a record 1,122 inche...             Washington   \n",
       "9   This housewares store was named for the packag...         Crate & Barrel   \n",
       "10                                   \"And away we go\"         Jackie Gleason   \n",
       "11  Cows regurgitate this from the first stomach t...                the cud   \n",
       "12  In 1000 Rajaraja I of the Cholas battled to ta...  Ceylon (or Sri Lanka)   \n",
       "13  No. 1: Lettered in hoops, football & lacrosse ...              Jim Brown   \n",
       "14  On June 28, 1994 the nat'l weather service beg...           the UV index   \n",
       "15  This company's Accutron watch, introduced in 1...                 Bulova   \n",
       "16  Outlaw: \"Murdered by a traitor and a coward wh...            Jesse James   \n",
       "17  A small demon, or a mischievous child (who mig...                    imp   \n",
       "18  Karl led the first of these Marxist organizati...      the International   \n",
       "19  No. 10: FB/LB for Columbia U. in the 1920s; MV...           (Lou) Gehrig   \n",
       "\n",
       "                                       clean_question           clean_answer  \\\n",
       "0   for the last 8 years of his life  galileo was ...             copernicus   \n",
       "1   no  2  1912 olympian  football star at carlisl...             jim thorpe   \n",
       "2   the city of yuma in this state has a record av...                arizona   \n",
       "3   in 1963  live on  the art linkletter show   th...             mcdonald s   \n",
       "4   signer of the dec  of indep   framer of the co...             john adams   \n",
       "5   in the title of an aesop fable  this insect sh...                the ant   \n",
       "6   built in 312 b c  to link rome   the south of ...         the appian way   \n",
       "7   no  8  30 steals for the birmingham barons  2 ...         michael jordan   \n",
       "8   in the winter of 1971 72  a record 1 122 inche...             washington   \n",
       "9   this housewares store was named for the packag...         crate   barrel   \n",
       "10                                    and away we go          jackie gleason   \n",
       "11  cows regurgitate this from the first stomach t...                the cud   \n",
       "12  in 1000 rajaraja i of the cholas battled to ta...  ceylon  or sri lanka    \n",
       "13  no  1  lettered in hoops  football   lacrosse ...              jim brown   \n",
       "14  on june 28  1994 the nat l weather service beg...           the uv index   \n",
       "15  this company s accutron watch  introduced in 1...                 bulova   \n",
       "16  outlaw   murdered by a traitor and a coward wh...            jesse james   \n",
       "17  a small demon  or a mischievous child  who mig...                    imp   \n",
       "18  karl led the first of these marxist organizati...      the international   \n",
       "19  no  10  fb/lb for columbia u  in the 1920s  mv...            lou  gehrig   \n",
       "\n",
       "    answer_in_question  \n",
       "0                  0.0  \n",
       "1                  0.0  \n",
       "2                  0.0  \n",
       "3                  0.0  \n",
       "4                  0.0  \n",
       "5                  0.0  \n",
       "6                  0.0  \n",
       "7                  0.0  \n",
       "8                  0.0  \n",
       "9                  0.0  \n",
       "10                 0.0  \n",
       "11                 0.0  \n",
       "12                 0.0  \n",
       "13                 0.0  \n",
       "14                 0.5  \n",
       "15                 0.0  \n",
       "16                 0.0  \n",
       "17                 0.0  \n",
       "18                 0.0  \n",
       "19                 0.0  "
      ]
     },
     "execution_count": 35,
     "metadata": {},
     "output_type": "execute_result"
    }
   ],
   "source": [
    "jeopardy.head(20)"
   ]
  },
  {
   "cell_type": "code",
   "execution_count": 31,
   "metadata": {},
   "outputs": [],
   "source": [
    "jeopardy[\"answer_in_question\"] =  jeopardy.apply(count_matches,axis = 1)"
   ]
  },
  {
   "cell_type": "code",
   "execution_count": 32,
   "metadata": {},
   "outputs": [
    {
     "data": {
      "text/html": [
       "<div>\n",
       "<style scoped>\n",
       "    .dataframe tbody tr th:only-of-type {\n",
       "        vertical-align: middle;\n",
       "    }\n",
       "\n",
       "    .dataframe tbody tr th {\n",
       "        vertical-align: top;\n",
       "    }\n",
       "\n",
       "    .dataframe thead th {\n",
       "        text-align: right;\n",
       "    }\n",
       "</style>\n",
       "<table border=\"1\" class=\"dataframe\">\n",
       "  <thead>\n",
       "    <tr style=\"text-align: right;\">\n",
       "      <th></th>\n",
       "      <th>show_number</th>\n",
       "      <th>air_date</th>\n",
       "      <th>round</th>\n",
       "      <th>category</th>\n",
       "      <th>value</th>\n",
       "      <th>question</th>\n",
       "      <th>answer</th>\n",
       "      <th>clean_question</th>\n",
       "      <th>clean_answer</th>\n",
       "      <th>answer_in_question</th>\n",
       "    </tr>\n",
       "  </thead>\n",
       "  <tbody>\n",
       "    <tr>\n",
       "      <th>0</th>\n",
       "      <td>4680</td>\n",
       "      <td>2004-12-31</td>\n",
       "      <td>Jeopardy!</td>\n",
       "      <td>HISTORY</td>\n",
       "      <td>200</td>\n",
       "      <td>For the last 8 years of his life, Galileo was ...</td>\n",
       "      <td>Copernicus</td>\n",
       "      <td>for the last 8 years of his life  galileo was ...</td>\n",
       "      <td>copernicus</td>\n",
       "      <td>0.0</td>\n",
       "    </tr>\n",
       "    <tr>\n",
       "      <th>1</th>\n",
       "      <td>4680</td>\n",
       "      <td>2004-12-31</td>\n",
       "      <td>Jeopardy!</td>\n",
       "      <td>ESPN's TOP 10 ALL-TIME ATHLETES</td>\n",
       "      <td>200</td>\n",
       "      <td>No. 2: 1912 Olympian; football star at Carlisl...</td>\n",
       "      <td>Jim Thorpe</td>\n",
       "      <td>no  2  1912 olympian  football star at carlisl...</td>\n",
       "      <td>jim thorpe</td>\n",
       "      <td>0.0</td>\n",
       "    </tr>\n",
       "    <tr>\n",
       "      <th>2</th>\n",
       "      <td>4680</td>\n",
       "      <td>2004-12-31</td>\n",
       "      <td>Jeopardy!</td>\n",
       "      <td>EVERYBODY TALKS ABOUT IT...</td>\n",
       "      <td>200</td>\n",
       "      <td>The city of Yuma in this state has a record av...</td>\n",
       "      <td>Arizona</td>\n",
       "      <td>the city of yuma in this state has a record av...</td>\n",
       "      <td>arizona</td>\n",
       "      <td>0.0</td>\n",
       "    </tr>\n",
       "    <tr>\n",
       "      <th>3</th>\n",
       "      <td>4680</td>\n",
       "      <td>2004-12-31</td>\n",
       "      <td>Jeopardy!</td>\n",
       "      <td>THE COMPANY LINE</td>\n",
       "      <td>200</td>\n",
       "      <td>In 1963, live on \"The Art Linkletter Show\", th...</td>\n",
       "      <td>McDonald's</td>\n",
       "      <td>in 1963  live on  the art linkletter show   th...</td>\n",
       "      <td>mcdonald s</td>\n",
       "      <td>0.0</td>\n",
       "    </tr>\n",
       "    <tr>\n",
       "      <th>4</th>\n",
       "      <td>4680</td>\n",
       "      <td>2004-12-31</td>\n",
       "      <td>Jeopardy!</td>\n",
       "      <td>EPITAPHS &amp; TRIBUTES</td>\n",
       "      <td>200</td>\n",
       "      <td>Signer of the Dec. of Indep., framer of the Co...</td>\n",
       "      <td>John Adams</td>\n",
       "      <td>signer of the dec  of indep   framer of the co...</td>\n",
       "      <td>john adams</td>\n",
       "      <td>0.0</td>\n",
       "    </tr>\n",
       "    <tr>\n",
       "      <th>5</th>\n",
       "      <td>4680</td>\n",
       "      <td>2004-12-31</td>\n",
       "      <td>Jeopardy!</td>\n",
       "      <td>3-LETTER WORDS</td>\n",
       "      <td>200</td>\n",
       "      <td>In the title of an Aesop fable, this insect sh...</td>\n",
       "      <td>the ant</td>\n",
       "      <td>in the title of an aesop fable  this insect sh...</td>\n",
       "      <td>the ant</td>\n",
       "      <td>0.0</td>\n",
       "    </tr>\n",
       "    <tr>\n",
       "      <th>6</th>\n",
       "      <td>4680</td>\n",
       "      <td>2004-12-31</td>\n",
       "      <td>Jeopardy!</td>\n",
       "      <td>HISTORY</td>\n",
       "      <td>400</td>\n",
       "      <td>Built in 312 B.C. to link Rome &amp; the South of ...</td>\n",
       "      <td>the Appian Way</td>\n",
       "      <td>built in 312 b c  to link rome   the south of ...</td>\n",
       "      <td>the appian way</td>\n",
       "      <td>0.0</td>\n",
       "    </tr>\n",
       "    <tr>\n",
       "      <th>7</th>\n",
       "      <td>4680</td>\n",
       "      <td>2004-12-31</td>\n",
       "      <td>Jeopardy!</td>\n",
       "      <td>ESPN's TOP 10 ALL-TIME ATHLETES</td>\n",
       "      <td>400</td>\n",
       "      <td>No. 8: 30 steals for the Birmingham Barons; 2,...</td>\n",
       "      <td>Michael Jordan</td>\n",
       "      <td>no  8  30 steals for the birmingham barons  2 ...</td>\n",
       "      <td>michael jordan</td>\n",
       "      <td>0.0</td>\n",
       "    </tr>\n",
       "    <tr>\n",
       "      <th>8</th>\n",
       "      <td>4680</td>\n",
       "      <td>2004-12-31</td>\n",
       "      <td>Jeopardy!</td>\n",
       "      <td>EVERYBODY TALKS ABOUT IT...</td>\n",
       "      <td>400</td>\n",
       "      <td>In the winter of 1971-72, a record 1,122 inche...</td>\n",
       "      <td>Washington</td>\n",
       "      <td>in the winter of 1971 72  a record 1 122 inche...</td>\n",
       "      <td>washington</td>\n",
       "      <td>0.0</td>\n",
       "    </tr>\n",
       "    <tr>\n",
       "      <th>9</th>\n",
       "      <td>4680</td>\n",
       "      <td>2004-12-31</td>\n",
       "      <td>Jeopardy!</td>\n",
       "      <td>THE COMPANY LINE</td>\n",
       "      <td>400</td>\n",
       "      <td>This housewares store was named for the packag...</td>\n",
       "      <td>Crate &amp; Barrel</td>\n",
       "      <td>this housewares store was named for the packag...</td>\n",
       "      <td>crate   barrel</td>\n",
       "      <td>0.0</td>\n",
       "    </tr>\n",
       "    <tr>\n",
       "      <th>10</th>\n",
       "      <td>4680</td>\n",
       "      <td>2004-12-31</td>\n",
       "      <td>Jeopardy!</td>\n",
       "      <td>EPITAPHS &amp; TRIBUTES</td>\n",
       "      <td>400</td>\n",
       "      <td>\"And away we go\"</td>\n",
       "      <td>Jackie Gleason</td>\n",
       "      <td>and away we go</td>\n",
       "      <td>jackie gleason</td>\n",
       "      <td>0.0</td>\n",
       "    </tr>\n",
       "    <tr>\n",
       "      <th>11</th>\n",
       "      <td>4680</td>\n",
       "      <td>2004-12-31</td>\n",
       "      <td>Jeopardy!</td>\n",
       "      <td>3-LETTER WORDS</td>\n",
       "      <td>400</td>\n",
       "      <td>Cows regurgitate this from the first stomach t...</td>\n",
       "      <td>the cud</td>\n",
       "      <td>cows regurgitate this from the first stomach t...</td>\n",
       "      <td>the cud</td>\n",
       "      <td>0.0</td>\n",
       "    </tr>\n",
       "    <tr>\n",
       "      <th>12</th>\n",
       "      <td>4680</td>\n",
       "      <td>2004-12-31</td>\n",
       "      <td>Jeopardy!</td>\n",
       "      <td>HISTORY</td>\n",
       "      <td>600</td>\n",
       "      <td>In 1000 Rajaraja I of the Cholas battled to ta...</td>\n",
       "      <td>Ceylon (or Sri Lanka)</td>\n",
       "      <td>in 1000 rajaraja i of the cholas battled to ta...</td>\n",
       "      <td>ceylon  or sri lanka</td>\n",
       "      <td>0.0</td>\n",
       "    </tr>\n",
       "    <tr>\n",
       "      <th>13</th>\n",
       "      <td>4680</td>\n",
       "      <td>2004-12-31</td>\n",
       "      <td>Jeopardy!</td>\n",
       "      <td>ESPN's TOP 10 ALL-TIME ATHLETES</td>\n",
       "      <td>600</td>\n",
       "      <td>No. 1: Lettered in hoops, football &amp; lacrosse ...</td>\n",
       "      <td>Jim Brown</td>\n",
       "      <td>no  1  lettered in hoops  football   lacrosse ...</td>\n",
       "      <td>jim brown</td>\n",
       "      <td>0.0</td>\n",
       "    </tr>\n",
       "    <tr>\n",
       "      <th>14</th>\n",
       "      <td>4680</td>\n",
       "      <td>2004-12-31</td>\n",
       "      <td>Jeopardy!</td>\n",
       "      <td>EVERYBODY TALKS ABOUT IT...</td>\n",
       "      <td>600</td>\n",
       "      <td>On June 28, 1994 the nat'l weather service beg...</td>\n",
       "      <td>the UV index</td>\n",
       "      <td>on june 28  1994 the nat l weather service beg...</td>\n",
       "      <td>the uv index</td>\n",
       "      <td>0.5</td>\n",
       "    </tr>\n",
       "    <tr>\n",
       "      <th>15</th>\n",
       "      <td>4680</td>\n",
       "      <td>2004-12-31</td>\n",
       "      <td>Jeopardy!</td>\n",
       "      <td>THE COMPANY LINE</td>\n",
       "      <td>600</td>\n",
       "      <td>This company's Accutron watch, introduced in 1...</td>\n",
       "      <td>Bulova</td>\n",
       "      <td>this company s accutron watch  introduced in 1...</td>\n",
       "      <td>bulova</td>\n",
       "      <td>0.0</td>\n",
       "    </tr>\n",
       "    <tr>\n",
       "      <th>16</th>\n",
       "      <td>4680</td>\n",
       "      <td>2004-12-31</td>\n",
       "      <td>Jeopardy!</td>\n",
       "      <td>EPITAPHS &amp; TRIBUTES</td>\n",
       "      <td>600</td>\n",
       "      <td>Outlaw: \"Murdered by a traitor and a coward wh...</td>\n",
       "      <td>Jesse James</td>\n",
       "      <td>outlaw   murdered by a traitor and a coward wh...</td>\n",
       "      <td>jesse james</td>\n",
       "      <td>0.0</td>\n",
       "    </tr>\n",
       "    <tr>\n",
       "      <th>17</th>\n",
       "      <td>4680</td>\n",
       "      <td>2004-12-31</td>\n",
       "      <td>Jeopardy!</td>\n",
       "      <td>3-LETTER WORDS</td>\n",
       "      <td>600</td>\n",
       "      <td>A small demon, or a mischievous child (who mig...</td>\n",
       "      <td>imp</td>\n",
       "      <td>a small demon  or a mischievous child  who mig...</td>\n",
       "      <td>imp</td>\n",
       "      <td>0.0</td>\n",
       "    </tr>\n",
       "    <tr>\n",
       "      <th>18</th>\n",
       "      <td>4680</td>\n",
       "      <td>2004-12-31</td>\n",
       "      <td>Jeopardy!</td>\n",
       "      <td>HISTORY</td>\n",
       "      <td>800</td>\n",
       "      <td>Karl led the first of these Marxist organizati...</td>\n",
       "      <td>the International</td>\n",
       "      <td>karl led the first of these marxist organizati...</td>\n",
       "      <td>the international</td>\n",
       "      <td>0.0</td>\n",
       "    </tr>\n",
       "    <tr>\n",
       "      <th>19</th>\n",
       "      <td>4680</td>\n",
       "      <td>2004-12-31</td>\n",
       "      <td>Jeopardy!</td>\n",
       "      <td>ESPN's TOP 10 ALL-TIME ATHLETES</td>\n",
       "      <td>800</td>\n",
       "      <td>No. 10: FB/LB for Columbia U. in the 1920s; MV...</td>\n",
       "      <td>(Lou) Gehrig</td>\n",
       "      <td>no  10  fb/lb for columbia u  in the 1920s  mv...</td>\n",
       "      <td>lou  gehrig</td>\n",
       "      <td>0.0</td>\n",
       "    </tr>\n",
       "  </tbody>\n",
       "</table>\n",
       "</div>"
      ],
      "text/plain": [
       "    show_number   air_date      round                         category  value  \\\n",
       "0          4680 2004-12-31  Jeopardy!                          HISTORY    200   \n",
       "1          4680 2004-12-31  Jeopardy!  ESPN's TOP 10 ALL-TIME ATHLETES    200   \n",
       "2          4680 2004-12-31  Jeopardy!      EVERYBODY TALKS ABOUT IT...    200   \n",
       "3          4680 2004-12-31  Jeopardy!                 THE COMPANY LINE    200   \n",
       "4          4680 2004-12-31  Jeopardy!              EPITAPHS & TRIBUTES    200   \n",
       "5          4680 2004-12-31  Jeopardy!                   3-LETTER WORDS    200   \n",
       "6          4680 2004-12-31  Jeopardy!                          HISTORY    400   \n",
       "7          4680 2004-12-31  Jeopardy!  ESPN's TOP 10 ALL-TIME ATHLETES    400   \n",
       "8          4680 2004-12-31  Jeopardy!      EVERYBODY TALKS ABOUT IT...    400   \n",
       "9          4680 2004-12-31  Jeopardy!                 THE COMPANY LINE    400   \n",
       "10         4680 2004-12-31  Jeopardy!              EPITAPHS & TRIBUTES    400   \n",
       "11         4680 2004-12-31  Jeopardy!                   3-LETTER WORDS    400   \n",
       "12         4680 2004-12-31  Jeopardy!                          HISTORY    600   \n",
       "13         4680 2004-12-31  Jeopardy!  ESPN's TOP 10 ALL-TIME ATHLETES    600   \n",
       "14         4680 2004-12-31  Jeopardy!      EVERYBODY TALKS ABOUT IT...    600   \n",
       "15         4680 2004-12-31  Jeopardy!                 THE COMPANY LINE    600   \n",
       "16         4680 2004-12-31  Jeopardy!              EPITAPHS & TRIBUTES    600   \n",
       "17         4680 2004-12-31  Jeopardy!                   3-LETTER WORDS    600   \n",
       "18         4680 2004-12-31  Jeopardy!                          HISTORY    800   \n",
       "19         4680 2004-12-31  Jeopardy!  ESPN's TOP 10 ALL-TIME ATHLETES    800   \n",
       "\n",
       "                                             question                 answer  \\\n",
       "0   For the last 8 years of his life, Galileo was ...             Copernicus   \n",
       "1   No. 2: 1912 Olympian; football star at Carlisl...             Jim Thorpe   \n",
       "2   The city of Yuma in this state has a record av...                Arizona   \n",
       "3   In 1963, live on \"The Art Linkletter Show\", th...             McDonald's   \n",
       "4   Signer of the Dec. of Indep., framer of the Co...             John Adams   \n",
       "5   In the title of an Aesop fable, this insect sh...                the ant   \n",
       "6   Built in 312 B.C. to link Rome & the South of ...         the Appian Way   \n",
       "7   No. 8: 30 steals for the Birmingham Barons; 2,...         Michael Jordan   \n",
       "8   In the winter of 1971-72, a record 1,122 inche...             Washington   \n",
       "9   This housewares store was named for the packag...         Crate & Barrel   \n",
       "10                                   \"And away we go\"         Jackie Gleason   \n",
       "11  Cows regurgitate this from the first stomach t...                the cud   \n",
       "12  In 1000 Rajaraja I of the Cholas battled to ta...  Ceylon (or Sri Lanka)   \n",
       "13  No. 1: Lettered in hoops, football & lacrosse ...              Jim Brown   \n",
       "14  On June 28, 1994 the nat'l weather service beg...           the UV index   \n",
       "15  This company's Accutron watch, introduced in 1...                 Bulova   \n",
       "16  Outlaw: \"Murdered by a traitor and a coward wh...            Jesse James   \n",
       "17  A small demon, or a mischievous child (who mig...                    imp   \n",
       "18  Karl led the first of these Marxist organizati...      the International   \n",
       "19  No. 10: FB/LB for Columbia U. in the 1920s; MV...           (Lou) Gehrig   \n",
       "\n",
       "                                       clean_question           clean_answer  \\\n",
       "0   for the last 8 years of his life  galileo was ...             copernicus   \n",
       "1   no  2  1912 olympian  football star at carlisl...             jim thorpe   \n",
       "2   the city of yuma in this state has a record av...                arizona   \n",
       "3   in 1963  live on  the art linkletter show   th...             mcdonald s   \n",
       "4   signer of the dec  of indep   framer of the co...             john adams   \n",
       "5   in the title of an aesop fable  this insect sh...                the ant   \n",
       "6   built in 312 b c  to link rome   the south of ...         the appian way   \n",
       "7   no  8  30 steals for the birmingham barons  2 ...         michael jordan   \n",
       "8   in the winter of 1971 72  a record 1 122 inche...             washington   \n",
       "9   this housewares store was named for the packag...         crate   barrel   \n",
       "10                                    and away we go          jackie gleason   \n",
       "11  cows regurgitate this from the first stomach t...                the cud   \n",
       "12  in 1000 rajaraja i of the cholas battled to ta...  ceylon  or sri lanka    \n",
       "13  no  1  lettered in hoops  football   lacrosse ...              jim brown   \n",
       "14  on june 28  1994 the nat l weather service beg...           the uv index   \n",
       "15  this company s accutron watch  introduced in 1...                 bulova   \n",
       "16  outlaw   murdered by a traitor and a coward wh...            jesse james   \n",
       "17  a small demon  or a mischievous child  who mig...                    imp   \n",
       "18  karl led the first of these marxist organizati...      the international   \n",
       "19  no  10  fb/lb for columbia u  in the 1920s  mv...            lou  gehrig   \n",
       "\n",
       "    answer_in_question  \n",
       "0                  0.0  \n",
       "1                  0.0  \n",
       "2                  0.0  \n",
       "3                  0.0  \n",
       "4                  0.0  \n",
       "5                  0.0  \n",
       "6                  0.0  \n",
       "7                  0.0  \n",
       "8                  0.0  \n",
       "9                  0.0  \n",
       "10                 0.0  \n",
       "11                 0.0  \n",
       "12                 0.0  \n",
       "13                 0.0  \n",
       "14                 0.5  \n",
       "15                 0.0  \n",
       "16                 0.0  \n",
       "17                 0.0  \n",
       "18                 0.0  \n",
       "19                 0.0  "
      ]
     },
     "execution_count": 32,
     "metadata": {},
     "output_type": "execute_result"
    }
   ],
   "source": [
    "jeopardy.head(20)"
   ]
  },
  {
   "cell_type": "code",
   "execution_count": 36,
   "metadata": {},
   "outputs": [
    {
     "data": {
      "text/plain": [
       "0.06291895444478074"
      ]
     },
     "execution_count": 36,
     "metadata": {},
     "output_type": "execute_result"
    }
   ],
   "source": [
    "jeopardy.answer_in_question.mean()"
   ]
  },
  {
   "cell_type": "markdown",
   "metadata": {},
   "source": [
    "### Only 6% the answer can be used for a question\n",
    "\n",
    "We found the mean to be - 6%\n",
    "This is actually a very small proportion (only 6.29%) of questions that contain some part of the answer in them. This tells us that just by this idea, we cannot win Jeopardy.\n",
    "\n"
   ]
  },
  {
   "cell_type": "markdown",
   "metadata": {},
   "source": [
    "## Investigate about repeat question\n",
    "Lets now try to see how often new questions are repeat of older ones. Now the dataset(sample) we are working with is just a representative of the population, hence we can only investigate this phenomenon and try to generalize it."
   ]
  },
  {
   "cell_type": "code",
   "execution_count": 37,
   "metadata": {},
   "outputs": [],
   "source": [
    "jeopardy = jeopardy.sort_values('air_date',ascending = True)\n",
    "question_overlap = []\n",
    "terms_used = set()\n",
    "for i,row in jeopardy.iterrows():\n",
    "    split_question = row[\"clean_question\"].split()\n",
    "    for characters in split_question:\n",
    "        if len(characters) <=6:\n",
    "            split_question.remove(characters)\n",
    "    match_count = 0\n",
    "    for word in split_question:\n",
    "        if word in terms_used:\n",
    "            match_count += 1\n",
    "    for word in split_question:\n",
    "        terms_used.add(word)\n",
    "    if len(split_question) > 0:\n",
    "        match_count /= len(split_question)\n",
    "    question_overlap.append(match_count)\n",
    "            \n",
    "jeopardy[\"question_overlap\"] = question_overlap\n",
    "    "
   ]
  },
  {
   "cell_type": "code",
   "execution_count": 39,
   "metadata": {},
   "outputs": [
    {
     "data": {
      "text/plain": [
       "19325    0.000000\n",
       "19301    0.000000\n",
       "19302    0.000000\n",
       "19303    0.200000\n",
       "19304    0.142857\n",
       "19305    0.000000\n",
       "19306    0.000000\n",
       "19307    0.200000\n",
       "19308    0.166667\n",
       "19309    0.000000\n",
       "Name: question_overlap, dtype: float64"
      ]
     },
     "execution_count": 39,
     "metadata": {},
     "output_type": "execute_result"
    }
   ],
   "source": [
    "jeopardy[\"question_overlap\"].head(10)"
   ]
  },
  {
   "cell_type": "code",
   "execution_count": 50,
   "metadata": {
    "scrolled": false
   },
   "outputs": [
    {
     "ename": "AttributeError",
     "evalue": "'set' object has no attribute 'd'",
     "output_type": "error",
     "traceback": [
      "\u001b[1;31m\u001b[0m",
      "\u001b[1;31mAttributeError\u001b[0mTraceback (most recent call last)",
      "\u001b[1;32m<ipython-input-50-a4256ac65b64>\u001b[0m in \u001b[0;36m<module>\u001b[1;34m()\u001b[0m\n\u001b[1;32m----> 1\u001b[1;33m \u001b[0mterms_used\u001b[0m\u001b[1;33m.\u001b[0m\u001b[0md\u001b[0m\u001b[1;33m\u001b[0m\u001b[0m\n\u001b[0m",
      "\u001b[1;31mAttributeError\u001b[0m: 'set' object has no attribute 'd'"
     ]
    }
   ],
   "source": [
    "terms_used.d # xóa .d để hiện kết quả"
   ]
  },
  {
   "cell_type": "code",
   "execution_count": 51,
   "metadata": {},
   "outputs": [
    {
     "data": {
      "text/plain": [
       "0.8258987099594451"
      ]
     },
     "execution_count": 51,
     "metadata": {},
     "output_type": "execute_result"
    }
   ],
   "source": [
    "jeopardy[\"question_overlap\"].mean()"
   ]
  },
  {
   "cell_type": "markdown",
   "metadata": {},
   "source": [
    "The percentage is around - 82.58%. This is a considerable amount but we are only considering unigrams. This high percentage can be because certain words repeat multiple times but not neccessarily in the same context.\n"
   ]
  },
  {
   "cell_type": "markdown",
   "metadata": {},
   "source": [
    "## Low Value vs High Value Question\n",
    "\n",
    "The game is all about answering questions and earning money for every correct answer. So let us try to seggregate our analysis into high value questions and low value questions.\n",
    "\n",
    "Let us consider a threshold for high and low separation."
   ]
  },
  {
   "cell_type": "markdown",
   "metadata": {},
   "source": [
    "## Determine Value"
   ]
  },
  {
   "cell_type": "code",
   "execution_count": 55,
   "metadata": {
    "collapsed": true
   },
   "outputs": [],
   "source": [
    "def determine_value(row):\n",
    "    value = 0\n",
    "    if row[\"value\"] > 800:\n",
    "        value = 1\n",
    "    return value"
   ]
  },
  {
   "cell_type": "markdown",
   "metadata": {},
   "source": [
    "## Determine which questions are high and low value."
   ]
  },
  {
   "cell_type": "code",
   "execution_count": 56,
   "metadata": {},
   "outputs": [],
   "source": [
    "jeopardy[\"high_value\"] =  jeopardy.apply(determine_value,axis = 1)"
   ]
  },
  {
   "cell_type": "code",
   "execution_count": 58,
   "metadata": {},
   "outputs": [
    {
     "data": {
      "text/plain": [
       "19325    0\n",
       "19301    0\n",
       "19302    0\n",
       "19303    0\n",
       "19304    0\n",
       "Name: high_value, dtype: int64"
      ]
     },
     "execution_count": 58,
     "metadata": {},
     "output_type": "execute_result"
    }
   ],
   "source": [
    "jeopardy[\"high_value\"].head()"
   ]
  },
  {
   "cell_type": "code",
   "execution_count": 59,
   "metadata": {},
   "outputs": [],
   "source": [
    "## Muốn lặp DF thì dùng iterrows để lặp các dòng\n",
    "## Tạo ra 1 function chỉ ra \"từ cần tìm\" trong câu hỏi xuất hiện ở high_value bao nhiêu lần, ở lơ_value bap nhiêu lần\n",
    "def count_usage(term):\n",
    "    low_count = 0\n",
    "    high_count = 0\n",
    "    for i, row in jeopardy.iterrows():\n",
    "        if term in row[\"clean_question\"].split(\" \"):\n",
    "            if row[\"high_value\"] == 1:\n",
    "                high_count += 1\n",
    "            else:\n",
    "                low_count += 1\n",
    "    return high_count, low_count\n"
   ]
  },
  {
   "cell_type": "code",
   "execution_count": 60,
   "metadata": {
    "scrolled": true
   },
   "outputs": [
    {
     "data": {
      "text/plain": [
       "(89, 189)"
      ]
     },
     "execution_count": 60,
     "metadata": {},
     "output_type": "execute_result"
    }
   ],
   "source": [
    "count_usage(\"term\")"
   ]
  },
  {
   "cell_type": "code",
   "execution_count": 61,
   "metadata": {},
   "outputs": [
    {
     "data": {
      "text/html": [
       "<div>\n",
       "<style scoped>\n",
       "    .dataframe tbody tr th:only-of-type {\n",
       "        vertical-align: middle;\n",
       "    }\n",
       "\n",
       "    .dataframe tbody tr th {\n",
       "        vertical-align: top;\n",
       "    }\n",
       "\n",
       "    .dataframe thead th {\n",
       "        text-align: right;\n",
       "    }\n",
       "</style>\n",
       "<table border=\"1\" class=\"dataframe\">\n",
       "  <thead>\n",
       "    <tr style=\"text-align: right;\">\n",
       "      <th></th>\n",
       "      <th>show_number</th>\n",
       "      <th>air_date</th>\n",
       "      <th>round</th>\n",
       "      <th>category</th>\n",
       "      <th>value</th>\n",
       "      <th>question</th>\n",
       "      <th>answer</th>\n",
       "      <th>clean_question</th>\n",
       "      <th>clean_answer</th>\n",
       "      <th>answer_in_question</th>\n",
       "      <th>question_overlap</th>\n",
       "      <th>high_value</th>\n",
       "    </tr>\n",
       "  </thead>\n",
       "  <tbody>\n",
       "    <tr>\n",
       "      <th>19325</th>\n",
       "      <td>10</td>\n",
       "      <td>1984-09-21</td>\n",
       "      <td>Final Jeopardy!</td>\n",
       "      <td>U.S. PRESIDENTS</td>\n",
       "      <td>0</td>\n",
       "      <td>Adventurous 26th president, he was 1st to ride...</td>\n",
       "      <td>Theodore Roosevelt</td>\n",
       "      <td>adventurous 26th president  he was 1st to ride...</td>\n",
       "      <td>theodore roosevelt</td>\n",
       "      <td>0.0</td>\n",
       "      <td>0.000000</td>\n",
       "      <td>0</td>\n",
       "    </tr>\n",
       "    <tr>\n",
       "      <th>19301</th>\n",
       "      <td>10</td>\n",
       "      <td>1984-09-21</td>\n",
       "      <td>Double Jeopardy!</td>\n",
       "      <td>LABOR UNIONS</td>\n",
       "      <td>200</td>\n",
       "      <td>Notorious labor leader missing since '75</td>\n",
       "      <td>Jimmy Hoffa</td>\n",
       "      <td>notorious labor leader missing since  75</td>\n",
       "      <td>jimmy hoffa</td>\n",
       "      <td>0.0</td>\n",
       "      <td>0.000000</td>\n",
       "      <td>0</td>\n",
       "    </tr>\n",
       "    <tr>\n",
       "      <th>19302</th>\n",
       "      <td>10</td>\n",
       "      <td>1984-09-21</td>\n",
       "      <td>Double Jeopardy!</td>\n",
       "      <td>1789</td>\n",
       "      <td>200</td>\n",
       "      <td>Washington proclaimed Nov. 26, 1789 this first...</td>\n",
       "      <td>Thanksgiving</td>\n",
       "      <td>washington proclaimed nov  26  1789 this first...</td>\n",
       "      <td>thanksgiving</td>\n",
       "      <td>0.0</td>\n",
       "      <td>0.000000</td>\n",
       "      <td>0</td>\n",
       "    </tr>\n",
       "    <tr>\n",
       "      <th>19303</th>\n",
       "      <td>10</td>\n",
       "      <td>1984-09-21</td>\n",
       "      <td>Double Jeopardy!</td>\n",
       "      <td>TOURIST TRAPS</td>\n",
       "      <td>200</td>\n",
       "      <td>Both Ferde Grofe' &amp; the Colorado River dug thi...</td>\n",
       "      <td>the Grand Canyon</td>\n",
       "      <td>both ferde grofe    the colorado river dug thi...</td>\n",
       "      <td>the grand canyon</td>\n",
       "      <td>0.0</td>\n",
       "      <td>0.200000</td>\n",
       "      <td>0</td>\n",
       "    </tr>\n",
       "    <tr>\n",
       "      <th>19304</th>\n",
       "      <td>10</td>\n",
       "      <td>1984-09-21</td>\n",
       "      <td>Double Jeopardy!</td>\n",
       "      <td>LITERATURE</td>\n",
       "      <td>200</td>\n",
       "      <td>Depending on the book, he could be a \"Jones\", ...</td>\n",
       "      <td>Tom</td>\n",
       "      <td>depending on the book  he could be a  jones   ...</td>\n",
       "      <td>tom</td>\n",
       "      <td>0.0</td>\n",
       "      <td>0.142857</td>\n",
       "      <td>0</td>\n",
       "    </tr>\n",
       "  </tbody>\n",
       "</table>\n",
       "</div>"
      ],
      "text/plain": [
       "       show_number   air_date             round         category  value  \\\n",
       "19325           10 1984-09-21   Final Jeopardy!  U.S. PRESIDENTS      0   \n",
       "19301           10 1984-09-21  Double Jeopardy!     LABOR UNIONS    200   \n",
       "19302           10 1984-09-21  Double Jeopardy!             1789    200   \n",
       "19303           10 1984-09-21  Double Jeopardy!    TOURIST TRAPS    200   \n",
       "19304           10 1984-09-21  Double Jeopardy!       LITERATURE    200   \n",
       "\n",
       "                                                question              answer  \\\n",
       "19325  Adventurous 26th president, he was 1st to ride...  Theodore Roosevelt   \n",
       "19301           Notorious labor leader missing since '75         Jimmy Hoffa   \n",
       "19302  Washington proclaimed Nov. 26, 1789 this first...        Thanksgiving   \n",
       "19303  Both Ferde Grofe' & the Colorado River dug thi...    the Grand Canyon   \n",
       "19304  Depending on the book, he could be a \"Jones\", ...                 Tom   \n",
       "\n",
       "                                          clean_question        clean_answer  \\\n",
       "19325  adventurous 26th president  he was 1st to ride...  theodore roosevelt   \n",
       "19301           notorious labor leader missing since  75         jimmy hoffa   \n",
       "19302  washington proclaimed nov  26  1789 this first...        thanksgiving   \n",
       "19303  both ferde grofe    the colorado river dug thi...    the grand canyon   \n",
       "19304  depending on the book  he could be a  jones   ...                 tom   \n",
       "\n",
       "       answer_in_question  question_overlap  high_value  \n",
       "19325                 0.0          0.000000           0  \n",
       "19301                 0.0          0.000000           0  \n",
       "19302                 0.0          0.000000           0  \n",
       "19303                 0.0          0.200000           0  \n",
       "19304                 0.0          0.142857           0  "
      ]
     },
     "execution_count": 61,
     "metadata": {},
     "output_type": "execute_result"
    }
   ],
   "source": [
    "jeopardy.head() "
   ]
  },
  {
   "cell_type": "markdown",
   "metadata": {},
   "source": [
    "### RANDOM \n",
    "Now we have this, let us use the set words_used that we created earlier and observe the frequency of that word for high and low value questions."
   ]
  },
  {
   "cell_type": "code",
   "execution_count": 63,
   "metadata": {},
   "outputs": [],
   "source": [
    "import random \n",
    "\n",
    "terms_used_list = list(terms_used)\n",
    "comparison_terms = random.sample(terms_used_list,10)\n",
    "\n",
    "observed_expected = []\n",
    "\n",
    "for term in comparison_terms:\n",
    "    observed_expected.append(count_usage(term))"
   ]
  },
  {
   "cell_type": "code",
   "execution_count": 64,
   "metadata": {},
   "outputs": [
    {
     "data": {
      "text/plain": [
       "[(0, 1),\n",
       " (1, 0),\n",
       " (1, 0),\n",
       " (0, 2),\n",
       " (0, 1),\n",
       " (2, 2),\n",
       " (0, 1),\n",
       " (1, 1),\n",
       " (0, 1),\n",
       " (0, 1)]"
      ]
     },
     "execution_count": 64,
     "metadata": {},
     "output_type": "execute_result"
    }
   ],
   "source": [
    "observed_expected"
   ]
  },
  {
   "cell_type": "markdown",
   "metadata": {},
   "source": [
    "## Chi-squared Test"
   ]
  },
  {
   "cell_type": "code",
   "execution_count": 65,
   "metadata": {},
   "outputs": [
    {
     "data": {
      "text/plain": [
       "5734"
      ]
     },
     "execution_count": 65,
     "metadata": {},
     "output_type": "execute_result"
    }
   ],
   "source": [
    "high_value_count = jeopardy[jeopardy[\"high_value\"] == 1].shape[0]\n",
    "high_value_count"
   ]
  },
  {
   "cell_type": "code",
   "execution_count": 66,
   "metadata": {},
   "outputs": [
    {
     "data": {
      "text/plain": [
       "14265"
      ]
     },
     "execution_count": 66,
     "metadata": {},
     "output_type": "execute_result"
    }
   ],
   "source": [
    "low_value_count = jeopardy[jeopardy[\"high_value\"] == 0].shape[0]\n",
    "low_value_count\n"
   ]
  },
  {
   "cell_type": "code",
   "execution_count": 69,
   "metadata": {},
   "outputs": [
    {
     "data": {
      "text/plain": [
       "[Power_divergenceResult(statistic=398.00350490711526, pvalue=1.498129036812735e-88),\n",
       " Power_divergenceResult(statistic=398.00871948029294, pvalue=1.4942183328599873e-88),\n",
       " Power_divergenceResult(statistic=398.00871948029294, pvalue=1.4942183328599873e-88),\n",
       " Power_divergenceResult(statistic=396.01401962846126, pvalue=4.0610956130963573e-88),\n",
       " Power_divergenceResult(statistic=398.00350490711526, pvalue=1.498129036812735e-88),\n",
       " Power_divergenceResult(statistic=392.0488975496332, pvalue=2.9636897808839765e-87),\n",
       " Power_divergenceResult(statistic=398.00350490711526, pvalue=1.498129036812735e-88),\n",
       " Power_divergenceResult(statistic=396.0122243874083, pvalue=4.064751739805223e-88),\n",
       " Power_divergenceResult(statistic=398.00350490711526, pvalue=1.498129036812735e-88),\n",
       " Power_divergenceResult(statistic=398.00350490711526, pvalue=1.498129036812735e-88)]"
      ]
     },
     "execution_count": 69,
     "metadata": {},
     "output_type": "execute_result"
    }
   ],
   "source": [
    "from scipy.stats import chisquare\n",
    "import numpy as np\n",
    "chi_squared = []\n",
    "for obs in observed_expected:\n",
    "    total = jeopardy.value[0] + jeopardy.value[1]\n",
    "    total_prop = total/(jeopardy.shape[0])\n",
    "    high_value_expect = total_prop * high_value_count\n",
    "    low_value_expecet = total_prop * low_value_count\n",
    "    \n",
    "    observed = np.array([obs[0], obs[1]])\n",
    "    expect = np.array([high_value_expect,low_value_expecet])\n",
    "    chi_squared.append(chisquare(observed,expect))\n",
    "    \n",
    "chi_squared"
   ]
  },
  {
   "cell_type": "markdown",
   "metadata": {
    "collapsed": true
   },
   "source": [
    "For every word, the p-value is much higher than the threshold - 0.05. Hence we fail to reject the null hypothesis. This means that by examining these 5 words, we found no statistical significance suggesting that these words can help us identify the type of question (high-value or low-value) we are dealing with.\n",
    "\n",
    "The above result is only for 5 terms, and maybe inconclusive of the bigger picture. Thus let us try it again with more words."
   ]
  },
  {
   "cell_type": "code",
   "execution_count": 70,
   "metadata": {},
   "outputs": [
    {
     "ename": "NameError",
     "evalue": "name 'chi_test' is not defined",
     "output_type": "error",
     "traceback": [
      "\u001b[1;31m\u001b[0m",
      "\u001b[1;31mNameError\u001b[0mTraceback (most recent call last)",
      "\u001b[1;32m<ipython-input-70-8b3e807c1848>\u001b[0m in \u001b[0;36m<module>\u001b[1;34m()\u001b[0m\n\u001b[0;32m      1\u001b[0m \u001b[0mchi_squared\u001b[0m \u001b[1;33m=\u001b[0m \u001b[1;33m{\u001b[0m\u001b[1;33m}\u001b[0m\u001b[1;33m\u001b[0m\u001b[0m\n\u001b[1;32m----> 2\u001b[1;33m \u001b[0mchi_test\u001b[0m\u001b[1;33m(\u001b[0m\u001b[0mchi_squared\u001b[0m \u001b[1;33m,\u001b[0m\u001b[0mcomparison_terms\u001b[0m \u001b[1;33m)\u001b[0m\u001b[1;33m\u001b[0m\u001b[0m\n\u001b[0m\u001b[0;32m      3\u001b[0m \u001b[0mchi_squared\u001b[0m\u001b[1;33m\u001b[0m\u001b[0m\n",
      "\u001b[1;31mNameError\u001b[0m: name 'chi_test' is not defined"
     ]
    }
   ],
   "source": [
    "chi_squared = {}\n",
    "chi_test(chi_squared ,comparison_terms )\n",
    "chi_squared"
   ]
  },
  {
   "cell_type": "code",
   "execution_count": 71,
   "metadata": {},
   "outputs": [
    {
     "data": {
      "text/plain": [
       "Jeopardy!           9901\n",
       "Double Jeopardy!    9762\n",
       "Final Jeopardy!      335\n",
       "Tiebreaker             1\n",
       "Name: round, dtype: int64"
      ]
     },
     "execution_count": 71,
     "metadata": {},
     "output_type": "execute_result"
    }
   ],
   "source": [
    "jeopardy['round'].value_counts()"
   ]
  },
  {
   "cell_type": "markdown",
   "metadata": {},
   "source": [
    "Looking at the data and making its cross table with the value_level column, we can tell that Doube Jeopardy round holds the most high-value questions. But how do we know whether this phenomenon if just by chance (for this sample) or is this true for the population."
   ]
  },
  {
   "cell_type": "code",
   "execution_count": 80,
   "metadata": {},
   "outputs": [
    {
     "data": {
      "text/html": [
       "<div>\n",
       "<style scoped>\n",
       "    .dataframe tbody tr th:only-of-type {\n",
       "        vertical-align: middle;\n",
       "    }\n",
       "\n",
       "    .dataframe tbody tr th {\n",
       "        vertical-align: top;\n",
       "    }\n",
       "\n",
       "    .dataframe thead th {\n",
       "        text-align: right;\n",
       "    }\n",
       "</style>\n",
       "<table border=\"1\" class=\"dataframe\">\n",
       "  <thead>\n",
       "    <tr style=\"text-align: right;\">\n",
       "      <th>high_value</th>\n",
       "      <th>0</th>\n",
       "      <th>1</th>\n",
       "    </tr>\n",
       "    <tr>\n",
       "      <th>round</th>\n",
       "      <th></th>\n",
       "      <th></th>\n",
       "    </tr>\n",
       "  </thead>\n",
       "  <tbody>\n",
       "    <tr>\n",
       "      <th>Double Jeopardy!</th>\n",
       "      <td>5340</td>\n",
       "      <td>4422</td>\n",
       "    </tr>\n",
       "    <tr>\n",
       "      <th>Final Jeopardy!</th>\n",
       "      <td>335</td>\n",
       "      <td>0</td>\n",
       "    </tr>\n",
       "    <tr>\n",
       "      <th>Jeopardy!</th>\n",
       "      <td>8589</td>\n",
       "      <td>1312</td>\n",
       "    </tr>\n",
       "    <tr>\n",
       "      <th>Tiebreaker</th>\n",
       "      <td>1</td>\n",
       "      <td>0</td>\n",
       "    </tr>\n",
       "  </tbody>\n",
       "</table>\n",
       "</div>"
      ],
      "text/plain": [
       "high_value           0     1\n",
       "round                       \n",
       "Double Jeopardy!  5340  4422\n",
       "Final Jeopardy!    335     0\n",
       "Jeopardy!         8589  1312\n",
       "Tiebreaker           1     0"
      ]
     },
     "execution_count": 80,
     "metadata": {},
     "output_type": "execute_result"
    }
   ],
   "source": [
    "cross_table = pd.crosstab(jeopardy['round'],jeopardy['high_value'])\n",
    "cross_table"
   ]
  },
  {
   "cell_type": "markdown",
   "metadata": {},
   "source": [
    "For this purpose, let us perform a chi-square test using the scipy.stats.chi2_contingency function on the cross table.\n",
    "The null hypothesis is that there is no correlation between the rounds and the value level of the questions.\n",
    "\n",
    "The alternative hypothesis is that there exists some correlation between the rounds and value level of the questions."
   ]
  },
  {
   "cell_type": "code",
   "execution_count": 81,
   "metadata": {},
   "outputs": [
    {
     "data": {
      "text/plain": [
       "0.0"
      ]
     },
     "execution_count": 81,
     "metadata": {},
     "output_type": "execute_result"
    }
   ],
   "source": [
    "from scipy.stats import chisquare,chi2_contingency\n",
    "chi_sq,p_value,dof,expected = chi2_contingency(cross_table)\n",
    "p_value"
   ]
  },
  {
   "cell_type": "code",
   "execution_count": 123,
   "metadata": {},
   "outputs": [],
   "source": [
    "import matplotlib.pyplot as plt\n",
    "import seaborn as sns\n",
    "\n",
    "plt.figure(figsize=(12,8))\n",
    "cross_table[0].plot.bar(align='center',color='#009999',label='low-level',width=0.25)\n",
    "cross_table[1].plot.bar(align='edge',color = '#ff9933',label='high-level',width=0.25)\n",
    "plt.legend()\n",
    "plt.yticks([])\n",
    "plt.xticks(rotation=0)\n",
    "plt.ylabel('Number of questions')\n",
    "plt.xlabel('Round')\n",
    "plt.gca().spines['top'].set_visible(False)\n",
    "plt.gca().spines['left'].set_visible(False)\n",
    "plt.gca().spines['right'].set_visible(False)"
   ]
  },
  {
   "cell_type": "code",
   "execution_count": 83,
   "metadata": {},
   "outputs": [
    {
     "data": {
      "text/plain": [
       "TELEVISION                    51\n",
       "U.S. GEOGRAPHY                50\n",
       "LITERATURE                    45\n",
       "HISTORY                       40\n",
       "BEFORE & AFTER                40\n",
       "AMERICAN HISTORY              40\n",
       "AUTHORS                       39\n",
       "WORD ORIGINS                  38\n",
       "WORLD CAPITALS                37\n",
       "SPORTS                        36\n",
       "BODIES OF WATER               36\n",
       "RHYME TIME                    35\n",
       "SCIENCE                       35\n",
       "MAGAZINES                     35\n",
       "SCIENCE & NATURE              35\n",
       "WORLD GEOGRAPHY               33\n",
       "WORLD HISTORY                 32\n",
       "ANNUAL EVENTS                 32\n",
       "HISTORIC NAMES                32\n",
       "FICTIONAL CHARACTERS          31\n",
       "BIRDS                         31\n",
       "IN THE DICTIONARY             31\n",
       "U.S. PRESIDENTS               30\n",
       "MEDICINE                      30\n",
       "OPERA                         30\n",
       "TRAVEL & TOURISM              30\n",
       "ISLANDS                       30\n",
       "POTPOURRI                     30\n",
       "BALLET                        29\n",
       "ART                           28\n",
       "                              ..\n",
       "LITERATURE OF THE 1800s        1\n",
       "HISTORIC QUOTATIONS            1\n",
       "BIOGRAPHERS                    1\n",
       "FAMOUS WEDDINGS                1\n",
       "THE TONY AWARDS                1\n",
       "FICTION                        1\n",
       "20th CENTURY NOVELS            1\n",
       "WRITERS                        1\n",
       "AUDIO BOOKS                    1\n",
       "KNOWLEDGE BY THE NUMBERS       1\n",
       "POLITICAL IDIOMS               1\n",
       "BRITISH AUTHORS                1\n",
       "BOOK TITLES                    1\n",
       "COUNTRIES' HIGHEST PEAKS       1\n",
       "BATTLES                        1\n",
       "20th CENTURY ATHLETES          1\n",
       "RENAISSANCE LITERATURE         1\n",
       "THE WORLD AFTER WWII           1\n",
       "FROM MOVIE TO MUSICAL          1\n",
       "ROMAN EMPERORS                 1\n",
       "OUR LIVING PLANET              1\n",
       "AMERICAN FICTION WRITERS       1\n",
       "RIVERS                         1\n",
       "EMPIRES                        1\n",
       "20th CENTURY THEATER           1\n",
       "FAMOUS PEOPLE                  1\n",
       "TRANSPORTATION INNOVATIONS     1\n",
       "SPORTS CITIES                  1\n",
       "HOLLYWOOD DOGS                 1\n",
       "REPUBLICANS                    1\n",
       "Name: category, Length: 3581, dtype: int64"
      ]
     },
     "execution_count": 83,
     "metadata": {},
     "output_type": "execute_result"
    }
   ],
   "source": [
    "jeopardy .category.value_counts()"
   ]
  },
  {
   "cell_type": "code",
   "execution_count": 86,
   "metadata": {},
   "outputs": [
    {
     "data": {
      "text/plain": [
       "[(6, 45),\n",
       " (14, 36),\n",
       " (13, 32),\n",
       " (7, 33),\n",
       " (19, 21),\n",
       " (12, 28),\n",
       " (6, 33),\n",
       " (12, 26),\n",
       " (8, 29),\n",
       " (6, 30)]"
      ]
     },
     "execution_count": 86,
     "metadata": {},
     "output_type": "execute_result"
    }
   ],
   "source": [
    "catgs = jeopardy.category.value_counts().sort_values(ascending=False)[:10].index\n",
    "\n",
    "def observed(catg):\n",
    "    high_count = 0\n",
    "    low_count = 0\n",
    "    \n",
    "    for i,row in jeopardy.iterrows():\n",
    "        if row.category == catg:\n",
    "            if row.high_value == 1:\n",
    "                high_count += 1\n",
    "            else:\n",
    "                low_count += 1\n",
    "                \n",
    "    return high_count,low_count\n",
    "\n",
    "observed_values = []\n",
    "for catg in catgs:\n",
    "    observed_values.append(observed(catg))\n",
    "    \n",
    "observed_values"
   ]
  },
  {
   "cell_type": "code",
   "execution_count": 88,
   "metadata": {},
   "outputs": [
    {
     "data": {
      "text/plain": [
       "{'AMERICAN HISTORY': Power_divergenceResult(statistic=0.034523405991355754, pvalue=0.8525978776056389),\n",
       " 'AUTHORS': Power_divergenceResult(statistic=3.366616811569767, pvalue=0.06653024865486724),\n",
       " 'BEFORE & AFTER': Power_divergenceResult(statistic=6.933964236239863, pvalue=0.008457402515593288),\n",
       " 'HISTORY': Power_divergenceResult(statistic=2.4409838293691184, pvalue=0.11820206989580724),\n",
       " 'LITERATURE': Power_divergenceResult(statistic=0.0010404942221835507, pvalue=0.9742673454576186),\n",
       " 'SPORTS': Power_divergenceResult(statistic=2.5368632703677747, pvalue=0.11121553152067523),\n",
       " 'TELEVISION': Power_divergenceResult(statistic=7.1281427377644, pvalue=0.007588328882660597),\n",
       " 'U.S. GEOGRAPHY': Power_divergenceResult(statistic=0.011022071015878569, pvalue=0.9163868768161757),\n",
       " 'WORD ORIGINS': Power_divergenceResult(statistic=0.15707760152502, pvalue=0.6918614751677927),\n",
       " 'WORLD CAPITALS': Power_divergenceResult(statistic=0.8991742998170983, pvalue=0.3430032082144119)}"
      ]
     },
     "execution_count": 88,
     "metadata": {},
     "output_type": "execute_result"
    }
   ],
   "source": [
    "chi_squared = {}\n",
    "\n",
    "def chi_test(observed_values,catgs):\n",
    "    high_value_count = np.count_nonzero(jeopardy.high_value == 1)\n",
    "    low_value_count = np.count_nonzero(jeopardy.high_value == 0)\n",
    "\n",
    "    total_rows = len(jeopardy)\n",
    "\n",
    "    for catg,l in zip(catgs,observed_values):\n",
    "        total = sum(l)\n",
    "        total_prop = total / total_rows\n",
    "\n",
    "        expected_high = total_prop * high_value_count\n",
    "        expected_low = total_prop * low_value_count\n",
    "\n",
    "        observed = np.array([l[0],l[1]])\n",
    "        expected = np.array([expected_high,expected_low])\n",
    "\n",
    "        chi_squared[catg] = chisquare(observed,expected)\n",
    "    \n",
    "chi_test(observed_values,catgs)\n",
    "chi_squared"
   ]
  },
  {
   "cell_type": "markdown",
   "metadata": {},
   "source": [
    "Here we can see the majority of topics do not have p_value <= 0.05, meaning for these topics we fail to reject the null hypothesis. However, for two topics - TELEVISION and BEFORE & AFTER, the null hypothesis is rejected and hence can be said that it does have a correlation with the value levels.\n",
    "\n",
    "We have only performed these tests for the top 10 most frequent categories (topics) in the data. Let us perform the same for the top 20 categories (topics)."
   ]
  },
  {
   "cell_type": "code",
   "execution_count": 90,
   "metadata": {},
   "outputs": [
    {
     "name": "stdout",
     "output_type": "stream",
     "text": [
      "Index(['TELEVISION', 'U.S. GEOGRAPHY', 'LITERATURE', 'HISTORY',\n",
      "       'BEFORE & AFTER', 'AMERICAN HISTORY', 'AUTHORS', 'WORD ORIGINS',\n",
      "       'WORLD CAPITALS', 'SPORTS', 'BODIES OF WATER', 'MAGAZINES',\n",
      "       'SCIENCE & NATURE', 'RHYME TIME', 'SCIENCE', 'WORLD GEOGRAPHY',\n",
      "       'WORLD HISTORY', 'ANNUAL EVENTS', 'HISTORIC NAMES',\n",
      "       'FICTIONAL CHARACTERS'],\n",
      "      dtype='object')\n"
     ]
    },
    {
     "data": {
      "text/plain": [
       "[(6, 45),\n",
       " (14, 36),\n",
       " (13, 32),\n",
       " (7, 33),\n",
       " (19, 21),\n",
       " (12, 28),\n",
       " (6, 33),\n",
       " (12, 26),\n",
       " (8, 29),\n",
       " (6, 30),\n",
       " (5, 31),\n",
       " (6, 29),\n",
       " (14, 21),\n",
       " (7, 28),\n",
       " (15, 20),\n",
       " (6, 27),\n",
       " (7, 25),\n",
       " (7, 25),\n",
       " (10, 22),\n",
       " (8, 23)]"
      ]
     },
     "execution_count": 90,
     "metadata": {},
     "output_type": "execute_result"
    }
   ],
   "source": [
    "catgs = jeopardy.category.value_counts().sort_values(ascending=False)[:20].index\n",
    "\n",
    "observed_values = []\n",
    "for catg in catgs:\n",
    "    observed_values.append(observed(catg))\n",
    "    \n",
    "print(catgs)\n",
    "observed_values"
   ]
  },
  {
   "cell_type": "code",
   "execution_count": 91,
   "metadata": {},
   "outputs": [
    {
     "data": {
      "text/plain": [
       "{'AMERICAN HISTORY': Power_divergenceResult(statistic=0.034523405991355754, pvalue=0.8525978776056389),\n",
       " 'ANNUAL EVENTS': Power_divergenceResult(statistic=0.72276851787158, pvalue=0.395237283932548),\n",
       " 'AUTHORS': Power_divergenceResult(statistic=3.366616811569767, pvalue=0.06653024865486724),\n",
       " 'BEFORE & AFTER': Power_divergenceResult(statistic=6.933964236239863, pvalue=0.008457402515593288),\n",
       " 'BODIES OF WATER': Power_divergenceResult(statistic=3.846697168272983, pvalue=0.049844052805717624),\n",
       " 'FICTIONAL CHARACTERS': Power_divergenceResult(statistic=0.1244206806982202, pvalue=0.7242884987195274),\n",
       " 'HISTORIC NAMES': Power_divergenceResult(statistic=0.10403841390560437, pvalue=0.7470361694584846),\n",
       " 'HISTORY': Power_divergenceResult(statistic=2.4409838293691184, pvalue=0.11820206989580724),\n",
       " 'LITERATURE': Power_divergenceResult(statistic=0.0010404942221835507, pvalue=0.9742673454576186),\n",
       " 'MAGAZINES': Power_divergenceResult(statistic=2.27460770890725, pvalue=0.13150839701567232),\n",
       " 'RHYME TIME': Power_divergenceResult(statistic=1.2868767173161466, pvalue=0.2566243306464019),\n",
       " 'SCIENCE': Power_divergenceResult(statistic=3.4439532805651547, pvalue=0.06348362110041707),\n",
       " 'SCIENCE & NATURE': Power_divergenceResult(statistic=2.196367717494517, pvalue=0.1383363704623655),\n",
       " 'SPORTS': Power_divergenceResult(statistic=2.5368632703677747, pvalue=0.11121553152067523),\n",
       " 'TELEVISION': Power_divergenceResult(statistic=7.1281427377644, pvalue=0.007588328882660597),\n",
       " 'U.S. GEOGRAPHY': Power_divergenceResult(statistic=0.011022071015878569, pvalue=0.9163868768161757),\n",
       " 'WORD ORIGINS': Power_divergenceResult(statistic=0.15707760152502, pvalue=0.6918614751677927),\n",
       " 'WORLD CAPITALS': Power_divergenceResult(statistic=0.8991742998170983, pvalue=0.3430032082144119),\n",
       " 'WORLD GEOGRAPHY': Power_divergenceResult(statistic=1.775497910470992, pvalue=0.182703130297168),\n",
       " 'WORLD HISTORY': Power_divergenceResult(statistic=0.72276851787158, pvalue=0.395237283932548)}"
      ]
     },
     "execution_count": 91,
     "metadata": {},
     "output_type": "execute_result"
    }
   ],
   "source": [
    "chi_squared = {}\n",
    "chi_test(observed_values,catgs)\n",
    "chi_squared"
   ]
  },
  {
   "cell_type": "markdown",
   "metadata": {},
   "source": [
    "We have new additions to our list of topics that have correlation with the value levels, they are - SPORTS, SCIENCE, SCIENCE & NATURE, BIRDS and the ones from previous analysis as well as this, TELEVISION and BEFORE & AFTER.\n",
    "\n",
    "Let us make a cross table for these topics, to understand the frequencies of these topics with respect to the value level."
   ]
  },
  {
   "cell_type": "code",
   "execution_count": 94,
   "metadata": {},
   "outputs": [
    {
     "data": {
      "text/html": [
       "<div>\n",
       "<style scoped>\n",
       "    .dataframe tbody tr th:only-of-type {\n",
       "        vertical-align: middle;\n",
       "    }\n",
       "\n",
       "    .dataframe tbody tr th {\n",
       "        vertical-align: top;\n",
       "    }\n",
       "\n",
       "    .dataframe thead th {\n",
       "        text-align: right;\n",
       "    }\n",
       "</style>\n",
       "<table border=\"1\" class=\"dataframe\">\n",
       "  <thead>\n",
       "    <tr style=\"text-align: right;\">\n",
       "      <th>high_value</th>\n",
       "      <th>0</th>\n",
       "      <th>1</th>\n",
       "    </tr>\n",
       "    <tr>\n",
       "      <th>category</th>\n",
       "      <th></th>\n",
       "      <th></th>\n",
       "    </tr>\n",
       "  </thead>\n",
       "  <tbody>\n",
       "    <tr>\n",
       "      <th>BEFORE &amp; AFTER</th>\n",
       "      <td>21</td>\n",
       "      <td>19</td>\n",
       "    </tr>\n",
       "    <tr>\n",
       "      <th>BIRDS</th>\n",
       "      <td>29</td>\n",
       "      <td>2</td>\n",
       "    </tr>\n",
       "    <tr>\n",
       "      <th>SCIENCE</th>\n",
       "      <td>20</td>\n",
       "      <td>15</td>\n",
       "    </tr>\n",
       "    <tr>\n",
       "      <th>SCIENCE &amp; NATURE</th>\n",
       "      <td>21</td>\n",
       "      <td>14</td>\n",
       "    </tr>\n",
       "    <tr>\n",
       "      <th>SPORTS</th>\n",
       "      <td>30</td>\n",
       "      <td>6</td>\n",
       "    </tr>\n",
       "    <tr>\n",
       "      <th>TELEVISION</th>\n",
       "      <td>45</td>\n",
       "      <td>6</td>\n",
       "    </tr>\n",
       "  </tbody>\n",
       "</table>\n",
       "</div>"
      ],
      "text/plain": [
       "high_value         0   1\n",
       "category                \n",
       "BEFORE & AFTER    21  19\n",
       "BIRDS             29   2\n",
       "SCIENCE           20  15\n",
       "SCIENCE & NATURE  21  14\n",
       "SPORTS            30   6\n",
       "TELEVISION        45   6"
      ]
     },
     "execution_count": 94,
     "metadata": {},
     "output_type": "execute_result"
    }
   ],
   "source": [
    "catg_interest = [\n",
    "    'SPORTS',\n",
    "    'SCIENCE',\n",
    "    'SCIENCE & NATURE',\n",
    "    'BIRDS',\n",
    "    'TELEVISION',\n",
    "    'BEFORE & AFTER'\n",
    "]\n",
    "\n",
    "subset = jeopardy[jeopardy.category.isin(catg_interest)]\n",
    "cross_table = pd.crosstab(subset.category,subset.high_value)\n",
    "cross_table"
   ]
  },
  {
   "cell_type": "code",
   "execution_count": 132,
   "metadata": {},
   "outputs": [
    {
     "data": {
      "text/plain": [
       "<matplotlib.figure.Figure at 0x7f5999599278>"
      ]
     },
     "metadata": {},
     "output_type": "display_data"
    },
    {
     "name": "stderr",
     "output_type": "stream",
     "text": [
      "/dataquest/system/env/python3/lib/python3.4/site-packages/plotly/matplotlylib/renderer.py:487: UserWarning:\n",
      "\n",
      "I found a path object that I don't think is part of a bar chart. Ignoring.\n",
      "\n"
     ]
    }
   ],
   "source": [
    "plt.figure(figsize=(12,8))\n",
    "cross_table[0].plot.bar(align='center',color='#009999',label='low-level',width=0.25)\n",
    "cross_table[1].plot.bar(align='edge',color = '#ff9933',label='high-level',width=0.25)\n",
    "plt.legend()\n",
    "plt.yticks([])\n",
    "plt.xticks(rotation=0)\n",
    "plt.ylabel('Number of questions')\n",
    "plt.xlabel('Topics')\n",
    "plt.gca().spines['top'].set_visible(False)\n",
    "plt.gca().spines['left'].set_visible(False)\n",
    "plt.gca().spines['right'].set_visible(False)\n",
    "plt.show()"
   ]
  },
  {
   "cell_type": "markdown",
   "metadata": {},
   "source": [
    "Looking into the cross table, the plot and the p_values obtained from before, we can say that the topics SPORTS, TELEVISION, BIRDS have a higher chance of being low-level questions, whereas the topics BEFORE & AFTER, SCIENCE and SCIENCE & NATURE have a higher chance of being high-level questions.\n",
    "\n",
    "From our analysis, we can conclude :-\n",
    "\n",
    "1. The answers are hardly hidden in the questions and hence the participant has to be revised with all categories (topics).\n",
    "\n",
    "2. The repetition of questions is rare, the participant must not rely on reading previous questions only to win the game.\n",
    "\n",
    "3. No relationship was found between the level of the question (>750 or <750 dollars) and the words present in the questions. Thus the participant cannot estimate the level of the question with respect to words in  the question.\n",
    "\n",
    "4. The first round, Jeopardy! hosts mostly low-level (<750 dollars) questions. Whereas the second round    Double Jeopardy! hosts high-level (>750 dollars) questions. Participant's aim to win more money can utilize these findings and play accordingly.\n",
    "\n",
    "5. The categories (topics) - SPORTS, TELEVISION and BIRDS have a higher chance of having low-level (<750 dollars) questions, whereas the categories (topics) BEFORE & AFTER, SCIENCE and SCIENCE & NATURE have a highe chance of having high-level (> 750 dollars) questions. \n",
    "\n",
    "From the above conclusions, the participant can accordingly prepare and choose to answer questions in the game in order to win more money and overall be successful in the game."
   ]
  },
  {
   "cell_type": "code",
   "execution_count": null,
   "metadata": {
    "collapsed": true
   },
   "outputs": [],
   "source": []
  }
 ],
 "metadata": {
  "kernelspec": {
   "display_name": "Python 3 (ipykernel)",
   "language": "python",
   "name": "python3"
  },
  "language_info": {
   "codemirror_mode": {
    "name": "ipython",
    "version": 3
   },
   "file_extension": ".py",
   "mimetype": "text/x-python",
   "name": "python",
   "nbconvert_exporter": "python",
   "pygments_lexer": "ipython3",
   "version": "3.11.4"
  }
 },
 "nbformat": 4,
 "nbformat_minor": 1
}
