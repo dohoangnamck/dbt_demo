{
 "cells": [
  {
   "cell_type": "code",
   "execution_count": 1,
   "id": "78f2dc2d",
   "metadata": {},
   "outputs": [],
   "source": [
    "# Import scikit-plot\n",
    "import scikitplot as skplt\n",
    "import matplotlib.pyplot as plt\n",
    "from sklearn.metrics import precision_recall_curve\n",
    "import pandas as pd\n",
    "import numpy as np\n",
    "from sklearn import svm\n",
    "from sklearn.svm import SVC\n",
    "from sklearn.tree import DecisionTreeClassifier \n",
    "import xgboost as xgb \n",
    "from sklearn.linear_model import LogisticRegression\n",
    "from sklearn.model_selection import train_test_split, learning_curve, RandomizedSearchCV\n",
    "from sklearn.linear_model import LinearRegression\n",
    "from sklearn.metrics import confusion_matrix, confusion_matrix, classification_report"
   ]
  },
  {
   "cell_type": "code",
   "execution_count": 2,
   "id": "ad46a5cd",
   "metadata": {},
   "outputs": [
    {
     "data": {
      "text/html": [
       "<div>\n",
       "<style scoped>\n",
       "    .dataframe tbody tr th:only-of-type {\n",
       "        vertical-align: middle;\n",
       "    }\n",
       "\n",
       "    .dataframe tbody tr th {\n",
       "        vertical-align: top;\n",
       "    }\n",
       "\n",
       "    .dataframe thead th {\n",
       "        text-align: right;\n",
       "    }\n",
       "</style>\n",
       "<table border=\"1\" class=\"dataframe\">\n",
       "  <thead>\n",
       "    <tr style=\"text-align: right;\">\n",
       "      <th></th>\n",
       "      <th>person_age</th>\n",
       "      <th>person_income</th>\n",
       "      <th>person_home_ownership</th>\n",
       "      <th>person_emp_length</th>\n",
       "      <th>loan_intent</th>\n",
       "      <th>loan_grade</th>\n",
       "      <th>loan_amnt</th>\n",
       "      <th>loan_int_rate</th>\n",
       "      <th>loan_status</th>\n",
       "      <th>loan_percent_income</th>\n",
       "      <th>cb_person_default_on_file</th>\n",
       "      <th>cb_person_cred_hist_length</th>\n",
       "    </tr>\n",
       "  </thead>\n",
       "  <tbody>\n",
       "    <tr>\n",
       "      <th>0</th>\n",
       "      <td>22</td>\n",
       "      <td>59000</td>\n",
       "      <td>RENT</td>\n",
       "      <td>123.0</td>\n",
       "      <td>PERSONAL</td>\n",
       "      <td>D</td>\n",
       "      <td>35000</td>\n",
       "      <td>16.02</td>\n",
       "      <td>1</td>\n",
       "      <td>0.59</td>\n",
       "      <td>Y</td>\n",
       "      <td>3</td>\n",
       "    </tr>\n",
       "    <tr>\n",
       "      <th>1</th>\n",
       "      <td>21</td>\n",
       "      <td>9600</td>\n",
       "      <td>OWN</td>\n",
       "      <td>5.0</td>\n",
       "      <td>EDUCATION</td>\n",
       "      <td>B</td>\n",
       "      <td>1000</td>\n",
       "      <td>11.14</td>\n",
       "      <td>0</td>\n",
       "      <td>0.10</td>\n",
       "      <td>N</td>\n",
       "      <td>2</td>\n",
       "    </tr>\n",
       "    <tr>\n",
       "      <th>2</th>\n",
       "      <td>25</td>\n",
       "      <td>9600</td>\n",
       "      <td>MORTGAGE</td>\n",
       "      <td>1.0</td>\n",
       "      <td>MEDICAL</td>\n",
       "      <td>C</td>\n",
       "      <td>5500</td>\n",
       "      <td>12.87</td>\n",
       "      <td>1</td>\n",
       "      <td>0.57</td>\n",
       "      <td>N</td>\n",
       "      <td>3</td>\n",
       "    </tr>\n",
       "    <tr>\n",
       "      <th>3</th>\n",
       "      <td>23</td>\n",
       "      <td>65500</td>\n",
       "      <td>RENT</td>\n",
       "      <td>4.0</td>\n",
       "      <td>MEDICAL</td>\n",
       "      <td>C</td>\n",
       "      <td>35000</td>\n",
       "      <td>15.23</td>\n",
       "      <td>1</td>\n",
       "      <td>0.53</td>\n",
       "      <td>N</td>\n",
       "      <td>2</td>\n",
       "    </tr>\n",
       "    <tr>\n",
       "      <th>4</th>\n",
       "      <td>24</td>\n",
       "      <td>54400</td>\n",
       "      <td>RENT</td>\n",
       "      <td>8.0</td>\n",
       "      <td>MEDICAL</td>\n",
       "      <td>C</td>\n",
       "      <td>35000</td>\n",
       "      <td>14.27</td>\n",
       "      <td>1</td>\n",
       "      <td>0.55</td>\n",
       "      <td>Y</td>\n",
       "      <td>4</td>\n",
       "    </tr>\n",
       "  </tbody>\n",
       "</table>\n",
       "</div>"
      ],
      "text/plain": [
       "   person_age  person_income person_home_ownership  person_emp_length  \\\n",
       "0          22          59000                  RENT              123.0   \n",
       "1          21           9600                   OWN                5.0   \n",
       "2          25           9600              MORTGAGE                1.0   \n",
       "3          23          65500                  RENT                4.0   \n",
       "4          24          54400                  RENT                8.0   \n",
       "\n",
       "  loan_intent loan_grade  loan_amnt  loan_int_rate  loan_status  \\\n",
       "0    PERSONAL          D      35000          16.02            1   \n",
       "1   EDUCATION          B       1000          11.14            0   \n",
       "2     MEDICAL          C       5500          12.87            1   \n",
       "3     MEDICAL          C      35000          15.23            1   \n",
       "4     MEDICAL          C      35000          14.27            1   \n",
       "\n",
       "   loan_percent_income cb_person_default_on_file  cb_person_cred_hist_length  \n",
       "0                 0.59                         Y                           3  \n",
       "1                 0.10                         N                           2  \n",
       "2                 0.57                         N                           3  \n",
       "3                 0.53                         N                           2  \n",
       "4                 0.55                         Y                           4  "
      ]
     },
     "execution_count": 2,
     "metadata": {},
     "output_type": "execute_result"
    }
   ],
   "source": [
    "df = pd.read_csv('credit_risk_dataset.csv')\n",
    "df.head()"
   ]
  },
  {
   "cell_type": "code",
   "execution_count": 3,
   "id": "d65bdcf1",
   "metadata": {},
   "outputs": [],
   "source": [
    "dups = df.duplicated()"
   ]
  },
  {
   "cell_type": "code",
   "execution_count": 4,
   "id": "39c94b25",
   "metadata": {},
   "outputs": [
    {
     "data": {
      "text/html": [
       "<div>\n",
       "<style scoped>\n",
       "    .dataframe tbody tr th:only-of-type {\n",
       "        vertical-align: middle;\n",
       "    }\n",
       "\n",
       "    .dataframe tbody tr th {\n",
       "        vertical-align: top;\n",
       "    }\n",
       "\n",
       "    .dataframe thead th {\n",
       "        text-align: right;\n",
       "    }\n",
       "</style>\n",
       "<table border=\"1\" class=\"dataframe\">\n",
       "  <thead>\n",
       "    <tr style=\"text-align: right;\">\n",
       "      <th></th>\n",
       "      <th>person_age</th>\n",
       "      <th>person_income</th>\n",
       "      <th>person_home_ownership</th>\n",
       "      <th>person_emp_length</th>\n",
       "      <th>loan_intent</th>\n",
       "      <th>loan_grade</th>\n",
       "      <th>loan_amnt</th>\n",
       "      <th>loan_int_rate</th>\n",
       "      <th>loan_status</th>\n",
       "      <th>loan_percent_income</th>\n",
       "      <th>cb_person_default_on_file</th>\n",
       "      <th>cb_person_cred_hist_length</th>\n",
       "    </tr>\n",
       "  </thead>\n",
       "  <tbody>\n",
       "    <tr>\n",
       "      <th>15975</th>\n",
       "      <td>23</td>\n",
       "      <td>42000</td>\n",
       "      <td>RENT</td>\n",
       "      <td>5.0</td>\n",
       "      <td>VENTURE</td>\n",
       "      <td>B</td>\n",
       "      <td>6000</td>\n",
       "      <td>9.99</td>\n",
       "      <td>0</td>\n",
       "      <td>0.14</td>\n",
       "      <td>N</td>\n",
       "      <td>4</td>\n",
       "    </tr>\n",
       "    <tr>\n",
       "      <th>15989</th>\n",
       "      <td>23</td>\n",
       "      <td>90000</td>\n",
       "      <td>MORTGAGE</td>\n",
       "      <td>7.0</td>\n",
       "      <td>EDUCATION</td>\n",
       "      <td>B</td>\n",
       "      <td>8000</td>\n",
       "      <td>10.36</td>\n",
       "      <td>0</td>\n",
       "      <td>0.09</td>\n",
       "      <td>N</td>\n",
       "      <td>3</td>\n",
       "    </tr>\n",
       "    <tr>\n",
       "      <th>15995</th>\n",
       "      <td>24</td>\n",
       "      <td>48000</td>\n",
       "      <td>MORTGAGE</td>\n",
       "      <td>4.0</td>\n",
       "      <td>MEDICAL</td>\n",
       "      <td>A</td>\n",
       "      <td>4000</td>\n",
       "      <td>5.42</td>\n",
       "      <td>0</td>\n",
       "      <td>0.08</td>\n",
       "      <td>N</td>\n",
       "      <td>4</td>\n",
       "    </tr>\n",
       "    <tr>\n",
       "      <th>16025</th>\n",
       "      <td>24</td>\n",
       "      <td>10000</td>\n",
       "      <td>RENT</td>\n",
       "      <td>8.0</td>\n",
       "      <td>PERSONAL</td>\n",
       "      <td>A</td>\n",
       "      <td>3000</td>\n",
       "      <td>7.90</td>\n",
       "      <td>1</td>\n",
       "      <td>0.30</td>\n",
       "      <td>N</td>\n",
       "      <td>3</td>\n",
       "    </tr>\n",
       "    <tr>\n",
       "      <th>16028</th>\n",
       "      <td>23</td>\n",
       "      <td>100000</td>\n",
       "      <td>MORTGAGE</td>\n",
       "      <td>7.0</td>\n",
       "      <td>EDUCATION</td>\n",
       "      <td>A</td>\n",
       "      <td>15000</td>\n",
       "      <td>7.88</td>\n",
       "      <td>0</td>\n",
       "      <td>0.15</td>\n",
       "      <td>N</td>\n",
       "      <td>4</td>\n",
       "    </tr>\n",
       "    <tr>\n",
       "      <th>...</th>\n",
       "      <td>...</td>\n",
       "      <td>...</td>\n",
       "      <td>...</td>\n",
       "      <td>...</td>\n",
       "      <td>...</td>\n",
       "      <td>...</td>\n",
       "      <td>...</td>\n",
       "      <td>...</td>\n",
       "      <td>...</td>\n",
       "      <td>...</td>\n",
       "      <td>...</td>\n",
       "      <td>...</td>\n",
       "    </tr>\n",
       "    <tr>\n",
       "      <th>32010</th>\n",
       "      <td>42</td>\n",
       "      <td>39996</td>\n",
       "      <td>MORTGAGE</td>\n",
       "      <td>2.0</td>\n",
       "      <td>HOMEIMPROVEMENT</td>\n",
       "      <td>A</td>\n",
       "      <td>2500</td>\n",
       "      <td>5.42</td>\n",
       "      <td>0</td>\n",
       "      <td>0.06</td>\n",
       "      <td>N</td>\n",
       "      <td>12</td>\n",
       "    </tr>\n",
       "    <tr>\n",
       "      <th>32047</th>\n",
       "      <td>36</td>\n",
       "      <td>250000</td>\n",
       "      <td>RENT</td>\n",
       "      <td>2.0</td>\n",
       "      <td>DEBTCONSOLIDATION</td>\n",
       "      <td>A</td>\n",
       "      <td>20000</td>\n",
       "      <td>7.88</td>\n",
       "      <td>0</td>\n",
       "      <td>0.08</td>\n",
       "      <td>N</td>\n",
       "      <td>17</td>\n",
       "    </tr>\n",
       "    <tr>\n",
       "      <th>32172</th>\n",
       "      <td>49</td>\n",
       "      <td>120000</td>\n",
       "      <td>MORTGAGE</td>\n",
       "      <td>12.0</td>\n",
       "      <td>MEDICAL</td>\n",
       "      <td>B</td>\n",
       "      <td>12000</td>\n",
       "      <td>10.99</td>\n",
       "      <td>0</td>\n",
       "      <td>0.10</td>\n",
       "      <td>N</td>\n",
       "      <td>12</td>\n",
       "    </tr>\n",
       "    <tr>\n",
       "      <th>32259</th>\n",
       "      <td>39</td>\n",
       "      <td>40000</td>\n",
       "      <td>OWN</td>\n",
       "      <td>4.0</td>\n",
       "      <td>VENTURE</td>\n",
       "      <td>B</td>\n",
       "      <td>1000</td>\n",
       "      <td>10.37</td>\n",
       "      <td>0</td>\n",
       "      <td>0.03</td>\n",
       "      <td>N</td>\n",
       "      <td>16</td>\n",
       "    </tr>\n",
       "    <tr>\n",
       "      <th>32279</th>\n",
       "      <td>43</td>\n",
       "      <td>11340</td>\n",
       "      <td>RENT</td>\n",
       "      <td>4.0</td>\n",
       "      <td>EDUCATION</td>\n",
       "      <td>C</td>\n",
       "      <td>1950</td>\n",
       "      <td>NaN</td>\n",
       "      <td>1</td>\n",
       "      <td>0.17</td>\n",
       "      <td>N</td>\n",
       "      <td>11</td>\n",
       "    </tr>\n",
       "  </tbody>\n",
       "</table>\n",
       "<p>165 rows × 12 columns</p>\n",
       "</div>"
      ],
      "text/plain": [
       "       person_age  person_income person_home_ownership  person_emp_length  \\\n",
       "15975          23          42000                  RENT                5.0   \n",
       "15989          23          90000              MORTGAGE                7.0   \n",
       "15995          24          48000              MORTGAGE                4.0   \n",
       "16025          24          10000                  RENT                8.0   \n",
       "16028          23         100000              MORTGAGE                7.0   \n",
       "...           ...            ...                   ...                ...   \n",
       "32010          42          39996              MORTGAGE                2.0   \n",
       "32047          36         250000                  RENT                2.0   \n",
       "32172          49         120000              MORTGAGE               12.0   \n",
       "32259          39          40000                   OWN                4.0   \n",
       "32279          43          11340                  RENT                4.0   \n",
       "\n",
       "             loan_intent loan_grade  loan_amnt  loan_int_rate  loan_status  \\\n",
       "15975            VENTURE          B       6000           9.99            0   \n",
       "15989          EDUCATION          B       8000          10.36            0   \n",
       "15995            MEDICAL          A       4000           5.42            0   \n",
       "16025           PERSONAL          A       3000           7.90            1   \n",
       "16028          EDUCATION          A      15000           7.88            0   \n",
       "...                  ...        ...        ...            ...          ...   \n",
       "32010    HOMEIMPROVEMENT          A       2500           5.42            0   \n",
       "32047  DEBTCONSOLIDATION          A      20000           7.88            0   \n",
       "32172            MEDICAL          B      12000          10.99            0   \n",
       "32259            VENTURE          B       1000          10.37            0   \n",
       "32279          EDUCATION          C       1950            NaN            1   \n",
       "\n",
       "       loan_percent_income cb_person_default_on_file  \\\n",
       "15975                 0.14                         N   \n",
       "15989                 0.09                         N   \n",
       "15995                 0.08                         N   \n",
       "16025                 0.30                         N   \n",
       "16028                 0.15                         N   \n",
       "...                    ...                       ...   \n",
       "32010                 0.06                         N   \n",
       "32047                 0.08                         N   \n",
       "32172                 0.10                         N   \n",
       "32259                 0.03                         N   \n",
       "32279                 0.17                         N   \n",
       "\n",
       "       cb_person_cred_hist_length  \n",
       "15975                           4  \n",
       "15989                           3  \n",
       "15995                           4  \n",
       "16025                           3  \n",
       "16028                           4  \n",
       "...                           ...  \n",
       "32010                          12  \n",
       "32047                          17  \n",
       "32172                          12  \n",
       "32259                          16  \n",
       "32279                          11  \n",
       "\n",
       "[165 rows x 12 columns]"
      ]
     },
     "execution_count": 4,
     "metadata": {},
     "output_type": "execute_result"
    }
   ],
   "source": [
    "df[dups]"
   ]
  },
  {
   "cell_type": "code",
   "execution_count": 5,
   "id": "9ca8ee68",
   "metadata": {},
   "outputs": [
    {
     "data": {
      "text/html": [
       "<div>\n",
       "<style scoped>\n",
       "    .dataframe tbody tr th:only-of-type {\n",
       "        vertical-align: middle;\n",
       "    }\n",
       "\n",
       "    .dataframe tbody tr th {\n",
       "        vertical-align: top;\n",
       "    }\n",
       "\n",
       "    .dataframe thead th {\n",
       "        text-align: right;\n",
       "    }\n",
       "</style>\n",
       "<table border=\"1\" class=\"dataframe\">\n",
       "  <thead>\n",
       "    <tr style=\"text-align: right;\">\n",
       "      <th></th>\n",
       "      <th>person_age</th>\n",
       "      <th>person_income</th>\n",
       "      <th>person_home_ownership</th>\n",
       "      <th>person_emp_length</th>\n",
       "      <th>loan_intent</th>\n",
       "      <th>loan_grade</th>\n",
       "      <th>loan_amnt</th>\n",
       "      <th>loan_int_rate</th>\n",
       "      <th>loan_status</th>\n",
       "      <th>loan_percent_income</th>\n",
       "      <th>cb_person_default_on_file</th>\n",
       "      <th>cb_person_cred_hist_length</th>\n",
       "    </tr>\n",
       "  </thead>\n",
       "  <tbody>\n",
       "    <tr>\n",
       "      <th>6464</th>\n",
       "      <td>23</td>\n",
       "      <td>42000</td>\n",
       "      <td>RENT</td>\n",
       "      <td>5.0</td>\n",
       "      <td>VENTURE</td>\n",
       "      <td>B</td>\n",
       "      <td>6000</td>\n",
       "      <td>9.99</td>\n",
       "      <td>0</td>\n",
       "      <td>0.14</td>\n",
       "      <td>N</td>\n",
       "      <td>4</td>\n",
       "    </tr>\n",
       "    <tr>\n",
       "      <th>15975</th>\n",
       "      <td>23</td>\n",
       "      <td>42000</td>\n",
       "      <td>RENT</td>\n",
       "      <td>5.0</td>\n",
       "      <td>VENTURE</td>\n",
       "      <td>B</td>\n",
       "      <td>6000</td>\n",
       "      <td>9.99</td>\n",
       "      <td>0</td>\n",
       "      <td>0.14</td>\n",
       "      <td>N</td>\n",
       "      <td>4</td>\n",
       "    </tr>\n",
       "  </tbody>\n",
       "</table>\n",
       "</div>"
      ],
      "text/plain": [
       "       person_age  person_income person_home_ownership  person_emp_length  \\\n",
       "6464           23          42000                  RENT                5.0   \n",
       "15975          23          42000                  RENT                5.0   \n",
       "\n",
       "      loan_intent loan_grade  loan_amnt  loan_int_rate  loan_status  \\\n",
       "6464      VENTURE          B       6000           9.99            0   \n",
       "15975     VENTURE          B       6000           9.99            0   \n",
       "\n",
       "       loan_percent_income cb_person_default_on_file  \\\n",
       "6464                  0.14                         N   \n",
       "15975                 0.14                         N   \n",
       "\n",
       "       cb_person_cred_hist_length  \n",
       "6464                            4  \n",
       "15975                           4  "
      ]
     },
     "execution_count": 5,
     "metadata": {},
     "output_type": "execute_result"
    }
   ],
   "source": [
    "df.query(\"person_age==23 & person_income==42000 &\\\n",
    "person_home_ownership=='RENT' & loan_int_rate==9.99\")"
   ]
  },
  {
   "cell_type": "code",
   "execution_count": 6,
   "id": "09fd241a",
   "metadata": {},
   "outputs": [
    {
     "data": {
      "text/plain": [
       "(32581, 12)"
      ]
     },
     "execution_count": 6,
     "metadata": {},
     "output_type": "execute_result"
    }
   ],
   "source": [
    "df.shape"
   ]
  },
  {
   "cell_type": "code",
   "execution_count": 7,
   "id": "f10cb947",
   "metadata": {},
   "outputs": [
    {
     "data": {
      "text/html": [
       "<div>\n",
       "<style scoped>\n",
       "    .dataframe tbody tr th:only-of-type {\n",
       "        vertical-align: middle;\n",
       "    }\n",
       "\n",
       "    .dataframe tbody tr th {\n",
       "        vertical-align: top;\n",
       "    }\n",
       "\n",
       "    .dataframe thead th {\n",
       "        text-align: right;\n",
       "    }\n",
       "</style>\n",
       "<table border=\"1\" class=\"dataframe\">\n",
       "  <thead>\n",
       "    <tr style=\"text-align: right;\">\n",
       "      <th></th>\n",
       "      <th>person_age</th>\n",
       "      <th>person_income</th>\n",
       "      <th>person_home_ownership</th>\n",
       "      <th>person_emp_length</th>\n",
       "      <th>loan_intent</th>\n",
       "      <th>loan_grade</th>\n",
       "      <th>loan_amnt</th>\n",
       "      <th>loan_int_rate</th>\n",
       "      <th>loan_status</th>\n",
       "      <th>loan_percent_income</th>\n",
       "      <th>cb_person_default_on_file</th>\n",
       "      <th>cb_person_cred_hist_length</th>\n",
       "    </tr>\n",
       "  </thead>\n",
       "  <tbody>\n",
       "    <tr>\n",
       "      <th>0</th>\n",
       "      <td>22</td>\n",
       "      <td>59000</td>\n",
       "      <td>3</td>\n",
       "      <td>123.0</td>\n",
       "      <td>4</td>\n",
       "      <td>3</td>\n",
       "      <td>35000</td>\n",
       "      <td>16.02</td>\n",
       "      <td>1</td>\n",
       "      <td>0.59</td>\n",
       "      <td>1</td>\n",
       "      <td>3</td>\n",
       "    </tr>\n",
       "    <tr>\n",
       "      <th>1</th>\n",
       "      <td>21</td>\n",
       "      <td>9600</td>\n",
       "      <td>2</td>\n",
       "      <td>5.0</td>\n",
       "      <td>1</td>\n",
       "      <td>1</td>\n",
       "      <td>1000</td>\n",
       "      <td>11.14</td>\n",
       "      <td>0</td>\n",
       "      <td>0.10</td>\n",
       "      <td>0</td>\n",
       "      <td>2</td>\n",
       "    </tr>\n",
       "    <tr>\n",
       "      <th>2</th>\n",
       "      <td>25</td>\n",
       "      <td>9600</td>\n",
       "      <td>0</td>\n",
       "      <td>1.0</td>\n",
       "      <td>3</td>\n",
       "      <td>2</td>\n",
       "      <td>5500</td>\n",
       "      <td>12.87</td>\n",
       "      <td>1</td>\n",
       "      <td>0.57</td>\n",
       "      <td>0</td>\n",
       "      <td>3</td>\n",
       "    </tr>\n",
       "    <tr>\n",
       "      <th>3</th>\n",
       "      <td>23</td>\n",
       "      <td>65500</td>\n",
       "      <td>3</td>\n",
       "      <td>4.0</td>\n",
       "      <td>3</td>\n",
       "      <td>2</td>\n",
       "      <td>35000</td>\n",
       "      <td>15.23</td>\n",
       "      <td>1</td>\n",
       "      <td>0.53</td>\n",
       "      <td>0</td>\n",
       "      <td>2</td>\n",
       "    </tr>\n",
       "    <tr>\n",
       "      <th>4</th>\n",
       "      <td>24</td>\n",
       "      <td>54400</td>\n",
       "      <td>3</td>\n",
       "      <td>8.0</td>\n",
       "      <td>3</td>\n",
       "      <td>2</td>\n",
       "      <td>35000</td>\n",
       "      <td>14.27</td>\n",
       "      <td>1</td>\n",
       "      <td>0.55</td>\n",
       "      <td>1</td>\n",
       "      <td>4</td>\n",
       "    </tr>\n",
       "    <tr>\n",
       "      <th>...</th>\n",
       "      <td>...</td>\n",
       "      <td>...</td>\n",
       "      <td>...</td>\n",
       "      <td>...</td>\n",
       "      <td>...</td>\n",
       "      <td>...</td>\n",
       "      <td>...</td>\n",
       "      <td>...</td>\n",
       "      <td>...</td>\n",
       "      <td>...</td>\n",
       "      <td>...</td>\n",
       "      <td>...</td>\n",
       "    </tr>\n",
       "    <tr>\n",
       "      <th>32576</th>\n",
       "      <td>57</td>\n",
       "      <td>53000</td>\n",
       "      <td>0</td>\n",
       "      <td>1.0</td>\n",
       "      <td>4</td>\n",
       "      <td>2</td>\n",
       "      <td>5800</td>\n",
       "      <td>13.16</td>\n",
       "      <td>0</td>\n",
       "      <td>0.11</td>\n",
       "      <td>0</td>\n",
       "      <td>30</td>\n",
       "    </tr>\n",
       "    <tr>\n",
       "      <th>32577</th>\n",
       "      <td>54</td>\n",
       "      <td>120000</td>\n",
       "      <td>0</td>\n",
       "      <td>4.0</td>\n",
       "      <td>4</td>\n",
       "      <td>0</td>\n",
       "      <td>17625</td>\n",
       "      <td>7.49</td>\n",
       "      <td>0</td>\n",
       "      <td>0.15</td>\n",
       "      <td>0</td>\n",
       "      <td>19</td>\n",
       "    </tr>\n",
       "    <tr>\n",
       "      <th>32578</th>\n",
       "      <td>65</td>\n",
       "      <td>76000</td>\n",
       "      <td>3</td>\n",
       "      <td>3.0</td>\n",
       "      <td>2</td>\n",
       "      <td>1</td>\n",
       "      <td>35000</td>\n",
       "      <td>10.99</td>\n",
       "      <td>1</td>\n",
       "      <td>0.46</td>\n",
       "      <td>0</td>\n",
       "      <td>28</td>\n",
       "    </tr>\n",
       "    <tr>\n",
       "      <th>32579</th>\n",
       "      <td>56</td>\n",
       "      <td>150000</td>\n",
       "      <td>0</td>\n",
       "      <td>5.0</td>\n",
       "      <td>4</td>\n",
       "      <td>1</td>\n",
       "      <td>15000</td>\n",
       "      <td>11.48</td>\n",
       "      <td>0</td>\n",
       "      <td>0.10</td>\n",
       "      <td>0</td>\n",
       "      <td>26</td>\n",
       "    </tr>\n",
       "    <tr>\n",
       "      <th>32580</th>\n",
       "      <td>66</td>\n",
       "      <td>42000</td>\n",
       "      <td>3</td>\n",
       "      <td>2.0</td>\n",
       "      <td>3</td>\n",
       "      <td>1</td>\n",
       "      <td>6475</td>\n",
       "      <td>9.99</td>\n",
       "      <td>0</td>\n",
       "      <td>0.15</td>\n",
       "      <td>0</td>\n",
       "      <td>30</td>\n",
       "    </tr>\n",
       "  </tbody>\n",
       "</table>\n",
       "<p>32581 rows × 12 columns</p>\n",
       "</div>"
      ],
      "text/plain": [
       "       person_age  person_income  person_home_ownership  person_emp_length  \\\n",
       "0              22          59000                      3              123.0   \n",
       "1              21           9600                      2                5.0   \n",
       "2              25           9600                      0                1.0   \n",
       "3              23          65500                      3                4.0   \n",
       "4              24          54400                      3                8.0   \n",
       "...           ...            ...                    ...                ...   \n",
       "32576          57          53000                      0                1.0   \n",
       "32577          54         120000                      0                4.0   \n",
       "32578          65          76000                      3                3.0   \n",
       "32579          56         150000                      0                5.0   \n",
       "32580          66          42000                      3                2.0   \n",
       "\n",
       "       loan_intent  loan_grade  loan_amnt  loan_int_rate  loan_status  \\\n",
       "0                4           3      35000          16.02            1   \n",
       "1                1           1       1000          11.14            0   \n",
       "2                3           2       5500          12.87            1   \n",
       "3                3           2      35000          15.23            1   \n",
       "4                3           2      35000          14.27            1   \n",
       "...            ...         ...        ...            ...          ...   \n",
       "32576            4           2       5800          13.16            0   \n",
       "32577            4           0      17625           7.49            0   \n",
       "32578            2           1      35000          10.99            1   \n",
       "32579            4           1      15000          11.48            0   \n",
       "32580            3           1       6475           9.99            0   \n",
       "\n",
       "       loan_percent_income  cb_person_default_on_file  \\\n",
       "0                     0.59                          1   \n",
       "1                     0.10                          0   \n",
       "2                     0.57                          0   \n",
       "3                     0.53                          0   \n",
       "4                     0.55                          1   \n",
       "...                    ...                        ...   \n",
       "32576                 0.11                          0   \n",
       "32577                 0.15                          0   \n",
       "32578                 0.46                          0   \n",
       "32579                 0.10                          0   \n",
       "32580                 0.15                          0   \n",
       "\n",
       "       cb_person_cred_hist_length  \n",
       "0                               3  \n",
       "1                               2  \n",
       "2                               3  \n",
       "3                               2  \n",
       "4                               4  \n",
       "...                           ...  \n",
       "32576                          30  \n",
       "32577                          19  \n",
       "32578                          28  \n",
       "32579                          26  \n",
       "32580                          30  \n",
       "\n",
       "[32581 rows x 12 columns]"
      ]
     },
     "execution_count": 7,
     "metadata": {},
     "output_type": "execute_result"
    }
   ],
   "source": [
    "# change to numeric category\n",
    "df['person_home_ownership'] = df['person_home_ownership'].astype('category')\n",
    "df['person_home_ownership'] = df['person_home_ownership'].cat.codes\n",
    "\n",
    "df['loan_intent'] = df['loan_intent'].astype('category')\n",
    "df['loan_intent'] = df['loan_intent'].cat.codes\n",
    "\n",
    "df['cb_person_default_on_file'] = df['cb_person_default_on_file'].astype('category')\n",
    "df['cb_person_default_on_file'] = df['cb_person_default_on_file'].cat.codes\n",
    "\n",
    "df['loan_grade'] = df['loan_grade'].astype('category')\n",
    "df['loan_grade'] = df['loan_grade'].cat.codes\n",
    "df"
   ]
  },
  {
   "cell_type": "code",
   "execution_count": 8,
   "id": "4d490ee1",
   "metadata": {},
   "outputs": [
    {
     "data": {
      "text/plain": [
       "person_age                    0.000\n",
       "person_income                 0.000\n",
       "person_home_ownership         0.000\n",
       "person_emp_length             2.747\n",
       "loan_intent                   0.000\n",
       "loan_grade                    0.000\n",
       "loan_amnt                     0.000\n",
       "loan_int_rate                 9.564\n",
       "loan_status                   0.000\n",
       "loan_percent_income           0.000\n",
       "cb_person_default_on_file     0.000\n",
       "cb_person_cred_hist_length    0.000\n",
       "dtype: float64"
      ]
     },
     "execution_count": 8,
     "metadata": {},
     "output_type": "execute_result"
    }
   ],
   "source": [
    "np.round(df.isna().sum()* 100 / df.shape[0], 3)"
   ]
  },
  {
   "cell_type": "code",
   "execution_count": 9,
   "id": "45c17343",
   "metadata": {},
   "outputs": [],
   "source": [
    "# replace NaN of person_emp_length with average \n",
    "df['person_emp_length'].fillna(df['person_emp_length'].mean(), inplace=True)\n",
    "\n",
    "# Fill null categorical loan_int_rate value with Mode\n",
    "df.loan_int_rate.fillna(df.loan_int_rate.mode()[0], inplace=True)"
   ]
  },
  {
   "cell_type": "code",
   "execution_count": 10,
   "id": "b9c72a35",
   "metadata": {},
   "outputs": [
    {
     "data": {
      "text/plain": [
       "person_age                    0\n",
       "person_income                 0\n",
       "person_home_ownership         0\n",
       "person_emp_length             0\n",
       "loan_intent                   0\n",
       "loan_grade                    0\n",
       "loan_amnt                     0\n",
       "loan_int_rate                 0\n",
       "loan_status                   0\n",
       "loan_percent_income           0\n",
       "cb_person_default_on_file     0\n",
       "cb_person_cred_hist_length    0\n",
       "dtype: int64"
      ]
     },
     "execution_count": 10,
     "metadata": {},
     "output_type": "execute_result"
    }
   ],
   "source": [
    "df.isna().sum()"
   ]
  },
  {
   "cell_type": "code",
   "execution_count": 11,
   "id": "150b1a2a",
   "metadata": {},
   "outputs": [
    {
     "data": {
      "image/png": "[encoded data removed]",
      "text/plain": [
       "<Figure size 640x480 with 1 Axes>"
      ]
     },
     "metadata": {},
     "output_type": "display_data"
    },
    {
     "data": {
      "image/png": "[encoded data removed]",
      "text/plain": [
       "<Figure size 640x480 with 1 Axes>"
      ]
     },
     "metadata": {},
     "output_type": "display_data"
    },
    {
     "data": {
      "image/png": "[encoded data removed]",
      "text/plain": [
       "<Figure size 640x480 with 1 Axes>"
      ]
     },
     "metadata": {},
     "output_type": "display_data"
    },
    {
     "data": {
      "image/png": "[encoded data removed]",
      "text/plain": [
       "<Figure size 640x480 with 1 Axes>"
      ]
     },
     "metadata": {},
     "output_type": "display_data"
    },
    {
     "data": {
      "image/png": "[encoded data removed]",
      "text/plain": [
       "<Figure size 640x480 with 1 Axes>"
      ]
     },
     "metadata": {},
     "output_type": "display_data"
    },
    {
     "data": {
      "image/png": "[encoded data removed]",
      "text/plain": [
       "<Figure size 640x480 with 1 Axes>"
      ]
     },
     "metadata": {},
     "output_type": "display_data"
    },
    {
     "data": {
      "image/png": "[encoded data removed]",
      "text/plain": [
       "<Figure size 640x480 with 1 Axes>"
      ]
     },
     "metadata": {},
     "output_type": "display_data"
    },
    {
     "data": {
      "image/png": "[encoded data removed]",
      "text/plain": [
       "<Figure size 640x480 with 1 Axes>"
      ]
     },
     "metadata": {},
     "output_type": "display_data"
    },
    {
     "data": {
      "image/png": "[encoded data removed]",
      "text/plain": [
       "<Figure size 640x480 with 1 Axes>"
      ]
     },
     "metadata": {},
     "output_type": "display_data"
    },
    {
     "data": {
      "image/png": "[encoded data removed]",
      "text/plain": [
       "<Figure size 640x480 with 1 Axes>"
      ]
     },
     "metadata": {},
     "output_type": "display_data"
    },
    {
     "data": {
      "image/png": "[encoded data removed]",
      "text/plain": [
       "<Figure size 640x480 with 1 Axes>"
      ]
     },
     "metadata": {},
     "output_type": "display_data"
    },
    {
     "data": {
      "image/png": "[encoded data removed]",
      "text/plain": [
       "<Figure size 640x480 with 1 Axes>"
      ]
     },
     "metadata": {},
     "output_type": "display_data"
    }
   ],
   "source": [
    "import seaborn as sns\n",
    "for col in df.columns:\n",
    "    sns.histplot(df[col])\n",
    "    plt.show()"
   ]
  },
  {
   "cell_type": "code",
   "execution_count": 12,
   "id": "cadadc39",
   "metadata": {
    "scrolled": true
   },
   "outputs": [
    {
     "data": {
      "text/html": [
       "<div>\n",
       "<style scoped>\n",
       "    .dataframe tbody tr th:only-of-type {\n",
       "        vertical-align: middle;\n",
       "    }\n",
       "\n",
       "    .dataframe tbody tr th {\n",
       "        vertical-align: top;\n",
       "    }\n",
       "\n",
       "    .dataframe thead th {\n",
       "        text-align: right;\n",
       "    }\n",
       "</style>\n",
       "<table border=\"1\" class=\"dataframe\">\n",
       "  <thead>\n",
       "    <tr style=\"text-align: right;\">\n",
       "      <th></th>\n",
       "      <th>person_age</th>\n",
       "      <th>person_income</th>\n",
       "      <th>person_home_ownership</th>\n",
       "      <th>person_emp_length</th>\n",
       "      <th>loan_intent</th>\n",
       "      <th>loan_grade</th>\n",
       "      <th>loan_amnt</th>\n",
       "      <th>loan_int_rate</th>\n",
       "      <th>loan_status</th>\n",
       "      <th>loan_percent_income</th>\n",
       "      <th>cb_person_default_on_file</th>\n",
       "      <th>cb_person_cred_hist_length</th>\n",
       "    </tr>\n",
       "  </thead>\n",
       "  <tbody>\n",
       "    <tr>\n",
       "      <th>81</th>\n",
       "      <td>144</td>\n",
       "      <td>250000</td>\n",
       "      <td>3</td>\n",
       "      <td>4.0</td>\n",
       "      <td>5</td>\n",
       "      <td>2</td>\n",
       "      <td>4800</td>\n",
       "      <td>13.57</td>\n",
       "      <td>0</td>\n",
       "      <td>0.02</td>\n",
       "      <td>0</td>\n",
       "      <td>3</td>\n",
       "    </tr>\n",
       "    <tr>\n",
       "      <th>183</th>\n",
       "      <td>144</td>\n",
       "      <td>200000</td>\n",
       "      <td>0</td>\n",
       "      <td>4.0</td>\n",
       "      <td>1</td>\n",
       "      <td>1</td>\n",
       "      <td>6000</td>\n",
       "      <td>11.86</td>\n",
       "      <td>0</td>\n",
       "      <td>0.03</td>\n",
       "      <td>0</td>\n",
       "      <td>2</td>\n",
       "    </tr>\n",
       "    <tr>\n",
       "      <th>575</th>\n",
       "      <td>123</td>\n",
       "      <td>80004</td>\n",
       "      <td>3</td>\n",
       "      <td>2.0</td>\n",
       "      <td>1</td>\n",
       "      <td>1</td>\n",
       "      <td>20400</td>\n",
       "      <td>10.25</td>\n",
       "      <td>0</td>\n",
       "      <td>0.25</td>\n",
       "      <td>0</td>\n",
       "      <td>3</td>\n",
       "    </tr>\n",
       "    <tr>\n",
       "      <th>747</th>\n",
       "      <td>123</td>\n",
       "      <td>78000</td>\n",
       "      <td>3</td>\n",
       "      <td>7.0</td>\n",
       "      <td>5</td>\n",
       "      <td>1</td>\n",
       "      <td>20000</td>\n",
       "      <td>7.51</td>\n",
       "      <td>0</td>\n",
       "      <td>0.26</td>\n",
       "      <td>0</td>\n",
       "      <td>4</td>\n",
       "    </tr>\n",
       "    <tr>\n",
       "      <th>32297</th>\n",
       "      <td>144</td>\n",
       "      <td>6000000</td>\n",
       "      <td>0</td>\n",
       "      <td>12.0</td>\n",
       "      <td>4</td>\n",
       "      <td>2</td>\n",
       "      <td>5000</td>\n",
       "      <td>12.73</td>\n",
       "      <td>0</td>\n",
       "      <td>0.00</td>\n",
       "      <td>0</td>\n",
       "      <td>25</td>\n",
       "    </tr>\n",
       "    <tr>\n",
       "      <th>32416</th>\n",
       "      <td>94</td>\n",
       "      <td>24000</td>\n",
       "      <td>3</td>\n",
       "      <td>1.0</td>\n",
       "      <td>3</td>\n",
       "      <td>2</td>\n",
       "      <td>6500</td>\n",
       "      <td>7.51</td>\n",
       "      <td>0</td>\n",
       "      <td>0.27</td>\n",
       "      <td>0</td>\n",
       "      <td>27</td>\n",
       "    </tr>\n",
       "    <tr>\n",
       "      <th>32422</th>\n",
       "      <td>80</td>\n",
       "      <td>64000</td>\n",
       "      <td>3</td>\n",
       "      <td>7.0</td>\n",
       "      <td>3</td>\n",
       "      <td>1</td>\n",
       "      <td>6800</td>\n",
       "      <td>11.71</td>\n",
       "      <td>0</td>\n",
       "      <td>0.11</td>\n",
       "      <td>0</td>\n",
       "      <td>25</td>\n",
       "    </tr>\n",
       "    <tr>\n",
       "      <th>32506</th>\n",
       "      <td>84</td>\n",
       "      <td>94800</td>\n",
       "      <td>0</td>\n",
       "      <td>2.0</td>\n",
       "      <td>4</td>\n",
       "      <td>0</td>\n",
       "      <td>10000</td>\n",
       "      <td>7.51</td>\n",
       "      <td>0</td>\n",
       "      <td>0.11</td>\n",
       "      <td>0</td>\n",
       "      <td>24</td>\n",
       "    </tr>\n",
       "  </tbody>\n",
       "</table>\n",
       "</div>"
      ],
      "text/plain": [
       "       person_age  person_income  person_home_ownership  person_emp_length  \\\n",
       "81            144         250000                      3                4.0   \n",
       "183           144         200000                      0                4.0   \n",
       "575           123          80004                      3                2.0   \n",
       "747           123          78000                      3                7.0   \n",
       "32297         144        6000000                      0               12.0   \n",
       "32416          94          24000                      3                1.0   \n",
       "32422          80          64000                      3                7.0   \n",
       "32506          84          94800                      0                2.0   \n",
       "\n",
       "       loan_intent  loan_grade  loan_amnt  loan_int_rate  loan_status  \\\n",
       "81               5           2       4800          13.57            0   \n",
       "183              1           1       6000          11.86            0   \n",
       "575              1           1      20400          10.25            0   \n",
       "747              5           1      20000           7.51            0   \n",
       "32297            4           2       5000          12.73            0   \n",
       "32416            3           2       6500           7.51            0   \n",
       "32422            3           1       6800          11.71            0   \n",
       "32506            4           0      10000           7.51            0   \n",
       "\n",
       "       loan_percent_income  cb_person_default_on_file  \\\n",
       "81                    0.02                          0   \n",
       "183                   0.03                          0   \n",
       "575                   0.25                          0   \n",
       "747                   0.26                          0   \n",
       "32297                 0.00                          0   \n",
       "32416                 0.27                          0   \n",
       "32422                 0.11                          0   \n",
       "32506                 0.11                          0   \n",
       "\n",
       "       cb_person_cred_hist_length  \n",
       "81                              3  \n",
       "183                             2  \n",
       "575                             3  \n",
       "747                             4  \n",
       "32297                          25  \n",
       "32416                          27  \n",
       "32422                          25  \n",
       "32506                          24  "
      ]
     },
     "execution_count": 12,
     "metadata": {},
     "output_type": "execute_result"
    }
   ],
   "source": [
    "#after see the histogram of all columns\n",
    "df.loc[df['person_age']>=80, :]"
   ]
  },
  {
   "cell_type": "code",
   "execution_count": 13,
   "id": "22acc998",
   "metadata": {},
   "outputs": [],
   "source": [
    "df = df.loc[df['person_age']<80, :]"
   ]
  },
  {
   "cell_type": "code",
   "execution_count": 14,
   "id": "183e1589",
   "metadata": {},
   "outputs": [
    {
     "data": {
      "text/html": [
       "<div>\n",
       "<style scoped>\n",
       "    .dataframe tbody tr th:only-of-type {\n",
       "        vertical-align: middle;\n",
       "    }\n",
       "\n",
       "    .dataframe tbody tr th {\n",
       "        vertical-align: top;\n",
       "    }\n",
       "\n",
       "    .dataframe thead th {\n",
       "        text-align: right;\n",
       "    }\n",
       "</style>\n",
       "<table border=\"1\" class=\"dataframe\">\n",
       "  <thead>\n",
       "    <tr style=\"text-align: right;\">\n",
       "      <th></th>\n",
       "      <th>person_age</th>\n",
       "      <th>person_income</th>\n",
       "      <th>person_home_ownership</th>\n",
       "      <th>person_emp_length</th>\n",
       "      <th>loan_intent</th>\n",
       "      <th>loan_grade</th>\n",
       "      <th>loan_amnt</th>\n",
       "      <th>loan_int_rate</th>\n",
       "      <th>loan_status</th>\n",
       "      <th>loan_percent_income</th>\n",
       "      <th>cb_person_default_on_file</th>\n",
       "      <th>cb_person_cred_hist_length</th>\n",
       "    </tr>\n",
       "  </thead>\n",
       "  <tbody>\n",
       "    <tr>\n",
       "      <th>0</th>\n",
       "      <td>22</td>\n",
       "      <td>59000</td>\n",
       "      <td>3</td>\n",
       "      <td>123.0</td>\n",
       "      <td>4</td>\n",
       "      <td>3</td>\n",
       "      <td>35000</td>\n",
       "      <td>16.02</td>\n",
       "      <td>1</td>\n",
       "      <td>0.59</td>\n",
       "      <td>1</td>\n",
       "      <td>3</td>\n",
       "    </tr>\n",
       "    <tr>\n",
       "      <th>210</th>\n",
       "      <td>21</td>\n",
       "      <td>192000</td>\n",
       "      <td>0</td>\n",
       "      <td>123.0</td>\n",
       "      <td>5</td>\n",
       "      <td>0</td>\n",
       "      <td>20000</td>\n",
       "      <td>6.54</td>\n",
       "      <td>0</td>\n",
       "      <td>0.10</td>\n",
       "      <td>0</td>\n",
       "      <td>4</td>\n",
       "    </tr>\n",
       "  </tbody>\n",
       "</table>\n",
       "</div>"
      ],
      "text/plain": [
       "     person_age  person_income  person_home_ownership  person_emp_length  \\\n",
       "0            22          59000                      3              123.0   \n",
       "210          21         192000                      0              123.0   \n",
       "\n",
       "     loan_intent  loan_grade  loan_amnt  loan_int_rate  loan_status  \\\n",
       "0              4           3      35000          16.02            1   \n",
       "210            5           0      20000           6.54            0   \n",
       "\n",
       "     loan_percent_income  cb_person_default_on_file  \\\n",
       "0                   0.59                          1   \n",
       "210                 0.10                          0   \n",
       "\n",
       "     cb_person_cred_hist_length  \n",
       "0                             3  \n",
       "210                           4  "
      ]
     },
     "execution_count": 14,
     "metadata": {},
     "output_type": "execute_result"
    }
   ],
   "source": [
    "df.loc[df['person_emp_length']>=66, :]"
   ]
  },
  {
   "cell_type": "code",
   "execution_count": 15,
   "id": "6377f713",
   "metadata": {},
   "outputs": [
    {
     "data": {
      "text/html": [
       "<div>\n",
       "<style scoped>\n",
       "    .dataframe tbody tr th:only-of-type {\n",
       "        vertical-align: middle;\n",
       "    }\n",
       "\n",
       "    .dataframe tbody tr th {\n",
       "        vertical-align: top;\n",
       "    }\n",
       "\n",
       "    .dataframe thead th {\n",
       "        text-align: right;\n",
       "    }\n",
       "</style>\n",
       "<table border=\"1\" class=\"dataframe\">\n",
       "  <thead>\n",
       "    <tr style=\"text-align: right;\">\n",
       "      <th></th>\n",
       "      <th>person_age</th>\n",
       "      <th>person_income</th>\n",
       "      <th>person_home_ownership</th>\n",
       "      <th>person_emp_length</th>\n",
       "      <th>loan_intent</th>\n",
       "      <th>loan_grade</th>\n",
       "      <th>loan_amnt</th>\n",
       "      <th>loan_int_rate</th>\n",
       "      <th>loan_status</th>\n",
       "      <th>loan_percent_income</th>\n",
       "      <th>cb_person_default_on_file</th>\n",
       "      <th>cb_person_cred_hist_length</th>\n",
       "    </tr>\n",
       "  </thead>\n",
       "  <tbody>\n",
       "    <tr>\n",
       "      <th>0</th>\n",
       "      <td>22</td>\n",
       "      <td>59000</td>\n",
       "      <td>3</td>\n",
       "      <td>123.0</td>\n",
       "      <td>4</td>\n",
       "      <td>3</td>\n",
       "      <td>35000</td>\n",
       "      <td>16.02</td>\n",
       "      <td>1</td>\n",
       "      <td>0.59</td>\n",
       "      <td>1</td>\n",
       "      <td>3</td>\n",
       "    </tr>\n",
       "    <tr>\n",
       "      <th>210</th>\n",
       "      <td>21</td>\n",
       "      <td>192000</td>\n",
       "      <td>0</td>\n",
       "      <td>123.0</td>\n",
       "      <td>5</td>\n",
       "      <td>0</td>\n",
       "      <td>20000</td>\n",
       "      <td>6.54</td>\n",
       "      <td>0</td>\n",
       "      <td>0.10</td>\n",
       "      <td>0</td>\n",
       "      <td>4</td>\n",
       "    </tr>\n",
       "  </tbody>\n",
       "</table>\n",
       "</div>"
      ],
      "text/plain": [
       "     person_age  person_income  person_home_ownership  person_emp_length  \\\n",
       "0            22          59000                      3              123.0   \n",
       "210          21         192000                      0              123.0   \n",
       "\n",
       "     loan_intent  loan_grade  loan_amnt  loan_int_rate  loan_status  \\\n",
       "0              4           3      35000          16.02            1   \n",
       "210            5           0      20000           6.54            0   \n",
       "\n",
       "     loan_percent_income  cb_person_default_on_file  \\\n",
       "0                   0.59                          1   \n",
       "210                 0.10                          0   \n",
       "\n",
       "     cb_person_cred_hist_length  \n",
       "0                             3  \n",
       "210                           4  "
      ]
     },
     "execution_count": 15,
     "metadata": {},
     "output_type": "execute_result"
    }
   ],
   "source": [
    "df.query(\"person_age<=person_emp_length+14\")"
   ]
  },
  {
   "cell_type": "code",
   "execution_count": 16,
   "id": "2a86a588",
   "metadata": {},
   "outputs": [],
   "source": [
    "df = df.loc[(df['person_emp_length']<66) | (df['person_emp_length'].isna()), :]"
   ]
  },
  {
   "cell_type": "markdown",
   "id": "e3adbffe",
   "metadata": {},
   "source": [
    "Because loan_percent_income = loan_amnt/person_income, we drop loan_percent_income column."
   ]
  },
  {
   "cell_type": "code",
   "execution_count": 17,
   "id": "9a3311f2",
   "metadata": {},
   "outputs": [
    {
     "data": {
      "text/html": [
       "<div>\n",
       "<style scoped>\n",
       "    .dataframe tbody tr th:only-of-type {\n",
       "        vertical-align: middle;\n",
       "    }\n",
       "\n",
       "    .dataframe tbody tr th {\n",
       "        vertical-align: top;\n",
       "    }\n",
       "\n",
       "    .dataframe thead th {\n",
       "        text-align: right;\n",
       "    }\n",
       "</style>\n",
       "<table border=\"1\" class=\"dataframe\">\n",
       "  <thead>\n",
       "    <tr style=\"text-align: right;\">\n",
       "      <th></th>\n",
       "      <th>person_income</th>\n",
       "      <th>loan_amnt</th>\n",
       "      <th>loan_percent_income</th>\n",
       "    </tr>\n",
       "  </thead>\n",
       "  <tbody>\n",
       "    <tr>\n",
       "      <th>1</th>\n",
       "      <td>9600</td>\n",
       "      <td>1000</td>\n",
       "      <td>0.10</td>\n",
       "    </tr>\n",
       "    <tr>\n",
       "      <th>2</th>\n",
       "      <td>9600</td>\n",
       "      <td>5500</td>\n",
       "      <td>0.57</td>\n",
       "    </tr>\n",
       "    <tr>\n",
       "      <th>3</th>\n",
       "      <td>65500</td>\n",
       "      <td>35000</td>\n",
       "      <td>0.53</td>\n",
       "    </tr>\n",
       "    <tr>\n",
       "      <th>4</th>\n",
       "      <td>54400</td>\n",
       "      <td>35000</td>\n",
       "      <td>0.55</td>\n",
       "    </tr>\n",
       "    <tr>\n",
       "      <th>5</th>\n",
       "      <td>9900</td>\n",
       "      <td>2500</td>\n",
       "      <td>0.25</td>\n",
       "    </tr>\n",
       "  </tbody>\n",
       "</table>\n",
       "</div>"
      ],
      "text/plain": [
       "   person_income  loan_amnt  loan_percent_income\n",
       "1           9600       1000                 0.10\n",
       "2           9600       5500                 0.57\n",
       "3          65500      35000                 0.53\n",
       "4          54400      35000                 0.55\n",
       "5           9900       2500                 0.25"
      ]
     },
     "execution_count": 17,
     "metadata": {},
     "output_type": "execute_result"
    }
   ],
   "source": [
    "df[['person_income', 'loan_amnt', 'loan_percent_income']].head()"
   ]
  },
  {
   "cell_type": "code",
   "execution_count": 18,
   "id": "a04cc2af",
   "metadata": {},
   "outputs": [],
   "source": [
    "df.drop('loan_percent_income', axis=1, inplace=True)"
   ]
  },
  {
   "cell_type": "code",
   "execution_count": 19,
   "id": "3bef6fcc",
   "metadata": {},
   "outputs": [
    {
     "data": {
      "text/html": [
       "<div>\n",
       "<style scoped>\n",
       "    .dataframe tbody tr th:only-of-type {\n",
       "        vertical-align: middle;\n",
       "    }\n",
       "\n",
       "    .dataframe tbody tr th {\n",
       "        vertical-align: top;\n",
       "    }\n",
       "\n",
       "    .dataframe thead th {\n",
       "        text-align: right;\n",
       "    }\n",
       "</style>\n",
       "<table border=\"1\" class=\"dataframe\">\n",
       "  <thead>\n",
       "    <tr style=\"text-align: right;\">\n",
       "      <th></th>\n",
       "      <th>person_age</th>\n",
       "      <th>person_income</th>\n",
       "      <th>person_home_ownership</th>\n",
       "      <th>person_emp_length</th>\n",
       "      <th>loan_intent</th>\n",
       "      <th>loan_grade</th>\n",
       "      <th>loan_amnt</th>\n",
       "      <th>loan_int_rate</th>\n",
       "      <th>loan_status</th>\n",
       "      <th>cb_person_default_on_file</th>\n",
       "      <th>cb_person_cred_hist_length</th>\n",
       "    </tr>\n",
       "  </thead>\n",
       "  <tbody>\n",
       "    <tr>\n",
       "      <th>80</th>\n",
       "      <td>24</td>\n",
       "      <td>250000</td>\n",
       "      <td>3</td>\n",
       "      <td>2.0</td>\n",
       "      <td>1</td>\n",
       "      <td>2</td>\n",
       "      <td>18000</td>\n",
       "      <td>12.98</td>\n",
       "      <td>0</td>\n",
       "      <td>1</td>\n",
       "      <td>3</td>\n",
       "    </tr>\n",
       "    <tr>\n",
       "      <th>82</th>\n",
       "      <td>25</td>\n",
       "      <td>100000</td>\n",
       "      <td>3</td>\n",
       "      <td>5.0</td>\n",
       "      <td>0</td>\n",
       "      <td>1</td>\n",
       "      <td>28000</td>\n",
       "      <td>12.69</td>\n",
       "      <td>0</td>\n",
       "      <td>0</td>\n",
       "      <td>3</td>\n",
       "    </tr>\n",
       "    <tr>\n",
       "      <th>83</th>\n",
       "      <td>26</td>\n",
       "      <td>110000</td>\n",
       "      <td>3</td>\n",
       "      <td>10.0</td>\n",
       "      <td>1</td>\n",
       "      <td>0</td>\n",
       "      <td>28000</td>\n",
       "      <td>8.90</td>\n",
       "      <td>0</td>\n",
       "      <td>0</td>\n",
       "      <td>2</td>\n",
       "    </tr>\n",
       "    <tr>\n",
       "      <th>84</th>\n",
       "      <td>26</td>\n",
       "      <td>12000</td>\n",
       "      <td>2</td>\n",
       "      <td>0.0</td>\n",
       "      <td>0</td>\n",
       "      <td>0</td>\n",
       "      <td>2700</td>\n",
       "      <td>7.51</td>\n",
       "      <td>1</td>\n",
       "      <td>0</td>\n",
       "      <td>4</td>\n",
       "    </tr>\n",
       "  </tbody>\n",
       "</table>\n",
       "</div>"
      ],
      "text/plain": [
       "    person_age  person_income  person_home_ownership  person_emp_length  \\\n",
       "80          24         250000                      3                2.0   \n",
       "82          25         100000                      3                5.0   \n",
       "83          26         110000                      3               10.0   \n",
       "84          26          12000                      2                0.0   \n",
       "\n",
       "    loan_intent  loan_grade  loan_amnt  loan_int_rate  loan_status  \\\n",
       "80            1           2      18000          12.98            0   \n",
       "82            0           1      28000          12.69            0   \n",
       "83            1           0      28000           8.90            0   \n",
       "84            0           0       2700           7.51            1   \n",
       "\n",
       "    cb_person_default_on_file  cb_person_cred_hist_length  \n",
       "80                          1                           3  \n",
       "82                          0                           3  \n",
       "83                          0                           2  \n",
       "84                          0                           4  "
      ]
     },
     "execution_count": 19,
     "metadata": {},
     "output_type": "execute_result"
    }
   ],
   "source": [
    "df[79:83]"
   ]
  },
  {
   "cell_type": "code",
   "execution_count": 20,
   "id": "34a2ccc9",
   "metadata": {},
   "outputs": [],
   "source": [
    "# X and y will be thought of as the entire data\n",
    "X = df.drop('loan_status', axis=1)\n",
    "y = df['loan_status']"
   ]
  },
  {
   "cell_type": "code",
   "execution_count": 21,
   "id": "bb89de1b",
   "metadata": {},
   "outputs": [],
   "source": [
    "# since we've removed some data from X, we need to pass on these updations to y as well,\n",
    "# as y doesn't know some of its corresponding X's have been deleted.\n",
    "y = y[X.index]"
   ]
  },
  {
   "cell_type": "code",
   "execution_count": 22,
   "id": "ada63cbc",
   "metadata": {},
   "outputs": [],
   "source": [
    "# X and y will be thought of as the entire data\n",
    "# X_test and y_test will be thought of as the out of sample data for model evaluation\n",
    "X_train, X_test, y_train, y_test = train_test_split(X, y,\n",
    "                                        random_state=0,  test_size=0.3, stratify=df['loan_status'],\n",
    "                                        shuffle=True)"
   ]
  },
  {
   "cell_type": "code",
   "execution_count": 115,
   "id": "57505333",
   "metadata": {
    "scrolled": true
   },
   "outputs": [
    {
     "data": {
      "text/plain": [
       "loan_status\n",
       "0    0.7818\n",
       "1    0.2182\n",
       "Name: proportion, dtype: float64"
      ]
     },
     "execution_count": 115,
     "metadata": {},
     "output_type": "execute_result"
    }
   ],
   "source": [
    "y.value_counts(normalize=True)"
   ]
  },
  {
   "cell_type": "code",
   "execution_count": 89,
   "id": "23630314",
   "metadata": {
    "scrolled": true
   },
   "outputs": [
    {
     "data": {
      "text/plain": [
       "loan_status\n",
       "0    0.781789\n",
       "1    0.218211\n",
       "Name: proportion, dtype: float64"
      ]
     },
     "execution_count": 89,
     "metadata": {},
     "output_type": "execute_result"
    }
   ],
   "source": [
    "y_train.value_counts(normalize=True)"
   ]
  },
  {
   "cell_type": "code",
   "execution_count": 23,
   "id": "9fcb3aa5",
   "metadata": {
    "scrolled": true
   },
   "outputs": [
    {
     "data": {
      "text/plain": [
       "loan_status\n",
       "0    0.781826\n",
       "1    0.218174\n",
       "Name: proportion, dtype: float64"
      ]
     },
     "execution_count": 23,
     "metadata": {},
     "output_type": "execute_result"
    }
   ],
   "source": [
    "y_test.value_counts(normalize=True)"
   ]
  },
  {
   "cell_type": "markdown",
   "id": "09a1eb4a",
   "metadata": {},
   "source": [
    "### SVM classifier"
   ]
  },
  {
   "cell_type": "code",
   "execution_count": 102,
   "id": "0311d132",
   "metadata": {},
   "outputs": [],
   "source": [
    "from sklearn.svm import SVC\n",
    "# thêm tham số probability để sử dụng được predict_proba: dự báo xs liên tục khác hàm predict cho kết quả nhị phân\n",
    "model_SVC = SVC(kernel = 'rbf', random_state = 4, probability=True) \n",
    "model_SVC.fit(X_train, y_train)\n",
    "\n",
    "svm_probs = model_SVC.predict_proba(X_test)"
   ]
  },
  {
   "cell_type": "markdown",
   "id": "584038e7",
   "metadata": {},
   "source": [
    "Probabilities for the positive outcome is kept. chỉ giữ lại xác suất dương"
   ]
  },
  {
   "cell_type": "code",
   "execution_count": 103,
   "id": "7ea8b94a",
   "metadata": {},
   "outputs": [
    {
     "data": {
      "text/plain": [
       "array([0.07050386, 0.14490748, 0.07351045, ..., 0.14153449, 0.15874214,\n",
       "       0.14054143])"
      ]
     },
     "execution_count": 103,
     "metadata": {},
     "output_type": "execute_result"
    }
   ],
   "source": [
    "svm_probs = svm_probs[:, 1]\n",
    "svm_probs"
   ]
  },
  {
   "cell_type": "markdown",
   "id": "81a214b2",
   "metadata": {},
   "source": [
    "### Logistic Classifier"
   ]
  },
  {
   "cell_type": "code",
   "execution_count": 104,
   "id": "505cea25",
   "metadata": {},
   "outputs": [],
   "source": [
    "from sklearn.linear_model import LogisticRegression\n",
    "model_logistic = LogisticRegression()\n",
    "model_logistic.fit(X_train, y_train)\n",
    "\n",
    "log_probs = model_logistic.predict_proba(X_test)\n",
    "#y_pred_logistic = model_logistic.decision_function(X_test)"
   ]
  },
  {
   "cell_type": "code",
   "execution_count": 105,
   "id": "0c3644b9",
   "metadata": {
    "scrolled": true
   },
   "outputs": [
    {
     "data": {
      "text/plain": [
       "array([[0.8345497 , 0.1654503 ],\n",
       "       [0.82812394, 0.17187606],\n",
       "       [0.85360184, 0.14639816],\n",
       "       ...,\n",
       "       [0.9868267 , 0.0131733 ],\n",
       "       [0.71421285, 0.28578715],\n",
       "       [0.70985071, 0.29014929]])"
      ]
     },
     "execution_count": 105,
     "metadata": {},
     "output_type": "execute_result"
    }
   ],
   "source": [
    "log_probs"
   ]
  },
  {
   "cell_type": "code",
   "execution_count": 106,
   "id": "86d81481",
   "metadata": {},
   "outputs": [
    {
     "data": {
      "text/plain": [
       "array([0.1654503 , 0.17187606, 0.14639816, ..., 0.0131733 , 0.28578715,\n",
       "       0.29014929])"
      ]
     },
     "execution_count": 106,
     "metadata": {},
     "output_type": "execute_result"
    }
   ],
   "source": [
    "log_probs = log_probs[:, 1]\n",
    "log_probs"
   ]
  },
  {
   "cell_type": "markdown",
   "id": "3b3a6e73",
   "metadata": {},
   "source": [
    "### Decision Tree Classifier"
   ]
  },
  {
   "cell_type": "code",
   "execution_count": 107,
   "id": "7f65851c",
   "metadata": {
    "scrolled": true
   },
   "outputs": [],
   "source": [
    "from sklearn.tree import DecisionTreeClassifier \n",
    "\n",
    "dt = DecisionTreeClassifier(max_depth=8)\n",
    "dt.fit(X_train, y_train)\n",
    "dt_probs = dt.predict_proba(X_test)"
   ]
  },
  {
   "cell_type": "code",
   "execution_count": 108,
   "id": "2e3fb82b",
   "metadata": {},
   "outputs": [
    {
     "data": {
      "text/plain": [
       "array([0.07321245, 0.00974314, 0.07321245, ..., 0.        , 0.33913043,\n",
       "       0.12663755])"
      ]
     },
     "execution_count": 108,
     "metadata": {},
     "output_type": "execute_result"
    }
   ],
   "source": [
    "dt_probs = dt_probs[:, 1]\n",
    "dt_probs"
   ]
  },
  {
   "cell_type": "markdown",
   "id": "7b8c5f73",
   "metadata": {},
   "source": [
    "### XGBoost Classifier"
   ]
  },
  {
   "cell_type": "code",
   "execution_count": 109,
   "id": "e5817c02",
   "metadata": {},
   "outputs": [],
   "source": [
    "import xgboost as xgb \n",
    "xgb_model = xgb.XGBClassifier(max_depth=5, learning_rate=0.1 ,n_jobs=-1).fit(X_train, y_train)"
   ]
  },
  {
   "cell_type": "code",
   "execution_count": 110,
   "id": "5af8309b",
   "metadata": {},
   "outputs": [],
   "source": [
    "xgb_probs = xgb_model.predict_proba(X_test)"
   ]
  },
  {
   "cell_type": "code",
   "execution_count": 111,
   "id": "e4d54cf9",
   "metadata": {},
   "outputs": [
    {
     "data": {
      "text/plain": [
       "array([0.04497518, 0.0111923 , 0.05403141, ..., 0.00381455, 0.30180198,\n",
       "       0.09677479], dtype=float32)"
      ]
     },
     "execution_count": 111,
     "metadata": {},
     "output_type": "execute_result"
    }
   ],
   "source": [
    "xgb_probs = xgb_probs[:, 1]\n",
    "xgb_probs"
   ]
  },
  {
   "cell_type": "markdown",
   "id": "1b85b4d3",
   "metadata": {},
   "source": [
    "### Build classification model for Random Forest và Naive Bayes"
   ]
  },
  {
   "cell_type": "code",
   "execution_count": 112,
   "id": "e29d6630",
   "metadata": {},
   "outputs": [],
   "source": [
    "from sklearn.ensemble import RandomForestClassifier\n",
    "from sklearn.naive_bayes import GaussianNB"
   ]
  },
  {
   "cell_type": "markdown",
   "id": "8375e36c",
   "metadata": {},
   "source": [
    "### Random Forest"
   ]
  },
  {
   "cell_type": "code",
   "execution_count": 113,
   "id": "fb99638f",
   "metadata": {},
   "outputs": [
    {
     "data": {
      "text/html": [
       "<style>#sk-container-id-3 {color: black;}#sk-container-id-3 pre{padding: 0;}#sk-container-id-3 div.sk-toggleable {background-color: white;}#sk-container-id-3 label.sk-toggleable__label {cursor: pointer;display: block;width: 100%;margin-bottom: 0;padding: 0.3em;box-sizing: border-box;text-align: center;}#sk-container-id-3 label.sk-toggleable__label-arrow:before {content: \"▸\";float: left;margin-right: 0.25em;color: #696969;}#sk-container-id-3 label.sk-toggleable__label-arrow:hover:before {color: black;}#sk-container-id-3 div.sk-estimator:hover label.sk-toggleable__label-arrow:before {color: black;}#sk-container-id-3 div.sk-toggleable__content {max-height: 0;max-width: 0;overflow: hidden;text-align: left;background-color: #f0f8ff;}#sk-container-id-3 div.sk-toggleable__content pre {margin: 0.2em;color: black;border-radius: 0.25em;background-color: #f0f8ff;}#sk-container-id-3 input.sk-toggleable__control:checked~div.sk-toggleable__content {max-height: 200px;max-width: 100%;overflow: auto;}#sk-container-id-3 input.sk-toggleable__control:checked~label.sk-toggleable__label-arrow:before {content: \"▾\";}#sk-container-id-3 div.sk-estimator input.sk-toggleable__control:checked~label.sk-toggleable__label {background-color: #d4ebff;}#sk-container-id-3 div.sk-label input.sk-toggleable__control:checked~label.sk-toggleable__label {background-color: #d4ebff;}#sk-container-id-3 input.sk-hidden--visually {border: 0;clip: rect(1px 1px 1px 1px);clip: rect(1px, 1px, 1px, 1px);height: 1px;margin: -1px;overflow: hidden;padding: 0;position: absolute;width: 1px;}#sk-container-id-3 div.sk-estimator {font-family: monospace;background-color: #f0f8ff;border: 1px dotted black;border-radius: 0.25em;box-sizing: border-box;margin-bottom: 0.5em;}#sk-container-id-3 div.sk-estimator:hover {background-color: #d4ebff;}#sk-container-id-3 div.sk-parallel-item::after {content: \"\";width: 100%;border-bottom: 1px solid gray;flex-grow: 1;}#sk-container-id-3 div.sk-label:hover label.sk-toggleable__label {background-color: #d4ebff;}#sk-container-id-3 div.sk-serial::before {content: \"\";position: absolute;border-left: 1px solid gray;box-sizing: border-box;top: 0;bottom: 0;left: 50%;z-index: 0;}#sk-container-id-3 div.sk-serial {display: flex;flex-direction: column;align-items: center;background-color: white;padding-right: 0.2em;padding-left: 0.2em;position: relative;}#sk-container-id-3 div.sk-item {position: relative;z-index: 1;}#sk-container-id-3 div.sk-parallel {display: flex;align-items: stretch;justify-content: center;background-color: white;position: relative;}#sk-container-id-3 div.sk-item::before, #sk-container-id-3 div.sk-parallel-item::before {content: \"\";position: absolute;border-left: 1px solid gray;box-sizing: border-box;top: 0;bottom: 0;left: 50%;z-index: -1;}#sk-container-id-3 div.sk-parallel-item {display: flex;flex-direction: column;z-index: 1;position: relative;background-color: white;}#sk-container-id-3 div.sk-parallel-item:first-child::after {align-self: flex-end;width: 50%;}#sk-container-id-3 div.sk-parallel-item:last-child::after {align-self: flex-start;width: 50%;}#sk-container-id-3 div.sk-parallel-item:only-child::after {width: 0;}#sk-container-id-3 div.sk-dashed-wrapped {border: 1px dashed gray;margin: 0 0.4em 0.5em 0.4em;box-sizing: border-box;padding-bottom: 0.4em;background-color: white;}#sk-container-id-3 div.sk-label label {font-family: monospace;font-weight: bold;display: inline-block;line-height: 1.2em;}#sk-container-id-3 div.sk-label-container {text-align: center;}#sk-container-id-3 div.sk-container {/* jupyter's `normalize.less` sets `[hidden] { display: none; }` but bootstrap.min.css set `[hidden] { display: none !important; }` so we also need the `!important` here to be able to override the default hidden behavior on the sphinx rendered scikit-learn.org. See: https://github.com/scikit-learn/scikit-learn/issues/21755 */display: inline-block !important;position: relative;}#sk-container-id-3 div.sk-text-repr-fallback {display: none;}</style><div id=\"sk-container-id-3\" class=\"sk-top-container\"><div class=\"sk-text-repr-fallback\"><pre>RandomForestClassifier(max_features=5, n_estimators=500)</pre><b>In a Jupyter environment, please rerun this cell to show the HTML representation or trust the notebook. <br />On GitHub, the HTML representation is unable to render, please try loading this page with nbviewer.org.</b></div><div class=\"sk-container\" hidden><div class=\"sk-item\"><div class=\"sk-estimator sk-toggleable\"><input class=\"sk-toggleable__control sk-hidden--visually\" id=\"sk-estimator-id-3\" type=\"checkbox\" checked><label for=\"sk-estimator-id-3\" class=\"sk-toggleable__label sk-toggleable__label-arrow\">RandomForestClassifier</label><div class=\"sk-toggleable__content\"><pre>RandomForestClassifier(max_features=5, n_estimators=500)</pre></div></div></div></div></div>"
      ],
      "text/plain": [
       "RandomForestClassifier(max_features=5, n_estimators=500)"
      ]
     },
     "execution_count": 113,
     "metadata": {},
     "output_type": "execute_result"
    }
   ],
   "source": [
    "rf = RandomForestClassifier(max_features=5, n_estimators=500)\n",
    "rf.fit(X_train, y_train)"
   ]
  },
  {
   "cell_type": "markdown",
   "id": "c9f2325a",
   "metadata": {},
   "source": [
    "### Naive Bayes"
   ]
  },
  {
   "cell_type": "code",
   "execution_count": 114,
   "id": "843ea4cb",
   "metadata": {},
   "outputs": [
    {
     "data": {
      "text/html": [
       "<style>#sk-container-id-4 {color: black;}#sk-container-id-4 pre{padding: 0;}#sk-container-id-4 div.sk-toggleable {background-color: white;}#sk-container-id-4 label.sk-toggleable__label {cursor: pointer;display: block;width: 100%;margin-bottom: 0;padding: 0.3em;box-sizing: border-box;text-align: center;}#sk-container-id-4 label.sk-toggleable__label-arrow:before {content: \"▸\";float: left;margin-right: 0.25em;color: #696969;}#sk-container-id-4 label.sk-toggleable__label-arrow:hover:before {color: black;}#sk-container-id-4 div.sk-estimator:hover label.sk-toggleable__label-arrow:before {color: black;}#sk-container-id-4 div.sk-toggleable__content {max-height: 0;max-width: 0;overflow: hidden;text-align: left;background-color: #f0f8ff;}#sk-container-id-4 div.sk-toggleable__content pre {margin: 0.2em;color: black;border-radius: 0.25em;background-color: #f0f8ff;}#sk-container-id-4 input.sk-toggleable__control:checked~div.sk-toggleable__content {max-height: 200px;max-width: 100%;overflow: auto;}#sk-container-id-4 input.sk-toggleable__control:checked~label.sk-toggleable__label-arrow:before {content: \"▾\";}#sk-container-id-4 div.sk-estimator input.sk-toggleable__control:checked~label.sk-toggleable__label {background-color: #d4ebff;}#sk-container-id-4 div.sk-label input.sk-toggleable__control:checked~label.sk-toggleable__label {background-color: #d4ebff;}#sk-container-id-4 input.sk-hidden--visually {border: 0;clip: rect(1px 1px 1px 1px);clip: rect(1px, 1px, 1px, 1px);height: 1px;margin: -1px;overflow: hidden;padding: 0;position: absolute;width: 1px;}#sk-container-id-4 div.sk-estimator {font-family: monospace;background-color: #f0f8ff;border: 1px dotted black;border-radius: 0.25em;box-sizing: border-box;margin-bottom: 0.5em;}#sk-container-id-4 div.sk-estimator:hover {background-color: #d4ebff;}#sk-container-id-4 div.sk-parallel-item::after {content: \"\";width: 100%;border-bottom: 1px solid gray;flex-grow: 1;}#sk-container-id-4 div.sk-label:hover label.sk-toggleable__label {background-color: #d4ebff;}#sk-container-id-4 div.sk-serial::before {content: \"\";position: absolute;border-left: 1px solid gray;box-sizing: border-box;top: 0;bottom: 0;left: 50%;z-index: 0;}#sk-container-id-4 div.sk-serial {display: flex;flex-direction: column;align-items: center;background-color: white;padding-right: 0.2em;padding-left: 0.2em;position: relative;}#sk-container-id-4 div.sk-item {position: relative;z-index: 1;}#sk-container-id-4 div.sk-parallel {display: flex;align-items: stretch;justify-content: center;background-color: white;position: relative;}#sk-container-id-4 div.sk-item::before, #sk-container-id-4 div.sk-parallel-item::before {content: \"\";position: absolute;border-left: 1px solid gray;box-sizing: border-box;top: 0;bottom: 0;left: 50%;z-index: -1;}#sk-container-id-4 div.sk-parallel-item {display: flex;flex-direction: column;z-index: 1;position: relative;background-color: white;}#sk-container-id-4 div.sk-parallel-item:first-child::after {align-self: flex-end;width: 50%;}#sk-container-id-4 div.sk-parallel-item:last-child::after {align-self: flex-start;width: 50%;}#sk-container-id-4 div.sk-parallel-item:only-child::after {width: 0;}#sk-container-id-4 div.sk-dashed-wrapped {border: 1px dashed gray;margin: 0 0.4em 0.5em 0.4em;box-sizing: border-box;padding-bottom: 0.4em;background-color: white;}#sk-container-id-4 div.sk-label label {font-family: monospace;font-weight: bold;display: inline-block;line-height: 1.2em;}#sk-container-id-4 div.sk-label-container {text-align: center;}#sk-container-id-4 div.sk-container {/* jupyter's `normalize.less` sets `[hidden] { display: none; }` but bootstrap.min.css set `[hidden] { display: none !important; }` so we also need the `!important` here to be able to override the default hidden behavior on the sphinx rendered scikit-learn.org. See: https://github.com/scikit-learn/scikit-learn/issues/21755 */display: inline-block !important;position: relative;}#sk-container-id-4 div.sk-text-repr-fallback {display: none;}</style><div id=\"sk-container-id-4\" class=\"sk-top-container\"><div class=\"sk-text-repr-fallback\"><pre>GaussianNB()</pre><b>In a Jupyter environment, please rerun this cell to show the HTML representation or trust the notebook. <br />On GitHub, the HTML representation is unable to render, please try loading this page with nbviewer.org.</b></div><div class=\"sk-container\" hidden><div class=\"sk-item\"><div class=\"sk-estimator sk-toggleable\"><input class=\"sk-toggleable__control sk-hidden--visually\" id=\"sk-estimator-id-4\" type=\"checkbox\" checked><label for=\"sk-estimator-id-4\" class=\"sk-toggleable__label sk-toggleable__label-arrow\">GaussianNB</label><div class=\"sk-toggleable__content\"><pre>GaussianNB()</pre></div></div></div></div></div>"
      ],
      "text/plain": [
       "GaussianNB()"
      ]
     },
     "execution_count": 114,
     "metadata": {},
     "output_type": "execute_result"
    }
   ],
   "source": [
    "nb = GaussianNB()\n",
    "nb.fit(X_train, y_train)"
   ]
  },
  {
   "cell_type": "markdown",
   "id": "08ab424a",
   "metadata": {},
   "source": [
    "#### Prediction probabilities"
   ]
  },
  {
   "cell_type": "code",
   "execution_count": 115,
   "id": "5c8a1366",
   "metadata": {},
   "outputs": [],
   "source": [
    "rand_probs = [0 for _ in range(len(y_test))]  #random chance 0.5\n",
    "rf_probs = rf.predict_proba(X_test)\n",
    "nb_probs = nb.predict_proba(X_test)"
   ]
  },
  {
   "cell_type": "markdown",
   "id": "f66bceaa",
   "metadata": {},
   "source": [
    "Probabilities for the positive outcome is kept. chỉ giữ lại xác suất dương"
   ]
  },
  {
   "cell_type": "code",
   "execution_count": 116,
   "id": "cdd5e4f1",
   "metadata": {},
   "outputs": [],
   "source": [
    "rf_probs = rf_probs[:, 1]\n",
    "nb_probs = nb_probs[:, 1]"
   ]
  },
  {
   "cell_type": "code",
   "execution_count": 117,
   "id": "f662080a",
   "metadata": {},
   "outputs": [
    {
     "data": {
      "text/plain": [
       "array([0.11 , 0.006, 0.15 , ..., 0.002, 0.212, 0.038])"
      ]
     },
     "execution_count": 117,
     "metadata": {},
     "output_type": "execute_result"
    }
   ],
   "source": [
    "rf_probs"
   ]
  },
  {
   "cell_type": "code",
   "execution_count": 118,
   "id": "16438fd0",
   "metadata": {},
   "outputs": [
    {
     "data": {
      "text/plain": [
       "array([0.13477793, 0.13293958, 0.04625206, ..., 0.01948307, 0.52189391,\n",
       "       0.19791207])"
      ]
     },
     "execution_count": 118,
     "metadata": {},
     "output_type": "execute_result"
    }
   ],
   "source": [
    "nb_probs"
   ]
  },
  {
   "cell_type": "markdown",
   "id": "666d2d3c",
   "metadata": {},
   "source": [
    "### Calculate AUROC\n",
    "ROC is the receiver operating characteristic AUROC is the area under the ROC curve"
   ]
  },
  {
   "cell_type": "code",
   "execution_count": 119,
   "id": "c12942ef",
   "metadata": {},
   "outputs": [],
   "source": [
    "from sklearn.metrics import roc_curve, roc_auc_score\n",
    "r_auc = roc_auc_score(y_test, r_probs)\n",
    "rf_auc = roc_auc_score(y_test, rf_probs)\n",
    "nb_auc = roc_auc_score(y_test, nb_probs)\n",
    "svm_auc = roc_auc_score(y_test, svm_probs)\n",
    "dt_auc = roc_auc_score(y_test, dt_probs)\n",
    "xgb_auc = roc_auc_score(y_test, xgb_probs)\n",
    "log_auc = roc_auc_score(y_test, log_probs)"
   ]
  },
  {
   "cell_type": "code",
   "execution_count": 120,
   "id": "34ccb4d9",
   "metadata": {},
   "outputs": [
    {
     "name": "stdout",
     "output_type": "stream",
     "text": [
      "Random (chance) Prediction: AUROC = 0.500\n",
      "Random Forest: AUROC = 0.931\n",
      "Naive Bayes: AUROC = 0.788\n",
      "SVM: AUROC = 0.706\n",
      "Decision Tree: AUROC = 0.900\n",
      "XGBoost: AUROC = 0.936\n",
      "Logistics: AUROC = 0.755\n"
     ]
    }
   ],
   "source": [
    "\n",
    "print('Random (chance) Prediction: AUROC = %.3f' % (r_auc))\n",
    "print('Random Forest: AUROC = %.3f' % (rf_auc))\n",
    "print('Naive Bayes: AUROC = %.3f' % (nb_auc))\n",
    "print('SVM: AUROC = %.3f' % (svm_auc))\n",
    "print('Decision Tree: AUROC = %.3f' % (dt_auc))\n",
    "print('XGBoost: AUROC = %.3f' % (xgb_auc))\n",
    "print('Logistics: AUROC = %.3f' % (log_auc))"
   ]
  },
  {
   "cell_type": "code",
   "execution_count": 122,
   "id": "8a4a5fbf",
   "metadata": {},
   "outputs": [],
   "source": [
    "r_fpr, r_tpr, threshold1 = roc_curve(y_test, r_probs)\n",
    "rf_fpr, rf_tpr, threshold2 = roc_curve(y_test, rf_probs)\n",
    "nb_fpr, nb_tpr, _ = roc_curve(y_test, nb_probs)\n",
    "svm_fpr, svm_tpr, _ = roc_curve(y_test, svm_probs)\n",
    "logistic_fpr, logistic_tpr, _ = roc_curve(y_test, dt_probs)\n",
    "xgb_fpr, xgb_tpr, _ = roc_curve(y_test,xgb_probs)\n",
    "dt_fpr, dt_tpr, _ = roc_curve(y_test,log_probs)"
   ]
  },
  {
   "cell_type": "code",
   "execution_count": 123,
   "id": "be92b23a",
   "metadata": {},
   "outputs": [
    {
     "data": {
      "text/plain": [
       "array([inf,  0.])"
      ]
     },
     "execution_count": 123,
     "metadata": {},
     "output_type": "execute_result"
    }
   ],
   "source": [
    "threshold1"
   ]
  },
  {
   "cell_type": "code",
   "execution_count": 124,
   "id": "111316ce",
   "metadata": {},
   "outputs": [
    {
     "data": {
      "text/plain": [
       "array([  inf, 1.   , 0.998, 0.996, 0.994, 0.992, 0.99 , 0.988, 0.986,\n",
       "       0.984, 0.982, 0.98 , 0.978, 0.976, 0.974, 0.972, 0.97 , 0.968,\n",
       "       0.966, 0.964, 0.962, 0.96 , 0.958, 0.956, 0.954, 0.952, 0.95 ,\n",
       "       0.948, 0.946, 0.944, 0.942, 0.94 , 0.938, 0.936, 0.934, 0.932,\n",
       "       0.93 , 0.928, 0.926, 0.924, 0.922, 0.92 , 0.918, 0.916, 0.914,\n",
       "       0.912, 0.91 , 0.908, 0.906, 0.902, 0.9  , 0.898, 0.896, 0.894,\n",
       "       0.892, 0.89 , 0.888, 0.886, 0.884, 0.88 , 0.878, 0.876, 0.874,\n",
       "       0.872, 0.87 , 0.868, 0.866, 0.864, 0.862, 0.86 , 0.858, 0.856,\n",
       "       0.854, 0.85 , 0.848, 0.846, 0.844, 0.842, 0.84 , 0.836, 0.834,\n",
       "       0.832, 0.828, 0.826, 0.824, 0.822, 0.82 , 0.816, 0.812, 0.81 ,\n",
       "       0.808, 0.806, 0.804, 0.802, 0.8  , 0.796, 0.794, 0.792, 0.79 ,\n",
       "       0.788, 0.786, 0.784, 0.782, 0.78 , 0.778, 0.772, 0.768, 0.766,\n",
       "       0.764, 0.762, 0.76 , 0.758, 0.754, 0.746, 0.744, 0.74 , 0.738,\n",
       "       0.736, 0.732, 0.73 , 0.726, 0.724, 0.722, 0.72 , 0.716, 0.714,\n",
       "       0.712, 0.71 , 0.708, 0.706, 0.702, 0.7  , 0.696, 0.692, 0.686,\n",
       "       0.684, 0.682, 0.68 , 0.678, 0.676, 0.672, 0.668, 0.666, 0.664,\n",
       "       0.662, 0.658, 0.656, 0.654, 0.652, 0.648, 0.644, 0.642, 0.64 ,\n",
       "       0.638, 0.636, 0.634, 0.632, 0.626, 0.624, 0.616, 0.612, 0.604,\n",
       "       0.602, 0.6  , 0.596, 0.594, 0.592, 0.59 , 0.586, 0.58 , 0.578,\n",
       "       0.576, 0.574, 0.572, 0.568, 0.562, 0.56 , 0.558, 0.556, 0.554,\n",
       "       0.552, 0.55 , 0.548, 0.546, 0.544, 0.54 , 0.538, 0.536, 0.534,\n",
       "       0.53 , 0.528, 0.526, 0.524, 0.522, 0.52 , 0.518, 0.516, 0.514,\n",
       "       0.512, 0.51 , 0.506, 0.5  , 0.498, 0.496, 0.494, 0.492, 0.49 ,\n",
       "       0.488, 0.486, 0.484, 0.482, 0.478, 0.476, 0.472, 0.47 , 0.468,\n",
       "       0.462, 0.46 , 0.458, 0.456, 0.454, 0.452, 0.45 , 0.448, 0.446,\n",
       "       0.444, 0.442, 0.44 , 0.438, 0.436, 0.434, 0.432, 0.43 , 0.428,\n",
       "       0.426, 0.424, 0.422, 0.42 , 0.418, 0.416, 0.414, 0.412, 0.41 ,\n",
       "       0.408, 0.406, 0.404, 0.402, 0.398, 0.396, 0.394, 0.392, 0.39 ,\n",
       "       0.388, 0.386, 0.384, 0.382, 0.38 , 0.378, 0.376, 0.372, 0.37 ,\n",
       "       0.368, 0.366, 0.364, 0.362, 0.36 , 0.358, 0.356, 0.354, 0.352,\n",
       "       0.35 , 0.348, 0.346, 0.342, 0.338, 0.336, 0.334, 0.33 , 0.328,\n",
       "       0.326, 0.324, 0.322, 0.32 , 0.318, 0.316, 0.314, 0.31 , 0.308,\n",
       "       0.306, 0.304, 0.302, 0.3  , 0.298, 0.296, 0.294, 0.292, 0.29 ,\n",
       "       0.288, 0.286, 0.284, 0.282, 0.28 , 0.278, 0.276, 0.274, 0.272,\n",
       "       0.27 , 0.268, 0.266, 0.264, 0.26 , 0.258, 0.256, 0.254, 0.25 ,\n",
       "       0.248, 0.246, 0.244, 0.242, 0.24 , 0.238, 0.236, 0.234, 0.232,\n",
       "       0.228, 0.226, 0.224, 0.222, 0.22 , 0.218, 0.216, 0.214, 0.212,\n",
       "       0.21 , 0.208, 0.206, 0.204, 0.202, 0.2  , 0.198, 0.196, 0.194,\n",
       "       0.192, 0.19 , 0.188, 0.186, 0.184, 0.182, 0.18 , 0.178, 0.176,\n",
       "       0.174, 0.172, 0.17 , 0.168, 0.166, 0.164, 0.162, 0.16 , 0.158,\n",
       "       0.156, 0.154, 0.152, 0.15 , 0.148, 0.146, 0.144, 0.142, 0.14 ,\n",
       "       0.138, 0.136, 0.134, 0.132, 0.13 , 0.128, 0.126, 0.124, 0.122,\n",
       "       0.12 , 0.118, 0.116, 0.114, 0.112, 0.11 , 0.108, 0.106, 0.104,\n",
       "       0.102, 0.1  , 0.098, 0.096, 0.094, 0.092, 0.09 , 0.088, 0.086,\n",
       "       0.084, 0.082, 0.08 , 0.078, 0.076, 0.074, 0.072, 0.07 , 0.068,\n",
       "       0.066, 0.064, 0.062, 0.06 , 0.058, 0.056, 0.054, 0.052, 0.05 ,\n",
       "       0.048, 0.046, 0.044, 0.042, 0.04 , 0.038, 0.036, 0.034, 0.032,\n",
       "       0.03 , 0.028, 0.026, 0.024, 0.022, 0.02 , 0.018, 0.016, 0.014,\n",
       "       0.012, 0.01 , 0.008, 0.006, 0.004, 0.002, 0.   ])"
      ]
     },
     "execution_count": 124,
     "metadata": {},
     "output_type": "execute_result"
    }
   ],
   "source": [
    "threshold2"
   ]
  },
  {
   "cell_type": "code",
   "execution_count": 127,
   "id": "db28c1e5",
   "metadata": {},
   "outputs": [
    {
     "data": {
      "image/png": "[encoded data removed]",
      "text/plain": [
       "<Figure size 640x480 with 1 Axes>"
      ]
     },
     "metadata": {},
     "output_type": "display_data"
    }
   ],
   "source": [
    "\n",
    "plt.plot(r_fpr, r_tpr, linestyle='--', label='Random prediction (AUROC = %0.3f)' % r_auc)\n",
    "plt.plot(rf_fpr, rf_tpr, marker='.', label='Random Forest (AUROC = %0.3f)' % rf_auc)\n",
    "plt.plot(nb_fpr, nb_tpr, marker='.', label='Naive Bayes (AUROC = %0.3f)' % nb_auc)\n",
    "plt.plot(svm_fpr, svm_tpr, linestyle='-', label='SVM (AUROC = %0.3f)' % auc_svm)\n",
    "plt.plot(logistic_fpr, logistic_tpr, marker='.', label='Logistic (AUROC = %0.3f)' % auc_logistic)\n",
    "plt.plot(xgb_fpr, xgb_tpr, linestyle='-.', label='xgb (AUROC = %0.3f)' % auc_xgb)\n",
    "plt.plot(dt_fpr, dt_tpr, linestyle='--', label='dt (AUROC = %0.3f)' % auc_dt)\n",
    "\n",
    "# Title\n",
    "plt.title('ROC Plot')\n",
    "# Axis labels\n",
    "plt.xlabel('False Positive Rate')\n",
    "plt.ylabel('True Positive Rate')\n",
    "# Show legend\n",
    "plt.legend() # \n",
    "# Show plot\n",
    "plt.show()"
   ]
  },
  {
   "cell_type": "code",
   "execution_count": null,
   "id": "35a627cc",
   "metadata": {},
   "outputs": [],
   "source": []
  },
  {
   "cell_type": "markdown",
   "id": "ef519a31",
   "metadata": {},
   "source": [
    "### SMV classier"
   ]
  },
  {
   "cell_type": "code",
   "execution_count": 128,
   "id": "2f59b513",
   "metadata": {},
   "outputs": [],
   "source": [
    "from sklearn import svm\n",
    "#from sklearn.smv import SVC\n",
    "#model_svc = smv.SVC(kernel = 'rbf', random_state =4).fit(X_train, y_train)\n",
    "y_pred_svm = model_SVC.decision_function(X_test) #to paint roc auc"
   ]
  },
  {
   "cell_type": "code",
   "execution_count": 129,
   "id": "9ac6c203",
   "metadata": {},
   "outputs": [
    {
     "name": "stdout",
     "output_type": "stream",
     "text": [
      "Accuracy of SVM classifier on training set: 0.81\n",
      "Accuracy of SVM classifier on test set: 0.81\n"
     ]
    }
   ],
   "source": [
    "print('Accuracy of SVM classifier on training set: {:.2f}' \n",
    "      .format(model_SVC.score(X_train, y_train))) \n",
    "\n",
    "print('Accuracy of SVM classifier on test set: {:.2f}'\n",
    "      .format(model_SVC.score(X_test, y_test)))"
   ]
  },
  {
   "cell_type": "code",
   "execution_count": 131,
   "id": "09225eef",
   "metadata": {},
   "outputs": [
    {
     "data": {
      "text/plain": [
       "array([[7537,  103],\n",
       "       [1763,  369]], dtype=int64)"
      ]
     },
     "execution_count": 131,
     "metadata": {},
     "output_type": "execute_result"
    }
   ],
   "source": [
    "from sklearn import metrics\n",
    "from sklearn.metrics import confusion_matrix\n",
    "y_pred = model_SVC.predict(X_test)\n",
    "cm = metrics.confusion_matrix(y_test, y_pred)\n",
    "cm"
   ]
  },
  {
   "cell_type": "code",
   "execution_count": 132,
   "id": "e07d4b05",
   "metadata": {},
   "outputs": [
    {
     "data": {
      "text/plain": [
       "(7537, 103, 1763, 369)"
      ]
     },
     "execution_count": 132,
     "metadata": {},
     "output_type": "execute_result"
    }
   ],
   "source": [
    "tn, fp, fn, tp = confusion_matrix(y_test, y_pred).ravel()\n",
    "tn, fp, fn, tp"
   ]
  },
  {
   "cell_type": "code",
   "execution_count": 133,
   "id": "e2c3fac0",
   "metadata": {},
   "outputs": [
    {
     "data": {
      "image/png": "[encoded data removed]",
      "text/plain": [
       "<Figure size 640x480 with 1 Axes>"
      ]
     },
     "metadata": {},
     "output_type": "display_data"
    }
   ],
   "source": [
    "sns.heatmap(cm, annot= True, fmt = '0.3f', linewidth = 0.5,\n",
    "           square = True, cbar = False)\n",
    "plt.ylabel('Actual Values')\n",
    "plt.xlabel('Predicted Values')\n",
    "plt.show()"
   ]
  },
  {
   "cell_type": "code",
   "execution_count": 134,
   "id": "da6548ba",
   "metadata": {},
   "outputs": [
    {
     "name": "stdout",
     "output_type": "stream",
     "text": [
      "              precision    recall  f1-score   support\n",
      "\n",
      "           0       0.81      0.99      0.89      7640\n",
      "           1       0.78      0.17      0.28      2132\n",
      "\n",
      "    accuracy                           0.81      9772\n",
      "   macro avg       0.80      0.58      0.59      9772\n",
      "weighted avg       0.80      0.81      0.76      9772\n",
      "\n"
     ]
    }
   ],
   "source": [
    "print(classification_report(y_test, y_pred))"
   ]
  },
  {
   "cell_type": "markdown",
   "id": "fd69281d",
   "metadata": {},
   "source": [
    "# Comparing Classifiers for Building Classification Models\n",
    "\n",
    "Chanin Nantasenamat\n",
    "\n",
    "<i>Data Professor YouTube channel, http://youtube.com/dataprofessor </i>\n",
    "\n",
    "In this Jupyter notebook, we will be comparing the performance of different classifiers for building classification models."
   ]
  },
  {
   "cell_type": "markdown",
   "id": "b8f02904",
   "metadata": {},
   "source": [
    "## 1. Make synthetic dataset"
   ]
  },
  {
   "cell_type": "code",
   "execution_count": 1,
   "id": "14c3d5f7",
   "metadata": {},
   "outputs": [],
   "source": [
    "from sklearn.datasets import make_classification"
   ]
  },
  {
   "cell_type": "markdown",
   "id": "aedf6ee0",
   "metadata": {},
   "source": [
    "## 1.1 Compact the dataset"
   ]
  },
  {
   "cell_type": "code",
   "execution_count": 2,
   "id": "2b7c0368",
   "metadata": {},
   "outputs": [
    {
     "ename": "NameError",
     "evalue": "name 'df' is not defined",
     "output_type": "error",
     "traceback": [
      "\u001b[1;31m---------------------------------------------------------------------------\u001b[0m",
      "\u001b[1;31mNameError\u001b[0m                                 Traceback (most recent call last)",
      "Cell \u001b[1;32mIn[2], line 2\u001b[0m\n\u001b[0;32m      1\u001b[0m \u001b[38;5;66;03m# X and y will be thought of as the entire data\u001b[39;00m\n\u001b[1;32m----> 2\u001b[0m X \u001b[38;5;241m=\u001b[39m \u001b[43mdf\u001b[49m\u001b[38;5;241m.\u001b[39mdrop(\u001b[38;5;124m'\u001b[39m\u001b[38;5;124mloan_status\u001b[39m\u001b[38;5;124m'\u001b[39m, axis\u001b[38;5;241m=\u001b[39m\u001b[38;5;241m1\u001b[39m)\n\u001b[0;32m      3\u001b[0m y \u001b[38;5;241m=\u001b[39m df[\u001b[38;5;124m'\u001b[39m\u001b[38;5;124mloan_status\u001b[39m\u001b[38;5;124m'\u001b[39m]\n",
      "\u001b[1;31mNameError\u001b[0m: name 'df' is not defined"
     ]
    }
   ],
   "source": [
    "# X and y will be thought of as the entire data\n",
    "X = df.drop('loan_status', axis=1)\n",
    "y = df['loan_status']"
   ]
  },
  {
   "cell_type": "code",
   "execution_count": null,
   "id": "1f0aebd7",
   "metadata": {},
   "outputs": [],
   "source": [
    "y = y[X.index]"
   ]
  },
  {
   "cell_type": "code",
   "execution_count": 25,
   "id": "410ad4cb",
   "metadata": {},
   "outputs": [],
   "source": [
    "X = X[:1000]\n",
    "y = y[:1000]"
   ]
  },
  {
   "cell_type": "code",
   "execution_count": 26,
   "id": "102a045f",
   "metadata": {
    "scrolled": true
   },
   "outputs": [
    {
     "data": {
      "text/html": [
       "<div>\n",
       "<style scoped>\n",
       "    .dataframe tbody tr th:only-of-type {\n",
       "        vertical-align: middle;\n",
       "    }\n",
       "\n",
       "    .dataframe tbody tr th {\n",
       "        vertical-align: top;\n",
       "    }\n",
       "\n",
       "    .dataframe thead th {\n",
       "        text-align: right;\n",
       "    }\n",
       "</style>\n",
       "<table border=\"1\" class=\"dataframe\">\n",
       "  <thead>\n",
       "    <tr style=\"text-align: right;\">\n",
       "      <th></th>\n",
       "      <th>person_age</th>\n",
       "      <th>person_income</th>\n",
       "      <th>person_home_ownership</th>\n",
       "      <th>person_emp_length</th>\n",
       "      <th>loan_intent</th>\n",
       "      <th>loan_grade</th>\n",
       "      <th>loan_amnt</th>\n",
       "      <th>loan_int_rate</th>\n",
       "      <th>cb_person_default_on_file</th>\n",
       "      <th>cb_person_cred_hist_length</th>\n",
       "    </tr>\n",
       "  </thead>\n",
       "  <tbody>\n",
       "    <tr>\n",
       "      <th>1</th>\n",
       "      <td>21</td>\n",
       "      <td>9600</td>\n",
       "      <td>2</td>\n",
       "      <td>5.0</td>\n",
       "      <td>1</td>\n",
       "      <td>1</td>\n",
       "      <td>1000</td>\n",
       "      <td>11.14</td>\n",
       "      <td>0</td>\n",
       "      <td>2</td>\n",
       "    </tr>\n",
       "    <tr>\n",
       "      <th>2</th>\n",
       "      <td>25</td>\n",
       "      <td>9600</td>\n",
       "      <td>0</td>\n",
       "      <td>1.0</td>\n",
       "      <td>3</td>\n",
       "      <td>2</td>\n",
       "      <td>5500</td>\n",
       "      <td>12.87</td>\n",
       "      <td>0</td>\n",
       "      <td>3</td>\n",
       "    </tr>\n",
       "    <tr>\n",
       "      <th>3</th>\n",
       "      <td>23</td>\n",
       "      <td>65500</td>\n",
       "      <td>3</td>\n",
       "      <td>4.0</td>\n",
       "      <td>3</td>\n",
       "      <td>2</td>\n",
       "      <td>35000</td>\n",
       "      <td>15.23</td>\n",
       "      <td>0</td>\n",
       "      <td>2</td>\n",
       "    </tr>\n",
       "    <tr>\n",
       "      <th>4</th>\n",
       "      <td>24</td>\n",
       "      <td>54400</td>\n",
       "      <td>3</td>\n",
       "      <td>8.0</td>\n",
       "      <td>3</td>\n",
       "      <td>2</td>\n",
       "      <td>35000</td>\n",
       "      <td>14.27</td>\n",
       "      <td>1</td>\n",
       "      <td>4</td>\n",
       "    </tr>\n",
       "    <tr>\n",
       "      <th>5</th>\n",
       "      <td>21</td>\n",
       "      <td>9900</td>\n",
       "      <td>2</td>\n",
       "      <td>2.0</td>\n",
       "      <td>5</td>\n",
       "      <td>0</td>\n",
       "      <td>2500</td>\n",
       "      <td>7.14</td>\n",
       "      <td>0</td>\n",
       "      <td>2</td>\n",
       "    </tr>\n",
       "    <tr>\n",
       "      <th>...</th>\n",
       "      <td>...</td>\n",
       "      <td>...</td>\n",
       "      <td>...</td>\n",
       "      <td>...</td>\n",
       "      <td>...</td>\n",
       "      <td>...</td>\n",
       "      <td>...</td>\n",
       "      <td>...</td>\n",
       "      <td>...</td>\n",
       "      <td>...</td>\n",
       "    </tr>\n",
       "    <tr>\n",
       "      <th>1001</th>\n",
       "      <td>24</td>\n",
       "      <td>56000</td>\n",
       "      <td>3</td>\n",
       "      <td>2.0</td>\n",
       "      <td>1</td>\n",
       "      <td>2</td>\n",
       "      <td>18000</td>\n",
       "      <td>13.48</td>\n",
       "      <td>0</td>\n",
       "      <td>3</td>\n",
       "    </tr>\n",
       "    <tr>\n",
       "      <th>1002</th>\n",
       "      <td>21</td>\n",
       "      <td>50000</td>\n",
       "      <td>3</td>\n",
       "      <td>2.0</td>\n",
       "      <td>1</td>\n",
       "      <td>3</td>\n",
       "      <td>18000</td>\n",
       "      <td>14.74</td>\n",
       "      <td>0</td>\n",
       "      <td>2</td>\n",
       "    </tr>\n",
       "    <tr>\n",
       "      <th>1003</th>\n",
       "      <td>25</td>\n",
       "      <td>58000</td>\n",
       "      <td>3</td>\n",
       "      <td>6.0</td>\n",
       "      <td>5</td>\n",
       "      <td>2</td>\n",
       "      <td>18000</td>\n",
       "      <td>7.51</td>\n",
       "      <td>0</td>\n",
       "      <td>4</td>\n",
       "    </tr>\n",
       "    <tr>\n",
       "      <th>1004</th>\n",
       "      <td>21</td>\n",
       "      <td>52240</td>\n",
       "      <td>3</td>\n",
       "      <td>5.0</td>\n",
       "      <td>3</td>\n",
       "      <td>4</td>\n",
       "      <td>18000</td>\n",
       "      <td>19.69</td>\n",
       "      <td>0</td>\n",
       "      <td>2</td>\n",
       "    </tr>\n",
       "    <tr>\n",
       "      <th>1005</th>\n",
       "      <td>26</td>\n",
       "      <td>53000</td>\n",
       "      <td>3</td>\n",
       "      <td>2.0</td>\n",
       "      <td>5</td>\n",
       "      <td>4</td>\n",
       "      <td>18000</td>\n",
       "      <td>17.19</td>\n",
       "      <td>1</td>\n",
       "      <td>3</td>\n",
       "    </tr>\n",
       "  </tbody>\n",
       "</table>\n",
       "<p>1000 rows × 10 columns</p>\n",
       "</div>"
      ],
      "text/plain": [
       "      person_age  person_income  person_home_ownership  person_emp_length  \\\n",
       "1             21           9600                      2                5.0   \n",
       "2             25           9600                      0                1.0   \n",
       "3             23          65500                      3                4.0   \n",
       "4             24          54400                      3                8.0   \n",
       "5             21           9900                      2                2.0   \n",
       "...          ...            ...                    ...                ...   \n",
       "1001          24          56000                      3                2.0   \n",
       "1002          21          50000                      3                2.0   \n",
       "1003          25          58000                      3                6.0   \n",
       "1004          21          52240                      3                5.0   \n",
       "1005          26          53000                      3                2.0   \n",
       "\n",
       "      loan_intent  loan_grade  loan_amnt  loan_int_rate  \\\n",
       "1               1           1       1000          11.14   \n",
       "2               3           2       5500          12.87   \n",
       "3               3           2      35000          15.23   \n",
       "4               3           2      35000          14.27   \n",
       "5               5           0       2500           7.14   \n",
       "...           ...         ...        ...            ...   \n",
       "1001            1           2      18000          13.48   \n",
       "1002            1           3      18000          14.74   \n",
       "1003            5           2      18000           7.51   \n",
       "1004            3           4      18000          19.69   \n",
       "1005            5           4      18000          17.19   \n",
       "\n",
       "      cb_person_default_on_file  cb_person_cred_hist_length  \n",
       "1                             0                           2  \n",
       "2                             0                           3  \n",
       "3                             0                           2  \n",
       "4                             1                           4  \n",
       "5                             0                           2  \n",
       "...                         ...                         ...  \n",
       "1001                          0                           3  \n",
       "1002                          0                           2  \n",
       "1003                          0                           4  \n",
       "1004                          0                           2  \n",
       "1005                          1                           3  \n",
       "\n",
       "[1000 rows x 10 columns]"
      ]
     },
     "execution_count": 26,
     "metadata": {},
     "output_type": "execute_result"
    }
   ],
   "source": [
    "X"
   ]
  },
  {
   "cell_type": "code",
   "execution_count": 27,
   "id": "f35a1d02",
   "metadata": {},
   "outputs": [
    {
     "data": {
      "text/plain": [
       "1       0\n",
       "2       1\n",
       "3       1\n",
       "4       1\n",
       "5       1\n",
       "       ..\n",
       "1001    1\n",
       "1002    1\n",
       "1003    1\n",
       "1004    1\n",
       "1005    1\n",
       "Name: loan_status, Length: 1000, dtype: int64"
      ]
     },
     "execution_count": 27,
     "metadata": {},
     "output_type": "execute_result"
    }
   ],
   "source": [
    "y"
   ]
  },
  {
   "cell_type": "markdown",
   "id": "7b88ca5f",
   "metadata": {},
   "source": [
    "## 2. Data split (80/20 ratio)"
   ]
  },
  {
   "cell_type": "code",
   "execution_count": 28,
   "id": "e5099f25",
   "metadata": {},
   "outputs": [],
   "source": [
    "from sklearn.model_selection import train_test_split"
   ]
  },
  {
   "cell_type": "code",
   "execution_count": 29,
   "id": "d9fda7f5",
   "metadata": {},
   "outputs": [],
   "source": [
    "X_train, X_test, y_train, y_test = train_test_split(X, y, test_size=0.2)"
   ]
  },
  {
   "cell_type": "markdown",
   "id": "c40acd1d",
   "metadata": {},
   "source": [
    "### 2.3. Let's examine the data dimension"
   ]
  },
  {
   "cell_type": "code",
   "execution_count": 30,
   "id": "4ce49636",
   "metadata": {},
   "outputs": [
    {
     "data": {
      "text/plain": [
       "((800, 10), (800,))"
      ]
     },
     "execution_count": 30,
     "metadata": {},
     "output_type": "execute_result"
    }
   ],
   "source": [
    "X_train.shape, y_train.shape"
   ]
  },
  {
   "cell_type": "code",
   "execution_count": 31,
   "id": "99badb03",
   "metadata": {},
   "outputs": [
    {
     "data": {
      "text/plain": [
       "((200, 10), (200,))"
      ]
     },
     "execution_count": 31,
     "metadata": {},
     "output_type": "execute_result"
    }
   ],
   "source": [
    "X_test.shape, y_test.shape"
   ]
  },
  {
   "cell_type": "markdown",
   "id": "534ca6e3",
   "metadata": {},
   "source": [
    "## 3. Build Classification Models\n",
    "\n",
    "Modified from: https://scikit-learn.org/stable/auto_examples/classification/plot_classifier_comparison.html"
   ]
  },
  {
   "cell_type": "markdown",
   "id": "8d81465c",
   "metadata": {},
   "source": [
    "### 3.1. Import modules"
   ]
  },
  {
   "cell_type": "code",
   "execution_count": 32,
   "id": "e8031e23",
   "metadata": {},
   "outputs": [],
   "source": [
    "import pandas as pd\n",
    "\n",
    "import xgboost as xgb \n",
    "from sklearn.neural_network import MLPClassifier\n",
    "from sklearn.neighbors import KNeighborsClassifier\n",
    "from sklearn.svm import SVC\n",
    "from sklearn.gaussian_process import GaussianProcessClassifier\n",
    "from sklearn.ensemble import GradientBoostingClassifier\n",
    "from sklearn.gaussian_process.kernels import RBF\n",
    "from sklearn.tree import DecisionTreeClassifier\n",
    "from sklearn.ensemble import ExtraTreesClassifier\n",
    "from sklearn.ensemble import RandomForestClassifier, AdaBoostClassifier\n",
    "from sklearn.naive_bayes import GaussianNB\n",
    "from sklearn.discriminant_analysis import QuadraticDiscriminantAnalysis\n",
    "from sklearn.linear_model import SGDClassifier\n",
    "from sklearn.linear_model import LinearRegression\n",
    "from sklearn.linear_model import LogisticRegression"
   ]
  },
  {
   "cell_type": "markdown",
   "id": "072a68ab",
   "metadata": {},
   "source": [
    "### 3.2. Defining learning classifiers"
   ]
  },
  {
   "cell_type": "markdown",
   "id": "0800db58",
   "metadata": {},
   "source": [
    "Apply usually models: SMV, Decision_Tree, LogisticRegression, XGBoost to analyze risk of default."
   ]
  },
  {
   "cell_type": "code",
   "execution_count": 33,
   "id": "773365d7",
   "metadata": {},
   "outputs": [],
   "source": [
    "names = [\"Linear_SVM\", \"Polynomial_SVM\", \"RBF_SVM\", \"Decision_Tree\", \"LogisticRegression\", \"XGBoost\"]\n",
    "\n",
    "classifiers = [\n",
    "    SVC(kernel=\"linear\", C=0.025),\n",
    "    SVC(kernel=\"poly\", degree=3, C=0.025),\n",
    "    SVC(kernel=\"rbf\", C=1, gamma=2),\n",
    "    DecisionTreeClassifier(max_depth=8),\n",
    "    LogisticRegression(), \n",
    "    xgb.XGBClassifier(max_depth=5, learning_rate=0.1 ,n_jobs=-1)]"
   ]
  },
  {
   "cell_type": "markdown",
   "id": "ca23659b",
   "metadata": {},
   "source": [
    "### 3.3. Build Model, Apply Model on Test Data & Record Accuracy Scores"
   ]
  },
  {
   "cell_type": "code",
   "execution_count": 34,
   "id": "82e6575f",
   "metadata": {},
   "outputs": [],
   "source": [
    "scores = []\n",
    "for name, clf in zip(names, classifiers):\n",
    "    clf.fit(X_train, y_train)\n",
    "    score = clf.score(X_test, y_test)\n",
    "    scores.append(score)"
   ]
  },
  {
   "cell_type": "code",
   "execution_count": 35,
   "id": "e23ea401",
   "metadata": {},
   "outputs": [
    {
     "data": {
      "text/plain": [
       "[0.82, 0.675, 0.545, 0.915, 0.805, 0.935]"
      ]
     },
     "execution_count": 35,
     "metadata": {},
     "output_type": "execute_result"
    }
   ],
   "source": [
    "scores"
   ]
  },
  {
   "cell_type": "markdown",
   "id": "68f4bfd6",
   "metadata": {},
   "source": [
    "## 4. Analysis of Model Performance"
   ]
  },
  {
   "cell_type": "markdown",
   "id": "2786aad5",
   "metadata": {},
   "source": [
    "### 4.2. Create data frame of *model performance*"
   ]
  },
  {
   "cell_type": "code",
   "execution_count": 36,
   "id": "7f1a5399",
   "metadata": {
    "scrolled": true
   },
   "outputs": [
    {
     "data": {
      "text/html": [
       "<div>\n",
       "<style scoped>\n",
       "    .dataframe tbody tr th:only-of-type {\n",
       "        vertical-align: middle;\n",
       "    }\n",
       "\n",
       "    .dataframe tbody tr th {\n",
       "        vertical-align: top;\n",
       "    }\n",
       "\n",
       "    .dataframe thead th {\n",
       "        text-align: right;\n",
       "    }\n",
       "</style>\n",
       "<table border=\"1\" class=\"dataframe\">\n",
       "  <thead>\n",
       "    <tr style=\"text-align: right;\">\n",
       "      <th></th>\n",
       "      <th>name</th>\n",
       "      <th>score</th>\n",
       "    </tr>\n",
       "  </thead>\n",
       "  <tbody>\n",
       "    <tr>\n",
       "      <th>0</th>\n",
       "      <td>Linear_SVM</td>\n",
       "      <td>0.820</td>\n",
       "    </tr>\n",
       "    <tr>\n",
       "      <th>1</th>\n",
       "      <td>Polynomial_SVM</td>\n",
       "      <td>0.675</td>\n",
       "    </tr>\n",
       "    <tr>\n",
       "      <th>2</th>\n",
       "      <td>RBF_SVM</td>\n",
       "      <td>0.545</td>\n",
       "    </tr>\n",
       "    <tr>\n",
       "      <th>3</th>\n",
       "      <td>Decision_Tree</td>\n",
       "      <td>0.915</td>\n",
       "    </tr>\n",
       "    <tr>\n",
       "      <th>4</th>\n",
       "      <td>LogisticRegression</td>\n",
       "      <td>0.805</td>\n",
       "    </tr>\n",
       "    <tr>\n",
       "      <th>5</th>\n",
       "      <td>XGBoost</td>\n",
       "      <td>0.935</td>\n",
       "    </tr>\n",
       "  </tbody>\n",
       "</table>\n",
       "</div>"
      ],
      "text/plain": [
       "                 name  score\n",
       "0          Linear_SVM  0.820\n",
       "1      Polynomial_SVM  0.675\n",
       "2             RBF_SVM  0.545\n",
       "3       Decision_Tree  0.915\n",
       "4  LogisticRegression  0.805\n",
       "5             XGBoost  0.935"
      ]
     },
     "execution_count": 36,
     "metadata": {},
     "output_type": "execute_result"
    }
   ],
   "source": [
    "import pandas as pd\n",
    "import seaborn as sns\n",
    "df = pd.DataFrame()\n",
    "df['name'] = names\n",
    "df['score'] = scores\n",
    "df"
   ]
  },
  {
   "cell_type": "markdown",
   "id": "82cee25f",
   "metadata": {},
   "source": [
    "### 4.3. Adding colors to the data frame"
   ]
  },
  {
   "cell_type": "code",
   "execution_count": 37,
   "id": "2fec1d7d",
   "metadata": {},
   "outputs": [
    {
     "data": {
      "text/html": [
       "<style type=\"text/css\">\n",
       "#T_4ef1c_row0_col1 {\n",
       "  background-color: #45a245;\n",
       "  color: #f1f1f1;\n",
       "}\n",
       "#T_4ef1c_row1_col1 {\n",
       "  background-color: #9ccd9c;\n",
       "  color: #000000;\n",
       "}\n",
       "#T_4ef1c_row2_col1 {\n",
       "  background-color: #ebf3eb;\n",
       "  color: #000000;\n",
       "}\n",
       "#T_4ef1c_row3_col1 {\n",
       "  background-color: #0c860c;\n",
       "  color: #f1f1f1;\n",
       "}\n",
       "#T_4ef1c_row4_col1 {\n",
       "  background-color: #4ea64e;\n",
       "  color: #f1f1f1;\n",
       "}\n",
       "#T_4ef1c_row5_col1 {\n",
       "  background-color: #008000;\n",
       "  color: #f1f1f1;\n",
       "}\n",
       "</style>\n",
       "<table id=\"T_4ef1c\">\n",
       "  <thead>\n",
       "    <tr>\n",
       "      <th class=\"blank level0\" >&nbsp;</th>\n",
       "      <th id=\"T_4ef1c_level0_col0\" class=\"col_heading level0 col0\" >name</th>\n",
       "      <th id=\"T_4ef1c_level0_col1\" class=\"col_heading level0 col1\" >score</th>\n",
       "    </tr>\n",
       "  </thead>\n",
       "  <tbody>\n",
       "    <tr>\n",
       "      <th id=\"T_4ef1c_level0_row0\" class=\"row_heading level0 row0\" >0</th>\n",
       "      <td id=\"T_4ef1c_row0_col0\" class=\"data row0 col0\" >Linear_SVM</td>\n",
       "      <td id=\"T_4ef1c_row0_col1\" class=\"data row0 col1\" >0.820000</td>\n",
       "    </tr>\n",
       "    <tr>\n",
       "      <th id=\"T_4ef1c_level0_row1\" class=\"row_heading level0 row1\" >1</th>\n",
       "      <td id=\"T_4ef1c_row1_col0\" class=\"data row1 col0\" >Polynomial_SVM</td>\n",
       "      <td id=\"T_4ef1c_row1_col1\" class=\"data row1 col1\" >0.675000</td>\n",
       "    </tr>\n",
       "    <tr>\n",
       "      <th id=\"T_4ef1c_level0_row2\" class=\"row_heading level0 row2\" >2</th>\n",
       "      <td id=\"T_4ef1c_row2_col0\" class=\"data row2 col0\" >RBF_SVM</td>\n",
       "      <td id=\"T_4ef1c_row2_col1\" class=\"data row2 col1\" >0.545000</td>\n",
       "    </tr>\n",
       "    <tr>\n",
       "      <th id=\"T_4ef1c_level0_row3\" class=\"row_heading level0 row3\" >3</th>\n",
       "      <td id=\"T_4ef1c_row3_col0\" class=\"data row3 col0\" >Decision_Tree</td>\n",
       "      <td id=\"T_4ef1c_row3_col1\" class=\"data row3 col1\" >0.915000</td>\n",
       "    </tr>\n",
       "    <tr>\n",
       "      <th id=\"T_4ef1c_level0_row4\" class=\"row_heading level0 row4\" >4</th>\n",
       "      <td id=\"T_4ef1c_row4_col0\" class=\"data row4 col0\" >LogisticRegression</td>\n",
       "      <td id=\"T_4ef1c_row4_col1\" class=\"data row4 col1\" >0.805000</td>\n",
       "    </tr>\n",
       "    <tr>\n",
       "      <th id=\"T_4ef1c_level0_row5\" class=\"row_heading level0 row5\" >5</th>\n",
       "      <td id=\"T_4ef1c_row5_col0\" class=\"data row5 col0\" >XGBoost</td>\n",
       "      <td id=\"T_4ef1c_row5_col1\" class=\"data row5 col1\" >0.935000</td>\n",
       "    </tr>\n",
       "  </tbody>\n",
       "</table>\n"
      ],
      "text/plain": [
       "<pandas.io.formats.style.Styler at 0x209379c7390>"
      ]
     },
     "execution_count": 37,
     "metadata": {},
     "output_type": "execute_result"
    }
   ],
   "source": [
    "#https://pandas.pydata.org/pandas-docs/stable/user_guide/style.html\n",
    "\n",
    "cm = sns.light_palette(\"green\", as_cmap=True)\n",
    "s = df.style.background_gradient(cmap=cm)\n",
    "s"
   ]
  },
  {
   "cell_type": "markdown",
   "id": "786cb97c",
   "metadata": {},
   "source": [
    "### 4.4. Bar plot of model performance"
   ]
  },
  {
   "cell_type": "code",
   "execution_count": 39,
   "id": "9fa6b9d5",
   "metadata": {},
   "outputs": [
    {
     "data": {
      "image/png": "[encoded data removed]",
      "text/plain": [
       "<Figure size 640x480 with 1 Axes>"
      ]
     },
     "metadata": {},
     "output_type": "display_data"
    }
   ],
   "source": [
    "sns.set(style=\"whitegrid\")\n",
    "ax = sns.barplot(y=\"name\", x=\"score\", data=df)"
   ]
  },
  {
   "cell_type": "code",
   "execution_count": 40,
   "id": "861da74f",
   "metadata": {},
   "outputs": [],
   "source": [
    "predict = []\n",
    "\n",
    "tn1 = []\n",
    "fp1 = []\n",
    "fn1 = []\n",
    "tp1 = []\n",
    "for name, clf in zip(names, classifiers):\n",
    "    clf.fit(X_train, y_train)\n",
    "    y_pred = clf.predict(X_test)\n",
    "    tn, fp, fn, tp = confusion_matrix(y_test, y_pred).ravel()\n",
    "    tn1.append(tn)\n",
    "    fp1.append(fp)\n",
    "    fn1.append(fn)\n",
    "    tp1.append(tp)"
   ]
  },
  {
   "cell_type": "code",
   "execution_count": 54,
   "id": "ff80cc9c",
   "metadata": {
    "scrolled": false
   },
   "outputs": [
    {
     "data": {
      "text/html": [
       "<div>\n",
       "<style scoped>\n",
       "    .dataframe tbody tr th:only-of-type {\n",
       "        vertical-align: middle;\n",
       "    }\n",
       "\n",
       "    .dataframe tbody tr th {\n",
       "        vertical-align: top;\n",
       "    }\n",
       "\n",
       "    .dataframe thead th {\n",
       "        text-align: right;\n",
       "    }\n",
       "</style>\n",
       "<table border=\"1\" class=\"dataframe\">\n",
       "  <thead>\n",
       "    <tr style=\"text-align: right;\">\n",
       "      <th></th>\n",
       "      <th>name</th>\n",
       "      <th>score</th>\n",
       "      <th>tn</th>\n",
       "      <th>fp</th>\n",
       "      <th>fn</th>\n",
       "      <th>tp</th>\n",
       "    </tr>\n",
       "  </thead>\n",
       "  <tbody>\n",
       "    <tr>\n",
       "      <th>3</th>\n",
       "      <td>Decision_Tree</td>\n",
       "      <td>0.915</td>\n",
       "      <td>85</td>\n",
       "      <td>6</td>\n",
       "      <td>10</td>\n",
       "      <td>99</td>\n",
       "    </tr>\n",
       "    <tr>\n",
       "      <th>5</th>\n",
       "      <td>XGBoost</td>\n",
       "      <td>0.935</td>\n",
       "      <td>86</td>\n",
       "      <td>5</td>\n",
       "      <td>8</td>\n",
       "      <td>101</td>\n",
       "    </tr>\n",
       "  </tbody>\n",
       "</table>\n",
       "</div>"
      ],
      "text/plain": [
       "            name  score  tn  fp  fn   tp\n",
       "3  Decision_Tree  0.915  85   6  10   99\n",
       "5        XGBoost  0.935  86   5   8  101"
      ]
     },
     "execution_count": 54,
     "metadata": {},
     "output_type": "execute_result"
    }
   ],
   "source": [
    "df = pd.DataFrame()\n",
    "df['name'] = names\n",
    "df['score'] = scores\n",
    "df['tn'] = tn1\n",
    "df['fp'] = fp1\n",
    "df['fn'] = fn1\n",
    "df['tp'] = tp1\n",
    "\n",
    "#tn, fp, fn, tp\n",
    "df = df[df['score'] > 0.85] \n",
    "df"
   ]
  },
  {
   "cell_type": "code",
   "execution_count": 55,
   "id": "69149cae",
   "metadata": {
    "scrolled": true
   },
   "outputs": [
    {
     "data": {
      "image/png": "[encoded data removed]",
      "text/plain": [
       "<Figure size 640x480 with 1 Axes>"
      ]
     },
     "metadata": {},
     "output_type": "display_data"
    }
   ],
   "source": [
    "df[['tn', 'fp', 'fn','tp']].plot(kind='bar');"
   ]
  },
  {
   "cell_type": "markdown",
   "id": "9096b7b9",
   "metadata": {},
   "source": [
    "### We choose XGBoost model"
   ]
  },
  {
   "cell_type": "code",
   "execution_count": 49,
   "id": "8a4cf7d9",
   "metadata": {
    "scrolled": true
   },
   "outputs": [
    {
     "data": {
      "image/png": "[encoded data removed]",
      "text/plain": [
       "<Figure size 640x480 with 1 Axes>"
      ]
     },
     "metadata": {},
     "output_type": "display_data"
    }
   ],
   "source": [
    "sns.heatmap([[86, 5],[8,101]], annot= True, fmt = '0.3f', linewidth = 0.5,\n",
    "           square = True, cbar = False)\n",
    "plt.ylabel('Actual Values')\n",
    "plt.xlabel('Predicted Values')\n",
    "plt.title('XGBoost model')\n",
    "plt.show()"
   ]
  },
  {
   "cell_type": "markdown",
   "id": "a72c7ce5",
   "metadata": {},
   "source": [
    "names = [\"Linear_SVM\", \"Polynomial_SVM\", \"RBF_SVM\", \"Decision_Tree\", \"LogisticRegression\", \"XGBoost\"]"
   ]
  },
  {
   "cell_type": "code",
   "execution_count": 63,
   "id": "c9ebee62",
   "metadata": {
    "scrolled": true
   },
   "outputs": [
    {
     "name": "stdout",
     "output_type": "stream",
     "text": [
      "              precision    recall  f1-score   support\n",
      "\n",
      "           0       0.82      0.77      0.80        91\n",
      "           1       0.82      0.86      0.84       109\n",
      "\n",
      "    accuracy                           0.82       200\n",
      "   macro avg       0.82      0.82      0.82       200\n",
      "weighted avg       0.82      0.82      0.82       200\n",
      "\n",
      "              precision    recall  f1-score   support\n",
      "\n",
      "           0       0.86      0.34      0.49        91\n",
      "           1       0.63      0.95      0.76       109\n",
      "\n",
      "    accuracy                           0.68       200\n",
      "   macro avg       0.75      0.65      0.63       200\n",
      "weighted avg       0.74      0.68      0.64       200\n",
      "\n",
      "              precision    recall  f1-score   support\n",
      "\n",
      "           0       0.00      0.00      0.00        91\n",
      "           1       0.55      1.00      0.71       109\n",
      "\n",
      "    accuracy                           0.55       200\n",
      "   macro avg       0.27      0.50      0.35       200\n",
      "weighted avg       0.30      0.55      0.38       200\n",
      "\n",
      "              precision    recall  f1-score   support\n",
      "\n",
      "           0       0.89      0.95      0.91        91\n",
      "           1       0.95      0.90      0.92       109\n",
      "\n",
      "    accuracy                           0.92       200\n",
      "   macro avg       0.92      0.92      0.92       200\n",
      "weighted avg       0.92      0.92      0.92       200\n",
      "\n",
      "              precision    recall  f1-score   support\n",
      "\n",
      "           0       0.85      0.69      0.76        91\n",
      "           1       0.78      0.90      0.83       109\n",
      "\n",
      "    accuracy                           0.81       200\n",
      "   macro avg       0.81      0.80      0.80       200\n",
      "weighted avg       0.81      0.81      0.80       200\n",
      "\n",
      "              precision    recall  f1-score   support\n",
      "\n",
      "           0       0.91      0.95      0.93        91\n",
      "           1       0.95      0.93      0.94       109\n",
      "\n",
      "    accuracy                           0.94       200\n",
      "   macro avg       0.93      0.94      0.93       200\n",
      "weighted avg       0.94      0.94      0.94       200\n",
      "\n"
     ]
    },
    {
     "name": "stderr",
     "output_type": "stream",
     "text": [
      "C:\\Users\\Admin\\AppData\\Local\\Programs\\Python\\Python311\\Lib\\site-packages\\sklearn\\metrics\\_classification.py:1469: UndefinedMetricWarning: Precision and F-score are ill-defined and being set to 0.0 in labels with no predicted samples. Use `zero_division` parameter to control this behavior.\n",
      "  _warn_prf(average, modifier, msg_start, len(result))\n",
      "C:\\Users\\Admin\\AppData\\Local\\Programs\\Python\\Python311\\Lib\\site-packages\\sklearn\\metrics\\_classification.py:1469: UndefinedMetricWarning: Precision and F-score are ill-defined and being set to 0.0 in labels with no predicted samples. Use `zero_division` parameter to control this behavior.\n",
      "  _warn_prf(average, modifier, msg_start, len(result))\n",
      "C:\\Users\\Admin\\AppData\\Local\\Programs\\Python\\Python311\\Lib\\site-packages\\sklearn\\metrics\\_classification.py:1469: UndefinedMetricWarning: Precision and F-score are ill-defined and being set to 0.0 in labels with no predicted samples. Use `zero_division` parameter to control this behavior.\n",
      "  _warn_prf(average, modifier, msg_start, len(result))\n"
     ]
    }
   ],
   "source": [
    "from sklearn.metrics import confusion_matrix, confusion_matrix, classification_report\n",
    "\n",
    "for name, clf in zip(names, classifiers):\n",
    "    clf.fit(X_train, y_train)\n",
    "    y_pred = clf.predict(X_test)\n",
    "    print(classification_report(y_test, y_pred))\n"
   ]
  },
  {
   "cell_type": "markdown",
   "id": "120ef92e",
   "metadata": {},
   "source": [
    "### paint roc for these models"
   ]
  },
  {
   "cell_type": "code",
   "execution_count": 22,
   "id": "3b629083",
   "metadata": {},
   "outputs": [],
   "source": [
    "X = X[:1000]\n",
    "y = y[:1000]"
   ]
  },
  {
   "cell_type": "code",
   "execution_count": 26,
   "id": "49b3aced",
   "metadata": {},
   "outputs": [],
   "source": [
    "X_train, X_test, y_train, y_test = train_test_split(X, y,\n",
    "                                        random_state=0,  test_size=0.3, shuffle=True)"
   ]
  },
  {
   "cell_type": "code",
   "execution_count": 27,
   "id": "dadf992b",
   "metadata": {},
   "outputs": [],
   "source": [
    "names = [\"Linear_SVM\", \"RBF_SVM\",\"Polynomial_SVM\", \"Decision_Tree\", \"LogisticRegression\", \"XGBoost\"]\n",
    "\n",
    "classifiers = [\n",
    "    SVC(kernel=\"poly\", degree=3, C=0.025, probability=True),\n",
    "    DecisionTreeClassifier(max_depth=8),\n",
    "    LogisticRegression(), \n",
    "    xgb.XGBClassifier(max_depth=5, learning_rate=0.1 ,n_jobs=-1)]"
   ]
  },
  {
   "cell_type": "code",
   "execution_count": 31,
   "id": "89cefbf9",
   "metadata": {},
   "outputs": [
    {
     "data": {
      "text/html": [
       "<div>\n",
       "<style scoped>\n",
       "    .dataframe tbody tr th:only-of-type {\n",
       "        vertical-align: middle;\n",
       "    }\n",
       "\n",
       "    .dataframe tbody tr th {\n",
       "        vertical-align: top;\n",
       "    }\n",
       "\n",
       "    .dataframe thead th {\n",
       "        text-align: right;\n",
       "    }\n",
       "</style>\n",
       "<table border=\"1\" class=\"dataframe\">\n",
       "  <thead>\n",
       "    <tr style=\"text-align: right;\">\n",
       "      <th></th>\n",
       "      <th>person_age</th>\n",
       "      <th>person_income</th>\n",
       "      <th>person_home_ownership</th>\n",
       "      <th>person_emp_length</th>\n",
       "      <th>loan_intent</th>\n",
       "      <th>loan_grade</th>\n",
       "      <th>loan_amnt</th>\n",
       "      <th>loan_int_rate</th>\n",
       "      <th>cb_person_default_on_file</th>\n",
       "      <th>cb_person_cred_hist_length</th>\n",
       "    </tr>\n",
       "  </thead>\n",
       "  <tbody>\n",
       "    <tr>\n",
       "      <th>999</th>\n",
       "      <td>25</td>\n",
       "      <td>55344</td>\n",
       "      <td>3</td>\n",
       "      <td>2.0</td>\n",
       "      <td>2</td>\n",
       "      <td>1</td>\n",
       "      <td>18000</td>\n",
       "      <td>10.99</td>\n",
       "      <td>0</td>\n",
       "      <td>4</td>\n",
       "    </tr>\n",
       "    <tr>\n",
       "      <th>865</th>\n",
       "      <td>26</td>\n",
       "      <td>172500</td>\n",
       "      <td>3</td>\n",
       "      <td>3.0</td>\n",
       "      <td>2</td>\n",
       "      <td>1</td>\n",
       "      <td>20000</td>\n",
       "      <td>11.83</td>\n",
       "      <td>0</td>\n",
       "      <td>2</td>\n",
       "    </tr>\n",
       "    <tr>\n",
       "      <th>302</th>\n",
       "      <td>26</td>\n",
       "      <td>173467</td>\n",
       "      <td>0</td>\n",
       "      <td>10.0</td>\n",
       "      <td>5</td>\n",
       "      <td>1</td>\n",
       "      <td>10000</td>\n",
       "      <td>11.71</td>\n",
       "      <td>0</td>\n",
       "      <td>4</td>\n",
       "    </tr>\n",
       "    <tr>\n",
       "      <th>557</th>\n",
       "      <td>24</td>\n",
       "      <td>79000</td>\n",
       "      <td>3</td>\n",
       "      <td>8.0</td>\n",
       "      <td>2</td>\n",
       "      <td>0</td>\n",
       "      <td>21000</td>\n",
       "      <td>7.90</td>\n",
       "      <td>0</td>\n",
       "      <td>2</td>\n",
       "    </tr>\n",
       "    <tr>\n",
       "      <th>677</th>\n",
       "      <td>24</td>\n",
       "      <td>55000</td>\n",
       "      <td>3</td>\n",
       "      <td>2.0</td>\n",
       "      <td>5</td>\n",
       "      <td>4</td>\n",
       "      <td>20000</td>\n",
       "      <td>18.64</td>\n",
       "      <td>0</td>\n",
       "      <td>2</td>\n",
       "    </tr>\n",
       "    <tr>\n",
       "      <th>...</th>\n",
       "      <td>...</td>\n",
       "      <td>...</td>\n",
       "      <td>...</td>\n",
       "      <td>...</td>\n",
       "      <td>...</td>\n",
       "      <td>...</td>\n",
       "      <td>...</td>\n",
       "      <td>...</td>\n",
       "      <td>...</td>\n",
       "      <td>...</td>\n",
       "    </tr>\n",
       "    <tr>\n",
       "      <th>169</th>\n",
       "      <td>23</td>\n",
       "      <td>60000</td>\n",
       "      <td>3</td>\n",
       "      <td>3.0</td>\n",
       "      <td>4</td>\n",
       "      <td>2</td>\n",
       "      <td>25000</td>\n",
       "      <td>12.73</td>\n",
       "      <td>0</td>\n",
       "      <td>3</td>\n",
       "    </tr>\n",
       "    <tr>\n",
       "      <th>1004</th>\n",
       "      <td>21</td>\n",
       "      <td>52240</td>\n",
       "      <td>3</td>\n",
       "      <td>5.0</td>\n",
       "      <td>3</td>\n",
       "      <td>4</td>\n",
       "      <td>18000</td>\n",
       "      <td>19.69</td>\n",
       "      <td>0</td>\n",
       "      <td>2</td>\n",
       "    </tr>\n",
       "    <tr>\n",
       "      <th>990</th>\n",
       "      <td>22</td>\n",
       "      <td>52000</td>\n",
       "      <td>3</td>\n",
       "      <td>6.0</td>\n",
       "      <td>1</td>\n",
       "      <td>2</td>\n",
       "      <td>18000</td>\n",
       "      <td>7.51</td>\n",
       "      <td>0</td>\n",
       "      <td>4</td>\n",
       "    </tr>\n",
       "    <tr>\n",
       "      <th>495</th>\n",
       "      <td>25</td>\n",
       "      <td>52000</td>\n",
       "      <td>3</td>\n",
       "      <td>4.0</td>\n",
       "      <td>4</td>\n",
       "      <td>1</td>\n",
       "      <td>22000</td>\n",
       "      <td>10.74</td>\n",
       "      <td>0</td>\n",
       "      <td>2</td>\n",
       "    </tr>\n",
       "    <tr>\n",
       "      <th>11</th>\n",
       "      <td>21</td>\n",
       "      <td>10000</td>\n",
       "      <td>2</td>\n",
       "      <td>2.0</td>\n",
       "      <td>2</td>\n",
       "      <td>0</td>\n",
       "      <td>4500</td>\n",
       "      <td>8.63</td>\n",
       "      <td>0</td>\n",
       "      <td>2</td>\n",
       "    </tr>\n",
       "  </tbody>\n",
       "</table>\n",
       "<p>300 rows × 10 columns</p>\n",
       "</div>"
      ],
      "text/plain": [
       "      person_age  person_income  person_home_ownership  person_emp_length  \\\n",
       "999           25          55344                      3                2.0   \n",
       "865           26         172500                      3                3.0   \n",
       "302           26         173467                      0               10.0   \n",
       "557           24          79000                      3                8.0   \n",
       "677           24          55000                      3                2.0   \n",
       "...          ...            ...                    ...                ...   \n",
       "169           23          60000                      3                3.0   \n",
       "1004          21          52240                      3                5.0   \n",
       "990           22          52000                      3                6.0   \n",
       "495           25          52000                      3                4.0   \n",
       "11            21          10000                      2                2.0   \n",
       "\n",
       "      loan_intent  loan_grade  loan_amnt  loan_int_rate  \\\n",
       "999             2           1      18000          10.99   \n",
       "865             2           1      20000          11.83   \n",
       "302             5           1      10000          11.71   \n",
       "557             2           0      21000           7.90   \n",
       "677             5           4      20000          18.64   \n",
       "...           ...         ...        ...            ...   \n",
       "169             4           2      25000          12.73   \n",
       "1004            3           4      18000          19.69   \n",
       "990             1           2      18000           7.51   \n",
       "495             4           1      22000          10.74   \n",
       "11              2           0       4500           8.63   \n",
       "\n",
       "      cb_person_default_on_file  cb_person_cred_hist_length  \n",
       "999                           0                           4  \n",
       "865                           0                           2  \n",
       "302                           0                           4  \n",
       "557                           0                           2  \n",
       "677                           0                           2  \n",
       "...                         ...                         ...  \n",
       "169                           0                           3  \n",
       "1004                          0                           2  \n",
       "990                           0                           4  \n",
       "495                           0                           2  \n",
       "11                            0                           2  \n",
       "\n",
       "[300 rows x 10 columns]"
      ]
     },
     "execution_count": 31,
     "metadata": {},
     "output_type": "execute_result"
    }
   ],
   "source": [
    "X_test"
   ]
  },
  {
   "cell_type": "code",
   "execution_count": 28,
   "id": "3752abb9",
   "metadata": {},
   "outputs": [],
   "source": [
    "for clf in classifiers:\n",
    "    clf.fit(X_train, y_train)"
   ]
  },
  {
   "cell_type": "code",
   "execution_count": 40,
   "id": "6058294d",
   "metadata": {},
   "outputs": [],
   "source": [
    "SVC_model_lr = SVC(kernel=\"linear\", C=0.025, probability=True).fit(X_train, y_train)\n",
    "SVC_model_rbf =  SVC(kernel=\"rbf\", C=1, gamma=2, probability=True).fit(X_train, y_train)\n",
    "SVC_model_pl = SVC(kernel=\"poly\", degree=3, C=0.025, probability=True).fit(X_train, y_train)\n",
    "dt_model = DecisionTreeClassifier(max_depth=8).fit(X_train, y_train)\n",
    "log_model = LogisticRegression().fit(X_train, y_train)\n",
    "xgb_model = xgb.XGBClassifier(max_depth=5, learning_rate=0.1 ,n_jobs=-1).fit(X_train, y_train)\n",
    "\n",
    "\n",
    "svm_probs_lr = SVC_model_lr.predict_proba(X_test)\n",
    "svm_probs_rbf = SVC_model_rbf.predict_proba(X_test)\n",
    "svm_probs_pl = SVC_model_pl.predict_proba(X_test)\n",
    "dt_probs = dt_model.predict_proba(X_test)\n",
    "log_probs = log_model.predict_proba(X_test)\n",
    "xgb_probs = xgb_model.predict_proba(X_test)"
   ]
  },
  {
   "cell_type": "code",
   "execution_count": 41,
   "id": "0abacf67",
   "metadata": {},
   "outputs": [],
   "source": [
    "svm_probs_lr = svm_probs_lr[:, 1]\n",
    "svm_probs_rbf = svm_probs_rbf[:, 1]\n",
    "svm_probs_pl = svm_probs_pl[:, 1]\n",
    "dt_probs = dt_probs[:, 1]\n",
    "log_probs = log_probs[:, 1]\n",
    "xgb_probs = xgb_probs[:, 1]"
   ]
  },
  {
   "cell_type": "code",
   "execution_count": 42,
   "id": "dadd330b",
   "metadata": {},
   "outputs": [],
   "source": [
    "from sklearn.metrics import roc_curve, roc_auc_score\n",
    "\n",
    "svm_lr_auc = roc_auc_score(y_test, svm_probs_lr)\n",
    "svm_rbf_auc = roc_auc_score(y_test, svm_probs_rbf)\n",
    "svm_pl_auc = roc_auc_score(y_test, svm_probs_pl)\n",
    "dt_auc = roc_auc_score(y_test, dt_probs)\n",
    "log_auc = roc_auc_score(y_test, log_probs)\n",
    "xgb_auc = roc_auc_score(y_test, xgb_probs)"
   ]
  },
  {
   "cell_type": "code",
   "execution_count": 43,
   "id": "2af11b40",
   "metadata": {},
   "outputs": [
    {
     "name": "stdout",
     "output_type": "stream",
     "text": [
      "Linear_SVM: AUROC = 0.919\n",
      "RBF_SVM: AUROC = 0.447\n",
      "Polynomial_SVM: AUROC = 0.698\n",
      "Decision Tree: AUROC = 0.890\n",
      "Logistics: AUROC = 0.893\n",
      "XGBoost: AUROC = 0.976\n"
     ]
    }
   ],
   "source": [
    "print('Linear_SVM: AUROC = %.3f' % (svm_lr_auc))\n",
    "print('RBF_SVM: AUROC = %.3f' % (svm_rbf_auc))\n",
    "print('Polynomial_SVM: AUROC = %.3f' % (svm_pl_auc))\n",
    "print('Decision Tree: AUROC = %.3f' % (dt_auc))\n",
    "print('Logistics: AUROC = %.3f' % (log_auc))\n",
    "print('XGBoost: AUROC = %.3f' % (xgb_auc))"
   ]
  },
  {
   "cell_type": "code",
   "execution_count": 44,
   "id": "ff30b613",
   "metadata": {},
   "outputs": [],
   "source": [
    "svm_fpr_lr, svm_tpr_lr, _ = roc_curve(y_test, svm_probs_lr)\n",
    "svm_fpr_rbf, svm_tpr_rbf, _ = roc_curve(y_test, svm_probs_rbf)\n",
    "svm_fpr_pl, svm_tpr_pl, _ = roc_curve(y_test, svm_probs_pl)\n",
    "logistic_fpr, logistic_tpr, _ = roc_curve(y_test, dt_probs)\n",
    "dt_fpr, dt_tpr, _ = roc_curve(y_test,log_probs)\n",
    "xgb_fpr, xgb_tpr, _ = roc_curve(y_test,xgb_probs)"
   ]
  },
  {
   "cell_type": "code",
   "execution_count": 47,
   "id": "2619f157",
   "metadata": {},
   "outputs": [
    {
     "data": {
      "image/png": "[encoded data removed]",
      "text/plain": [
       "<Figure size 640x480 with 1 Axes>"
      ]
     },
     "metadata": {},
     "output_type": "display_data"
    }
   ],
   "source": [
    "plt.plot(svm_fpr_lr, svm_tpr_lr, linestyle='-', label='Linear_SVM (AUROC = %0.3f)' % svm_lr_auc)\n",
    "plt.plot(svm_fpr_rbf, svm_tpr_rbf, linestyle='-', label='RBF_SVM (AUROC = %0.3f)' % svm_rbf_auc)\n",
    "plt.plot(svm_fpr_pl, svm_tpr_pl, linestyle='-', label='Polynomial_SVM (AUROC = %0.3f)' % svm_pl_auc)\n",
    "plt.plot(logistic_fpr, logistic_tpr, marker='.', label='Logistic (AUROC = %0.3f)' % log_auc)\n",
    "plt.plot(xgb_fpr, xgb_tpr, linestyle='-.', label='xgb (AUROC = %0.3f)' % xgb_auc)\n",
    "plt.plot(dt_fpr, dt_tpr, linestyle='--', label='dt (AUROC = %0.3f)' % dt_auc)\n",
    "\n",
    "# Title\n",
    "plt.title('ROC Plot')\n",
    "# Axis labels\n",
    "plt.xlabel('False Positive Rate')\n",
    "plt.ylabel('True Positive Rate')\n",
    "# Show legend\n",
    "plt.legend() # \n",
    "# Show plot\n",
    "plt.show()"
   ]
  },
  {
   "cell_type": "code",
   "execution_count": null,
   "id": "5a472c54",
   "metadata": {},
   "outputs": [],
   "source": []
  },
  {
   "cell_type": "code",
   "execution_count": null,
   "id": "f88721d1",
   "metadata": {},
   "outputs": [],
   "source": []
  }
 ],
 "metadata": {
  "kernelspec": {
   "display_name": "Python 3 (ipykernel)",
   "language": "python",
   "name": "python3"
  },
  "language_info": {
   "codemirror_mode": {
    "name": "ipython",
    "version": 3
   },
   "file_extension": ".py",
   "mimetype": "text/x-python",
   "name": "python",
   "nbconvert_exporter": "python",
   "pygments_lexer": "ipython3",
   "version": "3.11.4"
  }
 },
 "nbformat": 4,
 "nbformat_minor": 5
}
