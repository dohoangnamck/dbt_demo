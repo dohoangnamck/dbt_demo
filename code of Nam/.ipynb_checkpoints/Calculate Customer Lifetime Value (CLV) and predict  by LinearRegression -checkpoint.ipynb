{
 "cells": [
  {
   "cell_type": "markdown",
   "id": "cee8898e",
   "metadata": {},
   "source": [
    "HOW TO CALCULATE AND PREDICT CUSTOMER LIFETIME VALUE (CLV)\n",
    "This tutorial includes: \n",
    "Introduction to Customer Lifetime Value (CLV) \n",
    "Calculate CLV \n",
    "Building a model to predict CLV"
   ]
  },
  {
   "cell_type": "markdown",
   "id": "70cad042",
   "metadata": {},
   "source": [
    "Bộ dữ liệu gồm 8 cột, hơn 500.000 dòng dữ liệu, tương đương 500.000 đơn hàng \n",
    "* InvoiceNo: số đơn hàng\n",
    "* StockCode: code hàng hóa\n",
    "* Description: mô tả\n",
    "* Quantity: số lượng bán\n",
    "* InvoiceDate: ngày tạo đơn \n",
    "* UnitPrice: đơn giá\n",
    "* CustomerID: mà khách hàng\n",
    "* Country: quốc gia của KH"
   ]
  },
  {
   "cell_type": "code",
   "execution_count": 1,
   "id": "f5b725df",
   "metadata": {},
   "outputs": [],
   "source": [
    "#import modules \n",
    "import pandas as pd \n",
    "import matplotlib.pyplot as plt \n",
    "import seaborn as sns \n",
    "import datetime as dt \n",
    "import numpy as np "
   ]
  },
  {
   "cell_type": "code",
   "execution_count": 66,
   "id": "7cd8572c",
   "metadata": {},
   "outputs": [],
   "source": [
    "data = pd.read_excel('Retail_data.xlsx')"
   ]
  },
  {
   "cell_type": "code",
   "execution_count": 7,
   "id": "db34eee1",
   "metadata": {
    "scrolled": true
   },
   "outputs": [
    {
     "data": {
      "text/plain": [
       "(541909, 8)"
      ]
     },
     "execution_count": 7,
     "metadata": {},
     "output_type": "execute_result"
    }
   ],
   "source": [
    "data.shape"
   ]
  },
  {
   "cell_type": "code",
   "execution_count": 8,
   "id": "77c84e46",
   "metadata": {},
   "outputs": [
    {
     "data": {
      "text/html": [
       "<div>\n",
       "<style scoped>\n",
       "    .dataframe tbody tr th:only-of-type {\n",
       "        vertical-align: middle;\n",
       "    }\n",
       "\n",
       "    .dataframe tbody tr th {\n",
       "        vertical-align: top;\n",
       "    }\n",
       "\n",
       "    .dataframe thead th {\n",
       "        text-align: right;\n",
       "    }\n",
       "</style>\n",
       "<table border=\"1\" class=\"dataframe\">\n",
       "  <thead>\n",
       "    <tr style=\"text-align: right;\">\n",
       "      <th></th>\n",
       "      <th>InvoiceNo</th>\n",
       "      <th>StockCode</th>\n",
       "      <th>Description</th>\n",
       "      <th>Quantity</th>\n",
       "      <th>InvoiceDate</th>\n",
       "      <th>UnitPrice</th>\n",
       "      <th>CustomerID</th>\n",
       "      <th>Country</th>\n",
       "    </tr>\n",
       "  </thead>\n",
       "  <tbody>\n",
       "    <tr>\n",
       "      <th>0</th>\n",
       "      <td>536365</td>\n",
       "      <td>85123A</td>\n",
       "      <td>WHITE HANGING HEART T-LIGHT HOLDER</td>\n",
       "      <td>6</td>\n",
       "      <td>2010-12-01 08:26:00</td>\n",
       "      <td>2.55</td>\n",
       "      <td>17850.0</td>\n",
       "      <td>United Kingdom</td>\n",
       "    </tr>\n",
       "    <tr>\n",
       "      <th>1</th>\n",
       "      <td>536365</td>\n",
       "      <td>71053</td>\n",
       "      <td>WHITE METAL LANTERN</td>\n",
       "      <td>6</td>\n",
       "      <td>2010-12-01 08:26:00</td>\n",
       "      <td>3.39</td>\n",
       "      <td>17850.0</td>\n",
       "      <td>United Kingdom</td>\n",
       "    </tr>\n",
       "    <tr>\n",
       "      <th>2</th>\n",
       "      <td>536365</td>\n",
       "      <td>84406B</td>\n",
       "      <td>CREAM CUPID HEARTS COAT HANGER</td>\n",
       "      <td>8</td>\n",
       "      <td>2010-12-01 08:26:00</td>\n",
       "      <td>2.75</td>\n",
       "      <td>17850.0</td>\n",
       "      <td>United Kingdom</td>\n",
       "    </tr>\n",
       "    <tr>\n",
       "      <th>3</th>\n",
       "      <td>536365</td>\n",
       "      <td>84029G</td>\n",
       "      <td>KNITTED UNION FLAG HOT WATER BOTTLE</td>\n",
       "      <td>6</td>\n",
       "      <td>2010-12-01 08:26:00</td>\n",
       "      <td>3.39</td>\n",
       "      <td>17850.0</td>\n",
       "      <td>United Kingdom</td>\n",
       "    </tr>\n",
       "    <tr>\n",
       "      <th>4</th>\n",
       "      <td>536365</td>\n",
       "      <td>84029E</td>\n",
       "      <td>RED WOOLLY HOTTIE WHITE HEART.</td>\n",
       "      <td>6</td>\n",
       "      <td>2010-12-01 08:26:00</td>\n",
       "      <td>3.39</td>\n",
       "      <td>17850.0</td>\n",
       "      <td>United Kingdom</td>\n",
       "    </tr>\n",
       "  </tbody>\n",
       "</table>\n",
       "</div>"
      ],
      "text/plain": [
       "  InvoiceNo StockCode                          Description  Quantity  \\\n",
       "0    536365    85123A   WHITE HANGING HEART T-LIGHT HOLDER         6   \n",
       "1    536365     71053                  WHITE METAL LANTERN         6   \n",
       "2    536365    84406B       CREAM CUPID HEARTS COAT HANGER         8   \n",
       "3    536365    84029G  KNITTED UNION FLAG HOT WATER BOTTLE         6   \n",
       "4    536365    84029E       RED WOOLLY HOTTIE WHITE HEART.         6   \n",
       "\n",
       "          InvoiceDate  UnitPrice  CustomerID         Country  \n",
       "0 2010-12-01 08:26:00       2.55     17850.0  United Kingdom  \n",
       "1 2010-12-01 08:26:00       3.39     17850.0  United Kingdom  \n",
       "2 2010-12-01 08:26:00       2.75     17850.0  United Kingdom  \n",
       "3 2010-12-01 08:26:00       3.39     17850.0  United Kingdom  \n",
       "4 2010-12-01 08:26:00       3.39     17850.0  United Kingdom  "
      ]
     },
     "execution_count": 8,
     "metadata": {},
     "output_type": "execute_result"
    }
   ],
   "source": [
    "data.head()"
   ]
  },
  {
   "cell_type": "code",
   "execution_count": 67,
   "id": "2cd5dba7",
   "metadata": {},
   "outputs": [
    {
     "data": {
      "text/html": [
       "<div>\n",
       "<style scoped>\n",
       "    .dataframe tbody tr th:only-of-type {\n",
       "        vertical-align: middle;\n",
       "    }\n",
       "\n",
       "    .dataframe tbody tr th {\n",
       "        vertical-align: top;\n",
       "    }\n",
       "\n",
       "    .dataframe thead th {\n",
       "        text-align: right;\n",
       "    }\n",
       "</style>\n",
       "<table border=\"1\" class=\"dataframe\">\n",
       "  <thead>\n",
       "    <tr style=\"text-align: right;\">\n",
       "      <th></th>\n",
       "      <th>Country</th>\n",
       "      <th>CustomerID</th>\n",
       "    </tr>\n",
       "  </thead>\n",
       "  <tbody>\n",
       "    <tr>\n",
       "      <th>0</th>\n",
       "      <td>United Kingdom</td>\n",
       "      <td>17850.0</td>\n",
       "    </tr>\n",
       "    <tr>\n",
       "      <th>9</th>\n",
       "      <td>United Kingdom</td>\n",
       "      <td>13047.0</td>\n",
       "    </tr>\n",
       "    <tr>\n",
       "      <th>26</th>\n",
       "      <td>France</td>\n",
       "      <td>12583.0</td>\n",
       "    </tr>\n",
       "    <tr>\n",
       "      <th>46</th>\n",
       "      <td>United Kingdom</td>\n",
       "      <td>13748.0</td>\n",
       "    </tr>\n",
       "    <tr>\n",
       "      <th>65</th>\n",
       "      <td>United Kingdom</td>\n",
       "      <td>15100.0</td>\n",
       "    </tr>\n",
       "  </tbody>\n",
       "</table>\n",
       "</div>"
      ],
      "text/plain": [
       "           Country  CustomerID\n",
       "0   United Kingdom     17850.0\n",
       "9   United Kingdom     13047.0\n",
       "26          France     12583.0\n",
       "46  United Kingdom     13748.0\n",
       "65  United Kingdom     15100.0"
      ]
     },
     "execution_count": 67,
     "metadata": {},
     "output_type": "execute_result"
    }
   ],
   "source": [
    "#Removing Duplicates\n",
    "filtered_data=data[['Country', 'CustomerID']].drop_duplicates() \n",
    "filtered_data.head()"
   ]
  },
  {
   "cell_type": "code",
   "execution_count": 9,
   "id": "82a6ee47",
   "metadata": {},
   "outputs": [
    {
     "data": {
      "text/plain": [
       "(4389, 2)"
      ]
     },
     "execution_count": 9,
     "metadata": {},
     "output_type": "execute_result"
    }
   ],
   "source": [
    "filtered_data.shape"
   ]
  },
  {
   "cell_type": "code",
   "execution_count": 10,
   "id": "52d30912",
   "metadata": {},
   "outputs": [
    {
     "data": {
      "image/png": "[encoded data removed]",
      "text/plain": [
       "<Figure size 640x480 with 1 Axes>"
      ]
     },
     "metadata": {},
     "output_type": "display_data"
    }
   ],
   "source": [
    "#Top ten country s customer \n",
    "filtered_data.Country.value_counts()[:10].plot(kind=\"bar\");"
   ]
  },
  {
   "cell_type": "markdown",
   "id": "835397a3",
   "metadata": {},
   "source": [
    "Hầu hết khách hàng đều từ Anh, nên ta chỉ phân tích từ nước này"
   ]
  },
  {
   "cell_type": "code",
   "execution_count": 68,
   "id": "fb56e8b0",
   "metadata": {},
   "outputs": [
    {
     "name": "stdout",
     "output_type": "stream",
     "text": [
      "<class 'pandas.core.frame.DataFrame'>\n",
      "Index: 495478 entries, 0 to 541893\n",
      "Data columns (total 8 columns):\n",
      " #   Column       Non-Null Count   Dtype         \n",
      "---  ------       --------------   -----         \n",
      " 0   InvoiceNo    495478 non-null  object        \n",
      " 1   StockCode    495478 non-null  object        \n",
      " 2   Description  494024 non-null  object        \n",
      " 3   Quantity     495478 non-null  int64         \n",
      " 4   InvoiceDate  495478 non-null  datetime64[ns]\n",
      " 5   UnitPrice    495478 non-null  float64       \n",
      " 6   CustomerID   361878 non-null  float64       \n",
      " 7   Country      495478 non-null  object        \n",
      "dtypes: datetime64[ns](1), float64(2), int64(1), object(4)\n",
      "memory usage: 34.0+ MB\n"
     ]
    }
   ],
   "source": [
    "#filter data for United Kingdom customer \n",
    "uk_data=data[data.Country== 'United Kingdom'] \n",
    "uk_data.info()"
   ]
  },
  {
   "cell_type": "code",
   "execution_count": 12,
   "id": "0126a655",
   "metadata": {},
   "outputs": [
    {
     "data": {
      "text/html": [
       "<div>\n",
       "<style scoped>\n",
       "    .dataframe tbody tr th:only-of-type {\n",
       "        vertical-align: middle;\n",
       "    }\n",
       "\n",
       "    .dataframe tbody tr th {\n",
       "        vertical-align: top;\n",
       "    }\n",
       "\n",
       "    .dataframe thead th {\n",
       "        text-align: right;\n",
       "    }\n",
       "</style>\n",
       "<table border=\"1\" class=\"dataframe\">\n",
       "  <thead>\n",
       "    <tr style=\"text-align: right;\">\n",
       "      <th></th>\n",
       "      <th>Quantity</th>\n",
       "      <th>InvoiceDate</th>\n",
       "      <th>UnitPrice</th>\n",
       "      <th>CustomerID</th>\n",
       "    </tr>\n",
       "  </thead>\n",
       "  <tbody>\n",
       "    <tr>\n",
       "      <th>count</th>\n",
       "      <td>495478.000000</td>\n",
       "      <td>495478</td>\n",
       "      <td>495478.000000</td>\n",
       "      <td>361878.000000</td>\n",
       "    </tr>\n",
       "    <tr>\n",
       "      <th>mean</th>\n",
       "      <td>8.605486</td>\n",
       "      <td>2011-07-04 05:01:41.098131456</td>\n",
       "      <td>4.532422</td>\n",
       "      <td>15547.871368</td>\n",
       "    </tr>\n",
       "    <tr>\n",
       "      <th>min</th>\n",
       "      <td>-80995.000000</td>\n",
       "      <td>2010-12-01 08:26:00</td>\n",
       "      <td>-11062.060000</td>\n",
       "      <td>12346.000000</td>\n",
       "    </tr>\n",
       "    <tr>\n",
       "      <th>25%</th>\n",
       "      <td>1.000000</td>\n",
       "      <td>2011-03-27 12:06:00</td>\n",
       "      <td>1.250000</td>\n",
       "      <td>14194.000000</td>\n",
       "    </tr>\n",
       "    <tr>\n",
       "      <th>50%</th>\n",
       "      <td>3.000000</td>\n",
       "      <td>2011-07-19 11:47:00</td>\n",
       "      <td>2.100000</td>\n",
       "      <td>15514.000000</td>\n",
       "    </tr>\n",
       "    <tr>\n",
       "      <th>75%</th>\n",
       "      <td>10.000000</td>\n",
       "      <td>2011-10-20 10:41:00</td>\n",
       "      <td>4.130000</td>\n",
       "      <td>16931.000000</td>\n",
       "    </tr>\n",
       "    <tr>\n",
       "      <th>max</th>\n",
       "      <td>80995.000000</td>\n",
       "      <td>2011-12-09 12:49:00</td>\n",
       "      <td>38970.000000</td>\n",
       "      <td>18287.000000</td>\n",
       "    </tr>\n",
       "    <tr>\n",
       "      <th>std</th>\n",
       "      <td>227.588756</td>\n",
       "      <td>NaN</td>\n",
       "      <td>99.315438</td>\n",
       "      <td>1594.402590</td>\n",
       "    </tr>\n",
       "  </tbody>\n",
       "</table>\n",
       "</div>"
      ],
      "text/plain": [
       "            Quantity                    InvoiceDate      UnitPrice  \\\n",
       "count  495478.000000                         495478  495478.000000   \n",
       "mean        8.605486  2011-07-04 05:01:41.098131456       4.532422   \n",
       "min    -80995.000000            2010-12-01 08:26:00  -11062.060000   \n",
       "25%         1.000000            2011-03-27 12:06:00       1.250000   \n",
       "50%         3.000000            2011-07-19 11:47:00       2.100000   \n",
       "75%        10.000000            2011-10-20 10:41:00       4.130000   \n",
       "max     80995.000000            2011-12-09 12:49:00   38970.000000   \n",
       "std       227.588756                            NaN      99.315438   \n",
       "\n",
       "          CustomerID  \n",
       "count  361878.000000  \n",
       "mean    15547.871368  \n",
       "min     12346.000000  \n",
       "25%     14194.000000  \n",
       "50%     15514.000000  \n",
       "75%     16931.000000  \n",
       "max     18287.000000  \n",
       "std      1594.402590  "
      ]
     },
     "execution_count": 12,
     "metadata": {},
     "output_type": "execute_result"
    }
   ],
   "source": [
    "uk_data.describe()"
   ]
  },
  {
   "cell_type": "code",
   "execution_count": 69,
   "id": "8d8e3817",
   "metadata": {
    "scrolled": true
   },
   "outputs": [
    {
     "name": "stdout",
     "output_type": "stream",
     "text": [
      "<class 'pandas.core.frame.DataFrame'>\n",
      "Index: 486286 entries, 0 to 541893\n",
      "Data columns (total 8 columns):\n",
      " #   Column       Non-Null Count   Dtype         \n",
      "---  ------       --------------   -----         \n",
      " 0   InvoiceNo    486286 non-null  object        \n",
      " 1   StockCode    486286 non-null  object        \n",
      " 2   Description  485694 non-null  object        \n",
      " 3   Quantity     486286 non-null  int64         \n",
      " 4   InvoiceDate  486286 non-null  datetime64[ns]\n",
      " 5   UnitPrice    486286 non-null  float64       \n",
      " 6   CustomerID   354345 non-null  float64       \n",
      " 7   Country      486286 non-null  object        \n",
      "dtypes: datetime64[ns](1), float64(2), int64(1), object(4)\n",
      "memory usage: 33.4+ MB\n"
     ]
    }
   ],
   "source": [
    "#filter Quantity greater than zero \n",
    "uk_data = uk_data[uk_data['Quantity']>0] \n",
    "uk_data.info()"
   ]
  },
  {
   "cell_type": "markdown",
   "id": "85198efe",
   "metadata": {},
   "source": [
    "Filter required Columns for calculating CLTV. \n",
    "five columns CustomerID, InvoiceDate, InvoiceNo, Quantity, and UnitPrice."
   ]
  },
  {
   "cell_type": "code",
   "execution_count": 70,
   "id": "894e8b15",
   "metadata": {},
   "outputs": [],
   "source": [
    "uk_data=uk_data[['CustomerID', 'InvoiceDate', 'InvoiceNo', 'Quantity', 'UnitPrice']]"
   ]
  },
  {
   "cell_type": "markdown",
   "id": "cd695f1f",
   "metadata": {},
   "source": [
    "* InvoiceNo: số đơn hàng, để tính tần suất mua hàng\n",
    "* Quantity: số lượng bán * UnitPrice: đơn giá ra doanh thu\n",
    "* InvoiceDate: ngày tạo đơn, tính time khách còn mua hàng\n",
    "* CustomerID: mà khách hàng"
   ]
  },
  {
   "cell_type": "code",
   "execution_count": 71,
   "id": "250d3d65",
   "metadata": {
    "scrolled": true
   },
   "outputs": [
    {
     "data": {
      "text/html": [
       "<div>\n",
       "<style scoped>\n",
       "    .dataframe tbody tr th:only-of-type {\n",
       "        vertical-align: middle;\n",
       "    }\n",
       "\n",
       "    .dataframe tbody tr th {\n",
       "        vertical-align: top;\n",
       "    }\n",
       "\n",
       "    .dataframe thead th {\n",
       "        text-align: right;\n",
       "    }\n",
       "</style>\n",
       "<table border=\"1\" class=\"dataframe\">\n",
       "  <thead>\n",
       "    <tr style=\"text-align: right;\">\n",
       "      <th></th>\n",
       "      <th>CustomerID</th>\n",
       "      <th>InvoiceDate</th>\n",
       "      <th>InvoiceNo</th>\n",
       "      <th>Quantity</th>\n",
       "      <th>UnitPrice</th>\n",
       "      <th>TotalPurchase</th>\n",
       "    </tr>\n",
       "  </thead>\n",
       "  <tbody>\n",
       "    <tr>\n",
       "      <th>0</th>\n",
       "      <td>17850.0</td>\n",
       "      <td>2010-12-01 08:26:00</td>\n",
       "      <td>536365</td>\n",
       "      <td>6</td>\n",
       "      <td>2.55</td>\n",
       "      <td>15.30</td>\n",
       "    </tr>\n",
       "    <tr>\n",
       "      <th>1</th>\n",
       "      <td>17850.0</td>\n",
       "      <td>2010-12-01 08:26:00</td>\n",
       "      <td>536365</td>\n",
       "      <td>6</td>\n",
       "      <td>3.39</td>\n",
       "      <td>20.34</td>\n",
       "    </tr>\n",
       "    <tr>\n",
       "      <th>2</th>\n",
       "      <td>17850.0</td>\n",
       "      <td>2010-12-01 08:26:00</td>\n",
       "      <td>536365</td>\n",
       "      <td>8</td>\n",
       "      <td>2.75</td>\n",
       "      <td>22.00</td>\n",
       "    </tr>\n",
       "    <tr>\n",
       "      <th>3</th>\n",
       "      <td>17850.0</td>\n",
       "      <td>2010-12-01 08:26:00</td>\n",
       "      <td>536365</td>\n",
       "      <td>6</td>\n",
       "      <td>3.39</td>\n",
       "      <td>20.34</td>\n",
       "    </tr>\n",
       "    <tr>\n",
       "      <th>4</th>\n",
       "      <td>17850.0</td>\n",
       "      <td>2010-12-01 08:26:00</td>\n",
       "      <td>536365</td>\n",
       "      <td>6</td>\n",
       "      <td>3.39</td>\n",
       "      <td>20.34</td>\n",
       "    </tr>\n",
       "  </tbody>\n",
       "</table>\n",
       "</div>"
      ],
      "text/plain": [
       "   CustomerID         InvoiceDate InvoiceNo  Quantity  UnitPrice  \\\n",
       "0     17850.0 2010-12-01 08:26:00    536365         6       2.55   \n",
       "1     17850.0 2010-12-01 08:26:00    536365         6       3.39   \n",
       "2     17850.0 2010-12-01 08:26:00    536365         8       2.75   \n",
       "3     17850.0 2010-12-01 08:26:00    536365         6       3.39   \n",
       "4     17850.0 2010-12-01 08:26:00    536365         6       3.39   \n",
       "\n",
       "   TotalPurchase  \n",
       "0          15.30  \n",
       "1          20.34  \n",
       "2          22.00  \n",
       "3          20.34  \n",
       "4          20.34  "
      ]
     },
     "execution_count": 71,
     "metadata": {},
     "output_type": "execute_result"
    }
   ],
   "source": [
    "# Calculate total purchase\n",
    "uk_data['TotalPurchase'] = uk_data['Quantity'] * uk_data['UnitPrice']\n",
    "uk_data.head()"
   ]
  },
  {
   "cell_type": "markdown",
   "id": "2bb9ec49",
   "metadata": {},
   "source": [
    "With every customer\n",
    "Calculate the number of days between the present date and the date of last purchase from each customer. \n",
    "Calculate the frequency of purchase for each customer. \n",
    "Calculate the number of orders for each customer. \n",
    "Calculate sum of purchase price for each customer."
   ]
  },
  {
   "cell_type": "code",
   "execution_count": 27,
   "id": "40708121",
   "metadata": {},
   "outputs": [],
   "source": [
    "# Lets create grouping around the customer ID and aggregate the metrics\n",
    "max_date = uk_data['InvoiceDate'].max()\n",
    "uk_data_group=uk_data.groupby('CustomerID').agg({'InvoiceDate': lambda date: (max_date - date.min()).days,\n",
    "                                                'InvoiceNo': lambda num: len(num), \n",
    "                                                 'Quantity': lambda quant: quant.sum(),\n",
    "                                                 'TotalPurchase': lambda price: price.sum()})"
   ]
  },
  {
   "cell_type": "code",
   "execution_count": 28,
   "id": "bf17bd8f",
   "metadata": {
    "scrolled": true
   },
   "outputs": [
    {
     "data": {
      "text/html": [
       "<div>\n",
       "<style scoped>\n",
       "    .dataframe tbody tr th:only-of-type {\n",
       "        vertical-align: middle;\n",
       "    }\n",
       "\n",
       "    .dataframe tbody tr th {\n",
       "        vertical-align: top;\n",
       "    }\n",
       "\n",
       "    .dataframe thead th {\n",
       "        text-align: right;\n",
       "    }\n",
       "</style>\n",
       "<table border=\"1\" class=\"dataframe\">\n",
       "  <thead>\n",
       "    <tr style=\"text-align: right;\">\n",
       "      <th></th>\n",
       "      <th>InvoiceDate</th>\n",
       "      <th>InvoiceNo</th>\n",
       "      <th>Quantity</th>\n",
       "      <th>TotalPurchase</th>\n",
       "    </tr>\n",
       "    <tr>\n",
       "      <th>CustomerID</th>\n",
       "      <th></th>\n",
       "      <th></th>\n",
       "      <th></th>\n",
       "      <th></th>\n",
       "    </tr>\n",
       "  </thead>\n",
       "  <tbody>\n",
       "    <tr>\n",
       "      <th>12346.0</th>\n",
       "      <td>325</td>\n",
       "      <td>1</td>\n",
       "      <td>74215</td>\n",
       "      <td>77183.60</td>\n",
       "    </tr>\n",
       "    <tr>\n",
       "      <th>12747.0</th>\n",
       "      <td>368</td>\n",
       "      <td>103</td>\n",
       "      <td>1275</td>\n",
       "      <td>4196.01</td>\n",
       "    </tr>\n",
       "    <tr>\n",
       "      <th>12748.0</th>\n",
       "      <td>373</td>\n",
       "      <td>4596</td>\n",
       "      <td>25748</td>\n",
       "      <td>33719.73</td>\n",
       "    </tr>\n",
       "    <tr>\n",
       "      <th>12749.0</th>\n",
       "      <td>212</td>\n",
       "      <td>199</td>\n",
       "      <td>1471</td>\n",
       "      <td>4090.88</td>\n",
       "    </tr>\n",
       "    <tr>\n",
       "      <th>12820.0</th>\n",
       "      <td>326</td>\n",
       "      <td>59</td>\n",
       "      <td>722</td>\n",
       "      <td>942.34</td>\n",
       "    </tr>\n",
       "  </tbody>\n",
       "</table>\n",
       "</div>"
      ],
      "text/plain": [
       "            InvoiceDate  InvoiceNo  Quantity  TotalPurchase\n",
       "CustomerID                                                 \n",
       "12346.0             325          1     74215       77183.60\n",
       "12747.0             368        103      1275        4196.01\n",
       "12748.0             373       4596     25748       33719.73\n",
       "12749.0             212        199      1471        4090.88\n",
       "12820.0             326         59       722         942.34"
      ]
     },
     "execution_count": 28,
     "metadata": {},
     "output_type": "execute_result"
    }
   ],
   "source": [
    "uk_data_group.head()"
   ]
  },
  {
   "cell_type": "code",
   "execution_count": 35,
   "id": "fdd1d351",
   "metadata": {},
   "outputs": [
    {
     "data": {
      "text/html": [
       "<div>\n",
       "<style scoped>\n",
       "    .dataframe tbody tr th:only-of-type {\n",
       "        vertical-align: middle;\n",
       "    }\n",
       "\n",
       "    .dataframe tbody tr th {\n",
       "        vertical-align: top;\n",
       "    }\n",
       "\n",
       "    .dataframe thead th {\n",
       "        text-align: right;\n",
       "    }\n",
       "</style>\n",
       "<table border=\"1\" class=\"dataframe\">\n",
       "  <thead>\n",
       "    <tr style=\"text-align: right;\">\n",
       "      <th></th>\n",
       "      <th>InvoiceDate</th>\n",
       "      <th>InvoiceNo</th>\n",
       "      <th>Quantity</th>\n",
       "      <th>TotalPurchase</th>\n",
       "    </tr>\n",
       "    <tr>\n",
       "      <th>CustomerID</th>\n",
       "      <th></th>\n",
       "      <th></th>\n",
       "      <th></th>\n",
       "      <th></th>\n",
       "    </tr>\n",
       "  </thead>\n",
       "  <tbody>\n",
       "    <tr>\n",
       "      <th>12346.0</th>\n",
       "      <td>325</td>\n",
       "      <td>1</td>\n",
       "      <td>74215</td>\n",
       "      <td>77183.60</td>\n",
       "    </tr>\n",
       "    <tr>\n",
       "      <th>12747.0</th>\n",
       "      <td>368</td>\n",
       "      <td>103</td>\n",
       "      <td>1275</td>\n",
       "      <td>4196.01</td>\n",
       "    </tr>\n",
       "    <tr>\n",
       "      <th>12748.0</th>\n",
       "      <td>373</td>\n",
       "      <td>4596</td>\n",
       "      <td>25748</td>\n",
       "      <td>33719.73</td>\n",
       "    </tr>\n",
       "    <tr>\n",
       "      <th>12749.0</th>\n",
       "      <td>212</td>\n",
       "      <td>199</td>\n",
       "      <td>1471</td>\n",
       "      <td>4090.88</td>\n",
       "    </tr>\n",
       "    <tr>\n",
       "      <th>12820.0</th>\n",
       "      <td>326</td>\n",
       "      <td>59</td>\n",
       "      <td>722</td>\n",
       "      <td>942.34</td>\n",
       "    </tr>\n",
       "  </tbody>\n",
       "</table>\n",
       "</div>"
      ],
      "text/plain": [
       "            InvoiceDate  InvoiceNo  Quantity  TotalPurchase\n",
       "CustomerID                                                 \n",
       "12346.0             325          1     74215       77183.60\n",
       "12747.0             368        103      1275        4196.01\n",
       "12748.0             373       4596     25748       33719.73\n",
       "12749.0             212        199      1471        4090.88\n",
       "12820.0             326         59       722         942.34"
      ]
     },
     "execution_count": 35,
     "metadata": {},
     "output_type": "execute_result"
    }
   ],
   "source": [
    "# Let's put this aall together in a function\n",
    "def customer_model(data):\n",
    "    max_date = data['InvoiceDate'].max()\n",
    "    data = data.groupby('CustomerID').agg(\n",
    "        {'InvoiceDate': lambda x: (max_date - x.min()).days,\n",
    "         'InvoiceNo': lambda x: len(x), \n",
    "         'Quantity': lambda x: x.sum(),\n",
    "         'TotalPurchase': lambda x: x.sum()})\n",
    "    return data\n",
    "\n",
    "\n",
    "uk_data_group = customer_model(uk_data)\n",
    "uk_data_group.head()"
   ]
  },
  {
   "cell_type": "code",
   "execution_count": 37,
   "id": "84fe1c3a",
   "metadata": {},
   "outputs": [
    {
     "data": {
      "text/html": [
       "<div>\n",
       "<style scoped>\n",
       "    .dataframe tbody tr th:only-of-type {\n",
       "        vertical-align: middle;\n",
       "    }\n",
       "\n",
       "    .dataframe tbody tr th {\n",
       "        vertical-align: top;\n",
       "    }\n",
       "\n",
       "    .dataframe thead th {\n",
       "        text-align: right;\n",
       "    }\n",
       "</style>\n",
       "<table border=\"1\" class=\"dataframe\">\n",
       "  <thead>\n",
       "    <tr style=\"text-align: right;\">\n",
       "      <th></th>\n",
       "      <th>num_days</th>\n",
       "      <th>num_transactions</th>\n",
       "      <th>num_units</th>\n",
       "      <th>spent_money</th>\n",
       "    </tr>\n",
       "    <tr>\n",
       "      <th>CustomerID</th>\n",
       "      <th></th>\n",
       "      <th></th>\n",
       "      <th></th>\n",
       "      <th></th>\n",
       "    </tr>\n",
       "  </thead>\n",
       "  <tbody>\n",
       "    <tr>\n",
       "      <th>12346.0</th>\n",
       "      <td>325</td>\n",
       "      <td>1</td>\n",
       "      <td>74215</td>\n",
       "      <td>77183.60</td>\n",
       "    </tr>\n",
       "    <tr>\n",
       "      <th>12747.0</th>\n",
       "      <td>368</td>\n",
       "      <td>103</td>\n",
       "      <td>1275</td>\n",
       "      <td>4196.01</td>\n",
       "    </tr>\n",
       "    <tr>\n",
       "      <th>12748.0</th>\n",
       "      <td>373</td>\n",
       "      <td>4596</td>\n",
       "      <td>25748</td>\n",
       "      <td>33719.73</td>\n",
       "    </tr>\n",
       "    <tr>\n",
       "      <th>12749.0</th>\n",
       "      <td>212</td>\n",
       "      <td>199</td>\n",
       "      <td>1471</td>\n",
       "      <td>4090.88</td>\n",
       "    </tr>\n",
       "    <tr>\n",
       "      <th>12820.0</th>\n",
       "      <td>326</td>\n",
       "      <td>59</td>\n",
       "      <td>722</td>\n",
       "      <td>942.34</td>\n",
       "    </tr>\n",
       "  </tbody>\n",
       "</table>\n",
       "</div>"
      ],
      "text/plain": [
       "            num_days  num_transactions  num_units  spent_money\n",
       "CustomerID                                                    \n",
       "12346.0          325                 1      74215     77183.60\n",
       "12747.0          368               103       1275      4196.01\n",
       "12748.0          373              4596      25748     33719.73\n",
       "12749.0          212               199       1471      4090.88\n",
       "12820.0          326                59        722       942.34"
      ]
     },
     "execution_count": 37,
     "metadata": {},
     "output_type": "execute_result"
    }
   ],
   "source": [
    "#Change the name of columns \n",
    "uk_data_group.columns=['num_days', 'num_transactions', 'num_units', 'spent_money'] \n",
    "uk_data_group.head()"
   ]
  },
  {
   "cell_type": "code",
   "execution_count": 30,
   "id": "76d36cb2",
   "metadata": {},
   "outputs": [
    {
     "data": {
      "text/plain": [
       "Timestamp('2011-12-09 12:49:00')"
      ]
     },
     "execution_count": 30,
     "metadata": {},
     "output_type": "execute_result"
    }
   ],
   "source": [
    "max_date"
   ]
  },
  {
   "cell_type": "markdown",
   "id": "781b6ff7",
   "metadata": {},
   "source": [
    "Calculate CLTV using following formula: \n",
    "\n",
    "CLTV= ((Average Order Value x Purchase Frequency)/Churn Rate) x Profit margin. \n",
    "\n",
    "Customer Value = Average Order Value Purchase Frequency"
   ]
  },
  {
   "cell_type": "code",
   "execution_count": 38,
   "id": "a15f8df7",
   "metadata": {},
   "outputs": [
    {
     "data": {
      "text/html": [
       "<div>\n",
       "<style scoped>\n",
       "    .dataframe tbody tr th:only-of-type {\n",
       "        vertical-align: middle;\n",
       "    }\n",
       "\n",
       "    .dataframe tbody tr th {\n",
       "        vertical-align: top;\n",
       "    }\n",
       "\n",
       "    .dataframe thead th {\n",
       "        text-align: right;\n",
       "    }\n",
       "</style>\n",
       "<table border=\"1\" class=\"dataframe\">\n",
       "  <thead>\n",
       "    <tr style=\"text-align: right;\">\n",
       "      <th></th>\n",
       "      <th>num_days</th>\n",
       "      <th>num_transactions</th>\n",
       "      <th>num_units</th>\n",
       "      <th>spent_money</th>\n",
       "      <th>avg_order_value</th>\n",
       "    </tr>\n",
       "    <tr>\n",
       "      <th>CustomerID</th>\n",
       "      <th></th>\n",
       "      <th></th>\n",
       "      <th></th>\n",
       "      <th></th>\n",
       "      <th></th>\n",
       "    </tr>\n",
       "  </thead>\n",
       "  <tbody>\n",
       "    <tr>\n",
       "      <th>12346.0</th>\n",
       "      <td>325</td>\n",
       "      <td>1</td>\n",
       "      <td>74215</td>\n",
       "      <td>77183.60</td>\n",
       "      <td>77183.600000</td>\n",
       "    </tr>\n",
       "    <tr>\n",
       "      <th>12747.0</th>\n",
       "      <td>368</td>\n",
       "      <td>103</td>\n",
       "      <td>1275</td>\n",
       "      <td>4196.01</td>\n",
       "      <td>40.737961</td>\n",
       "    </tr>\n",
       "    <tr>\n",
       "      <th>12748.0</th>\n",
       "      <td>373</td>\n",
       "      <td>4596</td>\n",
       "      <td>25748</td>\n",
       "      <td>33719.73</td>\n",
       "      <td>7.336756</td>\n",
       "    </tr>\n",
       "    <tr>\n",
       "      <th>12749.0</th>\n",
       "      <td>212</td>\n",
       "      <td>199</td>\n",
       "      <td>1471</td>\n",
       "      <td>4090.88</td>\n",
       "      <td>20.557186</td>\n",
       "    </tr>\n",
       "    <tr>\n",
       "      <th>12820.0</th>\n",
       "      <td>326</td>\n",
       "      <td>59</td>\n",
       "      <td>722</td>\n",
       "      <td>942.34</td>\n",
       "      <td>15.971864</td>\n",
       "    </tr>\n",
       "  </tbody>\n",
       "</table>\n",
       "</div>"
      ],
      "text/plain": [
       "            num_days  num_transactions  num_units  spent_money  \\\n",
       "CustomerID                                                       \n",
       "12346.0          325                 1      74215     77183.60   \n",
       "12747.0          368               103       1275      4196.01   \n",
       "12748.0          373              4596      25748     33719.73   \n",
       "12749.0          212               199       1471      4090.88   \n",
       "12820.0          326                59        722       942.34   \n",
       "\n",
       "            avg_order_value  \n",
       "CustomerID                   \n",
       "12346.0        77183.600000  \n",
       "12747.0           40.737961  \n",
       "12748.0            7.336756  \n",
       "12749.0           20.557186  \n",
       "12820.0           15.971864  "
      ]
     },
     "execution_count": 38,
     "metadata": {},
     "output_type": "execute_result"
    }
   ],
   "source": [
    "# Average Order value: giá trị đơn hàng của từng KH = tiền/số giao dịch\n",
    "uk_data_group['avg_order_value']=uk_data_group['spent_money']/uk_data_group['num_transactions']  \n",
    "uk_data_group.head()"
   ]
  },
  {
   "cell_type": "code",
   "execution_count": 39,
   "id": "9b261b64",
   "metadata": {},
   "outputs": [
    {
     "data": {
      "text/plain": [
       "90.37107880642694"
      ]
     },
     "execution_count": 39,
     "metadata": {},
     "output_type": "execute_result"
    }
   ],
   "source": [
    "#Calculate Purchase Frequency :tần suất mua hàng TB= số giao dịch / tổng số KH\n",
    "purchase_frequency=sum(uk_data_group['num_transactions'])/uk_data_group.shape[0] \n",
    "purchase_frequency"
   ]
  },
  {
   "cell_type": "code",
   "execution_count": 42,
   "id": "179c602a",
   "metadata": {},
   "outputs": [
    {
     "data": {
      "text/plain": [
       "0.9818923743942872"
      ]
     },
     "execution_count": 42,
     "metadata": {},
     "output_type": "execute_result"
    }
   ],
   "source": [
    "#Calculate Repeat Rate and Churn Rate\n",
    "#Repeat Rate: tỷ lệ mua hàng lặp lại, số KH có từ 2 giao dịch trở lên / tổng số KH\n",
    "repeat_rate = uk_data_group[uk_data_group.num_transactions > 1].shape[0]/uk_data_group.shape[0]\n",
    "repeat_rate"
   ]
  },
  {
   "cell_type": "code",
   "execution_count": 43,
   "id": "2a1717bf",
   "metadata": {},
   "outputs": [
    {
     "data": {
      "text/plain": [
       "0.018107625605712774"
      ]
     },
     "execution_count": 43,
     "metadata": {},
     "output_type": "execute_result"
    }
   ],
   "source": [
    "# Churn Rate: tỷ lệ rời bỏ\n",
    "churn_rate = 1 - repeat_rate\n",
    "churn_rate"
   ]
  },
  {
   "cell_type": "code",
   "execution_count": 44,
   "id": "ca5f00ef",
   "metadata": {},
   "outputs": [
    {
     "data": {
      "text/plain": [
       "(90.37107880642694, 0.9818923743942872, 0.018107625605712774)"
      ]
     },
     "execution_count": 44,
     "metadata": {},
     "output_type": "execute_result"
    }
   ],
   "source": [
    "purchase_frequency, repeat_rate, churn_rate"
   ]
  },
  {
   "cell_type": "markdown",
   "id": "e74c216a",
   "metadata": {},
   "source": [
    "Calculate Profit Margin \n",
    "Profit margin is the commonly used profitability ratio. It represents how much percentage of total sales has earned as the gain. Let's assume our business has approx 5% profit on the total sale."
   ]
  },
  {
   "cell_type": "code",
   "execution_count": null,
   "id": "fbb890e1",
   "metadata": {},
   "outputs": [],
   "source": [
    "# Profit Margin "
   ]
  },
  {
   "cell_type": "code",
   "execution_count": 45,
   "id": "82a831cf",
   "metadata": {},
   "outputs": [],
   "source": [
    "uk_data_group['profit_margin'] = uk_data_group['spent_money']*0.05"
   ]
  },
  {
   "cell_type": "code",
   "execution_count": 46,
   "id": "0b46d38d",
   "metadata": {},
   "outputs": [
    {
     "data": {
      "text/html": [
       "<div>\n",
       "<style scoped>\n",
       "    .dataframe tbody tr th:only-of-type {\n",
       "        vertical-align: middle;\n",
       "    }\n",
       "\n",
       "    .dataframe tbody tr th {\n",
       "        vertical-align: top;\n",
       "    }\n",
       "\n",
       "    .dataframe thead th {\n",
       "        text-align: right;\n",
       "    }\n",
       "</style>\n",
       "<table border=\"1\" class=\"dataframe\">\n",
       "  <thead>\n",
       "    <tr style=\"text-align: right;\">\n",
       "      <th></th>\n",
       "      <th>num_days</th>\n",
       "      <th>num_transactions</th>\n",
       "      <th>num_units</th>\n",
       "      <th>spent_money</th>\n",
       "      <th>avg_order_value</th>\n",
       "      <th>profit_margin</th>\n",
       "    </tr>\n",
       "    <tr>\n",
       "      <th>CustomerID</th>\n",
       "      <th></th>\n",
       "      <th></th>\n",
       "      <th></th>\n",
       "      <th></th>\n",
       "      <th></th>\n",
       "      <th></th>\n",
       "    </tr>\n",
       "  </thead>\n",
       "  <tbody>\n",
       "    <tr>\n",
       "      <th>12346.0</th>\n",
       "      <td>325</td>\n",
       "      <td>1</td>\n",
       "      <td>74215</td>\n",
       "      <td>77183.60</td>\n",
       "      <td>77183.600000</td>\n",
       "      <td>3859.1800</td>\n",
       "    </tr>\n",
       "    <tr>\n",
       "      <th>12747.0</th>\n",
       "      <td>368</td>\n",
       "      <td>103</td>\n",
       "      <td>1275</td>\n",
       "      <td>4196.01</td>\n",
       "      <td>40.737961</td>\n",
       "      <td>209.8005</td>\n",
       "    </tr>\n",
       "    <tr>\n",
       "      <th>12748.0</th>\n",
       "      <td>373</td>\n",
       "      <td>4596</td>\n",
       "      <td>25748</td>\n",
       "      <td>33719.73</td>\n",
       "      <td>7.336756</td>\n",
       "      <td>1685.9865</td>\n",
       "    </tr>\n",
       "    <tr>\n",
       "      <th>12749.0</th>\n",
       "      <td>212</td>\n",
       "      <td>199</td>\n",
       "      <td>1471</td>\n",
       "      <td>4090.88</td>\n",
       "      <td>20.557186</td>\n",
       "      <td>204.5440</td>\n",
       "    </tr>\n",
       "    <tr>\n",
       "      <th>12820.0</th>\n",
       "      <td>326</td>\n",
       "      <td>59</td>\n",
       "      <td>722</td>\n",
       "      <td>942.34</td>\n",
       "      <td>15.971864</td>\n",
       "      <td>47.1170</td>\n",
       "    </tr>\n",
       "  </tbody>\n",
       "</table>\n",
       "</div>"
      ],
      "text/plain": [
       "            num_days  num_transactions  num_units  spent_money  \\\n",
       "CustomerID                                                       \n",
       "12346.0          325                 1      74215     77183.60   \n",
       "12747.0          368               103       1275      4196.01   \n",
       "12748.0          373              4596      25748     33719.73   \n",
       "12749.0          212               199       1471      4090.88   \n",
       "12820.0          326                59        722       942.34   \n",
       "\n",
       "            avg_order_value  profit_margin  \n",
       "CustomerID                                  \n",
       "12346.0        77183.600000      3859.1800  \n",
       "12747.0           40.737961       209.8005  \n",
       "12748.0            7.336756      1685.9865  \n",
       "12749.0           20.557186       204.5440  \n",
       "12820.0           15.971864        47.1170  "
      ]
     },
     "execution_count": 46,
     "metadata": {},
     "output_type": "execute_result"
    }
   ],
   "source": [
    "uk_data_group.head()"
   ]
  },
  {
   "cell_type": "markdown",
   "id": "2b981dfd",
   "metadata": {},
   "source": [
    "Calculate Customer Lifetime Value"
   ]
  },
  {
   "cell_type": "code",
   "execution_count": 48,
   "id": "39bdd923",
   "metadata": {},
   "outputs": [
    {
     "data": {
      "text/html": [
       "<div>\n",
       "<style scoped>\n",
       "    .dataframe tbody tr th:only-of-type {\n",
       "        vertical-align: middle;\n",
       "    }\n",
       "\n",
       "    .dataframe tbody tr th {\n",
       "        vertical-align: top;\n",
       "    }\n",
       "\n",
       "    .dataframe thead th {\n",
       "        text-align: right;\n",
       "    }\n",
       "</style>\n",
       "<table border=\"1\" class=\"dataframe\">\n",
       "  <thead>\n",
       "    <tr style=\"text-align: right;\">\n",
       "      <th></th>\n",
       "      <th>num_days</th>\n",
       "      <th>num_transactions</th>\n",
       "      <th>num_units</th>\n",
       "      <th>spent_money</th>\n",
       "      <th>avg_order_value</th>\n",
       "      <th>profit_margin</th>\n",
       "      <th>CLV</th>\n",
       "    </tr>\n",
       "    <tr>\n",
       "      <th>CustomerID</th>\n",
       "      <th></th>\n",
       "      <th></th>\n",
       "      <th></th>\n",
       "      <th></th>\n",
       "      <th></th>\n",
       "      <th></th>\n",
       "      <th></th>\n",
       "    </tr>\n",
       "  </thead>\n",
       "  <tbody>\n",
       "    <tr>\n",
       "      <th>12346.0</th>\n",
       "      <td>325</td>\n",
       "      <td>1</td>\n",
       "      <td>74215</td>\n",
       "      <td>77183.60</td>\n",
       "      <td>77183.600000</td>\n",
       "      <td>3859.1800</td>\n",
       "      <td>3.852060e+08</td>\n",
       "    </tr>\n",
       "    <tr>\n",
       "      <th>12747.0</th>\n",
       "      <td>368</td>\n",
       "      <td>103</td>\n",
       "      <td>1275</td>\n",
       "      <td>4196.01</td>\n",
       "      <td>40.737961</td>\n",
       "      <td>209.8005</td>\n",
       "      <td>2.033140e+05</td>\n",
       "    </tr>\n",
       "    <tr>\n",
       "      <th>12748.0</th>\n",
       "      <td>373</td>\n",
       "      <td>4596</td>\n",
       "      <td>25748</td>\n",
       "      <td>33719.73</td>\n",
       "      <td>7.336756</td>\n",
       "      <td>1685.9865</td>\n",
       "      <td>3.661610e+04</td>\n",
       "    </tr>\n",
       "    <tr>\n",
       "      <th>12749.0</th>\n",
       "      <td>212</td>\n",
       "      <td>199</td>\n",
       "      <td>1471</td>\n",
       "      <td>4090.88</td>\n",
       "      <td>20.557186</td>\n",
       "      <td>204.5440</td>\n",
       "      <td>1.025963e+05</td>\n",
       "    </tr>\n",
       "    <tr>\n",
       "      <th>12820.0</th>\n",
       "      <td>326</td>\n",
       "      <td>59</td>\n",
       "      <td>722</td>\n",
       "      <td>942.34</td>\n",
       "      <td>15.971864</td>\n",
       "      <td>47.1170</td>\n",
       "      <td>7.971198e+04</td>\n",
       "    </tr>\n",
       "  </tbody>\n",
       "</table>\n",
       "</div>"
      ],
      "text/plain": [
       "            num_days  num_transactions  num_units  spent_money  \\\n",
       "CustomerID                                                       \n",
       "12346.0          325                 1      74215     77183.60   \n",
       "12747.0          368               103       1275      4196.01   \n",
       "12748.0          373              4596      25748     33719.73   \n",
       "12749.0          212               199       1471      4090.88   \n",
       "12820.0          326                59        722       942.34   \n",
       "\n",
       "            avg_order_value  profit_margin           CLV  \n",
       "CustomerID                                                \n",
       "12346.0        77183.600000      3859.1800  3.852060e+08  \n",
       "12747.0           40.737961       209.8005  2.033140e+05  \n",
       "12748.0            7.336756      1685.9865  3.661610e+04  \n",
       "12749.0           20.557186       204.5440  1.025963e+05  \n",
       "12820.0           15.971864        47.1170  7.971198e+04  "
      ]
     },
     "execution_count": 48,
     "metadata": {},
     "output_type": "execute_result"
    }
   ],
   "source": [
    "# Customer Value\n",
    "#CLV Average Order Value x Purchase Frequency)/Churn Rate \n",
    "uk_data_group['CLV']=(uk_data_group['avg_order_value']*purchase_frequency)/churn_rate\n",
    "uk_data_group.head()"
   ]
  },
  {
   "cell_type": "code",
   "execution_count": 97,
   "id": "7e39f5bb",
   "metadata": {},
   "outputs": [],
   "source": [
    "#Customer Lifetime Value \n",
    "\n",
    "#CLTV = ((Average Order Value x Purchase Frequency)/Churn Rate) x Profit margin. \n",
    "uk_data_group['customer_lifetime_value']=uk_data_group['CLV']*0.05"
   ]
  },
  {
   "cell_type": "code",
   "execution_count": 98,
   "id": "cfb87712",
   "metadata": {
    "scrolled": true
   },
   "outputs": [
    {
     "data": {
      "text/html": [
       "<div>\n",
       "<style scoped>\n",
       "    .dataframe tbody tr th:only-of-type {\n",
       "        vertical-align: middle;\n",
       "    }\n",
       "\n",
       "    .dataframe tbody tr th {\n",
       "        vertical-align: top;\n",
       "    }\n",
       "\n",
       "    .dataframe thead th {\n",
       "        text-align: right;\n",
       "    }\n",
       "</style>\n",
       "<table border=\"1\" class=\"dataframe\">\n",
       "  <thead>\n",
       "    <tr style=\"text-align: right;\">\n",
       "      <th></th>\n",
       "      <th>num_days</th>\n",
       "      <th>num_transactions</th>\n",
       "      <th>num_units</th>\n",
       "      <th>spent_money</th>\n",
       "      <th>avg_order_value</th>\n",
       "      <th>profit_margin</th>\n",
       "      <th>CLV</th>\n",
       "      <th>customer_lifetime_value</th>\n",
       "    </tr>\n",
       "    <tr>\n",
       "      <th>CustomerID</th>\n",
       "      <th></th>\n",
       "      <th></th>\n",
       "      <th></th>\n",
       "      <th></th>\n",
       "      <th></th>\n",
       "      <th></th>\n",
       "      <th></th>\n",
       "      <th></th>\n",
       "    </tr>\n",
       "  </thead>\n",
       "  <tbody>\n",
       "    <tr>\n",
       "      <th>18280.0</th>\n",
       "      <td>277</td>\n",
       "      <td>10</td>\n",
       "      <td>45</td>\n",
       "      <td>180.60</td>\n",
       "      <td>18.060000</td>\n",
       "      <td>9.0300</td>\n",
       "      <td>90133.390141</td>\n",
       "      <td>4506.669507</td>\n",
       "    </tr>\n",
       "    <tr>\n",
       "      <th>18281.0</th>\n",
       "      <td>180</td>\n",
       "      <td>7</td>\n",
       "      <td>54</td>\n",
       "      <td>80.82</td>\n",
       "      <td>11.545714</td>\n",
       "      <td>4.0410</td>\n",
       "      <td>57622.058149</td>\n",
       "      <td>2881.102907</td>\n",
       "    </tr>\n",
       "    <tr>\n",
       "      <th>18282.0</th>\n",
       "      <td>125</td>\n",
       "      <td>12</td>\n",
       "      <td>103</td>\n",
       "      <td>178.05</td>\n",
       "      <td>14.837500</td>\n",
       "      <td>8.9025</td>\n",
       "      <td>74050.618838</td>\n",
       "      <td>3702.530942</td>\n",
       "    </tr>\n",
       "    <tr>\n",
       "      <th>18283.0</th>\n",
       "      <td>336</td>\n",
       "      <td>756</td>\n",
       "      <td>1397</td>\n",
       "      <td>2094.88</td>\n",
       "      <td>2.771005</td>\n",
       "      <td>104.7440</td>\n",
       "      <td>13829.462956</td>\n",
       "      <td>691.473148</td>\n",
       "    </tr>\n",
       "    <tr>\n",
       "      <th>18287.0</th>\n",
       "      <td>201</td>\n",
       "      <td>70</td>\n",
       "      <td>1586</td>\n",
       "      <td>1837.28</td>\n",
       "      <td>26.246857</td>\n",
       "      <td>91.8640</td>\n",
       "      <td>130992.149215</td>\n",
       "      <td>6549.607461</td>\n",
       "    </tr>\n",
       "  </tbody>\n",
       "</table>\n",
       "</div>"
      ],
      "text/plain": [
       "            num_days  num_transactions  num_units  spent_money  \\\n",
       "CustomerID                                                       \n",
       "18280.0          277                10         45       180.60   \n",
       "18281.0          180                 7         54        80.82   \n",
       "18282.0          125                12        103       178.05   \n",
       "18283.0          336               756       1397      2094.88   \n",
       "18287.0          201                70       1586      1837.28   \n",
       "\n",
       "            avg_order_value  profit_margin            CLV  \\\n",
       "CustomerID                                                  \n",
       "18280.0           18.060000         9.0300   90133.390141   \n",
       "18281.0           11.545714         4.0410   57622.058149   \n",
       "18282.0           14.837500         8.9025   74050.618838   \n",
       "18283.0            2.771005       104.7440   13829.462956   \n",
       "18287.0           26.246857        91.8640  130992.149215   \n",
       "\n",
       "            customer_lifetime_value  \n",
       "CustomerID                           \n",
       "18280.0                 4506.669507  \n",
       "18281.0                 2881.102907  \n",
       "18282.0                 3702.530942  \n",
       "18283.0                  691.473148  \n",
       "18287.0                 6549.607461  "
      ]
     },
     "execution_count": 98,
     "metadata": {},
     "output_type": "execute_result"
    }
   ],
   "source": [
    "uk_data_group.tail()"
   ]
  },
  {
   "cell_type": "code",
   "execution_count": 99,
   "id": "868feafd",
   "metadata": {},
   "outputs": [
    {
     "data": {
      "text/plain": [
       "17901.49395081502"
      ]
     },
     "execution_count": 99,
     "metadata": {},
     "output_type": "execute_result"
    }
   ],
   "source": [
    "uk_data_group['customer_lifetime_value'].mean()"
   ]
  },
  {
   "cell_type": "markdown",
   "id": "656c887c",
   "metadata": {},
   "source": [
    "### Kết luận: Với hơn 3921 khách hàng, ta tính ra trung binh CLV là 17901 usd. \n",
    "\n",
    "Dựa vào phân loại khách hàng để ta biết được nhóm nào mang lại lợi nhuận, doanh thu cao nhất, để có thể có chiến lược marketing tốt. Sau đây ta sẽ tính toán Doanh thu dựa trên Tháng"
   ]
  },
  {
   "cell_type": "markdown",
   "id": "03e34bfb",
   "metadata": {},
   "source": [
    "### Prediction Model for CLTV \n",
    "Predict CLTV using Multiple Linear Regression Model: mô hình hồi quy tuyến tính bội"
   ]
  },
  {
   "cell_type": "code",
   "execution_count": 72,
   "id": "76d42344",
   "metadata": {},
   "outputs": [
    {
     "data": {
      "text/html": [
       "<div>\n",
       "<style scoped>\n",
       "    .dataframe tbody tr th:only-of-type {\n",
       "        vertical-align: middle;\n",
       "    }\n",
       "\n",
       "    .dataframe tbody tr th {\n",
       "        vertical-align: top;\n",
       "    }\n",
       "\n",
       "    .dataframe thead th {\n",
       "        text-align: right;\n",
       "    }\n",
       "</style>\n",
       "<table border=\"1\" class=\"dataframe\">\n",
       "  <thead>\n",
       "    <tr style=\"text-align: right;\">\n",
       "      <th></th>\n",
       "      <th>CustomerID</th>\n",
       "      <th>InvoiceDate</th>\n",
       "      <th>InvoiceNo</th>\n",
       "      <th>Quantity</th>\n",
       "      <th>UnitPrice</th>\n",
       "      <th>TotalPurchase</th>\n",
       "    </tr>\n",
       "  </thead>\n",
       "  <tbody>\n",
       "    <tr>\n",
       "      <th>0</th>\n",
       "      <td>17850.0</td>\n",
       "      <td>2010-12-01 08:26:00</td>\n",
       "      <td>536365</td>\n",
       "      <td>6</td>\n",
       "      <td>2.55</td>\n",
       "      <td>15.30</td>\n",
       "    </tr>\n",
       "    <tr>\n",
       "      <th>1</th>\n",
       "      <td>17850.0</td>\n",
       "      <td>2010-12-01 08:26:00</td>\n",
       "      <td>536365</td>\n",
       "      <td>6</td>\n",
       "      <td>3.39</td>\n",
       "      <td>20.34</td>\n",
       "    </tr>\n",
       "    <tr>\n",
       "      <th>2</th>\n",
       "      <td>17850.0</td>\n",
       "      <td>2010-12-01 08:26:00</td>\n",
       "      <td>536365</td>\n",
       "      <td>8</td>\n",
       "      <td>2.75</td>\n",
       "      <td>22.00</td>\n",
       "    </tr>\n",
       "    <tr>\n",
       "      <th>3</th>\n",
       "      <td>17850.0</td>\n",
       "      <td>2010-12-01 08:26:00</td>\n",
       "      <td>536365</td>\n",
       "      <td>6</td>\n",
       "      <td>3.39</td>\n",
       "      <td>20.34</td>\n",
       "    </tr>\n",
       "    <tr>\n",
       "      <th>4</th>\n",
       "      <td>17850.0</td>\n",
       "      <td>2010-12-01 08:26:00</td>\n",
       "      <td>536365</td>\n",
       "      <td>6</td>\n",
       "      <td>3.39</td>\n",
       "      <td>20.34</td>\n",
       "    </tr>\n",
       "  </tbody>\n",
       "</table>\n",
       "</div>"
      ],
      "text/plain": [
       "   CustomerID         InvoiceDate InvoiceNo  Quantity  UnitPrice  \\\n",
       "0     17850.0 2010-12-01 08:26:00    536365         6       2.55   \n",
       "1     17850.0 2010-12-01 08:26:00    536365         6       3.39   \n",
       "2     17850.0 2010-12-01 08:26:00    536365         8       2.75   \n",
       "3     17850.0 2010-12-01 08:26:00    536365         6       3.39   \n",
       "4     17850.0 2010-12-01 08:26:00    536365         6       3.39   \n",
       "\n",
       "   TotalPurchase  \n",
       "0          15.30  \n",
       "1          20.34  \n",
       "2          22.00  \n",
       "3          20.34  \n",
       "4          20.34  "
      ]
     },
     "execution_count": 72,
     "metadata": {},
     "output_type": "execute_result"
    }
   ],
   "source": [
    "uk_data.head()"
   ]
  },
  {
   "cell_type": "code",
   "execution_count": 73,
   "id": "a3192aa6",
   "metadata": {},
   "outputs": [
    {
     "data": {
      "text/plain": [
       "(486286, 6)"
      ]
     },
     "execution_count": 73,
     "metadata": {},
     "output_type": "execute_result"
    }
   ],
   "source": [
    "uk_data.shape"
   ]
  },
  {
   "cell_type": "code",
   "execution_count": 74,
   "id": "0dd4e36f",
   "metadata": {},
   "outputs": [],
   "source": [
    "#Extract month and year from InvoiceDate\n",
    "uk_data['month_year'] = uk_data['InvoiceDate'].apply(lambda x: x.strftime('%b-%Y'))"
   ]
  },
  {
   "cell_type": "code",
   "execution_count": 75,
   "id": "d6b1ccd3",
   "metadata": {
    "scrolled": true
   },
   "outputs": [
    {
     "data": {
      "text/html": [
       "<div>\n",
       "<style scoped>\n",
       "    .dataframe tbody tr th:only-of-type {\n",
       "        vertical-align: middle;\n",
       "    }\n",
       "\n",
       "    .dataframe tbody tr th {\n",
       "        vertical-align: top;\n",
       "    }\n",
       "\n",
       "    .dataframe thead th {\n",
       "        text-align: right;\n",
       "    }\n",
       "</style>\n",
       "<table border=\"1\" class=\"dataframe\">\n",
       "  <thead>\n",
       "    <tr style=\"text-align: right;\">\n",
       "      <th></th>\n",
       "      <th>CustomerID</th>\n",
       "      <th>InvoiceDate</th>\n",
       "      <th>InvoiceNo</th>\n",
       "      <th>Quantity</th>\n",
       "      <th>UnitPrice</th>\n",
       "      <th>TotalPurchase</th>\n",
       "      <th>month_year</th>\n",
       "    </tr>\n",
       "  </thead>\n",
       "  <tbody>\n",
       "    <tr>\n",
       "      <th>0</th>\n",
       "      <td>17850.0</td>\n",
       "      <td>2010-12-01 08:26:00</td>\n",
       "      <td>536365</td>\n",
       "      <td>6</td>\n",
       "      <td>2.55</td>\n",
       "      <td>15.30</td>\n",
       "      <td>Dec-2010</td>\n",
       "    </tr>\n",
       "    <tr>\n",
       "      <th>1</th>\n",
       "      <td>17850.0</td>\n",
       "      <td>2010-12-01 08:26:00</td>\n",
       "      <td>536365</td>\n",
       "      <td>6</td>\n",
       "      <td>3.39</td>\n",
       "      <td>20.34</td>\n",
       "      <td>Dec-2010</td>\n",
       "    </tr>\n",
       "    <tr>\n",
       "      <th>2</th>\n",
       "      <td>17850.0</td>\n",
       "      <td>2010-12-01 08:26:00</td>\n",
       "      <td>536365</td>\n",
       "      <td>8</td>\n",
       "      <td>2.75</td>\n",
       "      <td>22.00</td>\n",
       "      <td>Dec-2010</td>\n",
       "    </tr>\n",
       "    <tr>\n",
       "      <th>3</th>\n",
       "      <td>17850.0</td>\n",
       "      <td>2010-12-01 08:26:00</td>\n",
       "      <td>536365</td>\n",
       "      <td>6</td>\n",
       "      <td>3.39</td>\n",
       "      <td>20.34</td>\n",
       "      <td>Dec-2010</td>\n",
       "    </tr>\n",
       "    <tr>\n",
       "      <th>4</th>\n",
       "      <td>17850.0</td>\n",
       "      <td>2010-12-01 08:26:00</td>\n",
       "      <td>536365</td>\n",
       "      <td>6</td>\n",
       "      <td>3.39</td>\n",
       "      <td>20.34</td>\n",
       "      <td>Dec-2010</td>\n",
       "    </tr>\n",
       "  </tbody>\n",
       "</table>\n",
       "</div>"
      ],
      "text/plain": [
       "   CustomerID         InvoiceDate InvoiceNo  Quantity  UnitPrice  \\\n",
       "0     17850.0 2010-12-01 08:26:00    536365         6       2.55   \n",
       "1     17850.0 2010-12-01 08:26:00    536365         6       3.39   \n",
       "2     17850.0 2010-12-01 08:26:00    536365         8       2.75   \n",
       "3     17850.0 2010-12-01 08:26:00    536365         6       3.39   \n",
       "4     17850.0 2010-12-01 08:26:00    536365         6       3.39   \n",
       "\n",
       "   TotalPurchase month_year  \n",
       "0          15.30   Dec-2010  \n",
       "1          20.34   Dec-2010  \n",
       "2          22.00   Dec-2010  \n",
       "3          20.34   Dec-2010  \n",
       "4          20.34   Dec-2010  "
      ]
     },
     "execution_count": 75,
     "metadata": {},
     "output_type": "execute_result"
    }
   ],
   "source": [
    "uk_data.head()"
   ]
  },
  {
   "cell_type": "markdown",
   "id": "f22d3243",
   "metadata": {},
   "source": [
    "Sử dụng Đây là phương thức pivot_table() của Pandas để tạo một DataFrame sale chứa bảng pivot từ dữ liệu trong DataFrame uk_data. Bảng pivot này có chỉ số (index) là 'CustomerID', các cột là 'month_year' và các giá trị trong bảng là tổng của cột 'TotalPurchase' tương ứng với mỗi cặp chỉ số (index) và cột. Nếu không có giá trị nào tương ủng các ô trong bảng pivot sẽ được điền bằng 0."
   ]
  },
  {
   "cell_type": "code",
   "execution_count": 76,
   "id": "16f98090",
   "metadata": {},
   "outputs": [],
   "source": [
    "sale=uk_data.pivot_table(index=['CustomerID'],columns=['month_year'],values='TotalPurchase',aggfunc='sum',fill_value=0)"
   ]
  },
  {
   "cell_type": "code",
   "execution_count": 77,
   "id": "a8fc93dd",
   "metadata": {},
   "outputs": [
    {
     "data": {
      "text/html": [
       "<div>\n",
       "<style scoped>\n",
       "    .dataframe tbody tr th:only-of-type {\n",
       "        vertical-align: middle;\n",
       "    }\n",
       "\n",
       "    .dataframe tbody tr th {\n",
       "        vertical-align: top;\n",
       "    }\n",
       "\n",
       "    .dataframe thead th {\n",
       "        text-align: right;\n",
       "    }\n",
       "</style>\n",
       "<table border=\"1\" class=\"dataframe\">\n",
       "  <thead>\n",
       "    <tr style=\"text-align: right;\">\n",
       "      <th>month_year</th>\n",
       "      <th>Apr-2011</th>\n",
       "      <th>Aug-2011</th>\n",
       "      <th>Dec-2010</th>\n",
       "      <th>Dec-2011</th>\n",
       "      <th>Feb-2011</th>\n",
       "      <th>Jan-2011</th>\n",
       "      <th>Jul-2011</th>\n",
       "      <th>Jun-2011</th>\n",
       "      <th>Mar-2011</th>\n",
       "      <th>May-2011</th>\n",
       "      <th>Nov-2011</th>\n",
       "      <th>Oct-2011</th>\n",
       "      <th>Sep-2011</th>\n",
       "    </tr>\n",
       "    <tr>\n",
       "      <th>CustomerID</th>\n",
       "      <th></th>\n",
       "      <th></th>\n",
       "      <th></th>\n",
       "      <th></th>\n",
       "      <th></th>\n",
       "      <th></th>\n",
       "      <th></th>\n",
       "      <th></th>\n",
       "      <th></th>\n",
       "      <th></th>\n",
       "      <th></th>\n",
       "      <th></th>\n",
       "      <th></th>\n",
       "    </tr>\n",
       "  </thead>\n",
       "  <tbody>\n",
       "    <tr>\n",
       "      <th>12346.0</th>\n",
       "      <td>0.00</td>\n",
       "      <td>0.00</td>\n",
       "      <td>0.00</td>\n",
       "      <td>0.00</td>\n",
       "      <td>0.00</td>\n",
       "      <td>77183.60</td>\n",
       "      <td>0.00</td>\n",
       "      <td>0.00</td>\n",
       "      <td>0.00</td>\n",
       "      <td>0.00</td>\n",
       "      <td>0.00</td>\n",
       "      <td>0.00</td>\n",
       "      <td>0.00</td>\n",
       "    </tr>\n",
       "    <tr>\n",
       "      <th>12747.0</th>\n",
       "      <td>0.00</td>\n",
       "      <td>301.70</td>\n",
       "      <td>706.27</td>\n",
       "      <td>438.50</td>\n",
       "      <td>0.00</td>\n",
       "      <td>303.04</td>\n",
       "      <td>0.00</td>\n",
       "      <td>376.30</td>\n",
       "      <td>310.78</td>\n",
       "      <td>771.31</td>\n",
       "      <td>312.73</td>\n",
       "      <td>675.38</td>\n",
       "      <td>0.00</td>\n",
       "    </tr>\n",
       "    <tr>\n",
       "      <th>12748.0</th>\n",
       "      <td>1100.37</td>\n",
       "      <td>898.24</td>\n",
       "      <td>4228.13</td>\n",
       "      <td>1070.27</td>\n",
       "      <td>389.64</td>\n",
       "      <td>418.77</td>\n",
       "      <td>1113.27</td>\n",
       "      <td>2006.26</td>\n",
       "      <td>1179.37</td>\n",
       "      <td>2234.50</td>\n",
       "      <td>10639.23</td>\n",
       "      <td>2292.84</td>\n",
       "      <td>6148.84</td>\n",
       "    </tr>\n",
       "    <tr>\n",
       "      <th>12749.0</th>\n",
       "      <td>0.00</td>\n",
       "      <td>1896.13</td>\n",
       "      <td>0.00</td>\n",
       "      <td>763.06</td>\n",
       "      <td>0.00</td>\n",
       "      <td>0.00</td>\n",
       "      <td>0.00</td>\n",
       "      <td>0.00</td>\n",
       "      <td>0.00</td>\n",
       "      <td>859.10</td>\n",
       "      <td>572.59</td>\n",
       "      <td>0.00</td>\n",
       "      <td>0.00</td>\n",
       "    </tr>\n",
       "    <tr>\n",
       "      <th>12820.0</th>\n",
       "      <td>0.00</td>\n",
       "      <td>0.00</td>\n",
       "      <td>0.00</td>\n",
       "      <td>210.35</td>\n",
       "      <td>0.00</td>\n",
       "      <td>170.46</td>\n",
       "      <td>0.00</td>\n",
       "      <td>0.00</td>\n",
       "      <td>0.00</td>\n",
       "      <td>0.00</td>\n",
       "      <td>0.00</td>\n",
       "      <td>343.76</td>\n",
       "      <td>217.77</td>\n",
       "    </tr>\n",
       "  </tbody>\n",
       "</table>\n",
       "</div>"
      ],
      "text/plain": [
       "month_year  Apr-2011  Aug-2011  Dec-2010  Dec-2011  Feb-2011  Jan-2011  \\\n",
       "CustomerID                                                               \n",
       "12346.0         0.00      0.00      0.00      0.00      0.00  77183.60   \n",
       "12747.0         0.00    301.70    706.27    438.50      0.00    303.04   \n",
       "12748.0      1100.37    898.24   4228.13   1070.27    389.64    418.77   \n",
       "12749.0         0.00   1896.13      0.00    763.06      0.00      0.00   \n",
       "12820.0         0.00      0.00      0.00    210.35      0.00    170.46   \n",
       "\n",
       "month_year  Jul-2011  Jun-2011  Mar-2011  May-2011  Nov-2011  Oct-2011  \\\n",
       "CustomerID                                                               \n",
       "12346.0         0.00      0.00      0.00      0.00      0.00      0.00   \n",
       "12747.0         0.00    376.30    310.78    771.31    312.73    675.38   \n",
       "12748.0      1113.27   2006.26   1179.37   2234.50  10639.23   2292.84   \n",
       "12749.0         0.00      0.00      0.00    859.10    572.59      0.00   \n",
       "12820.0         0.00      0.00      0.00      0.00      0.00    343.76   \n",
       "\n",
       "month_year  Sep-2011  \n",
       "CustomerID            \n",
       "12346.0         0.00  \n",
       "12747.0         0.00  \n",
       "12748.0      6148.84  \n",
       "12749.0         0.00  \n",
       "12820.0       217.77  "
      ]
     },
     "execution_count": 77,
     "metadata": {},
     "output_type": "execute_result"
    }
   ],
   "source": [
    "sale.head()"
   ]
  },
  {
   "cell_type": "code",
   "execution_count": 78,
   "id": "dedafc99",
   "metadata": {},
   "outputs": [
    {
     "data": {
      "text/plain": [
       "(3921, 13)"
      ]
     },
     "execution_count": 78,
     "metadata": {},
     "output_type": "execute_result"
    }
   ],
   "source": [
    "sale.shape"
   ]
  },
  {
   "cell_type": "code",
   "execution_count": 79,
   "id": "159cc8b9",
   "metadata": {},
   "outputs": [],
   "source": [
    "# let's sum all the months sales.\n",
    "sale['CLV'] = sale.iloc[:,2:].sum(axis=1)  #CLV ở đây là 'TotalPurchase' - Dthu"
   ]
  },
  {
   "cell_type": "code",
   "execution_count": 80,
   "id": "ce380826",
   "metadata": {
    "scrolled": true
   },
   "outputs": [
    {
     "data": {
      "text/html": [
       "<div>\n",
       "<style scoped>\n",
       "    .dataframe tbody tr th:only-of-type {\n",
       "        vertical-align: middle;\n",
       "    }\n",
       "\n",
       "    .dataframe tbody tr th {\n",
       "        vertical-align: top;\n",
       "    }\n",
       "\n",
       "    .dataframe thead th {\n",
       "        text-align: right;\n",
       "    }\n",
       "</style>\n",
       "<table border=\"1\" class=\"dataframe\">\n",
       "  <thead>\n",
       "    <tr style=\"text-align: right;\">\n",
       "      <th>month_year</th>\n",
       "      <th>Apr-2011</th>\n",
       "      <th>Aug-2011</th>\n",
       "      <th>Dec-2010</th>\n",
       "      <th>Dec-2011</th>\n",
       "      <th>Feb-2011</th>\n",
       "      <th>Jan-2011</th>\n",
       "      <th>Jul-2011</th>\n",
       "      <th>Jun-2011</th>\n",
       "      <th>Mar-2011</th>\n",
       "      <th>May-2011</th>\n",
       "      <th>Nov-2011</th>\n",
       "      <th>Oct-2011</th>\n",
       "      <th>Sep-2011</th>\n",
       "      <th>CLV</th>\n",
       "    </tr>\n",
       "    <tr>\n",
       "      <th>CustomerID</th>\n",
       "      <th></th>\n",
       "      <th></th>\n",
       "      <th></th>\n",
       "      <th></th>\n",
       "      <th></th>\n",
       "      <th></th>\n",
       "      <th></th>\n",
       "      <th></th>\n",
       "      <th></th>\n",
       "      <th></th>\n",
       "      <th></th>\n",
       "      <th></th>\n",
       "      <th></th>\n",
       "      <th></th>\n",
       "    </tr>\n",
       "  </thead>\n",
       "  <tbody>\n",
       "    <tr>\n",
       "      <th>12346.0</th>\n",
       "      <td>0.00</td>\n",
       "      <td>0.00</td>\n",
       "      <td>0.00</td>\n",
       "      <td>0.00</td>\n",
       "      <td>0.00</td>\n",
       "      <td>77183.60</td>\n",
       "      <td>0.00</td>\n",
       "      <td>0.00</td>\n",
       "      <td>0.00</td>\n",
       "      <td>0.00</td>\n",
       "      <td>0.00</td>\n",
       "      <td>0.00</td>\n",
       "      <td>0.00</td>\n",
       "      <td>77183.60</td>\n",
       "    </tr>\n",
       "    <tr>\n",
       "      <th>12747.0</th>\n",
       "      <td>0.00</td>\n",
       "      <td>301.70</td>\n",
       "      <td>706.27</td>\n",
       "      <td>438.50</td>\n",
       "      <td>0.00</td>\n",
       "      <td>303.04</td>\n",
       "      <td>0.00</td>\n",
       "      <td>376.30</td>\n",
       "      <td>310.78</td>\n",
       "      <td>771.31</td>\n",
       "      <td>312.73</td>\n",
       "      <td>675.38</td>\n",
       "      <td>0.00</td>\n",
       "      <td>3894.31</td>\n",
       "    </tr>\n",
       "    <tr>\n",
       "      <th>12748.0</th>\n",
       "      <td>1100.37</td>\n",
       "      <td>898.24</td>\n",
       "      <td>4228.13</td>\n",
       "      <td>1070.27</td>\n",
       "      <td>389.64</td>\n",
       "      <td>418.77</td>\n",
       "      <td>1113.27</td>\n",
       "      <td>2006.26</td>\n",
       "      <td>1179.37</td>\n",
       "      <td>2234.50</td>\n",
       "      <td>10639.23</td>\n",
       "      <td>2292.84</td>\n",
       "      <td>6148.84</td>\n",
       "      <td>31721.12</td>\n",
       "    </tr>\n",
       "    <tr>\n",
       "      <th>12749.0</th>\n",
       "      <td>0.00</td>\n",
       "      <td>1896.13</td>\n",
       "      <td>0.00</td>\n",
       "      <td>763.06</td>\n",
       "      <td>0.00</td>\n",
       "      <td>0.00</td>\n",
       "      <td>0.00</td>\n",
       "      <td>0.00</td>\n",
       "      <td>0.00</td>\n",
       "      <td>859.10</td>\n",
       "      <td>572.59</td>\n",
       "      <td>0.00</td>\n",
       "      <td>0.00</td>\n",
       "      <td>2194.75</td>\n",
       "    </tr>\n",
       "    <tr>\n",
       "      <th>12820.0</th>\n",
       "      <td>0.00</td>\n",
       "      <td>0.00</td>\n",
       "      <td>0.00</td>\n",
       "      <td>210.35</td>\n",
       "      <td>0.00</td>\n",
       "      <td>170.46</td>\n",
       "      <td>0.00</td>\n",
       "      <td>0.00</td>\n",
       "      <td>0.00</td>\n",
       "      <td>0.00</td>\n",
       "      <td>0.00</td>\n",
       "      <td>343.76</td>\n",
       "      <td>217.77</td>\n",
       "      <td>942.34</td>\n",
       "    </tr>\n",
       "  </tbody>\n",
       "</table>\n",
       "</div>"
      ],
      "text/plain": [
       "month_year  Apr-2011  Aug-2011  Dec-2010  Dec-2011  Feb-2011  Jan-2011  \\\n",
       "CustomerID                                                               \n",
       "12346.0         0.00      0.00      0.00      0.00      0.00  77183.60   \n",
       "12747.0         0.00    301.70    706.27    438.50      0.00    303.04   \n",
       "12748.0      1100.37    898.24   4228.13   1070.27    389.64    418.77   \n",
       "12749.0         0.00   1896.13      0.00    763.06      0.00      0.00   \n",
       "12820.0         0.00      0.00      0.00    210.35      0.00    170.46   \n",
       "\n",
       "month_year  Jul-2011  Jun-2011  Mar-2011  May-2011  Nov-2011  Oct-2011  \\\n",
       "CustomerID                                                               \n",
       "12346.0         0.00      0.00      0.00      0.00      0.00      0.00   \n",
       "12747.0         0.00    376.30    310.78    771.31    312.73    675.38   \n",
       "12748.0      1113.27   2006.26   1179.37   2234.50  10639.23   2292.84   \n",
       "12749.0         0.00      0.00      0.00    859.10    572.59      0.00   \n",
       "12820.0         0.00      0.00      0.00      0.00      0.00    343.76   \n",
       "\n",
       "month_year  Sep-2011       CLV  \n",
       "CustomerID                      \n",
       "12346.0         0.00  77183.60  \n",
       "12747.0         0.00   3894.31  \n",
       "12748.0      6148.84  31721.12  \n",
       "12749.0         0.00   2194.75  \n",
       "12820.0       217.77    942.34  "
      ]
     },
     "execution_count": 80,
     "metadata": {},
     "output_type": "execute_result"
    }
   ],
   "source": [
    "sale.head()"
   ]
  },
  {
   "cell_type": "markdown",
   "id": "87106377",
   "metadata": {},
   "source": [
    "Selecting Feature for MLR variables dependent (or target variable) and independent variable (or feature variables). Select latest 6 month as independent variable. "
   ]
  },
  {
   "cell_type": "code",
   "execution_count": 84,
   "id": "5119f119",
   "metadata": {},
   "outputs": [],
   "source": [
    "X=sale[['Dec-2011', 'Nov-2011', 'Oct-2011', 'Sep-2011', 'Aug-2011' , 'Jul-2011']] \n",
    "y=sale[['CLV']]  #dependent variance"
   ]
  },
  {
   "cell_type": "code",
   "execution_count": 85,
   "id": "eb9b6980",
   "metadata": {},
   "outputs": [],
   "source": [
    "#split training set and test set \n",
    "from sklearn.model_selection import train_test_split \n",
    "X_train, X_test, y_train, y_test = train_test_split(X, y, random_state =0)"
   ]
  },
  {
   "cell_type": "code",
   "execution_count": 87,
   "id": "7a6f600c",
   "metadata": {},
   "outputs": [],
   "source": [
    "#import model \n",
    "from sklearn.linear_model import LinearRegression \n",
    "\n",
    "#instantiate \n",
    "lr=LinearRegression() \n",
    "\n",
    "#fit the model to the training data (Learn the coefficients)\n",
    "lr.fit(X_train, y_train) \n",
    "\n",
    "#make predictions on the testing set \n",
    "y_pred = lr.predict(X_test)"
   ]
  },
  {
   "cell_type": "code",
   "execution_count": 89,
   "id": "d91f4094",
   "metadata": {},
   "outputs": [
    {
     "name": "stdout",
     "output_type": "stream",
     "text": [
      "[208.50969617]\n",
      "[[0.99880551 0.80381254 1.60226829 1.67433228 0.52860813 2.87959449]]\n"
     ]
    }
   ],
   "source": [
    "# print the intercept and coefficients \n",
    "print(lr.intercept_) #hệ số chặn\n",
    "print(lr.coef_)      #hệ số hồi quy"
   ]
  },
  {
   "cell_type": "code",
   "execution_count": 91,
   "id": "ba4bf81a",
   "metadata": {},
   "outputs": [
    {
     "data": {
      "text/html": [
       "<div>\n",
       "<style scoped>\n",
       "    .dataframe tbody tr th:only-of-type {\n",
       "        vertical-align: middle;\n",
       "    }\n",
       "\n",
       "    .dataframe tbody tr th {\n",
       "        vertical-align: top;\n",
       "    }\n",
       "\n",
       "    .dataframe thead th {\n",
       "        text-align: right;\n",
       "    }\n",
       "</style>\n",
       "<table border=\"1\" class=\"dataframe\">\n",
       "  <thead>\n",
       "    <tr style=\"text-align: right;\">\n",
       "      <th></th>\n",
       "      <th>0</th>\n",
       "    </tr>\n",
       "    <tr>\n",
       "      <th>month_year</th>\n",
       "      <th></th>\n",
       "    </tr>\n",
       "  </thead>\n",
       "  <tbody>\n",
       "    <tr>\n",
       "      <th>Dec-2011</th>\n",
       "      <td>0.998806</td>\n",
       "    </tr>\n",
       "    <tr>\n",
       "      <th>Nov-2011</th>\n",
       "      <td>0.803813</td>\n",
       "    </tr>\n",
       "    <tr>\n",
       "      <th>Oct-2011</th>\n",
       "      <td>1.602268</td>\n",
       "    </tr>\n",
       "    <tr>\n",
       "      <th>Sep-2011</th>\n",
       "      <td>1.674332</td>\n",
       "    </tr>\n",
       "    <tr>\n",
       "      <th>Aug-2011</th>\n",
       "      <td>0.528608</td>\n",
       "    </tr>\n",
       "    <tr>\n",
       "      <th>Jul-2011</th>\n",
       "      <td>2.879594</td>\n",
       "    </tr>\n",
       "  </tbody>\n",
       "</table>\n",
       "</div>"
      ],
      "text/plain": [
       "                   0\n",
       "month_year          \n",
       "Dec-2011    0.998806\n",
       "Nov-2011    0.803813\n",
       "Oct-2011    1.602268\n",
       "Sep-2011    1.674332\n",
       "Aug-2011    0.528608\n",
       "Jul-2011    2.879594"
      ]
     },
     "execution_count": 91,
     "metadata": {},
     "output_type": "execute_result"
    }
   ],
   "source": [
    "coefficients = lr.coef_.reshape(6, 1) # Chuyển đổi kích thước Linreg coef \n",
    "df = pd.DataFrame(coefficients, index=X_train.columns) #Tạo DataFrame mới\n",
    "df"
   ]
  },
  {
   "cell_type": "code",
   "execution_count": null,
   "id": "03a475d7",
   "metadata": {},
   "outputs": [],
   "source": [
    "#Multiple Linear Regression for predicting CLV \n",
    "#CLV = 208.50969617+ [Dec-2011] *0.998806+ [Nov-2011]*0.803813+ ... + [Jul-2011]*2.879594"
   ]
  },
  {
   "cell_type": "markdown",
   "id": "06f7f5ed",
   "metadata": {},
   "source": [
    "How well does the Model fit the data?"
   ]
  },
  {
   "cell_type": "code",
   "execution_count": 92,
   "id": "d19df125",
   "metadata": {},
   "outputs": [
    {
     "name": "stdout",
     "output_type": "stream",
     "text": [
      "R-Square: 0.960332355446121\n"
     ]
    }
   ],
   "source": [
    "from sklearn import metrics # compute the R Square for model \n",
    "print(\"R-Square:\", metrics.r2_score(y_test, y_pred))"
   ]
  },
  {
   "cell_type": "markdown",
   "id": "ddcba587",
   "metadata": {},
   "source": [
    "Model Evaluation Mean Absolute Error (MAE) is the mean of the absolute value of the errors. Mean Squared Error (MSE) is the mean of the squared errors. Root Mean Squared Error (RMSE) is the square root of the mean of the squared errors."
   ]
  },
  {
   "cell_type": "code",
   "execution_count": 95,
   "id": "4aff3224",
   "metadata": {},
   "outputs": [
    {
     "name": "stdout",
     "output_type": "stream",
     "text": [
      "MAE: 595.0282284701221\n",
      "MSE 2114139.8898678944\n",
      "RMSE: 1454.008215199589\n"
     ]
    }
   ],
   "source": [
    "#calculate MAE using scikit-Learn \n",
    "print(\"MAE:\", metrics.mean_absolute_error(y_test,y_pred)) \n",
    "#calculate mean squared error \n",
    "print(\"MSE\", metrics.mean_squared_error(y_test, y_pred)) \n",
    "#compute the RMSE of our predictions \n",
    "print(\"RMSE:\", np.sqrt(metrics.mean_squared_error(y_test, y_pred)))"
   ]
  },
  {
   "cell_type": "code",
   "execution_count": null,
   "id": "cb23afc1",
   "metadata": {},
   "outputs": [],
   "source": []
  }
 ],
 "metadata": {
  "kernelspec": {
   "display_name": "Python 3 (ipykernel)",
   "language": "python",
   "name": "python3"
  },
  "language_info": {
   "codemirror_mode": {
    "name": "ipython",
    "version": 3
   },
   "file_extension": ".py",
   "mimetype": "text/x-python",
   "name": "python",
   "nbconvert_exporter": "python",
   "pygments_lexer": "ipython3",
   "version": "3.11.4"
  }
 },
 "nbformat": 4,
 "nbformat_minor": 5
}
